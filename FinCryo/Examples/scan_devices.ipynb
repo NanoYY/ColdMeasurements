{
 "cells": [
  {
   "cell_type": "code",
   "execution_count": 1,
   "id": "45e0152a",
   "metadata": {},
   "outputs": [
    {
     "name": "stderr",
     "output_type": "stream",
     "text": [
      "C:\\Users\\Demag\\anaconda3\\lib\\site-packages\\scipy\\__init__.py:146: UserWarning: A NumPy version >=1.16.5 and <1.23.0 is required for this version of SciPy (detected version 1.26.1\n",
      "  warnings.warn(f\"A NumPy version >={np_minversion} and <{np_maxversion}\"\n"
     ]
    }
   ],
   "source": [
    "import pyvisa\n",
    "import scipy.io\n",
    "import matplotlib\n",
    "import matplotlib.pyplot as plt\n",
    "import datetime\n",
    "import os\n",
    "import time\n",
    "from numpy import *\n",
    "import numpy as np"
   ]
  },
  {
   "cell_type": "code",
   "execution_count": 2,
   "id": "1a42da99",
   "metadata": {},
   "outputs": [
    {
     "name": "stdout",
     "output_type": "stream",
     "text": [
      "2 Found instrument at GPIB0::13::INSTR ->  Agilent Technologies,33510B,MY52200739,3.03-1.19-2.00-52-0\n",
      "5 Found instrument at GPIB0::18::INSTR ->  ANRITSU,MS2830A,6200847105,4.09.01\n",
      "11 Found instrument at GPIB0::26::INSTR ->  HEWLETT-PACKARD,33120A,0,7.0-5.0-1.\n",
      "13 Found instrument at GPIB0::30::INSTR ->  Stanford_Research_Systems,SR844,s/n48867,ver1.00\n",
      "18 Found instrument at TCPIP0::169.254.36.111::hislip0::INSTR ->  Rohde-Schwarz,ZNB20-2Port,1311601062102129,3.4\n"
     ]
    }
   ],
   "source": [
    "rm = pyvisa.ResourceManager()\n",
    "list_of_instrument = rm.list_resources()\n",
    "for i in range(len(list_of_instrument)):\n",
    "    my_instrument = rm.open_resource(list_of_instrument[i])\n",
    "    try:\n",
    "        listen = my_instrument.query('*IDN?')\n",
    "        print(i, 'Found instrument at', list_of_instrument[i], '-> ', listen[:-2])\n",
    "    except: pass"
   ]
  },
  {
   "cell_type": "markdown",
   "id": "6d2826b9",
   "metadata": {},
   "source": [
    "# This might help to fine TCPIP connections"
   ]
  },
  {
   "cell_type": "code",
   "execution_count": 3,
   "id": "60337d37",
   "metadata": {},
   "outputs": [
    {
     "name": "stderr",
     "output_type": "stream",
     "text": [
      "C:\\Users\\Demag\\anaconda3\\lib\\site-packages\\pyvisa_py\\tcpip.py:121: UserWarning: TCPIP::hislip resource discovery requires the zeroconf package to be installed... try 'pip install zeroconf'\n",
      "  warnings.warn(\n"
     ]
    },
    {
     "data": {
      "text/plain": [
       "('TCPIP::169.254.5.91::INSTR',\n",
       " 'TCPIP::169.254.36.111::INSTR',\n",
       " 'TCPIP::169.254.58.10::INSTR',\n",
       " 'TCPIP::169.254.5.91::INSTR',\n",
       " 'TCPIP::169.254.36.111::INSTR',\n",
       " 'TCPIP::169.254.58.10::INSTR',\n",
       " 'TCPIP::169.254.5.91::INSTR',\n",
       " 'TCPIP::169.254.36.111::INSTR',\n",
       " 'TCPIP::169.254.58.10::INSTR')"
      ]
     },
     "execution_count": 3,
     "metadata": {},
     "output_type": "execute_result"
    }
   ],
   "source": [
    "import pyvisa as visa\n",
    "resources = visa.ResourceManager('@py')\n",
    "resources.list_resources()"
   ]
  },
  {
   "cell_type": "markdown",
   "id": "09274da0",
   "metadata": {},
   "source": [
    "# In case you get timeout error, try to read raw data"
   ]
  },
  {
   "cell_type": "code",
   "execution_count": 61,
   "id": "fc32837d",
   "metadata": {},
   "outputs": [],
   "source": [
    "# sr = sr.decode('ASCII')\n",
    "\n",
    "sr = sr.split(',')"
   ]
  },
  {
   "cell_type": "code",
   "execution_count": 71,
   "id": "4cfdb723",
   "metadata": {},
   "outputs": [
    {
     "data": {
      "text/plain": [
       "0.0"
      ]
     },
     "execution_count": 71,
     "metadata": {},
     "output_type": "execute_result"
    }
   ],
   "source": [
    "import pyvisa\n",
    "rm = pyvisa.ResourceManager()\n",
    "\n",
    "\n",
    "my_instrument = rm.open_resource('GPIB0::10::INSTR', query_delay=1.0)\n",
    "\n",
    "sr = my_instrument.query('FSTR? 0')\n",
    "\n",
    "# sr = my_instrument.read_raw()\n",
    "float(sr)"
   ]
  },
  {
   "cell_type": "code",
   "execution_count": 62,
   "id": "b024fd31",
   "metadata": {},
   "outputs": [
    {
     "data": {
      "text/plain": [
       "'+6.2638670e-001'"
      ]
     },
     "execution_count": 62,
     "metadata": {},
     "output_type": "execute_result"
    }
   ],
   "source": [
    "sr[0]"
   ]
  },
  {
   "cell_type": "code",
   "execution_count": 29,
   "id": "a925910e",
   "metadata": {},
   "outputs": [
    {
     "data": {
      "image/png": "[encoded data removed]",
      "text/plain": [
       "<Figure size 432x288 with 1 Axes>"
      ]
     },
     "metadata": {
      "needs_background": "light"
     },
     "output_type": "display_data"
    }
   ],
   "source": [
    "import pyvisa\n",
    "import matplotlib.pyplot as plt\n",
    "rm = pyvisa.ResourceManager()\n",
    "\n",
    "my_instrument = rm.open_resource('GPIB0::30::INSTR')\n",
    "\n",
    "# my_instrument.query('*IDN?')\n",
    "for i in range(200):\n",
    "    my_instrument.write('*CLS')\n",
    "    my_instrument.write('OUTP?2')\n",
    "    plt.plot(i, float(my_instrument.read_raw())*1e7, '.')"
   ]
  },
  {
   "cell_type": "code",
   "execution_count": 7,
   "id": "3a07dbe4",
   "metadata": {},
   "outputs": [],
   "source": [
    "my_instrument.close()"
   ]
  },
  {
   "cell_type": "code",
   "execution_count": null,
   "id": "a25fa3c2",
   "metadata": {},
   "outputs": [],
   "source": []
  }
 ],
 "metadata": {
  "kernelspec": {
   "display_name": "Python 3 (ipykernel)",
   "language": "python",
   "name": "python3"
  },
  "language_info": {
   "codemirror_mode": {
    "name": "ipython",
    "version": 3
   },
   "file_extension": ".py",
   "mimetype": "text/x-python",
   "name": "python",
   "nbconvert_exporter": "python",
   "pygments_lexer": "ipython3",
   "version": "3.9.12"
  }
 },
 "nbformat": 4,
 "nbformat_minor": 5
}
