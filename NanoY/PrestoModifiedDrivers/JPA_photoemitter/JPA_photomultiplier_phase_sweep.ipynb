{
 "cells": [
  {
   "cell_type": "code",
   "execution_count": 62,
   "id": "f9f4243a-382c-46d9-a1bc-b0361e8b6f4f",
   "metadata": {},
   "outputs": [
    {
     "name": "stdout",
     "output_type": "stream",
     "text": [
      "Folder E:\\Data\\2025\\SNAILJPA\\Coupler_May\\JPA_photomultiplier\\Phase_sweep created!\n"
     ]
    }
   ],
   "source": [
    "from presto_mod.pulsed import pulse_test as pt\n",
    "from presto_mod.pulsed import pulsed_test_with_probe as ptpr\n",
    "from presto_mod.pulsed import PhotonSplitting as PS\n",
    "from presto_mod.pulsed import PhotonSplitting_4ports as PS4\n",
    "\n",
    "import matplotlib.patches as patches\n",
    "import time\n",
    "import numpy as np\n",
    "import scipy.io as sio\n",
    "\n",
    "from scipy.io import savemat\n",
    "from scipy.io import loadmat\n",
    "\n",
    "import matplotlib\n",
    "import matplotlib.pyplot as plt\n",
    "\n",
    "from datetime import datetime, timedelta\n",
    "import time\n",
    "import pyvisa\n",
    "\n",
    "\n",
    "import os\n",
    "Global_data_adress = r\"E:\\Data\\2025\\SNAILJPA\\Coupler_May\\JPA_photomultiplier\"\n",
    "exp_name = 'Phase_sweep'\n",
    "file_folder = Global_data_adress+'\\\\'+exp_name\n",
    "if not os.path.exists(file_folder):\n",
    "  os.mkdir(file_folder)\n",
    "  print(\"Folder %s created!\" % file_folder)\n",
    "else:\n",
    "  print(\"Folder %s already exists\" % file_folder)\n",
    "\n",
    "presto_address = \"169.254.3.14\"  # your Presto IP address"
   ]
  },
  {
   "cell_type": "code",
   "execution_count": 63,
   "id": "e06ecfee-228a-4717-987d-777d540c58f0",
   "metadata": {},
   "outputs": [],
   "source": [
    "def cut_h(f, f0, f1):\n",
    "    return np.heaviside(f - f0, 1) - np.heaviside(f - f1, 1)\n",
    "\n",
    "def low_pass(signal, dt, f0, f1):\n",
    "    fft_signal = np.fft.fft(signal)\n",
    "    freqs = np.fft.fftfreq(len(signal), d=dt)\n",
    "    window = cut_h(np.abs(freqs), f0, f1)\n",
    "    return np.fft.ifft(fft_signal * window)  # Return the filtered FFT\n",
    "\n",
    "# def hann_window(freqs, f0, f1):\n",
    "#     \"\"\"\n",
    "#     Smooth Hann window between f0 and f1.\n",
    "#     \"\"\"\n",
    "#     window = np.zeros_like(freqs)\n",
    "#     band = (freqs >= f0) & (freqs <= f1)\n",
    "#     if np.any(band):\n",
    "#         n = np.sum(band)\n",
    "#         hann = 0.5 - 0.5 * np.cos(2 * np.pi * np.linspace(0, 1, n))\n",
    "#         window[band] = hann\n",
    "#     return window\n",
    "\n",
    "# def low_pass_hann_complex(matrix, dt, f0, f1):\n",
    "#     \"\"\"\n",
    "#     Low-pass filter for a complex NxM signal along axis=1 using Hann window.\n",
    "\n",
    "#     Parameters:\n",
    "#         matrix (np.ndarray): Input (N x M) complex matrix.\n",
    "#         dt (float): Time interval along columns (axis=1).\n",
    "#         f0, f1 (float): Frequency band to pass [f0, f1].\n",
    "\n",
    "#     Returns:\n",
    "#         np.ndarray: Complex filtered signal (N x M).\n",
    "#     \"\"\"\n",
    "#     N, M = matrix.shape\n",
    "#     freqs = np.fft.fftfreq(M, d=dt)  # shape: (M,)\n",
    "\n",
    "#     # Create Hann window in frequency domain (shape: (1, M))\n",
    "#     window = hann_window(np.abs(freqs), f0, f1).reshape(1, M)\n",
    "\n",
    "#     # FFT along axis=1 (columns)\n",
    "#     fft_matrix = np.fft.fft(matrix, axis=1)\n",
    "\n",
    "#     # Apply filter window\n",
    "#     filtered_fft = fft_matrix * window  # broadcasted\n",
    "\n",
    "#     # Inverse FFT to return filtered signal\n",
    "#     return np.fft.ifft(filtered_fft, axis=1)\n"
   ]
  },
  {
   "cell_type": "code",
   "execution_count": 64,
   "id": "506593d1-2671-46ba-b283-97add88634ae",
   "metadata": {},
   "outputs": [],
   "source": [
    "def hann(idx): \n",
    "    return np.hanning(len(idx))\n",
    "    \n",
    "def cut_h(f, fft_signal, f0, f1):\n",
    "    # changing array order\n",
    "    sort_idx = np.argsort(f)\n",
    "    sorted_arr = f[sort_idx]\n",
    "    sorted_arr_fft = fft_signal[sort_idx]\n",
    "    original_idx = np.argsort(sort_idx)\n",
    "\n",
    "    cut_range = np.heaviside(sorted_arr - f0, 1) - np.heaviside(sorted_arr - f1, 1)\n",
    "    idx = np.where(cut_range!=0)[0]\n",
    "    hann_f = hann(idx)\n",
    "    for i in range(len(cut_range)):\n",
    "        if i <= idx[-1] and i>=idx[0]:\n",
    "            cut_range[i] = cut_range[i]*hann_f[i-idx[0]]\n",
    "\n",
    "    return (sorted_arr_fft*cut_range)[original_idx]\n",
    "\n",
    "def low_pass(signal, dt, f0, f1):\n",
    "\n",
    "    if len(signal.shape)==1:\n",
    "    \n",
    "        fft_signal = np.fft.fft(signal)\n",
    "        freqs = np.fft.fftfreq(len(signal), d=dt)\n",
    "        fig, ax = plt.subplots()\n",
    "        ax.plot(freqs, fft_signal)\n",
    "        \n",
    "        window = cut_h(freqs, fft_signal, f0, f1)\n",
    "        cut_signal = np.fft.ifft(window)\n",
    "    else: \n",
    "        cut_signal = np.zeros((len(signal), len(signal[0])))*1j\n",
    "        for i in range(len(signal)):\n",
    "            mini_signal = signal[i]\n",
    "\n",
    "            fft_signal = np.fft.fft(mini_signal)\n",
    "            freqs = np.fft.fftfreq(len(mini_signal), d=dt)\n",
    "            \n",
    "            window = cut_h(freqs, fft_signal, f0, f1)\n",
    "            cut_signal[i] = np.fft.ifft(window)\n",
    "            \n",
    "    return  cut_signal # Return the filtered FFT\n",
    "\n",
    "signal = np.array([np.random.rand(500,500)])\n",
    "\n",
    "# plt.plot(np.fft.fftshift(np.fft.fft(signal[0,0,:])))\n",
    "# a = low_pass(signal[0,:,:], 1e-9, -2e8, 2e8)\n",
    "# plt.plot(np.fft.fftshift(np.fft.fft(a[0,:])))"
   ]
  },
  {
   "cell_type": "code",
   "execution_count": 240,
   "id": "56d4f6a6-71a0-4da0-ae0b-8aee1db8003f",
   "metadata": {},
   "outputs": [
    {
     "name": "stdout",
     "output_type": "stream",
     "text": [
      "2025-05-12 11:24:30.000550\n",
      "LO frequency: 8781475500.0\n",
      "IF frequency: 2927158500.0\n",
      "Readout frequency: 5854317000.0\n"
     ]
    }
   ],
   "source": [
    "print(datetime.now())\n",
    "\n",
    "omega2 = 5.854317e9*2\n",
    "if_freq  = 3.6e9\n",
    "lo_freq = omega2-if_freq\n",
    "hc_freq = 5.854317e9\n",
    "# if_freq  = omega2/2\n",
    "Readout_freq = omega2/2\n",
    "\n",
    "lo_freq = omega2*3/4\n",
    "if_freq  = lo_freq-omega2/2\n",
    "\n",
    "\n",
    "print(\"LO frequency:\", lo_freq)\n",
    "print(\"IF frequency:\", if_freq)\n",
    "print(\"Readout frequency:\", Readout_freq)\n",
    "\n",
    "Readout_phase = np.pi*0\n",
    "HC_phase = 0\n",
    "\n",
    "Downsampling = 2\n",
    "pulse_repeats = 1\n",
    "\n",
    "delay = 200e-9\n",
    "LO_duration=600e-9\n",
    "IF_duration= 16e-9\n",
    "PR_duration = 16e-9\n",
    "HC_duration = 0e9\n",
    "\n",
    "readout_delay = 8*92e-9\n",
    "print('Readout delay:', readout_delay*1e9)\n",
    "Readout_duration = (PR_duration+delay*2)*pulse_repeats\n",
    "wait_delay = (readout_delay+Readout_duration)*5\n",
    "pulse_delay = 200e-9\n",
    "\n",
    "LO_amp = 0.8\n",
    "IF_amp = 0.8\n",
    "PR_amp = 0.8\n",
    "HC_amp = 0\n",
    "Probe_phase = 0.1*np.pi/2\n",
    "\n",
    "num_repeats = 1 # 400000\n",
    "num_averages = 10000000 \n",
    "\n",
    "\n",
    "experiment = PS.PhotonSplitting(\n",
    "        LO_port=1, # LO\n",
    "        IF_port=9, # IF\n",
    "        PR_port=6,  # 6: JPA in, 7: HC, 8: Pump \n",
    "        HC_port=7,  # 6: JPA in, 7: HC, 8: Pump \n",
    "        readout_port1=7,  # TWPA 1\n",
    "        readout_port2=6,  # TWPA 2\n",
    "        file_folder = file_folder,\n",
    "        file_name = 'phase_sweep',\n",
    "        \n",
    "        LO_freq=lo_freq,\n",
    "        LO_amp=LO_amp,\n",
    "        LO_duration=LO_duration,\n",
    "        \n",
    "        IF_freq=if_freq,\n",
    "        IF_amp = IF_amp,\n",
    "        IF_duration=IF_duration,       \n",
    "\n",
    "        PR_freq = Readout_freq,\n",
    "        PR_amp = PR_amp,\n",
    "        PR_duration = PR_duration, \n",
    "        probe_phase=Probe_phase,\n",
    "\n",
    "        HC_freq = hc_freq,\n",
    "        HC_amp = HC_amp,\n",
    "        HC_duration = HC_duration,\n",
    "        HC_phase = HC_phase,\n",
    "\n",
    "        readout_freq=Readout_freq,\n",
    "        readout_phase=Readout_phase,\n",
    "        downsampling=Downsampling,\n",
    "        \n",
    "        readout_duration=Readout_duration,\n",
    "        delay=delay,\n",
    "        \n",
    "        wait_delay=wait_delay,\n",
    "        readout_delay=readout_delay,\n",
    "\n",
    "        pulse_repeats = pulse_repeats,\n",
    "        num_repeats=num_repeats, \n",
    "        num_averages=num_averages,\n",
    "        # envelope_function = sin2, \n",
    "\n",
    "        sampling_avg = 1,\n",
    "    )"
   ]
  },
  {
   "cell_type": "markdown",
   "id": "0f8b4972-6179-41e5-b68c-9e60994cd60a",
   "metadata": {},
   "source": [
    "# Test pulse propogation"
   ]
  },
  {
   "cell_type": "code",
   "execution_count": 241,
   "id": "ee9464a6-741c-4058-a927-fd0d921f1751",
   "metadata": {},
   "outputs": [
    {
     "name": "stdout",
     "output_type": "stream",
     "text": [
      "New run started at 2025-05-12 11:24:30.805618\r"
     ]
    },
    {
     "ename": "KeyboardInterrupt",
     "evalue": "",
     "output_type": "error",
     "traceback": [
      "\u001b[1;31m---------------------------------------------------------------------------\u001b[0m",
      "\u001b[1;31mKeyboardInterrupt\u001b[0m                         Traceback (most recent call last)",
      "Cell \u001b[1;32mIn[241], line 1\u001b[0m\n\u001b[1;32m----> 1\u001b[0m att_list \u001b[38;5;241m=\u001b[39m experiment\u001b[38;5;241m.\u001b[39mrun(presto_address)\n\u001b[0;32m      2\u001b[0m data \u001b[38;5;241m=\u001b[39m att_list[\u001b[38;5;124m'\u001b[39m\u001b[38;5;124mdata\u001b[39m\u001b[38;5;124m'\u001b[39m]\n\u001b[0;32m      3\u001b[0m TWPA1 \u001b[38;5;241m=\u001b[39m data[:,\u001b[38;5;241m0\u001b[39m,:]\n",
      "File \u001b[1;32mf:\\coldmeasurements\\nanoy\\prestomodifieddrivers\\presto_mod\\pulsed\\PhotonSplitting.py:437\u001b[0m, in \u001b[0;36mPhotonSplitting.run\u001b[1;34m(self, presto_address, presto_port, ext_ref_clk, run_count)\u001b[0m\n\u001b[0;32m    430\u001b[0m \u001b[38;5;66;03m#\u001b[39;00m\n\u001b[0;32m    431\u001b[0m \u001b[38;5;66;03m# T += self.LO_duration\u001b[39;00m\n\u001b[0;32m    432\u001b[0m \u001b[38;5;66;03m# # Wait for decay\u001b[39;00m\n\u001b[0;32m    433\u001b[0m \u001b[38;5;66;03m# T += self.wait_delay\u001b[39;00m\n\u001b[0;32m    435\u001b[0m T \u001b[38;5;241m=\u001b[39m \u001b[38;5;28mself\u001b[39m\u001b[38;5;241m.\u001b[39mwait_delay\n\u001b[1;32m--> 437\u001b[0m pls\u001b[38;5;241m.\u001b[39mrun(\n\u001b[0;32m    438\u001b[0m     period\u001b[38;5;241m=\u001b[39mT,\n\u001b[0;32m    439\u001b[0m     repeat_count\u001b[38;5;241m=\u001b[39m\u001b[38;5;28mself\u001b[39m\u001b[38;5;241m.\u001b[39mnum_repeats,\n\u001b[0;32m    440\u001b[0m     num_averages\u001b[38;5;241m=\u001b[39m\u001b[38;5;28mself\u001b[39m\u001b[38;5;241m.\u001b[39mnum_averages,\n\u001b[0;32m    441\u001b[0m     print_time\u001b[38;5;241m=\u001b[39m\u001b[38;5;28;01mFalse\u001b[39;00m,\n\u001b[0;32m    442\u001b[0m )\n\u001b[0;32m    444\u001b[0m \u001b[38;5;66;03m# Sampling rate adjustment\u001b[39;00m\n\u001b[0;32m    446\u001b[0m \u001b[38;5;28;01mif\u001b[39;00m \u001b[38;5;28mself\u001b[39m\u001b[38;5;241m.\u001b[39msampling_avg\u001b[38;5;241m>\u001b[39m\u001b[38;5;241m1\u001b[39m:\n\u001b[0;32m    447\u001b[0m     \u001b[38;5;66;03m# time array is shortened according to the new averaged data.\u001b[39;00m\n",
      "File \u001b[1;32m~\\AppData\\Roaming\\Python\\Python311\\site-packages\\presto\\pulsed.py:3267\u001b[0m, in \u001b[0;36mPulsed.run\u001b[1;34m(self, period, repeat_count, num_averages, print_time, verbose, trigger, prefetch_matches)\u001b[0m\n\u001b[0;32m   3260\u001b[0m \u001b[38;5;28;01mif\u001b[39;00m \u001b[38;5;129;01mnot\u001b[39;00m \u001b[38;5;28mself\u001b[39m\u001b[38;5;241m.\u001b[39mdry_run:\n\u001b[0;32m   3261\u001b[0m     \u001b[38;5;28mself\u001b[39m\u001b[38;5;241m.\u001b[39m_setup(\n\u001b[0;32m   3262\u001b[0m         period_clk,\n\u001b[0;32m   3263\u001b[0m         all_cmds,\n\u001b[0;32m   3264\u001b[0m         nr_store_ch,\n\u001b[0;32m   3265\u001b[0m     )\n\u001b[1;32m-> 3267\u001b[0m     \u001b[38;5;28mself\u001b[39m\u001b[38;5;241m.\u001b[39m_run(\n\u001b[0;32m   3268\u001b[0m         trigger,\n\u001b[0;32m   3269\u001b[0m         exp_runtime_clk,\n\u001b[0;32m   3270\u001b[0m         prefetch_matches,\n\u001b[0;32m   3271\u001b[0m     )\n\u001b[0;32m   3273\u001b[0m \u001b[38;5;28;01melse\u001b[39;00m:\n\u001b[0;32m   3274\u001b[0m     \u001b[38;5;28mself\u001b[39m\u001b[38;5;241m.\u001b[39m_status \u001b[38;5;241m=\u001b[39m MeasurementStatus\u001b[38;5;241m.\u001b[39mDONE\n",
      "File \u001b[1;32m~\\AppData\\Roaming\\Python\\Python311\\site-packages\\presto\\pulsed.py:2984\u001b[0m, in \u001b[0;36mPulsed._run\u001b[1;34m(self, trigger, exp_runtime_clk, prefetch_matches)\u001b[0m\n\u001b[0;32m   2981\u001b[0m         \u001b[38;5;28mprint\u001b[39m(\u001b[38;5;124m\"\u001b[39m\u001b[38;5;130;01m\\r\u001b[39;00m\u001b[38;5;124m\"\u001b[39m \u001b[38;5;241m+\u001b[39m msg, end\u001b[38;5;241m=\u001b[39m\u001b[38;5;124m\"\u001b[39m\u001b[38;5;130;01m\\r\u001b[39;00m\u001b[38;5;124m\"\u001b[39m, flush\u001b[38;5;241m=\u001b[39m\u001b[38;5;28;01mTrue\u001b[39;00m)\n\u001b[0;32m   2982\u001b[0m         prev_print_len \u001b[38;5;241m=\u001b[39m print_len\n\u001b[1;32m-> 2984\u001b[0m     time\u001b[38;5;241m.\u001b[39msleep(\u001b[38;5;241m0.1\u001b[39m)\n\u001b[0;32m   2986\u001b[0m \u001b[38;5;28;01mif\u001b[39;00m \u001b[38;5;28mself\u001b[39m\u001b[38;5;241m.\u001b[39m_status \u001b[38;5;129;01mis\u001b[39;00m MeasurementStatus\u001b[38;5;241m.\u001b[39mABORTED:\n\u001b[0;32m   2987\u001b[0m     \u001b[38;5;66;03m# closing the socket should let conductor abort\u001b[39;00m\n\u001b[0;32m   2988\u001b[0m     \u001b[38;5;28mself\u001b[39m\u001b[38;5;241m.\u001b[39mclose()\n",
      "\u001b[1;31mKeyboardInterrupt\u001b[0m: "
     ]
    }
   ],
   "source": [
    "att_list = experiment.run(presto_address)\n",
    "data = att_list['data']\n",
    "TWPA1 = data[:,0,:]\n",
    "TWPA2 = data[:,1,:]\n",
    "print(TWPA1.shape)"
   ]
  },
  {
   "cell_type": "code",
   "execution_count": 230,
   "id": "1a3c2cf3-d531-4343-af1f-8a9c0c1b2607",
   "metadata": {},
   "outputs": [
    {
     "data": {
      "text/plain": [
       "[<matplotlib.lines.Line2D at 0x2661400b9d0>]"
      ]
     },
     "execution_count": 230,
     "metadata": {},
     "output_type": "execute_result"
    },
    {
     "data": {
      "image/png": "[encoded data removed]",
      "text/plain": [
       "<Figure size 640x480 with 2 Axes>"
      ]
     },
     "metadata": {},
     "output_type": "display_data"
    }
   ],
   "source": [
    "fig, ax = plt.subplots(2, 1)\n",
    "start_i = 50\n",
    "stop_i = 140\n",
    "ax[0].plot(np.abs(np.mean(TWPA1[:,:],axis=0)))\n",
    "ax[0].plot(np.abs(np.mean(TWPA2[:,:],axis=0)))\n",
    "\n",
    "# ji = 101\n",
    "# ax[0].plot(np.abs(TWPA1[ji,:]))\n",
    "# ax[0].plot(np.abs(TWPA2[ji,:]))\n",
    "\n",
    "# ax[0].plot(np.abs(np.mean(TWPA1[:,start_i:stop_i],axis=0)))\n",
    "\n",
    "ax[1].plot(np.unwrap(np.angle(np.mean(TWPA1[:,:],axis=0))))\n",
    "ax[1].plot(np.unwrap(np.angle(np.mean(TWPA2[:,:],axis=0))))"
   ]
  },
  {
   "cell_type": "markdown",
   "id": "c7c05537-5c67-41c0-9455-f1a8d5e0cf69",
   "metadata": {},
   "source": [
    "# Phase sweep"
   ]
  },
  {
   "cell_type": "code",
   "execution_count": 242,
   "id": "1ac824f0-618b-49cb-9082-112e559a92cf",
   "metadata": {},
   "outputs": [
    {
     "name": "stdout",
     "output_type": "stream",
     "text": [
      "2025-05-12 11:24:34.677894\n",
      "Run finishedted at 2025-05-12 11:24:34.682724\n",
      "Run finishedted at 2025-05-12 11:25:14.098908\n",
      "Run finishedted at 2025-05-12 11:25:53.501835\n",
      "Run finishedted at 2025-05-12 11:26:32.973542\n",
      "Run finishedted at 2025-05-12 11:27:12.359796\n",
      "Run finishedted at 2025-05-12 11:27:51.758482\n",
      "Run finishedted at 2025-05-12 11:28:31.171786\n",
      "Run finishedted at 2025-05-12 11:29:10.582026\n",
      "Run finishedted at 2025-05-12 11:29:50.066760\n",
      "Run finishedted at 2025-05-12 11:30:29.444815\n",
      "Run finishedted at 2025-05-12 11:31:08.916030\n",
      "Run finishedted at 2025-05-12 11:31:48.370898\n",
      "Run finishedted at 2025-05-12 11:32:27.824452\n",
      "Run finishedted at 2025-05-12 11:33:07.206995\n",
      "New run started at 2025-05-12 11:33:46.614364\r"
     ]
    },
    {
     "ename": "KeyboardInterrupt",
     "evalue": "",
     "output_type": "error",
     "traceback": [
      "\u001b[1;31m---------------------------------------------------------------------------\u001b[0m",
      "\u001b[1;31mKeyboardInterrupt\u001b[0m                         Traceback (most recent call last)",
      "Cell \u001b[1;32mIn[242], line 13\u001b[0m\n\u001b[0;32m     10\u001b[0m experiment\u001b[38;5;241m.\u001b[39mprobe_phase \u001b[38;5;241m=\u001b[39m Probe_phas[i]\n\u001b[0;32m     11\u001b[0m \u001b[38;5;28;01mfor\u001b[39;00m j \u001b[38;5;129;01min\u001b[39;00m \u001b[38;5;28mrange\u001b[39m(\u001b[38;5;28mlen\u001b[39m(Repeats)):\n\u001b[1;32m---> 13\u001b[0m     att_list \u001b[38;5;241m=\u001b[39m experiment\u001b[38;5;241m.\u001b[39mrun(presto_address)\n\u001b[0;32m     14\u001b[0m     data \u001b[38;5;241m=\u001b[39m att_list[\u001b[38;5;124m'\u001b[39m\u001b[38;5;124mdata\u001b[39m\u001b[38;5;124m'\u001b[39m]\n\u001b[0;32m     15\u001b[0m     TWPA1 \u001b[38;5;241m=\u001b[39m data[:,\u001b[38;5;241m0\u001b[39m,:]\n",
      "File \u001b[1;32mf:\\coldmeasurements\\nanoy\\prestomodifieddrivers\\presto_mod\\pulsed\\PhotonSplitting.py:437\u001b[0m, in \u001b[0;36mPhotonSplitting.run\u001b[1;34m(self, presto_address, presto_port, ext_ref_clk, run_count)\u001b[0m\n\u001b[0;32m    430\u001b[0m \u001b[38;5;66;03m#\u001b[39;00m\n\u001b[0;32m    431\u001b[0m \u001b[38;5;66;03m# T += self.LO_duration\u001b[39;00m\n\u001b[0;32m    432\u001b[0m \u001b[38;5;66;03m# # Wait for decay\u001b[39;00m\n\u001b[0;32m    433\u001b[0m \u001b[38;5;66;03m# T += self.wait_delay\u001b[39;00m\n\u001b[0;32m    435\u001b[0m T \u001b[38;5;241m=\u001b[39m \u001b[38;5;28mself\u001b[39m\u001b[38;5;241m.\u001b[39mwait_delay\n\u001b[1;32m--> 437\u001b[0m pls\u001b[38;5;241m.\u001b[39mrun(\n\u001b[0;32m    438\u001b[0m     period\u001b[38;5;241m=\u001b[39mT,\n\u001b[0;32m    439\u001b[0m     repeat_count\u001b[38;5;241m=\u001b[39m\u001b[38;5;28mself\u001b[39m\u001b[38;5;241m.\u001b[39mnum_repeats,\n\u001b[0;32m    440\u001b[0m     num_averages\u001b[38;5;241m=\u001b[39m\u001b[38;5;28mself\u001b[39m\u001b[38;5;241m.\u001b[39mnum_averages,\n\u001b[0;32m    441\u001b[0m     print_time\u001b[38;5;241m=\u001b[39m\u001b[38;5;28;01mFalse\u001b[39;00m,\n\u001b[0;32m    442\u001b[0m )\n\u001b[0;32m    444\u001b[0m \u001b[38;5;66;03m# Sampling rate adjustment\u001b[39;00m\n\u001b[0;32m    446\u001b[0m \u001b[38;5;28;01mif\u001b[39;00m \u001b[38;5;28mself\u001b[39m\u001b[38;5;241m.\u001b[39msampling_avg\u001b[38;5;241m>\u001b[39m\u001b[38;5;241m1\u001b[39m:\n\u001b[0;32m    447\u001b[0m     \u001b[38;5;66;03m# time array is shortened according to the new averaged data.\u001b[39;00m\n",
      "File \u001b[1;32m~\\AppData\\Roaming\\Python\\Python311\\site-packages\\presto\\pulsed.py:3267\u001b[0m, in \u001b[0;36mPulsed.run\u001b[1;34m(self, period, repeat_count, num_averages, print_time, verbose, trigger, prefetch_matches)\u001b[0m\n\u001b[0;32m   3260\u001b[0m \u001b[38;5;28;01mif\u001b[39;00m \u001b[38;5;129;01mnot\u001b[39;00m \u001b[38;5;28mself\u001b[39m\u001b[38;5;241m.\u001b[39mdry_run:\n\u001b[0;32m   3261\u001b[0m     \u001b[38;5;28mself\u001b[39m\u001b[38;5;241m.\u001b[39m_setup(\n\u001b[0;32m   3262\u001b[0m         period_clk,\n\u001b[0;32m   3263\u001b[0m         all_cmds,\n\u001b[0;32m   3264\u001b[0m         nr_store_ch,\n\u001b[0;32m   3265\u001b[0m     )\n\u001b[1;32m-> 3267\u001b[0m     \u001b[38;5;28mself\u001b[39m\u001b[38;5;241m.\u001b[39m_run(\n\u001b[0;32m   3268\u001b[0m         trigger,\n\u001b[0;32m   3269\u001b[0m         exp_runtime_clk,\n\u001b[0;32m   3270\u001b[0m         prefetch_matches,\n\u001b[0;32m   3271\u001b[0m     )\n\u001b[0;32m   3273\u001b[0m \u001b[38;5;28;01melse\u001b[39;00m:\n\u001b[0;32m   3274\u001b[0m     \u001b[38;5;28mself\u001b[39m\u001b[38;5;241m.\u001b[39m_status \u001b[38;5;241m=\u001b[39m MeasurementStatus\u001b[38;5;241m.\u001b[39mDONE\n",
      "File \u001b[1;32m~\\AppData\\Roaming\\Python\\Python311\\site-packages\\presto\\pulsed.py:2984\u001b[0m, in \u001b[0;36mPulsed._run\u001b[1;34m(self, trigger, exp_runtime_clk, prefetch_matches)\u001b[0m\n\u001b[0;32m   2981\u001b[0m         \u001b[38;5;28mprint\u001b[39m(\u001b[38;5;124m\"\u001b[39m\u001b[38;5;130;01m\\r\u001b[39;00m\u001b[38;5;124m\"\u001b[39m \u001b[38;5;241m+\u001b[39m msg, end\u001b[38;5;241m=\u001b[39m\u001b[38;5;124m\"\u001b[39m\u001b[38;5;130;01m\\r\u001b[39;00m\u001b[38;5;124m\"\u001b[39m, flush\u001b[38;5;241m=\u001b[39m\u001b[38;5;28;01mTrue\u001b[39;00m)\n\u001b[0;32m   2982\u001b[0m         prev_print_len \u001b[38;5;241m=\u001b[39m print_len\n\u001b[1;32m-> 2984\u001b[0m     time\u001b[38;5;241m.\u001b[39msleep(\u001b[38;5;241m0.1\u001b[39m)\n\u001b[0;32m   2986\u001b[0m \u001b[38;5;28;01mif\u001b[39;00m \u001b[38;5;28mself\u001b[39m\u001b[38;5;241m.\u001b[39m_status \u001b[38;5;129;01mis\u001b[39;00m MeasurementStatus\u001b[38;5;241m.\u001b[39mABORTED:\n\u001b[0;32m   2987\u001b[0m     \u001b[38;5;66;03m# closing the socket should let conductor abort\u001b[39;00m\n\u001b[0;32m   2988\u001b[0m     \u001b[38;5;28mself\u001b[39m\u001b[38;5;241m.\u001b[39mclose()\n",
      "\u001b[1;31mKeyboardInterrupt\u001b[0m: "
     ]
    }
   ],
   "source": [
    "timestart = datetime.now()\n",
    "print(timestart)\n",
    "\n",
    "excluded_attrs = {\"LO_envelope_function\", \"IF_envelope_function\", \"PR_envelope_function\", \"data\"}  # Set of attributes to exclude\n",
    "\n",
    "Probe_phas = np.linspace(0, 2*np.pi, 51)\n",
    "Repeats = np.ones(1)\n",
    "\n",
    "for i in range(len(Probe_phas)):\n",
    "    experiment.probe_phase = Probe_phas[i]\n",
    "    for j in range(len(Repeats)):\n",
    "        \n",
    "        att_list = experiment.run(presto_address)\n",
    "        data = att_list['data']\n",
    "        TWPA1 = data[:,0,:]\n",
    "        TWPA2 = data[:,1,:]\n",
    "\n",
    "        attributes_list = [\n",
    "            (attr, value) for attr, value in experiment.__dict__.items() if attr not in excluded_attrs\n",
    "        ]\n",
    "        \n",
    "        sio.savemat(str(file_folder) + '\\\\JPA_PM_Phase_sweep_' + str(i) + '_' + str(j) + datetime.now().strftime(r'--%Y.%m.%d')  + '.mat', \n",
    "                    {'TWPA1': TWPA1, 'TWPA2': TWPA2, 'Probe_phas': Probe_phas, 'Current_pha': Probe_phas[i], 'attributes_list': attributes_list})\n",
    "\n",
    "timestop = datetime.now()\n",
    "print(timestop-timestart)"
   ]
  },
  {
   "cell_type": "code",
   "execution_count": 123,
   "id": "ca03cf21-d319-45b4-9a3f-e84482ce14f5",
   "metadata": {},
   "outputs": [
    {
     "data": {
      "text/plain": [
       "(1, 240)"
      ]
     },
     "execution_count": 123,
     "metadata": {},
     "output_type": "execute_result"
    }
   ],
   "source": [
    "TWPA1.shape"
   ]
  },
  {
   "cell_type": "code",
   "execution_count": null,
   "id": "de06e417-6474-4434-828d-e6bd610aca7d",
   "metadata": {},
   "outputs": [],
   "source": []
  }
 ],
 "metadata": {
  "kernelspec": {
   "display_name": "Python 3 (ipykernel)",
   "language": "python",
   "name": "python3"
  },
  "language_info": {
   "codemirror_mode": {
    "name": "ipython",
    "version": 3
   },
   "file_extension": ".py",
   "mimetype": "text/x-python",
   "name": "python",
   "nbconvert_exporter": "python",
   "pygments_lexer": "ipython3",
   "version": "3.11.7"
  }
 },
 "nbformat": 4,
 "nbformat_minor": 5
}
