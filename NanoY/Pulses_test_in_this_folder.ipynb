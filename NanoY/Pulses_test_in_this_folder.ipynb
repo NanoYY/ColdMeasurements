{
 "cells": [
  {
   "cell_type": "code",
   "execution_count": 1,
   "id": "3ee707d7-d43b-4106-9fc3-25d9c507171c",
   "metadata": {},
   "outputs": [
    {
     "ename": "ModuleNotFoundError",
     "evalue": "No module named '_base'",
     "output_type": "error",
     "traceback": [
      "\u001b[1;31m---------------------------------------------------------------------------\u001b[0m",
      "\u001b[1;31mModuleNotFoundError\u001b[0m                       Traceback (most recent call last)",
      "Cell \u001b[1;32mIn[1], line 1\u001b[0m\n\u001b[1;32m----> 1\u001b[0m \u001b[38;5;28;01mfrom\u001b[39;00m \u001b[38;5;21;01mpresto_mod\u001b[39;00m\u001b[38;5;21;01m.\u001b[39;00m\u001b[38;5;21;01mpulsed\u001b[39;00m \u001b[38;5;28;01mimport\u001b[39;00m pulse_test\n",
      "File \u001b[1;32mf:\\coldmeasurements\\nanoy\\prestomodifieddrivers\\presto_mod\\__init__.py:1\u001b[0m\n\u001b[1;32m----> 1\u001b[0m \u001b[38;5;28;01mfrom\u001b[39;00m \u001b[38;5;21;01mpresto_mod\u001b[39;00m\u001b[38;5;21;01m.\u001b[39;00m\u001b[38;5;21;01mpulsed\u001b[39;00m \u001b[38;5;28;01mimport\u001b[39;00m \u001b[38;5;241m*\u001b[39m\n",
      "File \u001b[1;32mf:\\coldmeasurements\\nanoy\\prestomodifieddrivers\\presto_mod\\pulsed\\__init__.py:2\u001b[0m\n\u001b[0;32m      1\u001b[0m \u001b[38;5;28;01mfrom\u001b[39;00m \u001b[38;5;21;01m.\u001b[39;00m\u001b[38;5;21;01m_base\u001b[39;00m \u001b[38;5;28;01mimport\u001b[39;00m \u001b[38;5;241m*\u001b[39m\n\u001b[1;32m----> 2\u001b[0m \u001b[38;5;28;01mfrom\u001b[39;00m \u001b[38;5;21;01m.\u001b[39;00m\u001b[38;5;21;01mpulse_test\u001b[39;00m \u001b[38;5;28;01mimport\u001b[39;00m \u001b[38;5;241m*\u001b[39m\n",
      "File \u001b[1;32mf:\\coldmeasurements\\nanoy\\prestomodifieddrivers\\presto_mod\\pulsed\\pulse_test.py:24\u001b[0m\n\u001b[0;32m     21\u001b[0m \u001b[38;5;28;01mfrom\u001b[39;00m \u001b[38;5;21;01mpresto\u001b[39;00m \u001b[38;5;28;01mimport\u001b[39;00m pulsed\n\u001b[0;32m     22\u001b[0m \u001b[38;5;28;01mfrom\u001b[39;00m \u001b[38;5;21;01mpresto\u001b[39;00m\u001b[38;5;21;01m.\u001b[39;00m\u001b[38;5;21;01mutils\u001b[39;00m \u001b[38;5;28;01mimport\u001b[39;00m format_precision, rotate_opt, sin2\n\u001b[1;32m---> 24\u001b[0m \u001b[38;5;28;01mfrom\u001b[39;00m \u001b[38;5;21;01m_base\u001b[39;00m \u001b[38;5;28;01mimport\u001b[39;00m Base, project\n\u001b[0;32m     26\u001b[0m DAC_CURRENT \u001b[38;5;241m=\u001b[39m \u001b[38;5;241m40_500\u001b[39m  \u001b[38;5;66;03m# uA\u001b[39;00m\n\u001b[0;32m     27\u001b[0m CONVERTER_CONFIGURATION \u001b[38;5;241m=\u001b[39m {\n\u001b[0;32m     28\u001b[0m     \u001b[38;5;124m\"\u001b[39m\u001b[38;5;124madc_mode\u001b[39m\u001b[38;5;124m\"\u001b[39m: AdcMode\u001b[38;5;241m.\u001b[39mMixed,\n\u001b[0;32m     29\u001b[0m     \u001b[38;5;124m\"\u001b[39m\u001b[38;5;124madc_fsample\u001b[39m\u001b[38;5;124m\"\u001b[39m: AdcFSample\u001b[38;5;241m.\u001b[39mG2,\n\u001b[1;32m   (...)\u001b[0m\n\u001b[0;32m     32\u001b[0m     \u001b[38;5;124m\"\u001b[39m\u001b[38;5;124mdac_fsample\u001b[39m\u001b[38;5;124m\"\u001b[39m: [DacFSample\u001b[38;5;241m.\u001b[39mG10, DacFSample\u001b[38;5;241m.\u001b[39mG6, DacFSample\u001b[38;5;241m.\u001b[39mG6, DacFSample\u001b[38;5;241m.\u001b[39mG6],\n\u001b[0;32m     33\u001b[0m }\n",
      "\u001b[1;31mModuleNotFoundError\u001b[0m: No module named '_base'"
     ]
    }
   ],
   "source": [
    "from presto_mod.pulsed import pulse_test"
   ]
  },
  {
   "cell_type": "code",
   "execution_count": 2,
   "id": "2e691ce5-3717-4cf4-befb-ddc53c8105b6",
   "metadata": {},
   "outputs": [
    {
     "name": "stdout",
     "output_type": "stream",
     "text": [
      "Folder C:\\Users\\nano-y-admin\\Documents\\Python Scripts\\Data\\Pulsed_measurements_test already exists\n"
     ]
    }
   ],
   "source": [
    "import pulse_test as pt\n",
    "\n",
    "import numpy as np\n",
    "import matplotlib\n",
    "import matplotlib.pyplot as plt\n",
    "\n",
    "from datetime import datetime, timedelta\n",
    "import time\n",
    "import pyvisa\n",
    "\n",
    "import os\n",
    "Global_data_adress = r\"C:\\Users\\nano-y-admin\\Documents\\Python Scripts\\Data\"\n",
    "exp_name = 'Pulsed_measurements_test'\n",
    "file_folder = Global_data_adress+'\\\\'+exp_name\n",
    "if not os.path.exists(file_folder):\n",
    "  os.mkdir(file_folder)\n",
    "  print(\"Folder %s created!\" % file_folder)\n",
    "else:\n",
    "  print(\"Folder %s already exists\" % file_folder)"
   ]
  },
  {
   "cell_type": "code",
   "execution_count": 2,
   "id": "1120cecf-1c1e-4dcb-a829-149a2d4aa685",
   "metadata": {},
   "outputs": [],
   "source": [
    "%matplotlib qt"
   ]
  },
  {
   "cell_type": "markdown",
   "id": "46433b53-6909-4b69-8902-a76742c78430",
   "metadata": {},
   "source": [
    "# Connect Presto"
   ]
  },
  {
   "cell_type": "code",
   "execution_count": 3,
   "id": "2302228d-9bfa-450a-bf17-3de194cad025",
   "metadata": {},
   "outputs": [],
   "source": [
    "presto_address = \"169.254.3.14\"  # your Presto IP address"
   ]
  },
  {
   "cell_type": "code",
   "execution_count": 61,
   "id": "acfb78ee-b396-4b66-b41a-0ea538a3d2b4",
   "metadata": {},
   "outputs": [
    {
     "name": "stdout",
     "output_type": "stream",
     "text": [
      "[2.57675711e-18 1.26641655e-14 2.28973485e-11 1.52299797e-08\n",
      " 3.72665317e-06 3.35462628e-04 1.11089965e-02 1.35335283e-01\n",
      " 6.06530660e-01 1.00000000e+00 1.00000000e+00 1.00000000e+00\n",
      " 1.00000000e+00 1.00000000e+00 1.00000000e+00 1.00000000e+00\n",
      " 1.00000000e+00 1.00000000e+00 1.00000000e+00 1.00000000e+00\n",
      " 1.00000000e+00 1.00000000e+00 1.00000000e+00 1.00000000e+00\n",
      " 1.00000000e+00 1.00000000e+00 1.00000000e+00 1.00000000e+00\n",
      " 1.00000000e+00 1.00000000e+00 1.00000000e+00 1.00000000e+00\n",
      " 1.00000000e+00 1.00000000e+00 1.00000000e+00 1.00000000e+00\n",
      " 1.00000000e+00 1.00000000e+00 1.00000000e+00 1.00000000e+00\n",
      " 1.00000000e+00 1.00000000e+00 1.00000000e+00 1.00000000e+00\n",
      " 1.00000000e+00 1.00000000e+00 1.00000000e+00 1.00000000e+00\n",
      " 1.00000000e+00 1.00000000e+00 1.00000000e+00 1.00000000e+00\n",
      " 1.00000000e+00 1.00000000e+00 1.00000000e+00 1.00000000e+00\n",
      " 1.00000000e+00 1.00000000e+00 1.00000000e+00 1.00000000e+00\n",
      " 1.00000000e+00 1.00000000e+00 1.00000000e+00 1.00000000e+00\n",
      " 1.00000000e+00 1.00000000e+00 1.00000000e+00 1.00000000e+00\n",
      " 1.00000000e+00 1.00000000e+00 1.00000000e+00 1.00000000e+00\n",
      " 1.00000000e+00 1.00000000e+00 1.00000000e+00 1.00000000e+00\n",
      " 1.00000000e+00 1.00000000e+00 1.00000000e+00 1.00000000e+00\n",
      " 1.00000000e+00 1.00000000e+00 1.00000000e+00 1.00000000e+00\n",
      " 1.00000000e+00 1.00000000e+00 1.00000000e+00 1.00000000e+00\n",
      " 1.00000000e+00 1.00000000e+00 1.00000000e+00 6.06530660e-01\n",
      " 1.35335283e-01 1.11089965e-02 3.35462628e-04 3.72665317e-06\n",
      " 1.52299797e-08 2.28973485e-11 1.26641655e-14 2.57675711e-18]\n"
     ]
    },
    {
     "data": {
      "image/png": "[encoded data removed]",
      "text/plain": [
       "<Figure size 640x480 with 1 Axes>"
      ]
     },
     "metadata": {},
     "output_type": "display_data"
    }
   ],
   "source": [
    "nr_samples = 100\n",
    "edge = 10\n",
    "t = np.linspace(1,nr_samples,nr_samples)\n",
    "\n",
    "def gate(t, start, stop):\n",
    "    return np.heaviside(t-start, 1) - np.heaviside(t-stop, 1)\n",
    "\n",
    "def gaussian(t, cent, sig, start, end):\n",
    "    Result = np.zeros(int(t[-1]))\n",
    "    Result[start:end] = np.exp(-np.power((t[start:end] - cent) / sig, 2.0) / 2)\n",
    "    return Result\n",
    "    \n",
    "# def sin2(nr_of_samples, start=0, stop=9, sig_feft=2, sig_right=0.001): \n",
    "#     t = np.linspace(0, 10, number_of_samples)\n",
    "#     return gate(t, start, stop) + gaussian(t, cent=start, sig=sig_feft)*(1-np.heaviside(t-start, 1)) + gaussian(t, cent=stop, sig=sig_right)*(np.heaviside(t-stop, 1))\n",
    "\n",
    "def Gauss(nr_samples,edge,sig_left=2,sig_right=0.001):\n",
    "    t = np.linspace(1, nr_samples, nr_samples, endpoint=True)\n",
    "    Left = gaussian(t, edge, sig_left, 0, edge)\n",
    "    Middle = gate(t, edge+1, t[-edge])\n",
    "    Right = gaussian(t, int(t[-edge]), sig_right,int(t[-edge-1]),int(t[-1]))\n",
    "    return Left + Middle + Right\n",
    "\n",
    "def sin2(nr_samples: int, drag: float = 0.0) -> np.ndarray:\n",
    "    x = np.linspace(0.0, 1.0, nr_samples, endpoint=False)\n",
    "    return np.sin(np.pi * x) ** 2\n",
    "\n",
    "# plt.plot(t, sin2(100))\n",
    "plt.plot(t, Gauss(nr_samples,edge,2,2))\n",
    "print(Gauss(nr_samples,edge,1,1))"
   ]
  },
  {
   "cell_type": "code",
   "execution_count": 13,
   "id": "76a6089c-94b9-4a85-ab6d-eab28dab3891",
   "metadata": {},
   "outputs": [],
   "source": [
    "# t = np.linspace(0, 10, 1000)\n",
    "# fft_result = np.fft.fft(pulse(t, start=1, stop=9, sig_feft=0.2, sig_right=0.2))\n",
    "# freqs = np.fft.fftfreq(len(fft_result))\n",
    "\n",
    "# for i in range(len(fft_result)):\n",
    "#     if freqs[i] < -0.013 or freqs[i] > 0.013: \n",
    "#         fft_result[i] = 1\n",
    "\n",
    "# pulse_fixed = np.fft.ifft(fft_result)\n",
    "# plt.plot(pulse_fixed[1:])"
   ]
  },
  {
   "cell_type": "code",
   "execution_count": null,
   "id": "4dba780a-c791-405a-8e34-8c2d8673a63e",
   "metadata": {},
   "outputs": [],
   "source": []
  },
  {
   "cell_type": "markdown",
   "id": "9d5e4b60-99a6-4285-b819-9c3fa214c23d",
   "metadata": {},
   "source": [
    "# Pulse"
   ]
  },
  {
   "cell_type": "code",
   "execution_count": 14,
   "id": "8644a7ef-c38f-4bd4-8c7f-e97bc995ba7a",
   "metadata": {},
   "outputs": [],
   "source": [
    "omega2 = 11.66e9\n",
    "lo_freq = (11.66e9 - 0.388e9)/2\n",
    "if_freq  = omega2-lo_freq\n",
    "\n",
    "delay = 300e-9\n",
    "control_duration=700e-9\n",
    "\n",
    "experiment = pt.T1(\n",
    "        LO_port=3, # LO\n",
    "        IF_port=1, # IF\n",
    "        Readout_port=4,  # READOUT\n",
    "        save_ = False,\n",
    "        file_folder = file_folder,\n",
    "        file_name = 'Pulse_test_pulse_duration',\n",
    "        \n",
    "        readout_freq=lo_freq,\n",
    "        readout_amp=0.6,\n",
    "        readout_duration=control_duration+delay,\n",
    "        \n",
    "        control_freq=if_freq,\n",
    "        control_amp = 1,\n",
    "        control_duration=control_duration,             # pulse duration\n",
    "        \n",
    "        sample_duration=control_duration+delay*3,\n",
    "        delay=delay,\n",
    "        \n",
    "        wait_delay=4e-6,\n",
    "        readout_sample_delay=0e-9,\n",
    "        num_averages=1000000,\n",
    "        envelope_function = sin2, \n",
    "    \n",
    "    )"
   ]
  },
  {
   "cell_type": "code",
   "execution_count": 15,
   "id": "3f556862-8151-42a1-942d-f546726e7da2",
   "metadata": {},
   "outputs": [
    {
     "name": "stdout",
     "output_type": "stream",
     "text": [
      "Run finished\n"
     ]
    }
   ],
   "source": [
    "att_list = experiment.run(presto_address)\n",
    "data = att_list['data'][0,0,:]"
   ]
  },
  {
   "cell_type": "code",
   "execution_count": 16,
   "id": "71ecb1fd-fef0-406a-95b1-156b2e1a5725",
   "metadata": {},
   "outputs": [
    {
     "data": {
      "text/plain": [
       "[<matplotlib.lines.Line2D at 0x2429efbe750>]"
      ]
     },
     "execution_count": 16,
     "metadata": {},
     "output_type": "execute_result"
    }
   ],
   "source": [
    "plt.plot(data)"
   ]
  },
  {
   "cell_type": "markdown",
   "id": "30ebe7ff-4896-4e46-8b9b-635cfaccd983",
   "metadata": {},
   "source": [
    "# Pulse duration sweep"
   ]
  },
  {
   "cell_type": "code",
   "execution_count": 329,
   "id": "c7eb4a9d-6227-4069-a84d-5cdb3b815982",
   "metadata": {},
   "outputs": [],
   "source": [
    "omega2 = 11.66e9\n",
    "lo_freq = (11.66e9 - 0.388e9)/2\n",
    "if_freq  = omega2-lo_freq\n",
    "\n",
    "delay = 200e-9\n",
    "control_duration=800e-9\n",
    "\n",
    "experiment = pt.T1(\n",
    "        readout_port=3, # LO\n",
    "        control_port=1, # IF\n",
    "        sample_port=3,  # READOUT\n",
    "        save_ = True,\n",
    "        file_folder = file_folder,\n",
    "        file_name = 'Pulse_test_pulse_duration',\n",
    "        \n",
    "        readout_freq=lo_freq,\n",
    "        readout_amp=0.6,\n",
    "        readout_duration=1500e-9+delay-200e-9,\n",
    "        \n",
    "        control_freq=if_freq,\n",
    "        control_amp = 1,\n",
    "        control_duration=control_duration,             # pulse duration\n",
    "        \n",
    "        sample_duration=readout_duration,\n",
    "        delay=delay,\n",
    "        \n",
    "        wait_delay=4e-6,\n",
    "        readout_sample_delay=0e-9,\n",
    "        num_averages=10000000,\n",
    "        envelope_function = sin2, \n",
    "    \n",
    "    )"
   ]
  },
  {
   "cell_type": "code",
   "execution_count": 330,
   "id": "74e88c6c-0e53-4528-b122-53b55353642e",
   "metadata": {},
   "outputs": [
    {
     "name": "stdout",
     "output_type": "stream",
     "text": [
      "Measurement started at: 16:46:47\n",
      "Data is saved to  C:\\Users\\nano-y-admin\\Documents\\Python Scripts\\Data\\Pulsed_measurements_test\\Pulse_test_pulse_duration--2024.10.11__16.47.39.mat\n",
      "Data is saved to  C:\\Users\\nano-y-admin\\Documents\\Python Scripts\\Data\\Pulsed_measurements_test\\Pulse_test_pulse_duration--2024.10.11__16.48.32.mat\n",
      "Data is saved to  C:\\Users\\nano-y-admin\\Documents\\Python Scripts\\Data\\Pulsed_measurements_test\\Pulse_test_pulse_duration--2024.10.11__16.49.24.mat\n",
      "Data is saved to  C:\\Users\\nano-y-admin\\Documents\\Python Scripts\\Data\\Pulsed_measurements_test\\Pulse_test_pulse_duration--2024.10.11__16.50.17.mat\n",
      "Data is saved to  C:\\Users\\nano-y-admin\\Documents\\Python Scripts\\Data\\Pulsed_measurements_test\\Pulse_test_pulse_duration--2024.10.11__16.51.10.mat\n",
      "Data is saved to  C:\\Users\\nano-y-admin\\Documents\\Python Scripts\\Data\\Pulsed_measurements_test\\Pulse_test_pulse_duration--2024.10.11__16.52.02.mat\n",
      "Data is saved to  C:\\Users\\nano-y-admin\\Documents\\Python Scripts\\Data\\Pulsed_measurements_test\\Pulse_test_pulse_duration--2024.10.11__16.52.55.mat\n",
      "Data is saved to  C:\\Users\\nano-y-admin\\Documents\\Python Scripts\\Data\\Pulsed_measurements_test\\Pulse_test_pulse_duration--2024.10.11__16.53.48.mat\n",
      "Data is saved to  C:\\Users\\nano-y-admin\\Documents\\Python Scripts\\Data\\Pulsed_measurements_test\\Pulse_test_pulse_duration--2024.10.11__16.54.40.mat\n",
      "Data is saved to  C:\\Users\\nano-y-admin\\Documents\\Python Scripts\\Data\\Pulsed_measurements_test\\Pulse_test_pulse_duration--2024.10.11__16.55.33.mat\n",
      "Data is saved to  C:\\Users\\nano-y-admin\\Documents\\Python Scripts\\Data\\Pulsed_measurements_test\\Pulse_test_pulse_duration--2024.10.11__16.56.25.mat\n",
      "Data is saved to  C:\\Users\\nano-y-admin\\Documents\\Python Scripts\\Data\\Pulsed_measurements_test\\Pulse_test_pulse_duration--2024.10.11__16.57.18.mat\n",
      "Data is saved to  C:\\Users\\nano-y-admin\\Documents\\Python Scripts\\Data\\Pulsed_measurements_test\\Pulse_test_pulse_duration--2024.10.11__16.58.11.mat\n",
      "Data is saved to  C:\\Users\\nano-y-admin\\Documents\\Python Scripts\\Data\\Pulsed_measurements_test\\Pulse_test_pulse_duration--2024.10.11__16.59.03.mat\n",
      "Data is saved to  C:\\Users\\nano-y-admin\\Documents\\Python Scripts\\Data\\Pulsed_measurements_test\\Pulse_test_pulse_duration--2024.10.11__16.59.56.mat\n",
      "Data is saved to  C:\\Users\\nano-y-admin\\Documents\\Python Scripts\\Data\\Pulsed_measurements_test\\Pulse_test_pulse_duration--2024.10.11__17.00.49.mat\n",
      "Measurement stopped at: 17:00:49\n",
      "Measurement duration: 00:14:02\n",
      "____________________\n",
      "delay --> (1,)\n",
      "wait_delay --> (1,)\n",
      "readout_sample_delay --> (1,)\n",
      "t_arr --> (2500,)\n",
      "data --> (1, 1, 2500)\n",
      "control_envelope_function --> (800,)\n"
     ]
    }
   ],
   "source": [
    "amp_array = np.linspace(20e-9, 1500e-9, 16)\n",
    "t_arr =  np.arange(0, experiment.sample_duration, 1e-9) \n",
    "experiment_data = np.zeros((len(amp_array), len(t_arr)), dtype = np.complex64)\n",
    "\n",
    "\n",
    "start_time = time.time()\n",
    "start_struct = time.localtime(start_time)\n",
    "print(f\"Measurement started at: {time.strftime('%H:%M:%S', start_struct)}\")\n",
    "\n",
    "for i in range(len(amp_array)):\n",
    "    experiment.control_duration = amp_array[i]\n",
    "    att_list = experiment.run(presto_address)\n",
    "    data = att_list['data'][0,:]\n",
    "    experiment_data[i] = data\n",
    "\n",
    "stop_time = time.time()\n",
    "stop_struct = time.localtime(stop_time)\n",
    "print(f\"Measurement stopped at: {time.strftime('%H:%M:%S', stop_struct)}\")\n",
    "\n",
    "duration = stop_time - start_time\n",
    "duration_struct = time.gmtime(duration)\n",
    "print(f\"Measurement duration: {time.strftime('%H:%M:%S', duration_struct)}\")\n",
    "\n",
    "\n",
    "print('____________________')\n",
    "for key in att_list.keys():\n",
    "    if not isinstance(att_list[key], (float, int, str)):\n",
    "        print(key, '-->', att_list[key].shape)\n",
    "\n",
    "data = experiment_data\n",
    "t_arr = experiment.t_arr\n",
    "sweep = amp_array"
   ]
  },
  {
   "cell_type": "code",
   "execution_count": 332,
   "id": "4a7b0012-0661-409a-b9e4-88bfff964afb",
   "metadata": {},
   "outputs": [
    {
     "data": {
      "text/plain": [
       "Text(0.5, 0, 'Amplitude')"
      ]
     },
     "execution_count": 332,
     "metadata": {},
     "output_type": "execute_result"
    }
   ],
   "source": [
    "font = {'size'   : 15}\n",
    "matplotlib.rc('font', **font)\n",
    "fig, ax = plt.subplots(figsize=(15,13))\n",
    "\n",
    "data_amp= np.abs(np.real(data[:,:])+1j*np.imag(data[:,:]))\n",
    "\n",
    "c = ax.pcolor( sweep, t_arr*1e9, data_amp.T, cmap = 'viridis')\n",
    "fig.colorbar(c, ax=ax)\n",
    "ax.set_ylabel('time, ns')\n",
    "ax.set_xlabel('Amplitude')"
   ]
  },
  {
   "cell_type": "markdown",
   "id": "eb0f6ec6-ac3a-4d5f-a302-34449af8bfb1",
   "metadata": {},
   "source": [
    "# Run Pulse test"
   ]
  },
  {
   "cell_type": "code",
   "execution_count": 179,
   "id": "e98cfc2c-a793-4502-bade-65fdfb9e0799",
   "metadata": {},
   "outputs": [],
   "source": [
    "omega2 = 11.66e9\n",
    "lo_freq = (11.66e9 - 0.388e9)/2\n",
    "if_freq  = omega2-lo_freq\n",
    "\n",
    "\n",
    "\n",
    "delay = 518e-9\n",
    "control_duration=800e-9\n",
    "\n",
    "experiment = pt.T1(\n",
    "        readout_port=3, # LO\n",
    "        control_port=1, # IF\n",
    "        sample_port=3,  # READOUT\n",
    "        save_ = False,\n",
    "        file_folder = file_folder,\n",
    "        # file_name = 'run1',\n",
    "        \n",
    "        readout_freq=lo_freq,\n",
    "        readout_amp=0.6,\n",
    "        readout_duration=control_duration+delay-200e-9,\n",
    "        \n",
    "        control_freq=if_freq,\n",
    "        control_amp = 1,\n",
    "        control_duration=control_duration,             # pulse duration\n",
    "        \n",
    "        sample_duration=readout_duration+control_duration+20e-9,\n",
    "        delay=delay,\n",
    "        \n",
    "        wait_delay=10e-6,\n",
    "        readout_sample_delay=0e-9,\n",
    "        num_averages=1000000,\n",
    "        envelope_function = sin2, \n",
    "    \n",
    "    )"
   ]
  },
  {
   "cell_type": "code",
   "execution_count": 7,
   "id": "84bf9d42-9f28-474c-8dc9-f607ad6afba4",
   "metadata": {},
   "outputs": [
    {
     "name": "stdout",
     "output_type": "stream",
     "text": [
      "Run finished\n",
      "Run finished\n",
      "Run finished\n",
      "Run finished\n",
      "Run finished\n",
      "Run finished\n",
      "____________________\n",
      "delay --> (1,)\n",
      "wait_delay --> (1,)\n",
      "readout_sample_delay --> (1,)\n",
      "t_arr --> (800,)\n",
      "data --> (1, 1, 800)\n",
      "control_envelope_function --> (400,)\n"
     ]
    }
   ],
   "source": [
    "amp_array = np.linspace(0., 1, 6)\n",
    "t_arr =  np.arange(0, experiment.sample_duration, 1e-9) \n",
    "experiment_data = np.zeros((len(amp_array), len(t_arr)), dtype = np.complex64)\n",
    "\n",
    "for i in range(len(amp_array)):\n",
    "    experiment.control_amp = amp_array[i]\n",
    "    att_list = experiment.run(presto_address)\n",
    "    data = att_list['data'][0,:]\n",
    "    experiment_data[i] = data\n",
    "    \n",
    " \n",
    "print('____________________')\n",
    "for key in att_list.keys():\n",
    "    if not isinstance(att_list[key], (float, int, str)):\n",
    "        print(key, '-->', att_list[key].shape)\n",
    "\n",
    "data = experiment_data\n",
    "t_arr = experiment.t_arr\n",
    "sweep = amp_array"
   ]
  },
  {
   "cell_type": "code",
   "execution_count": 8,
   "id": "d3acc6cb-1af9-432c-8ab2-5c855e0c5264",
   "metadata": {},
   "outputs": [
    {
     "data": {
      "text/plain": [
       "Text(0.5, 0, 'delay, ns')"
      ]
     },
     "execution_count": 8,
     "metadata": {},
     "output_type": "execute_result"
    },
    {
     "data": {
      "image/png": "[encoded data removed]",
      "text/plain": [
       "<Figure size 1500x1300 with 2 Axes>"
      ]
     },
     "metadata": {},
     "output_type": "display_data"
    }
   ],
   "source": [
    "font = {'size'   : 15}\n",
    "matplotlib.rc('font', **font)\n",
    "fig, ax = plt.subplots(figsize=(15,13))\n",
    "\n",
    "data_amp= np.abs(np.real(data[:,:])+1j*np.imag(data[:,:]))\n",
    "\n",
    "c = ax.pcolor(t_arr*1e9, sweep*1e9, data_amp, cmap = 'tab20b')\n",
    "fig.colorbar(c, ax=ax)\n",
    "ax.set_ylabel('time, ns')\n",
    "ax.set_xlabel('delay, ns')"
   ]
  },
  {
   "cell_type": "code",
   "execution_count": 12,
   "id": "d351cdbf-b2f3-4bf3-91b4-b10a1670b18f",
   "metadata": {},
   "outputs": [],
   "source": [
    "font = {'size'   : 15}\n",
    "matplotlib.rc('font', **font)\n",
    "\n",
    "fig, ax = plt.subplots(figsize=(15,5), sharex = False)\n",
    "ax.set_title('time')\n",
    "ax.grid()\n",
    "for i in range(len(sweep)): \n",
    "    data_amp= np.abs(np.real(data[i])+1j*np.imag(data[i]))\n",
    "    ax.plot(t_arr, data_amp,linewidth = 2)\n"
   ]
  },
  {
   "cell_type": "code",
   "execution_count": 10,
   "id": "12f2851c-84bf-45dc-81d1-766ca2236132",
   "metadata": {},
   "outputs": [
    {
     "name": "stderr",
     "output_type": "stream",
     "text": [
      "C:\\ProgramData\\anaconda3\\Lib\\site-packages\\matplotlib\\cbook.py:1699: ComplexWarning: Casting complex values to real discards the imaginary part\n",
      "  return math.isfinite(val)\n",
      "C:\\ProgramData\\anaconda3\\Lib\\site-packages\\matplotlib\\cbook.py:1345: ComplexWarning: Casting complex values to real discards the imaginary part\n",
      "  return np.asarray(x, float)\n"
     ]
    },
    {
     "data": {
      "image/png": "[encoded data removed]",
      "text/plain": [
       "<Figure size 1500x500 with 1 Axes>"
      ]
     },
     "metadata": {},
     "output_type": "display_data"
    }
   ],
   "source": [
    "# Perform the FFT\n",
    "# %matplotlib qt\n",
    "font = {'size'   : 15}\n",
    "matplotlib.rc('font', **font)\n",
    "\n",
    "fig, ax = plt.subplots(figsize=(15,5), sharex = False)\n",
    "\n",
    "for i in range(len(sweep)): \n",
    "    \n",
    "    fft_result = (np.fft.fft(data[i]))\n",
    "    freqs = np.fft.fftfreq(len(fft_result), 1/1e9)\n",
    "    ax.plot(freqs, fft_result, linewidth = 2)"
   ]
  },
  {
   "cell_type": "code",
   "execution_count": 10,
   "id": "4d0e732e-922f-4cf7-9bab-3418c763358c",
   "metadata": {},
   "outputs": [],
   "source": []
  },
  {
   "cell_type": "code",
   "execution_count": null,
   "id": "53f468e8-fffa-47ef-8142-5b041d2e6dd7",
   "metadata": {},
   "outputs": [],
   "source": []
  },
  {
   "cell_type": "code",
   "execution_count": null,
   "id": "54d832d5-1b3d-4fe8-944f-322457ff4a2e",
   "metadata": {},
   "outputs": [],
   "source": []
  },
  {
   "cell_type": "code",
   "execution_count": null,
   "id": "d37e1063-1811-4245-b429-bc1a420f20c4",
   "metadata": {},
   "outputs": [],
   "source": []
  },
  {
   "cell_type": "code",
   "execution_count": null,
   "id": "941a5765-8277-47a4-b6d7-6d831e61be56",
   "metadata": {},
   "outputs": [],
   "source": []
  },
  {
   "cell_type": "code",
   "execution_count": null,
   "id": "170081ba-9d36-4dba-a117-6182c9a6a35e",
   "metadata": {},
   "outputs": [],
   "source": []
  },
  {
   "cell_type": "code",
   "execution_count": null,
   "id": "4ceb5990-c74a-4157-9b13-9898594d4903",
   "metadata": {},
   "outputs": [],
   "source": []
  },
  {
   "cell_type": "code",
   "execution_count": null,
   "id": "1a01946b-cef4-44f2-9728-d6b2f0950237",
   "metadata": {},
   "outputs": [],
   "source": []
  },
  {
   "cell_type": "code",
   "execution_count": null,
   "id": "ae5ece14-99b4-480e-bd3b-55645a6dd39f",
   "metadata": {},
   "outputs": [],
   "source": []
  }
 ],
 "metadata": {
  "kernelspec": {
   "display_name": "Python 3 (ipykernel)",
   "language": "python",
   "name": "python3"
  },
  "language_info": {
   "codemirror_mode": {
    "name": "ipython",
    "version": 3
   },
   "file_extension": ".py",
   "mimetype": "text/x-python",
   "name": "python",
   "nbconvert_exporter": "python",
   "pygments_lexer": "ipython3",
   "version": "3.11.7"
  }
 },
 "nbformat": 4,
 "nbformat_minor": 5
}
