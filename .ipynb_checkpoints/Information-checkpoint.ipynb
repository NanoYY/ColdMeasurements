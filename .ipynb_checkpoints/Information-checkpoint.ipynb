{
 "cells": [
  {
   "cell_type": "markdown",
   "id": "2c56d096-f957-4706-9a6a-b4a564c94f6b",
   "metadata": {},
   "source": [
    "# Test systems"
   ]
  },
  {
   "cell_type": "markdown",
   "id": "d4ade0b8",
   "metadata": {},
   "source": [
    "General use"
   ]
  },
  {
   "cell_type": "code",
   "execution_count": 1,
   "id": "25847fbe-028c-458e-bc0c-c4662285d9fc",
   "metadata": {},
   "outputs": [],
   "source": [
    "from numpy import *\n",
    "import matplotlib.pyplot as plt"
   ]
  },
  {
   "cell_type": "markdown",
   "id": "7c0c4309",
   "metadata": {},
   "source": [
    "Measurement soft"
   ]
  },
  {
   "cell_type": "code",
   "execution_count": 2,
   "id": "54545e1d-5fb7-4f3c-9fa8-1949480a8b9a",
   "metadata": {},
   "outputs": [],
   "source": [
    "import pyvisa"
   ]
  }
 ],
 "metadata": {
  "kernelspec": {
   "display_name": "Python 3 (ipykernel)",
   "language": "python",
   "name": "python3"
  },
  "language_info": {
   "codemirror_mode": {
    "name": "ipython",
    "version": 3
   },
   "file_extension": ".py",
   "mimetype": "text/x-python",
   "name": "python",
   "nbconvert_exporter": "python",
   "pygments_lexer": "ipython3",
   "version": "3.9.12"
  }
 },
 "nbformat": 4,
 "nbformat_minor": 5
}
