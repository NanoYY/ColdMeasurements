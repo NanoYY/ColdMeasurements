{
 "cells": [
  {
   "cell_type": "code",
   "execution_count": 2,
   "id": "ff6b7fb9",
   "metadata": {},
   "outputs": [],
   "source": [
    "import pyvisa\n",
    "import qcodes as qc\n",
    "# import Aalto_NANOdrivers as aa\n",
    "import matplotlib.pyplot as plt\n",
    "import numpy as np\n",
    "from numpy import *"
   ]
  },
  {
   "cell_type": "code",
   "execution_count": 3,
   "id": "e9a065c2",
   "metadata": {},
   "outputs": [],
   "source": [
    "from qcodes_contrib_drivers.drivers.StanfordResearchSystems import SIM928"
   ]
  },
  {
   "cell_type": "markdown",
   "id": "0897c9f4",
   "metadata": {},
   "source": [
    "# Scan through all GPIB channels for instruments"
   ]
  },
  {
   "cell_type": "code",
   "execution_count": 4,
   "id": "86786930",
   "metadata": {},
   "outputs": [
    {
     "name": "stdout",
     "output_type": "stream",
     "text": [
      "Found instrument at 1 GPIB0::12::INSTR ->  LSCI,MODEL370,370A5G,04102008\n",
      "Found instrument at 14 GPIB0::3::INSTR ->  HEWLETT-PACKARD,33120A,0,8.0-5.0-1.\n"
     ]
    }
   ],
   "source": [
    "rm = pyvisa.ResourceManager()\n",
    "list_of_instrument = rm.list_resources()\n",
    "for i in range(len(list_of_instrument)):\n",
    "    my_instrument = rm.open_resource(list_of_instrument[i])\n",
    "    try:\n",
    "        listen = my_instrument.query('*IDN?')\n",
    "        print('Found instrument at', i, list_of_instrument[i], '-> ', listen[:-2])\n",
    "    except: pass"
   ]
  },
  {
   "cell_type": "code",
   "execution_count": 4,
   "id": "a0bd4a39",
   "metadata": {},
   "outputs": [
    {
     "data": {
      "text/plain": [
       "'GPIB0::7::INSTR'"
      ]
     },
     "execution_count": 4,
     "metadata": {},
     "output_type": "execute_result"
    }
   ],
   "source": [
    "list_of_instrument[15]"
   ]
  },
  {
   "cell_type": "markdown",
   "id": "66bf9252",
   "metadata": {},
   "source": [
    "# Mannual initialization of any instrument"
   ]
  },
  {
   "cell_type": "code",
   "execution_count": 5,
   "id": "44ba470b",
   "metadata": {},
   "outputs": [
    {
     "data": {
      "text/plain": [
       "'ANRITSU,MS2830A,6200847105,4.09.01\\n'"
      ]
     },
     "execution_count": 5,
     "metadata": {},
     "output_type": "execute_result"
    }
   ],
   "source": [
    "my_instrument = rm.open_resource(list_of_instrument[15])\n",
    "my_instrument.query('*IDN?')"
   ]
  },
  {
   "cell_type": "markdown",
   "id": "af0736a8",
   "metadata": {},
   "source": [
    "# Stanford Research Systems SIM900.SIM928 via driver"
   ]
  },
  {
   "cell_type": "code",
   "execution_count": 6,
   "id": "b6c3f28e",
   "metadata": {
    "scrolled": true
   },
   "outputs": [
    {
     "name": "stderr",
     "output_type": "stream",
     "text": [
      "[SIM928(SIM928)] Could not connect at GPIB1::16::INSTR\n",
      "Traceback (most recent call last):\n",
      "  File \"C:\\Users\\Demag\\anaconda3\\lib\\site-packages\\qcodes\\instrument\\visa.py\", line 133, in _connect_and_handle_error\n",
      "    visa_handle, visabackend = self._open_resource(address, visalib)\n",
      "  File \"C:\\Users\\Demag\\anaconda3\\lib\\site-packages\\qcodes\\instrument\\visa.py\", line 160, in _open_resource\n",
      "    resource = resource_manager.open_resource(address)\n",
      "  File \"C:\\Users\\Demag\\anaconda3\\lib\\site-packages\\pyvisa\\highlevel.py\", line 3247, in open_resource\n",
      "    info = self.resource_info(resource_name, extended=True)\n",
      "  File \"C:\\Users\\Demag\\anaconda3\\lib\\site-packages\\pyvisa\\highlevel.py\", line 3174, in resource_info\n",
      "    ret, err = self.visalib.parse_resource_extended(self.session, resource_name)\n",
      "  File \"C:\\Users\\Demag\\anaconda3\\lib\\site-packages\\pyvisa\\ctwrapper\\functions.py\", line 2077, in parse_resource_extended\n",
      "    ret = library.viParseRsrcEx(\n",
      "  File \"C:\\Users\\Demag\\anaconda3\\lib\\site-packages\\pyvisa\\ctwrapper\\highlevel.py\", line 226, in _return_handler\n",
      "    return self.handle_return_value(session, ret_value)  # type: ignore\n",
      "  File \"C:\\Users\\Demag\\anaconda3\\lib\\site-packages\\pyvisa\\highlevel.py\", line 251, in handle_return_value\n",
      "    raise errors.VisaIOError(rv)\n",
      "pyvisa.errors.VisaIOError: VI_ERROR_INTF_NUM_NCONFIG (-1073807195): The interface type is valid but the specified interface number is not configured.\n"
     ]
    },
    {
     "ename": "VisaIOError",
     "evalue": "VI_ERROR_INTF_NUM_NCONFIG (-1073807195): The interface type is valid but the specified interface number is not configured.",
     "output_type": "error",
     "traceback": [
      "\u001b[1;31m---------------------------------------------------------------------------\u001b[0m",
      "\u001b[1;31mVisaIOError\u001b[0m                               Traceback (most recent call last)",
      "Cell \u001b[1;32mIn[6], line 11\u001b[0m\n\u001b[0;32m      1\u001b[0m \u001b[38;5;124;03m\"\"\"\u001b[39;00m\n\u001b[0;32m      2\u001b[0m \u001b[38;5;124;03mif you will run this sectionn twice, driver will try to connect to the device with the same name SIM928 \u001b[39;00m\n\u001b[0;32m      3\u001b[0m \u001b[38;5;124;03mand then break since the name is already used.\u001b[39;00m\n\u001b[1;32m   (...)\u001b[0m\n\u001b[0;32m      8\u001b[0m \n\u001b[0;32m      9\u001b[0m \u001b[38;5;124;03m\"\"\"\u001b[39;00m \n\u001b[1;32m---> 11\u001b[0m VoltGen \u001b[38;5;241m=\u001b[39m \u001b[43mSIM928\u001b[49m\u001b[38;5;241;43m.\u001b[39;49m\u001b[43mSIM928\u001b[49m\u001b[43m(\u001b[49m\u001b[43mname\u001b[49m\u001b[38;5;241;43m=\u001b[39;49m\u001b[38;5;124;43m'\u001b[39;49m\u001b[38;5;124;43mSIM928\u001b[39;49m\u001b[38;5;124;43m'\u001b[39;49m\u001b[43m,\u001b[49m\u001b[43m \u001b[49m\u001b[43maddress\u001b[49m\u001b[38;5;241;43m=\u001b[39;49m\u001b[38;5;124;43m'\u001b[39;49m\u001b[38;5;124;43mGPIB1::16::INSTR\u001b[39;49m\u001b[38;5;124;43m'\u001b[39;49m\u001b[43m)\u001b[49m \n\u001b[0;32m     12\u001b[0m modules \u001b[38;5;241m=\u001b[39m VoltGen\u001b[38;5;241m.\u001b[39mfind_modules() \n\u001b[0;32m     13\u001b[0m modules\n",
      "File \u001b[1;32m~\\anaconda3\\lib\\site-packages\\qcodes\\instrument\\instrument_meta.py:36\u001b[0m, in \u001b[0;36mInstrumentMeta.__call__\u001b[1;34m(cls, *args, **kwargs)\u001b[0m\n\u001b[0;32m     31\u001b[0m \u001b[38;5;28;01mdef\u001b[39;00m \u001b[38;5;21m__call__\u001b[39m(\u001b[38;5;28mcls\u001b[39m, \u001b[38;5;241m*\u001b[39margs: Any, \u001b[38;5;241m*\u001b[39m\u001b[38;5;241m*\u001b[39mkwargs: Any) \u001b[38;5;241m-\u001b[39m\u001b[38;5;241m>\u001b[39m Any:\n\u001b[0;32m     32\u001b[0m     \u001b[38;5;124;03m\"\"\"\u001b[39;00m\n\u001b[0;32m     33\u001b[0m \u001b[38;5;124;03m    Overloads `type.__call__` to add code that runs only if __init__ completes\u001b[39;00m\n\u001b[0;32m     34\u001b[0m \u001b[38;5;124;03m    successfully.\u001b[39;00m\n\u001b[0;32m     35\u001b[0m \u001b[38;5;124;03m    \"\"\"\u001b[39;00m\n\u001b[1;32m---> 36\u001b[0m     new_inst \u001b[38;5;241m=\u001b[39m \u001b[38;5;28msuper\u001b[39m()\u001b[38;5;241m.\u001b[39m\u001b[38;5;21m__call__\u001b[39m(\u001b[38;5;241m*\u001b[39margs, \u001b[38;5;241m*\u001b[39m\u001b[38;5;241m*\u001b[39mkwargs)\n\u001b[0;32m     37\u001b[0m     is_abstract \u001b[38;5;241m=\u001b[39m new_inst\u001b[38;5;241m.\u001b[39m_is_abstract()\n\u001b[0;32m     38\u001b[0m     \u001b[38;5;28;01mif\u001b[39;00m is_abstract:\n",
      "File \u001b[1;32m~\\anaconda3\\lib\\site-packages\\qcodes_contrib_drivers\\drivers\\StanfordResearchSystems\\SIM928.py:28\u001b[0m, in \u001b[0;36mSIM928.__init__\u001b[1;34m(self, name, address, slot_names, **kw)\u001b[0m\n\u001b[0;32m     27\u001b[0m \u001b[38;5;28;01mdef\u001b[39;00m \u001b[38;5;21m__init__\u001b[39m(\u001b[38;5;28mself\u001b[39m, name, address, slot_names\u001b[38;5;241m=\u001b[39m\u001b[38;5;28;01mNone\u001b[39;00m, \u001b[38;5;241m*\u001b[39m\u001b[38;5;241m*\u001b[39mkw):\n\u001b[1;32m---> 28\u001b[0m     \u001b[38;5;28msuper\u001b[39m()\u001b[38;5;241m.\u001b[39m\u001b[38;5;21m__init__\u001b[39m(name, address\u001b[38;5;241m=\u001b[39maddress, terminator\u001b[38;5;241m=\u001b[39m\u001b[38;5;124m'\u001b[39m\u001b[38;5;130;01m\\n\u001b[39;00m\u001b[38;5;124m'\u001b[39m, \u001b[38;5;241m*\u001b[39m\u001b[38;5;241m*\u001b[39mkw)\n\u001b[0;32m     30\u001b[0m     \u001b[38;5;28;01mif\u001b[39;00m slot_names \u001b[38;5;129;01mis\u001b[39;00m \u001b[38;5;28;01mNone\u001b[39;00m:\n\u001b[0;32m     31\u001b[0m         \u001b[38;5;28mself\u001b[39m\u001b[38;5;241m.\u001b[39mslot_names \u001b[38;5;241m=\u001b[39m {}\n",
      "File \u001b[1;32m~\\anaconda3\\lib\\site-packages\\qcodes\\instrument\\visa.py:113\u001b[0m, in \u001b[0;36mVisaInstrument.__init__\u001b[1;34m(self, name, address, timeout, terminator, device_clear, visalib, pyvisa_sim_file, **kwargs)\u001b[0m\n\u001b[0;32m    109\u001b[0m         visa_handle, visabackend \u001b[38;5;241m=\u001b[39m \u001b[38;5;28mself\u001b[39m\u001b[38;5;241m.\u001b[39m_connect_and_handle_error(\n\u001b[0;32m    110\u001b[0m             address, visalib\n\u001b[0;32m    111\u001b[0m         )\n\u001b[0;32m    112\u001b[0m \u001b[38;5;28;01melse\u001b[39;00m:\n\u001b[1;32m--> 113\u001b[0m     visa_handle, visabackend \u001b[38;5;241m=\u001b[39m \u001b[38;5;28;43mself\u001b[39;49m\u001b[38;5;241;43m.\u001b[39;49m\u001b[43m_connect_and_handle_error\u001b[49m\u001b[43m(\u001b[49m\u001b[43maddress\u001b[49m\u001b[43m,\u001b[49m\u001b[43m \u001b[49m\u001b[43mvisalib\u001b[49m\u001b[43m)\u001b[49m\n\u001b[0;32m    115\u001b[0m \u001b[38;5;28mself\u001b[39m\u001b[38;5;241m.\u001b[39mvisabackend: \u001b[38;5;28mstr\u001b[39m \u001b[38;5;241m=\u001b[39m visabackend\n\u001b[0;32m    116\u001b[0m \u001b[38;5;28mself\u001b[39m\u001b[38;5;241m.\u001b[39mvisa_handle: pyvisa\u001b[38;5;241m.\u001b[39mresources\u001b[38;5;241m.\u001b[39mMessageBasedResource \u001b[38;5;241m=\u001b[39m visa_handle\n",
      "File \u001b[1;32m~\\anaconda3\\lib\\site-packages\\qcodes\\instrument\\visa.py:137\u001b[0m, in \u001b[0;36mVisaInstrument._connect_and_handle_error\u001b[1;34m(self, address, visalib)\u001b[0m\n\u001b[0;32m    135\u001b[0m     \u001b[38;5;28mself\u001b[39m\u001b[38;5;241m.\u001b[39mvisa_log\u001b[38;5;241m.\u001b[39mexception(\u001b[38;5;124mf\u001b[39m\u001b[38;5;124m\"\u001b[39m\u001b[38;5;124mCould not connect at \u001b[39m\u001b[38;5;132;01m{\u001b[39;00maddress\u001b[38;5;132;01m}\u001b[39;00m\u001b[38;5;124m\"\u001b[39m)\n\u001b[0;32m    136\u001b[0m     \u001b[38;5;28mself\u001b[39m\u001b[38;5;241m.\u001b[39mclose()\n\u001b[1;32m--> 137\u001b[0m     \u001b[38;5;28;01mraise\u001b[39;00m e\n\u001b[0;32m    138\u001b[0m \u001b[38;5;28;01mreturn\u001b[39;00m visa_handle, visabackend\n",
      "File \u001b[1;32m~\\anaconda3\\lib\\site-packages\\qcodes\\instrument\\visa.py:133\u001b[0m, in \u001b[0;36mVisaInstrument._connect_and_handle_error\u001b[1;34m(self, address, visalib)\u001b[0m\n\u001b[0;32m    129\u001b[0m \u001b[38;5;28;01mdef\u001b[39;00m \u001b[38;5;21m_connect_and_handle_error\u001b[39m(\n\u001b[0;32m    130\u001b[0m     \u001b[38;5;28mself\u001b[39m, address: \u001b[38;5;28mstr\u001b[39m, visalib: \u001b[38;5;28mstr\u001b[39m \u001b[38;5;241m|\u001b[39m \u001b[38;5;28;01mNone\u001b[39;00m\n\u001b[0;32m    131\u001b[0m ) \u001b[38;5;241m-\u001b[39m\u001b[38;5;241m>\u001b[39m \u001b[38;5;28mtuple\u001b[39m[pyvisa\u001b[38;5;241m.\u001b[39mresources\u001b[38;5;241m.\u001b[39mMessageBasedResource, \u001b[38;5;28mstr\u001b[39m]:\n\u001b[0;32m    132\u001b[0m     \u001b[38;5;28;01mtry\u001b[39;00m:\n\u001b[1;32m--> 133\u001b[0m         visa_handle, visabackend \u001b[38;5;241m=\u001b[39m \u001b[38;5;28;43mself\u001b[39;49m\u001b[38;5;241;43m.\u001b[39;49m\u001b[43m_open_resource\u001b[49m\u001b[43m(\u001b[49m\u001b[43maddress\u001b[49m\u001b[43m,\u001b[49m\u001b[43m \u001b[49m\u001b[43mvisalib\u001b[49m\u001b[43m)\u001b[49m\n\u001b[0;32m    134\u001b[0m     \u001b[38;5;28;01mexcept\u001b[39;00m \u001b[38;5;167;01mException\u001b[39;00m \u001b[38;5;28;01mas\u001b[39;00m e:\n\u001b[0;32m    135\u001b[0m         \u001b[38;5;28mself\u001b[39m\u001b[38;5;241m.\u001b[39mvisa_log\u001b[38;5;241m.\u001b[39mexception(\u001b[38;5;124mf\u001b[39m\u001b[38;5;124m\"\u001b[39m\u001b[38;5;124mCould not connect at \u001b[39m\u001b[38;5;132;01m{\u001b[39;00maddress\u001b[38;5;132;01m}\u001b[39;00m\u001b[38;5;124m\"\u001b[39m)\n",
      "File \u001b[1;32m~\\anaconda3\\lib\\site-packages\\qcodes\\instrument\\visa.py:160\u001b[0m, in \u001b[0;36mVisaInstrument._open_resource\u001b[1;34m(self, address, visalib)\u001b[0m\n\u001b[0;32m    157\u001b[0m     visabackend \u001b[38;5;241m=\u001b[39m \u001b[38;5;124m\"\u001b[39m\u001b[38;5;124mivi\u001b[39m\u001b[38;5;124m\"\u001b[39m\n\u001b[0;32m    159\u001b[0m \u001b[38;5;28mself\u001b[39m\u001b[38;5;241m.\u001b[39mvisa_log\u001b[38;5;241m.\u001b[39minfo(\u001b[38;5;124mf\u001b[39m\u001b[38;5;124m\"\u001b[39m\u001b[38;5;124mOpening PyVISA resource at address: \u001b[39m\u001b[38;5;132;01m{\u001b[39;00maddress\u001b[38;5;132;01m}\u001b[39;00m\u001b[38;5;124m\"\u001b[39m)\n\u001b[1;32m--> 160\u001b[0m resource \u001b[38;5;241m=\u001b[39m \u001b[43mresource_manager\u001b[49m\u001b[38;5;241;43m.\u001b[39;49m\u001b[43mopen_resource\u001b[49m\u001b[43m(\u001b[49m\u001b[43maddress\u001b[49m\u001b[43m)\u001b[49m\n\u001b[0;32m    161\u001b[0m \u001b[38;5;28;01mif\u001b[39;00m \u001b[38;5;129;01mnot\u001b[39;00m \u001b[38;5;28misinstance\u001b[39m(resource, pyvisa\u001b[38;5;241m.\u001b[39mresources\u001b[38;5;241m.\u001b[39mMessageBasedResource):\n\u001b[0;32m    162\u001b[0m     resource\u001b[38;5;241m.\u001b[39mclose()\n",
      "File \u001b[1;32m~\\anaconda3\\lib\\site-packages\\pyvisa\\highlevel.py:3247\u001b[0m, in \u001b[0;36mResourceManager.open_resource\u001b[1;34m(self, resource_name, access_mode, open_timeout, resource_pyclass, **kwargs)\u001b[0m\n\u001b[0;32m   3219\u001b[0m \u001b[38;5;124;03m\"\"\"Return an instrument for the resource name.\u001b[39;00m\n\u001b[0;32m   3220\u001b[0m \n\u001b[0;32m   3221\u001b[0m \u001b[38;5;124;03mParameters\u001b[39;00m\n\u001b[1;32m   (...)\u001b[0m\n\u001b[0;32m   3244\u001b[0m \n\u001b[0;32m   3245\u001b[0m \u001b[38;5;124;03m\"\"\"\u001b[39;00m\n\u001b[0;32m   3246\u001b[0m \u001b[38;5;28;01mif\u001b[39;00m resource_pyclass \u001b[38;5;129;01mis\u001b[39;00m \u001b[38;5;28;01mNone\u001b[39;00m:\n\u001b[1;32m-> 3247\u001b[0m     info \u001b[38;5;241m=\u001b[39m \u001b[38;5;28;43mself\u001b[39;49m\u001b[38;5;241;43m.\u001b[39;49m\u001b[43mresource_info\u001b[49m\u001b[43m(\u001b[49m\u001b[43mresource_name\u001b[49m\u001b[43m,\u001b[49m\u001b[43m \u001b[49m\u001b[43mextended\u001b[49m\u001b[38;5;241;43m=\u001b[39;49m\u001b[38;5;28;43;01mTrue\u001b[39;49;00m\u001b[43m)\u001b[49m\n\u001b[0;32m   3249\u001b[0m     \u001b[38;5;28;01mtry\u001b[39;00m:\n\u001b[0;32m   3250\u001b[0m         \u001b[38;5;66;03m# When using querying extended resource info the resource_class is not\u001b[39;00m\n\u001b[0;32m   3251\u001b[0m         \u001b[38;5;66;03m# None\u001b[39;00m\n\u001b[0;32m   3252\u001b[0m         resource_pyclass \u001b[38;5;241m=\u001b[39m \u001b[38;5;28mself\u001b[39m\u001b[38;5;241m.\u001b[39m_resource_classes[\n\u001b[0;32m   3253\u001b[0m             (info\u001b[38;5;241m.\u001b[39minterface_type, info\u001b[38;5;241m.\u001b[39mresource_class)  \u001b[38;5;66;03m# type: ignore\u001b[39;00m\n\u001b[0;32m   3254\u001b[0m         ]\n",
      "File \u001b[1;32m~\\anaconda3\\lib\\site-packages\\pyvisa\\highlevel.py:3174\u001b[0m, in \u001b[0;36mResourceManager.resource_info\u001b[1;34m(self, resource_name, extended)\u001b[0m\n\u001b[0;32m   3162\u001b[0m \u001b[38;5;124;03m\"\"\"Get the (extended) information of a particular resource.\u001b[39;00m\n\u001b[0;32m   3163\u001b[0m \n\u001b[0;32m   3164\u001b[0m \u001b[38;5;124;03mParameters\u001b[39;00m\n\u001b[1;32m   (...)\u001b[0m\n\u001b[0;32m   3170\u001b[0m \n\u001b[0;32m   3171\u001b[0m \u001b[38;5;124;03m\"\"\"\u001b[39;00m\n\u001b[0;32m   3173\u001b[0m \u001b[38;5;28;01mif\u001b[39;00m extended:\n\u001b[1;32m-> 3174\u001b[0m     ret, err \u001b[38;5;241m=\u001b[39m \u001b[38;5;28;43mself\u001b[39;49m\u001b[38;5;241;43m.\u001b[39;49m\u001b[43mvisalib\u001b[49m\u001b[38;5;241;43m.\u001b[39;49m\u001b[43mparse_resource_extended\u001b[49m\u001b[43m(\u001b[49m\u001b[38;5;28;43mself\u001b[39;49m\u001b[38;5;241;43m.\u001b[39;49m\u001b[43msession\u001b[49m\u001b[43m,\u001b[49m\u001b[43m \u001b[49m\u001b[43mresource_name\u001b[49m\u001b[43m)\u001b[49m\n\u001b[0;32m   3175\u001b[0m \u001b[38;5;28;01melse\u001b[39;00m:\n\u001b[0;32m   3176\u001b[0m     ret, err \u001b[38;5;241m=\u001b[39m \u001b[38;5;28mself\u001b[39m\u001b[38;5;241m.\u001b[39mvisalib\u001b[38;5;241m.\u001b[39mparse_resource(\u001b[38;5;28mself\u001b[39m\u001b[38;5;241m.\u001b[39msession, resource_name)\n",
      "File \u001b[1;32m~\\anaconda3\\lib\\site-packages\\pyvisa\\ctwrapper\\functions.py:2077\u001b[0m, in \u001b[0;36mparse_resource_extended\u001b[1;34m(library, session, resource_name)\u001b[0m\n\u001b[0;32m   2073\u001b[0m alias_if_exists \u001b[38;5;241m=\u001b[39m create_string_buffer(constants\u001b[38;5;241m.\u001b[39mVI_FIND_BUFLEN)\n\u001b[0;32m   2075\u001b[0m \u001b[38;5;66;03m# [ViSession, ViRsrc, ViPUInt16, ViPUInt16, ViAChar, ViAChar, ViAChar]\u001b[39;00m\n\u001b[0;32m   2076\u001b[0m \u001b[38;5;66;03m# ViRsrc converts from (str, unicode, bytes) to bytes\u001b[39;00m\n\u001b[1;32m-> 2077\u001b[0m ret \u001b[38;5;241m=\u001b[39m \u001b[43mlibrary\u001b[49m\u001b[38;5;241;43m.\u001b[39;49m\u001b[43mviParseRsrcEx\u001b[49m\u001b[43m(\u001b[49m\n\u001b[0;32m   2078\u001b[0m \u001b[43m    \u001b[49m\u001b[43msession\u001b[49m\u001b[43m,\u001b[49m\n\u001b[0;32m   2079\u001b[0m \u001b[43m    \u001b[49m\u001b[43mresource_name\u001b[49m\u001b[43m,\u001b[49m\n\u001b[0;32m   2080\u001b[0m \u001b[43m    \u001b[49m\u001b[43mbyref\u001b[49m\u001b[43m(\u001b[49m\u001b[43minterface_type\u001b[49m\u001b[43m)\u001b[49m\u001b[43m,\u001b[49m\n\u001b[0;32m   2081\u001b[0m \u001b[43m    \u001b[49m\u001b[43mbyref\u001b[49m\u001b[43m(\u001b[49m\u001b[43minterface_board_number\u001b[49m\u001b[43m)\u001b[49m\u001b[43m,\u001b[49m\n\u001b[0;32m   2082\u001b[0m \u001b[43m    \u001b[49m\u001b[43mresource_class\u001b[49m\u001b[43m,\u001b[49m\n\u001b[0;32m   2083\u001b[0m \u001b[43m    \u001b[49m\u001b[43munaliased_expanded_resource_name\u001b[49m\u001b[43m,\u001b[49m\n\u001b[0;32m   2084\u001b[0m \u001b[43m    \u001b[49m\u001b[43malias_if_exists\u001b[49m\u001b[43m,\u001b[49m\n\u001b[0;32m   2085\u001b[0m \u001b[43m\u001b[49m\u001b[43m)\u001b[49m\n\u001b[0;32m   2087\u001b[0m res \u001b[38;5;241m=\u001b[39m [\n\u001b[0;32m   2088\u001b[0m     buffer_to_text(val)\n\u001b[0;32m   2089\u001b[0m     \u001b[38;5;28;01mfor\u001b[39;00m val \u001b[38;5;129;01min\u001b[39;00m (resource_class, unaliased_expanded_resource_name, alias_if_exists)\n\u001b[0;32m   2090\u001b[0m ]\n\u001b[0;32m   2092\u001b[0m \u001b[38;5;28;01mif\u001b[39;00m res[\u001b[38;5;241m-\u001b[39m\u001b[38;5;241m1\u001b[39m] \u001b[38;5;241m==\u001b[39m \u001b[38;5;124m\"\u001b[39m\u001b[38;5;124m\"\u001b[39m:\n",
      "File \u001b[1;32m~\\anaconda3\\lib\\site-packages\\pyvisa\\ctwrapper\\highlevel.py:226\u001b[0m, in \u001b[0;36mIVIVisaLibrary._return_handler\u001b[1;34m(self, ret_value, func, arguments)\u001b[0m\n\u001b[0;32m    223\u001b[0m         \u001b[38;5;66;03m# Set session back to a safe value\u001b[39;00m\n\u001b[0;32m    224\u001b[0m         session \u001b[38;5;241m=\u001b[39m \u001b[38;5;28;01mNone\u001b[39;00m\n\u001b[1;32m--> 226\u001b[0m \u001b[38;5;28;01mreturn\u001b[39;00m \u001b[38;5;28;43mself\u001b[39;49m\u001b[38;5;241;43m.\u001b[39;49m\u001b[43mhandle_return_value\u001b[49m\u001b[43m(\u001b[49m\u001b[43msession\u001b[49m\u001b[43m,\u001b[49m\u001b[43m \u001b[49m\u001b[43mret_value\u001b[49m\u001b[43m)\u001b[49m\n",
      "File \u001b[1;32m~\\anaconda3\\lib\\site-packages\\pyvisa\\highlevel.py:251\u001b[0m, in \u001b[0;36mVisaLibraryBase.handle_return_value\u001b[1;34m(self, session, status_code)\u001b[0m\n\u001b[0;32m    248\u001b[0m     \u001b[38;5;28mself\u001b[39m\u001b[38;5;241m.\u001b[39m_last_status_in_session[session] \u001b[38;5;241m=\u001b[39m rv\n\u001b[0;32m    250\u001b[0m \u001b[38;5;28;01mif\u001b[39;00m rv \u001b[38;5;241m<\u001b[39m \u001b[38;5;241m0\u001b[39m:\n\u001b[1;32m--> 251\u001b[0m     \u001b[38;5;28;01mraise\u001b[39;00m errors\u001b[38;5;241m.\u001b[39mVisaIOError(rv)\n\u001b[0;32m    253\u001b[0m \u001b[38;5;28;01mif\u001b[39;00m rv \u001b[38;5;129;01min\u001b[39;00m \u001b[38;5;28mself\u001b[39m\u001b[38;5;241m.\u001b[39missue_warning_on:\n\u001b[0;32m    254\u001b[0m     \u001b[38;5;28;01mif\u001b[39;00m session \u001b[38;5;129;01mand\u001b[39;00m rv \u001b[38;5;129;01mnot\u001b[39;00m \u001b[38;5;129;01min\u001b[39;00m \u001b[38;5;28mself\u001b[39m\u001b[38;5;241m.\u001b[39m_ignore_warning_in_session[session]:\n",
      "\u001b[1;31mVisaIOError\u001b[0m: VI_ERROR_INTF_NUM_NCONFIG (-1073807195): The interface type is valid but the specified interface number is not configured."
     ]
    }
   ],
   "source": [
    "\"\"\"\n",
    "if you will run this sectionn twice, driver will try to connect to the device with the same name SIM928 \n",
    "and then break since the name is already used.\n",
    "\n",
    "Modules are single SIM928 devises connected to a mainframe SIM900\n",
    "\n",
    "https://qcodes.github.io/Qcodes_contrib_drivers/api/generated/qcodes_contrib_drivers.drivers.StanfordResearchSystems.html\n",
    "\n",
    "\"\"\" \n",
    "\n",
    "VoltGen = SIM928.SIM928(name='SIM928', address='GPIB1::16::INSTR') \n",
    "modules = VoltGen.find_modules() \n",
    "modules"
   ]
  },
  {
   "cell_type": "code",
   "execution_count": null,
   "id": "bb7f87a2",
   "metadata": {},
   "outputs": [],
   "source": [
    "\"\"\"\n",
    "Use this section to set voltage. Use module number as first argument. Command \"set_voltage\" doesn't return anything\n",
    "\n",
    "\"\"\" \n",
    "\n",
    "listen = VoltGen.set_voltage(1, 0.0)\n",
    "listen"
   ]
  },
  {
   "cell_type": "code",
   "execution_count": null,
   "id": "a3bff97a",
   "metadata": {},
   "outputs": [],
   "source": [
    "\"\"\"\n",
    "Use this section to read voltage. Use module number as first argument. Command \"get_voltage\" returns voltage in ??volts??\n",
    "\n",
    "\"\"\" \n",
    "listen = VoltGen.get_voltage(1)\n",
    "listen"
   ]
  },
  {
   "cell_type": "markdown",
   "id": "78ef2623",
   "metadata": {},
   "source": [
    "# Rohde-Schwarz,ZNB20"
   ]
  },
  {
   "cell_type": "code",
   "execution_count": null,
   "id": "79f188db",
   "metadata": {},
   "outputs": [],
   "source": [
    "from qcodes.instrument_drivers.rohde_schwarz import (\n",
    "    RohdeSchwarzZNB8,\n",
    "    RohdeSchwarzZNBChannel,\n",
    ")"
   ]
  },
  {
   "cell_type": "code",
   "execution_count": null,
   "id": "4025d2b2",
   "metadata": {},
   "outputs": [],
   "source": [
    "vna = RohdeSchwarzZNB8('VNA', 'GPIB0::20::INSTR')\n",
    "vna.add_channel('S21')\n",
    "vna.display_single_window()"
   ]
  },
  {
   "cell_type": "code",
   "execution_count": null,
   "id": "cd52574b",
   "metadata": {},
   "outputs": [],
   "source": [
    "vna.channels.S21.power(-30)\n",
    "vna.channels.autoscale()\n",
    "vna.channels.S21.start(6e9)\n",
    "vna.channels.S21.stop(6.8e9)\n",
    "vna.channels.S21.npts(1000)"
   ]
  },
  {
   "cell_type": "code",
   "execution_count": null,
   "id": "063a599a",
   "metadata": {},
   "outputs": [],
   "source": [
    "freq_range = np.array([5e9, 8e9])\n",
    "nsteps = 5000\n",
    "fr0 = np.linspace(freq_range[0], freq_range[1], nsteps)\n",
    "vna.rf_on()\n",
    "vna.channels.S21.start(freq_range[0])\n",
    "vna.channels.S21.stop(freq_range[1])\n",
    "vna.channels.S21.npts(nsteps)\n",
    "get_v = vna.channels.S21.trace_mag_phase.get()\n",
    "vna.rf_off()\n",
    "\n",
    "fig, ax = plt.subplots()\n",
    "ax.plot(fr0, get_v[0])"
   ]
  },
  {
   "cell_type": "markdown",
   "id": "fefea220",
   "metadata": {},
   "source": [
    "# ANAPICO "
   ]
  },
  {
   "cell_type": "code",
   "execution_count": null,
   "id": "4bd52668",
   "metadata": {},
   "outputs": [],
   "source": [
    "LAN_ADRESS = 'TCPIP0::169.254.5.91::inst0::INSTR' #floating. use NI MAX to find current adress"
   ]
  },
  {
   "cell_type": "code",
   "execution_count": null,
   "id": "9df92688",
   "metadata": {},
   "outputs": [],
   "source": [
    "import pyvisa\n",
    "import time\n",
    "\n",
    "rm = pyvisa.ResourceManager()\n",
    "anapico = rm.open_resource(LAN_ADRESS)\n",
    "anapico.query('*IDN?')"
   ]
  },
  {
   "cell_type": "code",
   "execution_count": null,
   "id": "7059f5a4",
   "metadata": {},
   "outputs": [],
   "source": [
    "anapico.query(r'*SOUR {}: POW {}'.format(str(1), str(-30)))"
   ]
  },
  {
   "cell_type": "code",
   "execution_count": null,
   "id": "1a1e94cc",
   "metadata": {},
   "outputs": [],
   "source": [
    "anapico.write(r'SOUR1:POW -30')\n",
    "anapico.write(r'OUTP1 OFF')\n",
    "anapico.write(r'SOUR1:FREQ 2e6')"
   ]
  },
  {
   "cell_type": "code",
   "execution_count": null,
   "id": "b09d8213",
   "metadata": {},
   "outputs": [],
   "source": [
    "anapico.query(r'SOUR1:FREQ?')"
   ]
  },
  {
   "cell_type": "code",
   "execution_count": null,
   "id": "c6566b0b",
   "metadata": {},
   "outputs": [],
   "source": [
    "anapico.write(r'OUTP1 ON')"
   ]
  }
 ],
 "metadata": {
  "kernelspec": {
   "display_name": "Python 3 (ipykernel)",
   "language": "python",
   "name": "python3"
  },
  "language_info": {
   "codemirror_mode": {
    "name": "ipython",
    "version": 3
   },
   "file_extension": ".py",
   "mimetype": "text/x-python",
   "name": "python",
   "nbconvert_exporter": "python",
   "pygments_lexer": "ipython3",
   "version": "3.9.12"
  }
 },
 "nbformat": 4,
 "nbformat_minor": 5
}
