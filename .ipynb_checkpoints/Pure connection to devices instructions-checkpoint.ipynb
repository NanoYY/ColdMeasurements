{
 "cells": [
  {
   "cell_type": "code",
   "execution_count": 1,
   "id": "ff6b7fb9",
   "metadata": {},
   "outputs": [],
   "source": [
    "import pyvisa\n",
    "import qcodes as qc"
   ]
  },
  {
   "cell_type": "code",
   "execution_count": 2,
   "id": "e9a065c2",
   "metadata": {},
   "outputs": [],
   "source": [
    "from qcodes_contrib_drivers.drivers.StanfordResearchSystems import SIM928"
   ]
  },
  {
   "cell_type": "markdown",
   "id": "0897c9f4",
   "metadata": {},
   "source": [
    "# Scan through all GPIB channels for instruments"
   ]
  },
  {
   "cell_type": "code",
   "execution_count": 3,
   "id": "86786930",
   "metadata": {},
   "outputs": [
    {
     "name": "stdout",
     "output_type": "stream",
     "text": [
      "Found instrument at ASRL4::INSTR ->  \u0015\n",
      "Found instrument at GPIB1::16::INSTR ->  Stanford_Research_Systems,SIM900,s/n130945,ver3.\n",
      "Found instrument at GPIB1::17::INSTR ->  Agilent Technologies,E5071C,MY46109642,A.11.3\n"
     ]
    }
   ],
   "source": [
    "rm = pyvisa.ResourceManager()\n",
    "list_of_instrument = rm.list_resources()\n",
    "for i in range(len(list_of_instrument)):\n",
    "    my_instrument = rm.open_resource(list_of_instrument[i])\n",
    "    try:\n",
    "        listen = my_instrument.query('*IDN?')\n",
    "        print('Found instrument at', list_of_instrument[i], '-> ', listen[:-2])\n",
    "    except: pass"
   ]
  },
  {
   "cell_type": "markdown",
   "id": "66bf9252",
   "metadata": {},
   "source": [
    "# Mannual initialization of instrument"
   ]
  },
  {
   "cell_type": "code",
   "execution_count": 4,
   "id": "44ba470b",
   "metadata": {},
   "outputs": [
    {
     "data": {
      "text/plain": [
       "'Stanford_Research_Systems,SIM900,s/n130945,ver3.6\\n'"
      ]
     },
     "execution_count": 4,
     "metadata": {},
     "output_type": "execute_result"
    }
   ],
   "source": [
    "my_instrument = rm.open_resource(list_of_instrument[19])\n",
    "my_instrument.query('*IDN?')"
   ]
  },
  {
   "cell_type": "markdown",
   "id": "af0736a8",
   "metadata": {},
   "source": [
    "# Initializing Stanford Research Systems SIM900.SIM928 via driver"
   ]
  },
  {
   "cell_type": "code",
   "execution_count": 6,
   "id": "b6c3f28e",
   "metadata": {
    "scrolled": false
   },
   "outputs": [
    {
     "name": "stdout",
     "output_type": "stream",
     "text": [
      "Connected to: Stanford_Research_Systems SIM900 (serial:s/n130945, firmware:ver3.6) in 0.83s\n"
     ]
    },
    {
     "data": {
      "text/plain": [
       "[1, 5]"
      ]
     },
     "execution_count": 6,
     "metadata": {},
     "output_type": "execute_result"
    }
   ],
   "source": [
    "\"\"\"\n",
    "if you will run this sectionn twice, driver will try to connect to the device with the same name SIM928 \n",
    "and then break since the name is already used.\n",
    "\n",
    "Modules are single SIM928 devises connected to a mainframe SIM900\n",
    "\n",
    "https://qcodes.github.io/Qcodes_contrib_drivers/api/generated/qcodes_contrib_drivers.drivers.StanfordResearchSystems.html\n",
    "\n",
    "\"\"\" \n",
    "\n",
    "VoltGen = SIM928.SIM928(name='SIM928', address='GPIB1::16::INSTR') \n",
    "modules = VoltGen.find_modules() \n",
    "modules"
   ]
  },
  {
   "cell_type": "code",
   "execution_count": 11,
   "id": "bb7f87a2",
   "metadata": {},
   "outputs": [],
   "source": [
    "\"\"\"\n",
    "Use this section to set voltage. Use module number as first argument. Command \"set_voltage\" doesn't return anything\n",
    "\n",
    "\"\"\" \n",
    "\n",
    "listen = VoltGen.set_voltage(1, 0.0)\n",
    "listen"
   ]
  },
  {
   "cell_type": "code",
   "execution_count": 14,
   "id": "a3bff97a",
   "metadata": {},
   "outputs": [
    {
     "data": {
      "text/plain": [
       "0.0"
      ]
     },
     "execution_count": 14,
     "metadata": {},
     "output_type": "execute_result"
    }
   ],
   "source": [
    "\"\"\"\n",
    "Use this section to read voltage. Use module number as first argument. Command \"get_voltage\" returns voltage in ??volts??\n",
    "\n",
    "\"\"\" \n",
    "listen = VoltGen.get_voltage(1)\n",
    "listen"
   ]
  },
  {
   "cell_type": "markdown",
   "id": "78ef2623",
   "metadata": {},
   "source": [
    "# Agilent Technologies E5071C via driver"
   ]
  },
  {
   "cell_type": "code",
   "execution_count": null,
   "id": "79f188db",
   "metadata": {},
   "outputs": [],
   "source": []
  },
  {
   "cell_type": "code",
   "execution_count": null,
   "id": "4025d2b2",
   "metadata": {},
   "outputs": [],
   "source": []
  },
  {
   "cell_type": "markdown",
   "id": "15097188",
   "metadata": {},
   "source": [
    "HELLLLLOOOOOOOO"
   ]
  },
  {
   "cell_type": "code",
   "execution_count": null,
   "id": "cd52574b",
   "metadata": {},
   "outputs": [],
   "source": []
  }
 ],
 "metadata": {
  "kernelspec": {
   "display_name": "Python 3 (ipykernel)",
   "language": "python",
   "name": "python3"
  },
  "language_info": {
   "codemirror_mode": {
    "name": "ipython",
    "version": 3
   },
   "file_extension": ".py",
   "mimetype": "text/x-python",
   "name": "python",
   "nbconvert_exporter": "python",
   "pygments_lexer": "ipython3",
   "version": "3.9.12"
  }
 },
 "nbformat": 4,
 "nbformat_minor": 5
}
