{
 "cells": [
  {
   "cell_type": "code",
   "execution_count": 1,
   "id": "620bc1ff",
   "metadata": {},
   "outputs": [
    {
     "name": "stderr",
     "output_type": "stream",
     "text": [
      "C:\\Users\\Demag\\anaconda3\\lib\\site-packages\\scipy\\__init__.py:146: UserWarning: A NumPy version >=1.16.5 and <1.23.0 is required for this version of SciPy (detected version 1.26.1\n",
      "  warnings.warn(f\"A NumPy version >={np_minversion} and <{np_maxversion}\"\n"
     ]
    },
    {
     "name": "stdout",
     "output_type": "stream",
     "text": [
      "Folder C:\\Users\\Demag\\PycharmProjects\\ColdMeasurements\\DeMag\\DATA\\TWPA_noise_6 already exists\n"
     ]
    }
   ],
   "source": [
    "from nanodrivers.visa_drivers.anapico import ANAPICO\n",
    "from nanodrivers.visa_drivers.SIM928_voltage_source import SIM # as DC\n",
    "from nanodrivers.visa_drivers.vna import VNA\n",
    "\n",
    "#math\n",
    "import numpy as np\n",
    "from numpy import *\n",
    "from scipy.optimize import curve_fit\n",
    "\n",
    "#plotting\n",
    "import matplotlib.pyplot as plt\n",
    "import matplotlib\n",
    "\n",
    "#matlab import\n",
    "import scipy.io\n",
    "from scipy.io import savemat\n",
    "from scipy.optimize import minimize\n",
    "from scipy.fft import fft, ifft, fftshift, ifftshift\n",
    "\n",
    "\n",
    "#file_store\n",
    "import os\n",
    "\n",
    "#time\n",
    "import time\n",
    "from datetime import datetime, timedelta\n",
    "\n",
    "\n",
    "from ctypes import *\n",
    "%matplotlib inline\n",
    "\n",
    "Global_data_adress = r\"C:\\Users\\Demag\\PycharmProjects\\ColdMeasurements\\DeMag\\DATA\"\n",
    "exp_name = 'TWPA_noise_6'\n",
    "adress = Global_data_adress+'\\\\'+exp_name\n",
    "if not os.path.exists(adress):\n",
    "  os.mkdir(adress)\n",
    "  print(\"Folder %s created!\" % adress)\n",
    "else:\n",
    "  print(\"Folder %s already exists\" % adress)"
   ]
  },
  {
   "cell_type": "code",
   "execution_count": null,
   "id": "5fe6a312",
   "metadata": {},
   "outputs": [],
   "source": [
    "dc = SIM()\n",
    "dc.idn()"
   ]
  },
  {
   "cell_type": "code",
   "execution_count": null,
   "id": "86f443e5",
   "metadata": {},
   "outputs": [],
   "source": [
    "dc.disconnect()"
   ]
  },
  {
   "cell_type": "code",
   "execution_count": null,
   "id": "b8ec08d4",
   "metadata": {},
   "outputs": [],
   "source": [
    "vna = VNA()\n",
    "vna.idn()"
   ]
  },
  {
   "cell_type": "code",
   "execution_count": null,
   "id": "c3f91feb",
   "metadata": {},
   "outputs": [],
   "source": [
    "anapico = ANAPICO()\n",
    "anapico.idn()"
   ]
  },
  {
   "cell_type": "markdown",
   "id": "0c59337d",
   "metadata": {},
   "source": [
    "# Nice gain sweep picture"
   ]
  },
  {
   "cell_type": "code",
   "execution_count": 2,
   "id": "ea824487",
   "metadata": {},
   "outputs": [],
   "source": [
    "from TWPA_scearch_best_gain import *"
   ]
  },
  {
   "cell_type": "code",
   "execution_count": null,
   "id": "d0d22016",
   "metadata": {},
   "outputs": [],
   "source": [
    "TWPA = TWPA_best_gain(file_path = adress, file_name = 'Best_gain_sweep',\n",
    "                 min_pump_power=5, max_pump_power=6,\n",
    "                 min_pump_freq=9e9, max_pump_freq=14e9,\n",
    "                 min_dc=0, max_dc=3,\n",
    "                 steps_pump_power=2, steps_pump_freq=3001, steps_dc=101)"
   ]
  }
 ],
 "metadata": {
  "kernelspec": {
   "display_name": "Python 3 (ipykernel)",
   "language": "python",
   "name": "python3"
  },
  "language_info": {
   "codemirror_mode": {
    "name": "ipython",
    "version": 3
   },
   "file_extension": ".py",
   "mimetype": "text/x-python",
   "name": "python",
   "nbconvert_exporter": "python",
   "pygments_lexer": "ipython3",
   "version": "3.9.12"
  }
 },
 "nbformat": 4,
 "nbformat_minor": 5
}
