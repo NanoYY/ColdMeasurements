{
 "cells": [
  {
   "cell_type": "code",
   "execution_count": 1,
   "id": "579483f3",
   "metadata": {},
   "outputs": [
    {
     "name": "stderr",
     "output_type": "stream",
     "text": [
      "C:\\Users\\Demag\\anaconda3\\lib\\site-packages\\scipy\\__init__.py:146: UserWarning: A NumPy version >=1.16.5 and <1.23.0 is required for this version of SciPy (detected version 1.26.1\n",
      "  warnings.warn(f\"A NumPy version >={np_minversion} and <{np_maxversion}\"\n"
     ]
    }
   ],
   "source": [
    "import matplotlib.pyplot as plt\n",
    "import matplotlib\n",
    "font = {'size'   : 15}\n",
    "matplotlib.rc('font', **font)\n",
    "\n",
    "#time\n",
    "from datetime import datetime, timedelta\n",
    "import time\n",
    "\n",
    "#matlab import\n",
    "import scipy.io\n",
    "from scipy.io import savemat\n",
    "\n",
    "#math\n",
    "import numpy as np\n",
    "from numpy import *\n",
    "from scipy.optimize import curve_fit\n",
    "\n",
    "from nanodrivers.visa_drivers.vna import VNA\n",
    "from nanodrivers.visa_drivers.anapico import ANAPICO\n",
    "from nanodrivers.visa_drivers.signal_analyser import Anri"
   ]
  },
  {
   "cell_type": "code",
   "execution_count": 94,
   "id": "0be7baac",
   "metadata": {},
   "outputs": [
    {
     "name": "stdout",
     "output_type": "stream",
     "text": [
      "Connection exist: AnaPico AG,APMS20G,3C6-0B4F40003-0985,0.4.209\n",
      "\n"
     ]
    }
   ],
   "source": [
    "anapico = ANAPICO()\n",
    "anapico.idn()"
   ]
  },
  {
   "cell_type": "code",
   "execution_count": 95,
   "id": "2d11ee70",
   "metadata": {},
   "outputs": [
    {
     "name": "stdout",
     "output_type": "stream",
     "text": [
      "Connection exist: Rohde-Schwarz,ZNB20-2Port,1311601062102129,3.45\n",
      "\n"
     ]
    }
   ],
   "source": [
    "vna = VNA(device_num=\"TCPIP0::169.254.36.111::hislip0::INSTR\")\n",
    "vna.idn()"
   ]
  },
  {
   "cell_type": "code",
   "execution_count": 96,
   "id": "96905007",
   "metadata": {
    "scrolled": false
   },
   "outputs": [
    {
     "name": "stdout",
     "output_type": "stream",
     "text": [
      "Connection exist: ANRITSU,MS2830A,6200847105,4.09.01\r\n",
      "\n"
     ]
    }
   ],
   "source": [
    "anri = Anri()\n",
    "anri.idn()"
   ]
  },
  {
   "cell_type": "code",
   "execution_count": 130,
   "id": "0fc24b61",
   "metadata": {},
   "outputs": [],
   "source": [
    "# Global variables\n",
    "data_sweeps = []\n",
    "anri_parameters = [] # (fLowBound, fUppBound, power, freq_dist, cent_freq)\n",
    "vna_data = []\n",
    "vna_parameters = [] # (start_freq, end_freq, power)"
   ]
  },
  {
   "cell_type": "code",
   "execution_count": 131,
   "id": "3f055339",
   "metadata": {},
   "outputs": [],
   "source": [
    "# Sets up the measuring window (span) and precision (band)\n",
    "def setUp(band_Hz=float, span=float):\n",
    "    anapico.set_on(3)\n",
    "    anapico.set_on(4)\n",
    "    anri.set_band_Hz(band_Hz)\n",
    "    anri.set_span(span)\n",
    "    print('Ch3: ' + str(anapico.get_status(3)))\n",
    "    print('Ch4: ' + str(anapico.get_status(4)))\n",
    "    print('Span: ' + str(anri.get_span()))"
   ]
  },
  {
   "cell_type": "code",
   "execution_count": 132,
   "id": "3a56420d",
   "metadata": {},
   "outputs": [],
   "source": [
    "def sweep(cent_freq=float, sweep_span=float, noSteps = int, freqDist = float, power = int):\n",
    "    span = anri.get_span()\n",
    "    global data_sweeps\n",
    "    global anri_parameters\n",
    "    \n",
    "    start_freq = cent_freq - sweep_span / 2\n",
    "    end_freq = cent_freq + sweep_span / 2\n",
    "    df = (end_freq - start_freq) / noSteps\n",
    "    f = start_freq\n",
    "    \n",
    "    for i in range(noSteps + 1):\n",
    "        anri.set_cent_freq(f)\n",
    "        anapico.set_freq(3, f - freqDist / 2)\n",
    "        anapico.set_freq(4, f + freqDist / 2)\n",
    "        anapico.set_power(3, power)\n",
    "        anapico.set_power(4, power)\n",
    "        data = anri.get_data() \n",
    "        data_sweeps.append(data) # appends the measurement data to data_sweeps\n",
    "        anri_parameters.append((f - span / 2, f + span / 2, power, freqDist, f)) # appends the frequency window of the measurement to \n",
    "        f = f + df\n",
    "        print(i) # prints a stamp at each cycle. In the end should be the numper of steps performed.\n",
    "                           \n",
    "    #updates data_sweeps and freq_window"
   ]
  },
  {
   "cell_type": "code",
   "execution_count": 133,
   "id": "1e8d7402",
   "metadata": {},
   "outputs": [
    {
     "name": "stdout",
     "output_type": "stream",
     "text": [
      "Ch3: 1.0\n",
      "Ch4: 1.0\n",
      "Span: 1000000.0\n"
     ]
    }
   ],
   "source": [
    "setUp(100, 1e6)"
   ]
  },
  {
   "cell_type": "code",
   "execution_count": 75,
   "id": "0c60c8c6",
   "metadata": {},
   "outputs": [
    {
     "name": "stdout",
     "output_type": "stream",
     "text": [
      "0\n",
      "1\n",
      "2\n",
      "3\n",
      "4\n",
      "5\n",
      "6\n",
      "7\n",
      "8\n",
      "9\n",
      "10\n",
      "11\n",
      "12\n",
      "13\n",
      "14\n",
      "15\n",
      "16\n",
      "17\n",
      "18\n",
      "19\n",
      "20\n",
      "0\n",
      "1\n",
      "2\n",
      "3\n",
      "4\n",
      "5\n",
      "6\n",
      "7\n",
      "8\n",
      "9\n",
      "10\n",
      "11\n",
      "12\n",
      "13\n",
      "14\n",
      "15\n",
      "16\n",
      "17\n",
      "18\n",
      "19\n",
      "20\n",
      "0\n",
      "1\n",
      "2\n",
      "3\n",
      "4\n",
      "5\n",
      "6\n",
      "7\n",
      "8\n",
      "9\n",
      "10\n",
      "11\n",
      "12\n",
      "13\n",
      "14\n",
      "15\n",
      "16\n",
      "17\n",
      "18\n",
      "19\n",
      "20\n",
      "0\n",
      "1\n",
      "2\n",
      "3\n",
      "4\n",
      "5\n",
      "6\n",
      "7\n",
      "8\n",
      "9\n",
      "10\n",
      "11\n",
      "12\n",
      "13\n",
      "14\n",
      "15\n",
      "16\n",
      "17\n",
      "18\n",
      "19\n",
      "20\n"
     ]
    }
   ],
   "source": [
    "for i in range(4):\n",
    "    sweep(cent_freq=3.79905e9, sweep_span=2e6, noSteps=20, freqDist=50e3, power = -10 - 5*i)"
   ]
  },
  {
   "cell_type": "code",
   "execution_count": null,
   "id": "330f1b1e",
   "metadata": {},
   "outputs": [],
   "source": [
    "anri.set_cent_freq(3.79905e9)\n",
    "anapico.set_freq(3, 3.799055e9)\n",
    "anapico.set_freq(4, 3.799045e9)\n",
    "anapico.set_power(3, -20)\n",
    "anapico.set_power(4, -20)"
   ]
  },
  {
   "cell_type": "code",
   "execution_count": null,
   "id": "33729670",
   "metadata": {},
   "outputs": [],
   "source": [
    "test = vna.get_data()"
   ]
  },
  {
   "cell_type": "code",
   "execution_count": 24,
   "id": "9c52f80b",
   "metadata": {},
   "outputs": [
    {
     "name": "stdout",
     "output_type": "stream",
     "text": [
      "10001\n",
      "1001\n"
     ]
    }
   ],
   "source": [
    "print(len(data_sweeps[0]))\n",
    "print(len(vna_data[0]))"
   ]
  },
  {
   "cell_type": "code",
   "execution_count": 76,
   "id": "1d59576d",
   "metadata": {},
   "outputs": [],
   "source": [
    "def vna_meas_anaOn(cent_freq=float, span=float, start_pow=int, end_pow=int, pow_increments=int):\n",
    "    vna.write('INIT1:CONT ON')\n",
    "    vna.set_span(span)\n",
    "    vna.set_cent_freq(cent_freq)\n",
    "    anapico.set_on(3)\n",
    "    anapico.set_on(4)\n",
    "    \n",
    "    start_freq = cent_freq - span / 2\n",
    "    end_freq = cent_freq + span / 2\n",
    "    power = start_pow\n",
    "    \n",
    "    while power >= end_pow:\n",
    "        anapico.set_power(3, power)\n",
    "        anapico.set_power(4, power)\n",
    "        vna.set_power(power)\n",
    "        vna_data.append(vna.get_data()[0])\n",
    "        vna_parameters.append((start_freq, end_freq, power))\n",
    "        print(power)\n",
    "        power = power + pow_increments"
   ]
  },
  {
   "cell_type": "code",
   "execution_count": 129,
   "id": "559ee386",
   "metadata": {},
   "outputs": [],
   "source": [
    "def vna_meas_anaOff(cent_freq=float, span=float, start_pow=int, end_pow=int, pow_increments=int):\n",
    "    vna.write('INIT1:CONT ON')\n",
    "    vna.set_span(span)\n",
    "    vna.set_cent_freq(cent_freq)\n",
    "    anapico.set_off(3)\n",
    "    anapico.set_off(4)\n",
    "    \n",
    "    start_freq = cent_freq - span / 2\n",
    "    end_freq = cent_freq + span / 2\n",
    "    power = start_pow\n",
    "    \n",
    "    while power >= end_pow:\n",
    "        vna.set_power(power + 10*np.log10(2))\n",
    "        vna_data.append(vna.get_data()[0])\n",
    "        vna_parameters.append((start_freq, end_freq, power))\n",
    "        print(power)\n",
    "        power = power + pow_increments"
   ]
  },
  {
   "cell_type": "code",
   "execution_count": 134,
   "id": "62d20ac7",
   "metadata": {},
   "outputs": [
    {
     "name": "stdout",
     "output_type": "stream",
     "text": [
      "-10\n",
      "-15\n",
      "-20\n",
      "-25\n",
      "-30\n",
      "-35\n"
     ]
    }
   ],
   "source": [
    "vna_meas_anaOff(3.79905e9, 3e6, -10, -35, -5)\n",
    "#print(len(vna_data))"
   ]
  },
  {
   "cell_type": "code",
   "execution_count": 103,
   "id": "24c06fcc",
   "metadata": {},
   "outputs": [],
   "source": [
    "def convert_dBm_dB(ref_pow=float, input_pow=float): # ref_pow[W], input_pow[dBm]\n",
    "    input_W = 1e-3*pow(10, input_pow/10) #dBm to W\n",
    "    input_dB = 10*log(input_W/ref_pow) #W to dB\n",
    "    return input_dB"
   ]
  },
  {
   "cell_type": "code",
   "execution_count": 108,
   "id": "8a1f55b8",
   "metadata": {},
   "outputs": [
    {
     "data": {
      "text/plain": [
       "-57.564627324851145"
      ]
     },
     "execution_count": 108,
     "metadata": {},
     "output_type": "execute_result"
    }
   ],
   "source": [
    "ref_pow = 1e-3*pow(10, -10/10)\n",
    "convert_dBm_dB(ref_pow, -35)"
   ]
  },
  {
   "cell_type": "code",
   "execution_count": 139,
   "id": "e67aa898",
   "metadata": {},
   "outputs": [
    {
     "data": {
      "text/plain": [
       "[<matplotlib.lines.Line2D at 0x1ca70a77130>]"
      ]
     },
     "execution_count": 139,
     "metadata": {},
     "output_type": "execute_result"
    },
    {
     "data": {
      "image/png": "[encoded data removed]",
      "text/plain": [
       "<Figure size 1440x1080 with 2 Axes>"
      ]
     },
     "metadata": {
      "needs_background": "light"
     },
     "output_type": "display_data"
    }
   ],
   "source": [
    "fig, ax = plt.subplots(1, 2, figsize=(20,15))\n",
    "ax[0].plot(vna_data[0])\n",
    "ax[0].plot(vna_data[1])\n",
    "ax[0].plot(vna_data[2])"
   ]
  },
  {
   "cell_type": "code",
   "execution_count": 113,
   "id": "3033a2db",
   "metadata": {},
   "outputs": [],
   "source": [
    "state=dict()\n",
    "state['temp'] = 7.4\n",
    "\n",
    "state['dump_vna'] = vna.dump()\n",
    "state['dump_anapico'] = anapico.dump()\n",
    "state['data_sweeps'] = data_sweeps\n",
    "state['anri_parameters'] = anri_parameters\n",
    "state['vna_data'] = vna_data\n",
    "state['vna_parameters'] = vna_parameters"
   ]
  },
  {
   "cell_type": "code",
   "execution_count": 114,
   "id": "f24a47c6",
   "metadata": {},
   "outputs": [
    {
     "data": {
      "text/plain": [
       "{'temp': 7.4,\n",
       " 'dump_vna': {'device': 'TCPIPInstrument at TCPIP0::169.254.36.111::hislip0::INSTR',\n",
       "  'type': 'LIN',\n",
       "  'ref_source': 'INT',\n",
       "  'form': 0,\n",
       "  'cent_freq': 3799050000.0,\n",
       "  'span': 3000000.0,\n",
       "  'star_freq': 3797550000.0,\n",
       "  'stop_freq': 3800550000.0,\n",
       "  'cw_freq': nan,\n",
       "  'freq': array([3.797550e+09, 3.797553e+09, 3.797556e+09, ..., 3.800544e+09,\n",
       "         3.800547e+09, 3.800550e+09]),\n",
       "  'nop': 1001,\n",
       "  'elength': 0.0,\n",
       "  'status_output': 0,\n",
       "  'band': 100.0,\n",
       "  'power': -35,\n",
       "  'avg_status': 0,\n",
       "  'avgs': 1},\n",
       " 'dump_anapico': {'device': 'TCPIPInstrument at TCPIP0::169.254.12.34::inst0::INSTR',\n",
       "  'channel_status': array([0., 0., 0., 0.]),\n",
       "  'channel_freqs': array([1.00000000e+09, 1.00000000e+09, 3.77872492e+09, 3.77872502e+09]),\n",
       "  'channel_pows': array([  0.,   0., -40., -10.])},\n",
       " 'data_sweeps': [],\n",
       " 'anri_parameters': [],\n",
       " 'vna_data': [array([-61.38482648, -61.49907685, -61.49628598, ..., -62.33515377,\n",
       "         -62.23739127, -62.19345918]),\n",
       "  array([-61.30256239, -61.38368759, -61.25626926, ..., -62.3265284 ,\n",
       "         -62.25418184, -62.32934219]),\n",
       "  array([-61.07883626, -61.14895258, -61.30515478, ..., -62.2795522 ,\n",
       "         -62.30323793, -62.38364727]),\n",
       "  array([-61.51358376, -61.14256659, -61.30176323, ..., -62.34850245,\n",
       "         -62.25004363, -62.3867671 ]),\n",
       "  array([-60.67473093, -61.1774184 , -61.12413916, ..., -62.4001253 ,\n",
       "         -61.18891135, -63.86355872]),\n",
       "  array([-61.00674613, -60.42774224, -61.09620209, ..., -62.13023912,\n",
       "         -62.22721159, -63.1166389 ])],\n",
       " 'vna_parameters': [(3797550000.0, 3800550000.0, -10),\n",
       "  (3797550000.0, 3800550000.0, -15),\n",
       "  (3797550000.0, 3800550000.0, -20),\n",
       "  (3797550000.0, 3800550000.0, -25),\n",
       "  (3797550000.0, 3800550000.0, -30),\n",
       "  (3797550000.0, 3800550000.0, -35)]}"
      ]
     },
     "execution_count": 114,
     "metadata": {},
     "output_type": "execute_result"
    }
   ],
   "source": [
    "state"
   ]
  },
  {
   "cell_type": "code",
   "execution_count": 135,
   "id": "787e2963",
   "metadata": {},
   "outputs": [],
   "source": [
    "now = datetime.now()  \n",
    "folder = r'C:\\Users\\Demag\\PycharmProjects\\ColdMeasurements\\DeMag\\DATA\\IMS_summer_pro'\n",
    "file = r'vna_data_2_'+ now.strftime(r'%Y%m%d%H%M%S') + '.mat'\n",
    "file_name = folder +'\\\\' + file"
   ]
  },
  {
   "cell_type": "code",
   "execution_count": 136,
   "id": "b9fae716",
   "metadata": {},
   "outputs": [],
   "source": [
    "savemat(file_name, state)"
   ]
  },
  {
   "cell_type": "code",
   "execution_count": 137,
   "id": "5d302701",
   "metadata": {},
   "outputs": [],
   "source": [
    "anapico.set_off(3) # turn off anapico after measurement\n",
    "anapico.set_off(4)"
   ]
  },
  {
   "cell_type": "code",
   "execution_count": 138,
   "id": "01c3f661",
   "metadata": {},
   "outputs": [
    {
     "name": "stdout",
     "output_type": "stream",
     "text": [
      "0.0\n",
      "0.0\n"
     ]
    }
   ],
   "source": [
    "print(anapico.get_status(3))\n",
    "print(anapico.get_status(4))"
   ]
  },
  {
   "cell_type": "code",
   "execution_count": null,
   "id": "0733f11b",
   "metadata": {},
   "outputs": [],
   "source": []
  }
 ],
 "metadata": {
  "kernelspec": {
   "display_name": "Python 3 (ipykernel)",
   "language": "python",
   "name": "python3"
  },
  "language_info": {
   "codemirror_mode": {
    "name": "ipython",
    "version": 3
   },
   "file_extension": ".py",
   "mimetype": "text/x-python",
   "name": "python",
   "nbconvert_exporter": "python",
   "pygments_lexer": "ipython3",
   "version": "3.9.12"
  }
 },
 "nbformat": 4,
 "nbformat_minor": 5
}
