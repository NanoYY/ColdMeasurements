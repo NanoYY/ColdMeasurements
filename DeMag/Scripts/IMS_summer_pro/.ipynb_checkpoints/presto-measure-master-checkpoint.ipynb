{
 "cells": [
  {
   "cell_type": "code",
   "execution_count": 54,
   "id": "6febd020",
   "metadata": {},
   "outputs": [
    {
     "name": "stdout",
     "output_type": "stream",
     "text": [
      "Processing c:\\users\\demag\\pycharmprojects\\coldmeasurements\\demag\\scripts\\ims_summer_pro\\presto-measure-master\n",
      "  Installing build dependencies: started\n",
      "  Installing build dependencies: finished with status 'done'\n",
      "  Getting requirements to build wheel: started\n",
      "  Getting requirements to build wheel: finished with status 'done'\n",
      "    Preparing wheel metadata: started\n",
      "    Preparing wheel metadata: finished with status 'done'\n",
      "Building wheels for collected packages: bak\n",
      "  Building wheel for bak (PEP 517): started\n",
      "  Building wheel for bak (PEP 517): finished with status 'done'\n",
      "  Created wheel for bak: filename=bak-0.0.0-py3-none-any.whl size=88660 sha256=91de7ebbd8d1a07141e984b26cd89d04b746bdc1a3b6cedecf68aa7398f30f3c\n",
      "  Stored in directory: c:\\users\\demag\\appdata\\local\\pip\\cache\\wheels\\3c\\b6\\18\\158eb6e971e627da4d37a89bcbec386c2eb2ebbf2dd2029ebf\n",
      "Successfully built bak\n",
      "Installing collected packages: bak\n",
      "  Attempting uninstall: bak\n",
      "    Found existing installation: bak 0.0.0\n",
      "    Uninstalling bak-0.0.0:\n",
      "      Successfully uninstalled bak-0.0.0\n",
      "Successfully installed bak-0.0.0\n",
      "Note: you may need to restart the kernel to use updated packages.\n"
     ]
    },
    {
     "name": "stderr",
     "output_type": "stream",
     "text": [
      "  DEPRECATION: A future pip version will change local packages to be built in-place without first copying to a temporary directory. We recommend you use --use-feature=in-tree-build to test your packages with this new behavior before it becomes the default.\n",
      "   pip 21.3 will remove support for this functionality. You can find discussion regarding this at https://github.com/pypa/pip/issues/7555.\n"
     ]
    }
   ],
   "source": [
    "pip install \"C:\\Users\\Demag\\PycharmProjects\\ColdMeasurements\\DeMag\\Scripts\\IMS_summer_pro\\presto-measure-master\""
   ]
  },
  {
   "cell_type": "code",
   "execution_count": 6,
   "id": "bf05c5c6",
   "metadata": {},
   "outputs": [
    {
     "name": "stdout",
     "output_type": "stream",
     "text": [
      "Collecting https://github.com/intermod-pro/presto-measure.git\n",
      "  Downloading https://github.com/intermod-pro/presto-measure.git\n",
      "Note: you may need to restart the kernel to use updated packages.\n"
     ]
    },
    {
     "name": "stderr",
     "output_type": "stream",
     "text": [
      "  ERROR: Cannot unpack file C:\\Users\\Demag\\AppData\\Local\\Temp\\pip-unpack-vfuli9vx\\presto-measure.git (downloaded from C:\\Users\\Demag\\AppData\\Local\\Temp\\pip-req-build-xtm7m8kp, content-type: text/html; charset=utf-8); cannot detect archive format\n",
      "ERROR: Cannot determine archive format of C:\\Users\\Demag\\AppData\\Local\\Temp\\pip-req-build-xtm7m8kp\n"
     ]
    }
   ],
   "source": [
    "pip install https://github.com/intermod-pro/presto-measure.git"
   ]
  },
  {
   "cell_type": "code",
   "execution_count": 2,
   "id": "5d4256a4",
   "metadata": {},
   "outputs": [
    {
     "ename": "ModuleNotFoundError",
     "evalue": "No module named '_base'",
     "output_type": "error",
     "traceback": [
      "\u001b[1;31m---------------------------------------------------------------------------\u001b[0m",
      "\u001b[1;31mModuleNotFoundError\u001b[0m                       Traceback (most recent call last)",
      "Cell \u001b[1;32mIn[2], line 1\u001b[0m\n\u001b[1;32m----> 1\u001b[0m \u001b[38;5;28;01mfrom\u001b[39;00m \u001b[38;5;21;01msweep\u001b[39;00m \u001b[38;5;28;01mimport\u001b[39;00m Sweep\n\u001b[0;32m      3\u001b[0m experiment \u001b[38;5;241m=\u001b[39m Sweep(\n\u001b[0;32m      4\u001b[0m     freq_center\u001b[38;5;241m=\u001b[39m\u001b[38;5;241m3.79885e9\u001b[39m,\n\u001b[0;32m      5\u001b[0m     freq_span\u001b[38;5;241m=\u001b[39m\u001b[38;5;241m6e6\u001b[39m,\n\u001b[1;32m   (...)\u001b[0m\n\u001b[0;32m     10\u001b[0m     input_port\u001b[38;5;241m=\u001b[39m\u001b[38;5;241m1\u001b[39m,\n\u001b[0;32m     11\u001b[0m )\n\u001b[0;32m     13\u001b[0m presto_address \u001b[38;5;241m=\u001b[39m \u001b[38;5;124m\"\u001b[39m\u001b[38;5;124m169.254.3.14\u001b[39m\u001b[38;5;124m\"\u001b[39m  \u001b[38;5;66;03m# your Presto IP address\u001b[39;00m\n",
      "File \u001b[1;32m~\\PycharmProjects\\ColdMeasurements\\DeMag\\Scripts\\IMS_summer_pro\\sweep.py:15\u001b[0m\n\u001b[0;32m     12\u001b[0m \u001b[38;5;28;01mfrom\u001b[39;00m \u001b[38;5;21;01mpresto\u001b[39;00m \u001b[38;5;28;01mimport\u001b[39;00m lockin\n\u001b[0;32m     13\u001b[0m \u001b[38;5;28;01mfrom\u001b[39;00m \u001b[38;5;21;01mpresto\u001b[39;00m\u001b[38;5;21;01m.\u001b[39;00m\u001b[38;5;21;01mutils\u001b[39;00m \u001b[38;5;28;01mimport\u001b[39;00m ProgressBar\n\u001b[1;32m---> 15\u001b[0m \u001b[38;5;28;01mfrom\u001b[39;00m \u001b[38;5;21;01m_base\u001b[39;00m \u001b[38;5;28;01mimport\u001b[39;00m Base\n\u001b[0;32m     18\u001b[0m \u001b[38;5;28;01mclass\u001b[39;00m \u001b[38;5;21;01mSweep\u001b[39;00m(Base):\n\u001b[0;32m     19\u001b[0m     \u001b[38;5;28;01mdef\u001b[39;00m \u001b[38;5;21m__init__\u001b[39m(\n\u001b[0;32m     20\u001b[0m         \u001b[38;5;28mself\u001b[39m,\n\u001b[0;32m     21\u001b[0m         freq_center: \u001b[38;5;28mfloat\u001b[39m,\n\u001b[1;32m   (...)\u001b[0m\n\u001b[0;32m     29\u001b[0m         num_skip: \u001b[38;5;28mint\u001b[39m \u001b[38;5;241m=\u001b[39m \u001b[38;5;241m0\u001b[39m,\n\u001b[0;32m     30\u001b[0m     ) \u001b[38;5;241m-\u001b[39m\u001b[38;5;241m>\u001b[39m \u001b[38;5;28;01mNone\u001b[39;00m:\n",
      "\u001b[1;31mModuleNotFoundError\u001b[0m: No module named '_base'"
     ]
    }
   ],
   "source": [
    "from sweep import Sweep\n",
    "\n",
    "experiment = Sweep(\n",
    "    freq_center=3.79885e9,\n",
    "    freq_span=6e6,\n",
    "    df=100e3,\n",
    "    num_averages=100,\n",
    "    amp=inputConv(-6,0.7),\n",
    "    output_port=1,\n",
    "    input_port=1,\n",
    ")\n",
    "\n",
    "presto_address = \"169.254.3.14\"  # your Presto IP address\n",
    "save_filename = experiment.run(presto_address)\n",
    "\n",
    "experiment.analyze()"
   ]
  },
  {
   "cell_type": "code",
   "execution_count": 13,
   "id": "d4c865c6",
   "metadata": {},
   "outputs": [
    {
     "ename": "NameError",
     "evalue": "name 'Sweep' is not defined",
     "output_type": "error",
     "traceback": [
      "\u001b[1;31m---------------------------------------------------------------------------\u001b[0m",
      "\u001b[1;31mNameError\u001b[0m                                 Traceback (most recent call last)",
      "Cell \u001b[1;32mIn[13], line 1\u001b[0m\n\u001b[1;32m----> 1\u001b[0m experiment \u001b[38;5;241m=\u001b[39m \u001b[43mSweep\u001b[49m\u001b[38;5;241m.\u001b[39mload(\u001b[38;5;124m\"\u001b[39m\u001b[38;5;124mdata\u001b[39m\u001b[38;5;124m\\\u001b[39m\u001b[38;5;124msweep_20240716_142029.h5\u001b[39m\u001b[38;5;124m\"\u001b[39m)\n\u001b[0;32m      2\u001b[0m experiment\u001b[38;5;241m.\u001b[39manalyze()\n",
      "\u001b[1;31mNameError\u001b[0m: name 'Sweep' is not defined"
     ]
    }
   ],
   "source": [
    "experiment = Sweep.load(\"data\\sweep_20240716_142029.h5\")\n",
    "experiment.analyze()\n"
   ]
  },
  {
   "cell_type": "code",
   "execution_count": 14,
   "id": "27a9c160",
   "metadata": {},
   "outputs": [],
   "source": [
    "def inputConv(dBm, amplification): #[Amplification] = dB\n",
    "    maxP = 1e-3*np.power(10,-6/10) #W\n",
    "    dBm_val = dBm - amplification\n",
    "    P = 1e-3*np.power(10,dBm_val/10) #W\n",
    "    AMP = (P/maxP) #Amplitude of a single peak\n",
    "    return AMP"
   ]
  },
  {
   "cell_type": "code",
   "execution_count": null,
   "id": "cb838424",
   "metadata": {},
   "outputs": [],
   "source": []
  }
 ],
 "metadata": {
  "kernelspec": {
   "display_name": "Python 3 (ipykernel)",
   "language": "python",
   "name": "python3"
  },
  "language_info": {
   "codemirror_mode": {
    "name": "ipython",
    "version": 3
   },
   "file_extension": ".py",
   "mimetype": "text/x-python",
   "name": "python",
   "nbconvert_exporter": "python",
   "pygments_lexer": "ipython3",
   "version": "3.9.12"
  }
 },
 "nbformat": 4,
 "nbformat_minor": 5
}
