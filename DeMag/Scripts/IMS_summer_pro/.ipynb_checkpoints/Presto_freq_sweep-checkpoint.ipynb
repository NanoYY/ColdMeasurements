{
 "cells": [
  {
   "cell_type": "code",
   "execution_count": 8,
   "id": "5d4256a4",
   "metadata": {},
   "outputs": [
    {
     "ename": "ModuleNotFoundError",
     "evalue": "No module named '_base'",
     "output_type": "error",
     "traceback": [
      "\u001b[1;31m---------------------------------------------------------------------------\u001b[0m",
      "\u001b[1;31mModuleNotFoundError\u001b[0m                       Traceback (most recent call last)",
      "Cell \u001b[1;32mIn[8], line 10\u001b[0m\n\u001b[0;32m      7\u001b[0m \u001b[38;5;28;01mfrom\u001b[39;00m \u001b[38;5;21;01mpresto\u001b[39;00m \u001b[38;5;28;01mimport\u001b[39;00m lockin\n\u001b[0;32m      8\u001b[0m \u001b[38;5;28;01mfrom\u001b[39;00m \u001b[38;5;21;01mpresto\u001b[39;00m\u001b[38;5;21;01m.\u001b[39;00m\u001b[38;5;21;01mutils\u001b[39;00m \u001b[38;5;28;01mimport\u001b[39;00m ProgressBar\n\u001b[1;32m---> 10\u001b[0m \u001b[38;5;28;01mfrom\u001b[39;00m \u001b[38;5;21;01m_base\u001b[39;00m \u001b[38;5;28;01mimport\u001b[39;00m Base\n\u001b[0;32m     11\u001b[0m \u001b[38;5;28;01mfrom\u001b[39;00m \u001b[38;5;21;01msweep\u001b[39;00m \u001b[38;5;28;01mimport\u001b[39;00m Sweep\n\u001b[0;32m     13\u001b[0m experiment \u001b[38;5;241m=\u001b[39m Sweep(\n\u001b[0;32m     14\u001b[0m     freq_center\u001b[38;5;241m=\u001b[39m\u001b[38;5;241m3.79885e9\u001b[39m,\n\u001b[0;32m     15\u001b[0m     freq_span\u001b[38;5;241m=\u001b[39m\u001b[38;5;241m6e6\u001b[39m,\n\u001b[1;32m   (...)\u001b[0m\n\u001b[0;32m     20\u001b[0m     input_port\u001b[38;5;241m=\u001b[39m\u001b[38;5;241m1\u001b[39m,\n\u001b[0;32m     21\u001b[0m )\n",
      "\u001b[1;31mModuleNotFoundError\u001b[0m: No module named '_base'"
     ]
    }
   ],
   "source": [
    "\n",
    "from typing import Optional\n",
    "\n",
    "import h5py\n",
    "import numpy as np\n",
    "import numpy.typing as npt\n",
    "\n",
    "from presto import lockin\n",
    "from presto.utils import ProgressBar\n",
    "\n",
    "from _base import Base\n",
    "from sweep import Sweep\n",
    "\n",
    "experiment = Sweep(\n",
    "    freq_center=3.79885e9,\n",
    "    freq_span=6e6,\n",
    "    df=100e3,\n",
    "    num_averages=100,\n",
    "    amp=0.001,\n",
    "    output_port=1,\n",
    "    input_port=1,\n",
    ")\n",
    "\n",
    "presto_address = \"192.168.58.12\"  # your Presto IP address\n",
    "save_filename = experiment.run(presto_address)\n",
    "\n",
    "experiment.analyze()"
   ]
  },
  {
   "cell_type": "code",
   "execution_count": null,
   "id": "d4c865c6",
   "metadata": {},
   "outputs": [],
   "source": []
  }
 ],
 "metadata": {
  "kernelspec": {
   "display_name": "Python 3 (ipykernel)",
   "language": "python",
   "name": "python3"
  },
  "language_info": {
   "codemirror_mode": {
    "name": "ipython",
    "version": 3
   },
   "file_extension": ".py",
   "mimetype": "text/x-python",
   "name": "python",
   "nbconvert_exporter": "python",
   "pygments_lexer": "ipython3",
   "version": "3.9.12"
  }
 },
 "nbformat": 4,
 "nbformat_minor": 5
}
