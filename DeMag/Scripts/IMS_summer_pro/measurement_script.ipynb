{
 "cells": [
  {
   "cell_type": "code",
   "execution_count": 170,
   "id": "99aedf9d",
   "metadata": {},
   "outputs": [],
   "source": [
    "import matplotlib.pyplot as plt\n",
    "import matplotlib\n",
    "font = {'size'   : 15}\n",
    "matplotlib.rc('font', **font)\n",
    "\n",
    "#time\n",
    "from datetime import datetime, timedelta\n",
    "import time\n",
    "\n",
    "#matlab import\n",
    "import scipy.io\n",
    "from scipy.io import savemat\n",
    "\n",
    "#math\n",
    "import numpy as np\n",
    "from numpy import *\n",
    "from scipy.optimize import curve_fit\n",
    "\n",
    "from nanodrivers.visa_drivers.vna import VNA\n",
    "from nanodrivers.visa_drivers.anapico import ANAPICO\n",
    "from nanodrivers.visa_drivers.signal_analyser import Anri"
   ]
  },
  {
   "cell_type": "code",
   "execution_count": 157,
   "id": "87d2f6aa",
   "metadata": {},
   "outputs": [
    {
     "name": "stdout",
     "output_type": "stream",
     "text": [
      "Connection exist: AnaPico AG,APMS20G,3C6-0B4F40003-0985,0.4.209\n",
      "\n"
     ]
    }
   ],
   "source": [
    "anapico = ANAPICO('TCPIP::169.254.12.34::INSTR')\n",
    "anapico.idn()"
   ]
  },
  {
   "cell_type": "code",
   "execution_count": 171,
   "id": "f561bc2e",
   "metadata": {},
   "outputs": [
    {
     "name": "stdout",
     "output_type": "stream",
     "text": [
      "Connection exist: Rohde-Schwarz,ZNB20-2Port,1311601062102129,3.45\n",
      "\n"
     ]
    }
   ],
   "source": [
    "vna = VNA(device_num=\"TCPIP0::169.254.36.111::hislip0::INSTR\")\n",
    "vna.idn()\n",
    "\n",
    "#Readout data format:\n",
    "#0: Magnitude(db)-Phase(radians)"
   ]
  },
  {
   "cell_type": "code",
   "execution_count": 159,
   "id": "6a6f65d3",
   "metadata": {},
   "outputs": [
    {
     "name": "stdout",
     "output_type": "stream",
     "text": [
      "Connection exist: ANRITSU,MS2830A,6200847105,4.09.01\r\n",
      "\n"
     ]
    }
   ],
   "source": [
    "anri = Anri('GPIB0::18::INSTR')\n",
    "anri.idn()"
   ]
  },
  {
   "cell_type": "code",
   "execution_count": 359,
   "id": "0c9ca741",
   "metadata": {},
   "outputs": [
    {
     "name": "stdout",
     "output_type": "stream",
     "text": [
      "Set up successful\n",
      "Ch1: 1.0\n",
      "Ch4: 1.0\n",
      "Span: 20020.0Hz\n",
      "Measuring Anri\n",
      "Anapico power: -5.0dBm\n",
      "Anapico power: -15.0dBm\n",
      "Anapico power: -25.0dBm\n",
      "Anapico status:\n",
      "Ch1: 0.0\n",
      "Ch4: 0.0\n",
      "File download done\n"
     ]
    }
   ],
   "source": [
    "#Central command cell to run Anritsu and VNA measurements\n",
    "\n",
    "#Global variables\n",
    "anri_data = [] #data sweep over frequencies and power\n",
    "anri_parameters = [] # (fLowBound, fUppBound, power, freq_dist, cent_freq)\n",
    "vna_data = []\n",
    "vna_parameters = [] # (start_freq, end_freq, power)\n",
    "measurement_parameters = [] #inputs of the measure-function\n",
    "file_number = 4\n",
    "\n",
    "anri.set_nop(1001)\n",
    "#Intermodulation measurement\n",
    "measure(cent_freq=3.7980e9,   #Central frequency of vna and anri\n",
    "        sweep_span=8e6,          #Span of start and end frequencies to be measured\n",
    "        anri_span=20020,           #Span of anri measurement at each measured frequency\n",
    "        anri_band_Hz=5,        #Anri resolution bandwidth\n",
    "        noSteps_freq_sweep=100,    #Number of steps in the frequency sweep of sweep_span\n",
    "        freqDist=200,           #Distaqnce between the drive frequencies\n",
    "        start_power=-5,         #Highest power to be measured\n",
    "        end_power=-25,           #Lowest power to be measured\n",
    "        pow_increment=-10         #Difference between the powers in the power sweep\n",
    "       )\n",
    "\n",
    "\n",
    "#Data saving\n",
    "state=dict()\n",
    "state['temp'] = 8.8\n",
    "#state['dump_vna'] = vna.dump()\n",
    "state['dump_anapico'] = anapico.dump()\n",
    "state['anri_data'] = anri_data\n",
    "state['anri_parameters'] = anri_parameters\n",
    "#state['vna_data'] = vna_data\n",
    "#state['vna_parameters'] = vna_parameters\n",
    "state['measurement_parameters'] = measurement_parameters\n",
    "\n",
    "now = datetime.now()  \n",
    "folder = r'C:\\Users\\Demag\\PycharmProjects\\ColdMeasurements\\DeMag\\DATA\\IMS_summer_pro'\n",
    "file = r'M'+str(file_number)+'_onres_200Hz_freqdist_25dB_att_' + now.strftime(r'%Y%m%d%H%M%S') + '.mat'\n",
    "file_name = folder +'\\\\' + file\n",
    "\n",
    "savemat(file_name, state)\n",
    "print('File download done')\n"
   ]
  },
  {
   "cell_type": "code",
   "execution_count": 358,
   "id": "abd9d730",
   "metadata": {},
   "outputs": [
    {
     "name": "stdout",
     "output_type": "stream",
     "text": [
      "Set up successful\n",
      "Ch1: 1.0\n",
      "Ch4: 1.0\n",
      "Span: 20020.0Hz\n",
      "Measuring Anri\n",
      "Anapico power: 0.0dBm\n",
      "Anapico power: -5.0dBm\n",
      "Anapico power: -10.0dBm\n",
      "Anapico power: -15.0dBm\n",
      "Anapico power: -20.0dBm\n",
      "Anapico power: -25.0dBm\n",
      "Anapico status:\n",
      "Ch1: 0.0\n",
      "Ch4: 0.0\n",
      "File download done\n"
     ]
    }
   ],
   "source": [
    "#Central command cell to run Anritsu and VNA measurements\n",
    "\n",
    "#Global variables\n",
    "anri_data = [] #data sweep over frequencies and power\n",
    "anri_parameters = [] # (fLowBound, fUppBound, power, freq_dist, cent_freq)\n",
    "vna_data = []\n",
    "vna_parameters = [] # (start_freq, end_freq, power)\n",
    "measurement_parameters = [] #inputs of the measure-function\n",
    "file_number = 4\n",
    "\n",
    "anri.set_nop(1001)\n",
    "#Intermodulation measurement\n",
    "measure(cent_freq=3.8980e9,   #Central frequency of vna and anri\n",
    "        sweep_span=10e6,          #Span of start and end frequencies to be measured\n",
    "        anri_span=20020,           #Span of anri measurement at each measured frequency\n",
    "        anri_band_Hz=5,        #Anri resolution bandwidth\n",
    "        noSteps_freq_sweep=50,    #Number of steps in the frequency sweep of sweep_span\n",
    "        freqDist=200,           #Distaqnce between the drive frequencies\n",
    "        start_power=0,         #Highest power to be measured\n",
    "        end_power=-25,           #Lowest power to be measured\n",
    "        pow_increment=-5         #Difference between the powers in the power sweep\n",
    "       )\n",
    "\n",
    "\n",
    "#Data saving\n",
    "state=dict()\n",
    "state['temp'] = 8.8\n",
    "#state['dump_vna'] = vna.dump()\n",
    "state['dump_anapico'] = anapico.dump()\n",
    "state['anri_data'] = anri_data\n",
    "state['anri_parameters'] = anri_parameters\n",
    "#state['vna_data'] = vna_data\n",
    "#state['vna_parameters'] = vna_parameters\n",
    "state['measurement_parameters'] = measurement_parameters\n",
    "\n",
    "now = datetime.now()  \n",
    "folder = r'C:\\Users\\Demag\\PycharmProjects\\ColdMeasurements\\DeMag\\DATA\\IMS_summer_pro'\n",
    "file = r'M'+str(file_number)+'_offres_200Hz_freqdist_' + now.strftime(r'%Y%m%d%H%M%S') + '.mat'\n",
    "file_name = folder +'\\\\' + file\n",
    "\n",
    "savemat(file_name, state)\n",
    "print('File download done')\n"
   ]
  },
  {
   "cell_type": "code",
   "execution_count": 273,
   "id": "11ac8bdf",
   "metadata": {},
   "outputs": [
    {
     "name": "stdout",
     "output_type": "stream",
     "text": [
      "1\n",
      "2\n",
      "3\n",
      "4\n"
     ]
    }
   ],
   "source": []
  },
  {
   "cell_type": "code",
   "execution_count": 100,
   "id": "7876f445",
   "metadata": {},
   "outputs": [],
   "source": [
    "# Sets up the measuring window (span) and precision (band)\n",
    "def setUp(band_Hz=float, span=float):\n",
    "    anapico.set_on(1)\n",
    "    anapico.set_on(4)\n",
    "    anri.set_band_Hz(band_Hz)\n",
    "    anri.set_span(span)\n",
    "    print('Set up successful')\n",
    "    print('Ch1: ' + str(anapico.get_status(1)))\n",
    "    print('Ch4: ' + str(anapico.get_status(4)))\n",
    "    print('Span: ' + str(anri.get_span()) + 'Hz')"
   ]
  },
  {
   "cell_type": "code",
   "execution_count": 353,
   "id": "2fb34de4",
   "metadata": {},
   "outputs": [],
   "source": [
    "def sweep(cent_freq=float, sweep_span=float, noSteps = int, freqDist = float, power = int):\n",
    "    anri_span = anri.get_span()\n",
    "    global data_sweeps\n",
    "    global anri_parameters\n",
    "    global vna_data\n",
    "    global vna_parameters\n",
    "\n",
    "    #Anri parameter setup\n",
    "    anapico.set_power(1, power)\n",
    "    anapico.set_power(4, power)\n",
    "    start_freq = cent_freq - sweep_span / 2\n",
    "    end_freq = cent_freq + sweep_span / 2\n",
    "    df = (end_freq - start_freq) / noSteps\n",
    "    f = end_freq\n",
    "    print('Anapico power: ' + str(anapico.get_power(1)) + 'dBm')\n",
    "    \n",
    "    #Anri measurement\n",
    "    for i in range(noSteps+1):\n",
    "        anri.set_cent_freq(f)\n",
    "        anapico.set_freq(1, f - freqDist / 2)\n",
    "        anapico.set_freq(4, f + freqDist / 2)\n",
    "        anri_data.append(anri.get_data()) # appends the measurement data to data_sweeps\n",
    "        anri_parameters.append((f - anri_span / 2, f + anri_span / 2, power, freqDist, f))\n",
    "        f = f - df\n",
    "        #print('Step: ' + str(i)) # prints a stamp at each cycle. In the end should be the numper of steps performed.\n",
    "         \n",
    "    #updates data_sweeps and freq_window\n"
   ]
  },
  {
   "cell_type": "code",
   "execution_count": 354,
   "id": "e7906ae7",
   "metadata": {},
   "outputs": [],
   "source": [
    "def convert_dBm_dB(ref_pow=float, input_pow=float): # ref_pow[W], input_pow[dBm]\n",
    "    input_W = 1e-3*pow(10, input_pow/10) #dBm to W\n",
    "    input_dB = 10*np.log10(input_W/ref_pow) #W to dB\n",
    "    return input_dB"
   ]
  },
  {
   "cell_type": "code",
   "execution_count": 355,
   "id": "943a0eec",
   "metadata": {},
   "outputs": [],
   "source": [
    "def measure(cent_freq=float, sweep_span=float, anri_span=float, anri_band_Hz=float, noSteps_freq_sweep=int, freqDist=float, start_power=int, end_power=int, pow_increment=int):\n",
    "    measurement_parameters.append([cent_freq, sweep_span, anri_span, anri_band_Hz, noSteps_freq_sweep, freqDist, start_power, end_power, pow_increment])\n",
    "    setUp(anri_band_Hz, anri_span)\n",
    "    \n",
    "    print('Measuring Anri')\n",
    "    noSteps_power_sweep = int((abs(end_power)-abs(start_power))/abs(pow_increment))\n",
    "    for i in range(noSteps_power_sweep + 1):\n",
    "        sweep(cent_freq, sweep_span, noSteps_freq_sweep, freqDist, power = start_power + i*pow_increment)\n",
    "        \n",
    "    #print('Measuring VNA')\n",
    "    #meas_span = sweep_span + anri_span\n",
    "    #vna_measurement(cent_freq, meas_span, start_power, end_power, pow_increment)\n",
    "        \n",
    "    anapico.set_off(1) # turn off anapico after measurement\n",
    "    anapico.set_off(4)\n",
    "    print('Anapico status:')\n",
    "    print('Ch1: ' + str(anapico.get_status(1)))\n",
    "    print('Ch4: ' + str(anapico.get_status(4)))\n",
    "          "
   ]
  },
  {
   "cell_type": "code",
   "execution_count": 123,
   "id": "ce28f703",
   "metadata": {},
   "outputs": [],
   "source": [
    "def vna_measurement(cent_freq=float, span=float, n_points=int, band_Hz=10, start_pow=int, end_pow=int, pow_increments=int, attenuation=int):\n",
    "    vna.write('INIT1:CONT ON')\n",
    "    vna.write('INIT2:CONT ON')\n",
    "    #anapico.set_off(1)\n",
    "    #anapico.set_off(4)\n",
    "    \n",
    "    start_freq = cent_freq - span / 2\n",
    "    end_freq = cent_freq + span / 2\n",
    "    power = start_pow\n",
    "    \n",
    "    while power >= end_pow:\n",
    "        vna.set_power(power) \n",
    "        print('Power: ' + str(vna.get_power()-attenuation) + 'dBm')\n",
    "        vna.set_on()\n",
    "        vna_data.append(vna.lin_meas_ss(start_fr=start_freq, stop_fr=end_freq, nop=n_points, meas_power=power, band=band_Hz))\n",
    "        vna_parameters.append((start_freq, end_freq, power-attenuation))\n",
    "        power = power + pow_increments\n",
    "        vna.set_off()"
   ]
  },
  {
   "cell_type": "code",
   "execution_count": 105,
   "id": "1c97d625",
   "metadata": {},
   "outputs": [],
   "source": [
    "def single_shot(cent_freq=float, freqDist = float, power = int, band_Hz=float, anri_span=float):\n",
    "    global measurement\n",
    "    global parameters\n",
    "    \n",
    "    setUp(band_Hz, anri_span)\n",
    "    \n",
    "    print('Measuring Anri')\n",
    "    anri.set_cent_freq(cent_freq)\n",
    "    anapico.set_freq(1, cent_freq - freqDist / 2)\n",
    "    anapico.set_freq(4, cent_freq + freqDist / 2)\n",
    "    anapico.set_power(1, power)\n",
    "    anapico.set_power(4, power)\n",
    "    print('Anapico power: ' + str(anapico.get_power(1)) + 'dBm')\n",
    "    measurement.append(anri.get_data())\n",
    "    parameters = [cent_freq, freqDist, power, band_Hz, anri_span]\n",
    "    print('Measurement successful')\n",
    "    "
   ]
  },
  {
   "cell_type": "code",
   "execution_count": 211,
   "id": "afed31eb",
   "metadata": {},
   "outputs": [],
   "source": [
    "measurement = []\n",
    "parameters = []"
   ]
  },
  {
   "cell_type": "code",
   "execution_count": 212,
   "id": "2f49ee31",
   "metadata": {},
   "outputs": [
    {
     "name": "stdout",
     "output_type": "stream",
     "text": [
      "Set up successful\n",
      "Ch1: 1.0\n",
      "Ch4: 1.0\n",
      "Span: 25000.0Hz\n",
      "Measuring Anri\n",
      "Anapico power: -10.0dBm\n",
      "Unable to connect device.\n",
      " VI_ERROR_TMO (-1073807339): Timeout expired before operation completed.\n",
      "Check that device is connected, visible in NI MAX and is not used by another software.\n"
     ]
    },
    {
     "ename": "ValueError",
     "evalue": "could not convert string to float: ''",
     "output_type": "error",
     "traceback": [
      "\u001b[1;31m---------------------------------------------------------------------------\u001b[0m",
      "\u001b[1;31mValueError\u001b[0m                                Traceback (most recent call last)",
      "Cell \u001b[1;32mIn[212], line 1\u001b[0m\n\u001b[1;32m----> 1\u001b[0m \u001b[43msingle_shot\u001b[49m\u001b[43m(\u001b[49m\u001b[43mcent_freq\u001b[49m\u001b[38;5;241;43m=\u001b[39;49m\u001b[38;5;241;43m3.7985e9\u001b[39;49m\u001b[43m,\u001b[49m\n\u001b[0;32m      2\u001b[0m \u001b[43m            \u001b[49m\u001b[43mfreqDist\u001b[49m\u001b[38;5;241;43m=\u001b[39;49m\u001b[38;5;241;43m100\u001b[39;49m\u001b[43m,\u001b[49m\n\u001b[0;32m      3\u001b[0m \u001b[43m            \u001b[49m\u001b[43mpower\u001b[49m\u001b[38;5;241;43m=\u001b[39;49m\u001b[38;5;241;43m-\u001b[39;49m\u001b[38;5;241;43m10\u001b[39;49m\u001b[43m,\u001b[49m\n\u001b[0;32m      4\u001b[0m \u001b[43m            \u001b[49m\u001b[43mband_Hz\u001b[49m\u001b[38;5;241;43m=\u001b[39;49m\u001b[38;5;241;43m1\u001b[39;49m\u001b[43m,\u001b[49m\n\u001b[0;32m      5\u001b[0m \u001b[43m            \u001b[49m\u001b[43manri_span\u001b[49m\u001b[38;5;241;43m=\u001b[39;49m\u001b[38;5;241;43m10001\u001b[39;49m\n\u001b[0;32m      6\u001b[0m \u001b[43m           \u001b[49m\u001b[43m)\u001b[49m\n",
      "Cell \u001b[1;32mIn[200], line 14\u001b[0m, in \u001b[0;36msingle_shot\u001b[1;34m(cent_freq, freqDist, power, band_Hz, anri_span)\u001b[0m\n\u001b[0;32m     12\u001b[0m anapico\u001b[38;5;241m.\u001b[39mset_power(\u001b[38;5;241m4\u001b[39m, power)\n\u001b[0;32m     13\u001b[0m \u001b[38;5;28mprint\u001b[39m(\u001b[38;5;124m'\u001b[39m\u001b[38;5;124mAnapico power: \u001b[39m\u001b[38;5;124m'\u001b[39m \u001b[38;5;241m+\u001b[39m \u001b[38;5;28mstr\u001b[39m(anapico\u001b[38;5;241m.\u001b[39mget_power(\u001b[38;5;241m1\u001b[39m)) \u001b[38;5;241m+\u001b[39m \u001b[38;5;124m'\u001b[39m\u001b[38;5;124mdBm\u001b[39m\u001b[38;5;124m'\u001b[39m)\n\u001b[1;32m---> 14\u001b[0m measurement\u001b[38;5;241m.\u001b[39mappend(\u001b[43manri\u001b[49m\u001b[38;5;241;43m.\u001b[39;49m\u001b[43mget_data\u001b[49m\u001b[43m(\u001b[49m\u001b[43m)\u001b[49m)\n\u001b[0;32m     15\u001b[0m parameters \u001b[38;5;241m=\u001b[39m [cent_freq, freqDist, power, band_Hz, anri_span]\n\u001b[0;32m     16\u001b[0m \u001b[38;5;28mprint\u001b[39m(\u001b[38;5;124m'\u001b[39m\u001b[38;5;124mMeasurement successful\u001b[39m\u001b[38;5;124m'\u001b[39m)\n",
      "File \u001b[1;32mc:\\users\\demag\\pycharmprojects\\coldmeasurements\\nanodrivers\\nanodrivers\\visa_drivers\\signal_analyser.py:98\u001b[0m, in \u001b[0;36mAnri.get_data\u001b[1;34m(self)\u001b[0m\n\u001b[0;32m     96\u001b[0m time\u001b[38;5;241m.\u001b[39msleep(\u001b[38;5;28mself\u001b[39m\u001b[38;5;241m.\u001b[39mget_sweep_time()\u001b[38;5;241m*\u001b[39m\u001b[38;5;241m12\u001b[39m)\n\u001b[0;32m     97\u001b[0m raw_data \u001b[38;5;241m=\u001b[39m \u001b[38;5;28mself\u001b[39m\u001b[38;5;241m.\u001b[39mquery(\u001b[38;5;124m'\u001b[39m\u001b[38;5;124mTRAC? TRAC1\u001b[39m\u001b[38;5;124m'\u001b[39m)\n\u001b[1;32m---> 98\u001b[0m data \u001b[38;5;241m=\u001b[39m \u001b[43mnp\u001b[49m\u001b[38;5;241;43m.\u001b[39;49m\u001b[43marray\u001b[49m\u001b[43m(\u001b[49m\u001b[43mraw_data\u001b[49m\u001b[38;5;241;43m.\u001b[39;49m\u001b[43msplit\u001b[49m\u001b[43m(\u001b[49m\u001b[38;5;124;43m'\u001b[39;49m\u001b[38;5;124;43m,\u001b[39;49m\u001b[38;5;124;43m'\u001b[39;49m\u001b[43m)\u001b[49m\u001b[43m,\u001b[49m\u001b[43m \u001b[49m\u001b[43mdtype\u001b[49m\u001b[38;5;241;43m=\u001b[39;49m\u001b[38;5;28;43mfloat\u001b[39;49m\u001b[43m)\u001b[49m\n\u001b[0;32m     99\u001b[0m \u001b[38;5;28;01mreturn\u001b[39;00m data\n",
      "\u001b[1;31mValueError\u001b[0m: could not convert string to float: ''"
     ]
    }
   ],
   "source": [
    "single_shot(cent_freq=3.7985e9,\n",
    "            freqDist=100,\n",
    "            power=-10,\n",
    "            band_Hz=1,\n",
    "            anri_span=10001\n",
    "           )"
   ]
  },
  {
   "cell_type": "code",
   "execution_count": 178,
   "id": "abb3a2c3",
   "metadata": {},
   "outputs": [
    {
     "name": "stdout",
     "output_type": "stream",
     "text": [
      "Power: -30.0dBm\n",
      "Power: -40.0dBm\n",
      "Power: -50.0dBm\n",
      "Power: -60.0dBm\n",
      "File download done\n"
     ]
    }
   ],
   "source": [
    "vna_data = []\n",
    "vna_parameters = [] # (start_freq, end_freq, power)\n",
    "file_number = 0\n",
    "\n",
    "\n",
    "#Resonance shape measurement\n",
    "vna_measurement(cent_freq=3.7985e9,   #Central frequency of vna and anri\n",
    "        span=8e6,                    #Span of start and end frequencies to be measured\n",
    "        n_points=1001,               #Number of data points\n",
    "        band_Hz=10,                   #integration band width in Hz\n",
    "        start_pow=0,                 #Highest power to be measured\n",
    "        end_pow=-30,                 #Lowest power to be measured\n",
    "        pow_increments=-10,          #Difference between the powers in the power sweep\n",
    "        attenuation=30\n",
    "       )\n",
    "\n",
    "\n",
    "#Data saving\n",
    "state=dict()\n",
    "state['temp'] = 450\n",
    "state['dump_vna'] = vna.dump()\n",
    "state['vna_data'] = vna_data\n",
    "state['vna_parameters'] = vna_parameters\n",
    "\n",
    "now = datetime.now()  \n",
    "folder = r'C:\\Users\\Demag\\PycharmProjects\\ColdMeasurements\\DeMag\\DATA\\IMS_summer_pro'\n",
    "file = r'M4_VNA_background_30dB_att_' + now.strftime(r'%Y%m%d%H%M%S') + '.mat'\n",
    "file_name = folder +'\\\\' + file\n",
    "\n",
    "savemat(file_name, state)\n",
    "print('File download done')\n"
   ]
  },
  {
   "cell_type": "code",
   "execution_count": 141,
   "id": "10e7f5a6",
   "metadata": {},
   "outputs": [
    {
     "name": "stdout",
     "output_type": "stream",
     "text": [
      "Power: 0.0dBm\n",
      "Power: -5.0dBm\n",
      "Power: -10.0dBm\n",
      "Power: -15.0dBm\n",
      "Power: -20.0dBm\n",
      "Power: -25.0dBm\n",
      "Power: -30.0dBm\n",
      "File download done\n"
     ]
    }
   ],
   "source": [
    "vna_data = []\n",
    "vna_parameters = [] # (start_freq, end_freq, power)\n",
    "file_number = 0\n",
    "\n",
    "\n",
    "#Resonance shape measurement\n",
    "vna_measurement(cent_freq=3.7985e9,   #Central frequency of vna and anri\n",
    "        span=8e6,                    #Span of start and end frequencies to be measured\n",
    "        n_points=1001,               #Number of data points\n",
    "        band_Hz=10,                   #integration band width in Hz\n",
    "        start_pow=0,                 #Highest power to be measured\n",
    "        end_pow=-30,                 #Lowest power to be measured\n",
    "        pow_increments=-10,          #Difference between the powers in the power sweep\n",
    "        attenuation=30\n",
    "       )\n",
    "\n",
    "\n",
    "#Data saving\n",
    "state=dict()\n",
    "state['temp'] = 450\n",
    "state['dump_vna'] = vna.dump()\n",
    "state['vna_data'] = vna_data\n",
    "state['vna_parameters'] = vna_parameters\n",
    "\n",
    "now = datetime.now()  \n",
    "folder = r'C:\\Users\\Demag\\PycharmProjects\\ColdMeasurements\\DeMag\\DATA\\IMS_summer_pro'\n",
    "file = r'M4_VNA_res_reverse_sweep_' + now.strftime(r'%Y%m%d%H%M%S') + '.mat'\n",
    "file_name = folder +'\\\\' + file\n",
    "\n",
    "savemat(file_name, state)\n",
    "print('File download done')\n"
   ]
  },
  {
   "cell_type": "code",
   "execution_count": 348,
   "id": "e0e08f27",
   "metadata": {},
   "outputs": [],
   "source": [
    "anri.set_cent_freq(3.79800e9)\n",
    "anri.set_span(20020)"
   ]
  },
  {
   "cell_type": "code",
   "execution_count": 169,
   "id": "5c0220fa",
   "metadata": {},
   "outputs": [],
   "source": [
    "anapico.set_freq(1,3.798000e9-2.7e3+20e6)\n",
    "anapico.set_freq(4,3.7980002e9-2.7e3+20e6)\n",
    "anapico.set_power(1,-4)\n",
    "anapico.set_power(4,-4)\n",
    "anapico.set_on(1)\n",
    "anapico.set_on(4)"
   ]
  },
  {
   "cell_type": "code",
   "execution_count": 164,
   "id": "401dcb5a",
   "metadata": {},
   "outputs": [],
   "source": [
    "anapico.set_off(1)\n",
    "anapico.set_off(4)"
   ]
  },
  {
   "cell_type": "code",
   "execution_count": 102,
   "id": "d547668c",
   "metadata": {},
   "outputs": [
    {
     "name": "stdout",
     "output_type": "stream",
     "text": [
      "Power: -10.0dBm\n"
     ]
    }
   ],
   "source": [
    "vna_data = []\n",
    "vna_parameters = [] # (start_freq, end_freq, power)\n",
    "file_number = 0\n",
    "\n",
    "\n",
    "#Intermodulation measurement\n",
    "vna_measurement(cent_freq=3.7985e9,   #Central frequency of vna and anri\n",
    "        span=8e6,                    #Span of start and end frequencies to be measured\n",
    "        n_points=1001,               #Number of data points\n",
    "        band_Hz=100,                   #integration band width in Hz\n",
    "        start_pow=-10,                 #Highest power to be measured\n",
    "        end_pow=-10,                 #Lowest power to be measured\n",
    "        pow_increments=-5,          #Difference between the powers in the power sweep\n",
    "        attenuation=0\n",
    "       )"
   ]
  },
  {
   "cell_type": "code",
   "execution_count": 152,
   "id": "8f3b34d0",
   "metadata": {},
   "outputs": [
    {
     "data": {
      "text/plain": [
       "[<matplotlib.lines.Line2D at 0x18b895ad100>]"
      ]
     },
     "execution_count": 152,
     "metadata": {},
     "output_type": "execute_result"
    },
    {
     "data": {
      "image/png": "[encoded data removed]",
      "text/plain": [
       "<Figure size 1440x1080 with 2 Axes>"
      ]
     },
     "metadata": {
      "needs_background": "light"
     },
     "output_type": "display_data"
    }
   ],
   "source": [
    "fig, ax = plt.subplots(1, 2, figsize=(20,15))\n",
    "ax[0].plot(vna_data[5][0])"
   ]
  },
  {
   "cell_type": "code",
   "execution_count": 66,
   "id": "8e2bf365",
   "metadata": {},
   "outputs": [],
   "source": [
    "vna.set_nop(1001)\n",
    "vna.set_band(10)"
   ]
  },
  {
   "cell_type": "code",
   "execution_count": 67,
   "id": "f47e3dd2",
   "metadata": {},
   "outputs": [
    {
     "data": {
      "text/plain": [
       "10.0"
      ]
     },
     "execution_count": 67,
     "metadata": {},
     "output_type": "execute_result"
    }
   ],
   "source": [
    "vna.get_band()"
   ]
  },
  {
   "cell_type": "code",
   "execution_count": 13,
   "id": "e98ad39f",
   "metadata": {},
   "outputs": [
    {
     "data": {
      "text/plain": [
       "1001"
      ]
     },
     "execution_count": 13,
     "metadata": {},
     "output_type": "execute_result"
    }
   ],
   "source": [
    "vna.get_nop()"
   ]
  },
  {
   "cell_type": "code",
   "execution_count": 329,
   "id": "9578959d",
   "metadata": {},
   "outputs": [],
   "source": [
    "anri.set_band_Hz(5)"
   ]
  },
  {
   "cell_type": "code",
   "execution_count": 323,
   "id": "42399dfb",
   "metadata": {},
   "outputs": [],
   "source": [
    "anri.set_nop(1001)"
   ]
  },
  {
   "cell_type": "code",
   "execution_count": 75,
   "id": "5552dbe4",
   "metadata": {},
   "outputs": [
    {
     "data": {
      "text/plain": [
       "'10000\\n'"
      ]
     },
     "execution_count": 75,
     "metadata": {},
     "output_type": "execute_result"
    }
   ],
   "source": [
    "vna.get_avgs()"
   ]
  },
  {
   "cell_type": "code",
   "execution_count": 82,
   "id": "3da96bb2",
   "metadata": {},
   "outputs": [],
   "source": [
    "vna.set_avgs(1000)"
   ]
  },
  {
   "cell_type": "code",
   "execution_count": 83,
   "id": "354f13cf",
   "metadata": {},
   "outputs": [
    {
     "data": {
      "text/plain": [
       "10.55054"
      ]
     },
     "execution_count": 83,
     "metadata": {},
     "output_type": "execute_result"
    }
   ],
   "source": [
    "vna.get_sweep_time()"
   ]
  },
  {
   "cell_type": "code",
   "execution_count": null,
   "id": "c7fa611c",
   "metadata": {},
   "outputs": [],
   "source": []
  }
 ],
 "metadata": {
  "kernelspec": {
   "display_name": "Python 3 (ipykernel)",
   "language": "python",
   "name": "python3"
  },
  "language_info": {
   "codemirror_mode": {
    "name": "ipython",
    "version": 3
   },
   "file_extension": ".py",
   "mimetype": "text/x-python",
   "name": "python",
   "nbconvert_exporter": "python",
   "pygments_lexer": "ipython3",
   "version": "3.9.12"
  }
 },
 "nbformat": 4,
 "nbformat_minor": 5
}
