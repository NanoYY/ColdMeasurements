{
 "cells": [
  {
   "cell_type": "code",
   "execution_count": 7,
   "id": "6febd020",
   "metadata": {},
   "outputs": [
    {
     "name": "stdout",
     "output_type": "stream",
     "text": [
      "Processing c:\\users\\demag\\pycharmprojects\\coldmeasurements\\demag\\scripts\\ims_summer_pro\\presto-measure-master\n",
      "  Installing build dependencies: started\n",
      "  Installing build dependencies: finished with status 'done'\n",
      "  Getting requirements to build wheel: started\n",
      "  Getting requirements to build wheel: finished with status 'done'\n",
      "    Preparing wheel metadata: started\n",
      "    Preparing wheel metadata: finished with status 'done'\n",
      "Building wheels for collected packages: bak\n",
      "  Building wheel for bak (PEP 517): started\n",
      "  Building wheel for bak (PEP 517): finished with status 'done'\n",
      "  Created wheel for bak: filename=bak-0.0.0-py3-none-any.whl size=88660 sha256=9553c90a6164ad1d57e07f04a5309ca5cdc3f56d10848a73897fe016aabd87d7\n",
      "  Stored in directory: c:\\users\\demag\\appdata\\local\\pip\\cache\\wheels\\3c\\b6\\18\\158eb6e971e627da4d37a89bcbec386c2eb2ebbf2dd2029ebf\n",
      "Successfully built bak\n",
      "Installing collected packages: bak\n",
      "  Attempting uninstall: bak\n",
      "    Found existing installation: bak 0.0.0\n",
      "    Uninstalling bak-0.0.0:\n",
      "      Successfully uninstalled bak-0.0.0\n",
      "Successfully installed bak-0.0.0\n"
     ]
    },
    {
     "name": "stderr",
     "output_type": "stream",
     "text": [
      "  DEPRECATION: A future pip version will change local packages to be built in-place without first copying to a temporary directory. We recommend you use --use-feature=in-tree-build to test your packages with this new behavior before it becomes the default.\n",
      "   pip 21.3 will remove support for this functionality. You can find discussion regarding this at https://github.com/pypa/pip/issues/7555.\n"
     ]
    }
   ],
   "source": [
    "!pip install \"C:\\Users\\Demag\\PycharmProjects\\ColdMeasurements\\DeMag\\Scripts\\IMS_summer_pro\\presto-measure-master\""
   ]
  },
  {
   "cell_type": "code",
   "execution_count": 23,
   "id": "e8eea5cb",
   "metadata": {},
   "outputs": [
    {
     "name": "stdout",
     "output_type": "stream",
     "text": [
      "Collecting git+https://github.com/intermod-pro/presto-measure.git\n",
      "  Cloning https://github.com/intermod-pro/presto-measure.git to c:\\users\\demag\\appdata\\local\\temp\\pip-req-build-7dm9_hr1\n",
      "  Resolved https://github.com/intermod-pro/presto-measure.git to commit 375315f7773fe2fefe53124bd9921df4aad025d5\n",
      "  Installing build dependencies: started\n",
      "  Installing build dependencies: finished with status 'done'\n",
      "  Getting requirements to build wheel: started\n",
      "  Getting requirements to build wheel: finished with status 'done'\n",
      "    Preparing wheel metadata: started\n",
      "    Preparing wheel metadata: finished with status 'done'\n"
     ]
    },
    {
     "name": "stderr",
     "output_type": "stream",
     "text": [
      "  Running command git clone -q https://github.com/intermod-pro/presto-measure.git 'C:\\Users\\Demag\\AppData\\Local\\Temp\\pip-req-build-7dm9_hr1'\n"
     ]
    }
   ],
   "source": [
    "!pip install git+https://github.com/intermod-pro/presto-measure.git"
   ]
  },
  {
   "cell_type": "code",
   "execution_count": 33,
   "id": "d3b24849",
   "metadata": {},
   "outputs": [
    {
     "name": "stderr",
     "output_type": "stream",
     "text": [
      "ERROR: Invalid requirement: '_base.py'\n"
     ]
    }
   ],
   "source": []
  },
  {
   "cell_type": "code",
   "execution_count": 5,
   "id": "5d4256a4",
   "metadata": {},
   "outputs": [
    {
     "name": "stderr",
     "output_type": "stream",
     "text": [
      "Done in 2.0s                                                                   \n"
     ]
    },
    {
     "name": "stdout",
     "output_type": "stream",
     "text": [
      "Data saved to: C:\\Users\\Demag\\PycharmProjects\\ColdMeasurements\\DeMag\\Scripts\\IMS_summer_pro\\presto-measure-master\\data\\sweep_20240730_170339.h5\n"
     ]
    },
    {
     "name": "stderr",
     "output_type": "stream",
     "text": [
      "C:\\Users\\Demag\\anaconda3\\lib\\site-packages\\scipy\\__init__.py:146: UserWarning: A NumPy version >=1.16.5 and <1.23.0 is required for this version of SciPy (detected version 1.26.1\n",
      "  warnings.warn(f\"A NumPy version >={np_minversion} and <{np_maxversion}\"\n",
      "C:\\Users\\Demag\\PycharmProjects\\ColdMeasurements\\DeMag\\Scripts\\IMS_summer_pro\\presto-measure-master\\sweep.py:210: UserWarning: Matplotlib is currently using module://matplotlib_inline.backend_inline, which is a non-GUI backend, so cannot show the figure.\n",
      "  fig1.show()\n"
     ]
    },
    {
     "data": {
      "image/png": "[encoded data removed]",
      "text/plain": [
       "<Figure size 432x288 with 2 Axes>"
      ]
     },
     "execution_count": 5,
     "metadata": {},
     "output_type": "execute_result"
    },
    {
     "data": {
      "image/png": "[encoded data removed]",
      "text/plain": [
       "<Figure size 432x288 with 2 Axes>"
      ]
     },
     "metadata": {
      "needs_background": "light"
     },
     "output_type": "display_data"
    }
   ],
   "source": [
    "import numpy as np\n",
    "from sweep import Sweep\n",
    "\n",
    "experiment = Sweep(\n",
    "    freq_center=3.79885e9,\n",
    "    freq_span=6e6,\n",
    "    df=100e3,\n",
    "    num_averages=100,\n",
    "    amp=inputConv(-6,0),\n",
    "    output_port=1,\n",
    "    input_port=1,\n",
    ")\n",
    "\n",
    "presto_address = \"169.254.3.14\"  # your Presto IP address\n",
    "save_filename = experiment.run(presto_address)\n",
    "\n",
    "experiment.analyze()"
   ]
  },
  {
   "cell_type": "code",
   "execution_count": 3,
   "id": "d4c865c6",
   "metadata": {},
   "outputs": [
    {
     "ename": "NameError",
     "evalue": "name 'Sweep' is not defined",
     "output_type": "error",
     "traceback": [
      "\u001b[1;31m---------------------------------------------------------------------------\u001b[0m",
      "\u001b[1;31mNameError\u001b[0m                                 Traceback (most recent call last)",
      "Cell \u001b[1;32mIn[3], line 1\u001b[0m\n\u001b[1;32m----> 1\u001b[0m experiment \u001b[38;5;241m=\u001b[39m \u001b[43mSweep\u001b[49m\u001b[38;5;241m.\u001b[39mload(\u001b[38;5;124m\"\u001b[39m\u001b[38;5;124mdata\u001b[39m\u001b[38;5;124m\\\u001b[39m\u001b[38;5;124msweep_20240716_142029.h5\u001b[39m\u001b[38;5;124m\"\u001b[39m)\n\u001b[0;32m      2\u001b[0m experiment\u001b[38;5;241m.\u001b[39manalyze()\n",
      "\u001b[1;31mNameError\u001b[0m: name 'Sweep' is not defined"
     ]
    }
   ],
   "source": [
    "experiment = Sweep.load(\"data\\sweep_20240716_142029.h5\")\n",
    "experiment.analyze()\n"
   ]
  },
  {
   "cell_type": "code",
   "execution_count": 2,
   "id": "27a9c160",
   "metadata": {},
   "outputs": [],
   "source": [
    "def inputConv(dBm, amplification): #[Amplification] = dB\n",
    "    maxP = 1e-3*np.power(10,-6/10) #W\n",
    "    dBm_val = dBm - amplification\n",
    "    P = 1e-3*np.power(10,dBm_val/10) #W\n",
    "    AMP = (P/maxP) #Amplitude of a single peak\n",
    "    return AMP"
   ]
  },
  {
   "cell_type": "code",
   "execution_count": null,
   "id": "cb838424",
   "metadata": {},
   "outputs": [],
   "source": []
  }
 ],
 "metadata": {
  "kernelspec": {
   "display_name": "Python 3 (ipykernel)",
   "language": "python",
   "name": "python3"
  },
  "language_info": {
   "codemirror_mode": {
    "name": "ipython",
    "version": 3
   },
   "file_extension": ".py",
   "mimetype": "text/x-python",
   "name": "python",
   "nbconvert_exporter": "python",
   "pygments_lexer": "ipython3",
   "version": "3.9.12"
  }
 },
 "nbformat": 4,
 "nbformat_minor": 5
}
