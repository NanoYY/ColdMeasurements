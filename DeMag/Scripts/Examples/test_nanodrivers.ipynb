{
 "cells": [
  {
   "cell_type": "code",
   "execution_count": 1,
   "id": "f171eee7",
   "metadata": {},
   "outputs": [],
   "source": [
    "from nanodrivers.visa_drivers.anapico import ANAPICO"
   ]
  },
  {
   "cell_type": "code",
   "execution_count": 2,
   "id": "5f493992",
   "metadata": {},
   "outputs": [
    {
     "name": "stdout",
     "output_type": "stream",
     "text": [
      "Connection exist: AnaPico AG,APMS20G,3C6-0B4F40003-0985,0.4.204\n",
      "\n"
     ]
    }
   ],
   "source": [
    "anapico = ANAPICO()\n",
    "anapico.idn()"
   ]
  },
  {
   "cell_type": "code",
   "execution_count": 3,
   "id": "1e593f07",
   "metadata": {},
   "outputs": [
    {
     "data": {
      "text/plain": [
       "'-1.299999\\n'"
      ]
     },
     "execution_count": 3,
     "metadata": {},
     "output_type": "execute_result"
    }
   ],
   "source": [
    "anapico.query('SOUR3:POW?')"
   ]
  },
  {
   "cell_type": "code",
   "execution_count": 3,
   "id": "35821e6c",
   "metadata": {},
   "outputs": [
    {
     "data": {
      "text/plain": [
       "{'device': 'TCPIPInstrument at TCPIP0::169.254.5.91::inst0::INSTR',\n",
       " 'channel_status': array([0., 0., 1., 0.]),\n",
       " 'channel_freqs': array([1.158700e+10, 1.000000e+09, 5.781961e+09, 1.000000e+09]),\n",
       " 'channel_pow': array([ 1.      ,  0.      , -1.299999,  0.      ])}"
      ]
     },
     "execution_count": 3,
     "metadata": {},
     "output_type": "execute_result"
    }
   ],
   "source": [
    "anapico.dump()"
   ]
  },
  {
   "cell_type": "code",
   "execution_count": null,
   "id": "2dd3d65f",
   "metadata": {},
   "outputs": [],
   "source": []
  }
 ],
 "metadata": {
  "kernelspec": {
   "display_name": "Python 3 (ipykernel)",
   "language": "python",
   "name": "python3"
  },
  "language_info": {
   "codemirror_mode": {
    "name": "ipython",
    "version": 3
   },
   "file_extension": ".py",
   "mimetype": "text/x-python",
   "name": "python",
   "nbconvert_exporter": "python",
   "pygments_lexer": "ipython3",
   "version": "3.9.12"
  }
 },
 "nbformat": 4,
 "nbformat_minor": 5
}
