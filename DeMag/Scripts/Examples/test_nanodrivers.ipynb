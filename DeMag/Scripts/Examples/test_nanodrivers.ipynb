{
 "cells": [
  {
   "cell_type": "code",
   "execution_count": 1,
   "id": "f171eee7",
   "metadata": {},
   "outputs": [],
   "source": [
    "from nanodrivers.visa_drivers.dc import DC\n",
    "\n",
    "from nanodrivers.visa_drivers.lockin import LOCKIN"
   ]
  },
  {
   "cell_type": "code",
   "execution_count": 2,
   "id": "5f493992",
   "metadata": {},
   "outputs": [
    {
     "name": "stdout",
     "output_type": "stream",
     "text": [
      "Connection exist: HEWLETT-PACKARD,33120A,0,7.0-5.0-1.0\n",
      "\n"
     ]
    }
   ],
   "source": [
    "dc = DC()\n",
    "dc.idn()"
   ]
  },
  {
   "cell_type": "code",
   "execution_count": null,
   "id": "3b9296a9",
   "metadata": {},
   "outputs": [],
   "source": [
    "dc.query_str('*IDN?')"
   ]
  },
  {
   "cell_type": "code",
   "execution_count": null,
   "id": "9064f696",
   "metadata": {},
   "outputs": [],
   "source": [
    "dc.idn()"
   ]
  },
  {
   "cell_type": "code",
   "execution_count": 3,
   "id": "54774e7f",
   "metadata": {},
   "outputs": [
    {
     "name": "stdout",
     "output_type": "stream",
     "text": [
      "['C:\\\\Users\\\\Demag\\\\anaconda3', 'C:\\\\Users\\\\Demag\\\\anaconda3\\\\Library\\\\mingw-w64\\\\bin', 'C:\\\\Users\\\\Demag\\\\anaconda3\\\\Library\\\\usr\\\\bin', 'C:\\\\Users\\\\Demag\\\\anaconda3\\\\Library\\\\bin', 'C:\\\\Users\\\\Demag\\\\anaconda3\\\\Scripts', 'C:\\\\Program Files\\\\National Instruments\\\\Shared\\\\OpenVINO\\\\', 'C:\\\\WINDOWS\\\\system32', 'C:\\\\WINDOWS', 'C:\\\\WINDOWS\\\\System32\\\\Wbem', 'C:\\\\WINDOWS\\\\System32\\\\WindowsPowerShell\\\\v1.0\\\\', 'C:\\\\WINDOWS\\\\System32\\\\OpenSSH\\\\', 'C:\\\\Program Files\\\\MATLAB\\\\R2022a\\\\runtime\\\\win64', 'C:\\\\Program Files\\\\MATLAB\\\\R2022a\\\\bin', 'C:\\\\Program Files\\\\Keysight\\\\IO Libraries Suite\\\\bin', 'C:\\\\Program Files\\\\IVI Foundation\\\\VISA\\\\Win64\\\\ktvisa', 'C:\\\\Program Files\\\\IVI Foundation\\\\VISA\\\\Win64\\\\bin', 'C:\\\\Program Files (x86)\\\\Keysight\\\\IO Libraries Suite\\\\bin', 'C:\\\\Program Files (x86)\\\\IVI Foundation\\\\VISA\\\\WinNT\\\\ktvisa', 'C:\\\\Program Files (x86)\\\\IVI Foundation\\\\VISA\\\\WinNT\\\\Bin\\\\', 'C:\\\\Program Files\\\\IVI Foundation\\\\VISA\\\\Win64\\\\Bin\\\\', 'C:\\\\Program Files (x86)\\\\IVI Foundation\\\\VISA\\\\winnt\\\\agvisa', 'C:\\\\Program Files\\\\Git\\\\cmd', 'C:\\\\Strawberry\\\\c\\\\bin', 'C:\\\\Strawberry\\\\perl\\\\site\\\\bin', 'C:\\\\Strawberry\\\\perl\\\\bin', 'C:\\\\Program Files\\\\TortoiseSVN\\\\bin', 'C:\\\\Program Files\\\\gnuplot\\\\bin', 'C:\\\\Program Files\\\\dotnet\\\\', 'C:\\\\Program Files (x86)\\\\IVI Foundation\\\\VISA\\\\WinNT\\\\Bin', 'C:\\\\Program Files (x86)\\\\IVI Foundation\\\\IVI\\\\Bin\\\\', 'C:\\\\Program Files\\\\IVI Foundation\\\\IVI\\\\Bin\\\\', 'C:\\\\Program Files\\\\Wolfram Research\\\\WolframScript\\\\', 'C:\\\\Users\\\\Demag\\\\AppData\\\\Local\\\\Microsoft\\\\WindowsApps', 'C:\\\\Program Files\\\\AlazarTech\\\\utilities\\\\Firmware Updater 3.4.0\\\\bin', 'C:\\\\Program Files\\\\JetBrains\\\\PyCharm Community Edition 2023.1.2\\\\bin', '', 'C:\\\\Users\\\\Demag\\\\AppData\\\\Local\\\\GitHubDesktop\\\\bin', 'C:\\\\Users\\\\Demag\\\\AppData\\\\Local\\\\Programs\\\\Microsoft VS Code\\\\bin']\n"
     ]
    }
   ],
   "source": [
    "import os\n",
    "\n",
    "# Print the PATH environment variable\n",
    "print(os.environ['PATH'].split(\";\"))\n"
   ]
  },
  {
   "cell_type": "code",
   "execution_count": null,
   "id": "1bfd6455",
   "metadata": {},
   "outputs": [],
   "source": []
  }
 ],
 "metadata": {
  "kernelspec": {
   "display_name": "Python 3 (ipykernel)",
   "language": "python",
   "name": "python3"
  },
  "language_info": {
   "codemirror_mode": {
    "name": "ipython",
    "version": 3
   },
   "file_extension": ".py",
   "mimetype": "text/x-python",
   "name": "python",
   "nbconvert_exporter": "python",
   "pygments_lexer": "ipython3",
   "version": "3.9.12"
  }
 },
 "nbformat": 4,
 "nbformat_minor": 5
}
