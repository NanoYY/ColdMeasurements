{
 "cells": [
  {
   "cell_type": "markdown",
   "id": "5b540f28",
   "metadata": {},
   "source": [
    "Connect main frame"
   ]
  },
  {
   "cell_type": "code",
   "execution_count": 16,
   "id": "58376bd4",
   "metadata": {},
   "outputs": [
    {
     "data": {
      "text/plain": [
       "'Stanford_Research_Systems,SIM900,s/n166342,ver3.6\\n'"
      ]
     },
     "execution_count": 16,
     "metadata": {},
     "output_type": "execute_result"
    }
   ],
   "source": [
    "import pyvisa\n",
    "rm = pyvisa.ResourceManager()\n",
    "my_instrument = rm.open_resource('GPIB0::11::INSTR', query_delay=1.0)\n",
    "my_instrument.query('*IDN?')"
   ]
  },
  {
   "cell_type": "markdown",
   "id": "478557fa",
   "metadata": {},
   "source": [
    "connect to slot"
   ]
  },
  {
   "cell_type": "code",
   "execution_count": 19,
   "id": "d5415307",
   "metadata": {},
   "outputs": [
    {
     "data": {
      "text/plain": [
       "7"
      ]
     },
     "execution_count": 19,
     "metadata": {},
     "output_type": "execute_result"
    }
   ],
   "source": [
    "my_instrument.write(\"OPOF\\n\")"
   ]
  },
  {
   "cell_type": "code",
   "execution_count": null,
   "id": "f99e8668",
   "metadata": {},
   "outputs": [],
   "source": [
    "my_instrument.write(\"CONN {}, 'xyz'\\n\".format(6))"
   ]
  },
  {
   "cell_type": "code",
   "execution_count": 20,
   "id": "a06c4660",
   "metadata": {},
   "outputs": [
    {
     "data": {
      "text/plain": [
       "'0\\r\\n'"
      ]
     },
     "execution_count": 20,
     "metadata": {},
     "output_type": "execute_result"
    }
   ],
   "source": [
    "my_instrument.query('EXON?')"
   ]
  },
  {
   "cell_type": "markdown",
   "id": "42074829",
   "metadata": {},
   "source": [
    "disconnect from slot"
   ]
  },
  {
   "cell_type": "code",
   "execution_count": 6,
   "id": "8d809393",
   "metadata": {},
   "outputs": [
    {
     "data": {
      "text/plain": [
       "8"
      ]
     },
     "execution_count": 6,
     "metadata": {},
     "output_type": "execute_result"
    }
   ],
   "source": [
    "my_instrument.write(\"'xyz'\\n\")"
   ]
  },
  {
   "cell_type": "markdown",
   "id": "40ee3ef2",
   "metadata": {},
   "source": [
    "# NanoDrivers"
   ]
  },
  {
   "cell_type": "code",
   "execution_count": 1,
   "id": "8a18cef2",
   "metadata": {},
   "outputs": [],
   "source": [
    "from nanodrivers.visa_drivers.SIM928_voltage_source import SIM"
   ]
  },
  {
   "cell_type": "code",
   "execution_count": 2,
   "id": "419d9baa",
   "metadata": {},
   "outputs": [],
   "source": [
    "dc = SIM()\n",
    "# dc.idn()"
   ]
  },
  {
   "cell_type": "code",
   "execution_count": 3,
   "id": "d95f3dff",
   "metadata": {},
   "outputs": [
    {
     "name": "stdout",
     "output_type": "stream",
     "text": [
      "Connection exist: Stanford_Research_Systems,SIM928,s/n035460,ver2.7\r\n",
      "\n"
     ]
    }
   ],
   "source": [
    "dc.idn()"
   ]
  },
  {
   "cell_type": "code",
   "execution_count": 6,
   "id": "d9a33208",
   "metadata": {},
   "outputs": [
    {
     "data": {
      "text/plain": [
       "0"
      ]
     },
     "execution_count": 6,
     "metadata": {},
     "output_type": "execute_result"
    }
   ],
   "source": [
    "dc.get_status()"
   ]
  },
  {
   "cell_type": "code",
   "execution_count": 9,
   "id": "8040efac",
   "metadata": {},
   "outputs": [],
   "source": [
    "dc.set_off()"
   ]
  },
  {
   "cell_type": "code",
   "execution_count": 7,
   "id": "aa0fdced",
   "metadata": {},
   "outputs": [
    {
     "data": {
      "text/plain": [
       "0.01"
      ]
     },
     "execution_count": 7,
     "metadata": {},
     "output_type": "execute_result"
    }
   ],
   "source": [
    "dc.get_volt()"
   ]
  },
  {
   "cell_type": "code",
   "execution_count": 6,
   "id": "5c108c5a",
   "metadata": {},
   "outputs": [],
   "source": [
    "dc.set_volt(0.01)"
   ]
  },
  {
   "cell_type": "code",
   "execution_count": 6,
   "id": "4601d3dd",
   "metadata": {},
   "outputs": [
    {
     "data": {
      "text/plain": [
       "{'device': <'GPIBInstrument'('GPIB0::11::INSTR')>,\n",
       " 'status': 0,\n",
       " 'voltage': 0.01}"
      ]
     },
     "execution_count": 6,
     "metadata": {},
     "output_type": "execute_result"
    }
   ],
   "source": [
    "dc.dump()"
   ]
  },
  {
   "cell_type": "code",
   "execution_count": 7,
   "id": "f77f2ae7",
   "metadata": {},
   "outputs": [],
   "source": [
    "dc.write('xyz')"
   ]
  },
  {
   "cell_type": "code",
   "execution_count": null,
   "id": "09288537",
   "metadata": {},
   "outputs": [],
   "source": []
  }
 ],
 "metadata": {
  "kernelspec": {
   "display_name": "Python 3 (ipykernel)",
   "language": "python",
   "name": "python3"
  },
  "language_info": {
   "codemirror_mode": {
    "name": "ipython",
    "version": 3
   },
   "file_extension": ".py",
   "mimetype": "text/x-python",
   "name": "python",
   "nbconvert_exporter": "python",
   "pygments_lexer": "ipython3",
   "version": "3.9.12"
  }
 },
 "nbformat": 4,
 "nbformat_minor": 5
}
