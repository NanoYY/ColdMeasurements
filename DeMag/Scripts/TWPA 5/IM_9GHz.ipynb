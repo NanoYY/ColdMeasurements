{
 "cells": [
  {
   "cell_type": "code",
   "execution_count": 1,
   "id": "7b916a02",
   "metadata": {},
   "outputs": [
    {
     "name": "stderr",
     "output_type": "stream",
     "text": [
      "C:\\Users\\Demag\\anaconda3\\lib\\site-packages\\scipy\\__init__.py:146: UserWarning: A NumPy version >=1.16.5 and <1.23.0 is required for this version of SciPy (detected version 1.26.1\n",
      "  warnings.warn(f\"A NumPy version >={np_minversion} and <{np_maxversion}\"\n"
     ]
    },
    {
     "name": "stdout",
     "output_type": "stream",
     "text": [
      "Folder C:\\Users\\Demag\\PycharmProjects\\ColdMeasurements\\DeMag\\DATA\\TWPA_noise_9 already exists\n"
     ]
    }
   ],
   "source": [
    "from nanodrivers.visa_drivers.anapico import ANAPICO\n",
    "from nanodrivers.visa_drivers.SIM928_voltage_source import SIM # as DC\n",
    "from nanodrivers.visa_drivers.vna import VNA\n",
    "from nanodrivers.visa_drivers.dc import DC\n",
    "from nanodrivers.visa_drivers.signal_analyser import Anri\n",
    "\n",
    "#math\n",
    "import numpy as np\n",
    "from numpy import *\n",
    "from scipy.optimize import curve_fit\n",
    "\n",
    "#plotting\n",
    "import matplotlib.pyplot as plt\n",
    "import matplotlib\n",
    "\n",
    "#matlab import\n",
    "import scipy.io\n",
    "from scipy.io import savemat, loadmat\n",
    "from scipy.optimize import minimize\n",
    "from scipy.fft import fft, ifft, fftshift, ifftshift\n",
    "\n",
    "\n",
    "#file_store\n",
    "import os\n",
    "\n",
    "#time\n",
    "import time\n",
    "from datetime import datetime, timedelta\n",
    "\n",
    "\n",
    "from ctypes import *\n",
    "%matplotlib inline\n",
    "\n",
    "Global_data_adress = r\"C:\\Users\\Demag\\PycharmProjects\\ColdMeasurements\\DeMag\\DATA\"\n",
    "exp_name = 'TWPA_noise_9'\n",
    "adress = Global_data_adress+'\\\\'+exp_name\n",
    "if not os.path.exists(adress):\n",
    "  os.mkdir(adress)\n",
    "  print(\"Folder %s created!\" % adress)\n",
    "else:\n",
    "  print(\"Folder %s already exists\" % adress)"
   ]
  },
  {
   "cell_type": "code",
   "execution_count": 2,
   "id": "2f3722cd",
   "metadata": {},
   "outputs": [
    {
     "name": "stdout",
     "output_type": "stream",
     "text": [
      "Unable to connect device.\n",
      " VI_ERROR_TMO (-1073807339): Timeout expired before operation completed.\n",
      "Check that device is connected, visible in NI MAX and is not used by another software.\n",
      "Connection exist: Stanford_Research_Systems,SIM928,s/n035459,ver2.7\r\n",
      "\n"
     ]
    }
   ],
   "source": [
    "dc = SIM(slot_num=7)\n",
    "dc.idn()"
   ]
  },
  {
   "cell_type": "code",
   "execution_count": 3,
   "id": "c4b27c8c",
   "metadata": {},
   "outputs": [
    {
     "name": "stdout",
     "output_type": "stream",
     "text": [
      "SIM928 is now disconnected from SIM900 mainframe\n"
     ]
    }
   ],
   "source": [
    "dc.disconnect()"
   ]
  },
  {
   "cell_type": "code",
   "execution_count": 4,
   "id": "3dfd0833",
   "metadata": {},
   "outputs": [
    {
     "name": "stdout",
     "output_type": "stream",
     "text": [
      "Connection exist: Stanford_Research_Systems,SIM928,s/n035459,ver2.7\r\n",
      "\n"
     ]
    }
   ],
   "source": [
    "dc = SIM(slot_num=7)\n",
    "dc.idn()"
   ]
  },
  {
   "cell_type": "code",
   "execution_count": 5,
   "id": "6678243d",
   "metadata": {},
   "outputs": [
    {
     "name": "stdout",
     "output_type": "stream",
     "text": [
      "Connection exist: AnaPico AG,APMS20G,3C6-0B4F40003-0985,1.0.7\n",
      "\n"
     ]
    }
   ],
   "source": [
    "anapico = ANAPICO()\n",
    "anapico.idn()"
   ]
  },
  {
   "cell_type": "code",
   "execution_count": 6,
   "id": "e7a2957f",
   "metadata": {},
   "outputs": [
    {
     "name": "stdout",
     "output_type": "stream",
     "text": [
      "Connection exist: Rohde&Schwarz,FPL1026,1304.0004K26/200025,2.10SP1\n",
      "\n",
      "None\n"
     ]
    }
   ],
   "source": [
    "sa = Anri('TCPIP::169.254.36.112::INSTR')\n",
    "print(sa.idn())\n",
    "\n",
    "def set_cent_freq_(sa, freq): \n",
    "    sa.write('FREQuency:CENTer {} MHz'.format(freq/1e6))\n",
    "    \n",
    "    \n",
    "def set_span_(sa, span):\n",
    "    sa.write('FREQ:SPAN {}'.format(span))\n",
    "    \n",
    "def set_band_(sa, band):\n",
    "    sa.write('BAND {}KHZ'.format(str(band)))\n",
    "    \n",
    "def get_freq_(sa):\n",
    "    nop = int(sa.query('SWEep:POINts?'))\n",
    "    start_fr = sa.query_float('FREQuency:STARt?')\n",
    "    stop_fr = sa.query_float('FREQuency:STOP?')\n",
    "    return np.linspace(start_fr, stop_fr, nop)\n",
    "\n",
    "def get_data_(sa): \n",
    "    sa.write('INIT:IMM')\n",
    "    time.sleep(20 + sa.query_float('SWEep:TIME?'))\n",
    "    raw_data = sa.query('TRAC:DATA? TRACE1')\n",
    "    return np.array(raw_data.split(','), dtype=float)"
   ]
  },
  {
   "cell_type": "code",
   "execution_count": 7,
   "id": "36e98b23",
   "metadata": {},
   "outputs": [
    {
     "name": "stdout",
     "output_type": "stream",
     "text": [
      "Folder C:\\Users\\Demag\\PycharmProjects\\ColdMeasurements\\DeMag\\DATA\\TWPA_noise_9\\IM_low_noise_9 created!\n"
     ]
    }
   ],
   "source": [
    "path = adress +'\\\\'+ 'IM_low_noise_9'\n",
    "if not os.path.exists(path):\n",
    "  os.mkdir(path)\n",
    "  print(\"Folder %s created!\" % path)\n",
    "else:\n",
    "  print(\"Folder %s already exists\" % path)"
   ]
  },
  {
   "cell_type": "code",
   "execution_count": null,
   "id": "b0a427b3",
   "metadata": {},
   "outputs": [],
   "source": []
  },
  {
   "cell_type": "code",
   "execution_count": 9,
   "id": "4fe1d01d",
   "metadata": {},
   "outputs": [],
   "source": [
    "low_noise_pump_freq = 5e9"
   ]
  },
  {
   "cell_type": "code",
   "execution_count": null,
   "id": "c9e29a34",
   "metadata": {},
   "outputs": [],
   "source": []
  },
  {
   "cell_type": "code",
   "execution_count": 10,
   "id": "adc69f3f",
   "metadata": {},
   "outputs": [
    {
     "data": {
      "text/plain": [
       "<matplotlib.lines.Line2D at 0x1b549493640>"
      ]
     },
     "execution_count": 10,
     "metadata": {},
     "output_type": "execute_result"
    },
    {
     "data": {
      "image/png": "[encoded data removed]",
      "text/plain": [
       "<Figure size 1080x504 with 1 Axes>"
      ]
     },
     "metadata": {
      "needs_background": "light"
     },
     "output_type": "display_data"
    }
   ],
   "source": [
    "file_name = adress +'\\\\'+ 'IM' + '\\\\' + 'BP_filter_scan_4.614.mat'\n",
    "mat_low19 = loadmat(file_name)\n",
    "freq_bp = mat_low19['freq'][0]\n",
    "mag_bp = mat_low19['mag'][0]\n",
    "pha_bp = mat_low19['pha'][0]\n",
    "\n",
    "fig, ax = plt.subplots(figsize = (15,7))\n",
    "ax.plot(freq_bp[4000:-25000], mag_bp[4000:-25000])\n",
    "# ax.plot(freq_bp, mag_bp)\n",
    "ax.axvline(low_noise_pump_freq/2,  color = 'g')\n",
    "ax.axvline(6e9, color = 'r')"
   ]
  },
  {
   "cell_type": "code",
   "execution_count": null,
   "id": "c59bc65f",
   "metadata": {},
   "outputs": [],
   "source": []
  }
 ],
 "metadata": {
  "kernelspec": {
   "display_name": "Python 3 (ipykernel)",
   "language": "python",
   "name": "python3"
  },
  "language_info": {
   "codemirror_mode": {
    "name": "ipython",
    "version": 3
   },
   "file_extension": ".py",
   "mimetype": "text/x-python",
   "name": "python",
   "nbconvert_exporter": "python",
   "pygments_lexer": "ipython3",
   "version": "3.9.12"
  }
 },
 "nbformat": 4,
 "nbformat_minor": 5
}
