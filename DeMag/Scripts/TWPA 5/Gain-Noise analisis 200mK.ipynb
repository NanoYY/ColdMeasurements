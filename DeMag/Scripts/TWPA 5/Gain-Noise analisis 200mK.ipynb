{
 "cells": [
  {
   "cell_type": "code",
   "execution_count": 1,
   "id": "9a40b030",
   "metadata": {},
   "outputs": [],
   "source": [
    "import matplotlib.pyplot as plt\n",
    "import matplotlib\n",
    "# %matplotlib qt\n",
    "\n",
    "import numpy as np\n",
    "from numpy import *\n",
    "from scipy.fft import fft, ifft, fftshift, ifftshift\n",
    "from scipy.optimize import curve_fit\n",
    "\n",
    "import os\n",
    "import scipy.io as sio"
   ]
  },
  {
   "cell_type": "code",
   "execution_count": 2,
   "id": "8ddba47e",
   "metadata": {},
   "outputs": [
    {
     "name": "stdout",
     "output_type": "stream",
     "text": [
      "[0] -----------> 1st_tone\n",
      "[1] -----------> Alan_var\n",
      "[2] -----------> Best_noise_power_sweep\n",
      "[3] -----------> Best_noise_power_sweep_last_plot\n",
      "[4] -----------> fast_saturation\n",
      "[5] -----------> Gain_sweep_1000mK2025-07-17-22-37-20.mat\n",
      "[6] -----------> Gain_sweep_10mK_power_freq2025-07-21-19-09-34.mat\n",
      "[7] -----------> Gain_sweep_10mK_power_freq_1.382025-07-22-02-40-22.mat\n",
      "[8] -----------> Gain_sweep_10mK_power_sweep_0.412025-07-22-12-30-24.mat\n",
      "[9] -----------> Gain_sweep_10mK_power_sweep_0.412025-07-22-12-38-47.mat\n",
      "[10] -----------> Gain_sweep_10mK_power_sweep_0.412025-07-22-12-40-36.mat\n",
      "[11] -----------> Gain_sweep_12mK2025-05-29-12-17-35.mat\n",
      "[12] -----------> Gain_sweep_12mK2025-05-29-13-27-37.mat\n",
      "[13] -----------> Gain_sweep_12mK2025-06-03-10-58-46.mat\n",
      "[14] -----------> Gain_sweep_12mK2025-06-03-18-18-22.mat\n",
      "[15] -----------> Gain_sweep_12mK_test_save2025-06-05-17-57-06.mat\n",
      "[16] -----------> Gain_sweep_500mK2025-07-08-15-36-23.mat\n",
      "[17] -----------> Gain_sweep_700mK2025-07-12-17-11-02.mat\n",
      "[18] -----------> Gain_sweep_dense_lower_gain_500mK2025-07-04-19-17-46.mat\n",
      "[19] -----------> Gain_sweep_figs\n",
      "[20] -----------> Gain_sweep_fixed_power_7db_dense2025-06-06-19-12-26.mat\n",
      "[21] -----------> Gain_sweep_fixed_power_7db_dense2025-06-11-12-13-04.mat\n",
      "[22] -----------> Gain_sweep_fixed_power_7db_dense_lower_gain_500mL2025-07-07-21-03-50.mat\n",
      "[23] -----------> IM\n",
      "[24] -----------> IM_low_noise_9\n",
      "[25] -----------> Noise_sweep_1000mK_2025-07-18-18-28-48.mat\n",
      "[26] -----------> Noise_sweep_10mK_power_only_2025-07-22-13-54-24.mat\n",
      "[27] -----------> Noise_sweep_10mK_power_only_band_2_avg_20_2025-07-25-12-24-42.mat\n",
      "[28] -----------> Noise_sweep_10mK_power_only_band_5_2025-07-23-16-57-50.mat\n",
      "[29] -----------> Noise_sweep_10mK_power_only_high_2025-07-22-19-01-12.mat\n",
      "[30] -----------> Noise_sweep_10mK_power_only_high_band_2_avg_20_2025-07-24-10-50-56.mat\n",
      "[31] -----------> Noise_sweep_10mK_power_only_high_band_5_2025-07-23-19-03-22.mat\n",
      "[32] -----------> Noise_sweep_10mK_power_only_high_band_5_avg_50_nop_501_2025-07-25-21-51-23.mat\n",
      "[33] -----------> Noise_sweep_10mK_power_only_low_band_5_avg_50_nop_501_2025-07-27-19-30-56.mat\n",
      "[34] -----------> Noise_sweep_12mK2025-05-29-20-19-12.mat\n",
      "[35] -----------> Noise_sweep_12mK2025-05-30-16-25-25.mat\n",
      "[36] -----------> Noise_sweep_13mK2025-06-04-08-15-29.mat\n",
      "[37] -----------> Noise_sweep_13mK_DC_lin_test_2025-06-06-11-24-25.mat\n",
      "[38] -----------> Noise_sweep_13mK_power_lin_test2025-06-05-11-57-23.mat\n",
      "[39] -----------> Noise_sweep_13mK_power_lin_test2025-06-05-13-25-41.mat\n",
      "[40] -----------> Noise_sweep_13mK_power_lin_test_2025-06-05-18-03-38.mat\n",
      "[41] -----------> Noise_sweep_20mK2025-06-02-12-57-52.mat\n",
      "[42] -----------> Noise_sweep_500mK2_2025-07-10-11-33-17 - Copy.mat\n",
      "[43] -----------> Noise_sweep_500mK2_2025-07-10-11-33-17.mat\n",
      "[44] -----------> Noise_sweep_500mK_2025-07-09-14-54-41.mat\n",
      "[45] -----------> Noise_sweep_700mK_2025-07-13-16-45-22.mat\n",
      "[46] -----------> Noise_sweep_700mK_2025-07-14-18-43-56.mat\n",
      "[47] -----------> Noise_sweep_anapico_off_many_avgs_2025-06-13-19-35-35.mat\n",
      "[48] -----------> Noise_sweep_anapico_off_many_avgs_mid_2025-06-16-16-56-11.mat\n",
      "[49] -----------> Noise_sweep_fixed_power_7db_dense_2025-06-06-23-07-23.mat\n",
      "[50] -----------> Noise_sweep_fixed_power_7db_dense_low_gain_17_19_2025-06-12-23-33-37.mat\n",
      "[51] -----------> Noise_sweep_fixed_power_7db_dense_low_gain_19_20_2025-06-12-00-15-28.mat\n",
      "[52] -----------> paper_plots\n",
      "[53] -----------> VNA_power_sweep\n",
      "[54] -----------> Y_factor\n",
      "[55] -----------> Y_factor2\n",
      "[56] -----------> Y_factor2.zip\n"
     ]
    }
   ],
   "source": [
    "initial_folder = r'C:\\Users\\Demag\\PycharmProjects\\ColdMeasurements\\DeMag\\DATA\\TWPA_noise_9'\n",
    "\n",
    "folders = os.listdir(initial_folder)\n",
    "for i in range(len(folders)):\n",
    "    if \".fig\" in folders[i]: pass\n",
    "    else: \n",
    "        print(r\"[%d]\" %(i), '----------->', folders[i])"
   ]
  },
  {
   "cell_type": "code",
   "execution_count": 10,
   "id": "4dd7466f",
   "metadata": {},
   "outputs": [
    {
     "data": {
      "text/plain": [
       "dict_keys(['__header__', '__version__', '__globals__', 'pump_powers', 'pump_freqs', 'volts', 'data_gain', 'data_mag', 'data_pha', 'fft_freq'])"
      ]
     },
     "execution_count": 10,
     "metadata": {},
     "output_type": "execute_result"
    }
   ],
   "source": [
    "file = folders[49]\n",
    "mat = sio.loadmat(initial_folder+\"\\\\\"+file)\n",
    "mat.keys()"
   ]
  },
  {
   "cell_type": "code",
   "execution_count": 11,
   "id": "1a66053f",
   "metadata": {},
   "outputs": [
    {
     "name": "stdout",
     "output_type": "stream",
     "text": [
      "(101, 501, 1)\n",
      "0.6\n",
      "9018000000.0\n",
      "7.0\n"
     ]
    },
    {
     "ename": "NameError",
     "evalue": "name 'fft_freq' is not defined",
     "output_type": "error",
     "traceback": [
      "\u001b[1;31m---------------------------------------------------------------------------\u001b[0m",
      "\u001b[1;31mNameError\u001b[0m                                 Traceback (most recent call last)",
      "Cell \u001b[1;32mIn[11], line 10\u001b[0m\n\u001b[0;32m      8\u001b[0m pump_powers \u001b[38;5;241m=\u001b[39m mat[\u001b[38;5;124m'\u001b[39m\u001b[38;5;124mpump_powers\u001b[39m\u001b[38;5;124m'\u001b[39m][\u001b[38;5;241m0\u001b[39m]\n\u001b[0;32m      9\u001b[0m \u001b[38;5;28mprint\u001b[39m(pump_powers[\u001b[38;5;241m0\u001b[39m])\n\u001b[1;32m---> 10\u001b[0m data_mag \u001b[38;5;241m=\u001b[39m mat[\u001b[38;5;124m'\u001b[39m\u001b[38;5;124mdata_mag\u001b[39m\u001b[38;5;124m'\u001b[39m]\u001b[38;5;241m/\u001b[39m \u001b[38;5;28mlen\u001b[39m(\u001b[43mfft_freq\u001b[49m) \u001b[38;5;241m/\u001b[39m BW \u001b[38;5;241m*\u001b[39m \u001b[38;5;241m2\u001b[39m \u001b[38;5;66;03m# on/off\u001b[39;00m\n\u001b[0;32m     11\u001b[0m \u001b[38;5;28mprint\u001b[39m(data_mag\u001b[38;5;241m.\u001b[39mshape)\n\u001b[0;32m     12\u001b[0m data_pha \u001b[38;5;241m=\u001b[39m mat[\u001b[38;5;124m'\u001b[39m\u001b[38;5;124mdata_pha\u001b[39m\u001b[38;5;124m'\u001b[39m]\u001b[38;5;241m/\u001b[39m \u001b[38;5;28mlen\u001b[39m(fft_freq) \u001b[38;5;241m/\u001b[39m BW \u001b[38;5;241m*\u001b[39m \u001b[38;5;241m2\u001b[39m \u001b[38;5;66;03m# on/off\u001b[39;00m\n",
      "\u001b[1;31mNameError\u001b[0m: name 'fft_freq' is not defined"
     ]
    }
   ],
   "source": [
    "BW = 10 \n",
    "data_gain = mat['data_gain']\n",
    "print(data_gain.shape)\n",
    "volts = mat['volts'][0]\n",
    "print(volts[4])\n",
    "pump_freqs = mat['pump_freqs'][0]\n",
    "print(pump_freqs[2])\n",
    "pump_powers = mat['pump_powers'][0]\n",
    "print(pump_powers[0])\n",
    "data_mag = mat['data_mag']/ len(fft_freq) / BW * 2 # on/off\n",
    "print(data_mag.shape)\n",
    "data_pha = mat['data_pha']/ len(fft_freq) / BW * 2 # on/off\n",
    "print(data_pha.shape)\n",
    "fft_freq = mat['fft_freq'][0] # on/off\n",
    "print(fft_freq.shape)"
   ]
  },
  {
   "cell_type": "code",
   "execution_count": null,
   "id": "cb39eb5b",
   "metadata": {},
   "outputs": [],
   "source": [
    "max_index = np.unravel_index(np.argmax(data_gain[4:,:,:]), data_gain[4:,:,:].shape)\n",
    "best_gain_DC = max_index[0]\n",
    "best_gain_pf = max_index[1]\n",
    "best_gain_pp = max_index[2]\n",
    "print(max_index)\n",
    "data_gain[best_gain_DC+4, best_gain_pf, best_gain_pp]"
   ]
  },
  {
   "cell_type": "code",
   "execution_count": null,
   "id": "db57cb0b",
   "metadata": {},
   "outputs": [],
   "source": [
    "dc_idx = best_gain_DC+4\n",
    "pp_idx = best_gain_pf\n",
    "pf_idx = best_gain_pp\n",
    "\n",
    "hz1_idx = 100\n",
    "\n",
    "selected_gain_point = data_gain[dc_idx, pp_idx, pf_idx]\n",
    "selected_pha_point = data_pha[dc_idx, pp_idx, pf_idx]\n",
    "print(selected_gain_point)\n",
    "\n",
    "font = {'size'   : 20}\n",
    "matplotlib.rc('font', **font)\n",
    "fig, ax = plt.subplots(1, 1, figsize = (15, 7), sharex = True)\n",
    "ax.grid()\n",
    "ax.set_xlabel('freq')\n",
    "ax.set_ylabel('Magnitude noise')\n",
    "\n",
    "\n",
    "ax.loglog(fft_freq[51:], selected_pha_point[0,51:], '.-', label = 'ON')\n",
    "\n",
    "# ax.plot(fft_freq[hz1_idx], selected_pha_point[0,hz1_idx], '.')\n",
    "\n",
    "ax.loglog(fft_freq[51:], selected_pha_point[1,51:], '.-', label = 'OFF')\n",
    "\n",
    "ax.legend()"
   ]
  },
  {
   "cell_type": "code",
   "execution_count": null,
   "id": "255e9738",
   "metadata": {
    "scrolled": false
   },
   "outputs": [],
   "source": [
    "# critical point scearch\n",
    "\n",
    "font = {'size'   : 15}\n",
    "matplotlib.rc('font', **font)\n",
    "fig, ax = plt.subplots(2, 1, figsize=(10,8), sharex=True)\n",
    "\n",
    "# fig1, ax1 = plt.subplots(1, 1, figsize = (15, 7), sharex = True)\n",
    "# ax1.grid()\n",
    "# ax1.set_xlabel('freq')\n",
    "# ax1.set_ylabel('Phase noise')\n",
    "\n",
    "\n",
    "\n",
    "def linear_func(x, a, b):\n",
    "    return a * x + b\n",
    "\n",
    "def linear_fit(x, y):\n",
    "    popt, pcov = curve_fit(linear_func, x, y)\n",
    "    a = popt[0]\n",
    "    b = popt[1]\n",
    "    return a, b\n",
    "\n",
    "\n",
    "hz1_idx = 60\n",
    "\n",
    "gain_arr = np.array([])\n",
    "mag_1hz_arr = np.array([])\n",
    "mag_1hz_arr_ref = np.array([])\n",
    "\n",
    "pha_1hz_arr = np.array([])\n",
    "pha_1hz_arr_ref = np.array([])\n",
    "\n",
    "font = {'size'   : 20}\n",
    "matplotlib.rc('font', **font)\n",
    "fig2, ax2 = plt.subplots(1, 1, figsize=(15,7))\n",
    "ax2.grid(True)\n",
    "bin_edges = np.linspace(-5.7, -2, 20)\n",
    "\n",
    "a=0\n",
    "    \n",
    "for dc_idx in range(len(volts)):\n",
    "    pha_1hz_arr_DC = np.array([])\n",
    "    for pp_idx in range(len(pump_powers)):\n",
    "        for pf_idx in range(len(pump_freqs)):\n",
    "        \n",
    "\n",
    "            selected_gain_point = data_gain[dc_idx, pf_idx, pp_idx]\n",
    "            selected_mag_point = data_mag[dc_idx,  pf_idx, pp_idx]\n",
    "            selected_pha_point = data_pha[dc_idx, pf_idx, pp_idx]\n",
    "\n",
    "            if selected_mag_point[0,hz1_idx] != 0: \n",
    "                a = a+1\n",
    "                gain_arr = np.append(gain_arr, selected_gain_point)\n",
    "                \n",
    "                x = fft_freq[51:]\n",
    "                y = selected_mag_point[0,51:]\n",
    "                am, bm = linear_fit(np.log10(x[:-30]), np.log10(y[:-30]))\n",
    "                \n",
    "                y = selected_pha_point[0,51:]\n",
    "                ap, bp = linear_fit(np.log10(x[:-30]), np.log10(y[:-30]))\n",
    "                \n",
    "                mag_1hz_arr = np.append(mag_1hz_arr, np.power(10, linear_func(np.log(1), am, bm)))\n",
    "                mag_1hz_arr_ref = np.append(mag_1hz_arr_ref, selected_mag_point[1,hz1_idx])\n",
    "                \n",
    "                pha_1hz_arr = np.append(pha_1hz_arr, np.power(10, linear_func(np.log(1), ap, bp)))\n",
    "                if linear_func(np.log(1), ap, bp)<-7.15:\n",
    "                    print(selected_gain_point, volts[dc_idx], pump_freqs[pf_idx]/1e9, pump_powers[pp_idx], linear_func(np.log(1), ap, bp))\n",
    "                \n",
    "                pha_1hz_arr_DC = np.append(pha_1hz_arr_DC, np.power(10, linear_func(np.log(1), ap, bp)))\n",
    "\n",
    "                    \n",
    "                pha_1hz_arr_ref = np.append(pha_1hz_arr_ref, selected_pha_point[1,hz1_idx])\n",
    "                \n",
    "    \n",
    "    if len(pha_1hz_arr_DC)>10:\n",
    "        ax2.hist(np.log10(pha_1hz_arr_DC), bins=bin_edges, alpha=1, label=r'DC: {} V'.format(np.round(volts[dc_idx],2)))\n",
    "\n",
    "                \n",
    "#             if selected_gain_point>5 and selected_gain_point<5.15:\n",
    "#                 x = fft_freq[51:]\n",
    "#                 y = selected_pha_point[0,51:]\n",
    "                \n",
    "#                 a, b = linear_fit(np.log(x[:-30]), np.log(y[:-30]))\n",
    "                \n",
    "#                 ax1.loglog(x, y, '.-', label = r'G = {}, a = {}'.format(np.round(selected_gain_point,1), np.round(a,2)))\n",
    "#                 ax1.loglog(x[:-30], np.exp(linear_func(np.log(x[:-30]), a, b)), color='black', alpha = 0.8, markersize=1, ls=\":\")\n",
    "#                 ax1.legend()\n",
    "\n",
    "\n",
    "\n",
    "ax[0].plot(gain_arr, np.log10(pha_1hz_arr), '.', label = 'All points')\n",
    "\n",
    "ax[1].plot(gain_arr, np.log10(mag_1hz_arr/np.power(10, gain_arr / 10)), '.', label = 'All points')\n",
    "\n",
    "ax[0].axhline(y=-5, color='r', linestyle='--', linewidth=1)\n",
    "ax[1].axhline(y=-5.35, color='r', linestyle='--', linewidth=1)\n",
    "\n",
    "ax[0].set_ylim(-6,-1.5)\n",
    "ax[1].set_ylim(-6,-2)\n",
    "\n",
    "ax[0].set_ylabel('Phase noise')\n",
    "\n",
    "ax[1].set_xlabel('Gain')\n",
    "ax[1].set_ylabel('Mag/gain noise')\n",
    "\n",
    "ax[0].grid()\n",
    "ax[1].grid()\n",
    "\n",
    "# ax[0].legend(loc = 0)\n",
    "ax2.legend()\n",
    "# ax[1].legend(loc = 0)"
   ]
  },
  {
   "cell_type": "code",
   "execution_count": null,
   "id": "ace0661e",
   "metadata": {},
   "outputs": [],
   "source": [
    "a*2.3/60*2"
   ]
  },
  {
   "cell_type": "code",
   "execution_count": null,
   "id": "e1c5d11b",
   "metadata": {},
   "outputs": [],
   "source": [
    "# 180 fast sweep till mid\n",
    "\n",
    "gain_arr_mid_180 = gain_arr\n",
    "pha_1hz_arr_mid_180 = pha_1hz_arr\n",
    "mag_1hz_arr_mid_180 = mag_1hz_arr\n",
    "\n",
    "pha_1hz_arr_ref_mid_180 = pha_1hz_arr_ref\n",
    "mag_1hz_arr_ref_mid_180 = mag_1hz_arr_ref\n",
    "\n"
   ]
  },
  {
   "cell_type": "code",
   "execution_count": 5,
   "id": "152e57dc",
   "metadata": {},
   "outputs": [
    {
     "ename": "NameError",
     "evalue": "name 'gain_arr' is not defined",
     "output_type": "error",
     "traceback": [
      "\u001b[1;31m---------------------------------------------------------------------------\u001b[0m",
      "\u001b[1;31mNameError\u001b[0m                                 Traceback (most recent call last)",
      "Cell \u001b[1;32mIn[5], line 1\u001b[0m\n\u001b[1;32m----> 1\u001b[0m gain_arr_slow \u001b[38;5;241m=\u001b[39m \u001b[43mgain_arr\u001b[49m\n\u001b[0;32m      2\u001b[0m pha_1hz_arr_slow \u001b[38;5;241m=\u001b[39m pha_1hz_arr\n\u001b[0;32m      3\u001b[0m mag_1hz_arr_slow \u001b[38;5;241m=\u001b[39m mag_1hz_arr\n",
      "\u001b[1;31mNameError\u001b[0m: name 'gain_arr' is not defined"
     ]
    }
   ],
   "source": [
    "gain_arr_slow = gain_arr\n",
    "pha_1hz_arr_slow = pha_1hz_arr\n",
    "mag_1hz_arr_slow = mag_1hz_arr\n",
    "\n",
    "pha_1hz_arr_ref_slow = pha_1hz_arr_ref\n",
    "mag_1hz_arr_ref_slow = mag_1hz_arr_ref"
   ]
  },
  {
   "cell_type": "code",
   "execution_count": 6,
   "id": "2b08dcfe",
   "metadata": {},
   "outputs": [
    {
     "ename": "NameError",
     "evalue": "name 'gain_arr' is not defined",
     "output_type": "error",
     "traceback": [
      "\u001b[1;31m---------------------------------------------------------------------------\u001b[0m",
      "\u001b[1;31mNameError\u001b[0m                                 Traceback (most recent call last)",
      "Cell \u001b[1;32mIn[6], line 1\u001b[0m\n\u001b[1;32m----> 1\u001b[0m gain_arr_break \u001b[38;5;241m=\u001b[39m \u001b[43mgain_arr\u001b[49m\n\u001b[0;32m      2\u001b[0m pha_1hz_arr_break \u001b[38;5;241m=\u001b[39m pha_1hz_arr\n\u001b[0;32m      3\u001b[0m mag_1hz_arr_break \u001b[38;5;241m=\u001b[39m mag_1hz_arr\n",
      "\u001b[1;31mNameError\u001b[0m: name 'gain_arr' is not defined"
     ]
    }
   ],
   "source": [
    "gain_arr_break = gain_arr\n",
    "pha_1hz_arr_break = pha_1hz_arr\n",
    "mag_1hz_arr_break = mag_1hz_arr\n",
    "\n",
    "pha_1hz_arr_ref_break = pha_1hz_arr_ref\n",
    "mag_1hz_arr_ref_break = mag_1hz_arr_ref"
   ]
  },
  {
   "cell_type": "code",
   "execution_count": 7,
   "id": "4a7aceae",
   "metadata": {},
   "outputs": [
    {
     "ename": "NameError",
     "evalue": "name 'gain_arr_break' is not defined",
     "output_type": "error",
     "traceback": [
      "\u001b[1;31m---------------------------------------------------------------------------\u001b[0m",
      "\u001b[1;31mNameError\u001b[0m                                 Traceback (most recent call last)",
      "Cell \u001b[1;32mIn[7], line 12\u001b[0m\n\u001b[0;32m      3\u001b[0m fig, ax \u001b[38;5;241m=\u001b[39m plt\u001b[38;5;241m.\u001b[39msubplots(\u001b[38;5;241m2\u001b[39m, \u001b[38;5;241m1\u001b[39m, figsize\u001b[38;5;241m=\u001b[39m(\u001b[38;5;241m16\u001b[39m,\u001b[38;5;241m8\u001b[39m), sharex\u001b[38;5;241m=\u001b[39m\u001b[38;5;28;01mTrue\u001b[39;00m)\n\u001b[0;32m      6\u001b[0m \u001b[38;5;66;03m# ax[1].plot(gain_arr_mid_180, np.log10(pha_1hz_arr_mid_180), '.')\u001b[39;00m\n\u001b[0;32m      7\u001b[0m \u001b[38;5;66;03m# ax[0].plot(gain_arr_mid_180, np.log10(mag_1hz_arr_mid_180/np.power(10, gain_arr_mid_180 / 10)), '.')\u001b[39;00m\n\u001b[0;32m      8\u001b[0m \n\u001b[0;32m      9\u001b[0m \u001b[38;5;66;03m# ax[1].plot(gain_arr_slow, np.log10(pha_1hz_arr_slow), '.')\u001b[39;00m\n\u001b[0;32m     10\u001b[0m \u001b[38;5;66;03m# ax[0].plot(gain_arr_slow, np.log10(mag_1hz_arr_slow/np.power(10, gain_arr_slow / 10)), '.')\u001b[39;00m\n\u001b[1;32m---> 12\u001b[0m ax[\u001b[38;5;241m1\u001b[39m]\u001b[38;5;241m.\u001b[39mplot(\u001b[43mgain_arr_break\u001b[49m, np\u001b[38;5;241m.\u001b[39mlog10(pha_1hz_arr_break), \u001b[38;5;124m'\u001b[39m\u001b[38;5;124m.\u001b[39m\u001b[38;5;124m'\u001b[39m)\n\u001b[0;32m     13\u001b[0m ax[\u001b[38;5;241m0\u001b[39m]\u001b[38;5;241m.\u001b[39mplot(gain_arr_break, np\u001b[38;5;241m.\u001b[39mlog10(mag_1hz_arr_break\u001b[38;5;241m/\u001b[39mnp\u001b[38;5;241m.\u001b[39mpower(\u001b[38;5;241m10\u001b[39m, gain_arr_break \u001b[38;5;241m/\u001b[39m \u001b[38;5;241m10\u001b[39m)), \u001b[38;5;124m'\u001b[39m\u001b[38;5;124m.\u001b[39m\u001b[38;5;124m'\u001b[39m)\n\u001b[0;32m     15\u001b[0m ax[\u001b[38;5;241m1\u001b[39m]\u001b[38;5;241m.\u001b[39maxhline(y\u001b[38;5;241m=\u001b[39m\u001b[38;5;241m-\u001b[39m\u001b[38;5;241m7.4\u001b[39m, color\u001b[38;5;241m=\u001b[39m\u001b[38;5;124m'\u001b[39m\u001b[38;5;124mr\u001b[39m\u001b[38;5;124m'\u001b[39m, linestyle\u001b[38;5;241m=\u001b[39m\u001b[38;5;124m'\u001b[39m\u001b[38;5;124m--\u001b[39m\u001b[38;5;124m'\u001b[39m, linewidth\u001b[38;5;241m=\u001b[39m\u001b[38;5;241m1\u001b[39m, label \u001b[38;5;241m=\u001b[39m \u001b[38;5;124m'\u001b[39m\u001b[38;5;124mMin = -7.4\u001b[39m\u001b[38;5;124m'\u001b[39m)\n",
      "\u001b[1;31mNameError\u001b[0m: name 'gain_arr_break' is not defined"
     ]
    },
    {
     "data": {
      "image/png": "[encoded data removed]",
      "text/plain": [
       "<Figure size 1152x576 with 2 Axes>"
      ]
     },
     "metadata": {
      "needs_background": "light"
     },
     "output_type": "display_data"
    }
   ],
   "source": [
    "font = {'size'   :20}\n",
    "matplotlib.rc('font', **font)\n",
    "fig, ax = plt.subplots(2, 1, figsize=(16,8), sharex=True)\n",
    "\n",
    "\n",
    "# ax[1].plot(gain_arr_mid_180, np.log10(pha_1hz_arr_mid_180), '.')\n",
    "# ax[0].plot(gain_arr_mid_180, np.log10(mag_1hz_arr_mid_180/np.power(10, gain_arr_mid_180 / 10)), '.')\n",
    "\n",
    "# ax[1].plot(gain_arr_slow, np.log10(pha_1hz_arr_slow), '.')\n",
    "# ax[0].plot(gain_arr_slow, np.log10(mag_1hz_arr_slow/np.power(10, gain_arr_slow / 10)), '.')\n",
    "\n",
    "ax[1].plot(gain_arr_break, np.log10(pha_1hz_arr_break), '.')\n",
    "ax[0].plot(gain_arr_break, np.log10(mag_1hz_arr_break/np.power(10, gain_arr_break / 10)), '.')\n",
    "\n",
    "ax[1].axhline(y=-7.4, color='r', linestyle='--', linewidth=1, label = 'Min = -7.4')\n",
    "ax[0].axhline(y=-8, color='r', linestyle='--', linewidth=1, label = 'Min = -8')\n",
    "ax[1].set_ylim(-8,-3)\n",
    "ax[0].set_ylim(-8.5,-4)\n",
    "ax[1].set_ylabel('Phase noise')\n",
    "ax[1].set_xlabel('Gain')\n",
    "ax[0].set_ylabel('Mag/gain noise')\n",
    "ax[1].grid()\n",
    "ax[0].grid()\n",
    "ax[0].legend()\n",
    "ax[1].legend()\n",
    "plt.savefig(r\"C:\\Users\\Demag\\PycharmProjects\\ColdMeasurements\\DeMag\\DATA\\TWPA_noise_9\\paper_plots\\gain.png\", dpi=300, bbox_inches='tight')\n"
   ]
  },
  {
   "cell_type": "code",
   "execution_count": 8,
   "id": "0f01b73c",
   "metadata": {},
   "outputs": [
    {
     "ename": "NameError",
     "evalue": "name 'pha_1hz_arr_mid_180' is not defined",
     "output_type": "error",
     "traceback": [
      "\u001b[1;31m---------------------------------------------------------------------------\u001b[0m",
      "\u001b[1;31mNameError\u001b[0m                                 Traceback (most recent call last)",
      "Cell \u001b[1;32mIn[8], line 1\u001b[0m\n\u001b[1;32m----> 1\u001b[0m pha_1hz_arr_total \u001b[38;5;241m=\u001b[39m np\u001b[38;5;241m.\u001b[39mappend(\u001b[43mpha_1hz_arr_mid_180\u001b[49m, pha_1hz_arr_slow)\n\u001b[0;32m      2\u001b[0m pha_1hz_arr_total \u001b[38;5;241m=\u001b[39m np\u001b[38;5;241m.\u001b[39mappend(pha_1hz_arr_total, pha_1hz_arr_break)\n\u001b[0;32m      4\u001b[0m pha_1hz_arr_ref_total \u001b[38;5;241m=\u001b[39m np\u001b[38;5;241m.\u001b[39mappend(pha_1hz_arr_ref_mid_180, pha_1hz_arr_ref_slow)\n",
      "\u001b[1;31mNameError\u001b[0m: name 'pha_1hz_arr_mid_180' is not defined"
     ]
    }
   ],
   "source": [
    "pha_1hz_arr_total = np.append(pha_1hz_arr_mid_180, pha_1hz_arr_slow)\n",
    "pha_1hz_arr_total = np.append(pha_1hz_arr_total, pha_1hz_arr_break)\n",
    "\n",
    "pha_1hz_arr_ref_total = np.append(pha_1hz_arr_ref_mid_180, pha_1hz_arr_ref_slow)\n",
    "pha_1hz_arr_ref_total = np.append(pha_1hz_arr_ref_total, pha_1hz_arr_ref_break)"
   ]
  },
  {
   "cell_type": "code",
   "execution_count": 9,
   "id": "f7b81a6f",
   "metadata": {},
   "outputs": [
    {
     "ename": "NameError",
     "evalue": "name 'pha_1hz_arr_ref_total' is not defined",
     "output_type": "error",
     "traceback": [
      "\u001b[1;31m---------------------------------------------------------------------------\u001b[0m",
      "\u001b[1;31mNameError\u001b[0m                                 Traceback (most recent call last)",
      "Cell \u001b[1;32mIn[9], line 12\u001b[0m\n\u001b[0;32m      9\u001b[0m bin_edges \u001b[38;5;241m=\u001b[39m np\u001b[38;5;241m.\u001b[39mlinspace(\u001b[38;5;241m-\u001b[39m\u001b[38;5;241m7.8\u001b[39m, \u001b[38;5;241m-\u001b[39m\u001b[38;5;241m4\u001b[39m, \u001b[38;5;241m150\u001b[39m)\n\u001b[0;32m     11\u001b[0m \u001b[38;5;66;03m# ax.hist(np.log10(pha_1hz_arr)/np.log10(pha_1hz_arr_ref), bins=bin_edges, alpha=0.5, label='Phase noise/REF', color='blue')\u001b[39;00m\n\u001b[1;32m---> 12\u001b[0m ax\u001b[38;5;241m.\u001b[39mhist(np\u001b[38;5;241m.\u001b[39mlog10(\u001b[43mpha_1hz_arr_ref_total\u001b[49m), bins\u001b[38;5;241m=\u001b[39mbin_edges, alpha\u001b[38;5;241m=\u001b[39m\u001b[38;5;241m0.5\u001b[39m, label\u001b[38;5;241m=\u001b[39m\u001b[38;5;124m'\u001b[39m\u001b[38;5;124mPhase noise - REF\u001b[39m\u001b[38;5;124m'\u001b[39m, color\u001b[38;5;241m=\u001b[39m\u001b[38;5;124m'\u001b[39m\u001b[38;5;124mred\u001b[39m\u001b[38;5;124m'\u001b[39m)\n\u001b[0;32m     13\u001b[0m ax\u001b[38;5;241m.\u001b[39mhist(np\u001b[38;5;241m.\u001b[39mlog10(pha_1hz_arr_total), bins\u001b[38;5;241m=\u001b[39mbin_edges, alpha\u001b[38;5;241m=\u001b[39m\u001b[38;5;241m0.5\u001b[39m, label\u001b[38;5;241m=\u001b[39m\u001b[38;5;124m'\u001b[39m\u001b[38;5;124mPhase noise\u001b[39m\u001b[38;5;124m'\u001b[39m, color\u001b[38;5;241m=\u001b[39m\u001b[38;5;124m'\u001b[39m\u001b[38;5;124mblue\u001b[39m\u001b[38;5;124m'\u001b[39m)\n\u001b[0;32m     16\u001b[0m ax\u001b[38;5;241m.\u001b[39mlegend()\n",
      "\u001b[1;31mNameError\u001b[0m: name 'pha_1hz_arr_ref_total' is not defined"
     ]
    },
    {
     "data": {
      "image/png": "[encoded data removed]",
      "text/plain": [
       "<Figure size 1080x504 with 1 Axes>"
      ]
     },
     "metadata": {
      "needs_background": "light"
     },
     "output_type": "display_data"
    }
   ],
   "source": [
    "font = {'size'   : 20}\n",
    "matplotlib.rc('font', **font)\n",
    "fig, ax = plt.subplots(1, 1, figsize=(15,7))\n",
    "ax.set_title(\"10 mK\")\n",
    "ax.set_ylabel(\"Counts\")\n",
    "ax.set_xlabel(\"1 Hz noise\")\n",
    "\n",
    "\n",
    "bin_edges = np.linspace(-7.8, -4, 150)\n",
    "\n",
    "# ax.hist(np.log10(pha_1hz_arr)/np.log10(pha_1hz_arr_ref), bins=bin_edges, alpha=0.5, label='Phase noise/REF', color='blue')\n",
    "ax.hist(np.log10(pha_1hz_arr_ref_total), bins=bin_edges, alpha=0.5, label='Phase noise - REF', color='red')\n",
    "ax.hist(np.log10(pha_1hz_arr_total), bins=bin_edges, alpha=0.5, label='Phase noise', color='blue')\n",
    "\n",
    "\n",
    "ax.legend()\n",
    "ax.grid(True)\n",
    "plt.savefig(r\"C:\\Users\\Demag\\PycharmProjects\\ColdMeasurements\\DeMag\\DATA\\TWPA_noise_9\\paper_plots\\REf_TWPA.png\", dpi=300, bbox_inches='tight')\n",
    "plt.show()"
   ]
  },
  {
   "cell_type": "code",
   "execution_count": 109,
   "id": "c4d9fed3",
   "metadata": {},
   "outputs": [
    {
     "data": {
      "image/png": "[encoded data removed]",
      "text/plain": [
       "<Figure size 1080x504 with 1 Axes>"
      ]
     },
     "metadata": {
      "needs_background": "light"
     },
     "output_type": "display_data"
    }
   ],
   "source": [
    "font = {'size'   : 20}\n",
    "matplotlib.rc('font', **font)\n",
    "fig, ax = plt.subplots(1, 1, figsize=(15,7))\n",
    "ax.set_title(\"500 mK\")\n",
    "ax.set_ylabel(\"Counts\")\n",
    "ax.set_xlabel(\"1 Hz noise\")\n",
    "\n",
    "\n",
    "bin_edges = np.linspace(-6, -2, 150)\n",
    "\n",
    "# ax.hist(np.log10(pha_1hz_arr)/np.log10(pha_1hz_arr_ref), bins=bin_edges, alpha=0.5, label='Phase noise/REF', color='blue')\n",
    "ax.hist(np.log10(pha_1hz_arr_ref), bins=bin_edges, alpha=0.5, label='Phase noise - REF', color='red')\n",
    "ax.hist(np.log10(pha_1hz_arr), bins=bin_edges, alpha=0.5, label='Phase noise', color='blue')\n",
    "\n",
    "\n",
    "ax.legend()\n",
    "ax.grid(True)"
   ]
  },
  {
   "cell_type": "code",
   "execution_count": 79,
   "id": "fbfc92aa",
   "metadata": {},
   "outputs": [
    {
     "name": "stdout",
     "output_type": "stream",
     "text": [
      "0\r",
      "1\r",
      "2\r",
      "3\r",
      "4\r",
      "5\r",
      "6\n",
      "7\n",
      "8\n",
      "9\n"
     ]
    }
   ],
   "source": [
    "for i in range(10):\n",
    "\n",
    "    print(f\"{i}\", end='\\n' if i > 5 else '\\r')"
   ]
  },
  {
   "cell_type": "code",
   "execution_count": 17,
   "id": "c77e05a7",
   "metadata": {},
   "outputs": [
    {
     "data": {
      "text/plain": [
       "15"
      ]
     },
     "execution_count": 17,
     "metadata": {},
     "output_type": "execute_result"
    }
   ],
   "source": [
    "288-273"
   ]
  },
  {
   "cell_type": "code",
   "execution_count": null,
   "id": "60f41c8a",
   "metadata": {},
   "outputs": [],
   "source": []
  }
 ],
 "metadata": {
  "kernelspec": {
   "display_name": "Python 3 (ipykernel)",
   "language": "python",
   "name": "python3"
  },
  "language_info": {
   "codemirror_mode": {
    "name": "ipython",
    "version": 3
   },
   "file_extension": ".py",
   "mimetype": "text/x-python",
   "name": "python",
   "nbconvert_exporter": "python",
   "pygments_lexer": "ipython3",
   "version": "3.9.12"
  }
 },
 "nbformat": 4,
 "nbformat_minor": 5
}
