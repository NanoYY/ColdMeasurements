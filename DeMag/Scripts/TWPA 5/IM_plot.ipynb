{
 "cells": [
  {
   "cell_type": "code",
   "execution_count": 1,
   "id": "b3a90e0f",
   "metadata": {},
   "outputs": [
    {
     "name": "stderr",
     "output_type": "stream",
     "text": [
      "C:\\Users\\Demag\\anaconda3\\lib\\site-packages\\scipy\\__init__.py:146: UserWarning: A NumPy version >=1.16.5 and <1.23.0 is required for this version of SciPy (detected version 1.26.1\n",
      "  warnings.warn(f\"A NumPy version >={np_minversion} and <{np_maxversion}\"\n"
     ]
    }
   ],
   "source": [
    "import matplotlib.pyplot as plt\n",
    "import matplotlib\n",
    "# %matplotlib qt\n",
    "\n",
    "import numpy as np\n",
    "from numpy import *\n",
    "from scipy.fft import fft, ifft, fftshift, ifftshift\n",
    "from scipy.optimize import curve_fit\n",
    "\n",
    "import os\n",
    "import scipy.io as sio"
   ]
  },
  {
   "cell_type": "code",
   "execution_count": 2,
   "id": "3c06df11",
   "metadata": {},
   "outputs": [
    {
     "name": "stdout",
     "output_type": "stream",
     "text": [
      "[0] -----------> BP_filter_scan.mat\n",
      "[1] -----------> BP_filter_scan_4.614.mat\n",
      "[2] -----------> IM_power_sweep_9GHzLOWnoise_no_BP_filter_0_0_2025-06-21-18-36-39.mat\n",
      "[3] -----------> IM_power_sweep_9GHzLOWnoise_no_BP_filter_0_10_2025-06-22-06-54-24.mat\n",
      "[4] -----------> IM_power_sweep_9GHzLOWnoise_no_BP_filter_0_11_2025-06-22-08-08-11.mat\n",
      "[5] -----------> IM_power_sweep_9GHzLOWnoise_no_BP_filter_0_12_2025-06-22-09-21-57.mat\n",
      "[6] -----------> IM_power_sweep_9GHzLOWnoise_no_BP_filter_0_13_2025-06-22-10-35-44.mat\n",
      "[7] -----------> IM_power_sweep_9GHzLOWnoise_no_BP_filter_0_14_2025-06-22-11-49-31.mat\n",
      "[8] -----------> IM_power_sweep_9GHzLOWnoise_no_BP_filter_0_15_2025-06-22-13-03-17.mat\n",
      "[9] -----------> IM_power_sweep_9GHzLOWnoise_no_BP_filter_0_16_2025-06-22-14-17-04.mat\n",
      "[10] -----------> IM_power_sweep_9GHzLOWnoise_no_BP_filter_0_17_2025-06-22-15-30-51.mat\n",
      "[11] -----------> IM_power_sweep_9GHzLOWnoise_no_BP_filter_0_18_2025-06-22-16-44-38.mat\n",
      "[12] -----------> IM_power_sweep_9GHzLOWnoise_no_BP_filter_0_19_2025-06-22-17-58-25.mat\n",
      "[13] -----------> IM_power_sweep_9GHzLOWnoise_no_BP_filter_0_1_2025-06-21-19-50-26.mat\n",
      "[14] -----------> IM_power_sweep_9GHzLOWnoise_no_BP_filter_0_20_2025-06-22-19-12-12.mat\n",
      "[15] -----------> IM_power_sweep_9GHzLOWnoise_no_BP_filter_0_21_2025-06-22-20-25-58.mat\n",
      "[16] -----------> IM_power_sweep_9GHzLOWnoise_no_BP_filter_0_22_2025-06-22-21-39-45.mat\n",
      "[17] -----------> IM_power_sweep_9GHzLOWnoise_no_BP_filter_0_23_2025-06-22-22-53-32.mat\n",
      "[18] -----------> IM_power_sweep_9GHzLOWnoise_no_BP_filter_0_24_2025-06-23-00-07-19.mat\n",
      "[19] -----------> IM_power_sweep_9GHzLOWnoise_no_BP_filter_0_25_2025-06-23-01-21-06.mat\n",
      "[20] -----------> IM_power_sweep_9GHzLOWnoise_no_BP_filter_0_26_2025-06-23-02-34-53.mat\n",
      "[21] -----------> IM_power_sweep_9GHzLOWnoise_no_BP_filter_0_27_2025-06-23-03-48-39.mat\n",
      "[22] -----------> IM_power_sweep_9GHzLOWnoise_no_BP_filter_0_28_2025-06-23-05-02-26.mat\n",
      "[23] -----------> IM_power_sweep_9GHzLOWnoise_no_BP_filter_0_29_2025-06-23-06-16-13.mat\n",
      "[24] -----------> IM_power_sweep_9GHzLOWnoise_no_BP_filter_0_2_2025-06-21-21-04-11.mat\n",
      "[25] -----------> IM_power_sweep_9GHzLOWnoise_no_BP_filter_0_30_2025-06-23-07-30-00.mat\n",
      "[26] -----------> IM_power_sweep_9GHzLOWnoise_no_BP_filter_0_31_2025-06-23-08-43-47.mat\n",
      "[27] -----------> IM_power_sweep_9GHzLOWnoise_no_BP_filter_0_32_2025-06-23-09-57-34.mat\n",
      "[28] -----------> IM_power_sweep_9GHzLOWnoise_no_BP_filter_0_33_2025-06-23-11-11-21.mat\n",
      "[29] -----------> IM_power_sweep_9GHzLOWnoise_no_BP_filter_0_34_2025-06-23-12-25-08.mat\n",
      "[30] -----------> IM_power_sweep_9GHzLOWnoise_no_BP_filter_0_35_2025-06-23-13-38-55.mat\n",
      "[31] -----------> IM_power_sweep_9GHzLOWnoise_no_BP_filter_0_3_2025-06-21-22-17-58.mat\n",
      "[32] -----------> IM_power_sweep_9GHzLOWnoise_no_BP_filter_0_4_2025-06-21-23-31-44.mat\n",
      "[33] -----------> IM_power_sweep_9GHzLOWnoise_no_BP_filter_0_5_2025-06-22-00-45-31.mat\n",
      "[34] -----------> IM_power_sweep_9GHzLOWnoise_no_BP_filter_0_6_2025-06-22-01-59-18.mat\n",
      "[35] -----------> IM_power_sweep_9GHzLOWnoise_no_BP_filter_0_7_2025-06-22-03-13-04.mat\n",
      "[36] -----------> IM_power_sweep_9GHzLOWnoise_no_BP_filter_0_8_2025-06-22-04-26-51.mat\n",
      "[37] -----------> IM_power_sweep_9GHzLOWnoise_no_BP_filter_0_9_2025-06-22-05-40-37.mat\n",
      "[38] -----------> IM_power_sweep_9GHzLOWnoise_with_BP_filter2025-06-21-17-44-39.mat\n",
      "[39] -----------> IM_power_sweep_9GHzLOWnoise_with_BP_filter2025-06-21-17-57-56.mat\n",
      "[40] -----------> IM_power_sweep_9GHzLOWnoise_with_BP_filter_0_0_2025-06-21-18-22-05.mat\n",
      "[41] -----------> IM_power_sweep_9GHzLOWnoise_with_BP_filter_0_0_2025-06-21-18-28-42.mat\n",
      "[42] -----------> TWPA_at_9GHz_point_IMpower_sweep_4.614_with_BP_filter.mat\n",
      "[43] -----------> TWPA_gain_at_low_freq_point_full_sweep.mat\n",
      "[44] -----------> TWPA_gain_at_low_freq_point_full_sweep_4.614.mat\n",
      "[45] -----------> TWPA_gain_at_low_freq_point_full_sweep_TEST.mat\n"
     ]
    }
   ],
   "source": [
    "initial_folder = r'C:\\Users\\Demag\\PycharmProjects\\ColdMeasurements\\DeMag\\DATA\\TWPA_noise_9\\IM'\n",
    "\n",
    "folders = os.listdir(initial_folder)\n",
    "for i in range(len(folders)):\n",
    "    if \".fig\" in folders[i]: pass\n",
    "    else: \n",
    "        print(r\"[%d]\" %(i), '----------->', folders[i])"
   ]
  },
  {
   "cell_type": "code",
   "execution_count": 3,
   "id": "1ced2025",
   "metadata": {},
   "outputs": [
    {
     "data": {
      "text/plain": [
       "dict_keys(['__header__', '__version__', '__globals__', 'low_noise_pump_freq', 'low_noise_DC', 'low_noise_pump_power', 'low_noise_pump_freq_IM1', 'low_noise_pump_freq_IM2', 'DC_points', 'pump_points', 'DC_points_curr', 'pump_points_curr', 'low_noise_IM_power', 'delta_max', 'band_KHz', 'cent_freq_sa', 'span_sa_GHz', 'freq', 'spectra'])"
      ]
     },
     "execution_count": 3,
     "metadata": {},
     "output_type": "execute_result"
    }
   ],
   "source": [
    "file = folders[2]\n",
    "mat = sio.loadmat(initial_folder+\"\\\\\"+file)\n",
    "mat.keys()"
   ]
  },
  {
   "cell_type": "code",
   "execution_count": 6,
   "id": "e41fa7fe",
   "metadata": {},
   "outputs": [
    {
     "name": "stdout",
     "output_type": "stream",
     "text": [
      "(100001,)\n",
      "[-105.901268  -103.940567  -105.5645599 ... -106.639183  -106.5696945\n",
      " -106.030487 ]\n"
     ]
    }
   ],
   "source": [
    "freq = mat['freq'][0]\n",
    "print(freq.shape)\n",
    "spectra = mat['spectra']\n",
    "print(spectra[4])"
   ]
  },
  {
   "cell_type": "code",
   "execution_count": 26,
   "id": "57c17960",
   "metadata": {},
   "outputs": [
    {
     "data": {
      "text/plain": [
       "[<matplotlib.lines.Line2D at 0x19737db4730>]"
      ]
     },
     "execution_count": 26,
     "metadata": {},
     "output_type": "execute_result"
    }
   ],
   "source": [
    "%matplotlib qt\n",
    "plt.plot(freq, spectra[1])\n",
    "plt.plot(freq, spectra[6])\n",
    "plt.plot(freq, spectra[10])"
   ]
  },
  {
   "cell_type": "code",
   "execution_count": null,
   "id": "d42d47a7",
   "metadata": {},
   "outputs": [],
   "source": []
  }
 ],
 "metadata": {
  "kernelspec": {
   "display_name": "Python 3 (ipykernel)",
   "language": "python",
   "name": "python3"
  },
  "language_info": {
   "codemirror_mode": {
    "name": "ipython",
    "version": 3
   },
   "file_extension": ".py",
   "mimetype": "text/x-python",
   "name": "python",
   "nbconvert_exporter": "python",
   "pygments_lexer": "ipython3",
   "version": "3.9.12"
  }
 },
 "nbformat": 4,
 "nbformat_minor": 5
}
