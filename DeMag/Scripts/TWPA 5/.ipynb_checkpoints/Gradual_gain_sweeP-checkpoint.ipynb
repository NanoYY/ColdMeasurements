{
 "cells": [
  {
   "cell_type": "code",
   "execution_count": 1,
   "id": "819c4d93",
   "metadata": {},
   "outputs": [
    {
     "name": "stdout",
     "output_type": "stream",
     "text": [
      "Folder C:\\Users\\Demag\\PycharmProjects\\ColdMeasurements\\DeMag\\DATA\\TWPA_noise_9 already exists\n"
     ]
    }
   ],
   "source": [
    "from nanodrivers.visa_drivers.anapico import ANAPICO\n",
    "from nanodrivers.visa_drivers.SIM928_voltage_source import SIM # as DC\n",
    "from nanodrivers.visa_drivers.vna import VNA\n",
    "\n",
    "#math\n",
    "import numpy as np\n",
    "from numpy import *\n",
    "from scipy.optimize import curve_fit\n",
    "\n",
    "#plotting\n",
    "import matplotlib.pyplot as plt\n",
    "import matplotlib\n",
    "\n",
    "#matlab import\n",
    "import scipy.io\n",
    "from scipy.io import savemat\n",
    "from scipy.optimize import minimize\n",
    "from scipy.fft import fft, ifft, fftshift, ifftshift\n",
    "\n",
    "\n",
    "#file_store\n",
    "import os\n",
    "\n",
    "#time\n",
    "import time\n",
    "from datetime import datetime, timedelta\n",
    "\n",
    "\n",
    "from ctypes import *\n",
    "%matplotlib inline\n",
    "\n",
    "Global_data_adress = r\"C:\\Users\\Demag\\PycharmProjects\\ColdMeasurements\\DeMag\\DATA\"\n",
    "exp_name = 'TWPA_noise_9'\n",
    "adress = Global_data_adress+'\\\\'+exp_name\n",
    "if not os.path.exists(adress):\n",
    "  os.mkdir(adress)\n",
    "  print(\"Folder %s created!\" % adress)\n",
    "else:\n",
    "  print(\"Folder %s already exists\" % adress)\n",
    "\n",
    "\n",
    "# Stable temperature since 02.06.2025"
   ]
  },
  {
   "cell_type": "code",
   "execution_count": 3,
   "id": "49431e45",
   "metadata": {},
   "outputs": [
    {
     "name": "stdout",
     "output_type": "stream",
     "text": [
      "Unable to connect device.\n",
      " VI_ERROR_TMO (-1073807339): Timeout expired before operation completed.\n",
      "Check that device is connected, visible in NI MAX and is not used by another software.\n",
      "Connection exist: Stanford_Research_Systems,SIM928,s/n035459,ver2.7\r\n",
      "\n"
     ]
    }
   ],
   "source": [
    "dc = SIM(slot_num=7)\n",
    "dc.idn()"
   ]
  },
  {
   "cell_type": "code",
   "execution_count": 4,
   "id": "c7d39e37",
   "metadata": {},
   "outputs": [
    {
     "name": "stdout",
     "output_type": "stream",
     "text": [
      "SIM928 is now disconnected from SIM900 mainframe\n"
     ]
    }
   ],
   "source": [
    "dc.disconnect()"
   ]
  },
  {
   "cell_type": "code",
   "execution_count": 5,
   "id": "d40b5d84",
   "metadata": {},
   "outputs": [
    {
     "name": "stdout",
     "output_type": "stream",
     "text": [
      "Connection exist: Stanford_Research_Systems,SIM928,s/n035459,ver2.7\r\n",
      "\n"
     ]
    }
   ],
   "source": [
    "dc = SIM(slot_num=7)\n",
    "dc.idn()"
   ]
  },
  {
   "cell_type": "code",
   "execution_count": 9,
   "id": "0ea49c54",
   "metadata": {
    "scrolled": true
   },
   "outputs": [
    {
     "name": "stdout",
     "output_type": "stream",
     "text": [
      "Connection exist: Rohde-Schwarz,ZNB20-2Port,1311601062102129,3.45\n",
      "\n"
     ]
    }
   ],
   "source": [
    "vna = VNA()\n",
    "vna.idn()"
   ]
  },
  {
   "cell_type": "code",
   "execution_count": 10,
   "id": "7013dca6",
   "metadata": {},
   "outputs": [
    {
     "name": "stdout",
     "output_type": "stream",
     "text": [
      "Connection exist: AnaPico AG,APMS20G,3C6-0B4F40003-0985,1.0.7\n",
      "\n"
     ]
    }
   ],
   "source": [
    "anapico = ANAPICO()\n",
    "anapico.idn()"
   ]
  },
  {
   "cell_type": "code",
   "execution_count": 4,
   "id": "9ce8eece",
   "metadata": {},
   "outputs": [],
   "source": [
    "anapico.set_off(1)"
   ]
  },
  {
   "cell_type": "markdown",
   "id": "cefcde5d",
   "metadata": {},
   "source": [
    "# Rough gain sweep"
   ]
  },
  {
   "cell_type": "code",
   "execution_count": 7,
   "id": "96b9997b",
   "metadata": {},
   "outputs": [],
   "source": [
    "from TWPA_scearch_best_gain import *"
   ]
  },
  {
   "cell_type": "code",
   "execution_count": 49,
   "id": "69a60a02",
   "metadata": {},
   "outputs": [],
   "source": [
    "TWPA = TWPA_best_gain(file_path = adress, file_name = 'Gain_sweep_fixed_power_7db_dense_lower_gain_500mL', \n",
    "                      vna = vna, anapico = anapico, dc = dc,\n",
    "                      min_pump_power=0, max_pump_power=10,\n",
    "                      min_pump_freq=9e9, max_pump_freq=14.5e9,\n",
    "                      min_dc=0.5, max_dc=3,\n",
    "                      steps_pump_power=12, steps_pump_freq=501, steps_dc=101,\n",
    "                      gain_threshold=18,\n",
    "                      temp=13)"
   ]
  },
  {
   "cell_type": "code",
   "execution_count": 50,
   "id": "25d2ece9",
   "metadata": {
    "scrolled": true
   },
   "outputs": [
    {
     "name": "stdout",
     "output_type": "stream",
     "text": [
      "Database from file \n",
      "   C:\\Users\\Demag\\PycharmProjects\\ColdMeasurements\\DeMag\\DATA\\TWPA_noise_9\\Gain_sweep_fixed_power_7db_dense2025-06-06-19-12-26.mat \n",
      "uploaded\n",
      "dict_keys(['__header__', '__version__', '__globals__', 'best_gain_DC', 'best_gain_pp', 'best_gain_pf', 'best_gain', 'rough_dc', 'rough_pf', 'rough_pp', 'database'])\n"
     ]
    }
   ],
   "source": [
    "# Upload file if restart needed\n",
    "mat = TWPA.load_database(folder_address=adress, \n",
    "                         file_name=\"Gain_sweep_fixed_power_7db_dense2025-06-06-19-12-26.mat\", last_one=False)"
   ]
  },
  {
   "cell_type": "code",
   "execution_count": 51,
   "id": "46fa8967",
   "metadata": {},
   "outputs": [],
   "source": [
    "TWPA.min_dc = 0.5\n",
    "TWPA.max_dc = 2.2\n",
    "TWPA.min_pump_power=1\n",
    "TWPA.max_pump_power=9"
   ]
  },
  {
   "cell_type": "code",
   "execution_count": 52,
   "id": "ebd49470",
   "metadata": {
    "scrolled": true
   },
   "outputs": [
    {
     "name": "stdout",
     "output_type": "stream",
     "text": [
      "Script started at _2025-07-07 21:03:50\n",
      "\n",
      "\n",
      "New DC set to 0.5 V at _2025-07-07 21:03:50\n",
      "Range DC[0.50] = [0.50, 0.55], PF[9.00] = [9.00, 9.00], PP[8.8800] = [10.00, 0.00] --> 0.010\r"
     ]
    },
    {
     "ename": "IndexError",
     "evalue": "index 12 is out of bounds for axis 0 with size 12",
     "output_type": "error",
     "traceback": [
      "\u001b[1;31m---------------------------------------------------------------------------\u001b[0m",
      "\u001b[1;31mIndexError\u001b[0m                                Traceback (most recent call last)",
      "Cell \u001b[1;32mIn[52], line 1\u001b[0m\n\u001b[1;32m----> 1\u001b[0m \u001b[43mTWPA\u001b[49m\u001b[38;5;241;43m.\u001b[39;49m\u001b[43msweep_database\u001b[49m\u001b[43m(\u001b[49m\u001b[43mdc_nop\u001b[49m\u001b[38;5;241;43m=\u001b[39;49m\u001b[38;5;241;43m35\u001b[39;49m\u001b[43m,\u001b[49m\u001b[43m \u001b[49m\u001b[43mpp_nop\u001b[49m\u001b[38;5;241;43m=\u001b[39;49m\u001b[38;5;241;43m11\u001b[39;49m\u001b[43m,\u001b[49m\u001b[43m \u001b[49m\u001b[43mpf_nop\u001b[49m\u001b[38;5;241;43m=\u001b[39;49m\u001b[38;5;241;43m501\u001b[39;49m\u001b[43m,\u001b[49m\u001b[43m \u001b[49m\u001b[43mconditional_gain_tr\u001b[49m\u001b[38;5;241;43m=\u001b[39;49m\u001b[38;5;241;43m-\u001b[39;49m\u001b[38;5;241;43m10\u001b[39;49m\u001b[43m)\u001b[49m\n",
      "File \u001b[1;32m~\\PycharmProjects\\ColdMeasurements\\DeMag\\Scripts\\TWPA 5\\TWPA_scearch_best_gain.py:346\u001b[0m, in \u001b[0;36mTWPA_best_gain.sweep_database\u001b[1;34m(self, dc_nop, pp_nop, pf_nop, conditional_gain_tr, dc_range, pf_range, pp_range)\u001b[0m\n\u001b[0;32m    334\u001b[0m dc_range \u001b[38;5;241m=\u001b[39m \u001b[38;5;124m'\u001b[39m\u001b[38;5;124mRange DC[\u001b[39m\u001b[38;5;132;01m{:.2f}\u001b[39;00m\u001b[38;5;124m] = [\u001b[39m\u001b[38;5;132;01m{:.2f}\u001b[39;00m\u001b[38;5;124m, \u001b[39m\u001b[38;5;132;01m{:.2f}\u001b[39;00m\u001b[38;5;124m]\u001b[39m\u001b[38;5;124m'\u001b[39m\u001b[38;5;241m.\u001b[39mformat(\n\u001b[0;32m    335\u001b[0m     np\u001b[38;5;241m.\u001b[39mround(dc_voltage, \u001b[38;5;241m3\u001b[39m),\n\u001b[0;32m    336\u001b[0m     np\u001b[38;5;241m.\u001b[39mround(\u001b[38;5;28mself\u001b[39m\u001b[38;5;241m.\u001b[39mdatabase[\u001b[38;5;124m'\u001b[39m\u001b[38;5;124mvolts\u001b[39m\u001b[38;5;124m'\u001b[39m][min_dc_idx], \u001b[38;5;241m4\u001b[39m),\n\u001b[0;32m    337\u001b[0m     np\u001b[38;5;241m.\u001b[39mround(\u001b[38;5;28mself\u001b[39m\u001b[38;5;241m.\u001b[39mdatabase[\u001b[38;5;124m'\u001b[39m\u001b[38;5;124mvolts\u001b[39m\u001b[38;5;124m'\u001b[39m][max_dc_idx], \u001b[38;5;241m4\u001b[39m))\n\u001b[0;32m    339\u001b[0m pf_range \u001b[38;5;241m=\u001b[39m \u001b[38;5;124m'\u001b[39m\u001b[38;5;124mPF[\u001b[39m\u001b[38;5;132;01m{:.2f}\u001b[39;00m\u001b[38;5;124m] = [\u001b[39m\u001b[38;5;132;01m{:.2f}\u001b[39;00m\u001b[38;5;124m, \u001b[39m\u001b[38;5;132;01m{:.2f}\u001b[39;00m\u001b[38;5;124m]\u001b[39m\u001b[38;5;124m'\u001b[39m\u001b[38;5;241m.\u001b[39mformat(\n\u001b[0;32m    340\u001b[0m     np\u001b[38;5;241m.\u001b[39mround(pf_freq \u001b[38;5;241m/\u001b[39m \u001b[38;5;241m1e9\u001b[39m, \u001b[38;5;241m3\u001b[39m),\n\u001b[0;32m    341\u001b[0m     np\u001b[38;5;241m.\u001b[39mround(\u001b[38;5;28mself\u001b[39m\u001b[38;5;241m.\u001b[39mdatabase[\u001b[38;5;124m'\u001b[39m\u001b[38;5;124mpump_freqs\u001b[39m\u001b[38;5;124m'\u001b[39m][min_pf_idx] \u001b[38;5;241m/\u001b[39m \u001b[38;5;241m1e9\u001b[39m, \u001b[38;5;241m3\u001b[39m),\n\u001b[0;32m    342\u001b[0m     np\u001b[38;5;241m.\u001b[39mround(\u001b[38;5;28mself\u001b[39m\u001b[38;5;241m.\u001b[39mdatabase[\u001b[38;5;124m'\u001b[39m\u001b[38;5;124mpump_freqs\u001b[39m\u001b[38;5;124m'\u001b[39m][max_pf_idx] \u001b[38;5;241m/\u001b[39m \u001b[38;5;241m1e9\u001b[39m, \u001b[38;5;241m3\u001b[39m))\n\u001b[0;32m    344\u001b[0m pp_range \u001b[38;5;241m=\u001b[39m \u001b[38;5;124m'\u001b[39m\u001b[38;5;124mPP[\u001b[39m\u001b[38;5;132;01m{:.4f}\u001b[39;00m\u001b[38;5;124m] = [\u001b[39m\u001b[38;5;132;01m{:.2f}\u001b[39;00m\u001b[38;5;124m, \u001b[39m\u001b[38;5;132;01m{:.2f}\u001b[39;00m\u001b[38;5;124m]\u001b[39m\u001b[38;5;124m'\u001b[39m\u001b[38;5;241m.\u001b[39mformat(\n\u001b[0;32m    345\u001b[0m     np\u001b[38;5;241m.\u001b[39mround(pp_power, \u001b[38;5;241m2\u001b[39m),\n\u001b[1;32m--> 346\u001b[0m     np\u001b[38;5;241m.\u001b[39mround(\u001b[38;5;28;43mself\u001b[39;49m\u001b[38;5;241;43m.\u001b[39;49m\u001b[43mdatabase\u001b[49m\u001b[43m[\u001b[49m\u001b[38;5;124;43m'\u001b[39;49m\u001b[38;5;124;43mpump_powers\u001b[39;49m\u001b[38;5;124;43m'\u001b[39;49m\u001b[43m]\u001b[49m\u001b[43m[\u001b[49m\u001b[43mmin_pp_idx\u001b[49m\u001b[43m]\u001b[49m, \u001b[38;5;241m2\u001b[39m),\n\u001b[0;32m    347\u001b[0m     np\u001b[38;5;241m.\u001b[39mround(\u001b[38;5;28mself\u001b[39m\u001b[38;5;241m.\u001b[39mdatabase[\u001b[38;5;124m'\u001b[39m\u001b[38;5;124mpump_powers\u001b[39m\u001b[38;5;124m'\u001b[39m][max_pp_idx], \u001b[38;5;241m2\u001b[39m))\n\u001b[0;32m    349\u001b[0m gain_info \u001b[38;5;241m=\u001b[39m \u001b[38;5;124m'\u001b[39m\u001b[38;5;124m--> \u001b[39m\u001b[38;5;132;01m{:.3f}\u001b[39;00m\u001b[38;5;124m'\u001b[39m\u001b[38;5;241m.\u001b[39mformat(np\u001b[38;5;241m.\u001b[39mround(gain, \u001b[38;5;241m3\u001b[39m))\n\u001b[0;32m    351\u001b[0m \u001b[38;5;28mprint\u001b[39m(\u001b[38;5;124mf\u001b[39m\u001b[38;5;124m\"\u001b[39m\u001b[38;5;132;01m{\u001b[39;00mdc_range\u001b[38;5;132;01m}\u001b[39;00m\u001b[38;5;124m, \u001b[39m\u001b[38;5;132;01m{\u001b[39;00mpf_range\u001b[38;5;132;01m}\u001b[39;00m\u001b[38;5;124m, \u001b[39m\u001b[38;5;132;01m{\u001b[39;00mpp_range\u001b[38;5;132;01m}\u001b[39;00m\u001b[38;5;124m \u001b[39m\u001b[38;5;132;01m{\u001b[39;00mgain_info\u001b[38;5;132;01m}\u001b[39;00m\u001b[38;5;124m\"\u001b[39m,\n\u001b[0;32m    352\u001b[0m       end\u001b[38;5;241m=\u001b[39m\u001b[38;5;124m'\u001b[39m\u001b[38;5;130;01m\\n\u001b[39;00m\u001b[38;5;124m'\u001b[39m \u001b[38;5;28;01mif\u001b[39;00m gain \u001b[38;5;241m>\u001b[39m \u001b[38;5;28mself\u001b[39m\u001b[38;5;241m.\u001b[39mgain_threshold \u001b[38;5;28;01melse\u001b[39;00m \u001b[38;5;124m'\u001b[39m\u001b[38;5;130;01m\\r\u001b[39;00m\u001b[38;5;124m'\u001b[39m)\n",
      "\u001b[1;31mIndexError\u001b[0m: index 12 is out of bounds for axis 0 with size 12"
     ]
    }
   ],
   "source": [
    "TWPA.sweep_database(dc_nop=35, pp_nop=11, pf_nop=501, conditional_gain_tr=-10)"
   ]
  },
  {
   "cell_type": "code",
   "execution_count": null,
   "id": "4886f104",
   "metadata": {
    "scrolled": false
   },
   "outputs": [],
   "source": [
    "# plot gain onece finished\n",
    "%matplotlib inline\n",
    "index_dc=30\n",
    "index_pf=1\n",
    "index_pp=0\n",
    "TWPA.plot_database(index_dc=index_dc, index_pf=index_pf, index_pp=index_pp)\n",
    "\n",
    "print(TWPA.database['volts'][index_dc])\n",
    "print(TWPA.database['pump_freqs'][index_pf]/1e9)\n",
    "print(TWPA.database['pump_powers'][index_pp])"
   ]
  },
  {
   "cell_type": "markdown",
   "id": "8cdc2535",
   "metadata": {},
   "source": [
    "                        |TWPA GAIN-NOISE sweep has been set |\n",
    "                        |                                   |\n",
    "                        v                                   v"
   ]
  },
  {
   "cell_type": "code",
   "execution_count": 35,
   "id": "d3aa0a90",
   "metadata": {},
   "outputs": [],
   "source": [
    "TWPA.vna_band_fast=1000\n",
    "TWPA.vna_nop_fast=10\n",
    "TWPA.vna_band_slow=1\n",
    "TWPA.vna_nop_slow=301"
   ]
  },
  {
   "cell_type": "code",
   "execution_count": 36,
   "id": "b0241d5a",
   "metadata": {
    "scrolled": true
   },
   "outputs": [
    {
     "name": "stdout",
     "output_type": "stream",
     "text": [
      "Script started at 2025-06-16 16:56:11\n",
      "\n",
      "\n",
      "New DC set to 1.3 V at 2025-06-16 16:56:11\n",
      "   Noise sweep [(0, 0, 0)] with gain -0.00615 started at 2025-06-16 16:56:16\n",
      "\n",
      "\n",
      "New DC set to 1.34 V at 2025-06-16 18:44:27\n",
      "   Noise sweep [(1, 0, 0)] with gain -0.02787 started at 2025-06-16 18:44:33\n",
      "\n",
      "\n",
      "New DC set to 1.3800000000000001 V at 2025-06-16 20:32:43\n",
      "   Noise sweep [(2, 0, 0)] with gain -0.00755 started at 2025-06-16 20:32:49\n",
      "\n",
      "\n",
      "New DC set to 1.42 V at 2025-06-16 22:21:00\n",
      "   Noise sweep [(3, 0, 0)] with gain -0.005 started at 2025-06-16 22:21:05\n",
      "\n",
      "\n",
      "New DC set to 1.46 V at 2025-06-17 00:09:16\n",
      "   Noise sweep [(4, 0, 0)] with gain 0.00209 started at 2025-06-17 00:09:21\n",
      "\n",
      "\n",
      "New DC set to 1.5 V at 2025-06-17 01:57:32\n",
      "   Noise sweep [(5, 0, 0)] with gain 0.01455 started at 2025-06-17 01:57:38\n",
      "\n",
      "\n",
      "New DC set to 1.54 V at 2025-06-17 03:45:48\n",
      "   Noise sweep [(6, 0, 0)] with gain -0.00751 started at 2025-06-17 03:45:54\n",
      "\n",
      "\n",
      "New DC set to 1.58 V at 2025-06-17 05:34:05\n",
      "   Noise sweep [(7, 0, 0)] with gain 0.00366 started at 2025-06-17 05:34:10\n",
      "\n",
      "\n",
      "New DC set to 1.62 V at 2025-06-17 07:22:21\n",
      "   Noise sweep [(8, 0, 0)] with gain 0.02126 started at 2025-06-17 07:22:26\n",
      "\n",
      "\n",
      "New DC set to 1.6600000000000001 V at 2025-06-17 09:10:37\n",
      "   Noise sweep [(9, 0, 0)] with gain 0.0023 started at 2025-06-17 09:10:43\n",
      "\n",
      "\n",
      "New DC set to 1.7000000000000002 V at 2025-06-17 10:58:53\n",
      "   Noise sweep [(10, 0, 0)] with gain -0.00648 started at 2025-06-17 10:58:59\n",
      "\n",
      "\n",
      "New DC set to 1.74 V at 2025-06-17 12:47:09\n",
      "   Noise sweep [(11, 0, 0)] with gain -0.00242 started at 2025-06-17 12:47:15\n",
      "\n",
      "\n",
      "New DC set to 1.78 V at 2025-06-17 14:35:26\n",
      "   Noise sweep [(12, 0, 0)] with gain 0.02114 started at 2025-06-17 14:35:31\n",
      "\n",
      "\n",
      "New DC set to 1.82 V at 2025-06-17 16:23:42\n",
      "   Noise sweep [(13, 0, 0)] with gain -0.00853 started at 2025-06-17 16:23:47\n",
      "\n",
      "\n",
      "New DC set to 1.86 V at 2025-06-17 18:11:58\n",
      "   Noise sweep [(14, 0, 0)] with gain -0.01575 started at 2025-06-17 18:12:03\n",
      "\n",
      "\n",
      "New DC set to 1.9 V at 2025-06-17 20:00:14\n",
      "   Noise sweep [(15, 0, 0)] with gain -0.00606 started at 2025-06-17 20:00:20\n",
      "\n",
      "\n",
      "New DC set to 1.94 V at 2025-06-17 21:48:29\n",
      "   Noise sweep [(16, 0, 0)] with gain -0.00359 started at 2025-06-17 21:48:35\n",
      "\n",
      "\n",
      "New DC set to 1.98 V at 2025-06-17 23:36:45\n",
      "   Noise sweep [(17, 0, 0)] with gain 0.01711 started at 2025-06-17 23:36:51\n",
      "\n",
      "\n",
      "New DC set to 2.02 V at 2025-06-18 01:25:02\n",
      "   Noise sweep [(18, 0, 0)] with gain -0.02576 started at 2025-06-18 01:25:07\n",
      "\n",
      "\n",
      "New DC set to 2.06 V at 2025-06-18 03:13:18\n",
      "   Noise sweep [(19, 0, 0)] with gain -0.03128 started at 2025-06-18 03:13:23\n",
      "\n",
      "\n",
      "New DC set to 2.1 V at 2025-06-18 05:01:34\n",
      "   Noise sweep [(20, 0, 0)] with gain 0.01485 started at 2025-06-18 05:01:40\n",
      "\n",
      "\n",
      "New DC set to 2.14 V at 2025-06-18 06:49:50\n",
      "   Noise sweep [(21, 0, 0)] with gain 0.01281 started at 2025-06-18 06:49:56\n",
      "\n",
      "\n",
      "New DC set to 2.18 V at 2025-06-18 08:38:07\n",
      "   Noise sweep [(22, 0, 0)] with gain 0.00526 started at 2025-06-18 08:38:12\n",
      "\n",
      "\n",
      "New DC set to 2.22 V at 2025-06-18 10:26:23\n",
      "   Noise sweep [(23, 0, 0)] with gain 0.00956 started at 2025-06-18 10:26:28\n",
      "\n",
      "\n",
      "New DC set to 2.26 V at 2025-06-18 12:14:39\n",
      "   Noise sweep [(24, 0, 0)] with gain -0.03745 started at 2025-06-18 12:14:45\n",
      "\n",
      "\n",
      "New DC set to 2.3 V at 2025-06-18 14:02:55\n",
      "   Noise sweep [(25, 0, 0)] with gain 0.03284 started at 2025-06-18 14:03:01\n",
      "\n",
      "\n",
      "New DC set to 2.34 V at 2025-06-18 15:51:11\n",
      "   Noise sweep [(26, 0, 0)] with gain -0.01436 started at 2025-06-18 15:51:17\n",
      "\n",
      "\n",
      "New DC set to 2.38 V at 2025-06-18 17:39:28\n",
      "   Noise sweep [(27, 0, 0)] with gain -0.00488 started at 2025-06-18 17:39:33\n",
      "\n",
      "\n",
      "New DC set to 2.42 V at 2025-06-18 19:27:44\n",
      "   Noise sweep [(28, 0, 0)] with gain -0.02675 started at 2025-06-18 19:27:49\n",
      "\n",
      "\n",
      "New DC set to 2.46 V at 2025-06-18 21:16:00\n",
      "   Noise sweep [(29, 0, 0)] with gain 0.00281 started at 2025-06-18 21:16:06\n",
      "\n",
      "\n",
      "New DC set to 2.5 V at 2025-06-18 23:04:16\n",
      "   Noise sweep [(30, 0, 0)] with gain -0.00127 started at 2025-06-18 23:04:22\n",
      "\n",
      "\n",
      "New DC set to 2.54 V at 2025-06-19 00:52:33\n",
      "   Noise sweep [(31, 0, 0)] with gain 0.00564 started at 2025-06-19 00:52:38\n",
      "\n",
      "\n",
      "New DC set to 2.58 V at 2025-06-19 02:40:49\n",
      "   Noise sweep [(32, 0, 0)] with gain -0.02166 started at 2025-06-19 02:40:54\n",
      "\n",
      "\n",
      "New DC set to 2.62 V at 2025-06-19 04:29:05\n",
      "   Noise sweep [(33, 0, 0)] with gain 0.00557 started at 2025-06-19 04:29:11\n",
      "\n",
      "\n",
      "New DC set to 2.66 V at 2025-06-19 06:17:21\n",
      "   Noise sweep [(34, 0, 0)] with gain -0.01028 started at 2025-06-19 06:17:27\n",
      "\n",
      "\n",
      "New DC set to 2.7 V at 2025-06-19 08:05:37\n",
      "   Noise sweep [(35, 0, 0)] with gain -0.01241 started at 2025-06-19 08:05:43\n",
      "Run time: 1:48:10.727885\n"
     ]
    }
   ],
   "source": [
    "TWPA.sweep_noise(gain_tr1=17, gain_tr2=18, gain_tr2_max=50, dc_range=[0.5, 2.2, 35], \n",
    "            pf_range=[9e9,13.5e9,501], \n",
    "            pp_range=[6, 8,1], file_name='Noise_sweep_500mK')"
   ]
  },
  {
   "cell_type": "code",
   "execution_count": 34,
   "id": "8b56b44e",
   "metadata": {},
   "outputs": [
    {
     "data": {
      "text/plain": [
       "35.0"
      ]
     },
     "execution_count": 34,
     "metadata": {},
     "output_type": "execute_result"
    }
   ],
   "source": [
    "1.4/0.04"
   ]
  },
  {
   "cell_type": "code",
   "execution_count": 37,
   "id": "d43c9551",
   "metadata": {},
   "outputs": [],
   "source": [
    "anapico.set_off(1)"
   ]
  },
  {
   "cell_type": "code",
   "execution_count": 38,
   "id": "1fe3b453",
   "metadata": {},
   "outputs": [],
   "source": [
    "dc.set_volt(0)"
   ]
  },
  {
   "cell_type": "code",
   "execution_count": 39,
   "id": "566b5b26",
   "metadata": {},
   "outputs": [],
   "source": [
    "dc.set_off()"
   ]
  },
  {
   "cell_type": "code",
   "execution_count": 40,
   "id": "a97aebc0",
   "metadata": {},
   "outputs": [],
   "source": [
    "# test best gain point\n",
    "\n",
    "\n",
    "\n",
    "vna.set_band(1000)\n",
    "vna.set_nop(1001)\n",
    "vna.set_lin()\n",
    "vna.set_freq_start_stop(4e9, 6e9, vna.get_nop())\n",
    "\n",
    "anapico.set_off(1)\n",
    "\n",
    "dc.set_volt(0)\n",
    "vna.set_power(-10)\n",
    "# time.sleep(60)\n",
    "mag_ref, pha_ref = vna.get_data()"
   ]
  },
  {
   "cell_type": "markdown",
   "id": "1a600eae",
   "metadata": {},
   "source": [
    "# Gain_stabilty"
   ]
  },
  {
   "cell_type": "code",
   "execution_count": 8,
   "id": "6e707fe3",
   "metadata": {},
   "outputs": [
    {
     "name": "stdout",
     "output_type": "stream",
     "text": [
      "Folder C:\\Users\\Demag\\PycharmProjects\\ColdMeasurements\\DeMag\\DATA\\TWPA_noise_9\\Alan_var already exists\n"
     ]
    }
   ],
   "source": [
    "path = adress +'\\\\'+ 'Alan_var'\n",
    "if not os.path.exists(path):\n",
    "  os.mkdir(path)\n",
    "  print(\"Folder %s created!\" % path)\n",
    "else:\n",
    "  print(\"Folder %s already exists\" % path)"
   ]
  },
  {
   "cell_type": "code",
   "execution_count": null,
   "id": "76037482",
   "metadata": {
    "scrolled": true
   },
   "outputs": [
    {
     "name": "stdout",
     "output_type": "stream",
     "text": [
      "rep: 0\n",
      "rep: 1\n",
      "rep: 2\n"
     ]
    }
   ],
   "source": [
    "dc_9 = 1.6\n",
    "pp_9 = 7\n",
    "pf_9 = 9.27e9\n",
    "\n",
    "dc.set_volt(dc_9)\n",
    "dc.set_on()\n",
    "anapico.set_freq(1, pf_9)\n",
    "anapico.set_power(1, pp_9)\n",
    "\n",
    "state = dict()\n",
    "state['pf_9'] = pf_9\n",
    "state['pp_9'] = pp_9\n",
    "state['dc_9'] = dc_9\n",
    "state['T'] = 18\n",
    "state['band_vna'] = 1\n",
    "state['nop_vna'] = 100001\n",
    "state['cw_vna'] = 5e9\n",
    "state['reps'] = 4\n",
    "\n",
    "vna.set_band(1)\n",
    "vna.set_nop(100001)\n",
    "vna.set_cw_freq(5e9)\n",
    "\n",
    "reps = 4\n",
    "\n",
    "mag = np.zeros((reps, vna.get_nop()))\n",
    "pha = np.zeros((reps, vna.get_nop()))\n",
    "\n",
    "gain = np.zeros((reps, vna.get_nop()))\n",
    "delta_pha = np.zeros((reps, vna.get_nop()))\n",
    "\n",
    "\n",
    "start_time = datetime.now()\n",
    "\n",
    "#get_reference\n",
    "anapico.set_off(1)\n",
    "time.sleep(10)\n",
    "mag_ref, pha_ref = vna.get_data()\n",
    "anapico.set_on(1)\n",
    "\n",
    "state['mag_ref'] = mag_ref\n",
    "state['pha_ref'] = pha_ref\n",
    "\n",
    "\n",
    "for i in range(reps):\n",
    "    print('rep:', i)\n",
    "    mag_curr, pha_curr = vna.get_data()\n",
    "    mag[i] = mag_curr\n",
    "    pha[i] = pha_curr\n",
    "    \n",
    "    gain[i] = mag_curr-np.mean(mag_ref)\n",
    "    delta_pha[i] = pha_curr-np.mean(pha_ref)\n",
    "    \n",
    "    state['mag'] = mag\n",
    "    state['pha'] = pha\n",
    "    \n",
    "    state['gain'] = gain\n",
    "    state['delta_pha'] = delta_pha\n",
    "\n",
    "    file_name_o = 'Alan_variance_band_1_nop_10001'\n",
    "    file_name = path + '\\\\' + file_name_o + start_time.strftime(r'_%Y-%m-%d-%H-%M-%S') + '.mat'\n",
    "    savemat(file_name, state)\n",
    "    \n",
    "anapico.set_off(1)\n",
    "dc.set_off()"
   ]
  },
  {
   "cell_type": "code",
   "execution_count": 18,
   "id": "5e0dff6f",
   "metadata": {},
   "outputs": [
    {
     "data": {
      "text/plain": [
       "(400040,)"
      ]
     },
     "execution_count": 18,
     "metadata": {},
     "output_type": "execute_result"
    }
   ],
   "source": [
    "(gain.reshape(1, -1)[0]).shape"
   ]
  },
  {
   "cell_type": "code",
   "execution_count": 23,
   "id": "b5e36c06",
   "metadata": {},
   "outputs": [
    {
     "data": {
      "text/plain": [
       "[<matplotlib.lines.Line2D at 0x17307875250>]"
      ]
     },
     "execution_count": 23,
     "metadata": {},
     "output_type": "execute_result"
    },
    {
     "data": {
      "image/png": "[encoded data removed]",
      "text/plain": [
       "<Figure size 432x288 with 1 Axes>"
      ]
     },
     "metadata": {
      "needs_background": "light"
     },
     "output_type": "display_data"
    }
   ],
   "source": [
    "plt.plot(delta_pha.reshape(1, -1)[0, 11:])"
   ]
  },
  {
   "cell_type": "code",
   "execution_count": 1,
   "id": "5a8b4b7a",
   "metadata": {},
   "outputs": [
    {
     "ename": "NameError",
     "evalue": "name 'matplotlib' is not defined",
     "output_type": "error",
     "traceback": [
      "\u001b[1;31m---------------------------------------------------------------------------\u001b[0m",
      "\u001b[1;31mNameError\u001b[0m                                 Traceback (most recent call last)",
      "Cell \u001b[1;32mIn[1], line 2\u001b[0m\n\u001b[0;32m      1\u001b[0m font \u001b[38;5;241m=\u001b[39m {\u001b[38;5;124m'\u001b[39m\u001b[38;5;124msize\u001b[39m\u001b[38;5;124m'\u001b[39m   : \u001b[38;5;241m15\u001b[39m}\n\u001b[1;32m----> 2\u001b[0m \u001b[43mmatplotlib\u001b[49m\u001b[38;5;241m.\u001b[39mrc(\u001b[38;5;124m'\u001b[39m\u001b[38;5;124mfont\u001b[39m\u001b[38;5;124m'\u001b[39m, \u001b[38;5;241m*\u001b[39m\u001b[38;5;241m*\u001b[39mfont)\n\u001b[0;32m      4\u001b[0m fig, ax \u001b[38;5;241m=\u001b[39m plt\u001b[38;5;241m.\u001b[39msubplots(\u001b[38;5;241m2\u001b[39m, \u001b[38;5;241m1\u001b[39m, figsize \u001b[38;5;241m=\u001b[39m (\u001b[38;5;241m15\u001b[39m, \u001b[38;5;241m7\u001b[39m), sharex \u001b[38;5;241m=\u001b[39m \u001b[38;5;28;01mTrue\u001b[39;00m)\n\u001b[0;32m      5\u001b[0m ax[\u001b[38;5;241m0\u001b[39m]\u001b[38;5;241m.\u001b[39mgrid()\n",
      "\u001b[1;31mNameError\u001b[0m: name 'matplotlib' is not defined"
     ]
    }
   ],
   "source": [
    "font = {'size'   : 15}\n",
    "matplotlib.rc('font', **font)\n",
    "\n",
    "fig, ax = plt.subplots(2, 1, figsize = (15, 7), sharex = True)\n",
    "ax[0].grid()\n",
    "ax[1].grid()\n",
    "# ax[0].set_xlabel('Freq, GHz')\n",
    "ax[0].set_ylabel('Pha, db')\n",
    "ax[1].set_xlabel('Freq, GHz')\n",
    "ax[1].set_ylabel('Mag, db')\n",
    "\n",
    "ax[1].plot(gain.reshape(1, -1)[0, 70:].T, label = 'gain')\n",
    "ax[0].plot(delta_pha.reshape(1, -1)[0, 70:].T, label = 'pha')\n",
    "\n",
    "ax[0].legend()\n",
    "ax[1].legend()"
   ]
  },
  {
   "cell_type": "code",
   "execution_count": 139,
   "id": "5c13635d",
   "metadata": {},
   "outputs": [
    {
     "name": "stderr",
     "output_type": "stream",
     "text": [
      "C:\\Users\\Demag\\AppData\\Local\\Temp\\ipykernel_48308\\1680224359.py:8: RuntimeWarning: divide by zero encountered in divide\n",
      "  plt.loglog(freq2, 1/freq2*1500)\n"
     ]
    },
    {
     "data": {
      "text/plain": [
       "[<matplotlib.lines.Line2D at 0x17356f8b9d0>]"
      ]
     },
     "execution_count": 139,
     "metadata": {},
     "output_type": "execute_result"
    },
    {
     "data": {
      "image/png": "[encoded data removed]",
      "text/plain": [
       "<Figure size 432x288 with 1 Axes>"
      ]
     },
     "metadata": {
      "needs_background": "light"
     },
     "output_type": "display_data"
    }
   ],
   "source": [
    "freq = np.linspace(-100e5 / 2, 100e5 / 2, len(gain[0]))\n",
    "freq2 = np.linspace(-10e5 / 2, 10e5 / 2, len(gain[0]))\n",
    "\n",
    "\n",
    "plt.loglog(freq, abs(fftshift(fft(np.sqrt(np.power(10, mat['mag'][3] / 10))))) ** 2)\n",
    "plt.loglog(freq2, abs(fftshift(fft(np.sqrt(np.power(10, mag[3] / 10))))) ** 2)\n",
    "\n",
    "plt.loglog(freq2, 1/freq2*1500)"
   ]
  },
  {
   "cell_type": "code",
   "execution_count": 127,
   "id": "95d45c75",
   "metadata": {},
   "outputs": [
    {
     "data": {
      "text/plain": [
       "(4, 10001)"
      ]
     },
     "execution_count": 127,
     "metadata": {},
     "output_type": "execute_result"
    }
   ],
   "source": [
    "mat['mag'].shape"
   ]
  },
  {
   "cell_type": "code",
   "execution_count": 36,
   "id": "57c4bdc6",
   "metadata": {},
   "outputs": [
    {
     "data": {
      "text/plain": [
       "dict_keys(['__header__', '__version__', '__globals__', 'pf_9', 'pp_9', 'dc_9', 'T', 'band_vna', 'nop_vna', 'cw_vna', 'reps', 'mag_ref', 'pha_ref', 'mag', 'pha', 'gain', 'delta_pha'])"
      ]
     },
     "execution_count": 36,
     "metadata": {},
     "output_type": "execute_result"
    }
   ],
   "source": [
    "import scipy.io\n",
    "from scipy.io import savemat, loadmat\n",
    "\n",
    "file = 'Alan_variance_band_1_nop_10001_2025-06-24-17-25-35.mat'\n",
    "mat = loadmat(path + '\\\\'+file)\n",
    "mat.keys()"
   ]
  },
  {
   "cell_type": "code",
   "execution_count": 33,
   "id": "08c23f76",
   "metadata": {
    "scrolled": true
   },
   "outputs": [
    {
     "name": "stdout",
     "output_type": "stream",
     "text": [
      "Collecting allantools\n",
      "  Using cached allantools-2024.6-py3-none-any.whl (47 kB)\n",
      "Requirement already satisfied: scipy>=1.6.0 in c:\\users\\demag\\anaconda3\\lib\\site-packages (from allantools) (1.7.3)\n",
      "Requirement already satisfied: numpy in c:\\users\\demag\\anaconda3\\lib\\site-packages (from allantools) (1.22.4)\n",
      "Requirement already satisfied: pytest in c:\\users\\demag\\anaconda3\\lib\\site-packages (from allantools) (7.1.1)\n",
      "Requirement already satisfied: matplotlib in c:\\users\\demag\\anaconda3\\lib\\site-packages (from allantools) (3.5.1)\n",
      "Requirement already satisfied: numpydoc in c:\\users\\demag\\anaconda3\\lib\\site-packages (from allantools) (1.2)\n",
      "Requirement already satisfied: cycler>=0.10 in c:\\users\\demag\\anaconda3\\lib\\site-packages (from matplotlib->allantools) (0.11.0)\n",
      "Requirement already satisfied: pyparsing>=2.2.1 in c:\\users\\demag\\anaconda3\\lib\\site-packages (from matplotlib->allantools) (3.0.4)\n",
      "Requirement already satisfied: kiwisolver>=1.0.1 in c:\\users\\demag\\anaconda3\\lib\\site-packages (from matplotlib->allantools) (1.3.2)\n",
      "Requirement already satisfied: pillow>=6.2.0 in c:\\users\\demag\\anaconda3\\lib\\site-packages (from matplotlib->allantools) (9.0.1)\n",
      "Requirement already satisfied: python-dateutil>=2.7 in c:\\users\\demag\\anaconda3\\lib\\site-packages (from matplotlib->allantools) (2.8.2)\n",
      "Requirement already satisfied: packaging>=20.0 in c:\\users\\demag\\anaconda3\\lib\\site-packages (from matplotlib->allantools) (21.3)\n",
      "Requirement already satisfied: fonttools>=4.22.0 in c:\\users\\demag\\anaconda3\\lib\\site-packages (from matplotlib->allantools) (4.25.0)\n",
      "Requirement already satisfied: six>=1.5 in c:\\users\\demag\\anaconda3\\lib\\site-packages (from python-dateutil>=2.7->matplotlib->allantools) (1.16.0)\n",
      "Requirement already satisfied: sphinx>=1.8 in c:\\users\\demag\\anaconda3\\lib\\site-packages (from numpydoc->allantools) (4.4.0)\n",
      "Requirement already satisfied: Jinja2>=2.10 in c:\\users\\demag\\anaconda3\\lib\\site-packages (from numpydoc->allantools) (2.11.3)\n",
      "Requirement already satisfied: MarkupSafe>=0.23 in c:\\users\\demag\\anaconda3\\lib\\site-packages (from Jinja2>=2.10->numpydoc->allantools) (2.0.1)\n",
      "Requirement already satisfied: Pygments>=2.0 in c:\\users\\demag\\anaconda3\\lib\\site-packages (from sphinx>=1.8->numpydoc->allantools) (2.11.2)\n",
      "Requirement already satisfied: imagesize in c:\\users\\demag\\anaconda3\\lib\\site-packages (from sphinx>=1.8->numpydoc->allantools) (1.3.0)\n",
      "Requirement already satisfied: sphinxcontrib-qthelp in c:\\users\\demag\\anaconda3\\lib\\site-packages (from sphinx>=1.8->numpydoc->allantools) (1.0.3)\n",
      "Requirement already satisfied: docutils<0.18,>=0.14 in c:\\users\\demag\\anaconda3\\lib\\site-packages (from sphinx>=1.8->numpydoc->allantools) (0.17.1)\n",
      "Requirement already satisfied: babel>=1.3 in c:\\users\\demag\\anaconda3\\lib\\site-packages (from sphinx>=1.8->numpydoc->allantools) (2.9.1)\n",
      "Requirement already satisfied: colorama>=0.3.5 in c:\\users\\demag\\anaconda3\\lib\\site-packages (from sphinx>=1.8->numpydoc->allantools) (0.4.4)\n",
      "Requirement already satisfied: sphinxcontrib-jsmath in c:\\users\\demag\\anaconda3\\lib\\site-packages (from sphinx>=1.8->numpydoc->allantools) (1.0.1)\n",
      "Requirement already satisfied: snowballstemmer>=1.1 in c:\\users\\demag\\anaconda3\\lib\\site-packages (from sphinx>=1.8->numpydoc->allantools) (2.2.0)\n",
      "Requirement already satisfied: sphinxcontrib-htmlhelp>=2.0.0 in c:\\users\\demag\\anaconda3\\lib\\site-packages (from sphinx>=1.8->numpydoc->allantools) (2.0.0)\n",
      "Requirement already satisfied: importlib-metadata>=4.4 in c:\\users\\demag\\anaconda3\\lib\\site-packages (from sphinx>=1.8->numpydoc->allantools) (4.11.3)\n",
      "Requirement already satisfied: requests>=2.5.0 in c:\\users\\demag\\anaconda3\\lib\\site-packages (from sphinx>=1.8->numpydoc->allantools) (2.27.1)\n",
      "Requirement already satisfied: sphinxcontrib-applehelp in c:\\users\\demag\\anaconda3\\lib\\site-packages (from sphinx>=1.8->numpydoc->allantools) (1.0.2)\n",
      "Requirement already satisfied: sphinxcontrib-devhelp in c:\\users\\demag\\anaconda3\\lib\\site-packages (from sphinx>=1.8->numpydoc->allantools) (1.0.2)\n",
      "Requirement already satisfied: sphinxcontrib-serializinghtml>=1.1.5 in c:\\users\\demag\\anaconda3\\lib\\site-packages (from sphinx>=1.8->numpydoc->allantools) (1.1.5)\n",
      "Requirement already satisfied: alabaster<0.8,>=0.7 in c:\\users\\demag\\anaconda3\\lib\\site-packages (from sphinx>=1.8->numpydoc->allantools) (0.7.12)\n",
      "Requirement already satisfied: pytz>=2015.7 in c:\\users\\demag\\anaconda3\\lib\\site-packages (from babel>=1.3->sphinx>=1.8->numpydoc->allantools) (2021.3)\n",
      "Requirement already satisfied: zipp>=0.5 in c:\\users\\demag\\anaconda3\\lib\\site-packages (from importlib-metadata>=4.4->sphinx>=1.8->numpydoc->allantools) (3.7.0)\n",
      "Requirement already satisfied: charset-normalizer~=2.0.0 in c:\\users\\demag\\anaconda3\\lib\\site-packages (from requests>=2.5.0->sphinx>=1.8->numpydoc->allantools) (2.0.4)\n",
      "Requirement already satisfied: certifi>=2017.4.17 in c:\\users\\demag\\anaconda3\\lib\\site-packages (from requests>=2.5.0->sphinx>=1.8->numpydoc->allantools) (2021.10.8)\n",
      "Requirement already satisfied: idna<4,>=2.5 in c:\\users\\demag\\anaconda3\\lib\\site-packages (from requests>=2.5.0->sphinx>=1.8->numpydoc->allantools) (3.3)\n",
      "Requirement already satisfied: urllib3<1.27,>=1.21.1 in c:\\users\\demag\\anaconda3\\lib\\site-packages (from requests>=2.5.0->sphinx>=1.8->numpydoc->allantools) (1.26.9)\n",
      "Requirement already satisfied: attrs>=19.2.0 in c:\\users\\demag\\anaconda3\\lib\\site-packages (from pytest->allantools) (23.1.0)\n",
      "Requirement already satisfied: iniconfig in c:\\users\\demag\\anaconda3\\lib\\site-packages (from pytest->allantools) (1.1.1)\n",
      "Requirement already satisfied: pluggy<2.0,>=0.12 in c:\\users\\demag\\anaconda3\\lib\\site-packages (from pytest->allantools) (1.0.0)\n",
      "Requirement already satisfied: py>=1.8.2 in c:\\users\\demag\\anaconda3\\lib\\site-packages (from pytest->allantools) (1.11.0)\n",
      "Requirement already satisfied: tomli>=1.0.0 in c:\\users\\demag\\anaconda3\\lib\\site-packages (from pytest->allantools) (1.2.2)\n",
      "Requirement already satisfied: atomicwrites>=1.0 in c:\\users\\demag\\anaconda3\\lib\\site-packages (from pytest->allantools) (1.4.0)\n",
      "Installing collected packages: allantools\n",
      "Successfully installed allantools-2024.6\n",
      "Note: you may need to restart the kernel to use updated packages.\n"
     ]
    },
    {
     "name": "stderr",
     "output_type": "stream",
     "text": [
      "sys:1: ResourceWarning: Unclosed socket <zmq.Socket(zmq.PUSH) at 0x172eca68f40>\n",
      "ResourceWarning: Enable tracemalloc to get the object allocation traceback\n",
      "C:\\Users\\Demag\\anaconda3\\lib\\site-packages\\IPython\\utils\\_process_win32.py:124: ResourceWarning: unclosed file <_io.BufferedWriter name=4>\n",
      "  return process_handler(cmd, _system_body)\n",
      "ResourceWarning: Enable tracemalloc to get the object allocation traceback\n",
      "C:\\Users\\Demag\\anaconda3\\lib\\site-packages\\IPython\\utils\\_process_win32.py:124: ResourceWarning: unclosed file <_io.BufferedReader name=5>\n",
      "  return process_handler(cmd, _system_body)\n",
      "ResourceWarning: Enable tracemalloc to get the object allocation traceback\n",
      "C:\\Users\\Demag\\anaconda3\\lib\\site-packages\\IPython\\utils\\_process_win32.py:124: ResourceWarning: unclosed file <_io.BufferedReader name=6>\n",
      "  return process_handler(cmd, _system_body)\n",
      "ResourceWarning: Enable tracemalloc to get the object allocation traceback\n"
     ]
    }
   ],
   "source": [
    "%pip install allantools"
   ]
  },
  {
   "cell_type": "code",
   "execution_count": 34,
   "id": "e307cc89",
   "metadata": {},
   "outputs": [],
   "source": [
    "import allantools"
   ]
  },
  {
   "cell_type": "code",
   "execution_count": 142,
   "id": "737d07d3",
   "metadata": {},
   "outputs": [],
   "source": [
    "gg = mat['mag'][0, 70:]\n",
    "freq = np.logspace(0, 10, len(gg))"
   ]
  },
  {
   "cell_type": "code",
   "execution_count": 144,
   "id": "ad211fd2",
   "metadata": {
    "scrolled": false
   },
   "outputs": [
    {
     "data": {
      "image/png": "[encoded data removed]",
      "text/plain": [
       "<Figure size 432x288 with 1 Axes>"
      ]
     },
     "metadata": {
      "needs_background": "light"
     },
     "output_type": "display_data"
    }
   ],
   "source": [
    "(t2, ad, ade, adn) = allantools.adev(gg, rate=10, data_type=\"phase\", taus='octave')\n",
    "fig = plt.loglog(t2, ad)"
   ]
  },
  {
   "cell_type": "code",
   "execution_count": 112,
   "id": "fcde572c",
   "metadata": {},
   "outputs": [
    {
     "data": {
      "image/png": "[encoded data removed]",
      "text/plain": [
       "<Figure size 432x288 with 1 Axes>"
      ]
     },
     "metadata": {
      "needs_background": "light"
     },
     "output_type": "display_data"
    }
   ],
   "source": [
    "x = allantools.noise.white(10000)        # Generate some phase data, in seconds.\n",
    "(taus, adevs, errors, ns) = allantools.oadev(x)\n",
    "fig = plt.loglog(taus, adevs)"
   ]
  },
  {
   "cell_type": "code",
   "execution_count": 93,
   "id": "5c15b93f",
   "metadata": {},
   "outputs": [
    {
     "data": {
      "image/png": "[encoded data removed]",
      "text/plain": [
       "<Figure size 432x288 with 1 Axes>"
      ]
     },
     "metadata": {
      "needs_background": "light"
     },
     "output_type": "display_data"
    }
   ],
   "source": [
    "import numpy as np\n",
    "import matplotlib.pyplot as plt\n",
    "\n",
    "def allan_deviation(data, dt=1.0, max_cluster=None):\n",
    "    N = len(data)\n",
    "    if max_cluster is None:\n",
    "        max_cluster = N // 2\n",
    "    \n",
    "    tau = []\n",
    "    adev = []\n",
    "    \n",
    "    for m in range(1, max_cluster + 1):\n",
    "        K = N // m\n",
    "        if K < 2:\n",
    "            break\n",
    "        \n",
    "        # Cluster averages\n",
    "        y_reshaped = data[:K * m].reshape(K, m)\n",
    "        y_avg = np.mean(y_reshaped, axis=1)\n",
    "        \n",
    "        # Squared differences\n",
    "        diff = np.diff(y_avg)\n",
    "        avar = 0.5 * np.mean(diff ** 2)\n",
    "        \n",
    "        tau.append(m * dt)\n",
    "        adev.append(np.sqrt(avar))\n",
    "    \n",
    "    return np.array(tau), np.array(adev)\n",
    "\n",
    "# Example usage:\n",
    "# Assume `magnitude_data` is your dataset, `dt = 1/f_s`\n",
    "tau, adev = allan_deviation(gg, dt=1/1e5)"
   ]
  },
  {
   "cell_type": "code",
   "execution_count": 99,
   "id": "b8f09793",
   "metadata": {},
   "outputs": [
    {
     "data": {
      "image/png": "[encoded data removed]",
      "text/plain": [
       "<Figure size 432x288 with 1 Axes>"
      ]
     },
     "metadata": {
      "needs_background": "light"
     },
     "output_type": "display_data"
    }
   ],
   "source": [
    "plt.loglog(tau[:-50000], adev[:-50000])\n",
    "plt.xlabel('Averaging Time (τ) [s]')\n",
    "plt.ylabel(r'$σ_y(τ)$')\n",
    "plt.title('Allan Deviation Diagram')\n",
    "plt.grid(True, which=\"both\", ls=\"--\")\n",
    "plt.show()"
   ]
  },
  {
   "cell_type": "code",
   "execution_count": null,
   "id": "327ffe53",
   "metadata": {},
   "outputs": [],
   "source": []
  }
 ],
 "metadata": {
  "kernelspec": {
   "display_name": "Python 3 (ipykernel)",
   "language": "python",
   "name": "python3"
  },
  "language_info": {
   "codemirror_mode": {
    "name": "ipython",
    "version": 3
   },
   "file_extension": ".py",
   "mimetype": "text/x-python",
   "name": "python",
   "nbconvert_exporter": "python",
   "pygments_lexer": "ipython3",
   "version": "3.9.12"
  }
 },
 "nbformat": 4,
 "nbformat_minor": 5
}
