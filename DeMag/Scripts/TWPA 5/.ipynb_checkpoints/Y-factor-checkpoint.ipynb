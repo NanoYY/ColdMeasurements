{
 "cells": [
  {
   "cell_type": "code",
   "execution_count": 1,
   "id": "f7fbfec3",
   "metadata": {},
   "outputs": [
    {
     "name": "stdout",
     "output_type": "stream",
     "text": [
      "Folder C:\\Users\\Demag\\PycharmProjects\\ColdMeasurements\\DeMag\\DATA\\TWPA_noise_9 already exists\n"
     ]
    }
   ],
   "source": [
    "from nanodrivers.visa_drivers.anapico import ANAPICO\n",
    "from nanodrivers.visa_drivers.SIM928_voltage_source import SIM # as DC\n",
    "from nanodrivers.visa_drivers.vna import VNA\n",
    "from nanodrivers.visa_drivers.dc import DC\n",
    "from nanodrivers.visa_drivers.signal_analyser import Anri\n",
    "\n",
    "#math\n",
    "import numpy as np\n",
    "from numpy import *\n",
    "from scipy.optimize import curve_fit\n",
    "\n",
    "#plotting\n",
    "import matplotlib.pyplot as plt\n",
    "import matplotlib\n",
    "\n",
    "#matlab import\n",
    "import scipy.io\n",
    "from scipy.io import savemat, loadmat\n",
    "from scipy.optimize import minimize\n",
    "from scipy.fft import fft, ifft, fftshift, ifftshift\n",
    "\n",
    "\n",
    "#file_store\n",
    "import os\n",
    "\n",
    "#time\n",
    "import time\n",
    "from datetime import datetime, timedelta\n",
    "\n",
    "\n",
    "from ctypes import *\n",
    "%matplotlib inline\n",
    "\n",
    "Global_data_adress = r\"C:\\Users\\Demag\\PycharmProjects\\ColdMeasurements\\DeMag\\DATA\"\n",
    "exp_name = 'TWPA_noise_9'\n",
    "adress = Global_data_adress+'\\\\'+exp_name\n",
    "if not os.path.exists(adress):\n",
    "  os.mkdir(adress)\n",
    "  print(\"Folder %s created!\" % adress)\n",
    "else:\n",
    "  print(\"Folder %s already exists\" % adress)"
   ]
  },
  {
   "cell_type": "code",
   "execution_count": 2,
   "id": "17ba6292",
   "metadata": {
    "scrolled": true
   },
   "outputs": [
    {
     "name": "stdout",
     "output_type": "stream",
     "text": [
      "Connection exist: AnaPico AG,APMS20G,3C6-0B4F40003-0985,1.0.7\n",
      "\n"
     ]
    }
   ],
   "source": [
    "anapico = ANAPICO()\n",
    "anapico.idn()"
   ]
  },
  {
   "cell_type": "code",
   "execution_count": 3,
   "id": "49b76636",
   "metadata": {},
   "outputs": [
    {
     "name": "stdout",
     "output_type": "stream",
     "text": [
      "Unable to connect device.\n",
      " VI_ERROR_TMO (-1073807339): Timeout expired before operation completed.\n",
      "Check that device is connected, visible in NI MAX and is not used by another software.\n",
      "Connection exist: Stanford_Research_Systems,SIM928,s/n035459,ver2.7\r\n",
      "\n"
     ]
    }
   ],
   "source": [
    "dc = SIM(slot_num=7)\n",
    "dc.idn()"
   ]
  },
  {
   "cell_type": "code",
   "execution_count": 4,
   "id": "bd07d5ad",
   "metadata": {},
   "outputs": [
    {
     "name": "stdout",
     "output_type": "stream",
     "text": [
      "SIM928 is now disconnected from SIM900 mainframe\n"
     ]
    }
   ],
   "source": [
    "dc.disconnect()"
   ]
  },
  {
   "cell_type": "code",
   "execution_count": 5,
   "id": "697d69c1",
   "metadata": {},
   "outputs": [
    {
     "name": "stdout",
     "output_type": "stream",
     "text": [
      "Connection exist: Stanford_Research_Systems,SIM928,s/n035459,ver2.7\r\n",
      "\n"
     ]
    }
   ],
   "source": [
    "dc = SIM(slot_num=7)\n",
    "dc.idn()"
   ]
  },
  {
   "cell_type": "code",
   "execution_count": 6,
   "id": "23cca330",
   "metadata": {},
   "outputs": [],
   "source": [
    "dc.set_off()\n",
    "dc.set_volt(0)\n",
    "anapico.set_off(1)"
   ]
  },
  {
   "cell_type": "code",
   "execution_count": 13,
   "id": "927ef4f6",
   "metadata": {},
   "outputs": [
    {
     "name": "stdout",
     "output_type": "stream",
     "text": [
      "Connection exist: Rohde&Schwarz,FPL1026,1304.0004K26/200025,2.10SP1\n",
      "\n",
      "None\n"
     ]
    }
   ],
   "source": [
    "sa = Anri('TCPIP::169.254.36.112::INSTR')\n",
    "print(sa.idn())\n",
    "\n",
    "def set_cent_freq_(sa, freq): \n",
    "    sa.write('FREQuency:CENTer {} MHz'.format(freq/1e6))\n",
    "    \n",
    "    \n",
    "def set_span_(sa, span):\n",
    "    sa.write('FREQ:SPAN {}'.format(span))\n",
    "    \n",
    "def set_band_(sa, band):\n",
    "    sa.write('BAND {}KHZ'.format(str(band)))\n",
    "    \n",
    "def get_freq_(sa):\n",
    "    nop = int(sa.query('SWEep:POINts?'))\n",
    "    start_fr = sa.query_float('FREQuency:STARt?')\n",
    "    stop_fr = sa.query_float('FREQuency:STOP?')\n",
    "    return np.linspace(start_fr, stop_fr, nop)\n",
    "\n",
    "def get_nop_(sa):\n",
    "    return int(sa.query('SWEep:POINts?'))\n",
    "\n",
    "def get_data_(sa): \n",
    "    sa.write('INIT:IMM')\n",
    "    time.sleep(3+sa.query_float('AVER:COUN?')*sa.query_float('SWEep:TIME?'))\n",
    "    raw_data = sa.query('TRAC:DATA? TRACE1')\n",
    "    return np.array(raw_data.split(','), dtype=float)"
   ]
  },
  {
   "cell_type": "code",
   "execution_count": 9,
   "id": "040ef215",
   "metadata": {},
   "outputs": [
    {
     "name": "stdout",
     "output_type": "stream",
     "text": [
      "Folder C:\\Users\\Demag\\PycharmProjects\\ColdMeasurements\\DeMag\\DATA\\TWPA_noise_9\\Y_factor2 already exists\n"
     ]
    }
   ],
   "source": [
    "path = adress +'\\\\'+ 'Y_factor2'\n",
    "if not os.path.exists(path):\n",
    "  os.mkdir(path)\n",
    "  print(\"Folder %s created!\" % path)\n",
    "else:\n",
    "  print(\"Folder %s already exists\" % path)"
   ]
  },
  {
   "cell_type": "code",
   "execution_count": 10,
   "id": "979d93a4",
   "metadata": {},
   "outputs": [],
   "source": [
    "# Bais points with different gain"
   ]
  },
  {
   "cell_type": "code",
   "execution_count": 15,
   "id": "6103e413",
   "metadata": {},
   "outputs": [
    {
     "data": {
      "text/plain": [
       "100.0"
      ]
     },
     "execution_count": 15,
     "metadata": {},
     "output_type": "execute_result"
    }
   ],
   "source": [
    "sa.query_float('AVER:COUN?')"
   ]
  },
  {
   "cell_type": "code",
   "execution_count": null,
   "id": "a1674bf8",
   "metadata": {},
   "outputs": [],
   "source": []
  },
  {
   "cell_type": "code",
   "execution_count": 11,
   "id": "faece5dd",
   "metadata": {},
   "outputs": [],
   "source": [
    "%matplotlib inline"
   ]
  },
  {
   "cell_type": "code",
   "execution_count": 14,
   "id": "a660ece2",
   "metadata": {},
   "outputs": [
    {
     "name": "stdout",
     "output_type": "stream",
     "text": [
      "New bais point:  0 started at 2025-08-01-15-34-27\n",
      "DC:  1.6\n",
      "PP:  7\n",
      "PF:  9270000000.0\n",
      "Gain meas results: 19.305816650000004\n",
      "############################################################################\n",
      "Noise sweep:  0 started at 2025-08-01-15-34-33\n",
      "Noise floor: -112.20295013576424\n",
      "Noise floor with gain: -94.29077483785214\n",
      "############################################################################\n",
      "New bais point:  1 started at 2025-08-01-15-34-40\n",
      "DC:  1.38\n",
      "PP:  7\n",
      "PF:  10770000000.0\n",
      "Gain meas results: 21.982276909999996\n",
      "############################################################################\n",
      "Noise sweep:  1 started at 2025-08-01-15-34-46\n",
      "Noise floor: -112.39617400229771\n",
      "Noise floor with gain: -90.52104951475525\n",
      "############################################################################\n"
     ]
    }
   ],
   "source": [
    "state = dict()\n",
    "\n",
    "dc_bbp = np.array([1.6,    1.38])\n",
    "pp_bbp = np.array([7,    7])\n",
    "pf_bbp = np.array([9.27e9, 10.77e9])\n",
    "state['dc_bbp'] = dc_bbp\n",
    "state['pp_bbp'] = pp_bbp\n",
    "state['pf_bbp'] = pf_bbp\n",
    "\n",
    "temp = 400\n",
    "state['temp'] = temp\n",
    "\n",
    "state['avg'] = 100\n",
    "\n",
    "spectra_no_signal = np.zeros((len(dc_bbp), 2, len(get_freq_(sa))))\n",
    "spectra_for_gain = np.zeros((len(dc_bbp), 2, len(get_freq_(sa))))\n",
    "\n",
    "band_noise_bg = 0.01\n",
    "state['band_noise_bg_KHz'] = band_noise_bg\n",
    "\n",
    "band_noise_gain = 0.1\n",
    "state['band_noise_gain_KHz'] = band_noise_gain\n",
    "\n",
    "\n",
    "state['cent_freq_sa'] = 5e9\n",
    "\n",
    "span_sa_noise = 10\n",
    "state['span_sa_noise_Hz'] = span_sa_noise\n",
    "span_sa_gain = 100\n",
    "state['span_sa_gain_Hz'] = span_sa_gain\n",
    "\n",
    "# # IM\n",
    "# power_sweep = np.linspace(-30, -5, 8)\n",
    "# state['power_sweep'] = power_sweep\n",
    "# low_noise_pump_freq_IM1_arr = np.array([])\n",
    "# low_noise_pump_freq_IM2_arr = np.array([])\n",
    "# spectra_for_IM = np.zeros((len(dc_bbp), len(power_sweep), len(get_freq_(sa))))\n",
    "\n",
    "start_time = datetime.now()\n",
    "file_name_o = 'Y_factor2_t_' + str(temp) + '_mK_'\n",
    "file_name = path + '\\\\' + file_name_o + start_time.strftime(r'%Y-%m-%d-%H-%M-%S') + '.mat'\n",
    "savemat(file_name, state)\n",
    "\n",
    "for i in range(len(dc_bbp)):\n",
    "    \n",
    "    start_time = datetime.now()\n",
    "    print('New bais point: ', i, 'started at', start_time.strftime(r'%Y-%m-%d-%H-%M-%S'))\n",
    "    dc.set_volt(dc_bbp[i])\n",
    "    dc.set_on()\n",
    "    anapico.set_power(1, pp_bbp[i])\n",
    "    anapico.set_freq(1, pf_bbp[i])\n",
    "    print('DC: ', dc_bbp[i])\n",
    "    print('PP: ', pp_bbp[i])\n",
    "    print('PF: ', pf_bbp[i])\n",
    "    \n",
    "    # get gain\n",
    "    anapico.set_power(3, -10) \n",
    "    anapico.set_freq(3, 5e9)\n",
    "    anapico.set_on(3)                            # ch3 -- ON\n",
    "    set_cent_freq_(sa, 5e9)\n",
    "    set_band_(sa, band_noise_gain)\n",
    "    set_span_(sa, span_sa_gain)\n",
    "    state['freq_sa_gain'] = get_freq_(sa)\n",
    "    \n",
    "    anapico.set_off(1)                           # ch1 -- OFF\n",
    "    spectra_for_gain[i, 0] = get_data_(sa)                     # REF\n",
    "    anapico.set_on(1)                            # ch1 -- ON\n",
    "    spectra_for_gain[i, 1] = get_data_(sa)                     # GAIN\n",
    "    anapico.set_off(1)                           # ch1 -- OFF\n",
    "#     anapico.set_off(3)                           # ch3 -- OFF\n",
    "    state['spectra_for_gain'] = spectra_for_gain\n",
    "    savemat(file_name, state)\n",
    "    print('Gain meas results:', max(spectra_for_gain[i, 1])-max(spectra_for_gain[i, 0]))\n",
    "    print('############################################################################')\n",
    "    \n",
    "    #get_noise_bg\n",
    "    start_noise = datetime.now()\n",
    "    print('Noise sweep: ', i, 'started at', start_noise.strftime(r'%Y-%m-%d-%H-%M-%S'))\n",
    "    set_band_(sa, band_noise_bg)\n",
    "    set_span_(sa, span_sa_noise)\n",
    "    state['freq_sa_noise'] = get_freq_(sa)\n",
    "    \n",
    "    anapico.set_off(1)                            # ch1 -- OFF\n",
    "    spectra_no_signal[i, 0] = get_data_(sa)\n",
    "    anapico.set_on(1)                             # ch1 -- ON\n",
    "    spectra_no_signal[i, 1] = get_data_(sa)\n",
    "    anapico.set_off(1)                            # ch1 -- OFF\n",
    "    state['spectra_no_signal'] = spectra_no_signal\n",
    "    savemat(file_name, state)\n",
    "    print('Noise floor:', np.mean(spectra_no_signal[i, 0, :50000]))\n",
    "    print('Noise floor with gain:', np.mean(spectra_no_signal[i, 1, :50000]))\n",
    "    print('############################################################################')\n",
    "    \n",
    "#     # get intermodulation power sweep\n",
    "#     anapico.set_on(1)                             # ch1 -- ON\n",
    "#     hulf_pump = pf_bbp[i]/2\n",
    "#     delta_max = 0.005e9\n",
    "#     low_noise_pump_freq_IM1 = hulf_pump+delta_max*2\n",
    "#     low_noise_pump_freq_IM2 = hulf_pump+delta_max\n",
    "    \n",
    "#     low_noise_pump_freq_IM1_arr = np.append(low_noise_pump_freq_IM1_arr, low_noise_pump_freq_IM1)\n",
    "#     low_noise_pump_freq_IM2_arr = np.append(low_noise_pump_freq_IM2_arr, low_noise_pump_freq_IM2)\n",
    "    \n",
    "#     state['low_noise_pump_freq_IM1_arr'] = low_noise_pump_freq_IM1_arr\n",
    "#     state['low_noise_pump_freq_IM2_arr'] = low_noise_pump_freq_IM2_arr\n",
    "    \n",
    "#     anapico.set_freq(3, low_noise_pump_freq_IM1)\n",
    "#     anapico.set_freq(4, low_noise_pump_freq_IM2)\n",
    "#     set_cent_freq_(sa, hulf_pump)\n",
    "#     set_span_(sa, 0.5e9)\n",
    "#     state['IM_sa_span_GHz'] = 0.5\n",
    "#     state['IM_sa_nop'] = get_nop_(sa)\n",
    "    \n",
    "#     for pow_idx in range(len(power_sweep)):\n",
    "#         start_IM = datetime.now()\n",
    "#         print(start_IM.strftime(r'Power_sweep IM: %Y-%m-%d %H:%M:%S -->'), pow_idx)\n",
    "#         anapico.set_power(3, power_sweep[pow_idx])\n",
    "#         anapico.set_on(3)\n",
    "#         anapico.set_power(4, power_sweep[pow_idx])\n",
    "#         anapico.set_on(4)\n",
    "#         spectra_for_IM[i, pow_idx] = get_data_(sa)\n",
    "#         state['spectra_for_IM'] = spectra_for_IM\n",
    "#         savemat(file_name, state)\n",
    "        \n",
    "        \n",
    "#     anapico.set_off(3)\n",
    "#     anapico.set_off(4)\n",
    "    anapico.set_off(1)\n",
    "\n",
    "    savemat(file_name, state)\n",
    "    \n",
    "anapico.set_off(1)\n",
    "anapico.set_off(3)\n",
    "anapico.set_off(4)\n",
    "dc.set_volt(0)\n",
    "dc.set_off()"
   ]
  },
  {
   "cell_type": "markdown",
   "id": "5ea9bccb",
   "metadata": {},
   "source": [
    "# power sweep"
   ]
  },
  {
   "cell_type": "code",
   "execution_count": 105,
   "id": "e6290d37",
   "metadata": {},
   "outputs": [
    {
     "name": "stdout",
     "output_type": "stream",
     "text": [
      "New power:  0 started at 2025-07-03-21-07-26\n",
      "New power:  1 started at 2025-07-03-21-09-00\n",
      "New power:  2 started at 2025-07-03-21-10-34\n",
      "New power:  3 started at 2025-07-03-21-12-09\n",
      "New power:  4 started at 2025-07-03-21-13-43\n",
      "New power:  5 started at 2025-07-03-21-15-17\n",
      "New power:  6 started at 2025-07-03-21-16-51\n",
      "New power:  7 started at 2025-07-03-21-18-26\n",
      "New power:  8 started at 2025-07-03-21-20-00\n",
      "New power:  9 started at 2025-07-03-21-21-34\n",
      "New power:  10 started at 2025-07-03-21-23-08\n",
      "New power:  11 started at 2025-07-03-21-24-43\n",
      "New power:  12 started at 2025-07-03-21-26-17\n",
      "New power:  13 started at 2025-07-03-21-27-51\n",
      "New power:  14 started at 2025-07-03-21-29-25\n",
      "New power:  15 started at 2025-07-03-21-31-00\n",
      "New power:  16 started at 2025-07-03-21-32-34\n",
      "New power:  17 started at 2025-07-03-21-34-08\n",
      "New power:  18 started at 2025-07-03-21-35-43\n",
      "New power:  19 started at 2025-07-03-21-37-17\n",
      "New power:  20 started at 2025-07-03-21-38-51\n",
      "New power:  21 started at 2025-07-03-21-40-25\n",
      "New power:  22 started at 2025-07-03-21-42-00\n",
      "New power:  23 started at 2025-07-03-21-43-34\n",
      "New power:  24 started at 2025-07-03-21-45-08\n",
      "New power:  25 started at 2025-07-03-21-46-42\n",
      "New power:  26 started at 2025-07-03-21-48-17\n",
      "New power:  27 started at 2025-07-03-21-49-51\n",
      "New power:  28 started at 2025-07-03-21-51-25\n",
      "New power:  29 started at 2025-07-03-21-53-00\n",
      "New power:  30 started at 2025-07-03-21-54-34\n",
      "New power:  31 started at 2025-07-03-21-56-08\n",
      "New power:  32 started at 2025-07-03-21-57-42\n",
      "New power:  33 started at 2025-07-03-21-59-17\n",
      "New power:  34 started at 2025-07-03-22-00-51\n",
      "New power:  35 started at 2025-07-03-22-02-25\n",
      "New power:  36 started at 2025-07-03-22-03-59\n",
      "New power:  37 started at 2025-07-03-22-05-34\n",
      "New power:  38 started at 2025-07-03-22-07-08\n",
      "New power:  39 started at 2025-07-03-22-08-42\n",
      "New power:  40 started at 2025-07-03-22-10-17\n"
     ]
    }
   ],
   "source": [
    "dc_low_noise = 1.6\n",
    "freq_low_noise = 9.27e9\n",
    "\n",
    "anapico.set_freq(1, freq_low_noise)\n",
    "anapico.set_on(1)\n",
    "anapico.set_off(3)\n",
    "anapico.set_off(4)\n",
    "dc.set_volt(dc_low_noise)\n",
    "dc.set_on()\n",
    "\n",
    "state = dict()\n",
    "\n",
    "state['dc_low_noise'] = dc_low_noise\n",
    "state['freq_low_noise'] = freq_low_noise\n",
    "\n",
    "power_sweep = np.linspace(0, 10, 41)\n",
    "state['power_sweep'] = power_sweep\n",
    "\n",
    "band_noise_gain = 0.1\n",
    "state['band_noise_gain_KHz'] = band_noise_gain\n",
    "set_cent_freq_(sa, 6e9)\n",
    "set_span_(sa, 4e9)\n",
    "set_band_(sa, band_noise_gain)\n",
    "state['freq_sa_noise'] = get_freq_(sa)\n",
    "\n",
    "temp = 12\n",
    "state['temp'] = temp\n",
    "\n",
    "start_time = datetime.now()\n",
    "file_name_o = 'Power_sweep_no_IM_just_pump_' + str(temp) + '_mK_'\n",
    "file_name = path + '\\\\' + file_name_o + start_time.strftime(r'%Y-%m-%d-%H-%M-%S') + '.mat'\n",
    "savemat(file_name, state)\n",
    "\n",
    "spectra = np.ones((len(power_sweep), len(get_freq_(sa))))*(-100)\n",
    "\n",
    "\n",
    "for i_ps in range(len(power_sweep)):\n",
    "    start_time = datetime.now()\n",
    "    print('New power: ', i_ps, 'started at', start_time.strftime(r'%Y-%m-%d-%H-%M-%S'))\n",
    "    \n",
    "    anapico.set_power(1, power_sweep[i_ps])\n",
    "    \n",
    "    spectra[i_ps] = get_data_(sa)\n",
    "    state['spectra'] = spectra\n",
    "    savemat(file_name, state)\n",
    "    \n",
    "    \n",
    "anapico.set_off(1)\n",
    "anapico.set_off(3)\n",
    "anapico.set_off(4)\n",
    "dc.set_volt(0)\n",
    "dc.set_off()"
   ]
  },
  {
   "cell_type": "code",
   "execution_count": null,
   "id": "73603a13",
   "metadata": {},
   "outputs": [],
   "source": []
  }
 ],
 "metadata": {
  "kernelspec": {
   "display_name": "Python 3 (ipykernel)",
   "language": "python",
   "name": "python3"
  },
  "language_info": {
   "codemirror_mode": {
    "name": "ipython",
    "version": 3
   },
   "file_extension": ".py",
   "mimetype": "text/x-python",
   "name": "python",
   "nbconvert_exporter": "python",
   "pygments_lexer": "ipython3",
   "version": "3.9.12"
  }
 },
 "nbformat": 4,
 "nbformat_minor": 5
}
