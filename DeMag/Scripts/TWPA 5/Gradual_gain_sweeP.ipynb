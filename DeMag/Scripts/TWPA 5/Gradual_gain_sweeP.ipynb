{
 "cells": [
  {
   "cell_type": "code",
   "execution_count": 55,
   "id": "819c4d93",
   "metadata": {},
   "outputs": [
    {
     "name": "stdout",
     "output_type": "stream",
     "text": [
      "Folder C:\\Users\\Demag\\PycharmProjects\\ColdMeasurements\\DeMag\\DATA\\TWPA_noise_9\\Best_noise_power_sweep_last_plot created!\n"
     ]
    }
   ],
   "source": [
    "from nanodrivers.visa_drivers.anapico import ANAPICO\n",
    "from nanodrivers.visa_drivers.SIM928_voltage_source import SIM # as DC\n",
    "from nanodrivers.visa_drivers.vna import VNA\n",
    "\n",
    "#math\n",
    "import numpy as np\n",
    "from numpy import *\n",
    "from scipy.optimize import curve_fit\n",
    "\n",
    "#plotting\n",
    "import matplotlib.pyplot as plt\n",
    "import matplotlib\n",
    "\n",
    "#matlab import\n",
    "import scipy.io\n",
    "from scipy.io import savemat\n",
    "from scipy.optimize import minimize\n",
    "from scipy.fft import fft, ifft, fftshift, ifftshift\n",
    "\n",
    "\n",
    "#file_store\n",
    "import os\n",
    "\n",
    "#time\n",
    "import time\n",
    "from datetime import datetime, timedelta\n",
    "\n",
    "\n",
    "from ctypes import *\n",
    "%matplotlib inline\n",
    "\n",
    "Global_data_adress = r\"C:\\Users\\Demag\\PycharmProjects\\ColdMeasurements\\DeMag\\DATA\"\n",
    "exp_name = 'TWPA_noise_9\\Best_noise_power_sweep_last_plot'\n",
    "adress = Global_data_adress+'\\\\'+exp_name\n",
    "if not os.path.exists(adress):\n",
    "  os.mkdir(adress)\n",
    "  print(\"Folder %s created!\" % adress)\n",
    "else:\n",
    "  print(\"Folder %s already exists\" % adress)\n",
    "\n",
    "\n",
    "# Stable temperature since 02.06.2025"
   ]
  },
  {
   "cell_type": "code",
   "execution_count": 2,
   "id": "49431e45",
   "metadata": {},
   "outputs": [
    {
     "name": "stdout",
     "output_type": "stream",
     "text": [
      "Unable to connect device.\n",
      " VI_ERROR_TMO (-1073807339): Timeout expired before operation completed.\n",
      "Check that device is connected, visible in NI MAX and is not used by another software.\n",
      "Connection exist: Stanford_Research_Systems,SIM928,s/n035459,ver2.7\r\n",
      "\n"
     ]
    }
   ],
   "source": [
    "dc = SIM(slot_num=7)\n",
    "dc.idn()"
   ]
  },
  {
   "cell_type": "code",
   "execution_count": 3,
   "id": "c7d39e37",
   "metadata": {},
   "outputs": [
    {
     "name": "stdout",
     "output_type": "stream",
     "text": [
      "SIM928 is now disconnected from SIM900 mainframe\n"
     ]
    }
   ],
   "source": [
    "dc.disconnect()"
   ]
  },
  {
   "cell_type": "code",
   "execution_count": 4,
   "id": "d40b5d84",
   "metadata": {},
   "outputs": [
    {
     "name": "stdout",
     "output_type": "stream",
     "text": [
      "Connection exist: Stanford_Research_Systems,SIM928,s/n035459,ver2.7\r\n",
      "\n"
     ]
    }
   ],
   "source": [
    "dc = SIM(slot_num=7)\n",
    "dc.idn()"
   ]
  },
  {
   "cell_type": "code",
   "execution_count": 5,
   "id": "0ea49c54",
   "metadata": {
    "scrolled": true
   },
   "outputs": [
    {
     "name": "stdout",
     "output_type": "stream",
     "text": [
      "Connection exist: Rohde-Schwarz,ZNB20-2Port,1311601062102129,3.45\n",
      "\n"
     ]
    }
   ],
   "source": [
    "vna = VNA()\n",
    "vna.idn()"
   ]
  },
  {
   "cell_type": "code",
   "execution_count": 6,
   "id": "7013dca6",
   "metadata": {},
   "outputs": [
    {
     "name": "stdout",
     "output_type": "stream",
     "text": [
      "Connection exist: AnaPico AG,APMS20G,3C6-0B4F40003-0985,1.0.7\n",
      "\n"
     ]
    }
   ],
   "source": [
    "anapico = ANAPICO()\n",
    "anapico.idn()"
   ]
  },
  {
   "cell_type": "code",
   "execution_count": 62,
   "id": "9ce8eece",
   "metadata": {},
   "outputs": [],
   "source": [
    "anapico.set_off(1)"
   ]
  },
  {
   "cell_type": "code",
   "execution_count": 63,
   "id": "673610c9",
   "metadata": {},
   "outputs": [],
   "source": [
    "dc.set_volt(0)"
   ]
  },
  {
   "cell_type": "code",
   "execution_count": 64,
   "id": "129ddba2",
   "metadata": {},
   "outputs": [],
   "source": [
    "dc.set_off()"
   ]
  },
  {
   "cell_type": "markdown",
   "id": "cefcde5d",
   "metadata": {},
   "source": [
    "# Rough gain sweep"
   ]
  },
  {
   "cell_type": "code",
   "execution_count": 29,
   "id": "96b9997b",
   "metadata": {},
   "outputs": [],
   "source": [
    "from TWPA_scearch_best_gain import *"
   ]
  },
  {
   "cell_type": "code",
   "execution_count": 35,
   "id": "69a60a02",
   "metadata": {},
   "outputs": [],
   "source": [
    "TWPA = TWPA_best_gain(file_path = adress, file_name = 'Gain_sweep_10mK_test', \n",
    "                      vna = vna, anapico = anapico, dc = dc,\n",
    "                      min_pump_power=-4, max_pump_power=14,\n",
    "                      min_pump_freq=9e9, max_pump_freq=9.5e9,\n",
    "                      min_dc=1.5, max_dc=1.65,\n",
    "                      steps_pump_power=11, steps_pump_freq=201, steps_dc=21,\n",
    "                      gain_threshold=-10, vna_band_fast=1000,\n",
    "                      temp=13)"
   ]
  },
  {
   "cell_type": "code",
   "execution_count": 36,
   "id": "25d2ece9",
   "metadata": {
    "scrolled": true
   },
   "outputs": [],
   "source": [
    "# Upload file if restart needed\n",
    "# mat = TWPA.load_database(folder_address=adress, \n",
    "#                          file_name=\"Gain_sweep_1000mK.mat\", last_one=False)"
   ]
  },
  {
   "cell_type": "code",
   "execution_count": 37,
   "id": "ebd49470",
   "metadata": {
    "scrolled": true
   },
   "outputs": [
    {
     "name": "stdout",
     "output_type": "stream",
     "text": [
      "Script started at _2025-08-02 23:17:56\n",
      "\n",
      "\n",
      "New DC set to 1.5 V at _2025-08-02 23:17:56\n",
      "\n",
      "\n",
      "New DC set to 1.515 V at _2025-08-02 23:18:02\n",
      "\n",
      "\n",
      "New DC set to 1.53 V at _2025-08-02 23:18:07\n",
      "\n",
      "\n",
      "New DC set to 1.545 V at _2025-08-02 23:18:12\n"
     ]
    },
    {
     "ename": "KeyboardInterrupt",
     "evalue": "",
     "output_type": "error",
     "traceback": [
      "\u001b[1;31m---------------------------------------------------------------------------\u001b[0m",
      "\u001b[1;31mKeyboardInterrupt\u001b[0m                         Traceback (most recent call last)",
      "Cell \u001b[1;32mIn[37], line 1\u001b[0m\n\u001b[1;32m----> 1\u001b[0m \u001b[43mTWPA\u001b[49m\u001b[38;5;241;43m.\u001b[39;49m\u001b[43msweep_database\u001b[49m\u001b[43m(\u001b[49m\u001b[43mdc_nop\u001b[49m\u001b[38;5;241;43m=\u001b[39;49m\u001b[38;5;241;43m11\u001b[39;49m\u001b[43m,\u001b[49m\u001b[43m \u001b[49m\u001b[43mpp_nop\u001b[49m\u001b[38;5;241;43m=\u001b[39;49m\u001b[38;5;241;43m5\u001b[39;49m\u001b[43m,\u001b[49m\u001b[43m \u001b[49m\u001b[43mpf_nop\u001b[49m\u001b[38;5;241;43m=\u001b[39;49m\u001b[38;5;241;43m201\u001b[39;49m\u001b[43m,\u001b[49m\u001b[43m \u001b[49m\u001b[43mconditional_gain_tr\u001b[49m\u001b[38;5;241;43m=\u001b[39;49m\u001b[38;5;241;43m0\u001b[39;49m\u001b[43m,\u001b[49m\u001b[43m \u001b[49m\u001b[43mlin\u001b[49m\u001b[43m \u001b[49m\u001b[38;5;241;43m=\u001b[39;49m\u001b[43m \u001b[49m\u001b[38;5;28;43;01mTrue\u001b[39;49;00m\u001b[43m)\u001b[49m\n",
      "File \u001b[1;32m~\\PycharmProjects\\ColdMeasurements\\DeMag\\Scripts\\TWPA 5\\TWPA_scearch_best_gain.py:306\u001b[0m, in \u001b[0;36mTWPA_best_gain.sweep_database\u001b[1;34m(self, dc_nop, pp_nop, pf_nop, conditional_gain_tr, dc_range, pf_range, pp_range, lin)\u001b[0m\n\u001b[0;32m    304\u001b[0m \u001b[38;5;28mself\u001b[39m\u001b[38;5;241m.\u001b[39mdc\u001b[38;5;241m.\u001b[39mset_volt(dc_voltage)\n\u001b[0;32m    305\u001b[0m \u001b[38;5;28mself\u001b[39m\u001b[38;5;241m.\u001b[39mdc\u001b[38;5;241m.\u001b[39mset_on()\n\u001b[1;32m--> 306\u001b[0m \u001b[43mtime\u001b[49m\u001b[38;5;241;43m.\u001b[39;49m\u001b[43msleep\u001b[49m\u001b[43m(\u001b[49m\u001b[38;5;241;43m5\u001b[39;49m\u001b[43m)\u001b[49m\n\u001b[0;32m    308\u001b[0m \u001b[38;5;28mself\u001b[39m\u001b[38;5;241m.\u001b[39manapico\u001b[38;5;241m.\u001b[39mset_off(\u001b[38;5;241m1\u001b[39m)\n\u001b[0;32m    309\u001b[0m mag_no_gain, _ \u001b[38;5;241m=\u001b[39m \u001b[38;5;28mself\u001b[39m\u001b[38;5;241m.\u001b[39mvna\u001b[38;5;241m.\u001b[39mget_data()\n",
      "\u001b[1;31mKeyboardInterrupt\u001b[0m: "
     ]
    }
   ],
   "source": [
    "TWPA.sweep_database(dc_nop=11, pp_nop=5, pf_nop=201, conditional_gain_tr=0, lin = True)"
   ]
  },
  {
   "cell_type": "code",
   "execution_count": 40,
   "id": "46fa8967",
   "metadata": {},
   "outputs": [],
   "source": [
    "# TWPA.min_dc = 1.38\n",
    "# TWPA.max_dc = 2.2\n",
    "# TWPA.min_pump_power=1\n",
    "# TWPA.max_pump_power=9"
   ]
  },
  {
   "cell_type": "code",
   "execution_count": 27,
   "id": "dff894eb",
   "metadata": {},
   "outputs": [],
   "source": [
    "TWPA = TWPA_best_gain(file_path = adress, file_name = 'Gain_sweep_10mK_power_freq_0.35_full_range', \n",
    "                      vna = vna, anapico = anapico, dc = dc,\n",
    "                      min_pump_power=-8, max_pump_power=12,\n",
    "                      min_pump_freq=8e9, max_pump_freq=14.5e9,\n",
    "                      min_dc=1.38, max_dc=1.62,\n",
    "                      steps_pump_power=201, steps_pump_freq=501, steps_dc=1,\n",
    "                      gain_threshold=18,\n",
    "                      temp=13)"
   ]
  },
  {
   "cell_type": "code",
   "execution_count": 28,
   "id": "9624a8fd",
   "metadata": {},
   "outputs": [
    {
     "name": "stdout",
     "output_type": "stream",
     "text": [
      "Script started at _2025-08-02 23:16:12\n",
      "\n",
      "\n",
      "New DC set to 1.38 V at _2025-08-02 23:16:12\n",
      "Range DC[1.38] = [1.38, 1.38], PF[8.00] = [8.00, 8.00], PP[-7.9200] = [-7.80, -8.00] --> -0.022\r"
     ]
    },
    {
     "ename": "KeyboardInterrupt",
     "evalue": "",
     "output_type": "error",
     "traceback": [
      "\u001b[1;31m---------------------------------------------------------------------------\u001b[0m",
      "\u001b[1;31mKeyboardInterrupt\u001b[0m                         Traceback (most recent call last)",
      "Cell \u001b[1;32mIn[28], line 1\u001b[0m\n\u001b[1;32m----> 1\u001b[0m \u001b[43mTWPA\u001b[49m\u001b[38;5;241;43m.\u001b[39;49m\u001b[43msweep_database\u001b[49m\u001b[43m(\u001b[49m\u001b[43mdc_nop\u001b[49m\u001b[38;5;241;43m=\u001b[39;49m\u001b[38;5;241;43m1\u001b[39;49m\u001b[43m,\u001b[49m\u001b[43m \u001b[49m\u001b[43mpp_nop\u001b[49m\u001b[38;5;241;43m=\u001b[39;49m\u001b[38;5;241;43m501\u001b[39;49m\u001b[43m,\u001b[49m\u001b[43m \u001b[49m\u001b[43mpf_nop\u001b[49m\u001b[38;5;241;43m=\u001b[39;49m\u001b[38;5;241;43m501\u001b[39;49m\u001b[43m,\u001b[49m\u001b[43m \u001b[49m\u001b[43mconditional_gain_tr\u001b[49m\u001b[38;5;241;43m=\u001b[39;49m\u001b[38;5;241;43m-\u001b[39;49m\u001b[38;5;241;43m10\u001b[39;49m\u001b[43m,\u001b[49m\u001b[43m \u001b[49m\u001b[43mlin\u001b[49m\u001b[43m \u001b[49m\u001b[38;5;241;43m=\u001b[39;49m\u001b[43m \u001b[49m\u001b[38;5;28;43;01mTrue\u001b[39;49;00m\u001b[43m)\u001b[49m\n",
      "File \u001b[1;32m~\\PycharmProjects\\ColdMeasurements\\DeMag\\Scripts\\TWPA 5\\TWPA_scearch_best_gain.py:336\u001b[0m, in \u001b[0;36mTWPA_best_gain.sweep_database\u001b[1;34m(self, dc_nop, pp_nop, pf_nop, conditional_gain_tr, dc_range, pf_range, pp_range, lin)\u001b[0m\n\u001b[0;32m    334\u001b[0m \u001b[38;5;28mself\u001b[39m\u001b[38;5;241m.\u001b[39manapico\u001b[38;5;241m.\u001b[39mset_freq(\u001b[38;5;241m1\u001b[39m, pf_freq)\n\u001b[0;32m    335\u001b[0m \u001b[38;5;28mself\u001b[39m\u001b[38;5;241m.\u001b[39manapico\u001b[38;5;241m.\u001b[39mset_power(\u001b[38;5;241m1\u001b[39m, pp_power)\n\u001b[1;32m--> 336\u001b[0m \u001b[43mtime\u001b[49m\u001b[38;5;241;43m.\u001b[39;49m\u001b[43msleep\u001b[49m\u001b[43m(\u001b[49m\u001b[38;5;241;43m10\u001b[39;49m\u001b[43m)\u001b[49m\n\u001b[0;32m    337\u001b[0m gain \u001b[38;5;241m=\u001b[39m \u001b[38;5;28mself\u001b[39m\u001b[38;5;241m.\u001b[39mget_gain(mag_no_gain)\n\u001b[0;32m    339\u001b[0m dc_range \u001b[38;5;241m=\u001b[39m \u001b[38;5;124m'\u001b[39m\u001b[38;5;124mRange DC[\u001b[39m\u001b[38;5;132;01m{:.2f}\u001b[39;00m\u001b[38;5;124m] = [\u001b[39m\u001b[38;5;132;01m{:.2f}\u001b[39;00m\u001b[38;5;124m, \u001b[39m\u001b[38;5;132;01m{:.2f}\u001b[39;00m\u001b[38;5;124m]\u001b[39m\u001b[38;5;124m'\u001b[39m\u001b[38;5;241m.\u001b[39mformat(\n\u001b[0;32m    340\u001b[0m     np\u001b[38;5;241m.\u001b[39mround(dc_voltage, \u001b[38;5;241m3\u001b[39m),\n\u001b[0;32m    341\u001b[0m     np\u001b[38;5;241m.\u001b[39mround(\u001b[38;5;28mself\u001b[39m\u001b[38;5;241m.\u001b[39mdatabase[\u001b[38;5;124m'\u001b[39m\u001b[38;5;124mvolts\u001b[39m\u001b[38;5;124m'\u001b[39m][min_dc_idx], \u001b[38;5;241m4\u001b[39m),\n\u001b[0;32m    342\u001b[0m     np\u001b[38;5;241m.\u001b[39mround(\u001b[38;5;28mself\u001b[39m\u001b[38;5;241m.\u001b[39mdatabase[\u001b[38;5;124m'\u001b[39m\u001b[38;5;124mvolts\u001b[39m\u001b[38;5;124m'\u001b[39m][max_dc_idx], \u001b[38;5;241m4\u001b[39m))\n",
      "\u001b[1;31mKeyboardInterrupt\u001b[0m: "
     ]
    }
   ],
   "source": [
    "TWPA.sweep_database(dc_nop=1, pp_nop=501, pf_nop=501, conditional_gain_tr=-10, lin = True)"
   ]
  },
  {
   "cell_type": "code",
   "execution_count": 44,
   "id": "4886f104",
   "metadata": {
    "scrolled": false
   },
   "outputs": [
    {
     "data": {
      "image/png": "[encoded data removed]",
      "text/plain": [
       "<Figure size 1800x504 with 6 Axes>"
      ]
     },
     "metadata": {
      "needs_background": "light"
     },
     "output_type": "display_data"
    },
    {
     "name": "stdout",
     "output_type": "stream",
     "text": [
      "1.38\n",
      "9.0\n",
      "-8.0\n"
     ]
    }
   ],
   "source": [
    "# plot gain onece finished\n",
    "%matplotlib inline\n",
    "index_dc=0\n",
    "index_pf=0\n",
    "index_pp=0\n",
    "TWPA.plot_database(index_dc=index_dc, index_pf=index_pf, index_pp=index_pp)\n",
    "\n",
    "print(TWPA.database['volts'][index_dc])\n",
    "print(TWPA.database['pump_freqs'][index_pf]/1e9)\n",
    "print(TWPA.database['pump_powers'][index_pp])"
   ]
  },
  {
   "cell_type": "markdown",
   "id": "8cdc2535",
   "metadata": {},
   "source": [
    "                        |TWPA GAIN-NOISE sweep has been set |\n",
    "                        |                                   |\n",
    "                        v                                   v"
   ]
  },
  {
   "cell_type": "code",
   "execution_count": 11,
   "id": "6439e123",
   "metadata": {},
   "outputs": [
    {
     "data": {
      "text/plain": [
       "8.0"
      ]
     },
     "execution_count": 11,
     "metadata": {},
     "output_type": "execute_result"
    }
   ],
   "source": [
    "np.linspace(-10,14,21)[15]"
   ]
  },
  {
   "cell_type": "code",
   "execution_count": 15,
   "id": "b0241d5a",
   "metadata": {
    "scrolled": true
   },
   "outputs": [
    {
     "name": "stdout",
     "output_type": "stream",
     "text": [
      "Script started at 2025-07-27 19:30:56\n",
      "\n",
      "\n",
      "New DC set to 1.38 V at 2025-07-27 19:30:56\n",
      "   Noise sweep [(0, 0, 0)] with gain -0.01779 started at 2025-07-27 19:31:02\n",
      "   Noise sweep [(0, 0, 1)] with gain 1.2518 started at 2025-07-27 22:22:14\n",
      "   Noise sweep [(0, 0, 2)] with gain 1.66051 started at 2025-07-28 01:13:27\n",
      "   Noise sweep [(0, 0, 3)] with gain 2.15518 started at 2025-07-28 04:04:40\n",
      "   Noise sweep [(0, 0, 4)] with gain 2.77251 started at 2025-07-28 06:55:53\n",
      "   Noise sweep [(0, 0, 5)] with gain 3.45386 started at 2025-07-28 09:47:06\n",
      "   Noise sweep [(0, 0, 6)] with gain 4.18945 started at 2025-07-28 12:38:18\n",
      "   Noise sweep [(0, 0, 7)] with gain 5.06156 started at 2025-07-28 15:29:31\n",
      "   Noise sweep [(0, 0, 8)] with gain 6.78394 started at 2025-07-28 18:20:44\n",
      "   Noise sweep [(0, 0, 9)] with gain 8.5785 started at 2025-07-28 21:11:57\n",
      "   Noise sweep [(0, 0, 10)] with gain 12.09859 started at 2025-07-29 00:03:10\n",
      "   Noise sweep [(0, 0, 11)] with gain 16.72039 started at 2025-07-29 02:54:23\n",
      "   Noise sweep [(0, 0, 12)] with gain 23.20195 started at 2025-07-29 05:45:36\n",
      "   Noise sweep [(0, 0, 13)] with gain 25.7262 started at 2025-07-29 08:36:49\n",
      "   Noise sweep [(0, 0, 14)] with gain 22.7415 started at 2025-07-29 11:28:02\n",
      "   Noise sweep [(0, 0, 15)] with gain 27.94014 started at 2025-07-29 14:19:15\n",
      "   Noise sweep [(0, 0, 16)] with gain 19.27323 started at 2025-07-29 17:10:28\n",
      "   Noise sweep [(0, 0, 17)] with gain -16.1821 started at 2025-07-29 20:01:41\n",
      "   Noise sweep [(0, 0, 18)] with gain -20.64885 started at 2025-07-29 22:52:54\n",
      "   Noise sweep [(0, 0, 19)] with gain -21.5869 started at 2025-07-30 01:44:07\n",
      "   Noise sweep [(0, 0, 20)] with gain -23.66552 started at 2025-07-30 04:35:20\n",
      "Run time: 2:51:12.724888\n"
     ]
    }
   ],
   "source": [
    "TWPA.sweep_noise(gain_tr1=-50, gain_tr2=-50, gain_tr2_max=50, dc_range=[1.35, 2.2, 1], \n",
    "            pf_range=[10.77e9,14.5e9,1], \n",
    "            pp_range=[-10,14,21], file_name='Noise_sweep_10mK_power_only_low_band_5_avg_50_nop_501')"
   ]
  },
  {
   "cell_type": "code",
   "execution_count": 13,
   "id": "d3aa0a90",
   "metadata": {},
   "outputs": [],
   "source": [
    "TWPA.vna_band_fast=1000\n",
    "TWPA.vna_nop_fast=10\n",
    "TWPA.fft_avgs = 50\n",
    "TWPA.vna_band_slow=5\n",
    "TWPA.vna_nop_slow=501"
   ]
  },
  {
   "cell_type": "code",
   "execution_count": 14,
   "id": "8b56b44e",
   "metadata": {
    "scrolled": true
   },
   "outputs": [
    {
     "name": "stdout",
     "output_type": "stream",
     "text": [
      "Script started at 2025-07-25 21:51:23\n",
      "\n",
      "\n",
      "New DC set to 1.6 V at 2025-07-25 21:51:23\n",
      "   Noise sweep [(0, 0, 0)] with gain -0.04762 started at 2025-07-25 21:51:28\n",
      "   Noise sweep [(0, 0, 1)] with gain 2.24771 started at 2025-07-26 00:42:41\n",
      "   Noise sweep [(0, 0, 2)] with gain 2.91676 started at 2025-07-26 03:33:54\n",
      "   Noise sweep [(0, 0, 3)] with gain 3.66444 started at 2025-07-26 06:25:07\n",
      "   Noise sweep [(0, 0, 4)] with gain 4.58898 started at 2025-07-26 09:16:20\n",
      "   Noise sweep [(0, 0, 5)] with gain 5.65244 started at 2025-07-26 12:07:33\n",
      "   Noise sweep [(0, 0, 6)] with gain 6.90374 started at 2025-07-26 14:58:46\n",
      "   Noise sweep [(0, 0, 7)] with gain 8.88906 started at 2025-07-26 17:49:59\n",
      "   Noise sweep [(0, 0, 8)] with gain 12.45031 started at 2025-07-26 20:41:12\n",
      "   Noise sweep [(0, 0, 9)] with gain 15.60675 started at 2025-07-26 23:32:25\n",
      "   Noise sweep [(0, 0, 10)] with gain 19.55783 started at 2025-07-27 02:23:38\n",
      "   Noise sweep [(0, 0, 11)] with gain 21.40216 started at 2025-07-27 05:14:51\n",
      "   Noise sweep [(0, 0, 12)] with gain 23.09647 started at 2025-07-27 08:06:03\n",
      "   Noise sweep [(0, 0, 13)] with gain 25.02824 started at 2025-07-27 10:57:16\n",
      "   Noise sweep [(0, 0, 14)] with gain 26.46757 started at 2025-07-27 13:48:29\n",
      "   Noise sweep [(0, 0, 15)] with gain 24.3582 started at 2025-07-27 16:39:42\n",
      "Run time: 2:51:13.883900\n"
     ]
    }
   ],
   "source": [
    "TWPA.sweep_noise(gain_tr1=-20, gain_tr2=-20, gain_tr2_max=50, dc_range=[1.6, 2.2, 1], \n",
    "            pf_range=[9.27e9,14.5e9,1], \n",
    "            pp_range=[-10,14,21], file_name='Noise_sweep_10mK_power_only_high_band_5_avg_50_nop_501')"
   ]
  },
  {
   "cell_type": "code",
   "execution_count": 14,
   "id": "d43c9551",
   "metadata": {},
   "outputs": [],
   "source": [
    "anapico.set_off(1)"
   ]
  },
  {
   "cell_type": "code",
   "execution_count": 15,
   "id": "1fe3b453",
   "metadata": {},
   "outputs": [],
   "source": [
    "dc.set_volt(0)"
   ]
  },
  {
   "cell_type": "code",
   "execution_count": 16,
   "id": "566b5b26",
   "metadata": {},
   "outputs": [],
   "source": [
    "dc.set_off()"
   ]
  },
  {
   "cell_type": "code",
   "execution_count": 40,
   "id": "a97aebc0",
   "metadata": {},
   "outputs": [],
   "source": [
    "# test best gain point\n",
    "\n",
    "\n",
    "\n",
    "vna.set_band(1000)\n",
    "vna.set_nop(1001)\n",
    "vna.set_lin()\n",
    "vna.set_freq_start_stop(4e9, 6e9, vna.get_nop())\n",
    "\n",
    "anapico.set_off(1)\n",
    "\n",
    "dc.set_volt(0)\n",
    "vna.set_power(-10)\n",
    "# time.sleep(60)\n",
    "mag_ref, pha_ref = vna.get_data()"
   ]
  },
  {
   "cell_type": "markdown",
   "id": "94206ee9",
   "metadata": {},
   "source": [
    "# VNA power sweep"
   ]
  },
  {
   "cell_type": "code",
   "execution_count": 12,
   "id": "4d6b76df",
   "metadata": {},
   "outputs": [
    {
     "data": {
      "text/plain": [
       "array([ 7.        ,  7.77777778,  8.55555556,  9.33333333, 10.11111111,\n",
       "       10.88888889, 11.66666667, 12.44444444, 13.22222222, 14.        ])"
      ]
     },
     "execution_count": 12,
     "metadata": {},
     "output_type": "execute_result"
    }
   ],
   "source": [
    "np.linspace(7,14,10)"
   ]
  },
  {
   "cell_type": "code",
   "execution_count": 59,
   "id": "1fc9f51a",
   "metadata": {},
   "outputs": [
    {
     "name": "stdout",
     "output_type": "stream",
     "text": [
      "Script started at 2025-08-03 21:48:25\n",
      "\n",
      "\n",
      "New DC set to 2.374 V at 2025-08-03 21:48:25\n",
      "   Noise sweep [(0, 0, 0)] with gain 3.91203 started at 2025-08-03 21:48:31\n",
      "   Noise sweep [(0, 0, 1)] with gain 4.82573 started at 2025-08-03 21:55:57\n",
      "   Noise sweep [(0, 0, 2)] with gain 5.69754 started at 2025-08-03 22:03:23\n",
      "   Noise sweep [(0, 0, 3)] with gain 6.64303 started at 2025-08-03 22:10:49\n",
      "   Noise sweep [(0, 0, 4)] with gain 7.54915 started at 2025-08-03 22:18:15\n",
      "   Noise sweep [(0, 0, 5)] with gain 8.15221 started at 2025-08-03 22:25:41\n",
      "   Noise sweep [(0, 0, 6)] with gain 8.85619 started at 2025-08-03 22:33:07\n",
      "   Noise sweep [(0, 0, 7)] with gain 11.86541 started at 2025-08-03 22:40:33\n",
      "   Noise sweep [(0, 0, 8)] with gain 13.0088 started at 2025-08-03 22:47:59\n",
      "   Noise sweep [(0, 0, 9)] with gain 13.94607 started at 2025-08-03 22:55:25\n",
      "   Noise sweep [(0, 0, 10)] with gain 15.92381 started at 2025-08-03 23:02:51\n",
      "   Noise sweep [(0, 0, 11)] with gain 18.91191 started at 2025-08-03 23:10:16\n",
      "   Noise sweep [(0, 0, 12)] with gain 18.61239 started at 2025-08-03 23:17:42\n",
      "   Noise sweep [(0, 0, 13)] with gain 18.44067 started at 2025-08-03 23:25:08\n",
      "   Noise sweep [(0, 0, 14)] with gain 22.27474 started at 2025-08-03 23:32:34\n",
      "   Noise sweep [(0, 0, 15)] with gain 20.41813 started at 2025-08-03 23:40:00\n",
      "   Noise sweep [(0, 0, 16)] with gain 8.47993 started at 2025-08-03 23:47:26\n",
      "   Noise sweep [(0, 0, 17)] with gain 4.96342 started at 2025-08-03 23:54:52\n",
      "   Noise sweep [(0, 0, 18)] with gain -1.70131 started at 2025-08-04 00:02:18\n",
      "   Noise sweep [(0, 0, 19)] with gain -12.07606 started at 2025-08-04 00:09:44\n",
      "   Noise sweep [(0, 0, 20)] with gain -20.07334 started at 2025-08-04 00:17:10\n",
      "Run time: 0:07:25.285533\n"
     ]
    }
   ],
   "source": [
    "TWPA.vna_band_fast=1000\n",
    "TWPA.vna_nop_fast=500\n",
    "TWPA.fft_avgs = 20\n",
    "TWPA.vna_band_slow = 20\n",
    "TWPA.vna_nop_slow = 201\n",
    "\n",
    "TWPA.sweep_noise(gain_tr1=-50, gain_tr2=-50, gain_tr2_max=50, dc_range=[2.374, 2.375, 1], \n",
    "            pf_range=[9.205e9, 9.2055e9, 1], \n",
    "            pp_range=[-5,14,20], \n",
    "            file_name=r'Noise_sweep_20_20_201_{}_{}'.format(2.374, 9.205))\n",
    "    "
   ]
  },
  {
   "cell_type": "code",
   "execution_count": 60,
   "id": "42911e0e",
   "metadata": {},
   "outputs": [
    {
     "name": "stdout",
     "output_type": "stream",
     "text": [
      "Script started at 2025-08-04 00:24:35\n",
      "\n",
      "\n",
      "New DC set to 2.372 V at 2025-08-04 00:24:35\n",
      "   Noise sweep [(0, 0, 0)] with gain 4.20202 started at 2025-08-04 00:24:42\n",
      "   Noise sweep [(0, 0, 1)] with gain 5.23418 started at 2025-08-04 00:28:25\n",
      "   Noise sweep [(0, 0, 2)] with gain 6.30804 started at 2025-08-04 00:32:09\n",
      "   Noise sweep [(0, 0, 3)] with gain 7.02289 started at 2025-08-04 00:35:53\n",
      "   Noise sweep [(0, 0, 4)] with gain 8.64769 started at 2025-08-04 00:39:36\n",
      "   Noise sweep [(0, 0, 5)] with gain 12.65145 started at 2025-08-04 00:43:20\n",
      "   Noise sweep [(0, 0, 6)] with gain 14.75801 started at 2025-08-04 00:47:03\n",
      "   Noise sweep [(0, 0, 7)] with gain 19.14303 started at 2025-08-04 00:50:47\n",
      "   Noise sweep [(0, 0, 8)] with gain 17.27779 started at 2025-08-04 00:54:31\n",
      "   Noise sweep [(0, 0, 9)] with gain 22.52581 started at 2025-08-04 00:58:14\n",
      "   Noise sweep [(0, 0, 10)] with gain 21.25658 started at 2025-08-04 01:01:58\n",
      "   Noise sweep [(0, 0, 11)] with gain 6.36979 started at 2025-08-04 01:05:42\n",
      "   Noise sweep [(0, 0, 12)] with gain -4.59054 started at 2025-08-04 01:09:25\n",
      "   Noise sweep [(0, 0, 13)] with gain -20.159 started at 2025-08-04 01:13:09\n",
      "\n",
      "\n",
      "New DC set to 2.3729999999999998 V at 2025-08-04 01:16:52\n",
      "   Noise sweep [(1, 0, 0)] with gain 3.24832 started at 2025-08-04 01:16:58\n",
      "   Noise sweep [(1, 0, 1)] with gain 5.22989 started at 2025-08-04 01:20:42\n",
      "   Noise sweep [(1, 0, 2)] with gain 6.44087 started at 2025-08-04 01:24:25\n",
      "   Noise sweep [(1, 0, 3)] with gain 7.38877 started at 2025-08-04 01:28:09\n",
      "   Noise sweep [(1, 0, 4)] with gain 8.42024 started at 2025-08-04 01:31:53\n",
      "   Noise sweep [(1, 0, 5)] with gain 12.42665 started at 2025-08-04 01:35:36\n",
      "   Noise sweep [(1, 0, 6)] with gain 13.98808 started at 2025-08-04 01:39:20\n",
      "   Noise sweep [(1, 0, 7)] with gain 17.3031 started at 2025-08-04 01:43:03\n",
      "   Noise sweep [(1, 0, 8)] with gain 17.98621 started at 2025-08-04 01:46:47\n",
      "   Noise sweep [(1, 0, 9)] with gain 21.03807 started at 2025-08-04 01:50:30\n",
      "   Noise sweep [(1, 0, 10)] with gain 20.91679 started at 2025-08-04 01:54:14\n",
      "   Noise sweep [(1, 0, 11)] with gain 6.28808 started at 2025-08-04 01:57:58\n",
      "   Noise sweep [(1, 0, 12)] with gain -4.73728 started at 2025-08-04 02:01:41\n",
      "   Noise sweep [(1, 0, 13)] with gain -20.23029 started at 2025-08-04 02:05:25\n",
      "\n",
      "\n",
      "New DC set to 2.3739999999999997 V at 2025-08-04 02:09:08\n",
      "   Noise sweep [(2, 0, 0)] with gain 3.15027 started at 2025-08-04 02:09:14\n",
      "   Noise sweep [(2, 0, 1)] with gain 5.16757 started at 2025-08-04 02:12:58\n",
      "   Noise sweep [(2, 0, 2)] with gain 6.4969 started at 2025-08-04 02:16:41\n",
      "   Noise sweep [(2, 0, 3)] with gain 7.76943 started at 2025-08-04 02:20:25\n",
      "   Noise sweep [(2, 0, 4)] with gain 8.47833 started at 2025-08-04 02:24:09\n",
      "   Noise sweep [(2, 0, 5)] with gain 12.23737 started at 2025-08-04 02:27:52\n",
      "   Noise sweep [(2, 0, 6)] with gain 13.41112 started at 2025-08-04 02:31:36\n",
      "   Noise sweep [(2, 0, 7)] with gain 15.93689 started at 2025-08-04 02:35:19\n",
      "   Noise sweep [(2, 0, 8)] with gain 19.01548 started at 2025-08-04 02:39:03\n",
      "   Noise sweep [(2, 0, 9)] with gain 19.73568 started at 2025-08-04 02:42:47\n",
      "   Noise sweep [(2, 0, 10)] with gain 20.44822 started at 2025-08-04 02:46:30\n",
      "   Noise sweep [(2, 0, 11)] with gain 6.23148 started at 2025-08-04 02:50:14\n",
      "   Noise sweep [(2, 0, 12)] with gain -4.82665 started at 2025-08-04 02:53:57\n",
      "   Noise sweep [(2, 0, 13)] with gain -20.01891 started at 2025-08-04 02:57:41\n",
      "\n",
      "\n",
      "New DC set to 2.375 V at 2025-08-04 03:01:24\n",
      "   Noise sweep [(3, 0, 0)] with gain 3.95586 started at 2025-08-04 03:01:30\n",
      "   Noise sweep [(3, 0, 1)] with gain 5.08309 started at 2025-08-04 03:05:14\n",
      "   Noise sweep [(3, 0, 2)] with gain 6.46323 started at 2025-08-04 03:08:58\n",
      "   Noise sweep [(3, 0, 3)] with gain 7.98617 started at 2025-08-04 03:12:41\n",
      "   Noise sweep [(3, 0, 4)] with gain 8.89136 started at 2025-08-04 03:16:25\n",
      "   Noise sweep [(3, 0, 5)] with gain 11.95252 started at 2025-08-04 03:20:08\n",
      "   Noise sweep [(3, 0, 6)] with gain 13.09688 started at 2025-08-04 03:23:52\n",
      "   Noise sweep [(3, 0, 7)] with gain 14.96439 started at 2025-08-04 03:27:35\n",
      "   Noise sweep [(3, 0, 8)] with gain 19.46831 started at 2025-08-04 03:31:19\n",
      "   Noise sweep [(3, 0, 9)] with gain 18.95787 started at 2025-08-04 03:35:03\n",
      "   Noise sweep [(3, 0, 10)] with gain 20.11259 started at 2025-08-04 03:38:46\n",
      "   Noise sweep [(3, 0, 11)] with gain 6.08091 started at 2025-08-04 03:42:30\n",
      "   Noise sweep [(3, 0, 12)] with gain -4.95686 started at 2025-08-04 03:46:13\n",
      "   Noise sweep [(3, 0, 13)] with gain -20.05922 started at 2025-08-04 03:49:57\n",
      "\n",
      "\n",
      "New DC set to 2.376 V at 2025-08-04 03:53:39\n",
      "   Noise sweep [(4, 0, 0)] with gain 3.82988 started at 2025-08-04 03:53:46\n",
      "   Noise sweep [(4, 0, 1)] with gain 4.91965 started at 2025-08-04 03:57:30\n",
      "   Noise sweep [(4, 0, 2)] with gain 6.34601 started at 2025-08-04 04:01:13\n",
      "   Noise sweep [(4, 0, 3)] with gain 7.99403 started at 2025-08-04 04:04:57\n",
      "   Noise sweep [(4, 0, 4)] with gain 9.42421 started at 2025-08-04 04:08:40\n",
      "   Noise sweep [(4, 0, 5)] with gain 11.57802 started at 2025-08-04 04:12:24\n",
      "   Noise sweep [(4, 0, 6)] with gain 13.04216 started at 2025-08-04 04:16:07\n",
      "   Noise sweep [(4, 0, 7)] with gain 14.26349 started at 2025-08-04 04:19:51\n",
      "   Noise sweep [(4, 0, 8)] with gain 18.13325 started at 2025-08-04 04:23:35\n",
      "   Noise sweep [(4, 0, 9)] with gain 18.59044 started at 2025-08-04 04:27:18\n",
      "   Noise sweep [(4, 0, 10)] with gain 19.63871 started at 2025-08-04 04:31:02\n",
      "   Noise sweep [(4, 0, 11)] with gain 6.02639 started at 2025-08-04 04:34:45\n",
      "   Noise sweep [(4, 0, 12)] with gain -4.92463 started at 2025-08-04 04:38:29\n",
      "   Noise sweep [(4, 0, 13)] with gain -19.88537 started at 2025-08-04 04:42:12\n",
      "Run time: 0:03:42.756956\n"
     ]
    }
   ],
   "source": [
    "TWPA.vna_band_fast=1000\n",
    "TWPA.vna_nop_fast=500\n",
    "TWPA.fft_avgs = 10\n",
    "TWPA.vna_band_slow = 20\n",
    "TWPA.vna_nop_slow = 201\n",
    "\n",
    "TWPA.sweep_noise(gain_tr1=-50, gain_tr2=-50, gain_tr2_max=50, dc_range=[2.372, 2.376, 5], \n",
    "            pf_range=[9.205e9, 9.2055e9, 1], \n",
    "            pp_range=[-5,14,15], \n",
    "            file_name=r'Noise_sweep_good_10_20_201_{}_{}'.format(2.374, 9.205))\n",
    "    "
   ]
  },
  {
   "cell_type": "code",
   "execution_count": 50,
   "id": "5c61a748",
   "metadata": {},
   "outputs": [
    {
     "name": "stdout",
     "output_type": "stream",
     "text": [
      "Script started at 2025-08-03 01:31:59\n",
      "\n",
      "\n",
      "New DC set to 1.59 V at 2025-08-03 01:31:59\n",
      "   Noise sweep [(0, 0, 0)] with gain 6.05773 started at 2025-08-03 01:32:06\n",
      "   Noise sweep [(0, 0, 1)] with gain 7.97576 started at 2025-08-03 01:33:05\n",
      "   Noise sweep [(0, 0, 2)] with gain 10.42233 started at 2025-08-03 01:34:05\n",
      "   Noise sweep [(0, 0, 3)] with gain 13.23255 started at 2025-08-03 01:35:05\n",
      "   Noise sweep [(0, 0, 4)] with gain 16.027 started at 2025-08-03 01:36:05\n",
      "   Noise sweep [(0, 0, 5)] with gain 18.65216 started at 2025-08-03 01:37:05\n",
      "   Noise sweep [(0, 0, 6)] with gain 27.1833 started at 2025-08-03 01:38:05\n",
      "   Noise sweep [(0, 0, 7)] with gain 24.65792 started at 2025-08-03 01:39:05\n",
      "   Noise sweep [(0, 0, 8)] with gain 12.05191 started at 2025-08-03 01:40:05\n",
      "   Noise sweep [(0, 0, 9)] with gain 8.33189 started at 2025-08-03 01:41:05\n",
      "   Noise sweep [(0, 1, 0)] with gain 6.12601 started at 2025-08-03 01:42:05\n",
      "   Noise sweep [(0, 1, 1)] with gain 8.0865 started at 2025-08-03 01:43:04\n",
      "   Noise sweep [(0, 1, 2)] with gain 10.57434 started at 2025-08-03 01:44:04\n",
      "   Noise sweep [(0, 1, 3)] with gain 13.35436 started at 2025-08-03 01:45:04\n",
      "   Noise sweep [(0, 1, 4)] with gain 16.11335 started at 2025-08-03 01:46:04\n",
      "   Noise sweep [(0, 1, 5)] with gain 18.78022 started at 2025-08-03 01:47:04\n",
      "   Noise sweep [(0, 1, 6)] with gain 27.51585 started at 2025-08-03 01:48:04\n",
      "   Noise sweep [(0, 1, 7)] with gain 23.89558 started at 2025-08-03 01:49:03\n",
      "   Noise sweep [(0, 1, 8)] with gain 12.02761 started at 2025-08-03 01:50:03\n",
      "   Noise sweep [(0, 1, 9)] with gain 8.33884 started at 2025-08-03 01:51:03\n",
      "   Noise sweep [(0, 2, 0)] with gain 6.23741 started at 2025-08-03 01:52:03\n",
      "   Noise sweep [(0, 2, 1)] with gain 8.20818 started at 2025-08-03 01:53:03\n",
      "   Noise sweep [(0, 2, 2)] with gain 10.71222 started at 2025-08-03 01:54:03\n",
      "   Noise sweep [(0, 2, 3)] with gain 13.43256 started at 2025-08-03 01:55:03\n",
      "   Noise sweep [(0, 2, 4)] with gain 16.15233 started at 2025-08-03 01:56:03\n",
      "   Noise sweep [(0, 2, 5)] with gain 18.70099 started at 2025-08-03 01:57:03\n",
      "   Noise sweep [(0, 2, 6)] with gain 27.73956 started at 2025-08-03 01:58:03\n",
      "   Noise sweep [(0, 2, 7)] with gain 23.21325 started at 2025-08-03 01:59:02\n",
      "   Noise sweep [(0, 2, 8)] with gain 12.0218 started at 2025-08-03 02:00:02\n",
      "   Noise sweep [(0, 2, 9)] with gain 8.38164 started at 2025-08-03 02:01:02\n",
      "\n",
      "\n",
      "New DC set to 1.5966666666666667 V at 2025-08-03 02:02:01\n",
      "   Noise sweep [(1, 0, 0)] with gain 6.07499 started at 2025-08-03 02:02:08\n",
      "   Noise sweep [(1, 0, 1)] with gain 8.69054 started at 2025-08-03 02:03:08\n",
      "   Noise sweep [(1, 0, 2)] with gain 10.13643 started at 2025-08-03 02:04:08\n",
      "   Noise sweep [(1, 0, 3)] with gain 12.95155 started at 2025-08-03 02:05:08\n",
      "   Noise sweep [(1, 0, 4)] with gain 16.99637 started at 2025-08-03 02:06:08\n",
      "   Noise sweep [(1, 0, 5)] with gain 25.13073 started at 2025-08-03 02:07:08\n",
      "   Noise sweep [(1, 0, 6)] with gain 28.58306 started at 2025-08-03 02:08:08\n",
      "   Noise sweep [(1, 0, 7)] with gain 23.58039 started at 2025-08-03 02:09:07\n",
      "   Noise sweep [(1, 0, 8)] with gain 12.26512 started at 2025-08-03 02:10:07\n",
      "   Noise sweep [(1, 0, 9)] with gain 8.4222 started at 2025-08-03 02:11:07\n",
      "   Noise sweep [(1, 1, 0)] with gain 6.82804 started at 2025-08-03 02:12:07\n",
      "   Noise sweep [(1, 1, 1)] with gain 8.72245 started at 2025-08-03 02:13:07\n",
      "   Noise sweep [(1, 1, 2)] with gain 10.10027 started at 2025-08-03 02:14:07\n",
      "   Noise sweep [(1, 1, 3)] with gain 13.14309 started at 2025-08-03 02:15:07\n",
      "   Noise sweep [(1, 1, 4)] with gain 17.27436 started at 2025-08-03 02:16:07\n",
      "   Noise sweep [(1, 1, 5)] with gain 25.46254 started at 2025-08-03 02:17:07\n",
      "   Noise sweep [(1, 1, 6)] with gain 28.76045 started at 2025-08-03 02:18:06\n",
      "   Noise sweep [(1, 1, 7)] with gain 22.96297 started at 2025-08-03 02:19:06\n",
      "   Noise sweep [(1, 1, 8)] with gain 12.2561 started at 2025-08-03 02:20:06\n",
      "   Noise sweep [(1, 1, 9)] with gain 8.42304 started at 2025-08-03 02:21:06\n",
      "   Noise sweep [(1, 2, 0)] with gain 6.92082 started at 2025-08-03 02:22:06\n",
      "   Noise sweep [(1, 2, 1)] with gain 8.78336 started at 2025-08-03 02:23:06\n",
      "   Noise sweep [(1, 2, 2)] with gain 10.0951 started at 2025-08-03 02:24:06\n",
      "   Noise sweep [(1, 2, 3)] with gain 13.41431 started at 2025-08-03 02:25:06\n",
      "   Noise sweep [(1, 2, 4)] with gain 17.7005 started at 2025-08-03 02:26:06\n",
      "   Noise sweep [(1, 2, 5)] with gain 25.85046 started at 2025-08-03 02:27:06\n",
      "   Noise sweep [(1, 2, 6)] with gain 28.89038 started at 2025-08-03 02:28:06\n",
      "   Noise sweep [(1, 2, 7)] with gain 22.52188 started at 2025-08-03 02:29:05\n",
      "   Noise sweep [(1, 2, 8)] with gain 12.20786 started at 2025-08-03 02:30:05\n",
      "   Noise sweep [(1, 2, 9)] with gain 8.44871 started at 2025-08-03 02:31:05\n",
      "\n",
      "\n",
      "New DC set to 1.6033333333333335 V at 2025-08-03 02:32:04\n",
      "   Noise sweep [(2, 0, 0)] with gain 5.95815 started at 2025-08-03 02:32:11\n",
      "   Noise sweep [(2, 0, 1)] with gain 8.93473 started at 2025-08-03 02:33:11\n",
      "   Noise sweep [(2, 0, 2)] with gain 13.2888 started at 2025-08-03 02:34:11\n",
      "   Noise sweep [(2, 0, 3)] with gain 18.77652 started at 2025-08-03 02:35:11\n",
      "   Noise sweep [(2, 0, 4)] with gain 24.32646 started at 2025-08-03 02:36:11\n",
      "   Noise sweep [(2, 0, 5)] with gain 26.78563 started at 2025-08-03 02:37:11\n",
      "   Noise sweep [(2, 0, 6)] with gain 30.41465 started at 2025-08-03 02:38:10\n",
      "   Noise sweep [(2, 0, 7)] with gain 23.98345 started at 2025-08-03 02:39:10\n",
      "   Noise sweep [(2, 0, 8)] with gain 12.41219 started at 2025-08-03 02:40:10\n",
      "   Noise sweep [(2, 0, 9)] with gain 8.28325 started at 2025-08-03 02:41:10\n",
      "   Noise sweep [(2, 1, 0)] with gain 6.60067 started at 2025-08-03 02:42:10\n",
      "   Noise sweep [(2, 1, 1)] with gain 9.22599 started at 2025-08-03 02:43:10\n",
      "   Noise sweep [(2, 1, 2)] with gain 13.6594 started at 2025-08-03 02:44:10\n",
      "   Noise sweep [(2, 1, 3)] with gain 19.21909 started at 2025-08-03 02:45:10\n",
      "   Noise sweep [(2, 1, 4)] with gain 24.46842 started at 2025-08-03 02:46:10\n",
      "   Noise sweep [(2, 1, 5)] with gain 26.86576 started at 2025-08-03 02:47:10\n",
      "   Noise sweep [(2, 1, 6)] with gain 30.45227 started at 2025-08-03 02:48:10\n",
      "   Noise sweep [(2, 1, 7)] with gain 23.6355 started at 2025-08-03 02:49:10\n",
      "   Noise sweep [(2, 1, 8)] with gain 12.3905 started at 2025-08-03 02:50:09\n",
      "   Noise sweep [(2, 1, 9)] with gain 8.40626 started at 2025-08-03 02:51:09\n",
      "   Noise sweep [(2, 2, 0)] with gain 6.66214 started at 2025-08-03 02:52:09\n",
      "   Noise sweep [(2, 2, 1)] with gain 9.5488 started at 2025-08-03 02:53:09\n",
      "   Noise sweep [(2, 2, 2)] with gain 14.03417 started at 2025-08-03 02:54:09\n",
      "   Noise sweep [(2, 2, 3)] with gain 19.64309 started at 2025-08-03 02:55:09\n",
      "   Noise sweep [(2, 2, 4)] with gain 24.60692 started at 2025-08-03 02:56:09\n",
      "   Noise sweep [(2, 2, 5)] with gain 26.89193 started at 2025-08-03 02:57:09\n",
      "   Noise sweep [(2, 2, 6)] with gain 30.44743 started at 2025-08-03 02:58:09\n",
      "   Noise sweep [(2, 2, 7)] with gain 23.39186 started at 2025-08-03 02:59:09\n",
      "   Noise sweep [(2, 2, 8)] with gain 12.37633 started at 2025-08-03 03:00:09\n",
      "   Noise sweep [(2, 2, 9)] with gain 8.46753 started at 2025-08-03 03:01:09\n",
      "\n",
      "\n",
      "New DC set to 1.61 V at 2025-08-03 03:02:08\n",
      "   Noise sweep [(3, 0, 0)] with gain 7.76267 started at 2025-08-03 03:02:15\n",
      "   Noise sweep [(3, 0, 1)] with gain 12.03427 started at 2025-08-03 03:03:15\n",
      "   Noise sweep [(3, 0, 2)] with gain 16.0642 started at 2025-08-03 03:04:14\n",
      "   Noise sweep [(3, 0, 3)] with gain 20.90541 started at 2025-08-03 03:05:14\n",
      "   Noise sweep [(3, 0, 4)] with gain 24.40945 started at 2025-08-03 03:06:14\n",
      "   Noise sweep [(3, 0, 5)] with gain 26.74159 started at 2025-08-03 03:07:14\n",
      "   Noise sweep [(3, 0, 6)] with gain 29.44134 started at 2025-08-03 03:08:14\n",
      "   Noise sweep [(3, 0, 7)] with gain 26.3446 started at 2025-08-03 03:09:14\n",
      "   Noise sweep [(3, 0, 8)] with gain 12.27504 started at 2025-08-03 03:10:14\n",
      "   Noise sweep [(3, 0, 9)] with gain 8.23949 started at 2025-08-03 03:11:14\n",
      "   Noise sweep [(3, 1, 0)] with gain 8.84996 started at 2025-08-03 03:12:14\n",
      "   Noise sweep [(3, 1, 1)] with gain 12.13743 started at 2025-08-03 03:13:14\n",
      "   Noise sweep [(3, 1, 2)] with gain 16.11032 started at 2025-08-03 03:14:14\n",
      "   Noise sweep [(3, 1, 3)] with gain 20.96108 started at 2025-08-03 03:15:13\n"
     ]
    },
    {
     "name": "stdout",
     "output_type": "stream",
     "text": [
      "   Noise sweep [(3, 1, 4)] with gain 24.38246 started at 2025-08-03 03:16:13\n",
      "   Noise sweep [(3, 1, 5)] with gain 26.69718 started at 2025-08-03 03:17:13\n",
      "   Noise sweep [(3, 1, 6)] with gain 29.35787 started at 2025-08-03 03:18:13\n",
      "   Noise sweep [(3, 1, 7)] with gain 25.78724 started at 2025-08-03 03:19:13\n",
      "   Noise sweep [(3, 1, 8)] with gain 12.29014 started at 2025-08-03 03:20:13\n",
      "   Noise sweep [(3, 1, 9)] with gain 8.30634 started at 2025-08-03 03:21:13\n",
      "   Noise sweep [(3, 2, 0)] with gain 8.96308 started at 2025-08-03 03:22:13\n",
      "   Noise sweep [(3, 2, 1)] with gain 12.24915 started at 2025-08-03 03:23:13\n",
      "   Noise sweep [(3, 2, 2)] with gain 16.17316 started at 2025-08-03 03:24:12\n",
      "   Noise sweep [(3, 2, 3)] with gain 21.00893 started at 2025-08-03 03:25:12\n",
      "   Noise sweep [(3, 2, 4)] with gain 24.35452 started at 2025-08-03 03:26:12\n",
      "   Noise sweep [(3, 2, 5)] with gain 26.70593 started at 2025-08-03 03:27:12\n",
      "   Noise sweep [(3, 2, 6)] with gain 29.28331 started at 2025-08-03 03:28:12\n",
      "   Noise sweep [(3, 2, 7)] with gain 25.16887 started at 2025-08-03 03:29:12\n",
      "   Noise sweep [(3, 2, 8)] with gain 12.26958 started at 2025-08-03 03:30:12\n",
      "   Noise sweep [(3, 2, 9)] with gain 8.32097 started at 2025-08-03 03:31:12\n",
      "Run time: 0:00:59.059878\n"
     ]
    }
   ],
   "source": [
    "TWPA.vna_band_fast=1000\n",
    "TWPA.vna_nop_fast=500\n",
    "TWPA.fft_avgs = 10\n",
    "TWPA.vna_band_slow = 200\n",
    "TWPA.vna_nop_slow = 501\n",
    "\n",
    "TWPA.sweep_noise(gain_tr1=-50, gain_tr2=-50, gain_tr2_max=50, dc_range=[1.59, 1.61, 4], \n",
    "            pf_range=[9.143e9, 9.145e9, 3], \n",
    "            pp_range=[0,14,10], \n",
    "            file_name=r'Noise_sweep_10_200_501_{}_{}'.format(1.6, 9.144))\n",
    "    "
   ]
  },
  {
   "cell_type": "code",
   "execution_count": 52,
   "id": "fef39df0",
   "metadata": {},
   "outputs": [
    {
     "name": "stdout",
     "output_type": "stream",
     "text": [
      "Script started at 2025-08-03 05:32:27\n",
      "\n",
      "\n",
      "New DC set to 1.572 V at 2025-08-03 05:32:27\n",
      "   Noise sweep [(0, 0, 0)] with gain 5.17019 started at 2025-08-03 05:32:34\n",
      "   Noise sweep [(0, 0, 1)] with gain 9.49727 started at 2025-08-03 05:33:34\n",
      "   Noise sweep [(0, 0, 2)] with gain 12.53021 started at 2025-08-03 05:34:34\n",
      "   Noise sweep [(0, 0, 3)] with gain 11.91376 started at 2025-08-03 05:35:34\n",
      "   Noise sweep [(0, 0, 4)] with gain 5.56859 started at 2025-08-03 05:36:33\n",
      "   Noise sweep [(0, 0, 5)] with gain 11.73423 started at 2025-08-03 05:37:33\n",
      "   Noise sweep [(0, 0, 6)] with gain 19.28478 started at 2025-08-03 05:38:33\n",
      "   Noise sweep [(0, 0, 7)] with gain 2.91219 started at 2025-08-03 05:39:33\n",
      "   Noise sweep [(0, 0, 8)] with gain -14.5617 started at 2025-08-03 05:40:33\n",
      "   Noise sweep [(0, 0, 9)] with gain -22.00176 started at 2025-08-03 05:41:33\n",
      "   Noise sweep [(0, 1, 0)] with gain 6.87791 started at 2025-08-03 05:42:33\n",
      "   Noise sweep [(0, 1, 1)] with gain 9.75876 started at 2025-08-03 05:43:33\n",
      "   Noise sweep [(0, 1, 2)] with gain 12.46417 started at 2025-08-03 05:44:33\n",
      "   Noise sweep [(0, 1, 3)] with gain 11.37794 started at 2025-08-03 05:45:33\n",
      "   Noise sweep [(0, 1, 4)] with gain 5.48371 started at 2025-08-03 05:46:33\n",
      "   Noise sweep [(0, 1, 5)] with gain 11.85112 started at 2025-08-03 05:47:32\n",
      "   Noise sweep [(0, 1, 6)] with gain 19.2648 started at 2025-08-03 05:48:32\n",
      "   Noise sweep [(0, 1, 7)] with gain 1.90481 started at 2025-08-03 05:49:32\n",
      "   Noise sweep [(0, 1, 8)] with gain -15.95332 started at 2025-08-03 05:50:32\n",
      "   Noise sweep [(0, 1, 9)] with gain -22.14552 started at 2025-08-03 05:51:32\n",
      "   Noise sweep [(0, 2, 0)] with gain 7.00369 started at 2025-08-03 05:52:32\n",
      "   Noise sweep [(0, 2, 1)] with gain 10.04754 started at 2025-08-03 05:53:32\n",
      "   Noise sweep [(0, 2, 2)] with gain 12.45973 started at 2025-08-03 05:54:32\n",
      "   Noise sweep [(0, 2, 3)] with gain 10.74345 started at 2025-08-03 05:55:32\n",
      "   Noise sweep [(0, 2, 4)] with gain 5.60576 started at 2025-08-03 05:56:32\n",
      "   Noise sweep [(0, 2, 5)] with gain 11.85793 started at 2025-08-03 05:57:32\n",
      "   Noise sweep [(0, 2, 6)] with gain 19.19195 started at 2025-08-03 05:58:32\n",
      "   Noise sweep [(0, 2, 7)] with gain 0.76904 started at 2025-08-03 05:59:32\n",
      "   Noise sweep [(0, 2, 8)] with gain -17.37935 started at 2025-08-03 06:00:31\n",
      "   Noise sweep [(0, 2, 9)] with gain -22.24244 started at 2025-08-03 06:01:31\n",
      "\n",
      "\n",
      "New DC set to 1.5736666666666668 V at 2025-08-03 06:02:30\n",
      "   Noise sweep [(1, 0, 0)] with gain 5.53083 started at 2025-08-03 06:02:37\n",
      "   Noise sweep [(1, 0, 1)] with gain 10.08208 started at 2025-08-03 06:03:37\n",
      "   Noise sweep [(1, 0, 2)] with gain 12.70246 started at 2025-08-03 06:04:37\n",
      "   Noise sweep [(1, 0, 3)] with gain 11.34034 started at 2025-08-03 06:05:37\n",
      "   Noise sweep [(1, 0, 4)] with gain 5.83296 started at 2025-08-03 06:06:37\n",
      "   Noise sweep [(1, 0, 5)] with gain 11.9636 started at 2025-08-03 06:07:37\n",
      "   Noise sweep [(1, 0, 6)] with gain 19.46465 started at 2025-08-03 06:08:37\n",
      "   Noise sweep [(1, 0, 7)] with gain 2.76965 started at 2025-08-03 06:09:37\n",
      "   Noise sweep [(1, 0, 8)] with gain -14.75427 started at 2025-08-03 06:10:37\n",
      "   Noise sweep [(1, 0, 9)] with gain -22.15546 started at 2025-08-03 06:11:37\n",
      "   Noise sweep [(1, 1, 0)] with gain 7.17757 started at 2025-08-03 06:12:36\n",
      "   Noise sweep [(1, 1, 1)] with gain 10.37779 started at 2025-08-03 06:13:36\n",
      "   Noise sweep [(1, 1, 2)] with gain 12.63956 started at 2025-08-03 06:14:36\n",
      "   Noise sweep [(1, 1, 3)] with gain 9.98119 started at 2025-08-03 06:15:36\n",
      "   Noise sweep [(1, 1, 4)] with gain 6.01689 started at 2025-08-03 06:16:36\n",
      "   Noise sweep [(1, 1, 5)] with gain 11.83391 started at 2025-08-03 06:17:36\n",
      "   Noise sweep [(1, 1, 6)] with gain 19.40709 started at 2025-08-03 06:18:36\n",
      "   Noise sweep [(1, 1, 7)] with gain 1.82801 started at 2025-08-03 06:19:36\n",
      "   Noise sweep [(1, 1, 8)] with gain -16.16031 started at 2025-08-03 06:20:36\n",
      "   Noise sweep [(1, 1, 9)] with gain -22.32733 started at 2025-08-03 06:21:36\n",
      "   Noise sweep [(1, 2, 0)] with gain 7.30941 started at 2025-08-03 06:22:36\n",
      "   Noise sweep [(1, 2, 1)] with gain 10.6842 started at 2025-08-03 06:23:36\n",
      "   Noise sweep [(1, 2, 2)] with gain 12.48333 started at 2025-08-03 06:24:36\n",
      "   Noise sweep [(1, 2, 3)] with gain 7.47191 started at 2025-08-03 06:25:36\n",
      "   Noise sweep [(1, 2, 4)] with gain 6.28073 started at 2025-08-03 06:26:36\n",
      "   Noise sweep [(1, 2, 5)] with gain 11.60972 started at 2025-08-03 06:27:36\n",
      "   Noise sweep [(1, 2, 6)] with gain 19.38885 started at 2025-08-03 06:28:36\n",
      "   Noise sweep [(1, 2, 7)] with gain 0.85759 started at 2025-08-03 06:29:36\n",
      "   Noise sweep [(1, 2, 8)] with gain -17.29052 started at 2025-08-03 06:30:35\n",
      "   Noise sweep [(1, 2, 9)] with gain -22.19476 started at 2025-08-03 06:31:35\n",
      "\n",
      "\n",
      "New DC set to 1.5753333333333333 V at 2025-08-03 06:32:35\n",
      "   Noise sweep [(2, 0, 0)] with gain 6.24445 started at 2025-08-03 06:32:41\n",
      "   Noise sweep [(2, 0, 1)] with gain 11.19175 started at 2025-08-03 06:33:41\n",
      "   Noise sweep [(2, 0, 2)] with gain 12.70815 started at 2025-08-03 06:34:41\n",
      "   Noise sweep [(2, 0, 3)] with gain 6.74756 started at 2025-08-03 06:35:41\n",
      "   Noise sweep [(2, 0, 4)] with gain 6.81039 started at 2025-08-03 06:36:41\n",
      "   Noise sweep [(2, 0, 5)] with gain 11.40091 started at 2025-08-03 06:37:41\n",
      "   Noise sweep [(2, 0, 6)] with gain 19.74103 started at 2025-08-03 06:38:40\n",
      "   Noise sweep [(2, 0, 7)] with gain 2.88492 started at 2025-08-03 06:39:40\n",
      "   Noise sweep [(2, 0, 8)] with gain -14.72023 started at 2025-08-03 06:40:40\n",
      "   Noise sweep [(2, 0, 9)] with gain -22.23426 started at 2025-08-03 06:41:40\n",
      "   Noise sweep [(2, 1, 0)] with gain 8.09746 started at 2025-08-03 06:42:40\n",
      "   Noise sweep [(2, 1, 1)] with gain 11.56441 started at 2025-08-03 06:43:40\n",
      "   Noise sweep [(2, 1, 2)] with gain 12.42913 started at 2025-08-03 06:44:40\n",
      "   Noise sweep [(2, 1, 3)] with gain 5.99017 started at 2025-08-03 06:45:40\n",
      "   Noise sweep [(2, 1, 4)] with gain 7.07669 started at 2025-08-03 06:46:39\n",
      "   Noise sweep [(2, 1, 5)] with gain 11.51384 started at 2025-08-03 06:47:39\n",
      "   Noise sweep [(2, 1, 6)] with gain 19.6878 started at 2025-08-03 06:48:39\n",
      "   Noise sweep [(2, 1, 7)] with gain 1.99369 started at 2025-08-03 06:49:39\n",
      "   Noise sweep [(2, 1, 8)] with gain -16.10301 started at 2025-08-03 06:50:39\n",
      "   Noise sweep [(2, 1, 9)] with gain -22.30977 started at 2025-08-03 06:51:39\n",
      "   Noise sweep [(2, 2, 0)] with gain 8.39577 started at 2025-08-03 06:52:39\n",
      "   Noise sweep [(2, 2, 1)] with gain 11.95587 started at 2025-08-03 06:53:39\n",
      "   Noise sweep [(2, 2, 2)] with gain 12.22028 started at 2025-08-03 06:54:39\n",
      "   Noise sweep [(2, 2, 3)] with gain 5.6387 started at 2025-08-03 06:55:39\n",
      "   Noise sweep [(2, 2, 4)] with gain 7.46709 started at 2025-08-03 06:56:39\n",
      "   Noise sweep [(2, 2, 5)] with gain 11.82503 started at 2025-08-03 06:57:39\n",
      "   Noise sweep [(2, 2, 6)] with gain 19.59088 started at 2025-08-03 06:58:38\n",
      "   Noise sweep [(2, 2, 7)] with gain 0.95502 started at 2025-08-03 06:59:38\n",
      "   Noise sweep [(2, 2, 8)] with gain -17.43317 started at 2025-08-03 07:00:38\n",
      "   Noise sweep [(2, 2, 9)] with gain -22.24808 started at 2025-08-03 07:01:38\n",
      "\n",
      "\n",
      "New DC set to 1.577 V at 2025-08-03 07:02:37\n",
      "   Noise sweep [(3, 0, 0)] with gain 7.19545 started at 2025-08-03 07:02:44\n",
      "   Noise sweep [(3, 0, 1)] with gain 12.37991 started at 2025-08-03 07:03:44\n",
      "   Noise sweep [(3, 0, 2)] with gain 12.55664 started at 2025-08-03 07:04:44\n",
      "   Noise sweep [(3, 0, 3)] with gain 5.88116 started at 2025-08-03 07:05:43\n",
      "   Noise sweep [(3, 0, 4)] with gain 8.14894 started at 2025-08-03 07:06:43\n",
      "   Noise sweep [(3, 0, 5)] with gain 16.5744 started at 2025-08-03 07:07:43\n",
      "   Noise sweep [(3, 0, 6)] with gain 20.00658 started at 2025-08-03 07:08:43\n",
      "   Noise sweep [(3, 0, 7)] with gain 3.00136 started at 2025-08-03 07:09:43\n",
      "   Noise sweep [(3, 0, 8)] with gain -14.86325 started at 2025-08-03 07:10:43\n",
      "   Noise sweep [(3, 0, 9)] with gain -22.14647 started at 2025-08-03 07:11:43\n",
      "   Noise sweep [(3, 1, 0)] with gain 9.21228 started at 2025-08-03 07:12:43\n",
      "   Noise sweep [(3, 1, 1)] with gain 12.64627 started at 2025-08-03 07:13:43\n",
      "   Noise sweep [(3, 1, 2)] with gain 12.38197 started at 2025-08-03 07:14:42\n",
      "   Noise sweep [(3, 1, 3)] with gain 13.22183 started at 2025-08-03 07:15:42\n"
     ]
    },
    {
     "name": "stdout",
     "output_type": "stream",
     "text": [
      "   Noise sweep [(3, 1, 4)] with gain 8.70912 started at 2025-08-03 07:16:42\n",
      "   Noise sweep [(3, 1, 5)] with gain 13.19912 started at 2025-08-03 07:17:42\n",
      "   Noise sweep [(3, 1, 6)] with gain 19.89992 started at 2025-08-03 07:18:42\n",
      "   Noise sweep [(3, 1, 7)] with gain 2.18997 started at 2025-08-03 07:19:42\n",
      "   Noise sweep [(3, 1, 8)] with gain -16.30552 started at 2025-08-03 07:20:42\n",
      "   Noise sweep [(3, 1, 9)] with gain -22.23533 started at 2025-08-03 07:21:42\n",
      "   Noise sweep [(3, 2, 0)] with gain 9.5914 started at 2025-08-03 07:22:42\n",
      "   Noise sweep [(3, 2, 1)] with gain 12.76984 started at 2025-08-03 07:23:42\n",
      "   Noise sweep [(3, 2, 2)] with gain 12.23092 started at 2025-08-03 07:24:41\n",
      "   Noise sweep [(3, 2, 3)] with gain 6.00847 started at 2025-08-03 07:25:41\n",
      "   Noise sweep [(3, 2, 4)] with gain 15.93144 started at 2025-08-03 07:26:41\n",
      "   Noise sweep [(3, 2, 5)] with gain 17.42499 started at 2025-08-03 07:27:41\n",
      "   Noise sweep [(3, 2, 6)] with gain 19.78022 started at 2025-08-03 07:28:41\n",
      "   Noise sweep [(3, 2, 7)] with gain 1.08946 started at 2025-08-03 07:29:41\n",
      "   Noise sweep [(3, 2, 8)] with gain -17.49909 started at 2025-08-03 07:30:40\n",
      "   Noise sweep [(3, 2, 9)] with gain -22.40137 started at 2025-08-03 07:31:40\n",
      "Run time: 0:00:59.075628\n"
     ]
    }
   ],
   "source": [
    "TWPA.vna_band_fast=1000\n",
    "TWPA.vna_nop_fast=500\n",
    "TWPA.fft_avgs = 10\n",
    "TWPA.vna_band_slow = 200\n",
    "TWPA.vna_nop_slow = 501\n",
    "\n",
    "TWPA.sweep_noise(gain_tr1=-50, gain_tr2=-50, gain_tr2_max=50, dc_range=[1.572, 1.577, 4], \n",
    "            pf_range=[9.223e9, 9.227e9, 3], \n",
    "            pp_range=[0,14,10], \n",
    "            file_name=r'Noise_sweep_10_200_501_{}_{}'.format(1.575, 9.225))\n",
    "    "
   ]
  },
  {
   "cell_type": "code",
   "execution_count": 53,
   "id": "a2cebcbf",
   "metadata": {},
   "outputs": [
    {
     "name": "stdout",
     "output_type": "stream",
     "text": [
      "Script started at 2025-08-03 07:32:39\n",
      "\n",
      "\n",
      "New DC set to 2.323 V at 2025-08-03 07:32:39\n",
      "   Noise sweep [(0, 0, 0)] with gain 8.31468 started at 2025-08-03 07:32:46\n",
      "   Noise sweep [(0, 0, 1)] with gain 13.81948 started at 2025-08-03 07:33:46\n",
      "   Noise sweep [(0, 0, 2)] with gain 17.31567 started at 2025-08-03 07:34:46\n",
      "   Noise sweep [(0, 0, 3)] with gain 20.26118 started at 2025-08-03 07:35:46\n",
      "   Noise sweep [(0, 0, 4)] with gain 17.20415 started at 2025-08-03 07:36:45\n",
      "   Noise sweep [(0, 0, 5)] with gain 20.78058 started at 2025-08-03 07:37:45\n",
      "   Noise sweep [(0, 0, 6)] with gain 27.8833 started at 2025-08-03 07:38:45\n",
      "   Noise sweep [(0, 0, 7)] with gain 18.10315 started at 2025-08-03 07:39:45\n",
      "   Noise sweep [(0, 0, 8)] with gain 12.96159 started at 2025-08-03 07:40:45\n",
      "   Noise sweep [(0, 0, 9)] with gain 10.27012 started at 2025-08-03 07:41:45\n",
      "   Noise sweep [(0, 1, 0)] with gain 10.49213 started at 2025-08-03 07:42:45\n",
      "   Noise sweep [(0, 1, 1)] with gain 13.98524 started at 2025-08-03 07:43:44\n",
      "   Noise sweep [(0, 1, 2)] with gain 17.38699 started at 2025-08-03 07:44:44\n",
      "   Noise sweep [(0, 1, 3)] with gain 19.34842 started at 2025-08-03 07:45:44\n",
      "   Noise sweep [(0, 1, 4)] with gain 17.64259 started at 2025-08-03 07:46:44\n",
      "   Noise sweep [(0, 1, 5)] with gain 21.11987 started at 2025-08-03 07:47:44\n",
      "   Noise sweep [(0, 1, 6)] with gain 28.74842 started at 2025-08-03 07:48:44\n",
      "   Noise sweep [(0, 1, 7)] with gain 18.11488 started at 2025-08-03 07:49:44\n",
      "   Noise sweep [(0, 1, 8)] with gain 13.02457 started at 2025-08-03 07:50:44\n",
      "   Noise sweep [(0, 1, 9)] with gain 10.35275 started at 2025-08-03 07:51:44\n",
      "   Noise sweep [(0, 2, 0)] with gain 10.64435 started at 2025-08-03 07:52:43\n",
      "   Noise sweep [(0, 2, 1)] with gain 14.15783 started at 2025-08-03 07:53:44\n",
      "   Noise sweep [(0, 2, 2)] with gain 17.43765 started at 2025-08-03 07:54:43\n",
      "   Noise sweep [(0, 2, 3)] with gain 18.83627 started at 2025-08-03 07:55:43\n",
      "   Noise sweep [(0, 2, 4)] with gain 18.52412 started at 2025-08-03 07:56:43\n",
      "   Noise sweep [(0, 2, 5)] with gain 21.6939 started at 2025-08-03 07:57:43\n",
      "   Noise sweep [(0, 2, 6)] with gain 28.84769 started at 2025-08-03 07:58:43\n",
      "   Noise sweep [(0, 2, 7)] with gain 18.20278 started at 2025-08-03 07:59:43\n",
      "   Noise sweep [(0, 2, 8)] with gain 13.10054 started at 2025-08-03 08:00:43\n",
      "   Noise sweep [(0, 2, 9)] with gain 10.31332 started at 2025-08-03 08:01:43\n",
      "\n",
      "\n",
      "New DC set to 2.324333333333333 V at 2025-08-03 08:02:42\n",
      "   Noise sweep [(1, 0, 0)] with gain 10.26931 started at 2025-08-03 08:02:49\n",
      "   Noise sweep [(1, 0, 1)] with gain 13.6731 started at 2025-08-03 08:03:49\n",
      "   Noise sweep [(1, 0, 2)] with gain 17.49845 started at 2025-08-03 08:04:49\n",
      "   Noise sweep [(1, 0, 3)] with gain 20.63375 started at 2025-08-03 08:05:49\n",
      "   Noise sweep [(1, 0, 4)] with gain 17.56506 started at 2025-08-03 08:06:48\n",
      "   Noise sweep [(1, 0, 5)] with gain 20.97169 started at 2025-08-03 08:07:48\n",
      "   Noise sweep [(1, 0, 6)] with gain 25.88644 started at 2025-08-03 08:08:48\n",
      "   Noise sweep [(1, 0, 7)] with gain 17.59308 started at 2025-08-03 08:09:48\n",
      "   Noise sweep [(1, 0, 8)] with gain 12.83224 started at 2025-08-03 08:10:48\n",
      "   Noise sweep [(1, 0, 9)] with gain 10.11659 started at 2025-08-03 08:11:48\n",
      "   Noise sweep [(1, 1, 0)] with gain 10.43044 started at 2025-08-03 08:12:48\n",
      "   Noise sweep [(1, 1, 1)] with gain 13.93268 started at 2025-08-03 08:13:48\n",
      "   Noise sweep [(1, 1, 2)] with gain 17.57408 started at 2025-08-03 08:14:48\n",
      "   Noise sweep [(1, 1, 3)] with gain 20.59405 started at 2025-08-03 08:15:48\n",
      "   Noise sweep [(1, 1, 4)] with gain 17.58801 started at 2025-08-03 08:16:48\n",
      "   Noise sweep [(1, 1, 5)] with gain 20.65712 started at 2025-08-03 08:17:48\n",
      "   Noise sweep [(1, 1, 6)] with gain 27.82623 started at 2025-08-03 08:18:48\n",
      "   Noise sweep [(1, 1, 7)] with gain 17.6118 started at 2025-08-03 08:19:48\n",
      "   Noise sweep [(1, 1, 8)] with gain 12.88879 started at 2025-08-03 08:20:48\n",
      "   Noise sweep [(1, 1, 9)] with gain 10.23972 started at 2025-08-03 08:21:48\n",
      "   Noise sweep [(1, 2, 0)] with gain 10.58746 started at 2025-08-03 08:22:48\n",
      "   Noise sweep [(1, 2, 1)] with gain 14.18113 started at 2025-08-03 08:23:48\n",
      "   Noise sweep [(1, 2, 2)] with gain 17.68194 started at 2025-08-03 08:24:48\n",
      "   Noise sweep [(1, 2, 3)] with gain 20.12079 started at 2025-08-03 08:25:48\n",
      "   Noise sweep [(1, 2, 4)] with gain 17.86609 started at 2025-08-03 08:26:48\n",
      "   Noise sweep [(1, 2, 5)] with gain 20.59703 started at 2025-08-03 08:27:48\n",
      "   Noise sweep [(1, 2, 6)] with gain 28.37808 started at 2025-08-03 08:28:48\n",
      "   Noise sweep [(1, 2, 7)] with gain 17.6301 started at 2025-08-03 08:29:48\n",
      "   Noise sweep [(1, 2, 8)] with gain 12.93591 started at 2025-08-03 08:30:47\n",
      "   Noise sweep [(1, 2, 9)] with gain 10.20779 started at 2025-08-03 08:31:47\n",
      "\n",
      "\n",
      "New DC set to 2.3256666666666668 V at 2025-08-03 08:32:47\n",
      "   Noise sweep [(2, 0, 0)] with gain 9.06238 started at 2025-08-03 08:32:53\n",
      "   Noise sweep [(2, 0, 1)] with gain 13.45976 started at 2025-08-03 08:33:53\n",
      "   Noise sweep [(2, 0, 2)] with gain 17.47361 started at 2025-08-03 08:34:53\n",
      "   Noise sweep [(2, 0, 3)] with gain 20.63868 started at 2025-08-03 08:35:53\n",
      "   Noise sweep [(2, 0, 4)] with gain 18.3231 started at 2025-08-03 08:36:53\n",
      "   Noise sweep [(2, 0, 5)] with gain 21.77287 started at 2025-08-03 08:37:53\n",
      "   Noise sweep [(2, 0, 6)] with gain 22.58974 started at 2025-08-03 08:38:53\n",
      "   Noise sweep [(2, 0, 7)] with gain 17.01296 started at 2025-08-03 08:39:53\n",
      "   Noise sweep [(2, 0, 8)] with gain 12.66355 started at 2025-08-03 08:40:52\n",
      "   Noise sweep [(2, 0, 9)] with gain 9.92195 started at 2025-08-03 08:41:52\n",
      "   Noise sweep [(2, 1, 0)] with gain 10.29854 started at 2025-08-03 08:42:52\n",
      "   Noise sweep [(2, 1, 1)] with gain 13.62234 started at 2025-08-03 08:43:52\n",
      "   Noise sweep [(2, 1, 2)] with gain 17.5924 started at 2025-08-03 08:44:52\n",
      "   Noise sweep [(2, 1, 3)] with gain 20.6606 started at 2025-08-03 08:45:52\n",
      "   Noise sweep [(2, 1, 4)] with gain 18.01845 started at 2025-08-03 08:46:52\n",
      "   Noise sweep [(2, 1, 5)] with gain 20.80623 started at 2025-08-03 08:47:52\n",
      "   Noise sweep [(2, 1, 6)] with gain 24.41042 started at 2025-08-03 08:48:52\n",
      "   Noise sweep [(2, 1, 7)] with gain 16.99138 started at 2025-08-03 08:49:52\n",
      "   Noise sweep [(2, 1, 8)] with gain 12.71472 started at 2025-08-03 08:50:52\n",
      "   Noise sweep [(2, 1, 9)] with gain 10.04339 started at 2025-08-03 08:51:52\n",
      "   Noise sweep [(2, 2, 0)] with gain 10.47706 started at 2025-08-03 08:52:52\n",
      "   Noise sweep [(2, 2, 1)] with gain 13.91533 started at 2025-08-03 08:53:52\n",
      "   Noise sweep [(2, 2, 2)] with gain 17.74497 started at 2025-08-03 08:54:52\n",
      "   Noise sweep [(2, 2, 3)] with gain 20.8191 started at 2025-08-03 08:55:52\n",
      "   Noise sweep [(2, 2, 4)] with gain 17.96382 started at 2025-08-03 08:56:52\n",
      "   Noise sweep [(2, 2, 5)] with gain 20.26734 started at 2025-08-03 08:57:51\n",
      "   Noise sweep [(2, 2, 6)] with gain 26.34739 started at 2025-08-03 08:58:51\n",
      "   Noise sweep [(2, 2, 7)] with gain 17.05509 started at 2025-08-03 08:59:51\n",
      "   Noise sweep [(2, 2, 8)] with gain 12.77579 started at 2025-08-03 09:00:51\n",
      "   Noise sweep [(2, 2, 9)] with gain 9.97864 started at 2025-08-03 09:01:52\n",
      "\n",
      "\n",
      "New DC set to 2.327 V at 2025-08-03 09:02:51\n",
      "   Noise sweep [(3, 0, 0)] with gain 8.75226 started at 2025-08-03 09:02:57\n",
      "   Noise sweep [(3, 0, 1)] with gain 12.92455 started at 2025-08-03 09:03:57\n",
      "   Noise sweep [(3, 0, 2)] with gain 16.48484 started at 2025-08-03 09:04:57\n",
      "   Noise sweep [(3, 0, 3)] with gain 20.16628 started at 2025-08-03 09:05:57\n",
      "   Noise sweep [(3, 0, 4)] with gain 20.72725 started at 2025-08-03 09:06:57\n",
      "   Noise sweep [(3, 0, 5)] with gain 20.4964 started at 2025-08-03 09:07:57\n",
      "   Noise sweep [(3, 0, 6)] with gain 19.78418 started at 2025-08-03 09:08:57\n",
      "   Noise sweep [(3, 0, 7)] with gain 16.12938 started at 2025-08-03 09:09:57\n",
      "   Noise sweep [(3, 0, 8)] with gain 12.44211 started at 2025-08-03 09:10:57\n",
      "   Noise sweep [(3, 0, 9)] with gain 9.61528 started at 2025-08-03 09:11:57\n",
      "   Noise sweep [(3, 1, 0)] with gain 10.03821 started at 2025-08-03 09:12:57\n",
      "   Noise sweep [(3, 1, 1)] with gain 13.1519 started at 2025-08-03 09:13:57\n",
      "   Noise sweep [(3, 1, 2)] with gain 16.96986 started at 2025-08-03 09:14:57\n",
      "   Noise sweep [(3, 1, 3)] with gain 20.43331 started at 2025-08-03 09:15:57\n"
     ]
    },
    {
     "name": "stdout",
     "output_type": "stream",
     "text": [
      "   Noise sweep [(3, 1, 4)] with gain 19.90721 started at 2025-08-03 09:16:57\n",
      "   Noise sweep [(3, 1, 5)] with gain 20.67456 started at 2025-08-03 09:17:56\n",
      "   Noise sweep [(3, 1, 6)] with gain 20.34624 started at 2025-08-03 09:18:56\n",
      "   Noise sweep [(3, 1, 7)] with gain 16.01944 started at 2025-08-03 09:19:56\n",
      "   Noise sweep [(3, 1, 8)] with gain 12.47391 started at 2025-08-03 09:20:56\n",
      "   Noise sweep [(3, 1, 9)] with gain 9.67687 started at 2025-08-03 09:21:56\n",
      "   Noise sweep [(3, 2, 0)] with gain 10.21763 started at 2025-08-03 09:22:56\n",
      "   Noise sweep [(3, 2, 1)] with gain 13.41068 started at 2025-08-03 09:23:56\n",
      "   Noise sweep [(3, 2, 2)] with gain 17.38487 started at 2025-08-03 09:24:56\n",
      "   Noise sweep [(3, 2, 3)] with gain 20.71023 started at 2025-08-03 09:25:56\n",
      "   Noise sweep [(3, 2, 4)] with gain 19.31521 started at 2025-08-03 09:26:56\n",
      "   Noise sweep [(3, 2, 5)] with gain 21.07199 started at 2025-08-03 09:27:56\n",
      "   Noise sweep [(3, 2, 6)] with gain 21.04921 started at 2025-08-03 09:28:56\n",
      "   Noise sweep [(3, 2, 7)] with gain 15.98783 started at 2025-08-03 09:29:56\n",
      "   Noise sweep [(3, 2, 8)] with gain 12.51023 started at 2025-08-03 09:30:56\n",
      "   Noise sweep [(3, 2, 9)] with gain 9.69135 started at 2025-08-03 09:31:56\n",
      "Run time: 0:00:59.045801\n"
     ]
    }
   ],
   "source": [
    "TWPA.vna_band_fast=1000\n",
    "TWPA.vna_nop_fast=500\n",
    "TWPA.fft_avgs = 10\n",
    "TWPA.vna_band_slow = 200\n",
    "TWPA.vna_nop_slow = 501\n",
    "\n",
    "TWPA.sweep_noise(gain_tr1=-50, gain_tr2=-50, gain_tr2_max=50, dc_range=[2.323, 2.327, 4], \n",
    "            pf_range=[9.16e9, 9.164e9, 3], \n",
    "            pp_range=[0,14,10], \n",
    "            file_name=r'Noise_sweep_10_200_501_{}_{}'.format(2.325, 9.162))\n",
    "    "
   ]
  },
  {
   "cell_type": "code",
   "execution_count": 54,
   "id": "89743350",
   "metadata": {},
   "outputs": [
    {
     "name": "stdout",
     "output_type": "stream",
     "text": [
      "Script started at 2025-08-03 09:32:55\n",
      "\n",
      "\n",
      "New DC set to 2.373 V at 2025-08-03 09:32:55\n",
      "   Noise sweep [(0, 0, 0)] with gain 7.05794 started at 2025-08-03 09:33:01\n",
      "   Noise sweep [(0, 0, 1)] with gain 11.48512 started at 2025-08-03 09:34:01\n",
      "   Noise sweep [(0, 0, 2)] with gain 13.5966 started at 2025-08-03 09:35:01\n",
      "   Noise sweep [(0, 0, 3)] with gain 16.24819 started at 2025-08-03 09:36:01\n",
      "   Noise sweep [(0, 0, 4)] with gain 19.10639 started at 2025-08-03 09:37:01\n",
      "   Noise sweep [(0, 0, 5)] with gain 18.43913 started at 2025-08-03 09:38:01\n",
      "   Noise sweep [(0, 0, 6)] with gain 18.54325 started at 2025-08-03 09:39:01\n",
      "   Noise sweep [(0, 0, 7)] with gain 7.45274 started at 2025-08-03 09:40:01\n",
      "   Noise sweep [(0, 0, 8)] with gain -3.03002 started at 2025-08-03 09:41:01\n",
      "   Noise sweep [(0, 0, 9)] with gain -20.07888 started at 2025-08-03 09:42:01\n",
      "   Noise sweep [(0, 1, 0)] with gain 8.02924 started at 2025-08-03 09:43:01\n",
      "   Noise sweep [(0, 1, 1)] with gain 11.62481 started at 2025-08-03 09:44:01\n",
      "   Noise sweep [(0, 1, 2)] with gain 13.79986 started at 2025-08-03 09:45:01\n",
      "   Noise sweep [(0, 1, 3)] with gain 16.83296 started at 2025-08-03 09:46:01\n",
      "   Noise sweep [(0, 1, 4)] with gain 18.04681 started at 2025-08-03 09:47:01\n",
      "   Noise sweep [(0, 1, 5)] with gain 19.10826 started at 2025-08-03 09:48:00\n",
      "   Noise sweep [(0, 1, 6)] with gain 17.71694 started at 2025-08-03 09:49:00\n",
      "   Noise sweep [(0, 1, 7)] with gain 6.7982 started at 2025-08-03 09:50:00\n",
      "   Noise sweep [(0, 1, 8)] with gain -4.84481 started at 2025-08-03 09:51:00\n",
      "   Noise sweep [(0, 1, 9)] with gain -20.65362 started at 2025-08-03 09:52:00\n",
      "   Noise sweep [(0, 2, 0)] with gain 8.10087 started at 2025-08-03 09:53:00\n",
      "   Noise sweep [(0, 2, 1)] with gain 11.72918 started at 2025-08-03 09:54:00\n",
      "   Noise sweep [(0, 2, 2)] with gain 14.13434 started at 2025-08-03 09:55:00\n",
      "   Noise sweep [(0, 2, 3)] with gain 17.54643 started at 2025-08-03 09:56:00\n",
      "   Noise sweep [(0, 2, 4)] with gain 17.28053 started at 2025-08-03 09:57:00\n",
      "   Noise sweep [(0, 2, 5)] with gain 20.24009 started at 2025-08-03 09:58:00\n",
      "   Noise sweep [(0, 2, 6)] with gain 17.25028 started at 2025-08-03 09:59:00\n",
      "   Noise sweep [(0, 2, 7)] with gain 6.09625 started at 2025-08-03 10:00:00\n",
      "   Noise sweep [(0, 2, 8)] with gain -6.59337 started at 2025-08-03 10:01:00\n",
      "   Noise sweep [(0, 2, 9)] with gain -21.4647 started at 2025-08-03 10:02:00\n",
      "\n",
      "\n",
      "New DC set to 2.3743333333333334 V at 2025-08-03 10:02:59\n",
      "   Noise sweep [(1, 0, 0)] with gain 6.71775 started at 2025-08-03 10:03:05\n",
      "   Noise sweep [(1, 0, 1)] with gain 11.20578 started at 2025-08-03 10:04:05\n",
      "   Noise sweep [(1, 0, 2)] with gain 13.1517 started at 2025-08-03 10:05:05\n",
      "   Noise sweep [(1, 0, 3)] with gain 15.15302 started at 2025-08-03 10:06:05\n",
      "   Noise sweep [(1, 0, 4)] with gain 19.3802 started at 2025-08-03 10:07:05\n",
      "   Noise sweep [(1, 0, 5)] with gain 18.27725 started at 2025-08-03 10:08:05\n",
      "   Noise sweep [(1, 0, 6)] with gain 19.00875 started at 2025-08-03 10:09:05\n",
      "   Noise sweep [(1, 0, 7)] with gain 7.3328 started at 2025-08-03 10:10:05\n",
      "   Noise sweep [(1, 0, 8)] with gain -3.10428 started at 2025-08-03 10:11:05\n",
      "   Noise sweep [(1, 0, 9)] with gain -20.15807 started at 2025-08-03 10:12:05\n",
      "   Noise sweep [(1, 1, 0)] with gain 8.17438 started at 2025-08-03 10:13:05\n",
      "   Noise sweep [(1, 1, 1)] with gain 11.39495 started at 2025-08-03 10:14:05\n",
      "   Noise sweep [(1, 1, 2)] with gain 13.33203 started at 2025-08-03 10:15:05\n",
      "   Noise sweep [(1, 1, 3)] with gain 15.55002 started at 2025-08-03 10:16:05\n",
      "   Noise sweep [(1, 1, 4)] with gain 19.62149 started at 2025-08-03 10:17:05\n",
      "   Noise sweep [(1, 1, 5)] with gain 18.43942 started at 2025-08-03 10:18:05\n",
      "   Noise sweep [(1, 1, 6)] with gain 18.24063 started at 2025-08-03 10:19:04\n",
      "   Noise sweep [(1, 1, 7)] with gain 6.6805 started at 2025-08-03 10:20:04\n",
      "   Noise sweep [(1, 1, 8)] with gain -4.87419 started at 2025-08-03 10:21:04\n",
      "   Noise sweep [(1, 1, 9)] with gain -20.55631 started at 2025-08-03 10:22:04\n",
      "   Noise sweep [(1, 2, 0)] with gain 8.11215 started at 2025-08-03 10:23:04\n",
      "   Noise sweep [(1, 2, 1)] with gain 11.53351 started at 2025-08-03 10:24:04\n",
      "   Noise sweep [(1, 2, 2)] with gain 13.53908 started at 2025-08-03 10:25:04\n",
      "   Noise sweep [(1, 2, 3)] with gain 16.08214 started at 2025-08-03 10:26:04\n",
      "   Noise sweep [(1, 2, 4)] with gain 17.75594 started at 2025-08-03 10:27:04\n",
      "   Noise sweep [(1, 2, 5)] with gain 19.02377 started at 2025-08-03 10:28:04\n",
      "   Noise sweep [(1, 2, 6)] with gain 17.28232 started at 2025-08-03 10:29:03\n",
      "   Noise sweep [(1, 2, 7)] with gain 6.01741 started at 2025-08-03 10:30:03\n",
      "   Noise sweep [(1, 2, 8)] with gain -6.60195 started at 2025-08-03 10:31:03\n",
      "   Noise sweep [(1, 2, 9)] with gain -21.20639 started at 2025-08-03 10:32:03\n",
      "\n",
      "\n",
      "New DC set to 2.3756666666666666 V at 2025-08-03 10:33:02\n",
      "   Noise sweep [(2, 0, 0)] with gain 7.25634 started at 2025-08-03 10:33:09\n",
      "   Noise sweep [(2, 0, 1)] with gain 10.91137 started at 2025-08-03 10:34:09\n",
      "   Noise sweep [(2, 0, 2)] with gain 12.9269 started at 2025-08-03 10:35:09\n",
      "   Noise sweep [(2, 0, 3)] with gain 14.40639 started at 2025-08-03 10:36:09\n",
      "   Noise sweep [(2, 0, 4)] with gain 18.07015 started at 2025-08-03 10:37:09\n",
      "   Noise sweep [(2, 0, 5)] with gain 18.65036 started at 2025-08-03 10:38:09\n",
      "   Noise sweep [(2, 0, 6)] with gain 20.25208 started at 2025-08-03 10:39:09\n",
      "   Noise sweep [(2, 0, 7)] with gain 7.22158 started at 2025-08-03 10:40:08\n",
      "   Noise sweep [(2, 0, 8)] with gain -3.15899 started at 2025-08-03 10:41:08\n",
      "   Noise sweep [(2, 0, 9)] with gain -19.92309 started at 2025-08-03 10:42:08\n"
     ]
    },
    {
     "ename": "KeyboardInterrupt",
     "evalue": "",
     "output_type": "error",
     "traceback": [
      "\u001b[1;31m---------------------------------------------------------------------------\u001b[0m",
      "\u001b[1;31mKeyboardInterrupt\u001b[0m                         Traceback (most recent call last)",
      "Cell \u001b[1;32mIn[54], line 7\u001b[0m\n\u001b[0;32m      4\u001b[0m TWPA\u001b[38;5;241m.\u001b[39mvna_band_slow \u001b[38;5;241m=\u001b[39m \u001b[38;5;241m200\u001b[39m\n\u001b[0;32m      5\u001b[0m TWPA\u001b[38;5;241m.\u001b[39mvna_nop_slow \u001b[38;5;241m=\u001b[39m \u001b[38;5;241m501\u001b[39m\n\u001b[1;32m----> 7\u001b[0m \u001b[43mTWPA\u001b[49m\u001b[38;5;241;43m.\u001b[39;49m\u001b[43msweep_noise\u001b[49m\u001b[43m(\u001b[49m\u001b[43mgain_tr1\u001b[49m\u001b[38;5;241;43m=\u001b[39;49m\u001b[38;5;241;43m-\u001b[39;49m\u001b[38;5;241;43m50\u001b[39;49m\u001b[43m,\u001b[49m\u001b[43m \u001b[49m\u001b[43mgain_tr2\u001b[49m\u001b[38;5;241;43m=\u001b[39;49m\u001b[38;5;241;43m-\u001b[39;49m\u001b[38;5;241;43m50\u001b[39;49m\u001b[43m,\u001b[49m\u001b[43m \u001b[49m\u001b[43mgain_tr2_max\u001b[49m\u001b[38;5;241;43m=\u001b[39;49m\u001b[38;5;241;43m50\u001b[39;49m\u001b[43m,\u001b[49m\u001b[43m \u001b[49m\u001b[43mdc_range\u001b[49m\u001b[38;5;241;43m=\u001b[39;49m\u001b[43m[\u001b[49m\u001b[38;5;241;43m2.373\u001b[39;49m\u001b[43m,\u001b[49m\u001b[43m \u001b[49m\u001b[38;5;241;43m2.377\u001b[39;49m\u001b[43m,\u001b[49m\u001b[43m \u001b[49m\u001b[38;5;241;43m4\u001b[39;49m\u001b[43m]\u001b[49m\u001b[43m,\u001b[49m\u001b[43m \u001b[49m\n\u001b[0;32m      8\u001b[0m \u001b[43m            \u001b[49m\u001b[43mpf_range\u001b[49m\u001b[38;5;241;43m=\u001b[39;49m\u001b[43m[\u001b[49m\u001b[38;5;241;43m9.205e9\u001b[39;49m\u001b[43m,\u001b[49m\u001b[43m \u001b[49m\u001b[38;5;241;43m9.209e9\u001b[39;49m\u001b[43m,\u001b[49m\u001b[43m \u001b[49m\u001b[38;5;241;43m3\u001b[39;49m\u001b[43m]\u001b[49m\u001b[43m,\u001b[49m\u001b[43m \u001b[49m\n\u001b[0;32m      9\u001b[0m \u001b[43m            \u001b[49m\u001b[43mpp_range\u001b[49m\u001b[38;5;241;43m=\u001b[39;49m\u001b[43m[\u001b[49m\u001b[38;5;241;43m0\u001b[39;49m\u001b[43m,\u001b[49m\u001b[38;5;241;43m14\u001b[39;49m\u001b[43m,\u001b[49m\u001b[38;5;241;43m10\u001b[39;49m\u001b[43m]\u001b[49m\u001b[43m,\u001b[49m\u001b[43m \u001b[49m\n\u001b[0;32m     10\u001b[0m \u001b[43m            \u001b[49m\u001b[43mfile_name\u001b[49m\u001b[38;5;241;43m=\u001b[39;49m\u001b[38;5;124;43mr\u001b[39;49m\u001b[38;5;124;43m'\u001b[39;49m\u001b[38;5;124;43mNoise_sweep_10_200_501_\u001b[39;49m\u001b[38;5;132;43;01m{}\u001b[39;49;00m\u001b[38;5;124;43m_\u001b[39;49m\u001b[38;5;132;43;01m{}\u001b[39;49;00m\u001b[38;5;124;43m'\u001b[39;49m\u001b[38;5;241;43m.\u001b[39;49m\u001b[43mformat\u001b[49m\u001b[43m(\u001b[49m\u001b[38;5;241;43m2.375\u001b[39;49m\u001b[43m,\u001b[49m\u001b[43m \u001b[49m\u001b[38;5;241;43m9.207\u001b[39;49m\u001b[43m)\u001b[49m\u001b[43m)\u001b[49m\n",
      "File \u001b[1;32m~\\PycharmProjects\\ColdMeasurements\\DeMag\\Scripts\\TWPA 5\\TWPA_scearch_best_gain.py:476\u001b[0m, in \u001b[0;36mTWPA_best_gain.sweep_noise\u001b[1;34m(self, gain_tr1, gain_tr2, gain_tr2_max, dc_range, pf_range, pp_range, file_name, lin)\u001b[0m\n\u001b[0;32m    474\u001b[0m \u001b[38;5;28mself\u001b[39m\u001b[38;5;241m.\u001b[39manapico\u001b[38;5;241m.\u001b[39mset_on(\u001b[38;5;241m1\u001b[39m)\n\u001b[0;32m    475\u001b[0m time\u001b[38;5;241m.\u001b[39msleep(\u001b[38;5;241m0.1\u001b[39m)\n\u001b[1;32m--> 476\u001b[0m freq, fft_mag, fft_pha \u001b[38;5;241m=\u001b[39m \u001b[38;5;28;43mself\u001b[39;49m\u001b[38;5;241;43m.\u001b[39;49m\u001b[43mget_noise\u001b[49m\u001b[43m(\u001b[49m\u001b[43m)\u001b[49m\n\u001b[0;32m    478\u001b[0m data_mag[dc_idx, pf_idx, pp_idx, \u001b[38;5;241m0\u001b[39m] \u001b[38;5;241m=\u001b[39m fft_mag\n\u001b[0;32m    479\u001b[0m data_mag[dc_idx, pf_idx, pp_idx, \u001b[38;5;241m1\u001b[39m] \u001b[38;5;241m=\u001b[39m fft_mag_ref\n",
      "File \u001b[1;32m~\\PycharmProjects\\ColdMeasurements\\DeMag\\Scripts\\TWPA 5\\TWPA_scearch_best_gain.py:261\u001b[0m, in \u001b[0;36mTWPA_best_gain.get_noise\u001b[1;34m(self)\u001b[0m\n\u001b[0;32m    258\u001b[0m fft_phas \u001b[38;5;241m=\u001b[39m np\u001b[38;5;241m.\u001b[39mones((\u001b[38;5;28mlen\u001b[39m(freq), \u001b[38;5;28mself\u001b[39m\u001b[38;5;241m.\u001b[39mfft_avgs))\n\u001b[0;32m    260\u001b[0m \u001b[38;5;28;01mfor\u001b[39;00m i \u001b[38;5;129;01min\u001b[39;00m \u001b[38;5;28mrange\u001b[39m(\u001b[38;5;28mself\u001b[39m\u001b[38;5;241m.\u001b[39mfft_avgs):\n\u001b[1;32m--> 261\u001b[0m     mag, pha \u001b[38;5;241m=\u001b[39m \u001b[38;5;28;43mself\u001b[39;49m\u001b[38;5;241;43m.\u001b[39;49m\u001b[43mvna\u001b[49m\u001b[38;5;241;43m.\u001b[39;49m\u001b[43mget_data\u001b[49m\u001b[43m(\u001b[49m\u001b[43m)\u001b[49m\n\u001b[0;32m    262\u001b[0m     fft_mags[:, i] \u001b[38;5;241m=\u001b[39m \u001b[38;5;28mabs\u001b[39m(fftshift(fft(np\u001b[38;5;241m.\u001b[39msqrt(np\u001b[38;5;241m.\u001b[39mpower(\u001b[38;5;241m10\u001b[39m, mag \u001b[38;5;241m/\u001b[39m \u001b[38;5;241m10\u001b[39m))))) \u001b[38;5;241m*\u001b[39m\u001b[38;5;241m*\u001b[39m \u001b[38;5;241m2\u001b[39m    \u001b[38;5;66;03m# /N**2 or \"forward\" normalization\u001b[39;00m\n\u001b[0;32m    263\u001b[0m     fft_phas[:, i] \u001b[38;5;241m=\u001b[39m \u001b[38;5;28mabs\u001b[39m(fftshift(fft(pha))) \u001b[38;5;241m*\u001b[39m\u001b[38;5;241m*\u001b[39m \u001b[38;5;241m2\u001b[39m                                \u001b[38;5;66;03m# /N**2 or forward normalization\u001b[39;00m\n",
      "File \u001b[1;32mc:\\users\\demag\\pycharmprojects\\coldmeasurements\\nanodrivers\\nanodrivers\\visa_drivers\\vna.py:197\u001b[0m, in \u001b[0;36mVNA.get_data\u001b[1;34m(self)\u001b[0m\n\u001b[0;32m    195\u001b[0m \u001b[38;5;28mself\u001b[39m\u001b[38;5;241m.\u001b[39mset_on()\n\u001b[0;32m    196\u001b[0m \u001b[38;5;28mself\u001b[39m\u001b[38;5;241m.\u001b[39mwrite(\u001b[38;5;124m\"\u001b[39m\u001b[38;5;124mINIT1:IMM\u001b[39m\u001b[38;5;124m\"\u001b[39m)\n\u001b[1;32m--> 197\u001b[0m \u001b[43mtime\u001b[49m\u001b[38;5;241;43m.\u001b[39;49m\u001b[43msleep\u001b[49m\u001b[43m(\u001b[49m\u001b[38;5;241;43m0.2\u001b[39;49m\u001b[43m \u001b[49m\u001b[38;5;241;43m+\u001b[39;49m\u001b[43m \u001b[49m\u001b[38;5;28;43mself\u001b[39;49m\u001b[38;5;241;43m.\u001b[39;49m\u001b[43mget_sweep_time\u001b[49m\u001b[43m(\u001b[49m\u001b[43m)\u001b[49m\u001b[43m)\u001b[49m\n\u001b[0;32m    198\u001b[0m data_str \u001b[38;5;241m=\u001b[39m \u001b[38;5;28mself\u001b[39m\u001b[38;5;241m.\u001b[39mquery(\u001b[38;5;124m\"\u001b[39m\u001b[38;5;124mCALC1:DATA? SDAT\u001b[39m\u001b[38;5;124m\"\u001b[39m)\n\u001b[0;32m    199\u001b[0m data \u001b[38;5;241m=\u001b[39m np\u001b[38;5;241m.\u001b[39marray(data_str\u001b[38;5;241m.\u001b[39mrstrip()\u001b[38;5;241m.\u001b[39msplit(\u001b[38;5;124m\"\u001b[39m\u001b[38;5;124m,\u001b[39m\u001b[38;5;124m\"\u001b[39m))\u001b[38;5;241m.\u001b[39mastype(\u001b[38;5;124m\"\u001b[39m\u001b[38;5;124mfloat64\u001b[39m\u001b[38;5;124m\"\u001b[39m)\n",
      "\u001b[1;31mKeyboardInterrupt\u001b[0m: "
     ]
    }
   ],
   "source": [
    "TWPA.vna_band_fast=1000\n",
    "TWPA.vna_nop_fast=500\n",
    "TWPA.fft_avgs = 10\n",
    "TWPA.vna_band_slow = 200\n",
    "TWPA.vna_nop_slow = 501\n",
    "\n",
    "TWPA.sweep_noise(gain_tr1=-50, gain_tr2=-50, gain_tr2_max=50, dc_range=[2.373, 2.377, 4], \n",
    "            pf_range=[9.205e9, 9.209e9, 3], \n",
    "            pp_range=[0,14,10], \n",
    "            file_name=r'Noise_sweep_10_200_501_{}_{}'.format(2.375, 9.207))\n",
    "    "
   ]
  },
  {
   "cell_type": "code",
   "execution_count": 12,
   "id": "20ed0576",
   "metadata": {},
   "outputs": [
    {
     "name": "stdout",
     "output_type": "stream",
     "text": [
      "Script started at 2025-07-31 10:50:28\n",
      "\n",
      "\n",
      "New DC set to 1.38 V at 2025-07-31 10:50:28\n",
      "   Noise sweep [(0, 0, 0)] with gain 24.41742 started at 2025-07-31 10:50:35\n",
      "Run time: 1:25:47.641777\n",
      "Script started at 2025-07-31 12:16:22\n",
      "\n",
      "\n",
      "New DC set to 1.38 V at 2025-07-31 12:16:22\n",
      "   Noise sweep [(0, 0, 0)] with gain 22.47162 started at 2025-07-31 12:16:28\n",
      "Run time: 1:25:47.558230\n",
      "Script started at 2025-07-31 13:42:16\n",
      "\n",
      "\n",
      "New DC set to 1.38 V at 2025-07-31 13:42:16\n",
      "   Noise sweep [(0, 0, 0)] with gain 23.59274 started at 2025-07-31 13:42:22\n",
      "Run time: 1:25:47.728196\n",
      "Script started at 2025-07-31 15:08:10\n",
      "\n",
      "\n",
      "New DC set to 1.38 V at 2025-07-31 15:08:10\n",
      "   Noise sweep [(0, 0, 0)] with gain 23.10227 started at 2025-07-31 15:08:16\n",
      "Run time: 1:25:47.538657\n",
      "Script started at 2025-07-31 16:34:03\n",
      "\n",
      "\n",
      "New DC set to 1.38 V at 2025-07-31 16:34:03\n",
      "   Noise sweep [(0, 0, 0)] with gain 23.69095 started at 2025-07-31 16:34:10\n",
      "Run time: 1:25:47.596481\n",
      "Script started at 2025-07-31 17:59:57\n",
      "\n",
      "\n",
      "New DC set to 1.38 V at 2025-07-31 17:59:57\n",
      "   Noise sweep [(0, 0, 0)] with gain 23.90778 started at 2025-07-31 18:00:03\n",
      "Run time: 1:25:47.596652\n",
      "Script started at 2025-07-31 19:25:51\n",
      "\n",
      "\n",
      "New DC set to 1.38 V at 2025-07-31 19:25:51\n",
      "   Noise sweep [(0, 0, 0)] with gain 24.77998 started at 2025-07-31 19:25:57\n",
      "Run time: 1:25:46.559147\n",
      "Script started at 2025-07-31 20:51:44\n",
      "\n",
      "\n",
      "New DC set to 1.38 V at 2025-07-31 20:51:44\n",
      "   Noise sweep [(0, 0, 0)] with gain 24.14098 started at 2025-07-31 20:51:50\n",
      "Run time: 1:25:47.803091\n",
      "Script started at 2025-07-31 22:17:38\n",
      "\n",
      "\n",
      "New DC set to 1.38 V at 2025-07-31 22:17:38\n",
      "   Noise sweep [(0, 0, 0)] with gain 28.28084 started at 2025-07-31 22:17:44\n",
      "Run time: 1:25:47.935384\n",
      "Script started at 2025-07-31 23:43:32\n",
      "\n",
      "\n",
      "New DC set to 1.38 V at 2025-07-31 23:43:32\n",
      "   Noise sweep [(0, 0, 0)] with gain 23.0948 started at 2025-07-31 23:43:38\n"
     ]
    },
    {
     "ename": "KeyboardInterrupt",
     "evalue": "",
     "output_type": "error",
     "traceback": [
      "\u001b[1;31m---------------------------------------------------------------------------\u001b[0m",
      "\u001b[1;31mKeyboardInterrupt\u001b[0m                         Traceback (most recent call last)",
      "Cell \u001b[1;32mIn[12], line 10\u001b[0m\n\u001b[0;32m      8\u001b[0m \u001b[38;5;28;01mfor\u001b[39;00m i \u001b[38;5;129;01min\u001b[39;00m \u001b[38;5;28mrange\u001b[39m(\u001b[38;5;28mlen\u001b[39m(vna_power)):\n\u001b[0;32m      9\u001b[0m     TWPA\u001b[38;5;241m.\u001b[39mvna_power \u001b[38;5;241m=\u001b[39m vna_power[i]\n\u001b[1;32m---> 10\u001b[0m     \u001b[43mTWPA\u001b[49m\u001b[38;5;241;43m.\u001b[39;49m\u001b[43msweep_noise\u001b[49m\u001b[43m(\u001b[49m\u001b[43mgain_tr1\u001b[49m\u001b[38;5;241;43m=\u001b[39;49m\u001b[38;5;241;43m-\u001b[39;49m\u001b[38;5;241;43m50\u001b[39;49m\u001b[43m,\u001b[49m\u001b[43m \u001b[49m\u001b[43mgain_tr2\u001b[49m\u001b[38;5;241;43m=\u001b[39;49m\u001b[38;5;241;43m-\u001b[39;49m\u001b[38;5;241;43m50\u001b[39;49m\u001b[43m,\u001b[49m\u001b[43m \u001b[49m\u001b[43mgain_tr2_max\u001b[49m\u001b[38;5;241;43m=\u001b[39;49m\u001b[38;5;241;43m50\u001b[39;49m\u001b[43m,\u001b[49m\u001b[43m \u001b[49m\u001b[43mdc_range\u001b[49m\u001b[38;5;241;43m=\u001b[39;49m\u001b[43m[\u001b[49m\u001b[38;5;241;43m1.38\u001b[39;49m\u001b[43m,\u001b[49m\u001b[43m \u001b[49m\u001b[38;5;241;43m2.2\u001b[39;49m\u001b[43m,\u001b[49m\u001b[43m \u001b[49m\u001b[38;5;241;43m1\u001b[39;49m\u001b[43m]\u001b[49m\u001b[43m,\u001b[49m\u001b[43m \u001b[49m\n\u001b[0;32m     11\u001b[0m \u001b[43m                \u001b[49m\u001b[43mpf_range\u001b[49m\u001b[38;5;241;43m=\u001b[39;49m\u001b[43m[\u001b[49m\u001b[38;5;241;43m10.77e9\u001b[39;49m\u001b[43m,\u001b[49m\u001b[38;5;241;43m14.5e9\u001b[39;49m\u001b[43m,\u001b[49m\u001b[38;5;241;43m1\u001b[39;49m\u001b[43m]\u001b[49m\u001b[43m,\u001b[49m\u001b[43m \u001b[49m\n\u001b[0;32m     12\u001b[0m \u001b[43m                \u001b[49m\u001b[43mpp_range\u001b[49m\u001b[38;5;241;43m=\u001b[39;49m\u001b[43m[\u001b[49m\u001b[38;5;241;43m7.7\u001b[39;49m\u001b[43m,\u001b[49m\u001b[38;5;241;43m8\u001b[39;49m\u001b[43m,\u001b[49m\u001b[38;5;241;43m1\u001b[39;49m\u001b[43m]\u001b[49m\u001b[43m,\u001b[49m\u001b[43m \u001b[49m\n\u001b[0;32m     13\u001b[0m \u001b[43m                \u001b[49m\u001b[43mfile_name\u001b[49m\u001b[38;5;241;43m=\u001b[39;49m\u001b[38;5;124;43mr\u001b[39;49m\u001b[38;5;124;43m'\u001b[39;49m\u001b[38;5;124;43mNoise_sweep_10mK_low_band_5_avg_50_nop_501_vna_power_only_\u001b[39;49m\u001b[38;5;132;43;01m{}\u001b[39;49;00m\u001b[38;5;124;43m'\u001b[39;49m\u001b[38;5;241;43m.\u001b[39;49m\u001b[43mformat\u001b[49m\u001b[43m(\u001b[49m\u001b[43mvna_power\u001b[49m\u001b[43m[\u001b[49m\u001b[43mi\u001b[49m\u001b[43m]\u001b[49m\u001b[43m)\u001b[49m\u001b[43m)\u001b[49m\n",
      "File \u001b[1;32m~\\PycharmProjects\\ColdMeasurements\\DeMag\\Scripts\\TWPA 5\\TWPA_scearch_best_gain.py:474\u001b[0m, in \u001b[0;36mTWPA_best_gain.sweep_noise\u001b[1;34m(self, gain_tr1, gain_tr2, gain_tr2_max, dc_range, pf_range, pp_range, file_name, lin)\u001b[0m\n\u001b[0;32m    472\u001b[0m \u001b[38;5;28mself\u001b[39m\u001b[38;5;241m.\u001b[39manapico\u001b[38;5;241m.\u001b[39mset_off(\u001b[38;5;241m1\u001b[39m)\n\u001b[0;32m    473\u001b[0m time\u001b[38;5;241m.\u001b[39msleep(\u001b[38;5;241m0.1\u001b[39m)\n\u001b[1;32m--> 474\u001b[0m freq_ref, fft_mag_ref, fft_pha_ref \u001b[38;5;241m=\u001b[39m \u001b[38;5;28;43mself\u001b[39;49m\u001b[38;5;241;43m.\u001b[39;49m\u001b[43mget_noise\u001b[49m\u001b[43m(\u001b[49m\u001b[43m)\u001b[49m\n\u001b[0;32m    475\u001b[0m \u001b[38;5;28mself\u001b[39m\u001b[38;5;241m.\u001b[39manapico\u001b[38;5;241m.\u001b[39mset_on(\u001b[38;5;241m1\u001b[39m)\n\u001b[0;32m    476\u001b[0m time\u001b[38;5;241m.\u001b[39msleep(\u001b[38;5;241m0.1\u001b[39m)\n",
      "File \u001b[1;32m~\\PycharmProjects\\ColdMeasurements\\DeMag\\Scripts\\TWPA 5\\TWPA_scearch_best_gain.py:261\u001b[0m, in \u001b[0;36mTWPA_best_gain.get_noise\u001b[1;34m(self)\u001b[0m\n\u001b[0;32m    258\u001b[0m fft_phas \u001b[38;5;241m=\u001b[39m np\u001b[38;5;241m.\u001b[39mones((\u001b[38;5;28mlen\u001b[39m(freq), \u001b[38;5;28mself\u001b[39m\u001b[38;5;241m.\u001b[39mfft_avgs))\n\u001b[0;32m    260\u001b[0m \u001b[38;5;28;01mfor\u001b[39;00m i \u001b[38;5;129;01min\u001b[39;00m \u001b[38;5;28mrange\u001b[39m(\u001b[38;5;28mself\u001b[39m\u001b[38;5;241m.\u001b[39mfft_avgs):\n\u001b[1;32m--> 261\u001b[0m     mag, pha \u001b[38;5;241m=\u001b[39m \u001b[38;5;28;43mself\u001b[39;49m\u001b[38;5;241;43m.\u001b[39;49m\u001b[43mvna\u001b[49m\u001b[38;5;241;43m.\u001b[39;49m\u001b[43mget_data\u001b[49m\u001b[43m(\u001b[49m\u001b[43m)\u001b[49m\n\u001b[0;32m    262\u001b[0m     fft_mags[:, i] \u001b[38;5;241m=\u001b[39m \u001b[38;5;28mabs\u001b[39m(fftshift(fft(np\u001b[38;5;241m.\u001b[39msqrt(np\u001b[38;5;241m.\u001b[39mpower(\u001b[38;5;241m10\u001b[39m, mag \u001b[38;5;241m/\u001b[39m \u001b[38;5;241m10\u001b[39m))))) \u001b[38;5;241m*\u001b[39m\u001b[38;5;241m*\u001b[39m \u001b[38;5;241m2\u001b[39m    \u001b[38;5;66;03m# /N**2 or \"forward\" normalization\u001b[39;00m\n\u001b[0;32m    263\u001b[0m     fft_phas[:, i] \u001b[38;5;241m=\u001b[39m \u001b[38;5;28mabs\u001b[39m(fftshift(fft(pha))) \u001b[38;5;241m*\u001b[39m\u001b[38;5;241m*\u001b[39m \u001b[38;5;241m2\u001b[39m                                \u001b[38;5;66;03m# /N**2 or forward normalization\u001b[39;00m\n",
      "File \u001b[1;32mc:\\users\\demag\\pycharmprojects\\coldmeasurements\\nanodrivers\\nanodrivers\\visa_drivers\\vna.py:197\u001b[0m, in \u001b[0;36mVNA.get_data\u001b[1;34m(self)\u001b[0m\n\u001b[0;32m    195\u001b[0m \u001b[38;5;28mself\u001b[39m\u001b[38;5;241m.\u001b[39mset_on()\n\u001b[0;32m    196\u001b[0m \u001b[38;5;28mself\u001b[39m\u001b[38;5;241m.\u001b[39mwrite(\u001b[38;5;124m\"\u001b[39m\u001b[38;5;124mINIT1:IMM\u001b[39m\u001b[38;5;124m\"\u001b[39m)\n\u001b[1;32m--> 197\u001b[0m \u001b[43mtime\u001b[49m\u001b[38;5;241;43m.\u001b[39;49m\u001b[43msleep\u001b[49m\u001b[43m(\u001b[49m\u001b[38;5;241;43m0.2\u001b[39;49m\u001b[43m \u001b[49m\u001b[38;5;241;43m+\u001b[39;49m\u001b[43m \u001b[49m\u001b[38;5;28;43mself\u001b[39;49m\u001b[38;5;241;43m.\u001b[39;49m\u001b[43mget_sweep_time\u001b[49m\u001b[43m(\u001b[49m\u001b[43m)\u001b[49m\u001b[43m)\u001b[49m\n\u001b[0;32m    198\u001b[0m data_str \u001b[38;5;241m=\u001b[39m \u001b[38;5;28mself\u001b[39m\u001b[38;5;241m.\u001b[39mquery(\u001b[38;5;124m\"\u001b[39m\u001b[38;5;124mCALC1:DATA? SDAT\u001b[39m\u001b[38;5;124m\"\u001b[39m)\n\u001b[0;32m    199\u001b[0m data \u001b[38;5;241m=\u001b[39m np\u001b[38;5;241m.\u001b[39marray(data_str\u001b[38;5;241m.\u001b[39mrstrip()\u001b[38;5;241m.\u001b[39msplit(\u001b[38;5;124m\"\u001b[39m\u001b[38;5;124m,\u001b[39m\u001b[38;5;124m\"\u001b[39m))\u001b[38;5;241m.\u001b[39mastype(\u001b[38;5;124m\"\u001b[39m\u001b[38;5;124mfloat64\u001b[39m\u001b[38;5;124m\"\u001b[39m)\n",
      "\u001b[1;31mKeyboardInterrupt\u001b[0m: "
     ]
    }
   ],
   "source": [
    "vna_power = np.linspace(-20, -10, 11)\n",
    "TWPA.vna_band_fast=1000\n",
    "TWPA.vna_nop_fast=300\n",
    "TWPA.fft_avgs = 50\n",
    "TWPA.vna_band_slow= 10\n",
    "TWPA.vna_nop_slow=501\n",
    "\n",
    "for i in range(len(vna_power)):\n",
    "    TWPA.vna_power = vna_power[i]\n",
    "    TWPA.sweep_noise(gain_tr1=-50, gain_tr2=-50, gain_tr2_max=50, dc_range=[1.38, 2.2, 1], \n",
    "                pf_range=[10.77e9,14.5e9,1], \n",
    "                pp_range=[7.7,8,1], \n",
    "                file_name=r'Noise_sweep_10mK_low_band_5_avg_50_nop_501_vna_power_only_{}'.format(vna_power[i]))\n",
    "    \n",
    "    "
   ]
  },
  {
   "cell_type": "code",
   "execution_count": null,
   "id": "649ccd35",
   "metadata": {},
   "outputs": [],
   "source": []
  },
  {
   "cell_type": "markdown",
   "id": "4b95a86c",
   "metadata": {},
   "source": [
    "# Gain_stabilty"
   ]
  },
  {
   "cell_type": "code",
   "execution_count": 8,
   "id": "69f5f144",
   "metadata": {},
   "outputs": [
    {
     "name": "stdout",
     "output_type": "stream",
     "text": [
      "Folder C:\\Users\\Demag\\PycharmProjects\\ColdMeasurements\\DeMag\\DATA\\TWPA_noise_9\\Alan_var already exists\n"
     ]
    }
   ],
   "source": [
    "path = adress +'\\\\'+ 'Alan_var'\n",
    "if not os.path.exists(path):\n",
    "  os.mkdir(path)\n",
    "  print(\"Folder %s created!\" % path)\n",
    "else:\n",
    "  print(\"Folder %s already exists\" % path)"
   ]
  },
  {
   "cell_type": "code",
   "execution_count": null,
   "id": "31333775",
   "metadata": {
    "scrolled": true
   },
   "outputs": [
    {
     "name": "stdout",
     "output_type": "stream",
     "text": [
      "rep: 0\n",
      "rep: 1\n",
      "rep: 2\n"
     ]
    }
   ],
   "source": [
    "dc_9 = 1.6\n",
    "pp_9 = 7\n",
    "pf_9 = 9.27e9\n",
    "\n",
    "dc.set_volt(dc_9)\n",
    "dc.set_on()\n",
    "anapico.set_freq(1, pf_9)\n",
    "anapico.set_power(1, pp_9)\n",
    "\n",
    "state = dict()\n",
    "state['pf_9'] = pf_9\n",
    "state['pp_9'] = pp_9\n",
    "state['dc_9'] = dc_9\n",
    "state['T'] = 18\n",
    "state['band_vna'] = 1\n",
    "state['nop_vna'] = 100001\n",
    "state['cw_vna'] = 5e9\n",
    "state['reps'] = 4\n",
    "\n",
    "vna.set_band(1)\n",
    "vna.set_nop(100001)\n",
    "vna.set_cw_freq(5e9)\n",
    "\n",
    "reps = 4\n",
    "\n",
    "mag = np.zeros((reps, vna.get_nop()))\n",
    "pha = np.zeros((reps, vna.get_nop()))\n",
    "\n",
    "gain = np.zeros((reps, vna.get_nop()))\n",
    "delta_pha = np.zeros((reps, vna.get_nop()))\n",
    "\n",
    "\n",
    "start_time = datetime.now()\n",
    "\n",
    "#get_reference\n",
    "anapico.set_off(1)\n",
    "time.sleep(10)\n",
    "mag_ref, pha_ref = vna.get_data()\n",
    "anapico.set_on(1)\n",
    "\n",
    "state['mag_ref'] = mag_ref\n",
    "state['pha_ref'] = pha_ref\n",
    "\n",
    "\n",
    "for i in range(reps):\n",
    "    print('rep:', i)\n",
    "    mag_curr, pha_curr = vna.get_data()\n",
    "    mag[i] = mag_curr\n",
    "    pha[i] = pha_curr\n",
    "    \n",
    "    gain[i] = mag_curr-np.mean(mag_ref)\n",
    "    delta_pha[i] = pha_curr-np.mean(pha_ref)\n",
    "    \n",
    "    state['mag'] = mag\n",
    "    state['pha'] = pha\n",
    "    \n",
    "    state['gain'] = gain\n",
    "    state['delta_pha'] = delta_pha\n",
    "\n",
    "    file_name_o = 'Alan_variance_band_1_nop_10001'\n",
    "    file_name = path + '\\\\' + file_name_o + start_time.strftime(r'_%Y-%m-%d-%H-%M-%S') + '.mat'\n",
    "    savemat(file_name, state)\n",
    "    \n",
    "anapico.set_off(1)\n",
    "dc.set_off()"
   ]
  },
  {
   "cell_type": "code",
   "execution_count": 18,
   "id": "58505bcc",
   "metadata": {},
   "outputs": [
    {
     "data": {
      "text/plain": [
       "(400040,)"
      ]
     },
     "execution_count": 18,
     "metadata": {},
     "output_type": "execute_result"
    }
   ],
   "source": [
    "(gain.reshape(1, -1)[0]).shape"
   ]
  },
  {
   "cell_type": "code",
   "execution_count": 23,
   "id": "fbea42ef",
   "metadata": {},
   "outputs": [
    {
     "data": {
      "text/plain": [
       "[<matplotlib.lines.Line2D at 0x17307875250>]"
      ]
     },
     "execution_count": 23,
     "metadata": {},
     "output_type": "execute_result"
    },
    {
     "data": {
      "image/png": "[encoded data removed]",
      "text/plain": [
       "<Figure size 432x288 with 1 Axes>"
      ]
     },
     "metadata": {
      "needs_background": "light"
     },
     "output_type": "display_data"
    }
   ],
   "source": [
    "plt.plot(delta_pha.reshape(1, -1)[0, 11:])"
   ]
  },
  {
   "cell_type": "code",
   "execution_count": 1,
   "id": "5a8b4b7a",
   "metadata": {},
   "outputs": [
    {
     "ename": "NameError",
     "evalue": "name 'matplotlib' is not defined",
     "output_type": "error",
     "traceback": [
      "\u001b[1;31m---------------------------------------------------------------------------\u001b[0m",
      "\u001b[1;31mNameError\u001b[0m                                 Traceback (most recent call last)",
      "Cell \u001b[1;32mIn[1], line 2\u001b[0m\n\u001b[0;32m      1\u001b[0m font \u001b[38;5;241m=\u001b[39m {\u001b[38;5;124m'\u001b[39m\u001b[38;5;124msize\u001b[39m\u001b[38;5;124m'\u001b[39m   : \u001b[38;5;241m15\u001b[39m}\n\u001b[1;32m----> 2\u001b[0m \u001b[43mmatplotlib\u001b[49m\u001b[38;5;241m.\u001b[39mrc(\u001b[38;5;124m'\u001b[39m\u001b[38;5;124mfont\u001b[39m\u001b[38;5;124m'\u001b[39m, \u001b[38;5;241m*\u001b[39m\u001b[38;5;241m*\u001b[39mfont)\n\u001b[0;32m      4\u001b[0m fig, ax \u001b[38;5;241m=\u001b[39m plt\u001b[38;5;241m.\u001b[39msubplots(\u001b[38;5;241m2\u001b[39m, \u001b[38;5;241m1\u001b[39m, figsize \u001b[38;5;241m=\u001b[39m (\u001b[38;5;241m15\u001b[39m, \u001b[38;5;241m7\u001b[39m), sharex \u001b[38;5;241m=\u001b[39m \u001b[38;5;28;01mTrue\u001b[39;00m)\n\u001b[0;32m      5\u001b[0m ax[\u001b[38;5;241m0\u001b[39m]\u001b[38;5;241m.\u001b[39mgrid()\n",
      "\u001b[1;31mNameError\u001b[0m: name 'matplotlib' is not defined"
     ]
    }
   ],
   "source": [
    "font = {'size'   : 15}\n",
    "matplotlib.rc('font', **font)\n",
    "\n",
    "fig, ax = plt.subplots(2, 1, figsize = (15, 7), sharex = True)\n",
    "ax[0].grid()\n",
    "ax[1].grid()\n",
    "# ax[0].set_xlabel('Freq, GHz')\n",
    "ax[0].set_ylabel('Pha, db')\n",
    "ax[1].set_xlabel('Freq, GHz')\n",
    "ax[1].set_ylabel('Mag, db')\n",
    "\n",
    "ax[1].plot(gain.reshape(1, -1)[0, 70:].T, label = 'gain')\n",
    "ax[0].plot(delta_pha.reshape(1, -1)[0, 70:].T, label = 'pha')\n",
    "\n",
    "ax[0].legend()\n",
    "ax[1].legend()"
   ]
  },
  {
   "cell_type": "code",
   "execution_count": 139,
   "id": "395cd3f2",
   "metadata": {},
   "outputs": [
    {
     "name": "stderr",
     "output_type": "stream",
     "text": [
      "C:\\Users\\Demag\\AppData\\Local\\Temp\\ipykernel_48308\\1680224359.py:8: RuntimeWarning: divide by zero encountered in divide\n",
      "  plt.loglog(freq2, 1/freq2*1500)\n"
     ]
    },
    {
     "data": {
      "text/plain": [
       "[<matplotlib.lines.Line2D at 0x17356f8b9d0>]"
      ]
     },
     "execution_count": 139,
     "metadata": {},
     "output_type": "execute_result"
    },
    {
     "data": {
      "image/png": "[encoded data removed]",
      "text/plain": [
       "<Figure size 432x288 with 1 Axes>"
      ]
     },
     "metadata": {
      "needs_background": "light"
     },
     "output_type": "display_data"
    }
   ],
   "source": [
    "freq = np.linspace(-100e5 / 2, 100e5 / 2, len(gain[0]))\n",
    "freq2 = np.linspace(-10e5 / 2, 10e5 / 2, len(gain[0]))\n",
    "\n",
    "\n",
    "plt.loglog(freq, abs(fftshift(fft(np.sqrt(np.power(10, mat['mag'][3] / 10))))) ** 2)\n",
    "plt.loglog(freq2, abs(fftshift(fft(np.sqrt(np.power(10, mag[3] / 10))))) ** 2)\n",
    "\n",
    "plt.loglog(freq2, 1/freq2*1500)"
   ]
  },
  {
   "cell_type": "code",
   "execution_count": 127,
   "id": "941b9006",
   "metadata": {},
   "outputs": [
    {
     "data": {
      "text/plain": [
       "(4, 10001)"
      ]
     },
     "execution_count": 127,
     "metadata": {},
     "output_type": "execute_result"
    }
   ],
   "source": [
    "mat['mag'].shape"
   ]
  },
  {
   "cell_type": "code",
   "execution_count": 36,
   "id": "57c4bdc6",
   "metadata": {},
   "outputs": [
    {
     "data": {
      "text/plain": [
       "dict_keys(['__header__', '__version__', '__globals__', 'pf_9', 'pp_9', 'dc_9', 'T', 'band_vna', 'nop_vna', 'cw_vna', 'reps', 'mag_ref', 'pha_ref', 'mag', 'pha', 'gain', 'delta_pha'])"
      ]
     },
     "execution_count": 36,
     "metadata": {},
     "output_type": "execute_result"
    }
   ],
   "source": [
    "import scipy.io\n",
    "from scipy.io import savemat, loadmat\n",
    "\n",
    "file = 'Alan_variance_band_1_nop_10001_2025-06-24-17-25-35.mat'\n",
    "mat = loadmat(path + '\\\\'+file)\n",
    "mat.keys()"
   ]
  },
  {
   "cell_type": "code",
   "execution_count": 33,
   "id": "a0aea5ad",
   "metadata": {
    "scrolled": true
   },
   "outputs": [
    {
     "name": "stdout",
     "output_type": "stream",
     "text": [
      "Collecting allantools\n",
      "  Using cached allantools-2024.6-py3-none-any.whl (47 kB)\n",
      "Requirement already satisfied: scipy>=1.6.0 in c:\\users\\demag\\anaconda3\\lib\\site-packages (from allantools) (1.7.3)\n",
      "Requirement already satisfied: numpy in c:\\users\\demag\\anaconda3\\lib\\site-packages (from allantools) (1.22.4)\n",
      "Requirement already satisfied: pytest in c:\\users\\demag\\anaconda3\\lib\\site-packages (from allantools) (7.1.1)\n",
      "Requirement already satisfied: matplotlib in c:\\users\\demag\\anaconda3\\lib\\site-packages (from allantools) (3.5.1)\n",
      "Requirement already satisfied: numpydoc in c:\\users\\demag\\anaconda3\\lib\\site-packages (from allantools) (1.2)\n",
      "Requirement already satisfied: cycler>=0.10 in c:\\users\\demag\\anaconda3\\lib\\site-packages (from matplotlib->allantools) (0.11.0)\n",
      "Requirement already satisfied: pyparsing>=2.2.1 in c:\\users\\demag\\anaconda3\\lib\\site-packages (from matplotlib->allantools) (3.0.4)\n",
      "Requirement already satisfied: kiwisolver>=1.0.1 in c:\\users\\demag\\anaconda3\\lib\\site-packages (from matplotlib->allantools) (1.3.2)\n",
      "Requirement already satisfied: pillow>=6.2.0 in c:\\users\\demag\\anaconda3\\lib\\site-packages (from matplotlib->allantools) (9.0.1)\n",
      "Requirement already satisfied: python-dateutil>=2.7 in c:\\users\\demag\\anaconda3\\lib\\site-packages (from matplotlib->allantools) (2.8.2)\n",
      "Requirement already satisfied: packaging>=20.0 in c:\\users\\demag\\anaconda3\\lib\\site-packages (from matplotlib->allantools) (21.3)\n",
      "Requirement already satisfied: fonttools>=4.22.0 in c:\\users\\demag\\anaconda3\\lib\\site-packages (from matplotlib->allantools) (4.25.0)\n",
      "Requirement already satisfied: six>=1.5 in c:\\users\\demag\\anaconda3\\lib\\site-packages (from python-dateutil>=2.7->matplotlib->allantools) (1.16.0)\n",
      "Requirement already satisfied: sphinx>=1.8 in c:\\users\\demag\\anaconda3\\lib\\site-packages (from numpydoc->allantools) (4.4.0)\n",
      "Requirement already satisfied: Jinja2>=2.10 in c:\\users\\demag\\anaconda3\\lib\\site-packages (from numpydoc->allantools) (2.11.3)\n",
      "Requirement already satisfied: MarkupSafe>=0.23 in c:\\users\\demag\\anaconda3\\lib\\site-packages (from Jinja2>=2.10->numpydoc->allantools) (2.0.1)\n",
      "Requirement already satisfied: Pygments>=2.0 in c:\\users\\demag\\anaconda3\\lib\\site-packages (from sphinx>=1.8->numpydoc->allantools) (2.11.2)\n",
      "Requirement already satisfied: imagesize in c:\\users\\demag\\anaconda3\\lib\\site-packages (from sphinx>=1.8->numpydoc->allantools) (1.3.0)\n",
      "Requirement already satisfied: sphinxcontrib-qthelp in c:\\users\\demag\\anaconda3\\lib\\site-packages (from sphinx>=1.8->numpydoc->allantools) (1.0.3)\n",
      "Requirement already satisfied: docutils<0.18,>=0.14 in c:\\users\\demag\\anaconda3\\lib\\site-packages (from sphinx>=1.8->numpydoc->allantools) (0.17.1)\n",
      "Requirement already satisfied: babel>=1.3 in c:\\users\\demag\\anaconda3\\lib\\site-packages (from sphinx>=1.8->numpydoc->allantools) (2.9.1)\n",
      "Requirement already satisfied: colorama>=0.3.5 in c:\\users\\demag\\anaconda3\\lib\\site-packages (from sphinx>=1.8->numpydoc->allantools) (0.4.4)\n",
      "Requirement already satisfied: sphinxcontrib-jsmath in c:\\users\\demag\\anaconda3\\lib\\site-packages (from sphinx>=1.8->numpydoc->allantools) (1.0.1)\n",
      "Requirement already satisfied: snowballstemmer>=1.1 in c:\\users\\demag\\anaconda3\\lib\\site-packages (from sphinx>=1.8->numpydoc->allantools) (2.2.0)\n",
      "Requirement already satisfied: sphinxcontrib-htmlhelp>=2.0.0 in c:\\users\\demag\\anaconda3\\lib\\site-packages (from sphinx>=1.8->numpydoc->allantools) (2.0.0)\n",
      "Requirement already satisfied: importlib-metadata>=4.4 in c:\\users\\demag\\anaconda3\\lib\\site-packages (from sphinx>=1.8->numpydoc->allantools) (4.11.3)\n",
      "Requirement already satisfied: requests>=2.5.0 in c:\\users\\demag\\anaconda3\\lib\\site-packages (from sphinx>=1.8->numpydoc->allantools) (2.27.1)\n",
      "Requirement already satisfied: sphinxcontrib-applehelp in c:\\users\\demag\\anaconda3\\lib\\site-packages (from sphinx>=1.8->numpydoc->allantools) (1.0.2)\n",
      "Requirement already satisfied: sphinxcontrib-devhelp in c:\\users\\demag\\anaconda3\\lib\\site-packages (from sphinx>=1.8->numpydoc->allantools) (1.0.2)\n",
      "Requirement already satisfied: sphinxcontrib-serializinghtml>=1.1.5 in c:\\users\\demag\\anaconda3\\lib\\site-packages (from sphinx>=1.8->numpydoc->allantools) (1.1.5)\n",
      "Requirement already satisfied: alabaster<0.8,>=0.7 in c:\\users\\demag\\anaconda3\\lib\\site-packages (from sphinx>=1.8->numpydoc->allantools) (0.7.12)\n",
      "Requirement already satisfied: pytz>=2015.7 in c:\\users\\demag\\anaconda3\\lib\\site-packages (from babel>=1.3->sphinx>=1.8->numpydoc->allantools) (2021.3)\n",
      "Requirement already satisfied: zipp>=0.5 in c:\\users\\demag\\anaconda3\\lib\\site-packages (from importlib-metadata>=4.4->sphinx>=1.8->numpydoc->allantools) (3.7.0)\n",
      "Requirement already satisfied: charset-normalizer~=2.0.0 in c:\\users\\demag\\anaconda3\\lib\\site-packages (from requests>=2.5.0->sphinx>=1.8->numpydoc->allantools) (2.0.4)\n",
      "Requirement already satisfied: certifi>=2017.4.17 in c:\\users\\demag\\anaconda3\\lib\\site-packages (from requests>=2.5.0->sphinx>=1.8->numpydoc->allantools) (2021.10.8)\n",
      "Requirement already satisfied: idna<4,>=2.5 in c:\\users\\demag\\anaconda3\\lib\\site-packages (from requests>=2.5.0->sphinx>=1.8->numpydoc->allantools) (3.3)\n",
      "Requirement already satisfied: urllib3<1.27,>=1.21.1 in c:\\users\\demag\\anaconda3\\lib\\site-packages (from requests>=2.5.0->sphinx>=1.8->numpydoc->allantools) (1.26.9)\n",
      "Requirement already satisfied: attrs>=19.2.0 in c:\\users\\demag\\anaconda3\\lib\\site-packages (from pytest->allantools) (23.1.0)\n",
      "Requirement already satisfied: iniconfig in c:\\users\\demag\\anaconda3\\lib\\site-packages (from pytest->allantools) (1.1.1)\n",
      "Requirement already satisfied: pluggy<2.0,>=0.12 in c:\\users\\demag\\anaconda3\\lib\\site-packages (from pytest->allantools) (1.0.0)\n",
      "Requirement already satisfied: py>=1.8.2 in c:\\users\\demag\\anaconda3\\lib\\site-packages (from pytest->allantools) (1.11.0)\n",
      "Requirement already satisfied: tomli>=1.0.0 in c:\\users\\demag\\anaconda3\\lib\\site-packages (from pytest->allantools) (1.2.2)\n",
      "Requirement already satisfied: atomicwrites>=1.0 in c:\\users\\demag\\anaconda3\\lib\\site-packages (from pytest->allantools) (1.4.0)\n",
      "Installing collected packages: allantools\n",
      "Successfully installed allantools-2024.6\n",
      "Note: you may need to restart the kernel to use updated packages.\n"
     ]
    },
    {
     "name": "stderr",
     "output_type": "stream",
     "text": [
      "sys:1: ResourceWarning: Unclosed socket <zmq.Socket(zmq.PUSH) at 0x172eca68f40>\n",
      "ResourceWarning: Enable tracemalloc to get the object allocation traceback\n",
      "C:\\Users\\Demag\\anaconda3\\lib\\site-packages\\IPython\\utils\\_process_win32.py:124: ResourceWarning: unclosed file <_io.BufferedWriter name=4>\n",
      "  return process_handler(cmd, _system_body)\n",
      "ResourceWarning: Enable tracemalloc to get the object allocation traceback\n",
      "C:\\Users\\Demag\\anaconda3\\lib\\site-packages\\IPython\\utils\\_process_win32.py:124: ResourceWarning: unclosed file <_io.BufferedReader name=5>\n",
      "  return process_handler(cmd, _system_body)\n",
      "ResourceWarning: Enable tracemalloc to get the object allocation traceback\n",
      "C:\\Users\\Demag\\anaconda3\\lib\\site-packages\\IPython\\utils\\_process_win32.py:124: ResourceWarning: unclosed file <_io.BufferedReader name=6>\n",
      "  return process_handler(cmd, _system_body)\n",
      "ResourceWarning: Enable tracemalloc to get the object allocation traceback\n"
     ]
    }
   ],
   "source": [
    "%pip install allantools"
   ]
  },
  {
   "cell_type": "code",
   "execution_count": 34,
   "id": "e38fdebc",
   "metadata": {},
   "outputs": [],
   "source": [
    "import allantools"
   ]
  },
  {
   "cell_type": "code",
   "execution_count": 142,
   "id": "9661e1be",
   "metadata": {},
   "outputs": [],
   "source": [
    "gg = mat['mag'][0, 70:]\n",
    "freq = np.logspace(0, 10, len(gg))"
   ]
  },
  {
   "cell_type": "code",
   "execution_count": 144,
   "id": "ed992939",
   "metadata": {
    "scrolled": false
   },
   "outputs": [
    {
     "data": {
      "image/png": "[encoded data removed]",
      "text/plain": [
       "<Figure size 432x288 with 1 Axes>"
      ]
     },
     "metadata": {
      "needs_background": "light"
     },
     "output_type": "display_data"
    }
   ],
   "source": [
    "(t2, ad, ade, adn) = allantools.adev(gg, rate=10, data_type=\"phase\", taus='octave')\n",
    "fig = plt.loglog(t2, ad)"
   ]
  },
  {
   "cell_type": "code",
   "execution_count": 112,
   "id": "3a64c4a4",
   "metadata": {},
   "outputs": [
    {
     "data": {
      "image/png": "[encoded data removed]",
      "text/plain": [
       "<Figure size 432x288 with 1 Axes>"
      ]
     },
     "metadata": {
      "needs_background": "light"
     },
     "output_type": "display_data"
    }
   ],
   "source": [
    "x = allantools.noise.white(10000)        # Generate some phase data, in seconds.\n",
    "(taus, adevs, errors, ns) = allantools.oadev(x)\n",
    "fig = plt.loglog(taus, adevs)"
   ]
  },
  {
   "cell_type": "code",
   "execution_count": 93,
   "id": "b09e9d15",
   "metadata": {},
   "outputs": [
    {
     "data": {
      "image/png": "[encoded data removed]",
      "text/plain": [
       "<Figure size 432x288 with 1 Axes>"
      ]
     },
     "metadata": {
      "needs_background": "light"
     },
     "output_type": "display_data"
    }
   ],
   "source": [
    "import numpy as np\n",
    "import matplotlib.pyplot as plt\n",
    "\n",
    "def allan_deviation(data, dt=1.0, max_cluster=None):\n",
    "    N = len(data)\n",
    "    if max_cluster is None:\n",
    "        max_cluster = N // 2\n",
    "    \n",
    "    tau = []\n",
    "    adev = []\n",
    "    \n",
    "    for m in range(1, max_cluster + 1):\n",
    "        K = N // m\n",
    "        if K < 2:\n",
    "            break\n",
    "        \n",
    "        # Cluster averages\n",
    "        y_reshaped = data[:K * m].reshape(K, m)\n",
    "        y_avg = np.mean(y_reshaped, axis=1)\n",
    "        \n",
    "        # Squared differences\n",
    "        diff = np.diff(y_avg)\n",
    "        avar = 0.5 * np.mean(diff ** 2)\n",
    "        \n",
    "        tau.append(m * dt)\n",
    "        adev.append(np.sqrt(avar))\n",
    "    \n",
    "    return np.array(tau), np.array(adev)\n",
    "\n",
    "# Example usage:\n",
    "# Assume `magnitude_data` is your dataset, `dt = 1/f_s`\n",
    "tau, adev = allan_deviation(gg, dt=1/1e5)"
   ]
  },
  {
   "cell_type": "code",
   "execution_count": 99,
   "id": "c2c3e408",
   "metadata": {},
   "outputs": [
    {
     "data": {
      "image/png": "[encoded data removed]",
      "text/plain": [
       "<Figure size 432x288 with 1 Axes>"
      ]
     },
     "metadata": {
      "needs_background": "light"
     },
     "output_type": "display_data"
    }
   ],
   "source": [
    "plt.loglog(tau[:-50000], adev[:-50000])\n",
    "plt.xlabel('Averaging Time (τ) [s]')\n",
    "plt.ylabel(r'$σ_y(τ)$')\n",
    "plt.title('Allan Deviation Diagram')\n",
    "plt.grid(True, which=\"both\", ls=\"--\")\n",
    "plt.show()"
   ]
  },
  {
   "cell_type": "code",
   "execution_count": null,
   "id": "1914e32c",
   "metadata": {},
   "outputs": [],
   "source": []
  }
 ],
 "metadata": {
  "kernelspec": {
   "display_name": "Python 3 (ipykernel)",
   "language": "python",
   "name": "python3"
  },
  "language_info": {
   "codemirror_mode": {
    "name": "ipython",
    "version": 3
   },
   "file_extension": ".py",
   "mimetype": "text/x-python",
   "name": "python",
   "nbconvert_exporter": "python",
   "pygments_lexer": "ipython3",
   "version": "3.9.12"
  }
 },
 "nbformat": 4,
 "nbformat_minor": 5
}
