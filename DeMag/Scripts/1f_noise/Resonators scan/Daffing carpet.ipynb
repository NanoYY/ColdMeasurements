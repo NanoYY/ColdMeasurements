{
 "cells": [
  {
   "cell_type": "code",
   "execution_count": 15,
   "id": "c170d2ca",
   "metadata": {},
   "outputs": [
    {
     "name": "stdout",
     "output_type": "stream",
     "text": [
      "Folder C:\\Users\\Demag\\PycharmProjects\\ColdMeasurements\\DeMag\\DATA\\Daffing already exists\n"
     ]
    }
   ],
   "source": [
    "import pyvisa\n",
    "from qcodes.instrument_drivers.rohde_schwarz import (\n",
    "    RohdeSchwarzZNB8,\n",
    "    RohdeSchwarzZNBChannel,\n",
    ")\n",
    "import matplotlib.pyplot as plt\n",
    "import matplotlib\n",
    "import matplotlib.animation as animation\n",
    "\n",
    "%matplotlib qt\n",
    "\n",
    "import numpy as np\n",
    "from numpy import *\n",
    "from scipy.fft import fft, ifft, fftshift\n",
    "from scipy.io import savemat\n",
    "from datetime import datetime, timedelta\n",
    "import time\n",
    "\n",
    "import os\n",
    "import scipy.io as sio\n",
    "import h5py\n",
    "\n",
    "import scipy.fft\n",
    "Global_data_adress = r\"C:\\Users\\Demag\\PycharmProjects\\ColdMeasurements\\DeMag\\DATA\"\n",
    "exp_name = 'Daffing'\n",
    "adress = Global_data_adress+'\\\\'+exp_name\n",
    "if not os.path.exists(adress):\n",
    "  os.mkdir(adress)\n",
    "  print(\"Folder %s created!\" % adress)\n",
    "else:\n",
    "  print(\"Folder %s already exists\" % adress)"
   ]
  },
  {
   "cell_type": "code",
   "execution_count": 16,
   "id": "68f2e17d",
   "metadata": {},
   "outputs": [
    {
     "name": "stdout",
     "output_type": "stream",
     "text": [
      "Folder C:\\Users\\Demag\\PycharmProjects\\ColdMeasurements\\DeMag\\DATA\\Daffing\\3D_Daffing already exists\n"
     ]
    }
   ],
   "source": [
    "now = datetime.now()\n",
    "path = adress +'\\\\'+ '3D_Daffing'\n",
    "if not os.path.exists(path):\n",
    "  os.mkdir(path)\n",
    "  print(\"Folder %s created!\" % path)\n",
    "else:\n",
    "  print(\"Folder %s already exists\" % path)"
   ]
  },
  {
   "cell_type": "code",
   "execution_count": 17,
   "id": "dc57747b",
   "metadata": {},
   "outputs": [],
   "source": [
    "def magtodb(mag): return 20*np.log10(mag)\n",
    "\n",
    "def vna_setup_CW(cw_frequency=6e9, vna_power=-30, bandwidth=10):\n",
    "    try: print(vna.query('*IDN?'))                 # check if connection already exist\n",
    "    except:                                        # if no connection\n",
    "        rm = pyvisa.ResourceManager()\n",
    "        vna = rm.open_resource('TCPIP0::169.254.36.111::inst0::INSTR') # GPIB connection\n",
    "        print(vna.query('*IDN?'))\n",
    "        \n",
    "    vna.write(':SENS1:BAND {}'.format(str(bandwidth))) # set defoult bandwidth\n",
    "    vna.write('SOUR1:POW {}'.format(str(vna_power)))   # set defoult power\n",
    "    vna.write('INIT1:CONT OFF')                        # single-sweep mode\n",
    "    vna.write('SENS1:SWE:POIN 201')                    # set maximum possible number of points for single sweep\n",
    "    vna.write(':SENS1:SWE:TYPE CW')                    # set CW mode of measurements\n",
    "    return vna\n",
    "\n",
    "\n",
    "def vna_on(): vna.write('OUTP ON')\n",
    "def vna_off(): vna.write('OUTP OFF')\n",
    "    \n",
    "def vna_meas_points(): \n",
    "    return int(vna.query('SENS1:SWE:POIN?'))  # should be 201\n",
    "\n",
    "def vna_sweep_time(): \n",
    "    return float(vna.query('SENS1:SWE:TIME?'))  # estimated sweep time for current settings of vna\n",
    "\n",
    "def vna_set_cw_freq(freq): \n",
    "    vna.write('SENS1:FREQ:CW {}'.format(str(freq))) # set single frequency point for CW mode in Hz\n",
    "\n",
    "def vna_set_power(power): \n",
    "    vna.write('SOUR1:POW {}'.format(str(power))) # set power\n",
    "    \n",
    "def vna_set_band(bandwidth): \n",
    "    vna.write(':SENS1:BAND {}'.format(str(bandwidth))) # set power\n",
    "    \n",
    "def vna_meas_cw():\n",
    "    vna_on()\n",
    "    vna.write(\"INIT1:IMM\")                              # start measurement\n",
    "    time.sleep(0.2+float(vna.query('SENS1:SWE:TIME?'))) # this part is important becouse the measurement nedds to finnish before readout process\n",
    "    vna.write(\"CALC1:FORM MLOG\")                        # format of data\n",
    "    data_str = vna.query(\"CALC1:DATA? SDAT\")            # readout\n",
    "    \n",
    "    data = np.array(data_str.rstrip().split(\",\")).astype(\"float64\")\n",
    "    s = data[0::2] + 1j * data[1::2]\n",
    "    i = data[0::2]\n",
    "    q = data[1::2]\n",
    "    return abs(s), angle(s)"
   ]
  },
  {
   "cell_type": "code",
   "execution_count": 18,
   "id": "0300f686",
   "metadata": {},
   "outputs": [
    {
     "data": {
      "text/plain": [
       "20"
      ]
     },
     "execution_count": 18,
     "metadata": {},
     "output_type": "execute_result"
    }
   ],
   "source": [
    "rm = pyvisa.ResourceManager()\n",
    "vna = rm.open_resource('TCPIP0::169.254.36.111::inst0::INSTR') # GPIB connection\n",
    "vna.write('INIT1:CONT OFF')\n",
    "vna.write(':SENS1:SWE:TYPE CW')  "
   ]
  },
  {
   "cell_type": "markdown",
   "id": "d1f62288",
   "metadata": {},
   "source": [
    "# TWPA ON"
   ]
  },
  {
   "cell_type": "code",
   "execution_count": 19,
   "id": "1b40138f",
   "metadata": {},
   "outputs": [
    {
     "name": "stdout",
     "output_type": "stream",
     "text": [
      "\n"
     ]
    },
    {
     "data": {
      "text/plain": [
       "16"
      ]
     },
     "execution_count": 19,
     "metadata": {},
     "output_type": "execute_result"
    }
   ],
   "source": [
    "rm = pyvisa.ResourceManager()\n",
    "anapico = rm.open_resource('TCPIP0::169.254.5.91::inst0::INSTR') # LAN connection\n",
    "print(anapico.query('*IDN?'))\n",
    "anapico.write(r':SYST:COMM:LAN:RTMO 1')\n",
    "freq = 11.252e9\n",
    "flux_power = -6\n",
    "anapico.write(r'SOUR1:FREQ {}'.format(str(freq)))\n",
    "anapico.write(r'SOUR1:POW {}'.format(str(power)))\n",
    "anapico.write(r'OUTP1 ON')\n",
    "\n",
    "dc_source = rm.open_resource('GPIB0::3::INSTR')\n",
    "dc_source.write('VOLT:OFFS {}'.format(str(2.25))) "
   ]
  },
  {
   "cell_type": "code",
   "execution_count": 23,
   "id": "cae4c3bb",
   "metadata": {},
   "outputs": [],
   "source": [
    "anapico.close()"
   ]
  },
  {
   "cell_type": "code",
   "execution_count": null,
   "id": "ac6b29fb",
   "metadata": {},
   "outputs": [],
   "source": []
  },
  {
   "cell_type": "code",
   "execution_count": 20,
   "id": "9f49e887",
   "metadata": {},
   "outputs": [
    {
     "name": "stdout",
     "output_type": "stream",
     "text": [
      "Start:  15-12-26\n",
      "Will stop at  02/11 09-52-26\n"
     ]
    }
   ],
   "source": [
    "nop_fr = 60\n",
    "nop_mea = 10000\n",
    "repeat = 100\n",
    "xs = np.zeros((nop_fr, nop_mea*repeat))\n",
    "ys = np.zeros((nop_fr, nop_mea*repeat))\n",
    "\n",
    "\n",
    "freq = np.linspace(5.78095e9, 5.781487e9,nop_fr)\n",
    "\n",
    "vna.write('SENS1:SWE:POIN {}'.format(nop_mea))\n",
    "vna.write('SENS1:AVER:STAT OFF')\n",
    "\n",
    "power = -7\n",
    "bandwidth = 1000000\n",
    "vna_set_power(power)\n",
    "vna_set_band(bandwidth)\n",
    "\n",
    "now = datetime.now()\n",
    "print('Start: ', now.strftime(r'%H-%M-%S'))\n",
    "runtime = 11.2*nop_fr*repeat/10000*nop_mea\n",
    "print('Will stop at ', str((now+timedelta(seconds=runtime)).strftime(r'%d/%m %H-%M-%S')))"
   ]
  },
  {
   "cell_type": "code",
   "execution_count": 21,
   "id": "d8df1843",
   "metadata": {
    "scrolled": true
   },
   "outputs": [
    {
     "name": "stdout",
     "output_type": "stream",
     "text": [
      " run: 0/60\n",
      " run: 1/60\n",
      " run: 2/60\n",
      " run: 3/60\n",
      " run: 4/60\n",
      " run: 5/60\n",
      " run: 6/60\n",
      " run: 7/60\n",
      " run: 8/60\n",
      " run: 9/60\n",
      " run: 10/60\n",
      " run: 11/60\n",
      " run: 12/60\n",
      " run: 13/60\n",
      " run: 14/60\n",
      " run: 15/60\n",
      " run: 16/60\n",
      " run: 17/60\n",
      " run: 18/60\n",
      " run: 19/60\n",
      " run: 20/60\n",
      " run: 21/60\n",
      " run: 22/60\n",
      " run: 23/60\n",
      " run: 24/60\n",
      " run: 25/60\n",
      " run: 26/60\n",
      " run: 27/60\n",
      " run: 28/60\n",
      " run: 29/60\n",
      " run: 30/60\n",
      " run: 31/60\n",
      " run: 32/60\n",
      " run: 33/60\n",
      " run: 34/60\n",
      " run: 35/60\n",
      " run: 36/60\n",
      " run: 37/60\n",
      " run: 38/60\n",
      " run: 39/60\n",
      " run: 40/60\n",
      " run: 41/60\n",
      " run: 42/60\n",
      " run: 43/60\n",
      " run: 44/60\n",
      " run: 45/60\n",
      " run: 46/60\n",
      " run: 47/60\n",
      " run: 48/60\n",
      " run: 49/60\n",
      " run: 50/60\n",
      " run: 51/60\n",
      " run: 52/60\n",
      " run: 53/60\n",
      " run: 54/60\n",
      " run: 55/60\n",
      " run: 56/60\n",
      " run: 57/60\n",
      " run: 58/60\n",
      " run: 59/60\n",
      "Stop:  09-47-26\n"
     ]
    }
   ],
   "source": [
    "def get_mea(j):\n",
    "    Mag = np.array([])\n",
    "    Pha = np.array([])\n",
    "    for k in range(repeat):\n",
    "        vna_set_cw_freq(freq[j])\n",
    "        Mag_1, Pha_1 = vna_meas_cw()\n",
    "        Mag = np.append(Mag, Mag_1)\n",
    "        Pha = np.append(Pha, Pha_1)\n",
    "        \n",
    "#     now = datetime.now()\n",
    "#     print(now.strftime(r'%H-%M-%S'), ' run:', j)\n",
    "    \n",
    "    return Mag, Pha\n",
    "        \n",
    "\n",
    "dict_data=dict()\n",
    "dict_data['freq'] = freq\n",
    "dict_data['power'] = power\n",
    "dict_data['vna_bandwidth'] = bandwidth\n",
    "experiment_name = '3D_Hist_1freq_dir_order'\n",
    "file_name = path+'\\\\'+experiment_name+'.mat'\n",
    "\n",
    "\n",
    "for j in range(nop_fr):\n",
    "    Mag, Pha = get_mea(j)\n",
    "    xs[j] = Mag\n",
    "    ys[j] = Pha\n",
    "    dict_data['mag_{}'.format(j)] = np.array(Mag)\n",
    "    dict_data['pha_{}'.format(j)] = np.array(Pha)\n",
    "    savemat(file_name, dict_data)\n",
    "    print(' run: {}/{}'.format(j, len(freq)))\n",
    "\n",
    "now = datetime.now()    \n",
    "print('Stop: ', now.strftime(r'%H-%M-%S'))"
   ]
  },
  {
   "cell_type": "code",
   "execution_count": 22,
   "id": "4463540d",
   "metadata": {},
   "outputs": [],
   "source": [
    "fig = plt.figure()\n",
    "ax = fig.add_subplot(111)\n",
    "plt.title('Pow=-7, Band = 1MHz, direct sweep, MAG')\n",
    "\n",
    "# HIST_BINS_mag = np.linspace(1, 3, 5000)\n",
    "# HIST_BINS_pha = np.linspace(-3.5, -1.6, 5000)\n",
    "\n",
    "HIST_BINS_mag = np.linspace(np.min(xs), np.max(xs), 5000)\n",
    "HIST_BINS_pha = np.linspace(np.min(ys), np.max(ys), 5000)\n",
    "\n",
    "x = (HIST_BINS_mag[1:]+HIST_BINS_mag[:-1])/2\n",
    "hi = np.zeros((nop_fr, len(x)))\n",
    "\n",
    "\n",
    "for j in range(len(freq)):\n",
    "    \n",
    "    hi[j], bins = np.histogram(xs[j], bins=HIST_BINS_mag)\n",
    "    \n",
    "    \n",
    "cmap = plt.get_cmap('PuBu_r').copy()\n",
    "cmap.set_extremes(under='#4984b8')\n",
    "    \n",
    "boundaries = np.arange(0, 100, 200)    \n",
    "c = ax.pcolor(x, freq, hi, cmap=cmap, \n",
    "               vmin=1)\n",
    "fig.colorbar(c, ax=ax)\n",
    "\n",
    "ax.set_xlabel('X')\n",
    "ax.set_ylabel('Y')\n",
    "\n",
    "plt.show()\n",
    "\n",
    "fig = plt.figure()\n",
    "ax = fig.add_subplot(111)\n",
    "plt.title('Pow=-7, Band = 10kHz, dual sweep, PHA')\n",
    "\n",
    "x = (HIST_BINS_pha[1:]+HIST_BINS_pha[:-1])/2\n",
    "hi = np.zeros((nop_fr, len(x)))\n",
    "\n",
    "for j in range(len(freq)):\n",
    "    \n",
    "    hi[j], bins = np.histogram(ys[j], bins=HIST_BINS_pha)\n",
    "    \n",
    "    \n",
    "c = ax.pcolor(x, freq, hi, cmap=cmap, vmin=1)\n",
    "fig.colorbar(c, ax=ax)\n",
    "\n",
    "ax.set_xlabel('X')\n",
    "ax.set_ylabel('Y')\n",
    "\n",
    "plt.show()"
   ]
  },
  {
   "cell_type": "code",
   "execution_count": 65,
   "id": "615b8e4c",
   "metadata": {},
   "outputs": [],
   "source": [
    "dict_data=dict()\n",
    "dict_data['freq'] = freq\n",
    "dict_data['power'] = power\n",
    "dict_data['vna_bandwidth'] = bandwidth\n",
    "\n",
    "dict_data['mag_s'] = np.array(xs)\n",
    "dict_data['pha_s'] = np.array(ys)\n",
    "\n",
    "experiment_name = 'S2_3D_Hist_110freq_inv_order'\n",
    "file_name = path+'\\\\'+experiment_name+'_'+now.strftime(r'%H-%M-%S')+'.mat'\n",
    "savemat(file_name, dict_data)"
   ]
  },
  {
   "cell_type": "code",
   "execution_count": 21,
   "id": "0e701895",
   "metadata": {},
   "outputs": [
    {
     "name": "stdout",
     "output_type": "stream",
     "text": [
      "[0] -----------> 3D_Hist_1freq_dir_order_test.mat\n"
     ]
    }
   ],
   "source": [
    "initial_folder = path\n",
    "\n",
    "folders = os.listdir(initial_folder)\n",
    "for i in range(len(folders)):\n",
    "    if \".png\" in folders[i]: pass\n",
    "    else: \n",
    "        print(r\"[%d]\" %(i), '----------->', folders[i]) "
   ]
  },
  {
   "cell_type": "code",
   "execution_count": 180,
   "id": "fc95cea5",
   "metadata": {},
   "outputs": [],
   "source": [
    "file = folders[12]\n",
    "mat = sio.loadmat(initial_folder+\"\\\\\"+file)\n",
    "\n",
    "\n",
    "vna_bandwidth = mat['vna_bandwidth']\n",
    "vna_powers = mat['power']\n",
    "freq = mat['freq'][0]\n",
    "\n",
    "mag_dir = mat['mag_s']\n",
    "pha_dir = mat['pha_s']\n",
    "\n",
    "\n",
    "file = folders[13]\n",
    "mat = sio.loadmat(initial_folder+\"\\\\\"+file)\n",
    "\n",
    "\n",
    "vna_bandwidth = mat['vna_bandwidth']\n",
    "vna_powers = mat['power']\n",
    "freq = mat['freq'][0]\n",
    "\n",
    "mag_inv = mat['mag_s']\n",
    "pha_inv = mat['pha_s']\n",
    "\n",
    "# mat"
   ]
  },
  {
   "cell_type": "code",
   "execution_count": 181,
   "id": "39114e2b",
   "metadata": {},
   "outputs": [],
   "source": [
    "xs = mag_dir\n",
    "ys = pha_dir"
   ]
  },
  {
   "cell_type": "code",
   "execution_count": 178,
   "id": "7d567085",
   "metadata": {},
   "outputs": [
    {
     "data": {
      "text/plain": [
       "(110, 2000000)"
      ]
     },
     "execution_count": 178,
     "metadata": {},
     "output_type": "execute_result"
    }
   ],
   "source": [
    "xs = np.zeros((len(freq), len(mag_dir[0])*2))\n",
    "ys = np.zeros((len(freq), len(mag_dir[0])*2))\n",
    "\n",
    "xs[:,:len(mag_dir[0])] = mag_dir\n",
    "ys[:,:len(mag_dir[0])] = pha_dir\n",
    "\n",
    "for j in range(len(freq)):\n",
    "    ys[j,len(mag_dir[0]):] = pha_inv[len(freq)-j-1]\n",
    "    xs[j,len(mag_dir[0]):] = mag_inv[len(freq)-j-1]\n",
    "\n",
    "    \n",
    "shape(xs)"
   ]
  },
  {
   "cell_type": "code",
   "execution_count": 173,
   "id": "dd3fc2a1",
   "metadata": {},
   "outputs": [],
   "source": [
    "def fft_f(bandwidth=10000, nop=len(xs[0])):\n",
    "    f = np.linspace(-bandwidth/2, bandwidth/2, nop)\n",
    "    return f\n",
    "\n",
    "fig = plt.figure()\n",
    "ax = fig.add_subplot(111)\n",
    "for j in array([0, 50, 109], dtype=int):\n",
    "    F = abs(scipy.fft.fft(xs[j]-mean(xs[j])))**2\n",
    "    ax.loglog(fft_f(), F)"
   ]
  },
  {
   "cell_type": "code",
   "execution_count": 11,
   "id": "98298f13",
   "metadata": {},
   "outputs": [],
   "source": [
    "fig = plt.figure()\n",
    "ax = fig.add_subplot(111)\n",
    "\n",
    "for j in array([0], dtype=int):\n",
    "    ax.plot(xs[j])"
   ]
  },
  {
   "cell_type": "code",
   "execution_count": null,
   "id": "f2cc2b49",
   "metadata": {},
   "outputs": [],
   "source": []
  }
 ],
 "metadata": {
  "kernelspec": {
   "display_name": "Python 3 (ipykernel)",
   "language": "python",
   "name": "python3"
  },
  "language_info": {
   "codemirror_mode": {
    "name": "ipython",
    "version": 3
   },
   "file_extension": ".py",
   "mimetype": "text/x-python",
   "name": "python",
   "nbconvert_exporter": "python",
   "pygments_lexer": "ipython3",
   "version": "3.9.12"
  }
 },
 "nbformat": 4,
 "nbformat_minor": 5
}
