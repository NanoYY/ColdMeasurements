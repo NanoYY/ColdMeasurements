{
 "cells": [
  {
   "cell_type": "code",
   "execution_count": 1,
   "id": "f84c23b8",
   "metadata": {},
   "outputs": [
    {
     "name": "stderr",
     "output_type": "stream",
     "text": [
      "C:\\Users\\Demag\\anaconda3\\lib\\site-packages\\scipy\\__init__.py:146: UserWarning: A NumPy version >=1.16.5 and <1.23.0 is required for this version of SciPy (detected version 1.26.1\n",
      "  warnings.warn(f\"A NumPy version >={np_minversion} and <{np_maxversion}\"\n"
     ]
    },
    {
     "name": "stdout",
     "output_type": "stream",
     "text": [
      "Folder C:\\Users\\Demag\\PycharmProjects\\ColdMeasurements\\DeMag\\DATA\\Daffing already exists\n"
     ]
    }
   ],
   "source": [
    "import pyvisa\n",
    "from qcodes.instrument_drivers.rohde_schwarz import (\n",
    "    RohdeSchwarzZNB8,\n",
    "    RohdeSchwarzZNBChannel,\n",
    ")\n",
    "import matplotlib.pyplot as plt\n",
    "import matplotlib\n",
    "import matplotlib.animation as animation\n",
    "\n",
    "%matplotlib qt\n",
    "\n",
    "import numpy as np\n",
    "from numpy import *\n",
    "from scipy.fft import fft, ifft, fftshift\n",
    "from scipy.io import savemat\n",
    "from datetime import datetime\n",
    "import time\n",
    "\n",
    "import os\n",
    "import h5py\n",
    "\n",
    "Global_data_adress = r\"C:\\Users\\Demag\\PycharmProjects\\ColdMeasurements\\DeMag\\DATA\"\n",
    "exp_name = 'Daffing'\n",
    "adress = Global_data_adress+'\\\\'+exp_name\n",
    "if not os.path.exists(adress):\n",
    "  os.mkdir(adress)\n",
    "  print(\"Folder %s created!\" % adress)\n",
    "else:\n",
    "  print(\"Folder %s already exists\" % adress)"
   ]
  },
  {
   "cell_type": "code",
   "execution_count": 2,
   "id": "cf140cd4",
   "metadata": {},
   "outputs": [
    {
     "name": "stdout",
     "output_type": "stream",
     "text": [
      "Folder C:\\Users\\Demag\\PycharmProjects\\ColdMeasurements\\DeMag\\DATA\\Daffing\\Daffing scan already exists\n"
     ]
    }
   ],
   "source": [
    "now = datetime.now()\n",
    "path = adress +'\\\\'+ 'Daffing scan'\n",
    "if not os.path.exists(path):\n",
    "  os.mkdir(path)\n",
    "  print(\"Folder %s created!\" % path)\n",
    "else:\n",
    "  print(\"Folder %s already exists\" % path)"
   ]
  },
  {
   "cell_type": "markdown",
   "id": "e9ef150e",
   "metadata": {},
   "source": [
    "# VNA INIT\n"
   ]
  },
  {
   "cell_type": "code",
   "execution_count": 3,
   "id": "f5c676a5",
   "metadata": {},
   "outputs": [],
   "source": [
    "def magtodb(mag): return 20*np.log10(mag)\n",
    "\n",
    "def vna_setup_CW(cw_frequency=6e9, vna_power=-30, bandwidth=10):\n",
    "    try: print(vna.query('*IDN?'))                 # check if connection already exist\n",
    "    except:                                        # if no connection\n",
    "        rm = pyvisa.ResourceManager()\n",
    "        vna = rm.open_resource('TCPIP0::169.254.36.111::inst0::INSTR') # GPIB connection\n",
    "        print(vna.query('*IDN?'))\n",
    "        \n",
    "    vna.write(':SENS1:BAND {}'.format(str(bandwidth))) # set defoult bandwidth\n",
    "    vna.write('SOUR1:POW {}'.format(str(vna_power)))   # set defoult power\n",
    "    vna.write('INIT1:CONT OFF')                        # single-sweep mode\n",
    "    vna.write('SENS1:SWE:POIN 201')                    # set maximum possible number of points for single sweep\n",
    "    vna.write(':SENS1:SWE:TYPE CW')                    # set CW mode of measurements\n",
    "    return vna\n",
    "\n",
    "\n",
    "def vna_on(): vna.write('OUTP ON')\n",
    "def vna_off(): vna.write('OUTP OFF')\n",
    "    \n",
    "def vna_meas_points(): \n",
    "    return int(vna.query('SENS1:SWE:POIN?'))  # should be 201\n",
    "\n",
    "def vna_sweep_time(): \n",
    "    return float(vna.query('SENS1:SWE:TIME?'))  # estimated sweep time for current settings of vna\n",
    "\n",
    "def vna_set_cw_freq(freq): \n",
    "    vna.write('SENS1:FREQ:CW {}'.format(str(freq))) # set single frequency point for CW mode in Hz\n",
    "\n",
    "def vna_set_power(power): \n",
    "    vna.write('SOUR1:POW {}'.format(str(power))) # set power\n",
    "    \n",
    "def vna_set_band(bandwidth): \n",
    "    vna.write(':SENS1:BAND {}'.format(str(bandwidth))) # set power\n",
    "    \n",
    "def vna_meas_cw():\n",
    "    vna_on()\n",
    "    vna.write(\"INIT1:IMM\")                              # start measurement\n",
    "    time.sleep(0.2+float(vna.query('SENS1:SWE:TIME?'))) # this part is important becouse the measurement nedds to finnish before readout process\n",
    "    vna.write(\"CALC1:FORM MLOG\")                        # format of data\n",
    "    data_str = vna.query(\"CALC1:DATA? SDAT\")            # readout\n",
    "    \n",
    "    data = np.array(data_str.rstrip().split(\",\")).astype(\"float64\")\n",
    "    s = data[0::2] + 1j * data[1::2]\n",
    "    i = data[0::2]\n",
    "    q = data[1::2]\n",
    "    return abs(s), angle(s)"
   ]
  },
  {
   "cell_type": "code",
   "execution_count": 4,
   "id": "417f0816",
   "metadata": {},
   "outputs": [
    {
     "data": {
      "text/plain": [
       "20"
      ]
     },
     "execution_count": 4,
     "metadata": {},
     "output_type": "execute_result"
    }
   ],
   "source": [
    "rm = pyvisa.ResourceManager()\n",
    "vna = rm.open_resource('TCPIP0::169.254.36.111::inst0::INSTR') # GPIB connection\n",
    "vna.write('INIT1:CONT OFF')\n",
    "vna.write(':SENS1:SWE:TYPE CW')  "
   ]
  },
  {
   "cell_type": "code",
   "execution_count": 5,
   "id": "74ae826f",
   "metadata": {},
   "outputs": [],
   "source": [
    "# vna = vna_setup_CW() # initializing or checking for connection"
   ]
  },
  {
   "cell_type": "code",
   "execution_count": 6,
   "id": "6392732d",
   "metadata": {},
   "outputs": [],
   "source": [
    "fig, ax = plt.subplots(1, 2, figsize=(15,10))\n",
    "xs = []\n",
    "ys = []\n",
    "m = np.array([])\n",
    "p = np.array([])\n",
    "\n",
    "freq = 5.7816347e9-12.4e3\n",
    "\n",
    "freq_min = 5.78163263e9\n",
    "freq_max = 5.78163798e9\n",
    "power = -7\n",
    "bandwidth = 10000\n",
    "\n",
    "# min_amp = 1.135\n",
    "# max_amp = 2.26\n",
    "# HIST_BINS_x = np.linspace(min_amp, max_amp, 1000)\n",
    "\n",
    "# min_pha = -1.6\n",
    "# max_pha = -1.1\n",
    "# HIST_BINS_y = np.linspace(min_pha, max_pha, 1000)\n",
    "\n",
    "vna_set_power(power)\n",
    "vna_set_band(bandwidth)\n",
    "vna.write('SENS1:AVER:STAT OFF')\n",
    "# This function is called periodically from FuncAnimation\n",
    "def animate(i, xs, ys):\n",
    "    if i==0: vna.write('SENS1:SWE:POIN 3')\n",
    "    else: vna.write('SENS1:SWE:POIN 1000')\n",
    "    # GET DATA\n",
    "    \n",
    "    vna_set_cw_freq(freq)\n",
    "    Mag, Pha = vna_meas_cw()\n",
    "#     Mag = np.random.randn(10)\n",
    "#     Pha = np.random.randn(10)\n",
    "    \n",
    "#     S21 = Mag*np.exp(Pha)\n",
    "    \n",
    "    # Save new data to file\n",
    "    \n",
    "    Mag_list = Mag.tolist()\n",
    "    Pha_list = Pha.tolist()\n",
    "    \n",
    "    # Add x and y to lists\n",
    "    xs.extend(Mag_list)\n",
    "    ys.extend(Pha_list)\n",
    "    dict_data=dict()\n",
    "    dict_data['freq'] = freq\n",
    "    dict_data['power'] = power\n",
    "    dict_data['vna_bandwidth'] = bandwidth\n",
    "\n",
    "    dict_data['mag_s'] = np.array(xs)\n",
    "    dict_data['pha_s'] = np.array(ys)\n",
    "\n",
    "    experiment_name = 'S1_Hist 5.7816347e9-12.4e3'\n",
    "    file_name = path+'\\\\'+experiment_name+'_'+now.strftime(r'%H-%M-%S')+'.mat'\n",
    "    savemat(file_name, dict_data)\n",
    "    \n",
    "    # Draw x and y lists\n",
    "    HIST_BINS_x = np.linspace(min(xs), max(xs), 100)\n",
    "    HIST_BINS_y = np.linspace(min(ys), max(ys), 100)\n",
    "    \n",
    "    ax[0].clear()\n",
    "    ax[0].hist(xs, bins=HIST_BINS_x, fc=\"green\", alpha=0.8)\n",
    "    \n",
    "    ax[1].clear()\n",
    "    ax[1].hist(ys, bins=HIST_BINS_y, fc=\"blue\", alpha=0.8)\n",
    "    \n",
    "    # Format plot\n",
    "    plt.xticks(rotation=45, ha='right')\n",
    "    plt.title('Resonance fluctuations distribution')\n",
    "    ax[0].set_ylim(0, 30)\n",
    "    ax[1].set_ylim(0, 30)\n",
    "    ax[0].set_ylabel('Number of events')\n",
    "    ax[0].set_xlabel('Magnitude')\n",
    "    ax[1].set_ylabel('Number of events')\n",
    "    ax[1].set_xlabel('Phase')\n",
    "    ax[0].text(1.7, 25, str(i), bbox=dict(facecolor='red', alpha=0.5))\n",
    "\n",
    "# Set up plot to call animate() function periodically\n",
    "ani = animation.FuncAnimation(fig, animate, fargs=(xs, ys), interval=1000)\n",
    "plt.show()"
   ]
  },
  {
   "cell_type": "code",
   "execution_count": 7,
   "id": "53df4aab",
   "metadata": {},
   "outputs": [],
   "source": [
    "# dict_data=dict()\n",
    "# dict_data['freq'] = freq\n",
    "# dict_data['power'] = power\n",
    "# dict_data['vna_bandwidth'] = bandwidth\n",
    "\n",
    "# dict_data['mag_s'] = np.array(xs)\n",
    "# dict_data['pha_s'] = np.array(ys)\n",
    "\n",
    "# experiment_name = 'S1_Hist daff_stable_freq_band100'\n",
    "# file_name = path+'\\\\'+experiment_name+'_'+now.strftime(r'%H-%M-%S')+'.mat'\n",
    "# savemat(file_name, dict_data)"
   ]
  },
  {
   "cell_type": "code",
   "execution_count": 8,
   "id": "e2b96007",
   "metadata": {},
   "outputs": [],
   "source": [
    "# fig, ax = plt.subplots(1, 2, figsize=(15,10))\n",
    "# HIST_BINS_x = np.linspace(min(xs), max(xs), 10000)\n",
    "# HIST_BINS_y = np.linspace(min(ys), max(ys), 10000)\n",
    "\n",
    "# ax[0].clear()\n",
    "# ax[0].hist(xs, bins=HIST_BINS_x, fc=\"green\", alpha=0.8)\n",
    "\n",
    "# ax[1].clear()\n",
    "# ax[1].hist(ys, bins=HIST_BINS_y, fc=\"blue\", alpha=0.8)\n",
    "\n",
    "# # Format plot\n",
    "# plt.xticks(rotation=45, ha='right')\n",
    "# plt.title('Resonance fluctuations distribution')\n",
    "# # ax[0].set_ylim(0, 30)\n",
    "# # ax[1].set_ylim(0, 30)\n",
    "# ax[0].set_ylabel('Number of events')\n",
    "# ax[0].set_xlabel('Magnitude')\n",
    "# ax[1].set_ylabel('Number of events')\n",
    "# ax[1].set_xlabel('Phase')\n",
    "# # ax[0].text(1.7, 25, str(i), bbox=dict(facecolor='red', alpha=0.5))\n"
   ]
  },
  {
   "cell_type": "code",
   "execution_count": null,
   "id": "01c0e988",
   "metadata": {},
   "outputs": [],
   "source": []
  }
 ],
 "metadata": {
  "kernelspec": {
   "display_name": "Python 3 (ipykernel)",
   "language": "python",
   "name": "python3"
  },
  "language_info": {
   "codemirror_mode": {
    "name": "ipython",
    "version": 3
   },
   "file_extension": ".py",
   "mimetype": "text/x-python",
   "name": "python",
   "nbconvert_exporter": "python",
   "pygments_lexer": "ipython3",
   "version": "3.9.12"
  }
 },
 "nbformat": 4,
 "nbformat_minor": 5
}
