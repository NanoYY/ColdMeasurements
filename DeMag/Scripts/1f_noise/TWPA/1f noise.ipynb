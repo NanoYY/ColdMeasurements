{
 "cells": [
  {
   "cell_type": "code",
   "execution_count": 2,
   "id": "64b9ccd1",
   "metadata": {},
   "outputs": [
    {
     "name": "stdout",
     "output_type": "stream",
     "text": [
      "Folder C:\\Users\\Demag\\PycharmProjects\\ColdMeasurements\\DeMag\\DATA\\TWPA_noise already exists\n"
     ]
    }
   ],
   "source": [
    "import pyvisa\n",
    "import matplotlib.pyplot as plt\n",
    "from nanodrivers.visa_drivers.anapico import ANAPICO\n",
    "from nanodrivers.visa_drivers.dc import DC\n",
    "from nanodrivers.visa_drivers.vna import VNA\n",
    "\n",
    "import numpy as np\n",
    "from numpy import *\n",
    "from scipy.fft import fft, ifft, fftshift\n",
    "from scipy.io import savemat\n",
    "from datetime import datetime, timedelta\n",
    "import time\n",
    "\n",
    "import os\n",
    "Global_data_adress = r\"C:\\Users\\Demag\\PycharmProjects\\ColdMeasurements\\DeMag\\DATA\"\n",
    "exp_name = 'TWPA_noise'\n",
    "adress = Global_data_adress+'\\\\'+exp_name\n",
    "if not os.path.exists(adress):\n",
    "  os.mkdir(adress)\n",
    "  print(\"Folder %s created!\" % adress)\n",
    "else:\n",
    "  print(\"Folder %s already exists\" % adress)"
   ]
  },
  {
   "cell_type": "markdown",
   "id": "65466aa7",
   "metadata": {},
   "source": [
    "Create a folder for measurement data"
   ]
  },
  {
   "cell_type": "code",
   "execution_count": 26,
   "id": "049c7a57",
   "metadata": {},
   "outputs": [
    {
     "name": "stdout",
     "output_type": "stream",
     "text": [
      "Folder C:\\Users\\Demag\\PycharmProjects\\ColdMeasurements\\DeMag\\DATA\\TWPA_noise\\1f noise\\VNA_test_reference_9m created!\n"
     ]
    }
   ],
   "source": [
    "now = datetime.now()\n",
    "path = adress +'\\\\'+ '1f noise' + '\\\\'+ 'VNA_test_reference_9m'\n",
    "if not os.path.exists(path):\n",
    "  os.mkdir(path)\n",
    "  print(\"Folder %s created!\" % path)\n",
    "else:\n",
    "  print(\"Folder %s already exists\" % path)"
   ]
  },
  {
   "cell_type": "markdown",
   "id": "98625d5d",
   "metadata": {},
   "source": [
    "# VNA init"
   ]
  },
  {
   "cell_type": "code",
   "execution_count": 4,
   "id": "2715f5ba",
   "metadata": {},
   "outputs": [],
   "source": [
    "def magtodb(mag): return 20*np.log10(mag)\n",
    "\n",
    "def vna_setup_CW(cw_frequency=6e9, vna_power=-30, bandwidth=10):\n",
    "    try: print(vna.query('*IDN?'))                 # check if connection already exist\n",
    "    except:                                        # if no connection\n",
    "        rm = pyvisa.ResourceManager()\n",
    "        vna = rm.open_resource('GPIB0::20::INSTR') # GPIB connection\n",
    "        print(vna.query('*IDN?'))\n",
    "        \n",
    "    vna.write(':SENS1:BAND {}'.format(str(bandwidth))) # set defoult bandwidth\n",
    "    vna.write('SOUR1:POW {}'.format(str(vna_power)))   # set defoult power\n",
    "    vna.write('INIT1:CONT OFF')                        # single-sweep mode\n",
    "    vna.write('SENS1:SWE:POIN 201')                    # set maximum possible number of points for single sweep\n",
    "    vna.write(':SENS1:SWE:TYPE CW')                    # set CW mode of measurements\n",
    "    return vna\n",
    "\n",
    "\n",
    "def vna_on(): vna.write('OUTP ON')\n",
    "def vna_off(): vna.write('OUTP OFF')\n",
    "    \n",
    "def vna_meas_points(): \n",
    "    return int(vna.query('SENS1:SWE:POIN?'))  # should be 201\n",
    "\n",
    "def vna_sweep_time(): \n",
    "    return float(vna.query('SENS1:SWE:TIME?'))  # estimated sweep time for current settings of vna\n",
    "\n",
    "def vna_set_cw_freq(freq): \n",
    "    vna.write('SENS1:FREQ:CW {}'.format(str(freq))) # set single frequency point for CW mode in Hz\n",
    "\n",
    "def vna_set_power(power): \n",
    "    vna.write('SOUR1:POW {}'.format(str(power))) # set power\n",
    "    \n",
    "def vna_set_band(bandwidth): \n",
    "    vna.write(':SENS1:BAND {}'.format(str(bandwidth))) # set power\n",
    "    \n",
    "def vna_meas_cw():\n",
    "    vna_on()\n",
    "    vna.write(\"INIT1:IMM\")                              # start measurement\n",
    "    time.sleep(0.2+float(vna.query('SENS1:SWE:TIME?'))) # this part is important becouse the measurement nedds to finnish before readout process\n",
    "    vna.write(\"CALC1:FORM MLOG\")                        # format of data\n",
    "    data_str = vna.query(\"CALC1:DATA? SDAT\")            # readout\n",
    "    \n",
    "    data = np.array(data_str.rstrip().split(\",\")).astype(\"float64\")\n",
    "    s = data[0::2] + 1j * data[1::2]\n",
    "    i = data[0::2]\n",
    "    q = data[1::2]\n",
    "    return abs(s), angle(s)"
   ]
  },
  {
   "cell_type": "code",
   "execution_count": 28,
   "id": "2ac99d02",
   "metadata": {},
   "outputs": [
    {
     "name": "stdout",
     "output_type": "stream",
     "text": [
      "Rohde-Schwarz,ZNB20-2Port,1311601062102129,3.45\n",
      "\n"
     ]
    }
   ],
   "source": [
    "vna = vna_setup_CW() # initializing or checking for connection"
   ]
  },
  {
   "cell_type": "markdown",
   "id": "26d9ad24",
   "metadata": {},
   "source": [
    "# ANAPICO init"
   ]
  },
  {
   "cell_type": "code",
   "execution_count": 22,
   "id": "3782da67",
   "metadata": {},
   "outputs": [],
   "source": [
    "def setup_anapico(power=-30, frequency = 6e9, channel = 1):\n",
    "    try: \n",
    "        print(anapico.query('*IDN?'))\n",
    "        print('Connection exist')\n",
    "    except: \n",
    "        rm = pyvisa.ResourceManager()\n",
    "#         anapico = rm.open_resource('USB0::0x03EB::0xAFFF::3C6-0B4F40003-0985::INSTR') # USB connection\n",
    "        anapico = rm.open_resource('TCPIP0::169.254.5.91::inst0::INSTR') # LAN connection\n",
    "        print(anapico.query('*IDN?'))\n",
    "        anapico.write(r':SYST:COMM:LAN:RTMO {}'.format(str(1)))\n",
    "    if power<=0:\n",
    "#         print('Flux power set:', power)\n",
    "        anapico.write(r'SOUR{}:POW {}'.format(str(channel), str(power)))\n",
    "        anapico.write(r'SOUR{}:FREQ {}'.format(str(channel), str(frequency)))\n",
    "    else: \n",
    "        print('Flux power is too high:', power)\n",
    "    return anapico\n",
    "\n",
    "def anapico_on(channel=1):\n",
    "    anapico.write(r'OUTP{} ON'.format(str(channel)))\n",
    "\n",
    "def anapico_off(channel=1):\n",
    "    anapico.write(r'OUTP{} OFF'.format(str(channel)))\n",
    "\n",
    "def anapico_freq(freq, channel=1): \n",
    "    anapico.write(r'SOUR{}:FREQ {}'.format(str(channel), str(freq)))\n",
    "\n",
    "def anapico_power(power, channel=1): \n",
    "    anapico.write(r'SOUR{}:POW {}'.format(str(channel), str(power)))"
   ]
  },
  {
   "cell_type": "code",
   "execution_count": 23,
   "id": "2a334d0f",
   "metadata": {},
   "outputs": [
    {
     "ename": "VisaIOError",
     "evalue": "VI_ERROR_RSRC_NFOUND (-1073807343): Insufficient location information or the requested device or resource is not present in the system.",
     "output_type": "error",
     "traceback": [
      "\u001b[1;31m---------------------------------------------------------------------------\u001b[0m",
      "\u001b[1;31mUnboundLocalError\u001b[0m                         Traceback (most recent call last)",
      "Cell \u001b[1;32mIn[22], line 3\u001b[0m, in \u001b[0;36msetup_anapico\u001b[1;34m(power, frequency, channel)\u001b[0m\n\u001b[0;32m      2\u001b[0m \u001b[38;5;28;01mtry\u001b[39;00m: \n\u001b[1;32m----> 3\u001b[0m     \u001b[38;5;28mprint\u001b[39m(\u001b[43manapico\u001b[49m\u001b[38;5;241m.\u001b[39mquery(\u001b[38;5;124m'\u001b[39m\u001b[38;5;124m*IDN?\u001b[39m\u001b[38;5;124m'\u001b[39m))\n\u001b[0;32m      4\u001b[0m     \u001b[38;5;28mprint\u001b[39m(\u001b[38;5;124m'\u001b[39m\u001b[38;5;124mConnection exist\u001b[39m\u001b[38;5;124m'\u001b[39m)\n",
      "\u001b[1;31mUnboundLocalError\u001b[0m: local variable 'anapico' referenced before assignment",
      "\nDuring handling of the above exception, another exception occurred:\n",
      "\u001b[1;31mVisaIOError\u001b[0m                               Traceback (most recent call last)",
      "Cell \u001b[1;32mIn[23], line 1\u001b[0m\n\u001b[1;32m----> 1\u001b[0m anapico \u001b[38;5;241m=\u001b[39m \u001b[43msetup_anapico\u001b[49m\u001b[43m(\u001b[49m\u001b[43m)\u001b[49m\n",
      "Cell \u001b[1;32mIn[22], line 8\u001b[0m, in \u001b[0;36msetup_anapico\u001b[1;34m(power, frequency, channel)\u001b[0m\n\u001b[0;32m      6\u001b[0m         rm \u001b[38;5;241m=\u001b[39m pyvisa\u001b[38;5;241m.\u001b[39mResourceManager()\n\u001b[0;32m      7\u001b[0m \u001b[38;5;66;03m#         anapico = rm.open_resource('USB0::0x03EB::0xAFFF::3C6-0B4F40003-0985::INSTR') # USB connection\u001b[39;00m\n\u001b[1;32m----> 8\u001b[0m         anapico \u001b[38;5;241m=\u001b[39m \u001b[43mrm\u001b[49m\u001b[38;5;241;43m.\u001b[39;49m\u001b[43mopen_resource\u001b[49m\u001b[43m(\u001b[49m\u001b[38;5;124;43m'\u001b[39;49m\u001b[38;5;124;43mTCPIP0::169.254.5.91::inst0::INSTR\u001b[39;49m\u001b[38;5;124;43m'\u001b[39;49m\u001b[43m)\u001b[49m \u001b[38;5;66;03m# LAN connection\u001b[39;00m\n\u001b[0;32m      9\u001b[0m         \u001b[38;5;28mprint\u001b[39m(anapico\u001b[38;5;241m.\u001b[39mquery(\u001b[38;5;124m'\u001b[39m\u001b[38;5;124m*IDN?\u001b[39m\u001b[38;5;124m'\u001b[39m))\n\u001b[0;32m     10\u001b[0m         anapico\u001b[38;5;241m.\u001b[39mwrite(\u001b[38;5;124mr\u001b[39m\u001b[38;5;124m'\u001b[39m\u001b[38;5;124m:SYST:COMM:LAN:RTMO \u001b[39m\u001b[38;5;132;01m{}\u001b[39;00m\u001b[38;5;124m'\u001b[39m\u001b[38;5;241m.\u001b[39mformat(\u001b[38;5;28mstr\u001b[39m(\u001b[38;5;241m1\u001b[39m)))\n",
      "File \u001b[1;32m~\\anaconda3\\lib\\site-packages\\pyvisa\\highlevel.py:3284\u001b[0m, in \u001b[0;36mResourceManager.open_resource\u001b[1;34m(self, resource_name, access_mode, open_timeout, resource_pyclass, **kwargs)\u001b[0m\n\u001b[0;32m   3278\u001b[0m     \u001b[38;5;28;01mif\u001b[39;00m \u001b[38;5;129;01mnot\u001b[39;00m present:\n\u001b[0;32m   3279\u001b[0m         \u001b[38;5;28;01mraise\u001b[39;00m \u001b[38;5;167;01mValueError\u001b[39;00m(\n\u001b[0;32m   3280\u001b[0m             \u001b[38;5;124m\"\u001b[39m\u001b[38;5;132;01m%r\u001b[39;00m\u001b[38;5;124m is not a valid attribute for type \u001b[39m\u001b[38;5;132;01m%s\u001b[39;00m\u001b[38;5;124m\"\u001b[39m\n\u001b[0;32m   3281\u001b[0m             \u001b[38;5;241m%\u001b[39m (key, res\u001b[38;5;241m.\u001b[39m\u001b[38;5;18m__class__\u001b[39m\u001b[38;5;241m.\u001b[39m\u001b[38;5;18m__name__\u001b[39m)\n\u001b[0;32m   3282\u001b[0m         )\n\u001b[1;32m-> 3284\u001b[0m \u001b[43mres\u001b[49m\u001b[38;5;241;43m.\u001b[39;49m\u001b[43mopen\u001b[49m\u001b[43m(\u001b[49m\u001b[43maccess_mode\u001b[49m\u001b[43m,\u001b[49m\u001b[43m \u001b[49m\u001b[43mopen_timeout\u001b[49m\u001b[43m)\u001b[49m\n\u001b[0;32m   3286\u001b[0m \u001b[38;5;28;01mfor\u001b[39;00m key, value \u001b[38;5;129;01min\u001b[39;00m kwargs\u001b[38;5;241m.\u001b[39mitems():\n\u001b[0;32m   3287\u001b[0m     \u001b[38;5;28msetattr\u001b[39m(res, key, value)\n",
      "File \u001b[1;32m~\\anaconda3\\lib\\site-packages\\pyvisa\\resources\\resource.py:282\u001b[0m, in \u001b[0;36mResource.open\u001b[1;34m(self, access_mode, open_timeout)\u001b[0m\n\u001b[0;32m    278\u001b[0m logger\u001b[38;5;241m.\u001b[39mdebug(\u001b[38;5;124m\"\u001b[39m\u001b[38;5;132;01m%s\u001b[39;00m\u001b[38;5;124m - opening ...\u001b[39m\u001b[38;5;124m\"\u001b[39m, \u001b[38;5;28mself\u001b[39m\u001b[38;5;241m.\u001b[39m_resource_name, extra\u001b[38;5;241m=\u001b[39m\u001b[38;5;28mself\u001b[39m\u001b[38;5;241m.\u001b[39m_logging_extra)\n\u001b[0;32m    279\u001b[0m \u001b[38;5;28;01mwith\u001b[39;00m \u001b[38;5;28mself\u001b[39m\u001b[38;5;241m.\u001b[39m_resource_manager\u001b[38;5;241m.\u001b[39mignore_warning(\n\u001b[0;32m    280\u001b[0m     constants\u001b[38;5;241m.\u001b[39mStatusCode\u001b[38;5;241m.\u001b[39msuccess_device_not_present\n\u001b[0;32m    281\u001b[0m ):\n\u001b[1;32m--> 282\u001b[0m     \u001b[38;5;28mself\u001b[39m\u001b[38;5;241m.\u001b[39msession, status \u001b[38;5;241m=\u001b[39m \u001b[38;5;28;43mself\u001b[39;49m\u001b[38;5;241;43m.\u001b[39;49m\u001b[43m_resource_manager\u001b[49m\u001b[38;5;241;43m.\u001b[39;49m\u001b[43mopen_bare_resource\u001b[49m\u001b[43m(\u001b[49m\n\u001b[0;32m    283\u001b[0m \u001b[43m        \u001b[49m\u001b[38;5;28;43mself\u001b[39;49m\u001b[38;5;241;43m.\u001b[39;49m\u001b[43m_resource_name\u001b[49m\u001b[43m,\u001b[49m\u001b[43m \u001b[49m\u001b[43maccess_mode\u001b[49m\u001b[43m,\u001b[49m\u001b[43m \u001b[49m\u001b[43mopen_timeout\u001b[49m\n\u001b[0;32m    284\u001b[0m \u001b[43m    \u001b[49m\u001b[43m)\u001b[49m\n\u001b[0;32m    286\u001b[0m     \u001b[38;5;28;01mif\u001b[39;00m status \u001b[38;5;241m==\u001b[39m constants\u001b[38;5;241m.\u001b[39mStatusCode\u001b[38;5;241m.\u001b[39msuccess_device_not_present:\n\u001b[0;32m    287\u001b[0m         \u001b[38;5;66;03m# The device was not ready when we opened the session.\u001b[39;00m\n\u001b[0;32m    288\u001b[0m         \u001b[38;5;66;03m# Now it gets five seconds more to become ready.\u001b[39;00m\n\u001b[0;32m    289\u001b[0m         \u001b[38;5;66;03m# Every 0.1 seconds we probe it with viClear.\u001b[39;00m\n\u001b[0;32m    290\u001b[0m         start_time \u001b[38;5;241m=\u001b[39m time\u001b[38;5;241m.\u001b[39mtime()\n",
      "File \u001b[1;32m~\\anaconda3\\lib\\site-packages\\pyvisa\\highlevel.py:3209\u001b[0m, in \u001b[0;36mResourceManager.open_bare_resource\u001b[1;34m(self, resource_name, access_mode, open_timeout)\u001b[0m\n\u001b[0;32m   3180\u001b[0m \u001b[38;5;28;01mdef\u001b[39;00m \u001b[38;5;21mopen_bare_resource\u001b[39m(\n\u001b[0;32m   3181\u001b[0m     \u001b[38;5;28mself\u001b[39m,\n\u001b[0;32m   3182\u001b[0m     resource_name: \u001b[38;5;28mstr\u001b[39m,\n\u001b[0;32m   3183\u001b[0m     access_mode: constants\u001b[38;5;241m.\u001b[39mAccessModes \u001b[38;5;241m=\u001b[39m constants\u001b[38;5;241m.\u001b[39mAccessModes\u001b[38;5;241m.\u001b[39mno_lock,\n\u001b[0;32m   3184\u001b[0m     open_timeout: \u001b[38;5;28mint\u001b[39m \u001b[38;5;241m=\u001b[39m constants\u001b[38;5;241m.\u001b[39mVI_TMO_IMMEDIATE,\n\u001b[0;32m   3185\u001b[0m ) \u001b[38;5;241m-\u001b[39m\u001b[38;5;241m>\u001b[39m Tuple[VISASession, StatusCode]:\n\u001b[0;32m   3186\u001b[0m     \u001b[38;5;124;03m\"\"\"Open the specified resource without wrapping into a class.\u001b[39;00m\n\u001b[0;32m   3187\u001b[0m \n\u001b[0;32m   3188\u001b[0m \u001b[38;5;124;03m    Parameters\u001b[39;00m\n\u001b[1;32m   (...)\u001b[0m\n\u001b[0;32m   3207\u001b[0m \n\u001b[0;32m   3208\u001b[0m \u001b[38;5;124;03m    \"\"\"\u001b[39;00m\n\u001b[1;32m-> 3209\u001b[0m     \u001b[38;5;28;01mreturn\u001b[39;00m \u001b[38;5;28;43mself\u001b[39;49m\u001b[38;5;241;43m.\u001b[39;49m\u001b[43mvisalib\u001b[49m\u001b[38;5;241;43m.\u001b[39;49m\u001b[43mopen\u001b[49m\u001b[43m(\u001b[49m\u001b[38;5;28;43mself\u001b[39;49m\u001b[38;5;241;43m.\u001b[39;49m\u001b[43msession\u001b[49m\u001b[43m,\u001b[49m\u001b[43m \u001b[49m\u001b[43mresource_name\u001b[49m\u001b[43m,\u001b[49m\u001b[43m \u001b[49m\u001b[43maccess_mode\u001b[49m\u001b[43m,\u001b[49m\u001b[43m \u001b[49m\u001b[43mopen_timeout\u001b[49m\u001b[43m)\u001b[49m\n",
      "File \u001b[1;32m~\\anaconda3\\lib\\site-packages\\pyvisa\\ctwrapper\\functions.py:1851\u001b[0m, in \u001b[0;36mopen\u001b[1;34m(library, session, resource_name, access_mode, open_timeout)\u001b[0m\n\u001b[0;32m   1847\u001b[0m out_session \u001b[38;5;241m=\u001b[39m ViSession()\n\u001b[0;32m   1849\u001b[0m \u001b[38;5;66;03m# [ViSession, ViRsrc, ViAccessMode, ViUInt32, ViPSession]\u001b[39;00m\n\u001b[0;32m   1850\u001b[0m \u001b[38;5;66;03m# ViRsrc converts from (str, unicode, bytes) to bytes\u001b[39;00m\n\u001b[1;32m-> 1851\u001b[0m ret \u001b[38;5;241m=\u001b[39m \u001b[43mlibrary\u001b[49m\u001b[38;5;241;43m.\u001b[39;49m\u001b[43mviOpen\u001b[49m\u001b[43m(\u001b[49m\n\u001b[0;32m   1852\u001b[0m \u001b[43m    \u001b[49m\u001b[43msession\u001b[49m\u001b[43m,\u001b[49m\u001b[43m \u001b[49m\u001b[43mresource_name\u001b[49m\u001b[43m,\u001b[49m\u001b[43m \u001b[49m\u001b[43maccess_mode\u001b[49m\u001b[43m,\u001b[49m\u001b[43m \u001b[49m\u001b[43mopen_timeout\u001b[49m\u001b[43m,\u001b[49m\u001b[43m \u001b[49m\u001b[43mbyref\u001b[49m\u001b[43m(\u001b[49m\u001b[43mout_session\u001b[49m\u001b[43m)\u001b[49m\n\u001b[0;32m   1853\u001b[0m \u001b[43m\u001b[49m\u001b[43m)\u001b[49m\n\u001b[0;32m   1854\u001b[0m \u001b[38;5;28;01mreturn\u001b[39;00m out_session\u001b[38;5;241m.\u001b[39mvalue, ret\n",
      "File \u001b[1;32m~\\anaconda3\\lib\\site-packages\\pyvisa\\ctwrapper\\highlevel.py:226\u001b[0m, in \u001b[0;36mIVIVisaLibrary._return_handler\u001b[1;34m(self, ret_value, func, arguments)\u001b[0m\n\u001b[0;32m    223\u001b[0m         \u001b[38;5;66;03m# Set session back to a safe value\u001b[39;00m\n\u001b[0;32m    224\u001b[0m         session \u001b[38;5;241m=\u001b[39m \u001b[38;5;28;01mNone\u001b[39;00m\n\u001b[1;32m--> 226\u001b[0m \u001b[38;5;28;01mreturn\u001b[39;00m \u001b[38;5;28;43mself\u001b[39;49m\u001b[38;5;241;43m.\u001b[39;49m\u001b[43mhandle_return_value\u001b[49m\u001b[43m(\u001b[49m\u001b[43msession\u001b[49m\u001b[43m,\u001b[49m\u001b[43m \u001b[49m\u001b[43mret_value\u001b[49m\u001b[43m)\u001b[49m\n",
      "File \u001b[1;32m~\\anaconda3\\lib\\site-packages\\pyvisa\\highlevel.py:251\u001b[0m, in \u001b[0;36mVisaLibraryBase.handle_return_value\u001b[1;34m(self, session, status_code)\u001b[0m\n\u001b[0;32m    248\u001b[0m     \u001b[38;5;28mself\u001b[39m\u001b[38;5;241m.\u001b[39m_last_status_in_session[session] \u001b[38;5;241m=\u001b[39m rv\n\u001b[0;32m    250\u001b[0m \u001b[38;5;28;01mif\u001b[39;00m rv \u001b[38;5;241m<\u001b[39m \u001b[38;5;241m0\u001b[39m:\n\u001b[1;32m--> 251\u001b[0m     \u001b[38;5;28;01mraise\u001b[39;00m errors\u001b[38;5;241m.\u001b[39mVisaIOError(rv)\n\u001b[0;32m    253\u001b[0m \u001b[38;5;28;01mif\u001b[39;00m rv \u001b[38;5;129;01min\u001b[39;00m \u001b[38;5;28mself\u001b[39m\u001b[38;5;241m.\u001b[39missue_warning_on:\n\u001b[0;32m    254\u001b[0m     \u001b[38;5;28;01mif\u001b[39;00m session \u001b[38;5;129;01mand\u001b[39;00m rv \u001b[38;5;129;01mnot\u001b[39;00m \u001b[38;5;129;01min\u001b[39;00m \u001b[38;5;28mself\u001b[39m\u001b[38;5;241m.\u001b[39m_ignore_warning_in_session[session]:\n",
      "\u001b[1;31mVisaIOError\u001b[0m: VI_ERROR_RSRC_NFOUND (-1073807343): Insufficient location information or the requested device or resource is not present in the system."
     ]
    }
   ],
   "source": [
    "anapico = setup_anapico() # initializing or checking for connection"
   ]
  },
  {
   "cell_type": "code",
   "execution_count": 20,
   "id": "c1bb628b",
   "metadata": {},
   "outputs": [],
   "source": [
    "anapico.close()"
   ]
  },
  {
   "cell_type": "markdown",
   "id": "73feb326",
   "metadata": {},
   "source": [
    "# HEWLETT-PACKARD 33120A DC source"
   ]
  },
  {
   "cell_type": "code",
   "execution_count": 7,
   "id": "a30b84c3",
   "metadata": {},
   "outputs": [],
   "source": [
    "def dc_setup():\n",
    "    try: print(dc_source.query('*IDN?'))                 # check if connection already exist\n",
    "    except:                                        # if no connection\n",
    "        rm = pyvisa.ResourceManager()\n",
    "        dc_source = rm.open_resource('GPIB0::3::INSTR') # GPIB connection\n",
    "        print(dc_source.query('*IDN?'))\n",
    "\n",
    "    return dc_source\n",
    "\n",
    "def set_volt(volt):\n",
    "    dc_source.write('VOLT:OFFS {}'.format(str(volt))) "
   ]
  },
  {
   "cell_type": "code",
   "execution_count": 8,
   "id": "c92e3b82",
   "metadata": {},
   "outputs": [
    {
     "name": "stdout",
     "output_type": "stream",
     "text": [
      "HEWLETT-PACKARD,33120A,0,8.0-5.0-1.0\n",
      "\n"
     ]
    }
   ],
   "source": [
    "dc_source = dc_setup()\n",
    "set_volt(2.47)"
   ]
  },
  {
   "cell_type": "markdown",
   "id": "1a5f77d4",
   "metadata": {},
   "source": [
    "# Single frequency flux power sweep"
   ]
  },
  {
   "cell_type": "code",
   "execution_count": 21,
   "id": "bc4a451b",
   "metadata": {},
   "outputs": [
    {
     "ename": "NameError",
     "evalue": "name 'anapico_power' is not defined",
     "output_type": "error",
     "traceback": [
      "\u001b[1;31m---------------------------------------------------------------------------\u001b[0m",
      "\u001b[1;31mNameError\u001b[0m                                 Traceback (most recent call last)",
      "Cell \u001b[1;32mIn[21], line 4\u001b[0m\n\u001b[0;32m      2\u001b[0m flux_freq \u001b[38;5;241m=\u001b[39m \u001b[38;5;241m11.252e9\u001b[39m\n\u001b[0;32m      3\u001b[0m flux_power \u001b[38;5;241m=\u001b[39m \u001b[38;5;241m-\u001b[39m\u001b[38;5;241m10\u001b[39m\n\u001b[1;32m----> 4\u001b[0m \u001b[43manapico_power\u001b[49m(flux_power, \u001b[38;5;241m1\u001b[39m)\n\u001b[0;32m      5\u001b[0m anapico_freq(flux_freq, \u001b[38;5;241m1\u001b[39m)\n\u001b[0;32m      6\u001b[0m anapico_on(\u001b[38;5;241m1\u001b[39m)\n",
      "\u001b[1;31mNameError\u001b[0m: name 'anapico_power' is not defined"
     ]
    }
   ],
   "source": [
    "#_____________ANAPICO______________\n",
    "flux_freq = 11.252e9\n",
    "flux_power = -10\n",
    "anapico_power(flux_power, 1)\n",
    "anapico_freq(flux_freq, 1)\n",
    "anapico_on(1)\n",
    "\n",
    "#_____________ANAPICO Probe________\n",
    "mode1 = 5.826e9 #resonance frequency\n",
    "mode1_power = -25\n",
    "anapico_freq(mode1, 2)\n",
    "anapico_power(mode1_power, 2)\n",
    "anapico_on(2)\n",
    "\n",
    "# anapico_power(-35, 4)\n",
    "# anapico_on(4)\n",
    "\n",
    "#_____________DC offset________\n",
    "# dc = np.array([1.75, 2, 2.1, 2.17, 2.265, 2.351, 2.441, 2.491, 2.647, 2.804, 3.1])\n",
    "dc = np.array([2.45])\n",
    "set_volt(dc[0])\n",
    "\n",
    "#_____________VNA______________\n",
    "vna_set_cw_freq(mode1)\n",
    "vna_bandwidth = 10\n",
    "number_of_points = vna_meas_points()\n",
    "avg_total = 15  #separate measurements of vna per each flux power"
   ]
  },
  {
   "cell_type": "code",
   "execution_count": 24,
   "id": "d17dfeeb",
   "metadata": {},
   "outputs": [],
   "source": [
    "def fft_A(A):\n",
    "    fft_A = abs(fftshift(fft(A))**2)\n",
    "    return fft_A\n",
    "\n",
    "def fft_f(bandwidth=vna_bandwidth, nop=number_of_points):\n",
    "    f = np.linspace(-bandwidth/2, bandwidth/2, nop)\n",
    "    return f"
   ]
  },
  {
   "cell_type": "code",
   "execution_count": 25,
   "id": "3aee2d9a",
   "metadata": {},
   "outputs": [
    {
     "name": "stdout",
     "output_type": "stream",
     "text": [
      "Start: 17-16-06\n",
      "estimated sweep time: 0:10:16.869000\n",
      "New DC:2.45 V\n",
      "C:\\Users\\Demag\\PycharmProjects\\ColdMeasurements\\DeMag\\DATA\\TWPA_noise\\1f noise\\in_DC_SWS\\1f_noise_DC_sweep 2.4517-26-34.mat saved\n",
      "Stop: 17-26-34\n",
      "Run time: 0:10:28.151347\n"
     ]
    }
   ],
   "source": [
    "now1 = datetime.now()\n",
    "print('Start: {}'.format(now1.strftime(r'%H-%M-%S')))\n",
    "\n",
    "print('estimated sweep time:', str(timedelta(seconds=vna_sweep_time()*len(dc)*avg_total)))\n",
    "\n",
    "for i_dc, dc_pow in enumerate(dc):\n",
    "    set_volt(dc_pow)\n",
    "    \n",
    "    data = np.empty((avg_total, 2, number_of_points))\n",
    "\n",
    "    \n",
    "    print('New DC:{} V'.format(dc_pow))\n",
    "    \n",
    "    for avg in range(avg_total):\n",
    "        mag, pha = vna_meas_cw()\n",
    "\n",
    "        data[avg, 0, :] = mag\n",
    "        data[avg, 1, :] = pha\n",
    "\n",
    "    dict_data=dict()\n",
    "    dict_data['flux_freq'] = flux_freq\n",
    "    dict_data['flux_power'] = flux_power\n",
    "\n",
    "    dict_data['mode1'] = mode1\n",
    "    dict_data['mode1_power'] = mode1_power\n",
    "    dict_data['dc'] = dc_pow\n",
    "    dict_data['vna_bandwidth'] = vna_bandwidth\n",
    "    dict_data['number_of_points'] = number_of_points\n",
    "    dict_data['avg_total'] = avg_total\n",
    "    dict_data['data'] = data\n",
    "\n",
    "    experiment_name = '1f_noise_DC_sweep {}'.format(dc_pow)\n",
    "    now = datetime.now()\n",
    "    file_name = path+'\\\\'+experiment_name+now.strftime(r'%H-%M-%S')+'.mat'\n",
    "    savemat(file_name, dict_data)\n",
    "    print(file_name, 'saved')\n",
    "\n",
    "now2 = datetime.now()\n",
    "\n",
    "print('Stop: {}'.format(now2.strftime(r'%H-%M-%S'))) \n",
    "print('Run time:', now2-now1)\n",
    "# anapico.close()"
   ]
  },
  {
   "cell_type": "code",
   "execution_count": 29,
   "id": "98a8ffb1",
   "metadata": {},
   "outputs": [
    {
     "name": "stdout",
     "output_type": "stream",
     "text": [
      "Start: 16-38-29\n",
      "estimated sweep time: 15:25:18.210000\n"
     ]
    }
   ],
   "source": [
    "mode1 = 5.826e9\n",
    "vna_powers = np.linspace(-30, 0, 30)\n",
    "# vna_powers = np.array([-25, -15])\n",
    "\n",
    "vna_set_power(power)\n",
    "vna_set_cw_freq(mode1)\n",
    "vna_bandwidth = 10\n",
    "number_of_points = vna_meas_points()\n",
    "avg_total = 90  #separate measurements of vna per each flux power\n",
    "\n",
    "now1 = datetime.now()\n",
    "print('Start: {}'.format(now1.strftime(r'%H-%M-%S')))\n",
    "print('estimated sweep time:', str(timedelta(seconds=vna_sweep_time()*len(vna_powers)*avg_total)))\n",
    "\n",
    "data = np.empty((avg_total, 2, number_of_points))"
   ]
  },
  {
   "cell_type": "code",
   "execution_count": 30,
   "id": "c15e3669",
   "metadata": {},
   "outputs": [
    {
     "name": "stdout",
     "output_type": "stream",
     "text": [
      "New VNA power (0/30): -30.0\n",
      "1f_noise_VNA_with_referece -30.0_ saved\n",
      "New VNA power (1/30): -28.96551724137931\n",
      "1f_noise_VNA_with_referece -28.96551724137931_ saved\n",
      "New VNA power (2/30): -27.93103448275862\n",
      "1f_noise_VNA_with_referece -27.93103448275862_ saved\n",
      "New VNA power (3/30): -26.89655172413793\n",
      "1f_noise_VNA_with_referece -26.89655172413793_ saved\n",
      "New VNA power (4/30): -25.862068965517242\n",
      "1f_noise_VNA_with_referece -25.862068965517242_ saved\n",
      "New VNA power (5/30): -24.82758620689655\n",
      "1f_noise_VNA_with_referece -24.82758620689655_ saved\n",
      "New VNA power (6/30): -23.79310344827586\n",
      "1f_noise_VNA_with_referece -23.79310344827586_ saved\n",
      "New VNA power (7/30): -22.75862068965517\n",
      "1f_noise_VNA_with_referece -22.75862068965517_ saved\n",
      "New VNA power (8/30): -21.724137931034484\n",
      "1f_noise_VNA_with_referece -21.724137931034484_ saved\n",
      "New VNA power (9/30): -20.689655172413794\n",
      "1f_noise_VNA_with_referece -20.689655172413794_ saved\n",
      "New VNA power (10/30): -19.655172413793103\n",
      "1f_noise_VNA_with_referece -19.655172413793103_ saved\n",
      "New VNA power (11/30): -18.620689655172413\n",
      "1f_noise_VNA_with_referece -18.620689655172413_ saved\n",
      "New VNA power (12/30): -17.586206896551722\n",
      "1f_noise_VNA_with_referece -17.586206896551722_ saved\n",
      "New VNA power (13/30): -16.551724137931032\n",
      "1f_noise_VNA_with_referece -16.551724137931032_ saved\n",
      "New VNA power (14/30): -15.517241379310343\n",
      "1f_noise_VNA_with_referece -15.517241379310343_ saved\n",
      "New VNA power (15/30): -14.482758620689655\n",
      "1f_noise_VNA_with_referece -14.482758620689655_ saved\n",
      "New VNA power (16/30): -13.448275862068964\n",
      "1f_noise_VNA_with_referece -13.448275862068964_ saved\n",
      "New VNA power (17/30): -12.413793103448274\n",
      "1f_noise_VNA_with_referece -12.413793103448274_ saved\n",
      "New VNA power (18/30): -11.379310344827584\n",
      "1f_noise_VNA_with_referece -11.379310344827584_ saved\n",
      "New VNA power (19/30): -10.344827586206897\n",
      "1f_noise_VNA_with_referece -10.344827586206897_ saved\n",
      "New VNA power (20/30): -9.310344827586206\n",
      "1f_noise_VNA_with_referece -9.310344827586206_ saved\n",
      "New VNA power (21/30): -8.275862068965516\n",
      "1f_noise_VNA_with_referece -8.275862068965516_ saved\n",
      "New VNA power (22/30): -7.241379310344826\n",
      "1f_noise_VNA_with_referece -7.241379310344826_ saved\n",
      "New VNA power (23/30): -6.206896551724135\n",
      "1f_noise_VNA_with_referece -6.206896551724135_ saved\n",
      "New VNA power (24/30): -5.172413793103445\n",
      "1f_noise_VNA_with_referece -5.172413793103445_ saved\n",
      "New VNA power (25/30): -4.137931034482758\n",
      "1f_noise_VNA_with_referece -4.137931034482758_ saved\n",
      "New VNA power (26/30): -3.1034482758620676\n",
      "1f_noise_VNA_with_referece -3.1034482758620676_ saved\n",
      "New VNA power (27/30): -2.0689655172413772\n",
      "1f_noise_VNA_with_referece -2.0689655172413772_ saved\n",
      "New VNA power (28/30): -1.0344827586206868\n",
      "1f_noise_VNA_with_referece -1.0344827586206868_ saved\n",
      "New VNA power (29/30): 0.0\n",
      "1f_noise_VNA_with_referece 0.0_ saved\n",
      "Stop: 08-23-07\n",
      "Run time: 15:44:38.634983\n"
     ]
    }
   ],
   "source": [
    "for i_dc, power in enumerate(vna_powers):\n",
    "    vna_set_power(power)\n",
    "    data = np.empty((avg_total, 2, number_of_points))\n",
    "    \n",
    "    print('New VNA power ({}/{}): {}'.format(i_dc, len(vna_powers), power))\n",
    "    \n",
    "    for avg in range(avg_total):\n",
    "        mag, pha = vna_meas_cw()\n",
    "\n",
    "        data[avg, 0, :] = mag\n",
    "        data[avg, 1, :] = pha\n",
    "\n",
    "    dict_data=dict()\n",
    "    dict_data['vna_freq'] = mode1\n",
    "    dict_data['vna_powers'] = vna_powers\n",
    "\n",
    "    dict_data['vna_bandwidth'] = vna_bandwidth\n",
    "    dict_data['number_of_points'] = number_of_points\n",
    "    dict_data['avg_total'] = avg_total\n",
    "    dict_data['data'] = data\n",
    "\n",
    "    experiment_name = '1f_noise_VNA_with_referece {}_'.format(power)\n",
    "    now = datetime.now()\n",
    "    file_name = path+'\\\\'+experiment_name+now.strftime(r'%H-%M-%S')+'.mat'\n",
    "    savemat(file_name, dict_data)\n",
    "    print(experiment_name, 'saved')\n",
    "\n",
    "\n",
    "now2 = datetime.now()\n",
    "\n",
    "print('Stop: {}'.format(now2.strftime(r'%H-%M-%S'))) \n",
    "print('Run time:', now2-now1)"
   ]
  },
  {
   "cell_type": "code",
   "execution_count": 105,
   "id": "3e42aa4f",
   "metadata": {},
   "outputs": [],
   "source": [
    "# %matplotlib qt\n",
    "for i in range(len(flux_powers)):\n",
    "    plt.loglog(fft_f(), data[flux_powers[i]][1][0])"
   ]
  },
  {
   "cell_type": "code",
   "execution_count": 106,
   "id": "2d83e00f",
   "metadata": {},
   "outputs": [],
   "source": [
    "data_to_save=np.empty((len(flux_powers),2,number_of_points))\n",
    "for i in range(len(flux_powers)):\n",
    "    for j in range(2):\n",
    "        for k in range(number_of_points): \n",
    "            data_to_save[i,j,k] = data[flux_powers[i]][j][0][k]"
   ]
  },
  {
   "cell_type": "code",
   "execution_count": 107,
   "id": "282546f8",
   "metadata": {},
   "outputs": [],
   "source": [
    "dict_data=dict()\n",
    "dict_data['flux_powers'] = flux_powers\n",
    "dict_data['data'] = data_to_save\n",
    "dict_data['freqs'] = fft_f()\n",
    "\n",
    "experiment_name = 'Flux_pow_sweep'\n",
    "file_name = path+'\\\\'+experiment_name+now.strftime(r'%H-%M-%S')+'.mat'\n",
    "savemat(file_name, dict_data)"
   ]
  },
  {
   "cell_type": "code",
   "execution_count": 117,
   "id": "587ebfe0",
   "metadata": {},
   "outputs": [
    {
     "ename": "KeyError",
     "evalue": "-18.0",
     "output_type": "error",
     "traceback": [
      "\u001b[1;31m---------------------------------------------------------------------------\u001b[0m",
      "\u001b[1;31mKeyError\u001b[0m                                  Traceback (most recent call last)",
      "Cell \u001b[1;32mIn[117], line 4\u001b[0m\n\u001b[0;32m      2\u001b[0m fig, ax \u001b[38;5;241m=\u001b[39m plt\u001b[38;5;241m.\u001b[39msubplots(\u001b[38;5;241m1\u001b[39m,\u001b[38;5;241m2\u001b[39m,figsize\u001b[38;5;241m=\u001b[39m(\u001b[38;5;241m15\u001b[39m,\u001b[38;5;241m7\u001b[39m), sharex\u001b[38;5;241m=\u001b[39m\u001b[38;5;28;01mTrue\u001b[39;00m, sharey\u001b[38;5;241m=\u001b[39m\u001b[38;5;28;01mTrue\u001b[39;00m)\n\u001b[0;32m      3\u001b[0m \u001b[38;5;28;01mfor\u001b[39;00m i \u001b[38;5;129;01min\u001b[39;00m \u001b[38;5;28mrange\u001b[39m(\u001b[38;5;28mlen\u001b[39m(flux_powers)):\n\u001b[1;32m----> 4\u001b[0m     ax[\u001b[38;5;241m0\u001b[39m]\u001b[38;5;241m.\u001b[39mloglog(fft_f(), fft_A(\u001b[43mdata\u001b[49m\u001b[43m[\u001b[49m\u001b[43mflux_powers\u001b[49m\u001b[43m[\u001b[49m\u001b[43mi\u001b[49m\u001b[43m]\u001b[49m\u001b[43m]\u001b[49m[\u001b[38;5;241m1\u001b[39m][\u001b[38;5;241m0\u001b[39m]), label \u001b[38;5;241m=\u001b[39m \u001b[38;5;124m'\u001b[39m\u001b[38;5;132;01m{}\u001b[39;00m\u001b[38;5;124m'\u001b[39m\u001b[38;5;241m.\u001b[39mformat(\u001b[38;5;28mround\u001b[39m(flux_powers[i],\u001b[38;5;241m2\u001b[39m)))\n\u001b[0;32m      5\u001b[0m     ax[\u001b[38;5;241m1\u001b[39m]\u001b[38;5;241m.\u001b[39mloglog(fft_f(), fft_A(data[flux_powers[i]][\u001b[38;5;241m0\u001b[39m][\u001b[38;5;241m0\u001b[39m]), label \u001b[38;5;241m=\u001b[39m \u001b[38;5;124m'\u001b[39m\u001b[38;5;132;01m{}\u001b[39;00m\u001b[38;5;124m'\u001b[39m\u001b[38;5;241m.\u001b[39mformat(\u001b[38;5;28mround\u001b[39m(flux_powers[i],\u001b[38;5;241m2\u001b[39m)))\n\u001b[0;32m      7\u001b[0m ax[\u001b[38;5;241m0\u001b[39m]\u001b[38;5;241m.\u001b[39mset_xlabel(\u001b[38;5;124m'\u001b[39m\u001b[38;5;124mFrequency, GHz\u001b[39m\u001b[38;5;124m'\u001b[39m)\n",
      "\u001b[1;31mKeyError\u001b[0m: -18.0"
     ]
    }
   ],
   "source": [
    "%matplotlib qt\n",
    "\n",
    "ind = [0, 4,  8, 9]\n",
    "fig, ax = plt.subplots(1,2,figsize=(15,7), sharex=True, sharey=True)\n",
    "for i in range(len(flux_powers)):\n",
    "    ax[0].loglog(fft_f(), fft_A(data[flux_powers[i]][1][0]), label = '{}'.format(round(flux_powers[i],2)))\n",
    "    ax[1].loglog(fft_f(), fft_A(data[flux_powers[i]][0][0]), label = '{}'.format(round(flux_powers[i],2)))\n",
    "    \n",
    "ax[0].set_xlabel('Frequency, GHz')\n",
    "ax[1].set_xlabel('Frequency, GHz')\n",
    "ax[0].set_ylabel('Magnitude')\n",
    "ax[1].set_ylabel('Phase')\n",
    "ax[0].legend()\n",
    "ax[1].legend()"
   ]
  },
  {
   "cell_type": "code",
   "execution_count": 58,
   "id": "7a50edb4",
   "metadata": {},
   "outputs": [],
   "source": [
    "anapico.close() # before restarting kernel connection to anapico should be closed. vna is fine."
   ]
  },
  {
   "cell_type": "markdown",
   "id": "df9ceccf",
   "metadata": {},
   "source": [
    "# Flux Frequency+Power sweep"
   ]
  },
  {
   "cell_type": "code",
   "execution_count": 175,
   "id": "4dd3e719",
   "metadata": {},
   "outputs": [],
   "source": [
    "#_____________ANAPICO______________\n",
    "flux_powers = np.linspace(-30, -6, 5)\n",
    "flux_freqs = np.linspace(11.252e9-2000e6, 11.252e9+2000e6, 5)  # maximum gain at 11.252e9\n",
    "\n",
    "#_____________VNA______________\n",
    "vna_freq = 5.78195e9  #resonance frequency\n",
    "vna_bandwidth = 10\n",
    "number_of_points = vna_meas_points()\n",
    "vna_power = 0\n",
    "\n",
    "avg_total = 3  #separate measurements of vna per each flux power"
   ]
  },
  {
   "cell_type": "code",
   "execution_count": 176,
   "id": "24476782",
   "metadata": {},
   "outputs": [
    {
     "name": "stdout",
     "output_type": "stream",
     "text": [
      "round 0\\5, current flux freq = 9.25\n",
      "round 0\\5, current flux power = -30.0\n",
      "round 1\\5, current flux power = -24.0\n",
      "round 2\\5, current flux power = -18.0\n",
      "round 3\\5, current flux power = -12.0\n",
      "round 4\\5, current flux power = -6.0\n",
      "round 1\\5, current flux freq = 10.25\n",
      "round 0\\5, current flux power = -30.0\n",
      "round 1\\5, current flux power = -24.0\n",
      "round 2\\5, current flux power = -18.0\n",
      "round 3\\5, current flux power = -12.0\n",
      "round 4\\5, current flux power = -6.0\n",
      "round 2\\5, current flux freq = 11.25\n",
      "round 0\\5, current flux power = -30.0\n",
      "round 1\\5, current flux power = -24.0\n",
      "round 2\\5, current flux power = -18.0\n",
      "round 3\\5, current flux power = -12.0\n",
      "round 4\\5, current flux power = -6.0\n",
      "round 3\\5, current flux freq = 12.25\n",
      "round 0\\5, current flux power = -30.0\n",
      "round 1\\5, current flux power = -24.0\n",
      "round 2\\5, current flux power = -18.0\n",
      "round 3\\5, current flux power = -12.0\n",
      "round 4\\5, current flux power = -6.0\n",
      "round 4\\5, current flux freq = 13.25\n",
      "round 0\\5, current flux power = -30.0\n",
      "round 1\\5, current flux power = -24.0\n",
      "round 2\\5, current flux power = -18.0\n",
      "round 3\\5, current flux power = -12.0\n",
      "round 4\\5, current flux power = -6.0\n",
      "Run time: 0:26:14.794747\n"
     ]
    }
   ],
   "source": [
    "vna_set_power(vna_power)\n",
    "vna_set_band(vna_bandwidth)\n",
    "vna_set_cw_freq(vna_freq)\n",
    "\n",
    "data_to_save=np.empty((len(flux_freqs), len(flux_powers), 2, number_of_points))\n",
    "data_to_save_fft=np.empty((len(flux_freqs), len(flux_powers), 2, number_of_points))\n",
    "\n",
    "now1 = datetime.now()\n",
    "print('Start: {}'.format(now.strftime(r'%H-%M-%S')))\n",
    "for i_fr, flux_freq in enumerate(flux_freqs):\n",
    "    print('round {}\\{}, current flux freq = {}'.format(i_fr, len(flux_freqs), round(flux_freq/1e9,2)))\n",
    "    anapico_freq(flux_freq)\n",
    "    anapico_on()\n",
    "\n",
    "    for j_fl, flux_power in enumerate(flux_powers):\n",
    "        print('round {}\\{}, current flux power = {}'.format(j_fl, len(flux_powers), flux_power))\n",
    "        anapico_power(flux_power)\n",
    "\n",
    "        avg_mag = np.zeros(number_of_points)\n",
    "        avg_pha = np.zeros(number_of_points)\n",
    "        avg_mag_fft = np.zeros(number_of_points)\n",
    "        avg_pha_fft = np.zeros(number_of_points)\n",
    "        for avg in range(avg_total):\n",
    "            try: mag, pha = vna_meas_cw()\n",
    "            except: \n",
    "                vna = vna_setup_CW(cw_frequency=vna_freq, vna_power=vna_power, bandwidth=vna_bandwidth)\n",
    "                mag, pha = vna_meas_cw()\n",
    "                \n",
    "            avg_mag_fft+=fft_A(mag)\n",
    "            avg_pha_fft+=fft_A(pha)\n",
    "            \n",
    "            avg_mag+=mag\n",
    "            avg_pha+=pha\n",
    "            \n",
    "        tot_mag = avg_mag/avg_total\n",
    "        tot_pha = avg_pha/avg_total\n",
    "        \n",
    "        tot_mag_fft = avg_mag_fft/avg_total\n",
    "        tot_pha_fft = avg_pha_fft/avg_total\n",
    "        \n",
    "        for i in range(len(tot_mag)): \n",
    "            data_to_save[i_fr,j_fl,0,i] = tot_mag[i] # magnitude\n",
    "            data_to_save[i_fr,j_fl,1,i] = tot_pha[i] # phase\n",
    "            \n",
    "            data_to_save_fft[i_fr,j_fl,0,i] = tot_mag_fft[i] # magnitude\n",
    "            data_to_save_fft[i_fr,j_fl,1,i] = tot_pha_fft[i] # phase\n",
    "    \n",
    "anapico_off()\n",
    "now2 = datetime.now()\n",
    "print('Run time:', now2-now1)"
   ]
  },
  {
   "cell_type": "code",
   "execution_count": 177,
   "id": "c0abc0c2",
   "metadata": {},
   "outputs": [],
   "source": [
    "for i_fr, flux_freq in enumerate(flux_freqs[:15]):\n",
    "    if i_fr%1==0:\n",
    "        fig, ax = plt.subplots(1,2,figsize=(15,7), sharex=True, sharey=True)\n",
    "        st = fig.suptitle(\"TWPA freq {}\".format(round(flux_freq/1e9,5)), fontsize=\"x-large\")\n",
    "\n",
    "        for j_fl, flux_power in enumerate(flux_powers):\n",
    "            if j_fl%1==0 and i%1==0:\n",
    "                ax[0].loglog(fft_f(), data_to_save_fft[i_fr,j_fl,0,:], label = '{}'.format(round(flux_powers[j_fl],2)))\n",
    "                ax[1].loglog(fft_f(), data_to_save_fft[i_fr,j_fl,1,:], label = '{}'.format(round(flux_powers[j_fl],2)))\n",
    "\n",
    "                ax[0].set_xlabel('Frequency, GHz')\n",
    "                ax[1].set_xlabel('Frequency, GHz')\n",
    "                ax[0].set_ylabel('Magnitude')\n",
    "                ax[1].set_ylabel('Phase')\n",
    "                ax[0].legend()\n",
    "                ax[1].legend()"
   ]
  },
  {
   "cell_type": "code",
   "execution_count": 173,
   "id": "a7a0e84b",
   "metadata": {},
   "outputs": [],
   "source": [
    "dict_data=dict()\n",
    "dict_data['flux_powers'] = flux_powers\n",
    "dict_data['flux_freqs'] = flux_freqs\n",
    "dict_data['vna_freq'] = vna_freq\n",
    "dict_data['vna_bandwidth'] = vna_bandwidth\n",
    "dict_data['number_of_points'] = number_of_points\n",
    "dict_data['vna_power'] = vna_power\n",
    "dict_data['avg_total'] = avg_total\n",
    "\n",
    "dict_data['data'] = data_to_save\n",
    "dict_data['data_fft'] = data_to_save_fft\n",
    "\n",
    "\n",
    "experiment_name = 'Freq_Flux_pow_sweep'\n",
    "file_name = path+'\\\\'+experiment_name+now.strftime(r'%H-%M-%S')+'.mat'\n",
    "savemat(file_name, dict_data)"
   ]
  },
  {
   "cell_type": "markdown",
   "id": "f8427ed3",
   "metadata": {},
   "source": [
    "Create log file"
   ]
  },
  {
   "cell_type": "code",
   "execution_count": 174,
   "id": "c4b7eb44",
   "metadata": {},
   "outputs": [],
   "source": [
    "comment = 'Freq+Power Sweep - ok. in resonance high probe'\n",
    "\n",
    "\n",
    "file_name = adress +'\\\\'+'log_'+exp_name+'.txt'\n",
    "f = open(file_name, 'a')  # append  to existing file\n",
    "f.write(str(datetime.now().strftime('%Y-%m-%d %H:%M:%S'))+':   ')\n",
    "f.write(comment+'\\n')\n",
    "f.close()"
   ]
  },
  {
   "cell_type": "code",
   "execution_count": null,
   "id": "23edfa9a",
   "metadata": {},
   "outputs": [],
   "source": []
  }
 ],
 "metadata": {
  "kernelspec": {
   "display_name": "Python 3 (ipykernel)",
   "language": "python",
   "name": "python3"
  },
  "language_info": {
   "codemirror_mode": {
    "name": "ipython",
    "version": 3
   },
   "file_extension": ".py",
   "mimetype": "text/x-python",
   "name": "python",
   "nbconvert_exporter": "python",
   "pygments_lexer": "ipython3",
   "version": "3.9.12"
  }
 },
 "nbformat": 4,
 "nbformat_minor": 5
}
