{
 "cells": [
  {
   "cell_type": "code",
   "execution_count": 126,
   "id": "15aab893",
   "metadata": {},
   "outputs": [],
   "source": [
    "import matplotlib.pyplot as plt\n",
    "import matplotlib\n",
    "%matplotlib qt\n",
    "\n",
    "import numpy as np\n",
    "from numpy import *\n",
    "\n",
    "import os\n",
    "import scipy.io as sio"
   ]
  },
  {
   "cell_type": "code",
   "execution_count": 127,
   "id": "a951c169",
   "metadata": {},
   "outputs": [
    {
     "name": "stdout",
     "output_type": "stream",
     "text": [
      "[0] -----------> 1f noise\n",
      "[1] -----------> 2023-09-18\n",
      "[2] -----------> 2023-09-19\n",
      "[3] -----------> 2023-09-20\n",
      "[4] -----------> 2023-09-26\n",
      "[5] -----------> Gain sweep\n",
      "[6] -----------> Intermodulation products\n",
      "[7] -----------> log_TWPA_noise.txt\n"
     ]
    }
   ],
   "source": [
    "initial_folder = r'C:\\Users\\Demag\\PycharmProjects\\ColdMeasurements\\DeMag\\DATA\\TWPA_noise'\n",
    "\n",
    "folders = os.listdir(initial_folder)\n",
    "for i in range(len(folders)):\n",
    "    if \".fig\" in folders[i]: pass\n",
    "    else: \n",
    "        print(r\"[%d]\" %(i), '----------->', folders[i]) "
   ]
  },
  {
   "cell_type": "code",
   "execution_count": 131,
   "id": "46ed66a3",
   "metadata": {},
   "outputs": [],
   "source": [
    "files = os.listdir(r'C:\\Users\\Demag\\PycharmProjects\\ColdMeasurements\\DeMag\\DATA\\TWPA_noise\\1f noise\\in_SWS')"
   ]
  },
  {
   "cell_type": "code",
   "execution_count": 132,
   "id": "d5316eba",
   "metadata": {},
   "outputs": [
    {
     "name": "stdout",
     "output_type": "stream",
     "text": [
      "[0] -----------> 1f_noise_SWS NO ANAPICO TEST flux_power -1__19-17-16.mat\n"
     ]
    }
   ],
   "source": [
    "folder = folders[0]\n",
    "# files = os.listdir(initial_folder+\"\\\\\"+folder)\n",
    "for i in range(len(files)):\n",
    "    if \".png\" in files[i]: pass\n",
    "    else: \n",
    "        print(r\"[%d]\" %(i), '----------->', files[i]) "
   ]
  },
  {
   "cell_type": "code",
   "execution_count": 136,
   "id": "c53337aa",
   "metadata": {},
   "outputs": [
    {
     "name": "stdout",
     "output_type": "stream",
     "text": [
      "dict_keys(['__header__', '__version__', '__globals__', 'flux_power', 'flux_freq', 'vna_freq', 'vna_bandwidth', 'number_of_points', 'vna_powers', 'avg_total', 'data'])\n"
     ]
    }
   ],
   "source": [
    "file = files[0]\n",
    "# mat = sio.loadmat(files+\"\\\\\"+file)\n",
    "mat = sio.loadmat(r'C:\\Users\\Demag\\PycharmProjects\\ColdMeasurements\\DeMag\\DATA\\TWPA_noise\\1f noise\\in_SWS\\1f_noise_SWS NO ANAPICO TEST flux_power -1__19-17-16.mat')\n",
    "print(mat.keys())"
   ]
  },
  {
   "cell_type": "code",
   "execution_count": 142,
   "id": "477d7954",
   "metadata": {},
   "outputs": [
    {
     "data": {
      "text/plain": [
       "201"
      ]
     },
     "execution_count": 142,
     "metadata": {},
     "output_type": "execute_result"
    }
   ],
   "source": [
    "mat"
   ]
  },
  {
   "cell_type": "markdown",
   "id": "766b49d8",
   "metadata": {},
   "source": [
    "# power sweep"
   ]
  },
  {
   "cell_type": "code",
   "execution_count": 122,
   "id": "da6afe55",
   "metadata": {},
   "outputs": [
    {
     "data": {
      "text/plain": [
       "(5, 15, 2)"
      ]
     },
     "execution_count": 122,
     "metadata": {},
     "output_type": "execute_result"
    }
   ],
   "source": [
    "flux_freqs = mat['flux_freqs'][0]\n",
    "data_to_save = mat['data_to_save'][6]\n",
    "shape(data_to_save)"
   ]
  },
  {
   "cell_type": "code",
   "execution_count": 80,
   "id": "a6d5e8c6",
   "metadata": {},
   "outputs": [
    {
     "name": "stderr",
     "output_type": "stream",
     "text": [
      "No artists with labels found to put in legend.  Note that artists whose label start with an underscore are ignored when legend() is called with no argument.\n",
      "No artists with labels found to put in legend.  Note that artists whose label start with an underscore are ignored when legend() is called with no argument.\n"
     ]
    },
    {
     "data": {
      "text/plain": [
       "<matplotlib.legend.Legend at 0x229dca5b370>"
      ]
     },
     "execution_count": 80,
     "metadata": {},
     "output_type": "execute_result"
    }
   ],
   "source": [
    "fig, ax = plt.subplots(1,2,figsize=(15,7), sharex=True)\n",
    "\n",
    "ax[0].plot(freq, mag)    \n",
    "ax[1].plot(freq, pha)   \n",
    "ax[0].set_xlabel('Frequency, GHz')\n",
    "ax[1].set_xlabel('Frequency, GHz')\n",
    "ax[0].set_ylabel('Magnitude')\n",
    "ax[1].set_ylabel('Phase')\n",
    "ax[0].legend()\n",
    "ax[1].legend()"
   ]
  },
  {
   "cell_type": "code",
   "execution_count": 124,
   "id": "59b87722",
   "metadata": {},
   "outputs": [
    {
     "data": {
      "text/plain": [
       "11.918666666666667"
      ]
     },
     "execution_count": 124,
     "metadata": {},
     "output_type": "execute_result"
    }
   ],
   "source": []
  },
  {
   "cell_type": "markdown",
   "id": "e6db7bb3",
   "metadata": {},
   "source": [
    "# intermodulation products plot"
   ]
  },
  {
   "cell_type": "code",
   "execution_count": 64,
   "id": "8a7a6bb2",
   "metadata": {},
   "outputs": [],
   "source": [
    "flux_power = mat['flux_power'][0,0]\n",
    "flux_freq = mat['flux_freq'][0,0]\n",
    "mode1 = mat['mode1'][0,0]\n",
    "mode1_power = mat['mode1_power'][0,0]\n",
    "mode2 = mat['mode2'][0,0]\n",
    "mode2_power = mat['mode2_power'][0,0]\n",
    "band_Hz = mat['band_Hz'][0,0]\n",
    "nop = mat['nop'][0,0]\n",
    "\n",
    "freq_sweep = mat['freq_sweep'][0]\n",
    "data = mat['data'][0]"
   ]
  },
  {
   "cell_type": "code",
   "execution_count": 65,
   "id": "9043286c",
   "metadata": {},
   "outputs": [
    {
     "name": "stderr",
     "output_type": "stream",
     "text": [
      "No artists with labels found to put in legend.  Note that artists whose label start with an underscore are ignored when legend() is called with no argument.\n"
     ]
    },
    {
     "data": {
      "text/plain": [
       "<matplotlib.legend.Legend at 0x229da6cc130>"
      ]
     },
     "execution_count": 65,
     "metadata": {},
     "output_type": "execute_result"
    }
   ],
   "source": [
    "fig, ax = plt.subplots(figsize=(20,15))\n",
    "ax.set_ylim(-110, 0)\n",
    "# ax.set_xlim(-110, 0)\n",
    "ax.set_title('Powers = {}-{}-{}, flux_freq = {}'.format(flux_power, mode1_power, mode2_power, round(flux_freq/1e9, 3)))\n",
    "ax.plot(freq_sweep/1e9, data)\n",
    "ax.legend()   "
   ]
  },
  {
   "cell_type": "code",
   "execution_count": 81,
   "id": "bdbc5e12",
   "metadata": {},
   "outputs": [
    {
     "data": {
      "text/plain": [
       "array([-30.        , -28.73684211, -27.47368421, -26.21052632,\n",
       "       -24.94736842, -23.68421053, -22.42105263, -21.15789474,\n",
       "       -19.89473684, -18.63157895, -17.36842105, -16.10526316,\n",
       "       -14.84210526, -13.57894737, -12.31578947, -11.05263158,\n",
       "        -9.78947368,  -8.52631579,  -7.26315789,  -6.        ])"
      ]
     },
     "execution_count": 81,
     "metadata": {},
     "output_type": "execute_result"
    }
   ],
   "source": [
    "flux_powers"
   ]
  },
  {
   "cell_type": "code",
   "execution_count": null,
   "id": "3b27dfa2",
   "metadata": {},
   "outputs": [],
   "source": []
  }
 ],
 "metadata": {
  "kernelspec": {
   "display_name": "Python 3 (ipykernel)",
   "language": "python",
   "name": "python3"
  },
  "language_info": {
   "codemirror_mode": {
    "name": "ipython",
    "version": 3
   },
   "file_extension": ".py",
   "mimetype": "text/x-python",
   "name": "python",
   "nbconvert_exporter": "python",
   "pygments_lexer": "ipython3",
   "version": "3.9.12"
  }
 },
 "nbformat": 4,
 "nbformat_minor": 5
}
