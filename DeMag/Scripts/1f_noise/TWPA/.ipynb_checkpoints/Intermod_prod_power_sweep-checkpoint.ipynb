{
 "cells": [
  {
   "cell_type": "code",
   "execution_count": 1,
   "id": "382fb313",
   "metadata": {},
   "outputs": [],
   "source": [
    "import matplotlib.pyplot as plt\n",
    "import matplotlib\n",
    "%matplotlib qt\n",
    "\n",
    "import numpy as np\n",
    "from numpy import *\n",
    "\n",
    "import os\n",
    "import scipy.io as sio"
   ]
  },
  {
   "cell_type": "code",
   "execution_count": 8,
   "id": "86c96224",
   "metadata": {},
   "outputs": [
    {
     "name": "stdout",
     "output_type": "stream",
     "text": [
      "[0] -----------> 1f noise\n",
      "[1] -----------> 2023-09-14\n",
      "[2] -----------> 2023-09-15\n",
      "[3] -----------> 2023-09-18\n",
      "[4] -----------> 2023-09-19\n",
      "[5] -----------> 2023-09-20\n",
      "[6] -----------> 2023-09-26\n",
      "[7] -----------> Gain sweep\n",
      "[8] -----------> Intermodulation products\n",
      "[9] -----------> log_TWPA_noise.txt\n"
     ]
    }
   ],
   "source": [
    "initial_folder = r'C:\\Users\\Demag\\PycharmProjects\\ColdMeasurements\\DeMag\\DATA\\TWPA_noise'\n",
    "\n",
    "folders = os.listdir(initial_folder)\n",
    "for i in range(len(folders)):\n",
    "    if \".fig\" in folders[i]: pass\n",
    "    else: \n",
    "        print(r\"[%d]\" %(i), '----------->', folders[i]) "
   ]
  },
  {
   "cell_type": "code",
   "execution_count": 53,
   "id": "1c933158",
   "metadata": {},
   "outputs": [
    {
     "name": "stdout",
     "output_type": "stream",
     "text": [
      "[0] -----------> Figure_1.png\n",
      "[1] -----------> InterProd_nop 10001,band 1Hz,powers -6--10.0--10.0__16-27-55.mat\n",
      "[2] -----------> InterProd_nop 10001,band 1Hz,powers -6--15.0--15.0__16-27-55.mat\n",
      "[3] -----------> InterProd_nop 10001,band 1Hz,powers -6--20.0--20.0__16-27-55.mat\n",
      "[4] -----------> InterProd_nop 10001,band 1Hz,powers -6--6--6__16-27-55.mat\n",
      "[5] -----------> InterProd_nop 10001,band 1Hz,powers -6--8--8__16-27-55.mat\n",
      "[6] -----------> nop 10001,band 1Hz,powers -6--6--6.png\n",
      "[7] -----------> nop 10001,band 1Hz,powers -6--6--6_offset.png\n"
     ]
    }
   ],
   "source": [
    "folder = folders[6]\n",
    "files = os.listdir(initial_folder+\"\\\\\"+folder)\n",
    "for i in range(len(files)):\n",
    "    if \".fig\" in files[i]: pass\n",
    "    else: \n",
    "        print(r\"[%d]\" %(i), '----------->', files[i]) "
   ]
  },
  {
   "cell_type": "code",
   "execution_count": 55,
   "id": "7b120e0c",
   "metadata": {},
   "outputs": [
    {
     "name": "stdout",
     "output_type": "stream",
     "text": [
      "dict_keys(['__header__', '__version__', '__globals__', 'flux_power', 'flux_freq', 'mode1', 'mode1_power', 'mode2', 'mode2_power', 'band_Hz', 'freq_sweep', 'nop', 'data'])\n"
     ]
    }
   ],
   "source": [
    "file = files[1]\n",
    "mat = sio.loadmat(initial_folder+\"\\\\\"+folder+\"\\\\\"+file)\n",
    "print(mat.keys())"
   ]
  },
  {
   "cell_type": "code",
   "execution_count": 56,
   "id": "e5f4c471",
   "metadata": {},
   "outputs": [
    {
     "data": {
      "text/plain": [
       "{'__header__': b'MATLAB 5.0 MAT-file Platform: nt, Created on: Wed Sep 27 23:10:50 2023',\n",
       " '__version__': '1.0',\n",
       " '__globals__': [],\n",
       " 'flux_power': array([[-6]]),\n",
       " 'flux_freq': array([[1.1252e+10]]),\n",
       " 'mode1': array([[5.629e+09]]),\n",
       " 'mode1_power': array([[-10.]]),\n",
       " 'mode2': array([[5.63e+09]]),\n",
       " 'mode2_power': array([[-10.]]),\n",
       " 'band_Hz': array([[1]]),\n",
       " 'freq_sweep': array([[5.5775000e+09, 5.5775045e+09, 5.5775090e+09, ..., 5.6224910e+09,\n",
       "         5.6224955e+09, 5.6225000e+09]]),\n",
       " 'nop': array([[10001]]),\n",
       " 'data': array([[ -99.433, -100.   , -101.682, ..., -102.9  , -101.352, -102.927]])}"
      ]
     },
     "execution_count": 56,
     "metadata": {},
     "output_type": "execute_result"
    }
   ],
   "source": [
    "mat"
   ]
  },
  {
   "cell_type": "code",
   "execution_count": 57,
   "id": "3cbf31d8",
   "metadata": {},
   "outputs": [],
   "source": [
    "flux_power = mat['flux_power'][0,0]\n",
    "flux_freq = mat['flux_freq'][0,0]\n",
    "mode1 = mat['mode1'][0,0]\n",
    "mode1_power = mat['mode1_power'][0,0]\n",
    "mode2 = mat['mode2'][0,0]\n",
    "mode2_power = mat['mode2_power'][0,0]\n",
    "band_Hz = mat['band_Hz'][0,0]\n",
    "nop = mat['nop'][0,0]\n",
    "\n",
    "freq_sweep = mat['freq_sweep'][0]\n",
    "data = mat['data'][0]"
   ]
  },
  {
   "cell_type": "code",
   "execution_count": 58,
   "id": "f2e5c2ae",
   "metadata": {},
   "outputs": [
    {
     "name": "stderr",
     "output_type": "stream",
     "text": [
      "No artists with labels found to put in legend.  Note that artists whose label start with an underscore are ignored when legend() is called with no argument.\n"
     ]
    },
    {
     "data": {
      "text/plain": [
       "<matplotlib.legend.Legend at 0x229d8f06670>"
      ]
     },
     "execution_count": 58,
     "metadata": {},
     "output_type": "execute_result"
    }
   ],
   "source": [
    "fig, ax = plt.subplots(figsize=(20,15))\n",
    "ax.set_ylim(-110, 0)\n",
    "# ax.set_xlim(-110, 0)\n",
    "ax.set_title('Powers = {}-{}-{}, flux_freq = {}'.format(flux_power, mode1_power, mode2_power, round(flux_freq/1e9, 3)))\n",
    "ax.plot(freq_sweep/1e9, data)\n",
    "ax.legend()   "
   ]
  },
  {
   "cell_type": "code",
   "execution_count": null,
   "id": "d181b830",
   "metadata": {},
   "outputs": [],
   "source": []
  }
 ],
 "metadata": {
  "kernelspec": {
   "display_name": "Python 3 (ipykernel)",
   "language": "python",
   "name": "python3"
  },
  "language_info": {
   "codemirror_mode": {
    "name": "ipython",
    "version": 3
   },
   "file_extension": ".py",
   "mimetype": "text/x-python",
   "name": "python",
   "nbconvert_exporter": "python",
   "pygments_lexer": "ipython3",
   "version": "3.9.12"
  }
 },
 "nbformat": 4,
 "nbformat_minor": 5
}
