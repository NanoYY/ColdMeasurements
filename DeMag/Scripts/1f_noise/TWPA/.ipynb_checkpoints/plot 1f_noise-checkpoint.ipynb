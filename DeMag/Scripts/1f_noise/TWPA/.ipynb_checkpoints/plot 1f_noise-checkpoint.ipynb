{
 "cells": [
  {
   "cell_type": "code",
   "execution_count": 1,
   "id": "382fb313",
   "metadata": {},
   "outputs": [],
   "source": [
    "import matplotlib.pyplot as plt\n",
    "import matplotlib\n",
    "%matplotlib qt\n",
    "\n",
    "import numpy as np\n",
    "from numpy import *\n",
    "\n",
    "import os\n",
    "import scipy.io as sio"
   ]
  },
  {
   "cell_type": "code",
   "execution_count": 2,
   "id": "86c96224",
   "metadata": {},
   "outputs": [
    {
     "name": "stdout",
     "output_type": "stream",
     "text": [
      "[0] -----------> 1f noise\n",
      "[1] -----------> 2023-09-18\n",
      "[2] -----------> 2023-09-19\n",
      "[3] -----------> 2023-09-20\n",
      "[4] -----------> 2023-09-26\n",
      "[5] -----------> Gain sweep\n",
      "[6] -----------> Intermodulation products\n",
      "[7] -----------> log_TWPA_noise.txt\n"
     ]
    }
   ],
   "source": [
    "initial_folder = r'C:\\Users\\Demag\\PycharmProjects\\ColdMeasurements\\DeMag\\DATA\\TWPA_noise'\n",
    "\n",
    "folders = os.listdir(initial_folder)\n",
    "for i in range(len(folders)):\n",
    "    if \".fig\" in folders[i]: pass\n",
    "    else: \n",
    "        print(r\"[%d]\" %(i), '----------->', folders[i]) "
   ]
  },
  {
   "cell_type": "code",
   "execution_count": 66,
   "id": "1c933158",
   "metadata": {},
   "outputs": [
    {
     "name": "stdout",
     "output_type": "stream",
     "text": [
      "[0] -----------> InterProd_nop 10001,band 1Hz,powers -6--14.0--14.0__12-37-12.mat\n",
      "[1] -----------> InterProd_nop 10001,band 1Hz,powers -6--18.0--18.0__10-32-18.mat\n",
      "[2] -----------> InterProd_nop 10001,band 1Hz,powers -6--20.0--20.0__23-24-59.mat\n",
      "[3] -----------> InterProd_nop 10001,band 1Hz,powers -6--4.0--4.0__12-37-12.mat\n",
      "[4] -----------> InterProd_nop 10001,band 1Hz,powers -6--6.0--6.0__12-37-12.mat\n",
      "[5] -----------> InterProd_nop 10001,band 1Hz,powers -6--8.0--8.0__12-37-12.mat\n"
     ]
    }
   ],
   "source": [
    "folder = folders[6]\n",
    "files = os.listdir(initial_folder+\"\\\\\"+folder)\n",
    "for i in range(len(files)):\n",
    "    if \".fig\" in files[i]: pass\n",
    "    else: \n",
    "        print(r\"[%d]\" %(i), '----------->', files[i]) "
   ]
  },
  {
   "cell_type": "code",
   "execution_count": 9,
   "id": "7b120e0c",
   "metadata": {},
   "outputs": [
    {
     "data": {
      "text/plain": [
       "<matplotlib.legend.Legend at 0x1e7d23e2a90>"
      ]
     },
     "execution_count": 9,
     "metadata": {},
     "output_type": "execute_result"
    }
   ],
   "source": [
    "fig, ax = plt.subplots(figsize=(20,15))\n",
    "ax.set_ylim(-110, 0)\n",
    "\n",
    "for i in [0]:\n",
    "    file = files[i]\n",
    "    mat = sio.loadmat(initial_folder+\"\\\\\"+folder+\"\\\\\"+file)\n",
    "    flux_power = mat['flux_power'][0,0]\n",
    "    flux_freq = mat['flux_freq'][0,0]\n",
    "    mode1 = mat['mode1'][0,0]\n",
    "    mode1_power = mat['mode1_power'][0,0]\n",
    "    mode2 = mat['mode2'][0,0]\n",
    "    mode2_power = mat['mode2_power'][0,0]\n",
    "    band_Hz = mat['band_Hz'][0,0]\n",
    "    nop = mat['nop'][0,0]\n",
    "\n",
    "    freq_sweep = mat['freq_sweep'][0]\n",
    "    data = mat['data'][0]\n",
    "    \n",
    "    ax.set_title('Powers = {}-{}-{}, flux_freq = {}'.format(flux_power, mode1_power, mode2_power, round(flux_freq/1e9, 3)))\n",
    "    ax.plot(freq_sweep/1e9, data, label = r'mode power: {}'.format(mode1_power))\n",
    "    \n",
    "    ax.axvline(flux_freq/1e9/2, ymin=-100, ymax=1, linestyle=':', linewidth=2, color='r',\n",
    "                               alpha = 1)\n",
    "ax.legend()   "
   ]
  },
  {
   "cell_type": "code",
   "execution_count": 6,
   "id": "3cbf31d8",
   "metadata": {},
   "outputs": [],
   "source": [
    "# find mode array\n",
    "\n",
    "mp = flux_freq/2/1e9\n",
    "m1 = mode1/1e9\n",
    "m2 = mode2/1e9\n",
    "\n",
    "def get_mode(i, j, k, mp, m1, m2):\n",
    "    return i*mp+j*m1+k*m2\n",
    "\n",
    "range_i = np.array([-4, -3, -2, -1, 0, 1, 2, 3, 4])\n",
    "modes_fr = np.array([])\n",
    "for i in range_i:\n",
    "    for j in range_i:\n",
    "        for k in range_i:\n",
    "            mode = get_mode(i, j, k, mp, m1, m2)\n",
    "            if mode<max(freq_sweep/1e9) and mode>min(freq_sweep/1e9):\n",
    "                modes_fr = np.append(modes_fr, mode)"
   ]
  },
  {
   "cell_type": "code",
   "execution_count": 52,
   "id": "d181b830",
   "metadata": {},
   "outputs": [],
   "source": [
    "modes_fr_sort = np.unique(np.sort(np.round(modes_fr,3)))"
   ]
  },
  {
   "cell_type": "code",
   "execution_count": 53,
   "id": "0d4aaf65",
   "metadata": {},
   "outputs": [
    {
     "data": {
      "text/plain": [
       "array([5.613, 5.614, 5.615, 5.616, 5.617, 5.618, 5.619, 5.62 , 5.621,\n",
       "       5.622, 5.623, 5.624, 5.625, 5.626, 5.627, 5.628, 5.629, 5.63 ,\n",
       "       5.631, 5.632, 5.633, 5.634, 5.635, 5.636, 5.637, 5.638, 5.639,\n",
       "       5.64 , 5.641, 5.642, 5.643, 5.644, 5.645])"
      ]
     },
     "execution_count": 53,
     "metadata": {},
     "output_type": "execute_result"
    }
   ],
   "source": [
    "modes_fr_sort"
   ]
  },
  {
   "cell_type": "code",
   "execution_count": 67,
   "id": "166d64f7",
   "metadata": {},
   "outputs": [
    {
     "data": {
      "text/plain": [
       "<matplotlib.legend.Legend at 0x1e7e8067ee0>"
      ]
     },
     "execution_count": 67,
     "metadata": {},
     "output_type": "execute_result"
    }
   ],
   "source": [
    "def find_nearest(array, value):\n",
    "    array = np.asarray(array)\n",
    "    idx = (np.abs(array - value)).argmin()\n",
    "    return idx\n",
    "\n",
    "\n",
    "fig, ax = plt.subplots(figsize=(20,15))\n",
    "\n",
    "cmap = plt.get_cmap('jet')\n",
    "x = np.linspace(0, 1, int(len(modes_fr_sort)))\n",
    "colors = cmap(x)\n",
    "control_color = -1\n",
    "marker_list = [\"2\", \"3\", \"o\", \"v\", \">\", \"<\", \"p\"]\n",
    "ml=-1\n",
    "for im, m in enumerate(modes_fr_sort):\n",
    "    control_color += 1\n",
    "    \n",
    "    mag = np.array([])\n",
    "    power = np.array([])\n",
    "    \n",
    "    for i in [3,4,5,0,1,2]:\n",
    "        file = files[i]\n",
    "        mat = sio.loadmat(initial_folder+\"\\\\\"+folder+\"\\\\\"+file)\n",
    "        mode1_power = mat['mode1_power'][0,0]\n",
    "        freq_sweep = mat['freq_sweep'][0]\n",
    "        data = mat['data'][0]\n",
    "        \n",
    "        mode_index = find_nearest(freq_sweep/1e9, m)\n",
    "        mag_max = max(data[mode_index-10:mode_index+10])\n",
    "        mag = np.append(mag, data[mode_index])\n",
    "        power = np.append(power, mode1_power)\n",
    "    if max(mag)-min(mag)>5:\n",
    "        ml +=1\n",
    "        ax.plot(power, mag, marker = marker_list[mod(ml,5)], color = colors[control_color], label = 'mode = {}'.format(np.round(m,3)))\n",
    "\n",
    "ax.legend()"
   ]
  },
  {
   "cell_type": "code",
   "execution_count": 13,
   "id": "7a19fd7a",
   "metadata": {},
   "outputs": [
    {
     "data": {
      "text/plain": [
       "<matplotlib.legend.Legend at 0x1e7d4391ac0>"
      ]
     },
     "execution_count": 13,
     "metadata": {},
     "output_type": "execute_result"
    }
   ],
   "source": [
    "file = files[0]\n",
    "mat = sio.loadmat(initial_folder+\"\\\\\"+folder+\"\\\\\"+file)\n",
    "flux_power = mat['flux_power'][0,0]\n",
    "flux_freq = mat['flux_freq'][0,0]\n",
    "mode1 = mat['mode1'][0,0]\n",
    "mode1_power = mat['mode1_power'][0,0]\n",
    "mode2 = mat['mode2'][0,0]\n",
    "mode2_power = mat['mode2_power'][0,0]\n",
    "band_Hz = mat['band_Hz'][0,0]\n",
    "nop = mat['nop'][0,0]\n",
    "\n",
    "freq_sweep = mat['freq_sweep'][0]\n",
    "data = mat['data'][0]\n",
    "fig, ax = plt.subplots(figsize=(20,15))\n",
    "\n",
    "ax.set_title('Powers = {}-{}-{}, flux_freq = {}'.format(flux_power, mode1_power, mode2_power, round(flux_freq/1e9, 3)))\n",
    "ax.plot(freq_sweep/1e9, data, label = r'mode power: {}'.format(mode1_power))\n",
    "\n",
    "for i in range(len(modes_fr_sort)):\n",
    "    ax.axvline(modes_fr_sort[i], ymin=-100, ymax=1, linestyle=':', linewidth=2, color='r',\n",
    "                           alpha = 1)\n",
    "ax.legend()   "
   ]
  },
  {
   "cell_type": "code",
   "execution_count": 72,
   "id": "b15d9e53",
   "metadata": {},
   "outputs": [
    {
     "name": "stdout",
     "output_type": "stream",
     "text": [
      "5.613000000000003\n"
     ]
    }
   ],
   "source": [
    "print(modes_fr_sort[0])"
   ]
  },
  {
   "cell_type": "code",
   "execution_count": null,
   "id": "fe7c4a26",
   "metadata": {},
   "outputs": [],
   "source": []
  }
 ],
 "metadata": {
  "kernelspec": {
   "display_name": "Python 3 (ipykernel)",
   "language": "python",
   "name": "python3"
  },
  "language_info": {
   "codemirror_mode": {
    "name": "ipython",
    "version": 3
   },
   "file_extension": ".py",
   "mimetype": "text/x-python",
   "name": "python",
   "nbconvert_exporter": "python",
   "pygments_lexer": "ipython3",
   "version": "3.9.12"
  }
 },
 "nbformat": 4,
 "nbformat_minor": 5
}
