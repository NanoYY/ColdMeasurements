{
 "cells": [
  {
   "cell_type": "code",
   "execution_count": 1,
   "id": "852c9fae",
   "metadata": {},
   "outputs": [
    {
     "name": "stdout",
     "output_type": "stream",
     "text": [
      "Folder C:\\Users\\Demag\\PycharmProjects\\ColdMeasurements\\DeMag\\DATA\\TWPA_noise_9 already exists\n"
     ]
    }
   ],
   "source": [
    "import numpy as np\n",
    "from numpy import *\n",
    "from scipy.optimize import curve_fit\n",
    "\n",
    "#plotting\n",
    "import matplotlib.pyplot as plt\n",
    "import matplotlib\n",
    "\n",
    "#matlab import\n",
    "import scipy.io\n",
    "from scipy.io import savemat\n",
    "from scipy.optimize import minimize\n",
    "from scipy.fft import fft, ifft, fftshift, ifftshift\n",
    "\n",
    "#file_store\n",
    "import os\n",
    "\n",
    "#time\n",
    "import time\n",
    "from datetime import datetime, timedelta\n",
    "\n",
    "\n",
    "from TWPA_scearch_best_gain import *\n",
    "def linear_func(x, a, b):\n",
    "    return a * x + b\n",
    "\n",
    "def linear_fit(x, y):\n",
    "    popt, pcov = curve_fit(linear_func, x, y)\n",
    "    a = popt[0]\n",
    "    b = popt[1]\n",
    "    a_err = np.sqrt(pcov[0, 0])\n",
    "    b_err = np.sqrt(pcov[1, 1])\n",
    "    return a, b, a_err, b_err\n",
    "\n",
    "from ctypes import *\n",
    "%matplotlib inline\n",
    "\n",
    "Global_data_adress = r\"C:\\Users\\Demag\\PycharmProjects\\ColdMeasurements\\DeMag\\DATA\"\n",
    "exp_name = 'TWPA_noise_9'\n",
    "adress = Global_data_adress+'\\\\'+exp_name\n",
    "if not os.path.exists(adress):\n",
    "  os.mkdir(adress)\n",
    "  print(\"Folder %s created!\" % adress)\n",
    "else:\n",
    "  print(\"Folder %s already exists\" % adress)\n",
    "\n",
    "\n",
    "# Stable temperature since 02.06.2025"
   ]
  },
  {
   "cell_type": "code",
   "execution_count": 31,
   "id": "fa7a3440",
   "metadata": {},
   "outputs": [],
   "source": [
    "signal = np.random.randint(low=0, high=100, size=10000)\n",
    "band = 100\n",
    "nop = len(signal)\n",
    "ti = np.linspace(0, nop/band, nop)\n",
    "\n",
    "fft_signal = fft(signal)\n"
   ]
  },
  {
   "cell_type": "code",
   "execution_count": 32,
   "id": "965655fb",
   "metadata": {},
   "outputs": [
    {
     "data": {
      "text/plain": [
       "4956.445644564456"
      ]
     },
     "execution_count": 32,
     "metadata": {},
     "output_type": "execute_result"
    }
   ],
   "source": [
    "sum(signal * (ti[1]-ti[0]))"
   ]
  },
  {
   "cell_type": "code",
   "execution_count": 33,
   "id": "0d57e103",
   "metadata": {},
   "outputs": [
    {
     "data": {
      "text/plain": [
       "-1.0001000100007786"
      ]
     },
     "execution_count": 33,
     "metadata": {},
     "output_type": "execute_result"
    }
   ],
   "source": [
    "sum(freq_fft * (freq_band[1]-freq_band[0]))"
   ]
  },
  {
   "cell_type": "code",
   "execution_count": 9,
   "id": "776e739e",
   "metadata": {},
   "outputs": [
    {
     "data": {
      "text/plain": [
       "10000"
      ]
     },
     "execution_count": 9,
     "metadata": {},
     "output_type": "execute_result"
    }
   ],
   "source": [
    "n"
   ]
  },
  {
   "cell_type": "code",
   "execution_count": 30,
   "id": "64d9b1bc",
   "metadata": {},
   "outputs": [
    {
     "data": {
      "text/plain": [
       "array([ 0.  ,  0.01,  0.02, ..., -0.03, -0.02, -0.01])"
      ]
     },
     "execution_count": 30,
     "metadata": {},
     "output_type": "execute_result"
    }
   ],
   "source": [
    "timestep = 1/band\n",
    "freq_fft = scipy.fft.fftfreq(n, d=timestep)\n",
    "freq_fft"
   ]
  },
  {
   "cell_type": "code",
   "execution_count": 26,
   "id": "3d36a15e",
   "metadata": {},
   "outputs": [],
   "source": [
    "freq_band = np.linspace(-band/2, band/2, nop)"
   ]
  },
  {
   "cell_type": "code",
   "execution_count": 29,
   "id": "1cd5b544",
   "metadata": {},
   "outputs": [
    {
     "data": {
      "text/plain": [
       "array([-100.      ,  -99.979998,  -99.959996, ...,   99.959996,\n",
       "         99.979998,  100.      ])"
      ]
     },
     "execution_count": 29,
     "metadata": {},
     "output_type": "execute_result"
    }
   ],
   "source": [
    "freq_band"
   ]
  },
  {
   "cell_type": "code",
   "execution_count": 35,
   "id": "90b171c9",
   "metadata": {},
   "outputs": [
    {
     "name": "stdout",
     "output_type": "stream",
     "text": [
      "Power (time domain):     9950.833155\n",
      "Power (frequency domain): 99508331.546154\n",
      "Relative error:           1.00e+04\n"
     ]
    }
   ],
   "source": [
    "import numpy as np\n",
    "import matplotlib.pyplot as plt\n",
    "\n",
    "# Parameters\n",
    "N = 10000\n",
    "BW = 10e6  # Sampling rate = 10 MHz\n",
    "\n",
    "# Generate random time-domain signal (e.g., white noise)\n",
    "x = np.random.randn(N)\n",
    "\n",
    "# --- Time domain power ---\n",
    "power_time = np.sum(np.abs(x)**2) / N  # power\n",
    "\n",
    "# --- Frequency domain power ---\n",
    "X = np.fft.fft(x)\n",
    "power_freq = np.sum(np.abs(X)**2) / N**2  # scale by N^2 for unnormalized FFT\n",
    "\n",
    "# Compare\n",
    "print(f\"Power (time domain):     {power_time:.6f}\")\n",
    "print(f\"Power (frequency domain): {power_freq:.6f}\")\n",
    "print(f\"Relative error:           {abs(power_time - power_freq) / power_time:.2e}\")\n"
   ]
  },
  {
   "cell_type": "code",
   "execution_count": null,
   "id": "56e4ba63",
   "metadata": {},
   "outputs": [],
   "source": []
  }
 ],
 "metadata": {
  "kernelspec": {
   "display_name": "Python 3 (ipykernel)",
   "language": "python",
   "name": "python3"
  },
  "language_info": {
   "codemirror_mode": {
    "name": "ipython",
    "version": 3
   },
   "file_extension": ".py",
   "mimetype": "text/x-python",
   "name": "python",
   "nbconvert_exporter": "python",
   "pygments_lexer": "ipython3",
   "version": "3.9.12"
  }
 },
 "nbformat": 4,
 "nbformat_minor": 5
}
