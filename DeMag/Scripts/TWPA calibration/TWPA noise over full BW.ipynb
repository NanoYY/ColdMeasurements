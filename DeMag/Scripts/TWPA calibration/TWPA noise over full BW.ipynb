{
 "cells": [
  {
   "cell_type": "code",
   "execution_count": 1,
   "id": "6d309b85",
   "metadata": {},
   "outputs": [
    {
     "name": "stdout",
     "output_type": "stream",
     "text": [
      "Folder C:\\Users\\Demag\\PycharmProjects\\ColdMeasurements\\DeMag\\DATA\\TWPA_noise already exists\n"
     ]
    },
    {
     "name": "stderr",
     "output_type": "stream",
     "text": [
      "C:\\Users\\Demag\\anaconda3\\lib\\site-packages\\scipy\\__init__.py:146: UserWarning: A NumPy version >=1.16.5 and <1.23.0 is required for this version of SciPy (detected version 1.26.1\n",
      "  warnings.warn(f\"A NumPy version >={np_minversion} and <{np_maxversion}\"\n"
     ]
    }
   ],
   "source": [
    "import pyvisa\n",
    "import matplotlib.pyplot as plt\n",
    "import matplotlib\n",
    "\n",
    "from nanodrivers.visa_drivers.anapico import ANAPICO\n",
    "from nanodrivers.visa_drivers.dc import DC\n",
    "from nanodrivers.visa_drivers.vna import VNA\n",
    "\n",
    "import numpy as np\n",
    "from numpy import *\n",
    "from scipy.fft import fft, ifft, fftshift\n",
    "from scipy.io import savemat\n",
    "from datetime import datetime, timedelta\n",
    "import time\n",
    "\n",
    "import os\n",
    "Global_data_adress = r\"C:\\Users\\Demag\\PycharmProjects\\ColdMeasurements\\DeMag\\DATA\"\n",
    "exp_name = 'TWPA_noise'\n",
    "adress = Global_data_adress+'\\\\'+exp_name\n",
    "if not os.path.exists(adress):\n",
    "  os.mkdir(adress)\n",
    "  print(\"Folder %s created!\" % adress)\n",
    "else:\n",
    "  print(\"Folder %s already exists\" % adress)"
   ]
  },
  {
   "cell_type": "code",
   "execution_count": 2,
   "id": "2208d602",
   "metadata": {},
   "outputs": [
    {
     "name": "stdout",
     "output_type": "stream",
     "text": [
      "Folder C:\\Users\\Demag\\PycharmProjects\\ColdMeasurements\\DeMag\\DATA\\TWPA_noise\\Full_BW_noise already exists\n"
     ]
    }
   ],
   "source": [
    "now = datetime.now()\n",
    "path = adress +'\\\\'+ 'Full_BW_noise'\n",
    "if not os.path.exists(path):\n",
    "  os.mkdir(path)\n",
    "  print(\"Folder %s created!\" % path)\n",
    "else:\n",
    "  print(\"Folder %s already exists\" % path)"
   ]
  },
  {
   "cell_type": "code",
   "execution_count": 3,
   "id": "0456db7e",
   "metadata": {},
   "outputs": [
    {
     "name": "stdout",
     "output_type": "stream",
     "text": [
      "Connection exist: AnaPico AG,APMS20G,3C6-0B4F40003-0985,0.4.209\n",
      "\n"
     ]
    }
   ],
   "source": [
    "anapico = ANAPICO()\n",
    "anapico.idn()"
   ]
  },
  {
   "cell_type": "code",
   "execution_count": 4,
   "id": "5b84b30a",
   "metadata": {},
   "outputs": [],
   "source": [
    " anapico.set_off(1)"
   ]
  },
  {
   "cell_type": "code",
   "execution_count": 5,
   "id": "58ef9cff",
   "metadata": {},
   "outputs": [
    {
     "name": "stdout",
     "output_type": "stream",
     "text": [
      "Connection exist: HEWLETT-PACKARD,33120A,0,7.0-5.0-1.0\n",
      "\n"
     ]
    }
   ],
   "source": [
    "dc = DC()\n",
    "dc.idn()"
   ]
  },
  {
   "cell_type": "code",
   "execution_count": 6,
   "id": "aa7c219e",
   "metadata": {},
   "outputs": [],
   "source": [
    "dc.set_volt(0)"
   ]
  },
  {
   "cell_type": "code",
   "execution_count": 7,
   "id": "cfaf4c8c",
   "metadata": {},
   "outputs": [
    {
     "name": "stderr",
     "output_type": "stream",
     "text": [
      "\n",
      "KeyboardInterrupt\n",
      "\n"
     ]
    }
   ],
   "source": [
    "vna = VNA()\n",
    "vna.idn()"
   ]
  },
  {
   "cell_type": "markdown",
   "id": "c8b4ea9d",
   "metadata": {},
   "source": [
    "# Check if TWPA is connected"
   ]
  },
  {
   "cell_type": "code",
   "execution_count": null,
   "id": "29b6f1e7",
   "metadata": {},
   "outputs": [],
   "source": [
    "%matplotlib inline\n",
    "\n",
    "def get_ref_gain():\n",
    "    anapico.set_off(1)\n",
    "    mag, pha = vna.get_data()\n",
    "    reference_mag_level = np.mean(mag)\n",
    "    return reference_mag_level\n",
    "\n",
    "def get_FP_sweep(dc_curr, freq_steps, pow_steps): \n",
    "    dc.set_volt(dc_curr, delay = 0)\n",
    "    m_ref = get_ref_gain()\n",
    "    power = np.linspace(low_power, high_power, pow_steps)\n",
    "    frequency = np.linspace(low_freq, high_freq, freq_steps)\n",
    "    anapico.set_on(1)\n",
    "    \n",
    "    vna.set_band(100)\n",
    "    vna.set_nop(50)\n",
    "    vna.set_power(0)\n",
    "    vna.set_cw_freq(6e9)\n",
    "    gain = np.empty((pow_steps,freq_steps))\n",
    "    for i in range(pow_steps):\n",
    "        print('Round {}/{} started'.format(i, pow_steps), end = '\\r')\n",
    "        for j in range(freq_steps):\n",
    "            anapico.set_power(1, power[i])\n",
    "            anapico.set_freq(1, frequency[j])\n",
    "            mag, pha = vna.get_data()\n",
    "            gain[i,j] = np.mean(mag)-m_ref\n",
    "\n",
    "    return power, frequency, gain\n",
    "\n",
    "low_freq = 11.1e+9\n",
    "high_freq = 11.3e+9\n",
    "low_power = 5\n",
    "high_power = 10\n",
    "\n",
    "start_time = datetime.now()\n",
    "fig, ax = plt.subplots(figsize=(25,13))\n",
    "power, freq, gain = get_FP_sweep(dc_curr=2.45, freq_steps = 20, pow_steps = 20) \n",
    "c = ax.pcolor(freq, power, gain, cmap='viridis')\n",
    "fig.colorbar(c, ax=ax)\n",
    "end_time = datetime.now()\n",
    "print('Duration: {}'.format(end_time - start_time))"
   ]
  },
  {
   "cell_type": "markdown",
   "id": "065af862",
   "metadata": {},
   "source": [
    "# Test OP|"
   ]
  },
  {
   "cell_type": "code",
   "execution_count": null,
   "id": "bcfb8caa",
   "metadata": {},
   "outputs": [],
   "source": [
    "vna.set_lin()\n",
    "vna.set_nop(200)\n",
    "fr = vna.get_freq()\n",
    "\n",
    "DC = 2\n",
    "dc.set_volt(DC, delay = 0)\n",
    "anapico.set_off(1)\n",
    "mag_ref, pha_ref = vna.get_data()\n",
    "\n",
    "pumpP = 11\n",
    "anapico.set_power(1, pumpP)\n",
    "pumpF = 11.64e+9\n",
    "anapico.set_freq(1, pumpF)\n",
    "anapico.set_on(1)\n",
    "mag, pha = vna.get_data()\n",
    "\n",
    "fig, ax = plt.subplots(1,2,figsize=(15,10))\n",
    "ax[0].plot(fr, mag-mag_ref)\n",
    "ax[1].plot(fr, pha-pha_ref)"
   ]
  },
  {
   "cell_type": "markdown",
   "id": "5b8d2a21",
   "metadata": {},
   "source": [
    "# Full VNA sweep near point with max gain"
   ]
  },
  {
   "cell_type": "markdown",
   "id": "2c7af95d",
   "metadata": {},
   "source": [
    "find gain sweep point"
   ]
  },
  {
   "cell_type": "code",
   "execution_count": null,
   "id": "24b006ec",
   "metadata": {
    "scrolled": true
   },
   "outputs": [],
   "source": [
    "start = datetime.now() \n",
    "file = r'VNA_full_BW_sweep'+ start.strftime(r'%Y-%m-%d-%H-%M-%S') + '.mat'\n",
    "\n",
    "file_name = path +'\\\\' + file\n",
    "state = dict()\n",
    "\n",
    "# Set DC param\n",
    "DC = 2\n",
    "dc.set_volt(DC, delay = 0)\n",
    "state['DC'] = DC\n",
    "state['DC_state'] = dc.dump()\n",
    "\n",
    "\n",
    "# Set Anapico param\n",
    "\n",
    "pumpP = 11\n",
    "anapico.set_power(1, pumpP)\n",
    "pumpF = 11.64e+9\n",
    "anapico.set_freq(1, pumpF)\n",
    "anapico.set_on(1)\n",
    "state['anapico_state'] = anapico.dump()\n",
    "\n",
    "\n",
    "# Set VNA param\n",
    "nop  = 201\n",
    "vna.set_nop(nop)\n",
    "BW = 100\n",
    "vna.set_band(BW)\n",
    "avg = 20\n",
    "VNA_power = 0\n",
    "vna.set_power(VNA_power)\n",
    "\n",
    "vna.set_cw()\n",
    "state['nop'] = nop\n",
    "state['BW'] = BW\n",
    "state['avg'] = avg\n",
    "state['VNA_power'] = VNA_power\n",
    "state['VNA_state'] = vna.dump()\n",
    "\n",
    "VNA_freqs = np.linspace(4, 8, 500)*1e9\n",
    "\n",
    "mag = np.zeros((nop, avg, len(VNA_freqs)))\n",
    "pha = np.zeros((nop, avg, len(VNA_freqs)))\n",
    "\n",
    "state['mag'] = mag\n",
    "state['pha'] = pha\n",
    "\n",
    "for i in range(len(VNA_freqs)):\n",
    "    \n",
    "    start_time = datetime.now()\n",
    "    print('New round {}/{} started at {}'.format(i, len(VNA_freqs), start_time.strftime(r'%Y/%m/%d %H:%M:%S')))\n",
    "        \n",
    "    vna.set_cw_freq(VNA_freqs[i])\n",
    "    \n",
    "    for j in range(avg):\n",
    "        mag[:,j,i], pha[:,j,i] = vna.get_data()\n",
    "        state['mag'] = mag\n",
    "        state['pha'] = pha\n",
    "        \n",
    "    savemat(file_name, state)\n",
    "    \n",
    "    \n",
    "    if i == 0: \n",
    "        duration_end = datetime.now()\n",
    "        period = (duration_end-start_time).seconds\n",
    "        \n",
    "        print('Duration: {}. End of script in: {}'.format(duration_end - start_time, \n",
    "                                        timedelta(seconds=period*len(VNA_freqs))))\n",
    "        \n",
    "\n",
    "script_end_time = datetime.now()\n",
    "print('Script finnished at {}'.format(script_end_time.strftime(r'%Y/%m/%d %H:%M:%S')))\n",
    "dc.set_volt(0)\n",
    "        "
   ]
  },
  {
   "cell_type": "code",
   "execution_count": null,
   "id": "c401fa5d",
   "metadata": {},
   "outputs": [],
   "source": [
    "start = datetime.now() \n",
    "\n",
    "path_el = r'C:\\Users\\Demag\\PycharmProjects\\ColdMeasurements\\DeMag\\DATA\\TWPA_noise\\Line_calibration'\n",
    "file_el = r'noise_empty_line'+ start.strftime(r'_%Y-%m-%d-%H-%M-%S') + '.mat'\n",
    "file_name = path_el +'\\\\' + file_el\n",
    "state = dict()\n",
    "\n",
    "# Set VNA param\n",
    "vna.set_cw()\n",
    "nop  = 201\n",
    "vna.set_nop(nop)\n",
    "BW = 100\n",
    "vna.set_band(BW)\n",
    "avg = 5\n",
    "VNA_power = 0\n",
    "vna.set_power(VNA_power)\n",
    "\n",
    "vna.set_cw()\n",
    "state['nop'] = nop\n",
    "state['BW'] = BW\n",
    "state['avg'] = avg\n",
    "state['VNA_power'] = VNA_power\n",
    "state['VNA_state'] = vna.dump()\n",
    "\n",
    "VNA_freqs = np.linspace(4, 8, 500)*1e9\n",
    "\n",
    "mag = np.zeros((nop, avg, len(VNA_freqs)))\n",
    "pha = np.zeros((nop, avg, len(VNA_freqs)))\n",
    "\n",
    "state['mag'] = mag\n",
    "state['pha'] = pha\n",
    "\n",
    "for i in range(len(VNA_freqs)):\n",
    "    \n",
    "    start_time = datetime.now()\n",
    "    print('New round {}/{} started at {}'.format(i, len(VNA_freqs), start_time.strftime(r'%Y/%m/%d %H:%M:%S')))\n",
    "        \n",
    "    vna.set_cw_freq(VNA_freqs[i])\n",
    "    \n",
    "    for j in range(avg):\n",
    "        mag[:,j,i], pha[:,j,i] = vna.get_data()\n",
    "        state['mag'] = mag\n",
    "        state['pha'] = pha\n",
    "        \n",
    "    savemat(file_name, state)\n",
    "    \n",
    "    \n",
    "    if i == 0: \n",
    "        duration_end = datetime.now()\n",
    "        period = (duration_end-start_time).seconds\n",
    "        \n",
    "        print('Duration: {}. End of script in: {}'.format(duration_end - start_time, \n",
    "                                        timedelta(seconds=period*len(VNA_freqs))))\n",
    "        \n",
    "\n",
    "script_end_time = datetime.now()\n",
    "print('Script finnished at {}'.format(script_end_time.strftime(r'%Y/%m/%d %H:%M:%S')))        "
   ]
  },
  {
   "cell_type": "code",
   "execution_count": null,
   "id": "8e2a81f7",
   "metadata": {},
   "outputs": [],
   "source": [
    "# measure empty line \n",
    "dc.set_volt(0)\n",
    "anapico.set_off(1)\n",
    "\n",
    "\n",
    "vna.set_lin()\n",
    "vna.set_power(-10)\n",
    "vna.set_nop(10000)\n",
    "vna.set_freq_start_stop(4*1e9,8*1e9,vna.get_nop())\n",
    "mag_empty_line, pha_empty_line = vna.get_data()\n"
   ]
  },
  {
   "cell_type": "code",
   "execution_count": null,
   "id": "c6e732d0",
   "metadata": {},
   "outputs": [],
   "source": [
    "path_el = r'C:\\Users\\Demag\\PycharmProjects\\ColdMeasurements\\DeMag\\DATA\\TWPA_noise\\Line_calibration'\n",
    "file_el = r'empty_line_sweep_nop10000'+ start.strftime(r'_%Y-%m-%d-%H-%M-%S') + '.mat'\n",
    "file_name = path_el +'\\\\' + file_el\n",
    "state_el = dict()\n",
    "\n",
    "state_el['mag'] = mag_empty_line\n",
    "state_el['pha'] = pha_empty_line\n",
    "state_el['vna'] = vna.dump()\n",
    "state_el['temp'] = 8.8\n",
    "\n",
    "savemat(file_name, state_el)"
   ]
  },
  {
   "cell_type": "code",
   "execution_count": null,
   "id": "d9587d08",
   "metadata": {},
   "outputs": [],
   "source": [
    "%matplotlib qt\n",
    "font = {'size'   : 15}\n",
    "matplotlib.rc('font', **font)\n",
    "\n",
    "fig, ax = plt.subplots(3,2,figsize=(20,13), sharex = True)\n",
    "fig.suptitle(\"VNA_power = 0, pump_power = 11, DC = 2\")\n",
    "ax[0,0].set_title('magnitude gain')\n",
    "ax[0,1].set_title('phase')\n",
    "ax[1,0].set_title('magnitude variance')\n",
    "ax[1,1].set_title('phase variance')\n",
    "ax[2,0].set_title('magnitude gradient')\n",
    "ax[1,1].set_title('phase gradient')\n",
    "ax[0,0].grid()\n",
    "ax[0,1].grid()\n",
    "ax[1,0].grid()\n",
    "ax[1,1].grid()\n",
    "ax[2,0].grid()\n",
    "ax[2,1].grid()\n",
    "\n",
    "mag_mean = np.array([])\n",
    "pha_mean = np.array([])\n",
    "mag_var = np.array([])\n",
    "pha_var = np.array([])\n",
    "\n",
    "for i in range(len(VNA_freqs)):\n",
    "    mm = np.reshape(mag[:,:,i], -1)\n",
    "    pp = np.reshape(pha[:,:,i], -1)\n",
    "    \n",
    "    mag_mean = np.append(mag_mean, np.mean(mm)-mag_ref[i])\n",
    "    pha_mean = np.append(pha_mean, np.mean(pp)-pha_ref[i])\n",
    "    mag_var = np.append(mag_var, np.var(mm)/mag_mean[-1])\n",
    "    pha_var = np.append(pha_var, np.var(pp))\n",
    "\n",
    "ax[0,0].plot(VNA_freqs[1:]/1e9, mag_mean[1:])\n",
    "ax[0,1].plot(VNA_freqs[1:]/1e9, pha_mean[1:])\n",
    "\n",
    "ax[1,0].plot(VNA_freqs[1:]/1e9, mag_var[1:])\n",
    "ax[1,1].plot(VNA_freqs[1:]/1e9, pha_var[1:])\n",
    "\n",
    "ax[2,0].plot(VNA_freqs[1:]/1e9, np.abs(np.gradient(mag_mean[1:])))\n",
    "ax[2,1].plot(VNA_freqs[1:]/1e9, np.abs(np.gradient(pha_mean[1:])))\n",
    "\n",
    "\n",
    "\n",
    "# ax[0].errorbar(VNA_freqs, np.mean(mag[i],axis = 0), yerr=np.var(mag[i],axis = 0), fmt=\"r--o\", ecolor = \"black\")\n",
    "# ax[1].errorbar(VNA_freqs, np.mean(pha[i],axis = 0), yerr=np.var(pha[i],axis = 0), fmt=\"r--o\", ecolor = \"black\")\n",
    "\n"
   ]
  },
  {
   "cell_type": "code",
   "execution_count": null,
   "id": "c6eaa549",
   "metadata": {},
   "outputs": [],
   "source": [
    "import os\n",
    "import scipy.io as sio\n",
    "initial_folder_empty_line = r'C:\\Users\\Demag\\PycharmProjects\\ColdMeasurements\\DeMag\\DATA\\TWPA_noise\\Line_calibration'\n",
    "\n",
    "files = os.listdir(initial_folder_empty_line)\n",
    "for i in range(len(files)):\n",
    "    if \".fig\" in files[i]: pass\n",
    "    else: \n",
    "        print(r\"[%d]\" %(i), '----------->', files[i]) "
   ]
  },
  {
   "cell_type": "code",
   "execution_count": null,
   "id": "095275da",
   "metadata": {},
   "outputs": [],
   "source": [
    "file_empty_line = files[0]\n",
    "mat = sio.loadmat(initial_folder_empty_line+\"\\\\\"+file_empty_line)\n",
    "mat.keys()"
   ]
  },
  {
   "cell_type": "code",
   "execution_count": null,
   "id": "f6ea2218",
   "metadata": {},
   "outputs": [],
   "source": [
    "mag_ref_line = mat['mag']\n",
    "pha_ref_line = mat['pha']\n",
    "freq_ref_line = mat['freq'][0]\n",
    "\n",
    "len(mag_ref_line)\n",
    "len(freq_ref_line)"
   ]
  },
  {
   "cell_type": "markdown",
   "id": "4a35eb25",
   "metadata": {},
   "source": [
    "# Plot line and TWPA on the same plot"
   ]
  },
  {
   "cell_type": "code",
   "execution_count": null,
   "id": "9ef09fb0",
   "metadata": {},
   "outputs": [],
   "source": [
    "import os\n",
    "import scipy.io as sio\n",
    "initial_folder_empty_line = r'C:\\Users\\Demag\\PycharmProjects\\ColdMeasurements\\DeMag\\DATA\\TWPA_noise\\Line_calibration'\n",
    "\n",
    "files = os.listdir(initial_folder_empty_line)\n",
    "for i in range(len(files)):\n",
    "    if \".fig\" in files[i]: pass\n",
    "    else: \n",
    "        print(r\"[%d]\" %(i), '----------->', files[i]) "
   ]
  },
  {
   "cell_type": "code",
   "execution_count": null,
   "id": "b3095d0c",
   "metadata": {},
   "outputs": [],
   "source": [
    "file_empty_line = files[5]\n",
    "mat = sio.loadmat(initial_folder_empty_line+\"\\\\\"+file_empty_line)\n",
    "mat.keys()"
   ]
  },
  {
   "cell_type": "code",
   "execution_count": null,
   "id": "e22ff9df",
   "metadata": {},
   "outputs": [],
   "source": [
    "mag_empty_line = mat['mag']\n",
    "pha_empty_line = mat['pha']\n",
    "freq_empty_line = np.linspace(4, 8, 500)"
   ]
  },
  {
   "cell_type": "code",
   "execution_count": null,
   "id": "63d4457f",
   "metadata": {},
   "outputs": [],
   "source": [
    "import os\n",
    "import scipy.io as sio\n",
    "initial_folder_empty_line = r'C:\\Users\\Demag\\PycharmProjects\\ColdMeasurements\\DeMag\\DATA\\TWPA_noise\\Full_BW_noise'\n",
    "\n",
    "files = os.listdir(initial_folder_empty_line)\n",
    "for i in range(len(files)):\n",
    "    if \".fig\" in files[i]: pass\n",
    "    else: \n",
    "        print(r\"[%d]\" %(i), '----------->', files[i]) "
   ]
  },
  {
   "cell_type": "code",
   "execution_count": null,
   "id": "87a58c2e",
   "metadata": {},
   "outputs": [],
   "source": [
    "file_empty_line = files[2]\n",
    "mat = sio.loadmat(initial_folder_empty_line+\"\\\\\"+file_empty_line)\n",
    "mat.keys()"
   ]
  },
  {
   "cell_type": "code",
   "execution_count": null,
   "id": "d872822e",
   "metadata": {},
   "outputs": [],
   "source": [
    "mag_TWPA = mat['mag']\n",
    "pha_TWPA = mat['pha']\n",
    "shape(mag_TWPA)"
   ]
  },
  {
   "cell_type": "code",
   "execution_count": null,
   "id": "d34fa299",
   "metadata": {},
   "outputs": [],
   "source": [
    "%matplotlib qt\n",
    "font = {'size'   : 15}\n",
    "matplotlib.rc('font', **font)\n",
    "\n",
    "fig, ax = plt.subplots(3,2,figsize=(20,13), sharex = True)\n",
    "# fig.suptitle(\"VNA_power = 0, pump_power = 11, DC = 2\")\n",
    "\n",
    "ax[0,0].set_title('magnitude gain')\n",
    "ax[0,1].set_title('phase')\n",
    "ax[1,0].set_title('magnitude variance (normalized by gain)')\n",
    "ax[1,1].set_title('phase variance')\n",
    "ax[2,0].set_title('magnitude gradient')\n",
    "ax[2,1].set_title('phase gradient')\n",
    "ax[0,0].grid()\n",
    "ax[0,1].grid()\n",
    "ax[1,0].grid()\n",
    "ax[1,1].grid()\n",
    "ax[2,0].grid()\n",
    "ax[2,1].grid()\n",
    "\n",
    "mag_mean = np.array([])\n",
    "pha_mean = np.array([])\n",
    "mag_var = np.array([])\n",
    "pha_var = np.array([])\n",
    "\n",
    "for i in range(len(VNA_freqs)):\n",
    "    mm = np.reshape(mag_empty_line[:,:,i], -1)\n",
    "    pp = np.reshape(pha_empty_line[:,:,i], -1)\n",
    "    \n",
    "    mag_mean = np.append(mag_mean, np.mean(mm))\n",
    "    pha_mean = np.append(pha_mean, np.mean(pp))\n",
    "    mag_var = np.append(mag_var, np.var(mm))\n",
    "    pha_var = np.append(pha_var, np.var(pp))\n",
    "\n",
    "ax[0,0].plot(VNA_freqs[1:]/1e9, mag_mean[1:])\n",
    "ax[0,1].plot(VNA_freqs[1:]/1e9, pha_mean[1:])\n",
    "\n",
    "ax[1,0].plot(VNA_freqs[1:]/1e9, mag_var[1:])\n",
    "ax[1,1].plot(VNA_freqs[1:]/1e9, pha_var[1:])\n",
    "\n",
    "ax[2,0].plot(VNA_freqs[1:]/1e9, np.abs(np.gradient(mag_mean[1:])))\n",
    "ax[2,1].plot(VNA_freqs[1:]/1e9, np.abs(np.gradient(pha_mean[1:])))\n",
    "\n",
    "\n",
    "mag_mean = np.array([])\n",
    "pha_mean = np.array([])\n",
    "mag_var = np.array([])\n",
    "pha_var = np.array([])\n",
    "\n",
    "for i in range(len(VNA_freqs)):\n",
    "    mm = np.reshape(mag_TWPA[:,:,i], -1)\n",
    "    pp = np.reshape(pha_TWPA[:,:,i], -1)\n",
    "    \n",
    "    mag_mean = np.append(mag_mean, np.mean(mm)-mag_ref[i])\n",
    "    pha_mean = np.append(pha_mean, np.mean(pp)-pha_ref[i])\n",
    "    mag_var = np.append(mag_var, np.var(mm)/mag_mean[-1])\n",
    "    pha_var = np.append(pha_var, np.var(pp))\n",
    "\n",
    "ax[0,0].plot(VNA_freqs[1:]/1e9, mag_mean[1:])\n",
    "ax[0,1].plot(VNA_freqs[1:]/1e9, pha_mean[1:])\n",
    "\n",
    "ax[1,0].plot(VNA_freqs[1:]/1e9, mag_var[1:])\n",
    "ax[1,1].plot(VNA_freqs[1:]/1e9, pha_var[1:])\n",
    "\n",
    "ax[2,0].plot(VNA_freqs[1:]/1e9, np.abs(np.gradient(mag_mean[1:])))\n",
    "ax[2,1].plot(VNA_freqs[1:]/1e9, np.abs(np.gradient(pha_mean[1:])))\n",
    "\n"
   ]
  },
  {
   "cell_type": "code",
   "execution_count": null,
   "id": "79242e32",
   "metadata": {},
   "outputs": [],
   "source": []
  }
 ],
 "metadata": {
  "kernelspec": {
   "display_name": "Python 3 (ipykernel)",
   "language": "python",
   "name": "python3"
  },
  "language_info": {
   "codemirror_mode": {
    "name": "ipython",
    "version": 3
   },
   "file_extension": ".py",
   "mimetype": "text/x-python",
   "name": "python",
   "nbconvert_exporter": "python",
   "pygments_lexer": "ipython3",
   "version": "3.9.12"
  }
 },
 "nbformat": 4,
 "nbformat_minor": 5
}
