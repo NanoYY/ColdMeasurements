{
 "cells": [
  {
   "cell_type": "code",
   "execution_count": 3,
   "id": "6b120d15",
   "metadata": {},
   "outputs": [],
   "source": [
    "import pyvisa\n",
    "from nanodrivers.visa_drivers.anapico import ANAPICO\n",
    "from nanodrivers.visa_drivers.dc import DC\n",
    "from nanodrivers.visa_drivers.vna import VNA\n",
    "from nanodrivers.visa_drivers.signal_analyser import Anri\n",
    "# from nanodrivers.visa_drivers.signal_analizar import Anri\n",
    "\n",
    "#math\n",
    "import numpy as np\n",
    "from numpy import *\n",
    "from scipy.optimize import curve_fit\n",
    "\n",
    "#plotting\n",
    "import matplotlib.pyplot as plt\n",
    "import matplotlib\n",
    "\n",
    "#matlab import\n",
    "import scipy.io\n",
    "from scipy.io import savemat\n",
    "from scipy.optimize import minimize\n",
    "\n",
    "#file_store\n",
    "import os\n",
    "\n",
    "#time\n",
    "import time\n",
    "from datetime import datetime, timedelta\n",
    "\n",
    "from ctypes import *\n",
    "%matplotlib inline"
   ]
  },
  {
   "cell_type": "code",
   "execution_count": 5,
   "id": "f6355bc7",
   "metadata": {
    "scrolled": true
   },
   "outputs": [
    {
     "name": "stdout",
     "output_type": "stream",
     "text": [
      "Connection exist: Rohde-Schwarz,ZNB20-2Port,1311601062102129,3.45\n",
      "\n"
     ]
    }
   ],
   "source": [
    "vna = VNA()\n",
    "vna.idn()\n",
    "# vna.dump()"
   ]
  },
  {
   "cell_type": "code",
   "execution_count": 6,
   "id": "f5d878f2",
   "metadata": {},
   "outputs": [
    {
     "name": "stdout",
     "output_type": "stream",
     "text": [
      "Connection exist: AnaPico AG,APMS20G,3C6-0B4F40003-0985,0.4.204\n",
      "\n"
     ]
    },
    {
     "data": {
      "text/plain": [
       "array([0., 0., 0., 0.])"
      ]
     },
     "execution_count": 6,
     "metadata": {},
     "output_type": "execute_result"
    }
   ],
   "source": [
    "anapico = ANAPICO()\n",
    "anapico.idn()\n",
    "anapico.dump()['channel_status']"
   ]
  },
  {
   "cell_type": "code",
   "execution_count": 8,
   "id": "56265650",
   "metadata": {
    "scrolled": true
   },
   "outputs": [
    {
     "name": "stdout",
     "output_type": "stream",
     "text": [
      "Connection exist: HEWLETT-PACKARD,33120A,0,7.0-5.0-1.0\n",
      "\n"
     ]
    }
   ],
   "source": [
    "dc = DC()\n",
    "dc.idn()"
   ]
  },
  {
   "cell_type": "markdown",
   "id": "c7e540cf",
   "metadata": {},
   "source": [
    "# 1st tone"
   ]
  },
  {
   "cell_type": "code",
   "execution_count": 9,
   "id": "a50bb82c",
   "metadata": {},
   "outputs": [
    {
     "name": "stdout",
     "output_type": "stream",
     "text": [
      "Folder C:\\Users\\Demag\\PycharmProjects\\ColdMeasurements\\DeMag\\DATA\\TWPA_noise\\2nd_tone created!\n"
     ]
    }
   ],
   "source": [
    "vna.set_lin()\n",
    "\n",
    "folder = r\"C:\\Users\\Demag\\PycharmProjects\\ColdMeasurements\\DeMag\\DATA\\TWPA_noise\"\n",
    "exp_name = '2nd_tone'\n",
    "path = folder+'\\\\'+exp_name\n",
    "if not os.path.exists(path):\n",
    "  os.mkdir(path)\n",
    "  print(\"Folder %s created!\" % path)\n",
    "else:\n",
    "  print(\"Folder %s already exists\" % path)"
   ]
  },
  {
   "cell_type": "code",
   "execution_count": 26,
   "id": "3dac4c09",
   "metadata": {},
   "outputs": [
    {
     "name": "stdout",
     "output_type": "stream",
     "text": [
      "21-31-11 -> new volt: 0.0\n",
      "21-35-16 -> new volt: 0.05063291139240506\n",
      "21-39-21 -> new volt: 0.10126582278481013\n",
      "21-43-27 -> new volt: 0.1518987341772152\n",
      "21-47-32 -> new volt: 0.20253164556962025\n",
      "21-51-37 -> new volt: 0.25316455696202533\n",
      "21-55-43 -> new volt: 0.3037974683544304\n",
      "21-59-48 -> new volt: 0.35443037974683544\n",
      "22-03-55 -> new volt: 0.4050632911392405\n",
      "22-08-00 -> new volt: 0.45569620253164556\n",
      "22-12-06 -> new volt: 0.5063291139240507\n",
      "22-16-11 -> new volt: 0.5569620253164557\n",
      "22-20-16 -> new volt: 0.6075949367088608\n",
      "22-24-21 -> new volt: 0.6582278481012658\n",
      "22-28-26 -> new volt: 0.7088607594936709\n",
      "22-32-32 -> new volt: 0.7594936708860759\n",
      "22-36-37 -> new volt: 0.810126582278481\n",
      "22-40-42 -> new volt: 0.8607594936708861\n",
      "22-44-47 -> new volt: 0.9113924050632911\n",
      "22-48-55 -> new volt: 0.9620253164556962\n",
      "22-53-00 -> new volt: 1.0126582278481013\n",
      "22-57-05 -> new volt: 1.0632911392405062\n",
      "23-01-10 -> new volt: 1.1139240506329113\n",
      "23-05-16 -> new volt: 1.1645569620253164\n",
      "23-09-21 -> new volt: 1.2151898734177216\n",
      "23-13-26 -> new volt: 1.2658227848101267\n",
      "23-17-31 -> new volt: 1.3164556962025316\n",
      "23-21-37 -> new volt: 1.3670886075949367\n",
      "23-25-42 -> new volt: 1.4177215189873418\n",
      "23-29-47 -> new volt: 1.4683544303797469\n",
      "23-33-56 -> new volt: 1.5189873417721518\n",
      "23-38-01 -> new volt: 1.5696202531645569\n",
      "23-42-06 -> new volt: 1.620253164556962\n",
      "23-46-12 -> new volt: 1.6708860759493671\n",
      "23-50-17 -> new volt: 1.7215189873417722\n",
      "23-54-26 -> new volt: 1.7721518987341771\n",
      "23-58-31 -> new volt: 1.8227848101265822\n",
      "00-02-36 -> new volt: 1.8734177215189873\n",
      "00-06-42 -> new volt: 1.9240506329113924\n",
      "00-10-46 -> new volt: 1.9746835443037973\n",
      "00-14-51 -> new volt: 2.0253164556962027\n",
      "00-18-55 -> new volt: 2.0759493670886076\n",
      "00-22-59 -> new volt: 2.1265822784810124\n",
      "00-27-03 -> new volt: 2.1772151898734178\n",
      "00-31-10 -> new volt: 2.2278481012658227\n",
      "00-35-14 -> new volt: 2.278481012658228\n",
      "00-39-19 -> new volt: 2.329113924050633\n",
      "00-43-25 -> new volt: 2.3797468354430378\n",
      "00-47-30 -> new volt: 2.430379746835443\n",
      "00-51-34 -> new volt: 2.481012658227848\n",
      "00-55-40 -> new volt: 2.5316455696202533\n",
      "00-59-45 -> new volt: 2.5822784810126582\n",
      "01-03-49 -> new volt: 2.632911392405063\n",
      "01-07-56 -> new volt: 2.6835443037974684\n",
      "01-12-00 -> new volt: 2.7341772151898733\n",
      "01-16-04 -> new volt: 2.7848101265822782\n",
      "01-20-11 -> new volt: 2.8354430379746836\n",
      "01-24-15 -> new volt: 2.8860759493670884\n",
      "01-28-20 -> new volt: 2.9367088607594938\n",
      "01-32-25 -> new volt: 2.9873417721518987\n",
      "01-36-29 -> new volt: 3.0379746835443036\n",
      "01-40-34 -> new volt: 3.088607594936709\n",
      "01-44-40 -> new volt: 3.1392405063291138\n",
      "01-48-45 -> new volt: 3.189873417721519\n",
      "01-52-49 -> new volt: 3.240506329113924\n",
      "01-56-56 -> new volt: 3.291139240506329\n",
      "02-01-00 -> new volt: 3.3417721518987342\n",
      "02-05-04 -> new volt: 3.392405063291139\n",
      "02-09-11 -> new volt: 3.4430379746835444\n",
      "02-13-15 -> new volt: 3.4936708860759493\n",
      "02-17-20 -> new volt: 3.5443037974683542\n",
      "02-21-25 -> new volt: 3.5949367088607596\n",
      "02-25-29 -> new volt: 3.6455696202531644\n",
      "02-29-34 -> new volt: 3.6962025316455698\n",
      "02-33-40 -> new volt: 3.7468354430379747\n",
      "02-37-45 -> new volt: 3.7974683544303796\n",
      "02-41-49 -> new volt: 3.848101265822785\n",
      "02-45-55 -> new volt: 3.8987341772151898\n",
      "02-50-01 -> new volt: 3.9493670886075947\n",
      "02-54-11 -> new volt: 4.0\n",
      "Duration: 5:27:04.599325\n"
     ]
    }
   ],
   "source": [
    "volts = np.linspace(0, 4, 80)\n",
    "pump_freq = np.linspace(11e9, 12e9, 100)\n",
    "vna.set_band(100)\n",
    "vna.set_nop(200)\n",
    "\n",
    "freqs = vna.set_cw_freq(6e9)\n",
    "\n",
    "state = dict()\n",
    "state['pump_freq'] = pump_freq\n",
    "state['CW_freq'] = vna.get_cent_freq\n",
    "\n",
    "state['volts'] = volts\n",
    "state['vna'] = vna.dump\n",
    "state['DC_dev'] = dc.dump\n",
    "state['anapico'] = anapico.dump()\n",
    "state['temp'] = 8\n",
    "\n",
    "\n",
    "mag_1t = np.empty((len(volts),len(pump_freq)))\n",
    "pha_1t = np.empty((len(volts),len(pump_freq)))\n",
    "\n",
    "state['mag'] = mag_1t\n",
    "state['mag'] = pha_1t\n",
    "\n",
    "start_time = datetime.now()\n",
    "file = r'2nd_tone_no_AC'+ start_time.strftime(r'%Y-%m-%d-%H-%M-%S') + '.mat'\n",
    "file_name = path +'\\\\' + file\n",
    "\n",
    "start_time = datetime.now()  \n",
    "\n",
    "\n",
    "anapico.set_freq(1, pump_freq[0])\n",
    "anapico.set_power(1, +10)\n",
    "anapico.set_on(1)\n",
    "\n",
    "for i in range(len(volts)):\n",
    "    dc.set_volt(volts[i])\n",
    "    curr_time = datetime.now()\n",
    "    print('{} -> new volt: {}'.format(curr_time.strftime(r'%H-%M-%S'),  volts[i]))\n",
    "    time.sleep(10)\n",
    "    for j in range(len(pump_freq)):\n",
    "        \n",
    "        anapico.set_freq(1, pump_freq[j])\n",
    "        mag, pha = vna.get_data()\n",
    "        mag_1t[i, j], pha_1t[i, j] = np.mean(mag), np.mean(pha)\n",
    "\n",
    "        state['mag'] = mag_1t\n",
    "        state['mag'] = pha_1t\n",
    "\n",
    "        savemat(file_name, state)\n",
    "    \n",
    "    \n",
    "dc.set_volt(0)   \n",
    "end_time = datetime.now()\n",
    "print('Duration: {}'.format(end_time - start_time))"
   ]
  },
  {
   "cell_type": "code",
   "execution_count": 29,
   "id": "794d7c0c",
   "metadata": {},
   "outputs": [
    {
     "data": {
      "text/plain": [
       "Text(0.5, 1.0, '$\\\\angle S_{21}|$')"
      ]
     },
     "execution_count": 29,
     "metadata": {},
     "output_type": "execute_result"
    }
   ],
   "source": [
    "%matplotlib qt\n",
    "font = {'size'   : 15}\n",
    "matplotlib.rc('font', **font)\n",
    "fig, ax = plt.subplots(1, 2, figsize=(25,13))\n",
    "c = ax[0].pcolor(pump_freq/1e9, volts,   mag_1t, cmap='viridis')\n",
    "ax[0].set_ylabel(r'DC, V')\n",
    "ax[0].set_xlabel(r'Signal frequency, GHz')\n",
    "\n",
    "c1 = ax[1].pcolor(pump_freq/1e9, volts,   pha_1t, cmap='viridis')\n",
    "ax[1].set_ylabel(r'DC, V')\n",
    "ax[1].set_xlabel(r'Signal frequency, GHz')\n",
    "\n",
    "fig.colorbar(c, ax=ax[0])\n",
    "fig.colorbar(c1, ax=ax[1])\n",
    "\n",
    "ax[0].set_title(r'$|S_{21}|$')\n",
    "ax[1].set_title(r'$\\angle S_{21}|$')"
   ]
  },
  {
   "cell_type": "code",
   "execution_count": 18,
   "id": "b884a885",
   "metadata": {},
   "outputs": [],
   "source": [
    "vna.set_lin()"
   ]
  },
  {
   "cell_type": "code",
   "execution_count": 24,
   "id": "b058ba66",
   "metadata": {},
   "outputs": [],
   "source": [
    "vna.set_stop_freq(5e9)\n",
    "vna.set_band(10)\n",
    "vna.set_nop(2000)\n",
    "mag, pha = vna.get_data()\n",
    "fre = vna.get_freq()"
   ]
  },
  {
   "cell_type": "code",
   "execution_count": 25,
   "id": "5fab0128",
   "metadata": {},
   "outputs": [
    {
     "data": {
      "text/plain": [
       "[<matplotlib.lines.Line2D at 0x247541d3cd0>]"
      ]
     },
     "execution_count": 25,
     "metadata": {},
     "output_type": "execute_result"
    }
   ],
   "source": [
    "plt.plot(fre, mag)"
   ]
  },
  {
   "cell_type": "code",
   "execution_count": null,
   "id": "fa1e4106",
   "metadata": {},
   "outputs": [],
   "source": []
  }
 ],
 "metadata": {
  "kernelspec": {
   "display_name": "Python 3 (ipykernel)",
   "language": "python",
   "name": "python3"
  },
  "language_info": {
   "codemirror_mode": {
    "name": "ipython",
    "version": 3
   },
   "file_extension": ".py",
   "mimetype": "text/x-python",
   "name": "python",
   "nbconvert_exporter": "python",
   "pygments_lexer": "ipython3",
   "version": "3.9.12"
  }
 },
 "nbformat": 4,
 "nbformat_minor": 5
}
