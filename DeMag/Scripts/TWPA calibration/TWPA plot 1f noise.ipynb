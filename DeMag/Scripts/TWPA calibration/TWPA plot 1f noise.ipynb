{
 "cells": [
  {
   "cell_type": "code",
   "execution_count": 1,
   "id": "d65a5e5c",
   "metadata": {},
   "outputs": [
    {
     "name": "stderr",
     "output_type": "stream",
     "text": [
      "C:\\Users\\Demag\\anaconda3\\lib\\site-packages\\scipy\\__init__.py:146: UserWarning: A NumPy version >=1.16.5 and <1.23.0 is required for this version of SciPy (detected version 1.26.1\n",
      "  warnings.warn(f\"A NumPy version >={np_minversion} and <{np_maxversion}\"\n"
     ]
    }
   ],
   "source": [
    "import matplotlib.pyplot as plt\n",
    "import matplotlib\n",
    "# %matplotlib qt\n",
    "\n",
    "import numpy as np\n",
    "from numpy import *\n",
    "from scipy.fft import fft, ifft, fftshift, ifftshift\n",
    "from scipy.optimize import curve_fit\n",
    "\n",
    "import os\n",
    "import scipy.io as sio\n",
    "\n",
    "def fft_A(A):\n",
    "    fft_A = abs(fftshift(fft(A))**2)\n",
    "    return fft_A\n",
    "\n",
    "def fft_f(bandwidth=vna_bandwidth, nop=number_of_points):\n",
    "    f = np.linspace(-bandwidth/2, bandwidth/2, nop)\n",
    "    return f"
   ]
  },
  {
   "cell_type": "code",
   "execution_count": 4,
   "id": "0a477f09",
   "metadata": {},
   "outputs": [
    {
     "name": "stdout",
     "output_type": "stream",
     "text": [
      "[0] -----------> 10_m5_flux_15_att_35.png\n",
      "[1] -----------> 10_m5_flux_30_att_35.png\n",
      "[2] -----------> 10_m5_flux_6_att_35.png\n",
      "[3] -----------> 1f_noise_SWS att_0 flux_power -15__20-15-54.mat\n",
      "[4] -----------> 1f_noise_SWS att_0 flux_power -30__20-15-54.mat\n",
      "[5] -----------> 1f_noise_SWS att_0 flux_power -6__20-15-54.mat\n",
      "[6] -----------> 1f_noise_SWS att_15 flux_power -15__12-40-33.mat\n",
      "[7] -----------> 1f_noise_SWS att_15 flux_power -30__12-40-33.mat\n",
      "[8] -----------> 1f_noise_SWS att_15 flux_power -6__12-40-33.mat\n",
      "[9] -----------> 1f_noise_SWS att_35 flux_power -15__12-40-33.mat\n",
      "[10] -----------> 1f_noise_SWS att_35 flux_power -30__12-40-33.mat\n",
      "[11] -----------> 1f_noise_SWS att_35 flux_power -6__12-40-33.mat\n",
      "[12] -----------> 25-15_flux_15_att_0.png\n",
      "[13] -----------> 25-15_flux_30_att_0.png\n",
      "[14] -----------> 25-15_flux_6_att_0.png\n",
      "[15] -----------> m15_m5_flux_m15_att_15.png\n",
      "[16] -----------> m15_m5_flux_m30_att_15.png\n",
      "[17] -----------> m15_m5_flux_m6_att_15.png\n"
     ]
    }
   ],
   "source": [
    "initial_folder = r'C:\\Users\\Demag\\PycharmProjects\\ColdMeasurements\\DeMag\\DATA\\TWPA_noise\\1f noise\\in_SWS_VNA'\n",
    "\n",
    "folders = os.listdir(initial_folder)\n",
    "for i in range(len(folders)):\n",
    "    if \".fig\" in folders[i]: pass\n",
    "    else: \n",
    "        print(r\"[%d]\" %(i), '----------->', folders[i]) "
   ]
  },
  {
   "cell_type": "code",
   "execution_count": 74,
   "id": "2e9f98ee",
   "metadata": {},
   "outputs": [
    {
     "data": {
      "text/plain": [
       "dict_keys(['__header__', '__version__', '__globals__', 'flux_power', 'flux_freq', 'vna_freq', 'vna_bandwidth', 'number_of_points', 'vna_powers', 'avg_total', 'data'])"
      ]
     },
     "execution_count": 74,
     "metadata": {},
     "output_type": "execute_result"
    }
   ],
   "source": [
    "file = folders[4]\n",
    "mat = sio.loadmat(initial_folder+\"\\\\\"+file)\n",
    "\n",
    "# flux_power = mat['flux_power'][0,0]\n",
    "# flux_freq = mat['flux_freq'][0,0]\n",
    "# vna_freq = mat['vna_freq'][0,0]\n",
    "vna_bandwidth = mat['vna_bandwidth'][0,0]\n",
    "vna_powers = mat['vna_powers'][0]\n",
    "avg_total = mat['avg_total'][0,0]\n",
    "number_of_points = mat['number_of_points'][0,0]\n",
    "\n",
    "data = mat['data']\n",
    "\n",
    "mat.keys()"
   ]
  },
  {
   "cell_type": "code",
   "execution_count": 75,
   "id": "51ddd79b",
   "metadata": {},
   "outputs": [
    {
     "name": "stdout",
     "output_type": "stream",
     "text": [
      "(6, 30, 2, 201)\n",
      "(6,)\n",
      "30\n"
     ]
    }
   ],
   "source": [
    "print(data.shape)\n",
    "print(vna_powers.shape)\n",
    "print(avg_total)\n"
   ]
  },
  {
   "cell_type": "code",
   "execution_count": 84,
   "id": "b58e42b8",
   "metadata": {},
   "outputs": [
    {
     "data": {
      "text/plain": [
       "201"
      ]
     },
     "execution_count": 84,
     "metadata": {},
     "output_type": "execute_result"
    }
   ],
   "source": [
    "number_of_points"
   ]
  },
  {
   "cell_type": "code",
   "execution_count": 82,
   "id": "b8a6a966",
   "metadata": {},
   "outputs": [],
   "source": [
    "plt.rcParams.update({'font.size': 16})\n",
    "# vna_powers, avg, mag/pha\n",
    "freq = fft_f(bandwidth=vna_bandwidth, nop=number_of_points)\n",
    "\n",
    "fig, ax = plt.subplots(1,2,figsize=(15,7), sharex=True)\n",
    "ax[0].set_title('Magnitude noise')\n",
    "ax[1].set_title('Phase noise')\n",
    "\n",
    "data_vp_mag_fft = np.empty((avg_total, number_of_points))\n",
    "data_vp_pha_fft = np.empty((avg_total, number_of_points))\n",
    "\n",
    "for i in range(len(data)-4):\n",
    "    p = vna_powers[i]\n",
    "    data_i = data[i]\n",
    "    for k in range(avg_total): \n",
    "        data_vp_mag_fft[k,:] = fft_A(data_i[k, 0,:])\n",
    "        data_vp_pha_fft[k,:] = fft_A(data_i[k, 1,:])\n",
    "\n",
    "    data_vp_mag_fft_mean = np.mean(data_vp_mag_fft, axis = 0) \n",
    "    data_vp_pha_fft_mean = np.mean(data_vp_pha_fft, axis = 0) \n",
    "\n",
    "    ax[0].loglog(freq, data_vp_mag_fft_mean, label = 'VNA_pow: {}'.format(p))\n",
    "    ax[1].loglog(freq, data_vp_pha_fft_mean, label = 'VNA_pow: {}'.format(p))\n",
    "\n",
    "ax[0].legend()\n",
    "ax[1].legend()\n",
    "ax[0].set_xlabel('Freq, Hz')\n",
    "ax[1].set_xlabel('Freq, Hz')\n",
    "ax[0].set_ylim(1e-7, 1e-2)\n",
    "ax[1].set_ylim(1e-6, 1e-2)\n",
    "\n",
    "\n",
    "from matplotlib.ticker import LogLocator, LogFormatter\n",
    "# Set major and minor ticks for both axes\n",
    "plt.gca().xaxis.set_major_locator(LogLocator(base=10.0, subs=np.arange(2, 10)*0.1, numticks=10))\n",
    "plt.gca().yaxis.set_major_locator(LogLocator(base=10.0, subs=np.arange(2, 10)*0.1, numticks=10))\n",
    "\n",
    "plt.gca().xaxis.set_minor_locator(LogLocator(base=10.0, subs=np.arange(1, 10)*0.1, numticks=100))\n",
    "plt.gca().yaxis.set_minor_locator(LogLocator(base=10.0, subs=np.arange(1, 10)*0.1, numticks=100))\n",
    "\n",
    "# Enable grid for both major and minor ticks\n",
    "\n",
    "\n",
    "ax[1].grid()\n",
    "ax[0].grid()"
   ]
  },
  {
   "cell_type": "code",
   "execution_count": 80,
   "id": "343f5213",
   "metadata": {},
   "outputs": [],
   "source": [
    "%matplotlib qt"
   ]
  },
  {
   "cell_type": "code",
   "execution_count": null,
   "id": "aa1d67a7",
   "metadata": {},
   "outputs": [],
   "source": []
  }
 ],
 "metadata": {
  "kernelspec": {
   "display_name": "Python 3 (ipykernel)",
   "language": "python",
   "name": "python3"
  },
  "language_info": {
   "codemirror_mode": {
    "name": "ipython",
    "version": 3
   },
   "file_extension": ".py",
   "mimetype": "text/x-python",
   "name": "python",
   "nbconvert_exporter": "python",
   "pygments_lexer": "ipython3",
   "version": "3.9.12"
  }
 },
 "nbformat": 4,
 "nbformat_minor": 5
}
