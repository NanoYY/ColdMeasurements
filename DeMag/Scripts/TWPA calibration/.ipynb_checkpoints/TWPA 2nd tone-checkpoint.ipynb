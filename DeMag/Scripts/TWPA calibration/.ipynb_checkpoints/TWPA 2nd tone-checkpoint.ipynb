{
 "cells": [
  {
   "cell_type": "code",
   "execution_count": 1,
   "id": "6b120d15",
   "metadata": {},
   "outputs": [
    {
     "name": "stderr",
     "output_type": "stream",
     "text": [
      "C:\\Users\\Demag\\anaconda3\\lib\\site-packages\\scipy\\__init__.py:146: UserWarning: A NumPy version >=1.16.5 and <1.23.0 is required for this version of SciPy (detected version 1.26.1\n",
      "  warnings.warn(f\"A NumPy version >={np_minversion} and <{np_maxversion}\"\n"
     ]
    }
   ],
   "source": [
    "import pyvisa\n",
    "from nanodrivers.visa_drivers.anapico import ANAPICO\n",
    "from nanodrivers.visa_drivers.dc import DC\n",
    "from nanodrivers.visa_drivers.vna import VNA\n",
    "from nanodrivers.visa_drivers.signal_analyser import Anri\n",
    "# from nanodrivers.visa_drivers.signal_analizar import Anri\n",
    "\n",
    "#math\n",
    "import numpy as np\n",
    "from numpy import *\n",
    "from scipy.optimize import curve_fit\n",
    "\n",
    "#plotting\n",
    "import matplotlib.pyplot as plt\n",
    "import matplotlib\n",
    "\n",
    "#matlab import\n",
    "import scipy.io\n",
    "from scipy.io import savemat\n",
    "from scipy.optimize import minimize\n",
    "\n",
    "#file_store\n",
    "import os\n",
    "\n",
    "#time\n",
    "import time\n",
    "from datetime import datetime, timedelta\n",
    "\n",
    "from ctypes import *\n",
    "%matplotlib inline"
   ]
  },
  {
   "cell_type": "code",
   "execution_count": 2,
   "id": "f5d878f2",
   "metadata": {},
   "outputs": [
    {
     "name": "stdout",
     "output_type": "stream",
     "text": [
      "Connection exist: AnaPico AG,APMS20G,3C6-0B4F40003-0985,0.4.204\n",
      "\n"
     ]
    },
    {
     "data": {
      "text/plain": [
       "array([0., 0., 0., 0.])"
      ]
     },
     "execution_count": 2,
     "metadata": {},
     "output_type": "execute_result"
    }
   ],
   "source": [
    "anapico = ANAPICO()\n",
    "anapico.idn()\n",
    "anapico.dump()['channel_status']"
   ]
  },
  {
   "cell_type": "code",
   "execution_count": 16,
   "id": "56265650",
   "metadata": {
    "scrolled": true
   },
   "outputs": [
    {
     "name": "stdout",
     "output_type": "stream",
     "text": [
      "Connection exist: HEWLETT-PACKARD,33120A,0,7.0-5.0-1.0\n",
      "\n"
     ]
    },
    {
     "data": {
      "text/plain": [
       "{'device': 'GPIBInstrument at GPIB0::26::INSTR',\n",
       " 'volt': 0,\n",
       " 'impedance': '+9.90000E+37\\n',\n",
       " 'shape': 'DC'}"
      ]
     },
     "execution_count": 16,
     "metadata": {},
     "output_type": "execute_result"
    }
   ],
   "source": [
    "dc = DC()\n",
    "dc.idn()\n",
    "dc.dump()"
   ]
  },
  {
   "cell_type": "code",
   "execution_count": 5,
   "id": "f6355bc7",
   "metadata": {
    "scrolled": true
   },
   "outputs": [
    {
     "name": "stdout",
     "output_type": "stream",
     "text": [
      "Connection exist: Rohde-Schwarz,ZNB20-2Port,1311601062102129,3.45\n",
      "\n"
     ]
    }
   ],
   "source": [
    "vna = VNA()\n",
    "vna.idn()\n",
    "# vna.dump()"
   ]
  },
  {
   "cell_type": "code",
   "execution_count": 6,
   "id": "b4ddc427",
   "metadata": {},
   "outputs": [
    {
     "name": "stdout",
     "output_type": "stream",
     "text": [
      "Connection exist: ANRITSU,MS2830A,6200847105,4.09.01\r\n",
      "\n"
     ]
    }
   ],
   "source": [
    "sa = Anri()\n",
    "sa.idn()"
   ]
  },
  {
   "cell_type": "code",
   "execution_count": 41,
   "id": "1806fb56",
   "metadata": {},
   "outputs": [],
   "source": [
    "def get_mag_with_var():\n",
    "    mag, pha = vna.get_data() \n",
    "    m_mag = np.mean(mag)\n",
    "    v_mag = np.std(mag)\n",
    "    return m_mag, v_mag"
   ]
  },
  {
   "cell_type": "code",
   "execution_count": 58,
   "id": "fb0d3c5f",
   "metadata": {},
   "outputs": [
    {
     "name": "stdout",
     "output_type": "stream",
     "text": [
      "2024-02-19 14:25:34.766084 -> new volt: 1.4\n",
      "2024-02-19 14:26:36.144079 -> new volt: 1.4551724137931035\n",
      "2024-02-19 14:27:41.069159 -> new volt: 1.5103448275862068\n",
      "2024-02-19 14:28:42.458553 -> new volt: 1.5655172413793104\n",
      "2024-02-19 14:29:43.838944 -> new volt: 1.6206896551724137\n",
      "2024-02-19 14:30:45.229782 -> new volt: 1.6758620689655173\n",
      "2024-02-19 14:31:46.611815 -> new volt: 1.7310344827586206\n",
      "2024-02-19 14:32:47.996868 -> new volt: 1.7862068965517242\n",
      "2024-02-19 14:33:49.375745 -> new volt: 1.8413793103448275\n",
      "2024-02-19 14:34:50.757017 -> new volt: 1.896551724137931\n",
      "2024-02-19 14:35:52.141273 -> new volt: 1.9517241379310346\n",
      "2024-02-19 14:36:55.851482 -> new volt: 2.0068965517241377\n",
      "2024-02-19 14:37:57.224297 -> new volt: 2.0620689655172413\n",
      "2024-02-19 14:38:58.607514 -> new volt: 2.117241379310345\n",
      "2024-02-19 14:39:59.995523 -> new volt: 2.1724137931034484\n",
      "2024-02-19 14:41:01.385627 -> new volt: 2.227586206896552\n",
      "2024-02-19 14:42:02.768950 -> new volt: 2.282758620689655\n",
      "2024-02-19 14:43:04.164735 -> new volt: 2.3379310344827586\n",
      "2024-02-19 14:44:05.547642 -> new volt: 2.393103448275862\n",
      "2024-02-19 14:45:06.925672 -> new volt: 2.4482758620689653\n",
      "2024-02-19 14:46:10.651133 -> new volt: 2.503448275862069\n",
      "2024-02-19 14:47:12.028127 -> new volt: 2.5586206896551724\n",
      "2024-02-19 14:48:13.411655 -> new volt: 2.613793103448276\n",
      "2024-02-19 14:49:14.801497 -> new volt: 2.6689655172413795\n",
      "2024-02-19 14:50:16.174645 -> new volt: 2.724137931034483\n",
      "2024-02-19 14:51:17.556054 -> new volt: 2.779310344827586\n",
      "2024-02-19 14:52:18.941226 -> new volt: 2.8344827586206898\n",
      "2024-02-19 14:53:20.331649 -> new volt: 2.889655172413793\n",
      "2024-02-19 14:54:21.711639 -> new volt: 2.9448275862068964\n",
      "2024-02-19 14:55:25.442511 -> new volt: 3.0\n",
      "Duration: 0:30:52.056631\n"
     ]
    }
   ],
   "source": [
    "volts = np.linspace(1.4, 3, 30)\n",
    "vna.set_cw_freq(6e9)\n",
    "vna.set_band(10)\n",
    "vna.set_nop(500)\n",
    "\n",
    "m_mag = np.array([])\n",
    "v_mag = np.array([])\n",
    "\n",
    "start_time = datetime.now()\n",
    "\n",
    "for i in range(len(volts)):\n",
    "    dc.set_volt(volts[i])\n",
    "    curr_time = datetime.now()\n",
    "    print('{} -> new volt: {}'.format(curr_time,  volts[i]))\n",
    "    time.sleep(10)\n",
    "    mag, var = get_mag_with_var()\n",
    "    m_mag = np.append(m_mag, mag)\n",
    "    v_mag = np.append(v_mag, var)\n",
    "    \n",
    "end_time = datetime.now()\n",
    "print('Duration: {}'.format(end_time - start_time))"
   ]
  },
  {
   "cell_type": "code",
   "execution_count": 60,
   "id": "f2c74dcb",
   "metadata": {},
   "outputs": [
    {
     "data": {
      "text/plain": [
       "<ErrorbarContainer object of 3 artists>"
      ]
     },
     "execution_count": 60,
     "metadata": {},
     "output_type": "execute_result"
    },
    {
     "data": {
      "image/png": "[encoded data removed]",
      "text/plain": [
       "<Figure size 1080x504 with 1 Axes>"
      ]
     },
     "metadata": {
      "needs_background": "light"
     },
     "output_type": "display_data"
    }
   ],
   "source": [
    "fig, ax = plt.subplots(figsize = (15, 7))\n",
    "  \n",
    "ax.errorbar(volts, m_mag, v_mag, marker='^')"
   ]
  },
  {
   "cell_type": "code",
   "execution_count": 59,
   "id": "77d43400",
   "metadata": {},
   "outputs": [
    {
     "data": {
      "text/plain": [
       "[<matplotlib.lines.Line2D at 0x2a8d961b6d0>]"
      ]
     },
     "execution_count": 59,
     "metadata": {},
     "output_type": "execute_result"
    },
    {
     "data": {
      "image/png": "[encoded data removed]",
      "text/plain": [
       "<Figure size 1080x504 with 1 Axes>"
      ]
     },
     "metadata": {
      "needs_background": "light"
     },
     "output_type": "display_data"
    }
   ],
   "source": [
    "fig, ax = plt.subplots(figsize = (15, 7))\n",
    "  \n",
    "ax.plot(volts, v_mag, marker='^')"
   ]
  },
  {
   "cell_type": "markdown",
   "id": "c7e540cf",
   "metadata": {},
   "source": [
    "# 1st tone"
   ]
  },
  {
   "cell_type": "code",
   "execution_count": 81,
   "id": "a50bb82c",
   "metadata": {},
   "outputs": [
    {
     "name": "stdout",
     "output_type": "stream",
     "text": [
      "Folder C:\\Users\\Demag\\PycharmProjects\\ColdMeasurements\\DeMag\\DATA\\TWPA_noise\\1st_tone created!\n"
     ]
    }
   ],
   "source": [
    "vna.set_lin()\n",
    "\n",
    "folder = r\"C:\\Users\\Demag\\PycharmProjects\\ColdMeasurements\\DeMag\\DATA\\TWPA_noise\"\n",
    "exp_name = '1st_tone'\n",
    "path = folder+'\\\\'+exp_name\n",
    "if not os.path.exists(path):\n",
    "  os.mkdir(path)\n",
    "  print(\"Folder %s created!\" % path)\n",
    "else:\n",
    "  print(\"Folder %s already exists\" % path)"
   ]
  },
  {
   "cell_type": "code",
   "execution_count": 84,
   "id": "3dac4c09",
   "metadata": {},
   "outputs": [
    {
     "name": "stdout",
     "output_type": "stream",
     "text": [
      "2024-02-19 18:53:55.531979 -> new volt: 0.0\n",
      "2024-02-19 18:57:30.435355 -> new volt: 0.05063291139240506\n",
      "2024-02-19 19:01:05.338676 -> new volt: 0.10126582278481013\n",
      "2024-02-19 19:04:40.232450 -> new volt: 0.1518987341772152\n",
      "2024-02-19 19:08:15.146959 -> new volt: 0.20253164556962025\n",
      "2024-02-19 19:11:50.034131 -> new volt: 0.25316455696202533\n",
      "2024-02-19 19:15:25.443850 -> new volt: 0.3037974683544304\n",
      "2024-02-19 19:19:00.329933 -> new volt: 0.35443037974683544\n",
      "2024-02-19 19:22:35.249687 -> new volt: 0.4050632911392405\n",
      "2024-02-19 19:26:10.666180 -> new volt: 0.45569620253164556\n",
      "2024-02-19 19:29:45.564288 -> new volt: 0.5063291139240507\n",
      "2024-02-19 19:33:20.477089 -> new volt: 0.5569620253164557\n",
      "2024-02-19 19:36:55.371969 -> new volt: 0.6075949367088608\n",
      "2024-02-19 19:40:30.270156 -> new volt: 0.6582278481012658\n",
      "2024-02-19 19:44:05.171618 -> new volt: 0.7088607594936709\n",
      "2024-02-19 19:47:40.586626 -> new volt: 0.7594936708860759\n",
      "2024-02-19 19:51:15.493825 -> new volt: 0.810126582278481\n",
      "2024-02-19 19:54:50.396296 -> new volt: 0.8607594936708861\n",
      "2024-02-19 19:58:25.282439 -> new volt: 0.9113924050632911\n",
      "2024-02-19 20:02:00.179385 -> new volt: 0.9620253164556962\n",
      "2024-02-19 20:05:35.078887 -> new volt: 1.0126582278481013\n",
      "2024-02-19 20:09:10.504853 -> new volt: 1.0632911392405062\n",
      "2024-02-19 20:12:45.385876 -> new volt: 1.1139240506329113\n",
      "2024-02-19 20:16:20.284509 -> new volt: 1.1645569620253164\n",
      "2024-02-19 20:19:55.201488 -> new volt: 1.2151898734177216\n",
      "2024-02-19 20:23:30.102795 -> new volt: 1.2658227848101267\n",
      "2024-02-19 20:27:05.000145 -> new volt: 1.3164556962025316\n",
      "2024-02-19 20:30:40.429274 -> new volt: 1.3670886075949367\n",
      "2024-02-19 20:34:15.321919 -> new volt: 1.4177215189873418\n",
      "2024-02-19 20:37:50.227107 -> new volt: 1.4683544303797469\n",
      "2024-02-19 20:41:25.650824 -> new volt: 1.5189873417721518\n",
      "2024-02-19 20:45:00.536840 -> new volt: 1.5696202531645569\n",
      "2024-02-19 20:48:35.440103 -> new volt: 1.620253164556962\n",
      "2024-02-19 20:52:10.351119 -> new volt: 1.6708860759493671\n",
      "2024-02-19 20:55:45.259803 -> new volt: 1.7215189873417722\n",
      "2024-02-19 20:59:20.164503 -> new volt: 1.7721518987341771\n",
      "2024-02-19 21:02:55.584858 -> new volt: 1.8227848101265822\n",
      "2024-02-19 21:06:30.476194 -> new volt: 1.8734177215189873\n",
      "2024-02-19 21:10:05.371407 -> new volt: 1.9240506329113924\n",
      "2024-02-19 21:13:40.262281 -> new volt: 1.9746835443037973\n",
      "2024-02-19 21:17:15.167591 -> new volt: 2.0253164556962027\n",
      "2024-02-19 21:20:50.078990 -> new volt: 2.0759493670886076\n",
      "2024-02-19 21:24:25.489089 -> new volt: 2.1265822784810124\n",
      "2024-02-19 21:28:00.390526 -> new volt: 2.1772151898734178\n",
      "2024-02-19 21:31:35.274790 -> new volt: 2.2278481012658227\n",
      "2024-02-19 21:35:10.691072 -> new volt: 2.278481012658228\n",
      "2024-02-19 21:38:45.581900 -> new volt: 2.329113924050633\n",
      "2024-02-19 21:42:20.464089 -> new volt: 2.3797468354430378\n",
      "2024-02-19 21:45:55.351800 -> new volt: 2.430379746835443\n",
      "2024-02-19 21:49:30.246244 -> new volt: 2.481012658227848\n",
      "2024-02-19 21:53:05.136776 -> new volt: 2.5316455696202533\n",
      "2024-02-19 21:56:40.548958 -> new volt: 2.5822784810126582\n",
      "2024-02-19 22:00:15.444352 -> new volt: 2.632911392405063\n",
      "2024-02-19 22:03:50.363218 -> new volt: 2.6835443037974684\n",
      "2024-02-19 22:07:25.241464 -> new volt: 2.7341772151898733\n",
      "2024-02-19 22:11:00.136877 -> new volt: 2.7848101265822782\n",
      "2024-02-19 22:14:35.039047 -> new volt: 2.8354430379746836\n",
      "2024-02-19 22:18:10.468926 -> new volt: 2.8860759493670884\n",
      "2024-02-19 22:21:45.369323 -> new volt: 2.9367088607594938\n",
      "2024-02-19 22:25:20.260520 -> new volt: 2.9873417721518987\n",
      "2024-02-19 22:28:55.670322 -> new volt: 3.0379746835443036\n",
      "2024-02-19 22:32:30.563649 -> new volt: 3.088607594936709\n",
      "2024-02-19 22:36:05.449355 -> new volt: 3.1392405063291138\n",
      "2024-02-19 22:39:40.363027 -> new volt: 3.189873417721519\n",
      "2024-02-19 22:43:15.246844 -> new volt: 3.240506329113924\n",
      "2024-02-19 22:46:50.137388 -> new volt: 3.291139240506329\n",
      "2024-02-19 22:50:25.559625 -> new volt: 3.3417721518987342\n",
      "2024-02-19 22:54:00.448124 -> new volt: 3.392405063291139\n",
      "2024-02-19 22:57:35.347866 -> new volt: 3.4430379746835444\n",
      "2024-02-19 23:01:10.250207 -> new volt: 3.4936708860759493\n",
      "2024-02-19 23:04:45.134835 -> new volt: 3.5443037974683542\n",
      "2024-02-19 23:08:20.029073 -> new volt: 3.5949367088607596\n",
      "2024-02-19 23:11:55.432420 -> new volt: 3.6455696202531644\n",
      "2024-02-19 23:15:30.341699 -> new volt: 3.6962025316455698\n",
      "2024-02-19 23:19:05.240383 -> new volt: 3.7468354430379747\n",
      "2024-02-19 23:22:40.679069 -> new volt: 3.7974683544303796\n",
      "2024-02-19 23:26:15.584489 -> new volt: 3.848101265822785\n",
      "2024-02-19 23:29:50.473189 -> new volt: 3.8987341772151898\n",
      "2024-02-19 23:33:25.372024 -> new volt: 3.9493670886075947\n",
      "2024-02-19 23:37:00.265333 -> new volt: 4.0\n",
      "Duration: 4:46:40.789714\n"
     ]
    }
   ],
   "source": [
    "volts = np.linspace(0, 4, 80)\n",
    "vna.set_band(10)\n",
    "vna.set_nop(2000)\n",
    "\n",
    "freqs = vna.get_freq()\n",
    "\n",
    "state = dict()\n",
    "state['freqs'] = freqs\n",
    "state['volts'] = volts\n",
    "state['vna'] = vna.dump\n",
    "state['DC_dev'] = dc.dump\n",
    "state['anapico'] = anapico.dump()\n",
    "state['temp'] = 8\n",
    "\n",
    "\n",
    "mag_1t = np.empty((len(volts),len(freqs)))\n",
    "pha_1t = np.empty((len(volts),len(freqs)))\n",
    "\n",
    "state['mag'] = mag_1t\n",
    "state['mag'] = pha_1t\n",
    "\n",
    "start_time = datetime.now()\n",
    "file = r'1st_tone_no_AC_'+ start_time.strftime(r'%Y-%m-%d-%H-%M-%S') + '.mat'\n",
    "file_name = path +'\\\\' + file\n",
    "\n",
    "start_time = datetime.now()                  \n",
    "for i in range(len(volts)):\n",
    "    dc.set_volt(volts[i])\n",
    "    curr_time = datetime.now()\n",
    "    print('{} -> new volt: {}'.format(curr_time,  volts[i]))\n",
    "    time.sleep(10)\n",
    "                  \n",
    "    mag_1t[i], pha_1t[i] = vna.get_data()\n",
    "    \n",
    "    state['mag'] = mag_1t\n",
    "    state['mag'] = pha_1t\n",
    "    \n",
    "    savemat(file_name, state)\n",
    "    \n",
    "    \n",
    "dc.set_volt(0)   \n",
    "end_time = datetime.now()\n",
    "print('Duration: {}'.format(end_time - start_time))"
   ]
  },
  {
   "cell_type": "code",
   "execution_count": 95,
   "id": "794d7c0c",
   "metadata": {},
   "outputs": [
    {
     "data": {
      "text/plain": [
       "<matplotlib.colorbar.Colorbar at 0x2a8fe2ed790>"
      ]
     },
     "execution_count": 95,
     "metadata": {},
     "output_type": "execute_result"
    }
   ],
   "source": [
    "%matplotlib qt\n",
    "font = {'size'   : 15}\n",
    "matplotlib.rc('font', **font)\n",
    "fig, ax = plt.subplots(1, 2, figsize=(25,13))\n",
    "c = ax[0].pcolor(volts, freqs/1e9,  np.transpose(mag_1t), cmap='viridis')\n",
    "ax[0].set_xlabel(r'DC, V')\n",
    "ax[0].set_ylabel(r'Signal frequency, GHz')\n",
    "\n",
    "c1 = ax[1].pcolor(volts, freqs/1e9,  np.transpose(pha_1t), cmap='viridis')\n",
    "ax[1].set_xlabel(r'DC, V')\n",
    "ax[1].set_ylabel(r'Signal frequency, GHz')\n",
    "\n",
    "fig.colorbar(c, ax=ax[0])\n",
    "fig.colorbar(c1, ax=ax[1])\n",
    "\n",
    "axs[0].set_title(r'$|S_{21}|$')\n",
    "axs[1].set_title(r'$\\angleS_{21}|$')"
   ]
  },
  {
   "cell_type": "code",
   "execution_count": null,
   "id": "b884a885",
   "metadata": {},
   "outputs": [],
   "source": []
  }
 ],
 "metadata": {
  "kernelspec": {
   "display_name": "Python 3 (ipykernel)",
   "language": "python",
   "name": "python3"
  },
  "language_info": {
   "codemirror_mode": {
    "name": "ipython",
    "version": 3
   },
   "file_extension": ".py",
   "mimetype": "text/x-python",
   "name": "python",
   "nbconvert_exporter": "python",
   "pygments_lexer": "ipython3",
   "version": "3.9.12"
  }
 },
 "nbformat": 4,
 "nbformat_minor": 5
}
