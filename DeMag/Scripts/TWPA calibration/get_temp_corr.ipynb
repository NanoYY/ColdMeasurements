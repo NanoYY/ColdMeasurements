{
 "cells": [
  {
   "cell_type": "code",
   "execution_count": 73,
   "id": "ee616a7c",
   "metadata": {},
   "outputs": [],
   "source": [
    "import matplotlib.pyplot as plt\n",
    "import matplotlib\n",
    "# %matplotlib qt\n",
    "\n",
    "import numpy as np\n",
    "from numpy import *\n",
    "from scipy.fft import fft, ifft, fftshift, ifftshift\n",
    "from scipy.optimize import curve_fit\n",
    "\n",
    "from datetime import datetime, timedelta\n",
    "\n",
    "import os\n",
    "import scipy.io as sio"
   ]
  },
  {
   "cell_type": "code",
   "execution_count": 98,
   "id": "188ad807",
   "metadata": {},
   "outputs": [
    {
     "name": "stdout",
     "output_type": "stream",
     "text": [
      "[0] -----------> DC_sweep_with_VAR2024-02-26-13-34-07.mat\n",
      "[1] -----------> DC_sweep_with_VAR2024-02-26-14-13-42.mat\n",
      "[2] -----------> DC_sweep_with_VAR2024-02-26-14-57-25.mat\n",
      "[3] -----------> DC_sweep_with_VAR2024-02-26-20-16-21.mat\n",
      "[4] -----------> DC_sweep_with_VAR2024-02-27-14-41-06.mat\n",
      "[5] -----------> DC_sweep_with_VAR_2_2024-02-25-18-41-27.mat\n",
      "[6] -----------> DC_sweep_with_VAR_2_2024-02-25-19-21-26.mat\n",
      "[7] -----------> LS_DC0.0,5.015-21-03.mat\n",
      "[8] -----------> LS_DC1.0,5.015-57-51.mat\n",
      "[9] -----------> LS_DC3,319-17-20.mat\n",
      "[10] -----------> LS_DC3,319-22-51.mat\n",
      "[11] -----------> LS_DC3,319-24-59.mat\n",
      "[12] -----------> LS_DC3,319-27-40.mat\n",
      "[13] -----------> LS_DC3,319-33-41.mat\n",
      "[14] -----------> LS_DC3.0,3.022-17-06.mat\n",
      "[15] -----------> LS_DC3.0,3.022-56-34.mat\n",
      "[16] -----------> LS_DC3.0,3.0_t22-56-34.mat\n",
      "[17] -----------> SSc_3.5DC_10.03to10.07GHz_5.8to6.5db_22-01-10.mat\n",
      "[18] -----------> SSc_3.5DC_10.03to10.08GHz_5.8to6.5db_21-59-50.mat\n",
      "[19] -----------> SSc_3.5DC_10.0to10.02GHz_5.8to6.5db_21-52-21.mat\n",
      "[20] -----------> SSc_3.5DC_10.0to10.08GHz_5.8to6.5db_21-58-24.mat\n",
      "[21] -----------> SSc_3.5DC_10.0to10.12GHz_5.0to6.5db_21-50-51.mat\n",
      "[22] -----------> SSc_3.5DC_10.1to10.08GHz_5.8to6.5db_21-53-43.mat\n",
      "[23] -----------> SSc_4DC_10.0to10.12GHz_1.4to2.0db_21-50-15.mat\n",
      "[24] -----------> Temp_scan_DC213-19-11.mat\n",
      "[25] -----------> Temp_scan_DC214-59-07.mat\n",
      "[26] -----------> Temp_scan_DC215-02-42.mat\n",
      "[27] -----------> Temp_scan_DC218-37-14.mat\n",
      "[28] -----------> Temp_scan_DC218-38-23.mat\n",
      "[29] -----------> Temp_scan_DC218-38-33.mat\n",
      "[30] -----------> Temp_scan_DC218-38-57.mat\n",
      "[31] -----------> Temp_scan_DC218-49-58.mat\n"
     ]
    }
   ],
   "source": [
    "initial_folder = r'C:\\Users\\Demag\\PycharmProjects\\ColdMeasurements\\DeMag\\DATA\\TWPA_noise\\Long_scan'\n",
    "\n",
    "folders = os.listdir(initial_folder)\n",
    "for i in range(len(folders)):\n",
    "    if \".fig\" in folders[i]: pass\n",
    "    else: \n",
    "        print(r\"[%d]\" %(i), '----------->', folders[i]) "
   ]
  },
  {
   "cell_type": "code",
   "execution_count": 151,
   "id": "fc944196",
   "metadata": {},
   "outputs": [
    {
     "data": {
      "text/plain": [
       "dict_keys(['__header__', '__version__', '__globals__', 'vna_freq', 'vna_power', 'fr_20', 'dc_20', 'vna', 'DC_dev', 'anapico', 'temp', 'time_1t', 'mag', 'pha', 'mag_var', 'pha_var'])"
      ]
     },
     "execution_count": 151,
     "metadata": {},
     "output_type": "execute_result"
    }
   ],
   "source": [
    "file = folders[26]\n",
    "mat = sio.loadmat(initial_folder+\"\\\\\"+file)\n",
    "mat.keys()"
   ]
  },
  {
   "cell_type": "code",
   "execution_count": 152,
   "id": "eddbaa01",
   "metadata": {},
   "outputs": [
    {
     "name": "stdout",
     "output_type": "stream",
     "text": [
      "10000\n"
     ]
    }
   ],
   "source": [
    "mag_1t = mat['mag'][0]\n",
    "pha_1t = mat['pha'][0]\n",
    "mag_1t_var = mat['mag_var'][0]\n",
    "pha_1t_var = mat['pha_var'][0]\n",
    "\n",
    "times = mat['time_1t'][0]\n",
    "print(len(times))"
   ]
  },
  {
   "cell_type": "code",
   "execution_count": 153,
   "id": "bc4fcb31",
   "metadata": {},
   "outputs": [
    {
     "data": {
      "text/plain": [
       "[<matplotlib.lines.Line2D at 0x2078153b7c0>]"
      ]
     },
     "execution_count": 153,
     "metadata": {},
     "output_type": "execute_result"
    }
   ],
   "source": [
    "plt.plot(times, mag_1t, '.')"
   ]
  },
  {
   "cell_type": "code",
   "execution_count": 124,
   "id": "7dda18e3",
   "metadata": {},
   "outputs": [],
   "source": [
    "clock_delta = +1.5 # loclal is ahead"
   ]
  },
  {
   "cell_type": "code",
   "execution_count": 154,
   "id": "7d0f290a",
   "metadata": {},
   "outputs": [
    {
     "name": "stdout",
     "output_type": "stream",
     "text": [
      "[17] -----------> CH6 T 24-02-27.log\n",
      "[18] -----------> CH6 T 24-02-28.log\n"
     ]
    }
   ],
   "source": [
    "initial_folder_logs = r'C:\\Users\\Demag\\Downloads'\n",
    "\n",
    "files = os.listdir(initial_folder_logs)\n",
    "for i in range(len(files)):\n",
    "    if \".log\" in files[i]: print(r\"[%d]\" %(i), '----------->', files[i]) "
   ]
  },
  {
   "cell_type": "code",
   "execution_count": 155,
   "id": "132d0439",
   "metadata": {},
   "outputs": [],
   "source": [
    "file = files[17]\n",
    "file_pass = initial_folder_logs+\"\\\\\"+file\n",
    "file1 = open(file_pass, 'r')\n",
    "lines = file1.readlines()\n",
    "file1.close()\n",
    "\n",
    "time = np.array([])\n",
    "temp = np.array([])\n",
    "\n",
    "start_time = '27-02-24-15:02:42'\n",
    "st_time = datetime.strptime(start_time, date_format)\n",
    "\n",
    "start_capture = False\n",
    "\n",
    "for i in range(len(lines)):\n",
    "    data = lines[i].split(',')\n",
    "    curr_time = datetime.strptime(data[0][1:]+'-'+data[1], date_format)\n",
    "    delta = (abs(st_time - curr_time)).seconds\n",
    "    if delta < 3:\n",
    "        start_capture = True\n",
    "    if start_capture: \n",
    "#         print(delta, curr_time, ':', float(data[2][:-1]))\n",
    "        time = np.append(time, np.abs(delta+clock_delta))\n",
    "        temp = np.append(temp, float(data[2][:-1]))\n"
   ]
  },
  {
   "cell_type": "code",
   "execution_count": 156,
   "id": "f361b6c6",
   "metadata": {},
   "outputs": [
    {
     "data": {
      "text/plain": [
       "[<matplotlib.lines.Line2D at 0x20781b3d280>]"
      ]
     },
     "execution_count": 156,
     "metadata": {},
     "output_type": "execute_result"
    }
   ],
   "source": [
    "plt.plot(time, temp, '.-')"
   ]
  },
  {
   "cell_type": "code",
   "execution_count": 157,
   "id": "e2b9522a",
   "metadata": {},
   "outputs": [],
   "source": [
    "%matplotlib qt\n",
    "font = {'size'   : 15}\n",
    "matplotlib.rc('font', **font)\n",
    "fig, ax = plt.subplots(2, 1, figsize=(25,13), sharex=True)\n",
    "start = 100\n",
    "stop = -2500\n",
    "ax[0].plot(time[start:]/60, temp[start:]*1000, '.')\n",
    "ax[1].plot(times[start:stop]/60, mag_1t[start:stop], '.') \n",
    "\n",
    "ax[0].set_ylabel(r'Temperature, mK')\n",
    "ax[1].set_ylabel(r'$|S_{21}|, db$')\n",
    "ax[1].set_xlabel(r'Time, min')\n",
    "ax[0].grid()\n",
    "ax[1].grid()"
   ]
  },
  {
   "cell_type": "code",
   "execution_count": null,
   "id": "b2b055eb",
   "metadata": {},
   "outputs": [],
   "source": []
  },
  {
   "cell_type": "code",
   "execution_count": null,
   "id": "d1861be2",
   "metadata": {},
   "outputs": [],
   "source": []
  }
 ],
 "metadata": {
  "kernelspec": {
   "display_name": "Python 3 (ipykernel)",
   "language": "python",
   "name": "python3"
  },
  "language_info": {
   "codemirror_mode": {
    "name": "ipython",
    "version": 3
   },
   "file_extension": ".py",
   "mimetype": "text/x-python",
   "name": "python",
   "nbconvert_exporter": "python",
   "pygments_lexer": "ipython3",
   "version": "3.9.12"
  }
 },
 "nbformat": 4,
 "nbformat_minor": 5
}
