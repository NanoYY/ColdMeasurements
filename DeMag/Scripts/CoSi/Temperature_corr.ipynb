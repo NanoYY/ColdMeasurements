{
 "cells": [
  {
   "cell_type": "code",
   "execution_count": 1,
   "id": "ff0e1dbb",
   "metadata": {},
   "outputs": [
    {
     "name": "stderr",
     "output_type": "stream",
     "text": [
      "C:\\Users\\Demag\\anaconda3\\lib\\site-packages\\scipy\\__init__.py:146: UserWarning: A NumPy version >=1.16.5 and <1.23.0 is required for this version of SciPy (detected version 1.26.1\n",
      "  warnings.warn(f\"A NumPy version >={np_minversion} and <{np_maxversion}\"\n"
     ]
    }
   ],
   "source": [
    "import numpy as np\n",
    "from numpy import *\n",
    "import matplotlib.pyplot as plt\n",
    "import matplotlib\n",
    "\n",
    "from mpl_toolkits.axes_grid1 import make_axes_locatable\n",
    "import csv\n",
    "from scipy import stats\n",
    "from scipy.fft import fft, fftfreq\n",
    "import scipy.io\n",
    "from scipy.io import savemat\n",
    "from scipy.interpolate import UnivariateSpline \n",
    "\n",
    "import os\n",
    "from datetime import datetime, timedelta\n",
    "import matplotlib.dates as mdates\n",
    "\n",
    "\n",
    "import matplotlib.ticker as ticker\n",
    "import seaborn as sns\n",
    "%matplotlib inline\n"
   ]
  },
  {
   "cell_type": "code",
   "execution_count": 2,
   "id": "d78fcd15",
   "metadata": {},
   "outputs": [
    {
     "name": "stdout",
     "output_type": "stream",
     "text": [
      "[0] -----------> 10_15_added_filter_d2.csv\n",
      "[1] -----------> 10_16.csv\n",
      "[2] -----------> 10_16_2.csv\n",
      "[3] -----------> 1h_1s_50mK_p10_i1_17_11.csv\n",
      "[4] -----------> 1h_test.csv\n",
      "[5] -----------> 1_1_05_1h_2nd_run.csv\n",
      "[6] -----------> 1_1_5_1h_1st_run.csv\n",
      "[7] -----------> 4h_1s_p10_i1_17_11.csv\n",
      "[16] -----------> overn_p10_i1_17_11.csv\n",
      "[17] -----------> P1_I0Dot1.csv\n",
      "[22] -----------> Test.csv\n",
      "[23] -----------> TestOverNight14112023.csv\n",
      "[24] -----------> weekend_50mK_1s_p10_i1.csv\n"
     ]
    }
   ],
   "source": [
    "initial_folder = r'C:\\Users\\Demag\\Documents\\Comsol sims\\Nico'\n",
    "\n",
    "files = os.listdir(initial_folder)\n",
    "for i in range(len(files)):\n",
    "    if \".mph\" in files[i]: pass\n",
    "    else: \n",
    "        print(r\"[%d]\" %(i), '----------->', files[i]) "
   ]
  },
  {
   "cell_type": "code",
   "execution_count": 8,
   "id": "729a803f",
   "metadata": {
    "scrolled": true
   },
   "outputs": [
    {
     "name": "stdout",
     "output_type": "stream",
     "text": [
      "['DateTime', 'Process Value', 'Process Setpoint', 'PID 1', 'PID 2', 'Setpoint 1', 'Setpoint 2\\n']\n"
     ]
    }
   ],
   "source": [
    "file = files[24]\n",
    "file_pass = initial_folder+\"\\\\\"+file\n",
    "file1 = open(file_pass, 'r')\n",
    "lines = file1.readlines()\n",
    "\n",
    "dict_data=dict()\n",
    "\n",
    "keys = lines[0].split(',')\n",
    "print(keys)\n",
    "\n",
    "file1.close()\n",
    "data = lines[1:]\n",
    "\n",
    "date_format = '%H.%M.%S.%f %Y-%m-%d'\n",
    "\n",
    "time_pid = np.array([])\n",
    "\n",
    "arr = data[0].split(',')\n",
    "time_pid = np.append(time_pid, datetime.strptime(arr[0], date_format))\n",
    "d_old = time_pid[0].day\n",
    "h_old = time_pid[0].hour\n",
    "\n",
    "PV = np.array([])\n",
    "PS = np.array([])\n",
    "PID1 =np.array([])\n",
    "\n",
    "am_pm = False # False = PM, True = AM\n",
    "\n",
    "\n",
    "for i in range(len(data)): \n",
    "    arr = data[i].split(',')\n",
    "    time_pid = np.append(time_pid, datetime.strptime(arr[0], date_format))\n",
    "    h_now = time_pid[-1].hour\n",
    "    d_now = time_pid[-1].day\n",
    "    \n",
    "    if time_pid[-1].day != d_old: am_pm = True\n",
    "    else:\n",
    "        if h_old==11 and time_pid[-2].minute == 59 and time_pid[-2].second == 59: am_pm = False\n",
    "    \n",
    "    if am_pm:\n",
    "        if h_now == 12: time_pid[-1] =  time_pid[-1]  - timedelta(hours=12)\n",
    "    if not(am_pm):\n",
    "        if h_now!=12: time_pid[-1] =  time_pid[-1]  + timedelta(hours=12)\n",
    "\n",
    "    \n",
    "#     print(time_pid[-1])\n",
    "    \n",
    "    h_old = h_now\n",
    "    d_old = d_now\n",
    "    \n",
    "        \n",
    "    PV = np.append(PV, float(arr[1]))\n",
    "    PS = np.append(PS, float(arr[2]))\n",
    "    PID1 = np.append(PID1, float(arr[3]))\n",
    "\n",
    "time_pid = time_pid[1:]"
   ]
  },
  {
   "cell_type": "code",
   "execution_count": 9,
   "id": "28fb9f8d",
   "metadata": {},
   "outputs": [
    {
     "data": {
      "image/png": "[encoded data removed]",
      "text/plain": [
       "<Figure size 1296x360 with 1 Axes>"
      ]
     },
     "metadata": {
      "needs_background": "light"
     },
     "output_type": "display_data"
    }
   ],
   "source": [
    "fig, ax = plt.subplots(figsize=(18,5)) \n",
    "ax.plot(time_pid, PID1)\n",
    "fmt = mdates.DateFormatter('%H:%M') # Re-format the x-axis\n",
    "ax.xaxis.set_major_formatter(fmt)"
   ]
  },
  {
   "cell_type": "code",
   "execution_count": 10,
   "id": "ed4d1305",
   "metadata": {},
   "outputs": [
    {
     "name": "stdout",
     "output_type": "stream",
     "text": [
      "[0] -----------> CH6 T 23-11-16.log\n",
      "[1] -----------> CH6 T 23-11-17.log\n",
      "[2] -----------> CH6 T 23-11-18.log\n",
      "[3] -----------> CH6 T 23-11-19.log\n",
      "[4] -----------> CH6 T 23-11-20.log\n",
      "[5] -----------> Corr_overnight_17_11.png\n",
      "[6] -----------> results.txt\n"
     ]
    }
   ],
   "source": [
    "bf_folder = r'C:\\Users\\Demag\\PycharmProjects\\ColdMeasurements\\DeMag\\DATA\\CoSi\\10nm\\BlueFors_logs'\n",
    "\n",
    "files_bf = os.listdir(bf_folder)\n",
    "for i in range(len(files_bf)):\n",
    "    if \".mph\" in files_bf[i]: pass\n",
    "    else: \n",
    "        print(r\"[%d]\" %(i), '----------->', files_bf[i]) \n",
    "        "
   ]
  },
  {
   "cell_type": "code",
   "execution_count": 41,
   "id": "015c6498",
   "metadata": {},
   "outputs": [],
   "source": [
    "t = np.array([])\n",
    "time_bf =np.array([])\n",
    "\n",
    "date_format = '%d-%m-%y %H:%M:%S'\n",
    "\n",
    "for i in array([1,2,3,4]):\n",
    "    file_bf = files_bf[i]\n",
    "    file_pass_bf = bf_folder+\"\\\\\"+file_bf\n",
    "    file1_bf = open(file_pass_bf, 'r')\n",
    "    lines = file1_bf.readlines()\n",
    "    file1_bf.close()\n",
    "\n",
    "\n",
    "    for i in range(len(lines)): \n",
    "        arr = lines[i].split(',')\n",
    "        time = arr[0][1:] + ' ' + arr[1]\n",
    "        time_bf = np.append(time_bf, datetime.strptime(time, date_format))\n",
    "        t = np.append(t, float(arr[2][:-1]))\n",
    "\n"
   ]
  },
  {
   "cell_type": "code",
   "execution_count": 42,
   "id": "b979acee",
   "metadata": {},
   "outputs": [
    {
     "data": {
      "text/plain": [
       "(0.0, 0.06)"
      ]
     },
     "execution_count": 42,
     "metadata": {},
     "output_type": "execute_result"
    },
    {
     "data": {
      "image/png": "[encoded data removed]",
      "text/plain": [
       "<Figure size 1296x360 with 1 Axes>"
      ]
     },
     "metadata": {
      "needs_background": "light"
     },
     "output_type": "display_data"
    }
   ],
   "source": [
    "fig, ax = plt.subplots(figsize=(18,5)) \n",
    "ax.plot(time_bf, t)\n",
    "fmt = mdates.DateFormatter('%d-%m %H:%M:%S') # Re-format the x-axis\n",
    "ax.xaxis.set_major_formatter(fmt)\n",
    "ax.set_ylim(0, 0.06)"
   ]
  },
  {
   "cell_type": "code",
   "execution_count": 43,
   "id": "04396345",
   "metadata": {},
   "outputs": [],
   "source": [
    "start = time_pid[0]\n",
    "def find_nearest(array, value):  # function to find boundaries for reference measurements\n",
    "        array = np.asarray(array)\n",
    "        idx = (np.abs(array - value)).argmin()\n",
    "        return idx\n",
    "    \n",
    "start_index_bf = find_nearest(time_bf, start)"
   ]
  },
  {
   "cell_type": "code",
   "execution_count": 44,
   "id": "5e4caa1b",
   "metadata": {},
   "outputs": [
    {
     "name": "stdout",
     "output_type": "stream",
     "text": [
      "206522 206522 206522\n"
     ]
    }
   ],
   "source": [
    "shifted_bf_time = time_bf[start_index_bf:]\n",
    "\n",
    "global_time = np.array([])\n",
    "pid = np.array([])\n",
    "meas = np.array([])\n",
    "\n",
    "temp = np.array([])\n",
    "for i in range(len(shifted_bf_time)):\n",
    "    curr = shifted_bf_time[i]\n",
    "    global_time = np.append(global_time, curr)\n",
    "    curr_idx = find_nearest(time_pid, curr)\n",
    "    temp = np.append(temp, t[i])\n",
    "    pid = np.append(pid, PID1[curr_idx])\n",
    "    meas = np.append(meas, PV[curr_idx])\n",
    "    \n",
    "print(len(global_time), len(temp), len(pid))\n",
    "\n",
    "pid_m = pid-np.mean(pid)\n",
    "temp_m = temp-np.mean(temp)\n",
    "meas_m = meas-np.mean(meas)"
   ]
  },
  {
   "cell_type": "code",
   "execution_count": null,
   "id": "de9fa316",
   "metadata": {},
   "outputs": [],
   "source": []
  },
  {
   "cell_type": "code",
   "execution_count": 84,
   "id": "57b24291",
   "metadata": {},
   "outputs": [
    {
     "data": {
      "text/plain": [
       "(19678.726875, 19681.469699074074)"
      ]
     },
     "execution_count": 84,
     "metadata": {},
     "output_type": "execute_result"
    }
   ],
   "source": [
    "%matplotlib qt\n",
    "fig, ax = plt.subplots(figsize=(18,5)) \n",
    "stop = -100\n",
    "ax.plot(global_time, abs(pid/max(abs(pid))))\n",
    "fmt = mdates.DateFormatter('%d- %H:%M:%S') # Re-format the x-axis\n",
    "ax.xaxis.set_major_formatter(fmt)\n",
    "ax.set_ylim(0.5, 1)\n",
    "ax.set_xlim(global_time[0], global_time[-1])\n",
    "\n",
    "fig, ax = plt.subplots(figsize=(18,5)) \n",
    "stop = -100\n",
    "ax.plot(global_time, temp)\n",
    "fmt = mdates.DateFormatter('%d- %H:%M:%S') # Re-format the x-axis\n",
    "ax.xaxis.set_major_formatter(fmt)\n",
    "ax.set_ylim(0., 0.06)\n",
    "ax.set_xlim(global_time[0], global_time[-1])\n",
    "\n",
    "\n",
    "fig, ax = plt.subplots(figsize=(18,5)) \n",
    "stop = -100\n",
    "ax.plot(global_time, meas)\n",
    "fmt = mdates.DateFormatter('%d- %H:%M:%S') # Re-format the x-axis\n",
    "ax.xaxis.set_major_formatter(fmt)\n",
    "# ax.set_ylim(0., 0.06)\n",
    "ax.set_xlim(global_time[0], global_time[-1])"
   ]
  },
  {
   "cell_type": "code",
   "execution_count": 46,
   "id": "c819f7bf",
   "metadata": {},
   "outputs": [
    {
     "name": "stdout",
     "output_type": "stream",
     "text": [
      "[[ 8.47872629e-05 -2.21147453e-04]\n",
      " [-2.21147453e-04  2.38812270e+00]]\n"
     ]
    },
    {
     "data": {
      "text/plain": [
       "-0.015541348763011815"
      ]
     },
     "execution_count": 46,
     "metadata": {},
     "output_type": "execute_result"
    }
   ],
   "source": [
    "x = meas_m[:stop]\n",
    "y = pid_m[:stop]\n",
    "covariance = np.cov(x, y)\n",
    "print(covariance)\n",
    "\n",
    "sum(y*x)/np.sqrt(sum(y*y)*sum(x*x))"
   ]
  },
  {
   "cell_type": "code",
   "execution_count": 47,
   "id": "b896aa8f",
   "metadata": {},
   "outputs": [
    {
     "name": "stdout",
     "output_type": "stream",
     "text": [
      "[[ 3.79445891 -0.00709943]\n",
      " [-0.00709943  2.3881227 ]]\n"
     ]
    },
    {
     "data": {
      "text/plain": [
       "-0.0023584203188629638"
      ]
     },
     "execution_count": 47,
     "metadata": {},
     "output_type": "execute_result"
    }
   ],
   "source": [
    "x = temp_m[:stop]\n",
    "y = pid_m[:stop]\n",
    "covariance = np.cov(x, y)\n",
    "print(covariance)\n",
    "\n",
    "sum(y*x)/np.sqrt(sum(y*y)*sum(x*x))"
   ]
  },
  {
   "cell_type": "code",
   "execution_count": 48,
   "id": "0269227c",
   "metadata": {},
   "outputs": [
    {
     "name": "stdout",
     "output_type": "stream",
     "text": [
      "[[3.79445891e+00 3.87457024e-05]\n",
      " [3.87457024e-05 8.47872629e-05]]\n"
     ]
    },
    {
     "data": {
      "text/plain": [
       "0.0021601472501989296"
      ]
     },
     "execution_count": 48,
     "metadata": {},
     "output_type": "execute_result"
    }
   ],
   "source": [
    "x = temp_m[:stop] \n",
    "y = meas_m[:stop]\n",
    "covariance = np.cov(x, y)\n",
    "print(covariance)\n",
    "\n",
    "sum(y*x)/np.sqrt(sum(y*y)*sum(x*x))"
   ]
  },
  {
   "cell_type": "code",
   "execution_count": null,
   "id": "df931974",
   "metadata": {},
   "outputs": [],
   "source": []
  },
  {
   "cell_type": "code",
   "execution_count": null,
   "id": "3e9b10ac",
   "metadata": {},
   "outputs": [],
   "source": []
  },
  {
   "cell_type": "code",
   "execution_count": null,
   "id": "3c0d8f19",
   "metadata": {},
   "outputs": [],
   "source": []
  }
 ],
 "metadata": {
  "kernelspec": {
   "display_name": "Python 3 (ipykernel)",
   "language": "python",
   "name": "python3"
  },
  "language_info": {
   "codemirror_mode": {
    "name": "ipython",
    "version": 3
   },
   "file_extension": ".py",
   "mimetype": "text/x-python",
   "name": "python",
   "nbconvert_exporter": "python",
   "pygments_lexer": "ipython3",
   "version": "3.9.12"
  }
 },
 "nbformat": 4,
 "nbformat_minor": 5
}
