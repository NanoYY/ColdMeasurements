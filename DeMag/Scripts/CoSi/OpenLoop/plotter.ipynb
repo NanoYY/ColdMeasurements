{
 "cells": [
  {
   "cell_type": "code",
   "execution_count": 1,
   "id": "94a0783c",
   "metadata": {},
   "outputs": [
    {
     "name": "stderr",
     "output_type": "stream",
     "text": [
      "C:\\Users\\Demag\\anaconda3\\lib\\site-packages\\scipy\\__init__.py:146: UserWarning: A NumPy version >=1.16.5 and <1.23.0 is required for this version of SciPy (detected version 1.26.1\n",
      "  warnings.warn(f\"A NumPy version >={np_minversion} and <{np_maxversion}\"\n"
     ]
    }
   ],
   "source": [
    "#math\n",
    "import numpy as np\n",
    "from numpy import *\n",
    "from scipy.optimize import curve_fit\n",
    "\n",
    "#plotting\n",
    "import matplotlib.pyplot as plt\n",
    "import matplotlib\n",
    "\n",
    "#matlab import\n",
    "import scipy.io\n",
    "from scipy.io import savemat\n",
    "\n",
    "#file_store\n",
    "import os\n",
    "\n",
    "#time\n",
    "from datetime import datetime, timedelta\n",
    "import time\n",
    "\n",
    "from ctypes import *\n",
    "%matplotlib inline"
   ]
  },
  {
   "cell_type": "code",
   "execution_count": 2,
   "id": "c2cce233",
   "metadata": {},
   "outputs": [],
   "source": [
    "def linear_func(x, a, b):\n",
    "        return a * x + b\n",
    "\n",
    "def linear_fit(x, y):\n",
    "        popt, pcov = curve_fit(linear_func, x, y)\n",
    "        a = popt[0]\n",
    "        b = popt[1]\n",
    "        return a, b"
   ]
  },
  {
   "cell_type": "code",
   "execution_count": 3,
   "id": "fb1024f5",
   "metadata": {},
   "outputs": [
    {
     "name": "stdout",
     "output_type": "stream",
     "text": [
      "[0] -----------> AnalysisScript.m\n",
      "[1] -----------> AnalysisScriptWithoutTWPA.asv\n",
      "[2] -----------> AnalysisScriptWithoutTWPA.m\n",
      "[3] -----------> AnalysisScriptWithTWPA.asv\n",
      "[4] -----------> AnalysisScriptWithTWPA.m\n",
      "[5] -----------> ModulationFTest_16-43-55.mat\n",
      "[6] -----------> ModulationFTest_17-08-29.mat\n",
      "[7] -----------> ModulationFTest_17-13-50.mat\n",
      "[8] -----------> No_Cavity_Y_ErrPsw_0to10_13-33-24.mat\n",
      "[9] -----------> No_Cavity_Y_ErrPsw_0to10_16-50-38.mat\n",
      "[10] -----------> No_Cavity_Y_ErrPsw_0to10_20-30-30.mat\n",
      "[12] -----------> With_TWPA_10db_270.png\n",
      "[13] -----------> XAndYErrFunc_19-09-49.mat\n",
      "[14] -----------> Y_ErrPsw_0to20_11-30-00.mat\n",
      "[15] -----------> Y_ErrPsw_0to20_13-59-26.mat\n",
      "[16] -----------> Y_ErrPsw_0to20_14-02-44.mat\n",
      "[17] -----------> Y_ErrPsw_0to20_14-07-08.mat\n",
      "[18] -----------> Y_ErrPsw_0to20_14-07-28.mat\n",
      "[19] -----------> Y_ErrPsw_0to20_14-16-21.mat\n",
      "[20] -----------> Y_ErrPsw_0to20_15-03-46.mat\n",
      "[21] -----------> Y_ErrPsw_0to20_16-03-04.mat\n",
      "[22] -----------> Y_ErrPsw_0to20_16-53-44.mat\n",
      "[23] -----------> Y_ErrPsw_0to20_17-13-30.mat\n",
      "[24] -----------> Y_ErrPsw_0to20_17-19-15.mat\n",
      "[25] -----------> Y_ErrPsw_0to20_17-47-36.mat\n",
      "[26] -----------> Y_ErrPsw_0to20_19-53-27.mat\n",
      "[27] -----------> Y_ErrPsw_0to20_21-57-40.mat\n",
      "[28] -----------> Y_ErrPsw_0to20_DUPLICATE_11-30-00.mat\n",
      "[29] -----------> Y_ErrPsw_0to20_DUPLICATE_13-33-24.mat\n",
      "[30] -----------> Y_ErrPsw_0to20_DUPLICATE_13-59-26.mat\n",
      "[31] -----------> Y_ErrPsw_0to20_DUPLICATE_14-02-44.mat\n",
      "[32] -----------> Y_ErrPsw_0to20_DUPLICATE_14-07-08.mat\n",
      "[33] -----------> Y_ErrPsw_0to20_DUPLICATE_14-07-28.mat\n",
      "[34] -----------> Y_ErrPsw_0to20_DUPLICATE_14-16-21.mat\n",
      "[35] -----------> Y_ErrPsw_0to20_DUPLICATE_15-03-46.mat\n",
      "[36] -----------> Y_ErrPsw_0to20_DUPLICATE_16-03-04.mat\n",
      "[37] -----------> Y_ErrPsw_0to20_DUPLICATE_16-50-38.mat\n",
      "[38] -----------> Y_ErrPsw_0to20_DUPLICATE_16-53-44.mat\n",
      "[39] -----------> Y_ErrPsw_0to20_DUPLICATE_17-19-15.mat\n",
      "[40] -----------> Y_ErrPsw_0to20_DUPLICATE_17-47-36.mat\n",
      "[41] -----------> Y_ErrPsw_0to20_DUPLICATE_19-09-49.mat\n",
      "[42] -----------> Y_ErrPsw_0to20_DUPLICATE_19-53-27.mat\n",
      "[43] -----------> Y_ErrPsw_0to20_DUPLICATE_20-30-30.mat\n",
      "[44] -----------> Y_ErrPsw_0to20_DUPLICATE_21-57-40.mat\n"
     ]
    }
   ],
   "source": [
    "initial_folder = r'C:\\Users\\Demag\\PycharmProjects\\ColdMeasurements\\DeMag\\DATA\\CoSi\\Open_loop\\error_func\\with_TWPA'\n",
    "files = os.listdir(initial_folder)\n",
    "for i in range(len(files)):\n",
    "    if \".fig\" in files[i]: pass\n",
    "    else: \n",
    "        print(r\"[%d]\" %(i), '----------->', files[i]) "
   ]
  },
  {
   "cell_type": "code",
   "execution_count": 4,
   "id": "8c9c0420",
   "metadata": {
    "scrolled": true
   },
   "outputs": [
    {
     "ename": "ValueError",
     "evalue": "Unknown mat file type, version 32, 32",
     "output_type": "error",
     "traceback": [
      "\u001b[1;31m---------------------------------------------------------------------------\u001b[0m",
      "\u001b[1;31mValueError\u001b[0m                                Traceback (most recent call last)",
      "Cell \u001b[1;32mIn[4], line 1\u001b[0m\n\u001b[1;32m----> 1\u001b[0m mat \u001b[38;5;241m=\u001b[39m \u001b[43mscipy\u001b[49m\u001b[38;5;241;43m.\u001b[39;49m\u001b[43mio\u001b[49m\u001b[38;5;241;43m.\u001b[39;49m\u001b[43mloadmat\u001b[49m\u001b[43m(\u001b[49m\u001b[43minitial_folder\u001b[49m\u001b[38;5;241;43m+\u001b[39;49m\u001b[38;5;124;43m\"\u001b[39;49m\u001b[38;5;130;43;01m\\\\\u001b[39;49;00m\u001b[38;5;124;43m\"\u001b[39;49m\u001b[38;5;241;43m+\u001b[39;49m\u001b[43mfiles\u001b[49m\u001b[43m[\u001b[49m\u001b[38;5;241;43m0\u001b[39;49m\u001b[43m]\u001b[49m\u001b[43m)\u001b[49m\n",
      "File \u001b[1;32m~\\anaconda3\\lib\\site-packages\\scipy\\io\\matlab\\mio.py:225\u001b[0m, in \u001b[0;36mloadmat\u001b[1;34m(file_name, mdict, appendmat, **kwargs)\u001b[0m\n\u001b[0;32m    223\u001b[0m variable_names \u001b[38;5;241m=\u001b[39m kwargs\u001b[38;5;241m.\u001b[39mpop(\u001b[38;5;124m'\u001b[39m\u001b[38;5;124mvariable_names\u001b[39m\u001b[38;5;124m'\u001b[39m, \u001b[38;5;28;01mNone\u001b[39;00m)\n\u001b[0;32m    224\u001b[0m \u001b[38;5;28;01mwith\u001b[39;00m _open_file_context(file_name, appendmat) \u001b[38;5;28;01mas\u001b[39;00m f:\n\u001b[1;32m--> 225\u001b[0m     MR, _ \u001b[38;5;241m=\u001b[39m mat_reader_factory(f, \u001b[38;5;241m*\u001b[39m\u001b[38;5;241m*\u001b[39mkwargs)\n\u001b[0;32m    226\u001b[0m     matfile_dict \u001b[38;5;241m=\u001b[39m MR\u001b[38;5;241m.\u001b[39mget_variables(variable_names)\n\u001b[0;32m    228\u001b[0m \u001b[38;5;28;01mif\u001b[39;00m mdict \u001b[38;5;129;01mis\u001b[39;00m \u001b[38;5;129;01mnot\u001b[39;00m \u001b[38;5;28;01mNone\u001b[39;00m:\n",
      "File \u001b[1;32m~\\anaconda3\\lib\\site-packages\\scipy\\io\\matlab\\mio.py:74\u001b[0m, in \u001b[0;36mmat_reader_factory\u001b[1;34m(file_name, appendmat, **kwargs)\u001b[0m\n\u001b[0;32m     54\u001b[0m \u001b[38;5;124;03m\"\"\"\u001b[39;00m\n\u001b[0;32m     55\u001b[0m \u001b[38;5;124;03mCreate reader for matlab .mat format files.\u001b[39;00m\n\u001b[0;32m     56\u001b[0m \n\u001b[1;32m   (...)\u001b[0m\n\u001b[0;32m     71\u001b[0m \n\u001b[0;32m     72\u001b[0m \u001b[38;5;124;03m\"\"\"\u001b[39;00m\n\u001b[0;32m     73\u001b[0m byte_stream, file_opened \u001b[38;5;241m=\u001b[39m _open_file(file_name, appendmat)\n\u001b[1;32m---> 74\u001b[0m mjv, mnv \u001b[38;5;241m=\u001b[39m \u001b[43mget_matfile_version\u001b[49m\u001b[43m(\u001b[49m\u001b[43mbyte_stream\u001b[49m\u001b[43m)\u001b[49m\n\u001b[0;32m     75\u001b[0m \u001b[38;5;28;01mif\u001b[39;00m mjv \u001b[38;5;241m==\u001b[39m \u001b[38;5;241m0\u001b[39m:\n\u001b[0;32m     76\u001b[0m     \u001b[38;5;28;01mreturn\u001b[39;00m MatFile4Reader(byte_stream, \u001b[38;5;241m*\u001b[39m\u001b[38;5;241m*\u001b[39mkwargs), file_opened\n",
      "File \u001b[1;32m~\\anaconda3\\lib\\site-packages\\scipy\\io\\matlab\\miobase.py:231\u001b[0m, in \u001b[0;36mget_matfile_version\u001b[1;34m(fileobj)\u001b[0m\n\u001b[0;32m    229\u001b[0m \u001b[38;5;28;01mif\u001b[39;00m maj_val \u001b[38;5;129;01min\u001b[39;00m (\u001b[38;5;241m1\u001b[39m, \u001b[38;5;241m2\u001b[39m):\n\u001b[0;32m    230\u001b[0m     \u001b[38;5;28;01mreturn\u001b[39;00m ret\n\u001b[1;32m--> 231\u001b[0m \u001b[38;5;28;01mraise\u001b[39;00m \u001b[38;5;167;01mValueError\u001b[39;00m(\u001b[38;5;124m'\u001b[39m\u001b[38;5;124mUnknown mat file type, version \u001b[39m\u001b[38;5;132;01m%s\u001b[39;00m\u001b[38;5;124m, \u001b[39m\u001b[38;5;132;01m%s\u001b[39;00m\u001b[38;5;124m'\u001b[39m \u001b[38;5;241m%\u001b[39m ret)\n",
      "\u001b[1;31mValueError\u001b[0m: Unknown mat file type, version 32, 32"
     ]
    }
   ],
   "source": [
    "mat = scipy.io.loadmat(initial_folder+\"\\\\\"+files[0])\n",
    "# mat"
   ]
  },
  {
   "cell_type": "code",
   "execution_count": 5,
   "id": "2efc6c54",
   "metadata": {},
   "outputs": [
    {
     "ename": "TypeError",
     "evalue": "'function' object is not subscriptable",
     "output_type": "error",
     "traceback": [
      "\u001b[1;31m---------------------------------------------------------------------------\u001b[0m",
      "\u001b[1;31mTypeError\u001b[0m                                 Traceback (most recent call last)",
      "Cell \u001b[1;32mIn[5], line 1\u001b[0m\n\u001b[1;32m----> 1\u001b[0m epsilon \u001b[38;5;241m=\u001b[39m \u001b[43mmat\u001b[49m\u001b[43m[\u001b[49m\u001b[38;5;124;43m'\u001b[39;49m\u001b[38;5;124;43mepsilon\u001b[39;49m\u001b[38;5;124;43m'\u001b[39;49m\u001b[43m]\u001b[49m\n\u001b[0;32m      2\u001b[0m slope_epsilon \u001b[38;5;241m=\u001b[39m mat[\u001b[38;5;124m'\u001b[39m\u001b[38;5;124mslope_epsilon\u001b[39m\u001b[38;5;124m'\u001b[39m]\n\u001b[0;32m      3\u001b[0m freq_y \u001b[38;5;241m=\u001b[39m mat[\u001b[38;5;124m'\u001b[39m\u001b[38;5;124mfreq_y\u001b[39m\u001b[38;5;124m'\u001b[39m]\n",
      "\u001b[1;31mTypeError\u001b[0m: 'function' object is not subscriptable"
     ]
    }
   ],
   "source": [
    "epsilon = mat['epsilon']\n",
    "slope_epsilon = mat['slope_epsilon']\n",
    "freq_y = mat['freq_y']\n",
    "slope_fft = mat['slope_fft']\n",
    "err = mat['err']\n",
    "epsilon = mat['epsilon']\n",
    "att_err = np.arange(0,20)\n",
    "f_res4 = mat['f_res4'][0]\n",
    "fft_fr = mat['fft_fr'][0]\n",
    "XY = mat['XY'][0]\n",
    "\n",
    "slope = mat['slope'][0]\n",
    "pha_sweep = mat['pha_sweep'][0]\n"
   ]
  },
  {
   "cell_type": "code",
   "execution_count": 6,
   "id": "7b90e6a0",
   "metadata": {},
   "outputs": [
    {
     "ename": "NameError",
     "evalue": "name 'freq_y' is not defined",
     "output_type": "error",
     "traceback": [
      "\u001b[1;31m---------------------------------------------------------------------------\u001b[0m",
      "\u001b[1;31mNameError\u001b[0m                                 Traceback (most recent call last)",
      "Cell \u001b[1;32mIn[6], line 38\u001b[0m\n\u001b[0;32m     36\u001b[0m slopes_ff \u001b[38;5;241m=\u001b[39m np\u001b[38;5;241m.\u001b[39marray([])\n\u001b[0;32m     37\u001b[0m b_ff \u001b[38;5;241m=\u001b[39m np\u001b[38;5;241m.\u001b[39marray([])\n\u001b[1;32m---> 38\u001b[0m d \u001b[38;5;241m=\u001b[39m ((\u001b[43mfreq_y\u001b[49m\u001b[38;5;241m-\u001b[39mf_res4)\u001b[38;5;241m*\u001b[39m\u001b[38;5;241m1000\u001b[39m)[\u001b[38;5;241m0\u001b[39m]\n\u001b[0;32m     40\u001b[0m cmap \u001b[38;5;241m=\u001b[39m plt\u001b[38;5;241m.\u001b[39mget_cmap(\u001b[38;5;124m'\u001b[39m\u001b[38;5;124mjet_r\u001b[39m\u001b[38;5;124m'\u001b[39m)\n\u001b[0;32m     41\u001b[0m x \u001b[38;5;241m=\u001b[39m np\u001b[38;5;241m.\u001b[39mlinspace(\u001b[38;5;241m0\u001b[39m, \u001b[38;5;241m1\u001b[39m, \u001b[38;5;28mint\u001b[39m(\u001b[38;5;28mlen\u001b[39m(att_err)))\n",
      "\u001b[1;31mNameError\u001b[0m: name 'freq_y' is not defined"
     ]
    }
   ],
   "source": [
    "%matplotlib qt\n",
    "fig, ax = plt.subplots(2, 4, figsize=(25,13))\n",
    "plt.rcParams['axes.facecolor'] = 'white'\n",
    "ax[0,0].set_title('Error function')\n",
    "ax[0,1].set_title('Slopes of e')\n",
    "ax[1,0].set_title('Raw noise spectrum')\n",
    "ax[1,1].set_title('Noise spectrum')\n",
    "ax[1,2].set_title('Slopes of noise')\n",
    "ax[0,2].set_title('Phases')\n",
    "ax[1,3].set_title('b offset in fft fit')\n",
    "ax[0,3].set_title('Input_pow')\n",
    "# ax[0,2].set_yscale('log', base=10,)\n",
    "ax[0,1].set_yscale('log', base=10,)\n",
    "\n",
    "ax[0,0].set_xlabel('freq offset')\n",
    "ax[0,1].set_xlabel('Attenuation')\n",
    "ax[0,2].set_xlabel('Attenuation')\n",
    "ax[0,3].set_xlabel('Attenuation')\n",
    "\n",
    "ax[1,2].set_xlabel('Attenuation')\n",
    "ax[1,3].set_xlabel('Attenuation')\n",
    "\n",
    "# ax[1,1].set_yscale('log', base=10,)\n",
    "ax[0,2].grid()\n",
    "ax[0,1].grid()\n",
    "ax[0,0].grid()\n",
    "ax[1,1].grid()\n",
    "ax[1,0].grid()\n",
    "ax[1,2].grid()\n",
    "ax[0,3].grid()\n",
    "ax[1,3].grid()\n",
    "\n",
    "start = 2\n",
    "stop = -1\n",
    "slopes_a = np.array([])\n",
    "slopes_ff = np.array([])\n",
    "b_ff = np.array([])\n",
    "d = ((freq_y-f_res4)*1000)[0]\n",
    "\n",
    "cmap = plt.get_cmap('jet_r')\n",
    "x = np.linspace(0, 1, int(len(att_err)))\n",
    "colors = cmap(x)\n",
    "\n",
    "for i in range(len(att_err)):\n",
    "    ax[0,0].plot(d, epsilon[:,i], color = colors[i], label = '-{} db'.format(att_err[i]))\n",
    "    \n",
    "    a, b = linear_fit(d[start:stop], epsilon[start:stop, i])\n",
    "    slopes_a = np.append(slopes_a, a)\n",
    "    ax[0,0].plot(d[start:stop], linear_func(d[start:stop], a, b), 'b', ':',  linewidth = 1, alpha = 0.7)\n",
    "    \n",
    "    c = slopes_a[i]**2\n",
    "    c1 = -2*np.log10(abs(slopes_a[i]))\n",
    "    fft_pow = err[:,i]/10+c1\n",
    "    \n",
    "    ax[1,0].plot(np.log10(fft_fr[1:]), err[1:,i],  color = colors[i], label = '-{} db'.format(att_err[i]))\n",
    "    \n",
    "    ax[1,1].plot(np.log10(fft_fr[1:]), fft_pow[1:], color = colors[i],  label = '-{} db'.format(att_err[i]))\n",
    "    \n",
    "    sta = 2\n",
    "    sto = 50\n",
    "    a, b = linear_fit(np.log10(fft_fr[sta:-sto]), fft_pow[sta:-sto])\n",
    "    slopes_ff = np.append(slopes_ff, a)\n",
    "    b_ff = np.append(b_ff, b)\n",
    "    ax[1,1].plot(np.log10(fft_fr[sta:-sto]), linear_func(np.log10(fft_fr[sta:-sto]), a, b), 'b', ':',  linewidth = 1, alpha = 0.7)\n",
    "\n",
    "\n",
    "ax[0,1].plot(np.arange(0,len(slopes_a)), abs(slopes_a/10))\n",
    "\n",
    "ax[0,2].plot(np.arange(0,len(slope)), pha_sweep)\n",
    "\n",
    "\n",
    "ax[1,3].plot(np.arange(0,len(slope)), abs(b_ff/10))\n",
    "ax[0,3].plot(np.arange(0,len(slope)), XY)\n",
    "\n",
    "ax[1,2].plot(np.arange(0,len(att_err[:-1])), slopes_ff[:-1])\n",
    "# a, b = linear_fit(20-att_err[:-1],  slopes_ff[:-1])\n",
    "# ax[1,2].plot(20-att_err[:-1],linear_func(20-att_err[:-1], a, b), label = 'Fit: a={}'.format(np.round(a,4)))\n",
    "ax[1,2].legend()\n",
    "\n",
    "# ax[0,0].set_ylim(-1e-3, 1e-3)"
   ]
  },
  {
   "cell_type": "code",
   "execution_count": null,
   "id": "9bed633f",
   "metadata": {},
   "outputs": [],
   "source": []
  }
 ],
 "metadata": {
  "kernelspec": {
   "display_name": "Python 3 (ipykernel)",
   "language": "python",
   "name": "python3"
  },
  "language_info": {
   "codemirror_mode": {
    "name": "ipython",
    "version": 3
   },
   "file_extension": ".py",
   "mimetype": "text/x-python",
   "name": "python",
   "nbconvert_exporter": "python",
   "pygments_lexer": "ipython3",
   "version": "3.9.12"
  }
 },
 "nbformat": 4,
 "nbformat_minor": 5
}
