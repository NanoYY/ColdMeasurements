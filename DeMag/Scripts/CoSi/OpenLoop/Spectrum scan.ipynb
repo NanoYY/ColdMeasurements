{
 "cells": [
  {
   "cell_type": "code",
   "execution_count": 1,
   "id": "7c0ac7b7",
   "metadata": {},
   "outputs": [
    {
     "name": "stderr",
     "output_type": "stream",
     "text": [
      "C:\\Users\\Demag\\anaconda3\\lib\\site-packages\\scipy\\__init__.py:146: UserWarning: A NumPy version >=1.16.5 and <1.23.0 is required for this version of SciPy (detected version 1.26.1\n",
      "  warnings.warn(f\"A NumPy version >={np_minversion} and <{np_maxversion}\"\n"
     ]
    }
   ],
   "source": [
    "import pyvisa\n",
    "\n",
    "import matplotlib.pyplot as plt\n",
    "import matplotlib\n",
    "%matplotlib qt\n",
    "\n",
    "import numpy as np\n",
    "from numpy import *\n",
    "from scipy.fft import fft, ifft, fftshift\n",
    "from scipy.io import savemat\n",
    "from datetime import datetime, timedelta\n",
    "import time\n"
   ]
  },
  {
   "cell_type": "code",
   "execution_count": 4,
   "id": "8ff322ab",
   "metadata": {},
   "outputs": [],
   "source": [
    "def setup_anri():\n",
    "    try: print(anri.query('*IDN?'))\n",
    "    except: \n",
    "        rm = pyvisa.ResourceManager()\n",
    "        anri = rm.open_resource('GPIB0::18::INSTR') # GPIB connection\n",
    "        print(anri.query('*IDN?'))\n",
    "    return anri\n",
    "\n",
    "\n",
    "def anri_set_cent_freq(freq): \n",
    "    anri.write('FREQ:CENT {}'.format(str(freq)))\n",
    "    \n",
    "def anri_set_span(span): \n",
    "    anri.write('FREQ:SPAN {}'.format(str(span)))\n",
    "    \n",
    "def anri_set_band_kHz(band): \n",
    "    anri.write('BAND {}KHZ'.format(str(band)))\n",
    "\n",
    "def anri_set_band_Hz(band): \n",
    "    anri.write('BAND {}HZ'.format(str(band)))\n",
    "    \n",
    "def anri_set_nop(nop):\n",
    "    # max 10001\n",
    "    anri.write('SWEep:POINts {}'.format(str(nop)))\n",
    "    \n",
    "    \n",
    "def anri_get_nop():\n",
    "    return int(anri.query('SWEep:POINts?'))\n",
    "\n",
    "def anri_get_sweep_time():\n",
    "    return float(anri.query('SWEep:TIME?'))\n",
    "\n",
    "def sweep_mode_cont():\n",
    "    anri.write('INIT:MODE:CONT')\n",
    "\n",
    "def sweep_mode_sing():\n",
    "    anri.write('INIT:MODE:SING')\n",
    "\n",
    "def anri_get_data():\n",
    "    anri.write('INIT:IMM')\n",
    "    time.sleep(20+float(anri.query('SWEep:TIME?')))\n",
    "    raw_data = anri.query('TRAC? TRAC1')\n",
    "    data = np.array(raw_data.split(','), dtype = float)\n",
    "    return data"
   ]
  },
  {
   "cell_type": "code",
   "execution_count": 5,
   "id": "e53f6980",
   "metadata": {},
   "outputs": [
    {
     "name": "stdout",
     "output_type": "stream",
     "text": [
      "ANRITSU,MS2830A,6200847105,4.09.01\r\n",
      "\n"
     ]
    }
   ],
   "source": [
    "anri = setup_anri()"
   ]
  },
  {
   "cell_type": "code",
   "execution_count": 6,
   "id": "cf768bad",
   "metadata": {},
   "outputs": [],
   "source": [
    "data = anri_get_data()"
   ]
  },
  {
   "cell_type": "code",
   "execution_count": 7,
   "id": "f8d8f23a",
   "metadata": {},
   "outputs": [
    {
     "data": {
      "text/plain": [
       "[<matplotlib.lines.Line2D at 0x20c93e97340>]"
      ]
     },
     "execution_count": 7,
     "metadata": {},
     "output_type": "execute_result"
    }
   ],
   "source": [
    "plt.plot(data)"
   ]
  },
  {
   "cell_type": "code",
   "execution_count": null,
   "id": "0579ebaa",
   "metadata": {},
   "outputs": [],
   "source": [
    "now = datetime.now()  \n",
    "folder = r'C:\\Users\\Demag\\PycharmProjects\\ColdMeasurements\\DeMag\\DATA\\CoSi\\Open_loop'\n",
    "file = r'Spectrum'+ now.strftime(r'%H-%M-%S') + '.mat'\n",
    "file_name = folder +'\\\\' + file\n",
    "\n",
    "\n",
    "state=dict()\n",
    "\n",
    "state['data'] = data\n",
    "\n",
    "state['freq_y'] = freq_y\n",
    "state['anapico_pow'] = -20\n",
    "state['modulation_v'] = 270"
   ]
  }
 ],
 "metadata": {
  "kernelspec": {
   "display_name": "Python 3 (ipykernel)",
   "language": "python",
   "name": "python3"
  },
  "language_info": {
   "codemirror_mode": {
    "name": "ipython",
    "version": 3
   },
   "file_extension": ".py",
   "mimetype": "text/x-python",
   "name": "python",
   "nbconvert_exporter": "python",
   "pygments_lexer": "ipython3",
   "version": "3.9.12"
  }
 },
 "nbformat": 4,
 "nbformat_minor": 5
}
