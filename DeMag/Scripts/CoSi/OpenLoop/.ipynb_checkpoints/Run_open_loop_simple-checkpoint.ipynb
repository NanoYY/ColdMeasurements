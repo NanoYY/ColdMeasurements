{
 "cells": [
  {
   "cell_type": "code",
   "execution_count": 1,
   "id": "3e9ee49e",
   "metadata": {
    "execution": {
     "iopub.execute_input": "2024-02-09T12:03:23.523371Z",
     "iopub.status.busy": "2024-02-09T12:03:23.523371Z",
     "iopub.status.idle": "2024-02-09T12:03:24.316230Z",
     "shell.execute_reply": "2024-02-09T12:03:24.316230Z",
     "shell.execute_reply.started": "2024-02-09T12:03:23.523371Z"
    },
    "tags": []
   },
   "outputs": [
    {
     "name": "stderr",
     "output_type": "stream",
     "text": [
      "C:\\Users\\Demag\\anaconda3\\lib\\site-packages\\scipy\\__init__.py:146: UserWarning: A NumPy version >=1.16.5 and <1.23.0 is required for this version of SciPy (detected version 1.26.1\n",
      "  warnings.warn(f\"A NumPy version >={np_minversion} and <{np_maxversion}\"\n"
     ]
    }
   ],
   "source": [
    "from nanodrivers.non_visa_drivers.Dig_Attenuator import DigAtt\n",
    "from nanodrivers.visa_drivers.lockin import LOCKIN\n",
    "from nanodrivers.visa_drivers.FFT_SA import Din_SA\n",
    "from nanodrivers.visa_drivers.anapico import ANAPICO\n",
    "from nanodrivers.visa_drivers.dc import DC\n",
    "from nanodrivers.visa_drivers.vna import VNA\n",
    "from nanodrivers.visa_drivers.AWG import AWG\n",
    "import pyvisa\n",
    "\n",
    "#math\n",
    "import numpy as np\n",
    "from numpy import *\n",
    "from scipy.optimize import curve_fit\n",
    "\n",
    "#plotting\n",
    "import matplotlib.pyplot as plt\n",
    "import matplotlib\n",
    "\n",
    "#matlab import\n",
    "import scipy.io\n",
    "from scipy.io import savemat\n",
    "\n",
    "#file_store\n",
    "import os\n",
    "import copy\n",
    "\n",
    "#time\n",
    "from datetime import datetime, timedelta\n",
    "import time\n",
    "\n",
    "from ctypes import *\n",
    "%matplotlib inline\n",
    "\n",
    "\n",
    "# Some general functions needed\n",
    "def linear_func(x, a, b):\n",
    "    return a * x + b\n",
    "\n",
    "def linear_fit(x, y):\n",
    "    popt, pcov = curve_fit(linear_func, x, y)\n",
    "    a = popt[0]\n",
    "    b = popt[1]\n",
    "    return a, b\n",
    "    \n",
    "def db2pow(db):\n",
    "    return 10*np.log10(db)"
   ]
  },
  {
   "cell_type": "markdown",
   "id": "673c1655",
   "metadata": {},
   "source": [
    "# Connect all devises\n",
    "After the section was run an object of device appears. After this all commands could be applied to this object if the way of Obj.command(args)"
   ]
  },
  {
   "cell_type": "code",
   "execution_count": 3,
   "id": "d1f373c2",
   "metadata": {},
   "outputs": [
    {
     "name": "stdout",
     "output_type": "stream",
     "text": [
      "Connection exist: Stanford_Research_Systems,SR785,s/n77318,ver220\n",
      "\n"
     ]
    }
   ],
   "source": [
    "dsa = Din_SA(device_address = 'GPIB0::24::INSTR')\n",
    "dsa.idn()"
   ]
  },
  {
   "cell_type": "code",
   "execution_count": 4,
   "id": "41841b84",
   "metadata": {},
   "outputs": [
    {
     "name": "stdout",
     "output_type": "stream",
     "text": [
      "Device returned an invalid responce: 1\n",
      "\n",
      "Device returned an invalid responce: 0\n",
      "\n",
      "Device returned an invalid responce: 5\n",
      "\n",
      "Connection exist: Stanford_Research_Systems,SR844,s/n48867,ver1.006\n",
      "\n"
     ]
    }
   ],
   "source": [
    "loking = LOCKIN(device_address = 'GPIB0::30::INSTR')\n",
    "loking.idn()"
   ]
  },
  {
   "cell_type": "code",
   "execution_count": 5,
   "id": "807f5aa0",
   "metadata": {
    "execution": {
     "iopub.execute_input": "2024-02-09T12:03:28.715117Z",
     "iopub.status.busy": "2024-02-09T12:03:28.714120Z",
     "iopub.status.idle": "2024-02-09T12:03:29.306298Z",
     "shell.execute_reply": "2024-02-09T12:03:29.305299Z",
     "shell.execute_reply.started": "2024-02-09T12:03:28.715117Z"
    }
   },
   "outputs": [
    {
     "name": "stdout",
     "output_type": "stream",
     "text": [
      "Connection exist: AnaPico AG,APMS20G,3C6-0B4F40003-0985,0.4.209\n",
      "\n"
     ]
    }
   ],
   "source": [
    "# The connection is established via LAN. So far I made it to drop connection after some time, but still sometimes\n",
    "# after kernell has been restarted AnaPico stays busy. To resolve it, one need to remove AnaPico from Ni MAX list\n",
    "# If it doesn't help, turn of output with application and power cycle the device. \n",
    "anapico = ANAPICO()\n",
    "anapico.idn()"
   ]
  },
  {
   "cell_type": "code",
   "execution_count": 5,
   "id": "26a22fec",
   "metadata": {},
   "outputs": [],
   "source": [
    "# anapico.close()"
   ]
  },
  {
   "cell_type": "code",
   "execution_count": 8,
   "id": "a9ca3538",
   "metadata": {},
   "outputs": [
    {
     "name": "stdout",
     "output_type": "stream",
     "text": [
      "Connection exist: HEWLETT-PACKARD,33120A,0,7.0-5.0-1.0\n",
      "\n"
     ]
    }
   ],
   "source": [
    "dc = DC()\n",
    "dc.idn()"
   ]
  },
  {
   "cell_type": "code",
   "execution_count": 7,
   "id": "91747d5f",
   "metadata": {},
   "outputs": [],
   "source": [
    "# vna = VNA('TCPIP0::169.254.36.111::inst0::INSTR')\n",
    "# vna.idn()"
   ]
  },
  {
   "cell_type": "code",
   "execution_count": 20,
   "id": "c275ca59",
   "metadata": {},
   "outputs": [
    {
     "data": {
      "text/plain": [
       "'Agilent Technologies,33510B,MY52200739,3.03-1.19-2.00-52-00\\n'"
      ]
     },
     "execution_count": 20,
     "metadata": {},
     "output_type": "execute_result"
    }
   ],
   "source": [
    "rm = pyvisa.ResourceManager()\n",
    "awg = rm.open_resource('GPIB0::12::INSTR')\n",
    "awg.query('*IDN?')"
   ]
  },
  {
   "cell_type": "code",
   "execution_count": 58,
   "id": "e68ee0ea",
   "metadata": {},
   "outputs": [
    {
     "data": {
      "text/plain": [
       "7.0"
      ]
     },
     "execution_count": 58,
     "metadata": {},
     "output_type": "execute_result"
    }
   ],
   "source": [
    "dc.query('VOLT:OFFS?')\n",
    "awg.query('OUTP1?')\n",
    "loking.get_sensitivity()"
   ]
  },
  {
   "cell_type": "code",
   "execution_count": 6,
   "id": "ba234f92",
   "metadata": {},
   "outputs": [
    {
     "data": {
      "text/plain": [
       "0"
      ]
     },
     "execution_count": 6,
     "metadata": {},
     "output_type": "execute_result"
    }
   ],
   "source": [
    "DigAtt = DigAtt()\n",
    "DigAtt.set_att(6, 0)"
   ]
  },
  {
   "cell_type": "code",
   "execution_count": 7,
   "id": "4b35b33e",
   "metadata": {},
   "outputs": [
    {
     "data": {
      "text/plain": [
       "0"
      ]
     },
     "execution_count": 7,
     "metadata": {},
     "output_type": "execute_result"
    }
   ],
   "source": [
    "DigAtt.set_att(3.8, 0)"
   ]
  },
  {
   "cell_type": "markdown",
   "id": "b13133d9",
   "metadata": {},
   "source": [
    "# Base parameters"
   ]
  },
  {
   "cell_type": "code",
   "execution_count": 8,
   "id": "5f4570eb",
   "metadata": {},
   "outputs": [],
   "source": [
    "now = datetime.now()  \n",
    "state=dict()\n",
    "\n",
    "f_res4 = 3.80147\n",
    "state['f_res4'] = f_res4"
   ]
  },
  {
   "cell_type": "code",
   "execution_count": 11,
   "id": "0f2285fc",
   "metadata": {},
   "outputs": [
    {
     "ename": "NameError",
     "evalue": "name 'dc' is not defined",
     "output_type": "error",
     "traceback": [
      "\u001b[1;31m---------------------------------------------------------------------------\u001b[0m",
      "\u001b[1;31mNameError\u001b[0m                                 Traceback (most recent call last)",
      "Cell \u001b[1;32mIn[11], line 19\u001b[0m\n\u001b[0;32m     16\u001b[0m freq_best \u001b[38;5;241m=\u001b[39m \u001b[38;5;241m11.205\u001b[39m\u001b[38;5;241m*\u001b[39m\u001b[38;5;241m1e9\u001b[39m\n\u001b[0;32m     17\u001b[0m pow_best \u001b[38;5;241m=\u001b[39m \u001b[38;5;241m-\u001b[39m\u001b[38;5;241m11.25\u001b[39m\n\u001b[1;32m---> 19\u001b[0m \u001b[43mdc\u001b[49m\u001b[38;5;241m.\u001b[39mset_volt(dc_TWPA)\n\u001b[0;32m     20\u001b[0m \u001b[38;5;66;03m# anapico.set_freq(1, freq_best)\u001b[39;00m\n\u001b[0;32m     21\u001b[0m \u001b[38;5;66;03m# anapico.set_power(1, pow_best)\u001b[39;00m\n\u001b[0;32m     22\u001b[0m \u001b[38;5;66;03m# anapico.on(1)\u001b[39;00m\n\u001b[0;32m     24\u001b[0m state[\u001b[38;5;124m'\u001b[39m\u001b[38;5;124mTWPA_dc\u001b[39m\u001b[38;5;124m'\u001b[39m] \u001b[38;5;241m=\u001b[39m dc_TWPA\n",
      "\u001b[1;31mNameError\u001b[0m: name 'dc' is not defined"
     ]
    }
   ],
   "source": [
    "# Here I am trying to setup logging. So far didn't succeed much.\n",
    "\n",
    "state=dict()\n",
    "\n",
    "f_res4 = 3.80147\n",
    "state['f_res4'] = f_res4\n",
    "\n",
    "# loking state\n",
    "# state['time_const'] = loking.get_time_const()\n",
    "# state['Loking_sensitivity'] = loking.get_sensitivity()\n",
    "# state['Loking_input_impedance'] = loking.get_input_impedance()\n",
    "\n",
    "# TWPA\n",
    "TWPA_state = False\n",
    "dc_TWPA = 1.175               # must be positive\n",
    "freq_best = 11.205*1e9\n",
    "pow_best = -11.25\n",
    "\n",
    "dc.set_volt(dc_TWPA)\n",
    "# anapico.set_freq(1, freq_best)\n",
    "# anapico.set_power(1, pow_best)\n",
    "# anapico.on(1)\n",
    "\n",
    "state['TWPA_dc'] = dc_TWPA\n",
    "state['TWPA_freq_best'] = freq_best\n",
    "state['TWPA_pow_best'] = pow_best\n",
    "\n",
    "# anapico.off(2)\n",
    "# anapico.off(3)\n",
    "# anapico.off(4)\n",
    "\n",
    "\n",
    "state['Comment'] = '1st BandPass filter in the output line'\n",
    "\n",
    "log_folder = r'C:\\Users\\Demag\\PycharmProjects\\ColdMeasurements\\DeMag\\DATA\\CoSi\\Open_loop\\logs'\n",
    "file = r'log_state_'+ now.strftime(r'%H-%M-%S') + '.mat'\n",
    "file_name = log_folder +'\\\\' + file\n",
    "savemat(file_name, state)"
   ]
  },
  {
   "cell_type": "markdown",
   "id": "6a03b408",
   "metadata": {},
   "source": [
    "# Get single error function"
   ]
  },
  {
   "cell_type": "code",
   "execution_count": 12,
   "id": "ad9770bf",
   "metadata": {},
   "outputs": [
    {
     "data": {
      "text/plain": [
       "13"
      ]
     },
     "execution_count": 12,
     "metadata": {},
     "output_type": "execute_result"
    }
   ],
   "source": [
    "anapico.off(3)\n",
    "awg.write('OUTPUT1 OFF')"
   ]
  },
  {
   "cell_type": "code",
   "execution_count": 9,
   "id": "58a84fea",
   "metadata": {},
   "outputs": [],
   "source": [
    "def get_phase_guess():\n",
    "    '''\n",
    "    \n",
    "    This function is ment to find point where Y component is about 0. \n",
    "    It sweeps phase untill the Y sign doesn't change, then chenges step size and repeat it again.\n",
    "    \n",
    "    Returns: best_pha, loking.get_Y_data()\n",
    "    \n",
    "    '''\n",
    "\n",
    "    def find_min(d):\n",
    "        '''\n",
    "        \n",
    "        This function finds minimum of Y component\n",
    "        Args: \n",
    "            d: step of the phase while looking for minimum\n",
    "        \n",
    "        Returns: best_pha\n",
    "        \n",
    "        '''\n",
    "        \n",
    "        #     anapico.set_freq(3, f_res4*1e9)\n",
    "        \n",
    "        initial_phase = loking.get_phase()\n",
    "        i = 0\n",
    "        while abs(initial_phase)<0.005 and i<10:\n",
    "            i+=1\n",
    "            time.sleep(1)\n",
    "            initial_phase = loking.get_phase()\n",
    "        \n",
    "        current_phase = copy.deepcopy(initial_phase)\n",
    "        \n",
    "        t = loking.get_Y_data()\n",
    "        t = loking.get_Y_data()\n",
    "        initial_Y_guess = loking.get_Y_data()\n",
    "        current_Y_guess = loking.get_Y_data()\n",
    "        \n",
    "        \n",
    "        if initial_Y_guess>0: delta = d\n",
    "        else: delta = -d\n",
    "        \n",
    "        phases = np.array([])\n",
    "        y_phase_sweep = np.array([])\n",
    "        \n",
    "        i = 0\n",
    "        while np.sign(initial_Y_guess) == np.sign(current_Y_guess) and i<360:\n",
    "            i+=1\n",
    "            current_phase = current_phase+delta\n",
    "            loking.set_phase(np.round(current_phase,2))\n",
    "            phases = np.append(phases, current_phase)\n",
    "            current_Y_guess = loking.get_Y_data()\n",
    "            y_phase_sweep = np.append(y_phase_sweep, current_Y_guess)\n",
    "\n",
    "        y_phase_sweep_abs = abs(y_phase_sweep)     # finds abs of Y component so that min would be closest to 0\n",
    "        \n",
    "        if len(y_phase_sweep_abs)>1:\n",
    "            index = np.where(y_phase_sweep_abs==min(y_phase_sweep_abs))[0][0] # finds index of min element\n",
    "\n",
    "            best_pha = phases[index]    # gets corresponding phase\n",
    "            loking.set_phase(best_pha)  # sets this phsase to locking\n",
    "        else: \n",
    "            best_pha = initial_phase\n",
    "            loking.set_phase(best_pha)\n",
    "            \n",
    "        return best_pha\n",
    "    \n",
    "\n",
    "    \n",
    "    time.sleep(3)\n",
    "    best_pha = find_min(1)                   # Step is 1 deg\n",
    "    loking.set_phase(np.round(best_pha,2))\n",
    "    time.sleep(3)\n",
    "    best_pha = find_min(0.5)                 # Step is 0.5 deg\n",
    "    loking.set_phase(np.round(best_pha,2))\n",
    "    time.sleep(3)\n",
    "    best_pha = find_min(0.1)                 # Step is 0.1 deg\n",
    "    loking.set_phase(np.round(best_pha,2))\n",
    "    time.sleep(3)\n",
    "    best_pha = find_min(0.01)                # Step is 0.01 deg\n",
    "    loking.set_phase(np.round(best_pha,2))\n",
    "    time.sleep(3)\n",
    "    best_pha = find_min(0.01)                # Step is 0.01 deg\n",
    "    loking.set_phase(np.round(best_pha,2))\n",
    "    \n",
    "    return best_pha, loking.get_Y_data()\n",
    "\n",
    "        \n",
    "    \n",
    "def get_epsilon(offset, avg, nop,f_res):\n",
    "    '''\n",
    "    This function is meant to find epsilon  as function of frequency\n",
    "    \n",
    "    Args: \n",
    "        offset:       sets the frequency sweep range limits\n",
    "        avg:          number of sweep averaging\n",
    "        nop:          number of sweep points\n",
    "    Returns: \n",
    "        freq_y:       frequency range over which the epsilon sweep is made\n",
    "        epsilon_mean: averaged epsilon function \n",
    "        a, b:         fit parameters of the epsilon linear part\n",
    "        best_pha:     phase with 0 Y component\n",
    "        \n",
    "    '''\n",
    "    \n",
    "    freq_y = np.linspace(f_res-offset/1e6, f_res+offset/1e6, nop)  # sweep array\n",
    "    anapico.set_freq(2, f_res*1e9)\n",
    "    # best_pha, y = get_phase_guess() #find best phase\n",
    "    # best_pha, y = get_phase_guess() #find best phase\n",
    "    \n",
    "    epsilon1 = np.empty((len(freq_y), avg))\n",
    "    epsilon2 = np.empty((len(freq_y), avg)) \n",
    "    \n",
    "    for i in range (len(freq_y)):\n",
    "        anapico.set_freq(2, freq_y[i]*1e9)\n",
    "        time.sleep(0.25)\n",
    "        for j in range(avg): \n",
    "            time.sleep(0.05)\n",
    "            epsilon1[i,j] = loking.get_Y_data()\n",
    "            epsilon2[i,j] = loking.get_X_data()\n",
    "            \n",
    "    epsilon_mean1 = np.mean(epsilon1, axis=1)\n",
    "    epsilon_mean2 = np.mean(epsilon2, axis=1)\n",
    "    a, b = linear_fit(freq_y-f_res, epsilon_mean1)\n",
    "    c, d = linear_fit(freq_y-f_res, epsilon_mean2)\n",
    "    anapico.set_freq(2, f_res*1e9)\n",
    "    return freq_y, epsilon_mean1, epsilon_mean2, a, b, c, d"
   ]
  },
  {
   "cell_type": "markdown",
   "id": "54309700",
   "metadata": {},
   "source": [
    "# Get error function power sweep"
   ]
  },
  {
   "cell_type": "code",
   "execution_count": 90,
   "id": "90265b55",
   "metadata": {},
   "outputs": [
    {
     "data": {
      "text/plain": [
       "22"
      ]
     },
     "execution_count": 90,
     "metadata": {},
     "output_type": "execute_result"
    }
   ],
   "source": [
    "# Set input signals\n",
    "# %matplotlib qt\n",
    "anapico.set_freq(3, f_res4*1e9)        # channel 3, freq = f_res4 GHz\n",
    "anapow = 8\n",
    "anapico.set_power(3, anapow)           # channel 3, power = 0 db\n",
    "anapico.on(3)\n",
    "\n",
    "avg_volt = 87\n",
    "avg_f = 1.7315\n",
    "awg.write('SOURCE1:VOLT {}'.format(avg_volt*1e-3))\n",
    "awg.write('OUTPUT1 ON')\n",
    "awg.write(r'SOUR{}:FREQ {}'.format(str(1), str(avg_f*1e6)))"
   ]
  },
  {
   "cell_type": "code",
   "execution_count": 10,
   "id": "11e2e1ce",
   "metadata": {},
   "outputs": [],
   "source": [
    "DigAtt.set_att(f_res4, 0)\n",
    "loking.set_phase(-106.57)"
   ]
  },
  {
   "cell_type": "code",
   "execution_count": 11,
   "id": "66141078",
   "metadata": {},
   "outputs": [
    {
     "name": "stdout",
     "output_type": "stream",
     "text": [
      "[ 1.  2.  3.  4.  5.  6.  7.  8.  9. 10. 11. 12. 13. 14. 15. 16. 17. 18.\n",
      " 19. 20.]\n",
      "6.0\n",
      "7.0\n",
      "8.0\n",
      "9.0\n",
      "10.0\n"
     ]
    }
   ],
   "source": [
    "import numpy as np\n",
    "asd = np.linspace(1,20,20)\n",
    "IndexS = 5\n",
    "IndexE = 10\n",
    "print(asd)\n",
    "for i in range(IndexS,IndexE):\n",
    "    print(asd[i])"
   ]
  },
  {
   "cell_type": "code",
   "execution_count": 23,
   "id": "9e645496",
   "metadata": {},
   "outputs": [],
   "source": [
    "anapico.set_freq(2, 3.80147*1e9)"
   ]
  },
  {
   "cell_type": "code",
   "execution_count": 25,
   "id": "9ab9f5ee",
   "metadata": {},
   "outputs": [
    {
     "data": {
      "text/plain": [
       "0"
      ]
     },
     "execution_count": 25,
     "metadata": {},
     "output_type": "execute_result"
    }
   ],
   "source": [
    "DigAtt.set_att(f_res4, 0)"
   ]
  },
  {
   "cell_type": "code",
   "execution_count": 12,
   "id": "e8b5bcb1",
   "metadata": {
    "scrolled": true
   },
   "outputs": [
    {
     "name": "stdout",
     "output_type": "stream",
     "text": [
      "13-09-12: Att 0 db, detuning index 0\n",
      "Unable to connect device.\n",
      " VI_ERROR_TMO (-1073807339): Timeout expired before operation completed.\n",
      "Check that device is connected, visible in NI MAX and is not used by another software.\n"
     ]
    },
    {
     "ename": "ValueError",
     "evalue": "could not convert string to float: ''",
     "output_type": "error",
     "traceback": [
      "\u001b[1;31m---------------------------------------------------------------------------\u001b[0m",
      "\u001b[1;31mValueError\u001b[0m                                Traceback (most recent call last)",
      "Cell \u001b[1;32mIn[12], line 120\u001b[0m\n\u001b[0;32m    117\u001b[0m state[\u001b[38;5;124m'\u001b[39m\u001b[38;5;124mamplitude_epsilon2\u001b[39m\u001b[38;5;124m'\u001b[39m] \u001b[38;5;241m=\u001b[39m amplitude2\n\u001b[0;32m    119\u001b[0m \u001b[38;5;66;03m# get fft data with avg\u001b[39;00m\n\u001b[1;32m--> 120\u001b[0m fft \u001b[38;5;241m=\u001b[39m \u001b[43mdsa\u001b[49m\u001b[38;5;241;43m.\u001b[39;49m\u001b[43mread_d\u001b[49m\u001b[43m(\u001b[49m\u001b[43mavg\u001b[49m\u001b[38;5;241;43m=\u001b[39;49m\u001b[43mfft_avg\u001b[49m\u001b[43m)\u001b[49m \n\u001b[0;32m    121\u001b[0m err[:,at,j] \u001b[38;5;241m=\u001b[39m fft\n\u001b[0;32m    122\u001b[0m state[\u001b[38;5;124m'\u001b[39m\u001b[38;5;124merr\u001b[39m\u001b[38;5;124m'\u001b[39m] \u001b[38;5;241m=\u001b[39m err\n",
      "File \u001b[1;32mc:\\users\\demag\\pycharmprojects\\coldmeasurements\\nanodrivers\\nanodrivers\\visa_drivers\\FFT_SA.py:66\u001b[0m, in \u001b[0;36mDin_SA.read_d\u001b[1;34m(self, avg, d)\u001b[0m\n\u001b[0;32m     63\u001b[0m     rear_f \u001b[38;5;241m=\u001b[39m np\u001b[38;5;241m.\u001b[39marray(read_s\u001b[38;5;241m.\u001b[39msplit(\u001b[38;5;124m'\u001b[39m\u001b[38;5;124m,\u001b[39m\u001b[38;5;124m'\u001b[39m), dtype\u001b[38;5;241m=\u001b[39m\u001b[38;5;28mfloat\u001b[39m)\n\u001b[0;32m     64\u001b[0m     \u001b[38;5;28;01mreturn\u001b[39;00m rear_f\n\u001b[1;32m---> 66\u001b[0m fft_0 \u001b[38;5;241m=\u001b[39m \u001b[43mread_c\u001b[49m\u001b[43m(\u001b[49m\u001b[43m)\u001b[49m\n\u001b[0;32m     67\u001b[0m \u001b[38;5;28;01mfor\u001b[39;00m i \u001b[38;5;129;01min\u001b[39;00m \u001b[38;5;28mrange\u001b[39m(avg \u001b[38;5;241m-\u001b[39m \u001b[38;5;241m1\u001b[39m):\n\u001b[0;32m     68\u001b[0m     fft_0 \u001b[38;5;241m+\u001b[39m\u001b[38;5;241m=\u001b[39m read_c()\n",
      "File \u001b[1;32mc:\\users\\demag\\pycharmprojects\\coldmeasurements\\nanodrivers\\nanodrivers\\visa_drivers\\FFT_SA.py:63\u001b[0m, in \u001b[0;36mDin_SA.read_d.<locals>.read_c\u001b[1;34m()\u001b[0m\n\u001b[0;32m     61\u001b[0m time\u001b[38;5;241m.\u001b[39msleep(\u001b[38;5;241m35\u001b[39m \u001b[38;5;241m+\u001b[39m \u001b[38;5;241m0.5\u001b[39m)\n\u001b[0;32m     62\u001b[0m read_s \u001b[38;5;241m=\u001b[39m \u001b[38;5;28mself\u001b[39m\u001b[38;5;241m.\u001b[39mquery(\u001b[38;5;124m'\u001b[39m\u001b[38;5;124mDSPY? \u001b[39m\u001b[38;5;132;01m{}\u001b[39;00m\u001b[38;5;124m'\u001b[39m\u001b[38;5;241m.\u001b[39mformat(\u001b[38;5;28mint\u001b[39m(d)))\n\u001b[1;32m---> 63\u001b[0m rear_f \u001b[38;5;241m=\u001b[39m \u001b[43mnp\u001b[49m\u001b[38;5;241;43m.\u001b[39;49m\u001b[43marray\u001b[49m\u001b[43m(\u001b[49m\u001b[43mread_s\u001b[49m\u001b[38;5;241;43m.\u001b[39;49m\u001b[43msplit\u001b[49m\u001b[43m(\u001b[49m\u001b[38;5;124;43m'\u001b[39;49m\u001b[38;5;124;43m,\u001b[39;49m\u001b[38;5;124;43m'\u001b[39;49m\u001b[43m)\u001b[49m\u001b[43m,\u001b[49m\u001b[43m \u001b[49m\u001b[43mdtype\u001b[49m\u001b[38;5;241;43m=\u001b[39;49m\u001b[38;5;28;43mfloat\u001b[39;49m\u001b[43m)\u001b[49m\n\u001b[0;32m     64\u001b[0m \u001b[38;5;28;01mreturn\u001b[39;00m rear_f\n",
      "\u001b[1;31mValueError\u001b[0m: could not convert string to float: ''"
     ]
    },
    {
     "data": {
      "image/png": "[encoded data removed]",
      "text/plain": [
       "<Figure size 1440x1080 with 6 Axes>"
      ]
     },
     "metadata": {
      "needs_background": "light"
     },
     "output_type": "display_data"
    }
   ],
   "source": [
    "fig, ax = plt.subplots(2, 3, figsize=(20,15))\n",
    "ax[0,0].set_title('Error function')\n",
    "ax[0,1].set_title('Slopes of e')\n",
    "ax[0,2].set_title('Phases')\n",
    "\n",
    "ax[1,0].set_title('Noise spectrum')\n",
    "ax[1,1].set_title('Slopes of noise')\n",
    "ax[1,2].set_title('Input power')\n",
    "ax[0,0].grid()\n",
    "ax[0,1].grid()\n",
    "ax[0,2].grid()\n",
    "ax[1,0].grid()\n",
    "ax[1,1].grid()\n",
    "ax[1,2].grid()\n",
    "\n",
    "\n",
    "now = datetime.now()  \n",
    "folder = r'C:\\Users\\Demag\\PycharmProjects\\ColdMeasurements\\DeMag\\DATA\\CoSi2_Shield\\Open_loop\\error_func\\without_TWPA'\n",
    "file = r'No_Cavity_Y_ErrPsw_0to10_'+ now.strftime(r'%H-%M-%S') + '.mat'\n",
    "file_name = folder +'\\\\' + file\n",
    "\n",
    "file_d = r'Y_ErrPsw_0to20_DUPLICATE_'+ now.strftime(r'%H-%M-%S') + '.mat'\n",
    "file_name_d = folder +'\\\\' + file_d\n",
    "\n",
    "# Attenuation\n",
    "att_err = np.arange(0,1)  # Attenuation values. Seems like nothing to measure above 15 db\n",
    "detuning = np.array([0])\n",
    "\n",
    "# Epsilon function\n",
    "offset = 100\n",
    "avg = 1 # 50\n",
    "nop = 201\n",
    "epsilon1 = np.empty((nop,len(att_err),len(detuning)))\n",
    "epsilon2 = np.empty((nop,len(att_err),len(detuning)))\n",
    "slope1 = np.empty((len(att_err),len(detuning)))\n",
    "amplitude1 = np.empty((len(att_err),len(detuning)))\n",
    "slope2 = np.empty((len(att_err),len(detuning)))\n",
    "amplitude2 = np.empty((len(att_err),len(detuning)))\n",
    "pha_sweep = np.empty((len(att_err),len(detuning)))\n",
    "\n",
    "# Noise function\n",
    "fft_avg = 1 #100\n",
    "fft_fr = dsa.get_freq(lines=800)\n",
    "err = np.empty((len(fft_fr),len(att_err),len(detuning)))\n",
    "slope_fft = np.empty((len(att_err),len(detuning)))\n",
    "amplitude_fft = np.empty((len(att_err),len(detuning)))\n",
    "\n",
    "gain = 10/(10e-3)\n",
    "\n",
    "# Input power \n",
    "XY = np.empty((len(att_err),len(detuning)))\n",
    "\n",
    "state=dict()\n",
    "state['temp'] = 8.4\n",
    "state['Gain'] = gain\n",
    "\n",
    "state['att_err'] = att_err\n",
    "state['epsilon1'] = epsilon1\n",
    "state['epsilon2'] = epsilon2\n",
    "state['slope_epsilon1'] = slope1\n",
    "state['amplitude_epsilon1'] = amplitude1\n",
    "state['slope_epsilon2'] = slope2\n",
    "state['amplitude_epsilon2'] = amplitude2\n",
    "state['pha_sweep'] = pha_sweep\n",
    "state['att_err'] = att_err\n",
    "\n",
    "state['f_res4'] = f_res4\n",
    "\n",
    "state['fft_avg'] = fft_avg\n",
    "state['avg'] = avg\n",
    "state['fft_fr'] = fft_fr\n",
    "state['slope_fft'] = slope_fft\n",
    "state['amplitude_fft'] = amplitude_fft\n",
    "\n",
    "state['comment'] = 'CoSi 10 nm #4. X component zero. TWPA off'\n",
    "\n",
    "for j in range(len(detuning)): \n",
    "    for at in range(len(att_err)): \n",
    "        f_res = f_res4+detuning[j]\n",
    "        anapico.set_freq(2, f_res*1e9)\n",
    "        DigAtt.set_att(f_res, att_err[at]) # sets new attenuation\n",
    "        print(datetime.now().strftime(r'%H-%M-%S:'), 'Att', att_err[at], 'db, detuning index', att_err[j])\n",
    "        time.sleep(15) # wait until power would stabilize (at least 15 sec recommended)\n",
    "\n",
    "        #get total input power \n",
    "        X0 = loking.get_X_data()\n",
    "        X0 = loking.get_X_data()\n",
    "        X0 = loking.get_X_data()\n",
    "        Y0 = loking.get_Y_data()\n",
    "        Y0 = loking.get_Y_data()\n",
    "        Y0 = loking.get_Y_data()\n",
    "        XY[at,j] = np.sqrt(X0**2+Y0**2)\n",
    "        state['XY'] = XY\n",
    "\n",
    "        # get epsilon sweep\n",
    "        freq_y, epsilon_mean1, epsilon_mean2, a, b, c, d = get_epsilon(offset,avg,nop,f_res) # ret error function and slope (a)\n",
    "        anapico.set_freq(2, f_res*1e9)\n",
    "        # loking.set_phase(np.round(best_pha,2))\n",
    "\n",
    "        # pha_sweep[at,j] = best_pha\n",
    "\n",
    "        epsilon1[:,at,j] = epsilon_mean1\n",
    "        epsilon2[:,at,j] = epsilon_mean2\n",
    "\n",
    "        slope1[at,j] = a\n",
    "        amplitude1[at,j] = b\n",
    "        slope2[at,j] = c\n",
    "        amplitude2[at,j] = d\n",
    "\n",
    "        state['freq_y'] = freq_y\n",
    "        state['pha_sweep'] = pha_sweep\n",
    "        state['epsilon1'] = epsilon1\n",
    "        state['epsilon2'] = epsilon2\n",
    "        state['slope_epsilon1'] = slope1\n",
    "        state['amplitude_epsilon1'] = amplitude1\n",
    "        state['slope_epsilon2'] = slope2\n",
    "        state['amplitude_epsilon2'] = amplitude2\n",
    "\n",
    "        # get fft data with avg\n",
    "        fft = dsa.read_d(avg=fft_avg) \n",
    "        err[:,at,j] = fft\n",
    "        state['err'] = err\n",
    "\n",
    "        start_fft = 4    # skip first start_fft points for fitting\n",
    "        stop_fft = -30   # skip last stop_fft points for fitting\n",
    "        a, b = linear_fit(fft_fr[start_fft:stop_fft], fft[start_fft:stop_fft])\n",
    "        slope_fft[at,j] = a\n",
    "        amplitude_fft[at,j] = b\n",
    "        state['slope_fft'] = slope_fft\n",
    "        state['amplitude_fft'] = amplitude_fft\n",
    "        \n",
    "        ax[0,0].plot((freq_y[1:]-f_res)*1000, epsilon_mean1[1:], label = '-{} db'.format(at))\n",
    "        ax[1,0].plot((freq_y[1:]-f_res)*1000, epsilon_mean2[1:], label = '-{} db'.format(at))\n",
    "\n",
    "        savemat(file_name, state)\n",
    "        savemat(file_name_d, state)\n",
    "    \n",
    "print(datetime.now().strftime(r'%H-%M-%S:'), 'Measurement done!')\n",
    "    \n",
    "ax[0,1].plot(np.arange(0,len(att_err)), np.log10(abs(slope1/10)))\n",
    "ax[0,2].plot(np.arange(0,len(att_err)), np.log10(abs(slope2/10)))\n",
    "ax[1,1].plot(np.arange(0,len(att_err)), np.log10(abs(slope_fft/10)))\n",
    "ax[1,2].plot(np.arange(0,len(att_err)), np.log10(abs(XY/10)))\n",
    "ax[0,0].legend()"
   ]
  },
  {
   "cell_type": "code",
   "execution_count": 53,
   "id": "ad6f4dd0",
   "metadata": {},
   "outputs": [
    {
     "ename": "ValueError",
     "evalue": "operands could not be broadcast together with shapes (199,) (199,4) ",
     "output_type": "error",
     "traceback": [
      "\u001b[1;31m---------------------------------------------------------------------------\u001b[0m",
      "\u001b[1;31mValueError\u001b[0m                                Traceback (most recent call last)",
      "Cell \u001b[1;32mIn[53], line 25\u001b[0m\n\u001b[0;32m     21\u001b[0m \u001b[38;5;28;01mfor\u001b[39;00m i \u001b[38;5;129;01min\u001b[39;00m \u001b[38;5;28mrange\u001b[39m(\u001b[38;5;28mlen\u001b[39m(att_err)):\n\u001b[0;32m     23\u001b[0m     ax[\u001b[38;5;241m0\u001b[39m,\u001b[38;5;241m0\u001b[39m]\u001b[38;5;241m.\u001b[39mplot((freq_y[\u001b[38;5;241m1\u001b[39m:]\u001b[38;5;241m-\u001b[39mf_res4)\u001b[38;5;241m*\u001b[39m\u001b[38;5;241m1000\u001b[39m, epsilon[\u001b[38;5;241m1\u001b[39m:, i], label \u001b[38;5;241m=\u001b[39m \u001b[38;5;124m'\u001b[39m\u001b[38;5;124m-\u001b[39m\u001b[38;5;132;01m{}\u001b[39;00m\u001b[38;5;124m db\u001b[39m\u001b[38;5;124m'\u001b[39m\u001b[38;5;241m.\u001b[39mformat(att_err[i]))\n\u001b[1;32m---> 25\u001b[0m     a, b \u001b[38;5;241m=\u001b[39m \u001b[43mlinear_fit\u001b[49m\u001b[43m(\u001b[49m\u001b[43m(\u001b[49m\u001b[43m(\u001b[49m\u001b[43mfreq_y\u001b[49m\u001b[38;5;241;43m-\u001b[39;49m\u001b[43mf_res4\u001b[49m\u001b[43m)\u001b[49m\u001b[38;5;241;43m*\u001b[39;49m\u001b[38;5;241;43m1000\u001b[39;49m\u001b[43m)\u001b[49m\u001b[43m[\u001b[49m\u001b[43mstart\u001b[49m\u001b[43m:\u001b[49m\u001b[43mstop\u001b[49m\u001b[43m]\u001b[49m\u001b[43m,\u001b[49m\u001b[43m \u001b[49m\u001b[43mepsilon\u001b[49m\u001b[43m[\u001b[49m\u001b[43mstart\u001b[49m\u001b[43m:\u001b[49m\u001b[43mstop\u001b[49m\u001b[43m,\u001b[49m\u001b[43m \u001b[49m\u001b[43mi\u001b[49m\u001b[43m]\u001b[49m\u001b[43m)\u001b[49m\n\u001b[0;32m     26\u001b[0m     slopes_a \u001b[38;5;241m=\u001b[39m np\u001b[38;5;241m.\u001b[39mappend(slopes_a, a)\n\u001b[0;32m     27\u001b[0m \u001b[38;5;66;03m#     ax[0,0].plot(((freq_y-f_res4)*1000)[start:stop], linear_func(d[start:stop], a, b), 'b')\u001b[39;00m\n",
      "Cell \u001b[1;32mIn[1], line 40\u001b[0m, in \u001b[0;36mlinear_fit\u001b[1;34m(x, y)\u001b[0m\n\u001b[0;32m     39\u001b[0m \u001b[38;5;28;01mdef\u001b[39;00m \u001b[38;5;21mlinear_fit\u001b[39m(x, y):\n\u001b[1;32m---> 40\u001b[0m     popt, pcov \u001b[38;5;241m=\u001b[39m \u001b[43mcurve_fit\u001b[49m\u001b[43m(\u001b[49m\u001b[43mlinear_func\u001b[49m\u001b[43m,\u001b[49m\u001b[43m \u001b[49m\u001b[43mx\u001b[49m\u001b[43m,\u001b[49m\u001b[43m \u001b[49m\u001b[43my\u001b[49m\u001b[43m)\u001b[49m\n\u001b[0;32m     41\u001b[0m     a \u001b[38;5;241m=\u001b[39m popt[\u001b[38;5;241m0\u001b[39m]\n\u001b[0;32m     42\u001b[0m     b \u001b[38;5;241m=\u001b[39m popt[\u001b[38;5;241m1\u001b[39m]\n",
      "File \u001b[1;32m~\\anaconda3\\lib\\site-packages\\scipy\\optimize\\minpack.py:789\u001b[0m, in \u001b[0;36mcurve_fit\u001b[1;34m(f, xdata, ydata, p0, sigma, absolute_sigma, check_finite, bounds, method, jac, **kwargs)\u001b[0m\n\u001b[0;32m    787\u001b[0m \u001b[38;5;66;03m# Remove full_output from kwargs, otherwise we're passing it in twice.\u001b[39;00m\n\u001b[0;32m    788\u001b[0m return_full \u001b[38;5;241m=\u001b[39m kwargs\u001b[38;5;241m.\u001b[39mpop(\u001b[38;5;124m'\u001b[39m\u001b[38;5;124mfull_output\u001b[39m\u001b[38;5;124m'\u001b[39m, \u001b[38;5;28;01mFalse\u001b[39;00m)\n\u001b[1;32m--> 789\u001b[0m res \u001b[38;5;241m=\u001b[39m leastsq(func, p0, Dfun\u001b[38;5;241m=\u001b[39mjac, full_output\u001b[38;5;241m=\u001b[39m\u001b[38;5;241m1\u001b[39m, \u001b[38;5;241m*\u001b[39m\u001b[38;5;241m*\u001b[39mkwargs)\n\u001b[0;32m    790\u001b[0m popt, pcov, infodict, errmsg, ier \u001b[38;5;241m=\u001b[39m res\n\u001b[0;32m    791\u001b[0m ysize \u001b[38;5;241m=\u001b[39m \u001b[38;5;28mlen\u001b[39m(infodict[\u001b[38;5;124m'\u001b[39m\u001b[38;5;124mfvec\u001b[39m\u001b[38;5;124m'\u001b[39m])\n",
      "File \u001b[1;32m~\\anaconda3\\lib\\site-packages\\scipy\\optimize\\minpack.py:410\u001b[0m, in \u001b[0;36mleastsq\u001b[1;34m(func, x0, args, Dfun, full_output, col_deriv, ftol, xtol, gtol, maxfev, epsfcn, factor, diag)\u001b[0m\n\u001b[0;32m    408\u001b[0m \u001b[38;5;28;01mif\u001b[39;00m \u001b[38;5;129;01mnot\u001b[39;00m \u001b[38;5;28misinstance\u001b[39m(args, \u001b[38;5;28mtuple\u001b[39m):\n\u001b[0;32m    409\u001b[0m     args \u001b[38;5;241m=\u001b[39m (args,)\n\u001b[1;32m--> 410\u001b[0m shape, dtype \u001b[38;5;241m=\u001b[39m \u001b[43m_check_func\u001b[49m\u001b[43m(\u001b[49m\u001b[38;5;124;43m'\u001b[39;49m\u001b[38;5;124;43mleastsq\u001b[39;49m\u001b[38;5;124;43m'\u001b[39;49m\u001b[43m,\u001b[49m\u001b[43m \u001b[49m\u001b[38;5;124;43m'\u001b[39;49m\u001b[38;5;124;43mfunc\u001b[39;49m\u001b[38;5;124;43m'\u001b[39;49m\u001b[43m,\u001b[49m\u001b[43m \u001b[49m\u001b[43mfunc\u001b[49m\u001b[43m,\u001b[49m\u001b[43m \u001b[49m\u001b[43mx0\u001b[49m\u001b[43m,\u001b[49m\u001b[43m \u001b[49m\u001b[43margs\u001b[49m\u001b[43m,\u001b[49m\u001b[43m \u001b[49m\u001b[43mn\u001b[49m\u001b[43m)\u001b[49m\n\u001b[0;32m    411\u001b[0m m \u001b[38;5;241m=\u001b[39m shape[\u001b[38;5;241m0\u001b[39m]\n\u001b[0;32m    413\u001b[0m \u001b[38;5;28;01mif\u001b[39;00m n \u001b[38;5;241m>\u001b[39m m:\n",
      "File \u001b[1;32m~\\anaconda3\\lib\\site-packages\\scipy\\optimize\\minpack.py:24\u001b[0m, in \u001b[0;36m_check_func\u001b[1;34m(checker, argname, thefunc, x0, args, numinputs, output_shape)\u001b[0m\n\u001b[0;32m     22\u001b[0m \u001b[38;5;28;01mdef\u001b[39;00m \u001b[38;5;21m_check_func\u001b[39m(checker, argname, thefunc, x0, args, numinputs,\n\u001b[0;32m     23\u001b[0m                 output_shape\u001b[38;5;241m=\u001b[39m\u001b[38;5;28;01mNone\u001b[39;00m):\n\u001b[1;32m---> 24\u001b[0m     res \u001b[38;5;241m=\u001b[39m atleast_1d(\u001b[43mthefunc\u001b[49m\u001b[43m(\u001b[49m\u001b[38;5;241;43m*\u001b[39;49m\u001b[43m(\u001b[49m\u001b[43m(\u001b[49m\u001b[43mx0\u001b[49m\u001b[43m[\u001b[49m\u001b[43m:\u001b[49m\u001b[43mnuminputs\u001b[49m\u001b[43m]\u001b[49m\u001b[43m,\u001b[49m\u001b[43m)\u001b[49m\u001b[43m \u001b[49m\u001b[38;5;241;43m+\u001b[39;49m\u001b[43m \u001b[49m\u001b[43margs\u001b[49m\u001b[43m)\u001b[49m\u001b[43m)\u001b[49m)\n\u001b[0;32m     25\u001b[0m     \u001b[38;5;28;01mif\u001b[39;00m (output_shape \u001b[38;5;129;01mis\u001b[39;00m \u001b[38;5;129;01mnot\u001b[39;00m \u001b[38;5;28;01mNone\u001b[39;00m) \u001b[38;5;129;01mand\u001b[39;00m (shape(res) \u001b[38;5;241m!=\u001b[39m output_shape):\n\u001b[0;32m     26\u001b[0m         \u001b[38;5;28;01mif\u001b[39;00m (output_shape[\u001b[38;5;241m0\u001b[39m] \u001b[38;5;241m!=\u001b[39m \u001b[38;5;241m1\u001b[39m):\n",
      "File \u001b[1;32m~\\anaconda3\\lib\\site-packages\\scipy\\optimize\\minpack.py:485\u001b[0m, in \u001b[0;36m_wrap_func.<locals>.func_wrapped\u001b[1;34m(params)\u001b[0m\n\u001b[0;32m    484\u001b[0m \u001b[38;5;28;01mdef\u001b[39;00m \u001b[38;5;21mfunc_wrapped\u001b[39m(params):\n\u001b[1;32m--> 485\u001b[0m     \u001b[38;5;28;01mreturn\u001b[39;00m \u001b[43mfunc\u001b[49m\u001b[43m(\u001b[49m\u001b[43mxdata\u001b[49m\u001b[43m,\u001b[49m\u001b[43m \u001b[49m\u001b[38;5;241;43m*\u001b[39;49m\u001b[43mparams\u001b[49m\u001b[43m)\u001b[49m\u001b[43m \u001b[49m\u001b[38;5;241;43m-\u001b[39;49m\u001b[43m \u001b[49m\u001b[43mydata\u001b[49m\n",
      "\u001b[1;31mValueError\u001b[0m: operands could not be broadcast together with shapes (199,) (199,4) "
     ]
    }
   ],
   "source": [
    "%matplotlib qt\n",
    "fig, ax = plt.subplots(2, 3, figsize=(20,12))\n",
    "ax[0,0].set_title('Error function')\n",
    "ax[0,1].set_title('Slopes of e')\n",
    "ax[1,0].set_title('Noise spectrum')\n",
    "ax[1,1].set_title('Slopes of noise')\n",
    "ax[0,2].set_title('Phases')\n",
    "ax[0,2].set_yscale('log', base=10,)\n",
    "ax[0,2].grid()\n",
    "ax[0,1].grid()\n",
    "ax[0,0].grid()\n",
    "ax[0,1].set_yscale('log', base=10,)\n",
    "# ax[1,1].set_yscale('log', base=10,)\n",
    "ax[1,1].grid()\n",
    "ax[1,0].grid()\n",
    "\n",
    "start = 0\n",
    "stop = -1\n",
    "slopes_a = np.array([])\n",
    "slopes_ff = np.array([])\n",
    "for i in range(len(att_err)):\n",
    "    \n",
    "    ax[0,0].plot((freq_y[1:]-f_res4)*1000, epsilon[1:, i], label = '-{} db'.format(att_err[i]))\n",
    "    \n",
    "    a, b = linear_fit(((freq_y-f_res4)*1000)[start:stop], epsilon[start:stop, i])\n",
    "    slopes_a = np.append(slopes_a, a)\n",
    "#     ax[0,0].plot(((freq_y-f_res4)*1000)[start:stop], linear_func(d[start:stop], a, b), 'b')\n",
    "    \n",
    "    \n",
    "    ax[1,0].plot(fft_fr[1:], err[1:,i], label = '-{} db'.format(att_err[i]))\n",
    "    a, b = linear_fit(fft_fr[3:30], err[3:30,i])\n",
    "    slopes_ff = np.append(slopes_ff, a)\n",
    "    ax[1,0].plot(fft_fr[3:30], linear_func(fft_fr[3:30], a, b), 'b')\n",
    "\n",
    "\n",
    "ax[0,1].plot(np.arange(0,len(slopes_a)), abs(slopes_a/10))\n",
    "\n",
    "ax[0,2].plot(np.arange(0,len(slope)), abs(pha_sweep/10))\n",
    "\n",
    "ax[1,1].plot(np.arange(0,len(att_err)), slopes_ff)\n",
    "a, b = linear_fit(att_err,  slopes_ff)\n",
    "ax[1,1].plot(att_err,linear_func(att_err, a, b), label = 'Fit: a={}'.format(np.round(a,4)))\n",
    "ax[1,1].legend()"
   ]
  },
  {
   "cell_type": "markdown",
   "id": "36754a0e",
   "metadata": {},
   "source": [
    "# Manual"
   ]
  },
  {
   "cell_type": "code",
   "execution_count": 31,
   "id": "4157d3f9",
   "metadata": {},
   "outputs": [],
   "source": [
    "now = datetime.now()  \n",
    "folder = r'C:\\Users\\Demag\\PycharmProjects\\ColdMeasurements\\DeMag\\DATA\\CoSi\\Open_loop\\error_func\\tmp'\n",
    "file = r'Y_ErrPsw_0to20_manual'+ now.strftime(r'%H-%M-%S') + '.mat'\n",
    "file_name = folder +'\\\\' + file\n",
    "\n",
    "file_d = r'Y_ErrPsw_0to20_manual_DUPLICATE_'+ now.strftime(r'%H-%M-%S') + '.mat'\n",
    "file_name_d = folder +'\\\\' + file_d\n",
    "\n",
    "state=dict()\n",
    "state['temp'] = 8.2\n",
    "\n",
    "offset = 50 #kHz\n",
    "freq_y = np.linspace(f_res4-offset/1e6, f_res4+offset/1e6, 100)\n",
    "epsilon = np.empty((len(freq_y),len(att_err)))\n",
    "slope = np.array([])\n",
    "pha_sweep = np.array([])\n",
    "\n",
    "\n",
    "state['att_err'] = att_err\n",
    "state['epsilon'] = epsilon\n",
    "state['slope_epsilon'] = slope\n",
    "state['pha_sweep'] = pha_sweep\n",
    "state['freq_y'] = freq_y\n",
    "state['att_err'] = att_err\n",
    "\n",
    "state['freq_y'] = freq_y\n",
    "state['anapico_pow'] = anapow\n",
    "state['modulation_v'] = avg_volt\n",
    "state['f_res4'] = f_res4\n",
    "state['comment'] = 'CoSi 25 nm #4. Previous measurements were done with X component in locking instead of Y'\n",
    "\n",
    "gain = 10/(100*1e-6)\n",
    "\n",
    "fft_avg = 300\n",
    "state['fft_avg'] = fft_avg\n",
    "fft_fr = dsa.get_freq()\n",
    "state['fft_fr'] = fft_fr\n",
    "err = np.empty((len(fft_fr),len(att_err)))\n",
    "slope_fft = np.array([])\n",
    "state['slope_fft'] = slope_fft\n"
   ]
  },
  {
   "cell_type": "code",
   "execution_count": 144,
   "id": "562d146e",
   "metadata": {},
   "outputs": [
    {
     "data": {
      "text/plain": [
       "0"
      ]
     },
     "execution_count": 144,
     "metadata": {},
     "output_type": "execute_result"
    }
   ],
   "source": [
    "at = 14\n",
    "DigAtt.set_att(f_res4, att_err[at]) # sets new attenuation"
   ]
  },
  {
   "cell_type": "code",
   "execution_count": 152,
   "id": "4b501270",
   "metadata": {},
   "outputs": [
    {
     "name": "stdout",
     "output_type": "stream",
     "text": [
      "Start: 14-26-37: new att 14 db\n",
      "Start epsilon: 14-26-37\n",
      "Start 300 fft: 14-28-10\n",
      "Stop: 15-12-27:\n"
     ]
    }
   ],
   "source": [
    "#get input power \n",
    "print('Start:', datetime.now().strftime(r'%H-%M-%S:'), 'new att', att_err[at], 'db')\n",
    "\n",
    "state['sens'] = np.array([100e-6, 100e-6, 100e-6, 100e-6, 100e-6, 100e-6, 30e-6, 30e-6, \n",
    "                          30e-6, 30e-6, 30e-6, 10e-6, 10e-6, 3e-6, 3e-6])  # SET\n",
    "current_phase = -146.94            # SET\n",
    "\n",
    "pha_sweep = np.append(pha_sweep,current_phase)\n",
    "state['pha_sweep'] = pha_sweep\n",
    "\n",
    "\n",
    "X0 = loking.get_X_data()\n",
    "Y0 = loking.get_Y_data()\n",
    "XY = np.append(XY, np.sqrt(X0**2+Y0**2))\n",
    "state['XY'] = XY\n",
    "\n",
    "print('Start epsilon:', datetime.now().strftime(r'%H-%M-%S'))\n",
    "freq_y, epsilon_mean, a, b = get_epsilon() # ret error function and slope (a)\n",
    "epsilon[:,at] = epsilon_mean\n",
    "state['epsilon'] = epsilon\n",
    "slope = np.append(slope, a)\n",
    "state['slope'] = slope\n",
    "\n",
    "print('Start {} fft:'.format(fft_avg), datetime.now().strftime(r'%H-%M-%S'))\n",
    "fft = dsa.read_d(avg=fft_avg) # get fft data with avg\n",
    "err[:,at] = fft\n",
    "state['err'] = err\n",
    "\n",
    "start_fft = 4\n",
    "stop_fft = -30\n",
    "a, b = linear_fit(fft_fr[start_fft:stop_fft], fft[start_fft:stop_fft])\n",
    "slope_fft = np.append(slope_fft, a)\n",
    "state['slope_fft'] = slope_fft\n",
    "\n",
    "savemat(file_name, state)\n",
    "savemat(file_name_d, state)\n",
    "print('Stop:', datetime.now().strftime(r'%H-%M-%S:'))"
   ]
  },
  {
   "cell_type": "markdown",
   "id": "fff9ecdf",
   "metadata": {},
   "source": [
    "# Plot data"
   ]
  },
  {
   "cell_type": "code",
   "execution_count": 185,
   "id": "4e0eecf4",
   "metadata": {},
   "outputs": [
    {
     "data": {
      "text/plain": [
       "<matplotlib.legend.Legend at 0x1da5d695700>"
      ]
     },
     "execution_count": 185,
     "metadata": {},
     "output_type": "execute_result"
    }
   ],
   "source": [
    "%matplotlib qt\n",
    "fig, ax = plt.subplots(2, 4, figsize=(25,13))\n",
    "plt.rcParams['axes.facecolor'] = 'white'\n",
    "ax[0,0].set_title('Error function')\n",
    "ax[0,1].set_title('Slopes of e')\n",
    "ax[1,0].set_title('Noise spectrum')\n",
    "ax[1,1].set_title('Slopes of noise')\n",
    "ax[0,2].set_title('Phases')\n",
    "ax[1,2].set_title('b offset in fft fit')\n",
    "ax[0,3].set_title('Input_pow')\n",
    "ax[0,2].set_yscale('log', base=10,)\n",
    "ax[0,1].set_yscale('log', base=10,)\n",
    "# ax[1,1].set_yscale('log', base=10,)\n",
    "ax[0,2].grid()\n",
    "ax[0,1].grid()\n",
    "ax[0,0].grid()\n",
    "ax[1,1].grid()\n",
    "ax[1,0].grid()\n",
    "ax[1,2].grid()\n",
    "ax[0,3].grid()\n",
    "\n",
    "start = 2\n",
    "stop = -1\n",
    "slopes_a = np.array([])\n",
    "slopes_ff = np.array([])\n",
    "b_ff = np.array([])\n",
    "d = ((freq_y-f_res4)*1000)\n",
    "\n",
    "\n",
    "for i in np.arange(0,6):\n",
    "    \n",
    "    ax[0,0].plot(d, epsilon[:,i], label = '-{} db'.format(att_err[i]))\n",
    "    \n",
    "    a, b = linear_fit(d[start:stop], epsilon[start:stop, i])\n",
    "    slopes_a = np.append(slopes_a, a)\n",
    "    ax[0,0].plot(d[start:stop], linear_func(d[start:stop], a, b), 'b', linewidth=0.5)\n",
    "    \n",
    "    c = slopes_a[i]\n",
    "    c1 = np.log10(abs(slopes_a[i]))\n",
    "    fft_pow = err[:,i]/10-c1\n",
    "    \n",
    "    ax[1,0].plot(np.log10(fft_fr[1:]), err[1:, i], label = '{}: -{} db'.format(i, att_err[i]))\n",
    "    ax[1,1].plot(np.log10(fft_fr[1:]), fft_pow[1:], label = '{}: -{} db'.format(i, att_err[i]))\n",
    "    \n",
    "    a, b = linear_fit(np.log10(fft_fr[2:-90]), fft_pow[2:-90])\n",
    "    slopes_ff = np.append(slopes_ff, a)\n",
    "    b_ff = np.append(b_ff, b)\n",
    "#     ax[1,1].plot(np.log10(fft_fr[2:-60]), linear_func(np.log10(fft_fr[2:-60]), a, b), 'b')\n",
    "\n",
    "\n",
    "ax[0,1].plot(np.arange(0,len(slopes_a)), abs(slopes_a/10))\n",
    "\n",
    "ax[0,2].plot(np.arange(0,len(slope)), abs(pha_sweep[:-1]/10))\n",
    "\n",
    "\n",
    "# ax[1,3].plot(att_err[:6], abs(b_ff/10))\n",
    "# ax[0,3].plot(att_err[:6+1], np.log10(abs(XY[:at+1]/10)))\n",
    "\n",
    "ax[1,2].plot(np.arange(0,len(slopes_ff)), slopes_ff)\n",
    "# a, b = linear_fit(20-att_err[:-1],  slopes_ff[:-1])\n",
    "# ax[1,1].plot(20-att_err[:-1],linear_func(20-att_err[:-1], a, b), '.', label = 'Fit: a={}'.format(np.round(a,4)))\n",
    "ax[1,1].legend()\n",
    "ax[1,0].legend()\n"
   ]
  },
  {
   "cell_type": "code",
   "execution_count": 14,
   "id": "0f6be2d2",
   "metadata": {},
   "outputs": [
    {
     "name": "stdout",
     "output_type": "stream",
     "text": [
      "[0] -----------> Error_power_sweep.png\n",
      "[1] -----------> Error_power_sweep_wide_range.png\n",
      "[2] -----------> Err_power_sweep_19-53-34.mat\n",
      "[3] -----------> Err_power_sweep_20-00-06.mat\n"
     ]
    }
   ],
   "source": [
    "folder = r'C:\\Users\\Demag\\PycharmProjects\\ColdMeasurements\\DeMag\\DATA\\CoSi\\Open_loop\\error_func'\n",
    "files = os.listdir(folder)\n",
    "for i in range(len(files)):\n",
    "    if \".fig\" in files[i]: pass\n",
    "    else: \n",
    "        print(r\"[%d]\" %(i), '----------->', files[i]) "
   ]
  },
  {
   "cell_type": "code",
   "execution_count": 28,
   "id": "863c39f6",
   "metadata": {},
   "outputs": [],
   "source": [
    "def get_epsilon(offset, avg, nop,f_res):\n",
    "    '''\n",
    "    This function is meant to find epsilon  as function of frequency\n",
    "    \n",
    "    Args: \n",
    "        offset:       sets the frequency sweep range limits\n",
    "        avg:          number of sweep averaging\n",
    "        nop:          number of sweep points\n",
    "    Returns: \n",
    "        freq_y:       frequency range over which the epsilon sweep is made\n",
    "        epsilon_mean: averaged epsilon function \n",
    "        a, b:         fit parameters of the epsilon linear part\n",
    "        best_pha:     phase with 0 Y component\n",
    "        \n",
    "    '''\n",
    "    \n",
    "    freq_y = np.linspace(f_res-offset/1e6, f_res+offset/1e6, nop)  # sweep array\n",
    "    anapico.set_freq(3, f_res*1e9)\n",
    "    \n",
    "    epsilon1 = np.empty((len(freq_y), avg))\n",
    "    epsilon2 = np.empty((len(freq_y), avg)) \n",
    "    \n",
    "    for i in range (len(freq_y)):\n",
    "        anapico.set_freq(3, freq_y[i]*1e9)\n",
    "        time.sleep(0.25)\n",
    "        for j in range(avg): \n",
    "            time.sleep(0.05)\n",
    "            epsilon1[i,j] = loking.get_Y_data()\n",
    "            epsilon2[i,j] = loking.get_X_data()\n",
    "            \n",
    "    epsilon_mean1 = np.mean(epsilon1, axis=1)\n",
    "    epsilon_mean2 = np.mean(epsilon2, axis=1)\n",
    "    a, b = linear_fit(freq_y-f_res, epsilon_mean1)\n",
    "    c, d = linear_fit(freq_y-f_res, epsilon_mean2)\n",
    "    anapico.set_freq(3, f_res*1e9)\n",
    "    return freq_y, epsilon_mean1, epsilon_mean2, a, b, c, d"
   ]
  },
  {
   "cell_type": "code",
   "execution_count": 29,
   "id": "4932cda5",
   "metadata": {},
   "outputs": [
    {
     "name": "stdout",
     "output_type": "stream",
     "text": [
      "19-09-51: Phase 0.0 db\n"
     ]
    },
    {
     "ename": "KeyboardInterrupt",
     "evalue": "",
     "output_type": "error",
     "traceback": [
      "\u001b[1;31m---------------------------------------------------------------------------\u001b[0m",
      "\u001b[1;31mKeyboardInterrupt\u001b[0m                         Traceback (most recent call last)",
      "Cell \u001b[1;32mIn[29], line 93\u001b[0m\n\u001b[0;32m     90\u001b[0m state[\u001b[38;5;124m'\u001b[39m\u001b[38;5;124mXY\u001b[39m\u001b[38;5;124m'\u001b[39m] \u001b[38;5;241m=\u001b[39m XY\n\u001b[0;32m     92\u001b[0m \u001b[38;5;66;03m# get epsilon sweep\u001b[39;00m\n\u001b[1;32m---> 93\u001b[0m freq_y, epsilon_mean1, epsilon_mean2, a, b, c, d \u001b[38;5;241m=\u001b[39m \u001b[43mget_epsilon\u001b[49m\u001b[43m(\u001b[49m\u001b[43moffset\u001b[49m\u001b[43m,\u001b[49m\u001b[43mavg\u001b[49m\u001b[43m,\u001b[49m\u001b[43mnop\u001b[49m\u001b[43m,\u001b[49m\u001b[43mf_res\u001b[49m\u001b[43m)\u001b[49m \u001b[38;5;66;03m# ret error function and slope (a)\u001b[39;00m\n\u001b[0;32m     94\u001b[0m anapico\u001b[38;5;241m.\u001b[39mset_freq(\u001b[38;5;241m3\u001b[39m, f_res\u001b[38;5;241m*\u001b[39m\u001b[38;5;241m1e9\u001b[39m)\n\u001b[0;32m     96\u001b[0m epsilon1[:,i] \u001b[38;5;241m=\u001b[39m epsilon_mean1\n",
      "Cell \u001b[1;32mIn[28], line 27\u001b[0m, in \u001b[0;36mget_epsilon\u001b[1;34m(offset, avg, nop, f_res)\u001b[0m\n\u001b[0;32m     25\u001b[0m time\u001b[38;5;241m.\u001b[39msleep(\u001b[38;5;241m0.25\u001b[39m)\n\u001b[0;32m     26\u001b[0m \u001b[38;5;28;01mfor\u001b[39;00m j \u001b[38;5;129;01min\u001b[39;00m \u001b[38;5;28mrange\u001b[39m(avg): \n\u001b[1;32m---> 27\u001b[0m     \u001b[43mtime\u001b[49m\u001b[38;5;241;43m.\u001b[39;49m\u001b[43msleep\u001b[49m\u001b[43m(\u001b[49m\u001b[38;5;241;43m0.05\u001b[39;49m\u001b[43m)\u001b[49m\n\u001b[0;32m     28\u001b[0m     epsilon1[i,j] \u001b[38;5;241m=\u001b[39m loking\u001b[38;5;241m.\u001b[39mget_Y_data()\n\u001b[0;32m     29\u001b[0m     epsilon2[i,j] \u001b[38;5;241m=\u001b[39m loking\u001b[38;5;241m.\u001b[39mget_X_data()\n",
      "\u001b[1;31mKeyboardInterrupt\u001b[0m: "
     ]
    },
    {
     "data": {
      "image/png": "[encoded data removed]",
      "text/plain": [
       "<Figure size 1440x1080 with 6 Axes>"
      ]
     },
     "metadata": {
      "needs_background": "light"
     },
     "output_type": "display_data"
    }
   ],
   "source": [
    "fig, ax = plt.subplots(2, 3, figsize=(20,15))\n",
    "ax[0,0].set_title('Error function')\n",
    "ax[0,1].set_title('Slopes of e')\n",
    "ax[0,2].set_title('Phases')\n",
    "\n",
    "ax[1,0].set_title('Noise spectrum')\n",
    "ax[1,1].set_title('Slopes of noise')\n",
    "ax[1,2].set_title('Input power')\n",
    "ax[0,0].grid()\n",
    "ax[0,1].grid()\n",
    "ax[0,2].grid()\n",
    "ax[1,0].grid()\n",
    "ax[1,1].grid()\n",
    "ax[1,2].grid()\n",
    "\n",
    "\n",
    "now = datetime.now()  \n",
    "folder = r'C:\\Users\\Demag\\PycharmProjects\\ColdMeasurements\\DeMag\\DATA\\CoSi\\Open_loop\\error_func\\with_TWPA'\n",
    "file = r'XAndYErrFunc_'+ now.strftime(r'%H-%M-%S') + '.mat'\n",
    "file_name = folder +'\\\\' + file\n",
    "\n",
    "file_d = r'Y_ErrPsw_0to20_DUPLICATE_'+ now.strftime(r'%H-%M-%S') + '.mat'\n",
    "file_name_d = folder +'\\\\' + file_d\n",
    "\n",
    "# Attenuation\n",
    "phase = np.linspace(0,355,72)  # Attenuation values. Seems like nothing to measure above 15 db\n",
    "\n",
    "# Epsilon function\n",
    "offset = 100\n",
    "avg = 50 #50\n",
    "nop = 201 \n",
    "epsilon1 = np.empty((nop,len(phase)))\n",
    "epsilon2 = np.empty((nop,len(phase)))\n",
    "slope1 = np.empty((len(phase)))\n",
    "amplitude1 = np.empty((len(phase)))\n",
    "slope2 = np.empty((len(phase)))\n",
    "amplitude2 = np.empty((len(phase)))\n",
    "\n",
    "# Noise function\n",
    "fft_avg = 100 # 300\n",
    "fft_fr = dsa.get_freq()\n",
    "err = np.empty((len(fft_fr),len(phase)))\n",
    "slope_fft = np.empty((len(phase)))\n",
    "amplitude_fft = np.empty((len(phase)))\n",
    "\n",
    "gain = 10/(1000e-6)\n",
    "\n",
    "# Input power \n",
    "XY = np.empty((len(phase)))\n",
    "\n",
    "state=dict()\n",
    "state['temp'] = 10\n",
    "state['Gain'] = gain\n",
    "\n",
    "state['phases'] = phase\n",
    "state['epsilon1'] = epsilon1\n",
    "state['epsilon2'] = epsilon2\n",
    "state['slope_epsilon1'] = slope1\n",
    "state['amplitude_epsilon1'] = amplitude1\n",
    "state['slope_epsilon2'] = slope2\n",
    "state['amplitude_epsilon2'] = amplitude2\n",
    "\n",
    "state['anapico_pow'] = anapow\n",
    "state['modulation_v'] = avg_volt\n",
    "state['f_res4'] = f_res4\n",
    "\n",
    "state['avg'] = avg\n",
    "state['nop'] = nop\n",
    "state['offset'] = offset\n",
    "\n",
    "state['comment'] = 'CoSi 25 nm #4. X and Y component. TWPA on'\n",
    "\n",
    "f_res = f_res4\n",
    "anapico.set_freq(3, f_res*1e9)\n",
    "# loking.set_phase(90)\n",
    "print(datetime.now().strftime(r'%H-%M-%S:'), 'Phase', phase[i], 'db')\n",
    "\n",
    "time.sleep(1) # wait until power would stabilize (at least 15 sec recommended)\n",
    "\n",
    "#get total input power \n",
    "X0 = loking.get_X_data()\n",
    "X0 = loking.get_X_data()\n",
    "X0 = loking.get_X_data()\n",
    "Y0 = loking.get_Y_data()\n",
    "Y0 = loking.get_Y_data()\n",
    "Y0 = loking.get_Y_data()\n",
    "XY[i] = np.sqrt(X0**2+Y0**2)\n",
    "state['XY'] = XY\n",
    "\n",
    "# get epsilon sweep\n",
    "freq_y, epsilon_mean1, epsilon_mean2, a, b, c, d = get_epsilon(offset,avg,nop,f_res) # ret error function and slope (a)\n",
    "anapico.set_freq(3, f_res*1e9)\n",
    "\n",
    "epsilon1[:,i] = epsilon_mean1\n",
    "epsilon2[:,i] = epsilon_mean2\n",
    "\n",
    "slope1[i] = a\n",
    "amplitude1[i] = b\n",
    "slope2[i] = c\n",
    "amplitude2[i] = d\n",
    "\n",
    "state['freq_y'] = freq_y\n",
    "state['epsilon1'] = epsilon1\n",
    "state['epsilon2'] = epsilon2\n",
    "state['slope_epsilon1'] = slope1\n",
    "state['amplitude_epsilon1'] = amplitude1\n",
    "state['slope_epsilon2'] = slope2\n",
    "state['amplitude_epsilon2'] = amplitude2\n",
    "\n",
    "savemat(file_name, state)\n",
    "savemat(file_name_d, state)\n",
    "    \n",
    "print(datetime.now().strftime(r'%H-%M-%S:'), 'Measurement done!')\n",
    "    \n",
    "ax[0,1].plot(np.arange(0,len(att_err)), np.log10(abs(slope/10)))\n",
    "ax[0,2].plot(np.arange(0,len(att_err)), np.log10(abs(pha_sweep/10)))\n",
    "ax[1,1].plot(np.arange(0,len(att_err)), np.log10(abs(slope_fft/10)))\n",
    "ax[1,2].plot(np.arange(0,len(att_err)), np.log10(abs(XY/10)))\n",
    "ax[0,0].legend()"
   ]
  },
  {
   "cell_type": "code",
   "execution_count": 86,
   "id": "7c343007",
   "metadata": {},
   "outputs": [
    {
     "data": {
      "text/plain": [
       "10.0"
      ]
     },
     "execution_count": 86,
     "metadata": {},
     "output_type": "execute_result"
    }
   ],
   "source": [
    "loking.get_sensitivity()"
   ]
  },
  {
   "cell_type": "code",
   "execution_count": 75,
   "id": "8c907c5f",
   "metadata": {},
   "outputs": [
    {
     "name": "stdout",
     "output_type": "stream",
     "text": [
      "Unable to read data from device.\n",
      " VI_ERROR_TMO (-1073807339): Timeout expired before operation completed.\n",
      "Check that device is connected, visible in NI MAX and is not used by another software.\n"
     ]
    },
    {
     "data": {
      "text/plain": [
       "'3: 3 μVrms / -97 dBm'"
      ]
     },
     "execution_count": 75,
     "metadata": {},
     "output_type": "execute_result"
    }
   ],
   "source": [
    "loking.set_sensitivity(3)"
   ]
  },
  {
   "cell_type": "code",
   "execution_count": 53,
   "id": "330ba668",
   "metadata": {},
   "outputs": [],
   "source": [
    "loking.set_auto_sens()"
   ]
  },
  {
   "cell_type": "code",
   "execution_count": 87,
   "id": "a5659bbc",
   "metadata": {},
   "outputs": [],
   "source": [
    "freq = np.linspace(1.5, 2, 501)\n",
    "state=dict()\n",
    "state['freq'] = freq\n",
    "\n",
    "X = np.array([])\n",
    "Y = np.array([])\n",
    "for i in range(len(freq)):\n",
    "    awg.write(r'SOUR{}:FREQ {}'.format(str(1), str(freq[i]*1e6)))\n",
    "    loking.write('*CLS\\n')\n",
    "    loking.write('*CLS')\n",
    "    loking.write('*CLS')\n",
    "    time.sleep(0.1)\n",
    "    x0 = loking.get_X_data()\n",
    "    x1 = loking.get_X_data()\n",
    "    x2 = loking.get_X_data()\n",
    "    x0 = loking.get_X_data()\n",
    "    x1 = loking.get_X_data()\n",
    "    x2 = loking.get_X_data()\n",
    "    x0 = loking.get_X_data()\n",
    "    x1 = loking.get_X_data()\n",
    "    x2 = loking.get_X_data()\n",
    "    x2 = loking.get_X_data()\n",
    "    x0 = loking.get_X_data()\n",
    "    x1 = loking.get_X_data()\n",
    "    x2 = loking.get_X_data()\n",
    "    X = np.append(X, loking.get_X_data())\n",
    "    loking.write('*CLS\\n')\n",
    "    loking.write('*CLS')\n",
    "    x0 = loking.get_Y_data()\n",
    "    x1 = loking.get_Y_data()\n",
    "    x2 = loking.get_Y_data()\n",
    "    x0 = loking.get_Y_data()\n",
    "    x1 = loking.get_Y_data()\n",
    "    x2 = loking.get_Y_data()\n",
    "    x0 = loking.get_Y_data()\n",
    "    x1 = loking.get_Y_data()\n",
    "    x2 = loking.get_Y_data()\n",
    "    x1 = loking.get_Y_data()\n",
    "    x2 = loking.get_Y_data()\n",
    "    x0 = loking.get_Y_data()\n",
    "    x1 = loking.get_Y_data()\n",
    "    x2 = loking.get_Y_data()\n",
    "    Y = np.append(Y, loking.get_Y_data())\n",
    "state['X'] = X\n",
    "state['Y'] = Y\n",
    "\n",
    "now = datetime.now()  \n",
    "folder = r'C:\\Users\\Demag\\PycharmProjects\\ColdMeasurements\\DeMag\\DATA\\CoSi\\Open_loop\\error_func\\with_TWPA'\n",
    "file = r'ModulationFTest_'+ now.strftime(r'%H-%M-%S') + '.mat'\n",
    "file_name = folder +'\\\\' + file\n",
    "savemat(file_name, state)"
   ]
  },
  {
   "cell_type": "code",
   "execution_count": null,
   "id": "bd7028fc",
   "metadata": {},
   "outputs": [],
   "source": []
  }
 ],
 "metadata": {
  "kernelspec": {
   "display_name": "Python 3 (ipykernel)",
   "language": "python",
   "name": "python3"
  },
  "language_info": {
   "codemirror_mode": {
    "name": "ipython",
    "version": 3
   },
   "file_extension": ".py",
   "mimetype": "text/x-python",
   "name": "python",
   "nbconvert_exporter": "python",
   "pygments_lexer": "ipython3",
   "version": "3.9.12"
  }
 },
 "nbformat": 4,
 "nbformat_minor": 5
}
