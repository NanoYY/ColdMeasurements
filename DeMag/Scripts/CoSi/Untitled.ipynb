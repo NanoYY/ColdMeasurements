{
 "cells": [
  {
   "cell_type": "code",
   "execution_count": 1,
   "id": "f86b1d77",
   "metadata": {},
   "outputs": [
    {
     "name": "stderr",
     "output_type": "stream",
     "text": [
      "C:\\Users\\Demag\\anaconda3\\lib\\site-packages\\scipy\\__init__.py:146: UserWarning: A NumPy version >=1.16.5 and <1.23.0 is required for this version of SciPy (detected version 1.26.1\n",
      "  warnings.warn(f\"A NumPy version >={np_minversion} and <{np_maxversion}\"\n"
     ]
    }
   ],
   "source": [
    "from nanodrivers.visa_drivers.vna import VNA\n",
    "from nanodrivers.LakeShore370.LS_370_GPIB import LakeShore\n",
    "import pyvisa\n",
    "\n",
    "#math\n",
    "import numpy as np\n",
    "from numpy import *\n",
    "from scipy.optimize import curve_fit\n",
    "\n",
    "#plotting\n",
    "import matplotlib.pyplot as plt\n",
    "import matplotlib\n",
    "\n",
    "#matlab import\n",
    "import scipy.io\n",
    "from scipy.io import savemat\n",
    "\n",
    "#file_store\n",
    "import os\n",
    "import copy\n",
    "\n",
    "#time\n",
    "from datetime import datetime, timedelta\n",
    "import time\n",
    "\n",
    "from ctypes import *\n",
    "%matplotlib inline"
   ]
  },
  {
   "cell_type": "code",
   "execution_count": null,
   "id": "dfe176a1",
   "metadata": {},
   "outputs": [],
   "source": [
    "vna = VNA()\n",
    "vna.idn()"
   ]
  },
  {
   "cell_type": "code",
   "execution_count": 2,
   "id": "3e74c62a",
   "metadata": {},
   "outputs": [
    {
     "name": "stdout",
     "output_type": "stream",
     "text": [
      "Connection exist: LSCI,MODEL370,370A5G,04102008\r\n",
      "\n"
     ]
    }
   ],
   "source": [
    "lakeshore = LakeShore()\n",
    "lakeshore.idn()"
   ]
  },
  {
   "cell_type": "code",
   "execution_count": 4,
   "id": "878e3978",
   "metadata": {},
   "outputs": [
    {
     "data": {
      "text/plain": [
       "array([10., 20.,  0.])"
      ]
     },
     "execution_count": 4,
     "metadata": {},
     "output_type": "execute_result"
    }
   ],
   "source": [
    "lakeshore.get_PID()"
   ]
  },
  {
   "cell_type": "code",
   "execution_count": null,
   "id": "7ee0d7eb",
   "metadata": {},
   "outputs": [],
   "source": [
    "lakeshore.set_setpoint(0.05, channel=6, sudo_mode=False)"
   ]
  },
  {
   "cell_type": "code",
   "execution_count": null,
   "id": "0a19dd31",
   "metadata": {},
   "outputs": [],
   "source": [
    "font = {'size'   : 15}\n",
    "matplotlib.rc('font', **font)\n",
    "fig, ax = plt.subplots(figsize = (15, 7))\n",
    "ax.grid()\n",
    "ax.set_xlabel('Freq, GHz')\n",
    "ax.set_ylabel('Mag, db')\n",
    "\n",
    "T = np.array([0,20,30,40,50,60,70,80,90,100,120,140,160,180,200,225,250,275,300,350,400,450,500,600,700,800,900,1000])*1e-3\n",
    "P = np.linspace(-30,10,9)\n",
    "Band = np.array([1,1,10,10,100,100,100,100,100])*1000\n",
    "\n",
    "vna.set_band(1000)\n",
    "vna.set_nop(100001)\n",
    "vna.set_power(-10)\n",
    "vna.set_freq_start_stop(3.2e9, 3.8e9, vna.get_nop())\n",
    "freqs = vna.get_freq()\n",
    "\n",
    "state = dict()\n",
    "\n",
    "mag = np.ones((len(freqs),len(T),len(P)))*(-40)\n",
    "pha = np.ones((len(freqs),len(T),len(P)))*(0)\n",
    "\n",
    "state['T'] = T\n",
    "state['P'] = P\n",
    "state['mag'] = mag\n",
    "state['pha'] = pha\n",
    "state['Band'] = pha\n",
    "state['freqs'] = freqs\n",
    "\n",
    "for i in range(len(T)):\n",
    "    lakeshore.set_setpoint(T[i], channel=6, sudo_mode=False)\n",
    "    pause(300)\n",
    "    for j in range(len(P)):\n",
    "        vna.set_power(P[j])\n",
    "        vna.set_band(Band[j])\n",
    "        mag[:,i,j], pha[:,i,j], freq = vna.get_data(True)\n",
    "        ax.plot(freq/1e9, mag[:,i,j], label = '|S21|')\n",
    "        state['mag'] = mag\n",
    "        state['pha'] = pha\n",
    "            print('Duration: {}. End of script in: {}'.format(duration_end - start_time, \n",
    "                                        timedelta(seconds=period*len(volts))))\n",
    "        \n"
   ]
  }
 ],
 "metadata": {
  "kernelspec": {
   "display_name": "Python 3 (ipykernel)",
   "language": "python",
   "name": "python3"
  },
  "language_info": {
   "codemirror_mode": {
    "name": "ipython",
    "version": 3
   },
   "file_extension": ".py",
   "mimetype": "text/x-python",
   "name": "python",
   "nbconvert_exporter": "python",
   "pygments_lexer": "ipython3",
   "version": "3.9.12"
  }
 },
 "nbformat": 4,
 "nbformat_minor": 5
}
