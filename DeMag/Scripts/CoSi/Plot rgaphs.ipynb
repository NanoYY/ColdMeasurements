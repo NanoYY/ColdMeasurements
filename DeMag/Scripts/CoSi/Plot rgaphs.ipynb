{
 "cells": [
  {
   "cell_type": "code",
   "execution_count": 1,
   "id": "8b570518",
   "metadata": {},
   "outputs": [
    {
     "name": "stderr",
     "output_type": "stream",
     "text": [
      "C:\\Users\\Demag\\anaconda3\\lib\\site-packages\\scipy\\__init__.py:146: UserWarning: A NumPy version >=1.16.5 and <1.23.0 is required for this version of SciPy (detected version 1.26.1\n",
      "  warnings.warn(f\"A NumPy version >={np_minversion} and <{np_maxversion}\"\n"
     ]
    }
   ],
   "source": [
    "import numpy as np\n",
    "from numpy import *\n",
    "import matplotlib.pyplot as plt\n",
    "import matplotlib\n",
    "\n",
    "from mpl_toolkits.axes_grid1 import make_axes_locatable\n",
    "import csv\n",
    "from scipy import stats\n",
    "from scipy.fft import fft, fftfreq\n",
    "import scipy.io\n",
    "from scipy.io import savemat\n",
    "from scipy.interpolate import UnivariateSpline \n",
    "\n",
    "import os\n",
    "\n",
    "import matplotlib.ticker as ticker\n",
    "import seaborn as sns\n",
    "%matplotlib inline\n",
    "\n",
    "\n",
    "import sys\n",
    "sys.path.append(r'C:/Users/Demag/PycharmProjects/ColdMeasurements/probst_fit')\n",
    "from resonator_tools.circuit import notch_port\n",
    "\n",
    "def db2mag(db): return np.power(10, db/20)\n",
    "\n",
    "select_res = 3"
   ]
  },
  {
   "cell_type": "code",
   "execution_count": 97,
   "id": "1ee3a8cc",
   "metadata": {},
   "outputs": [
    {
     "name": "stdout",
     "output_type": "stream",
     "text": [
      "[0] -----------> fr_Qi_pow.png\n",
      "[1] -----------> Merge_fr_pow_res4.mat\n",
      "[2] -----------> Merge_Qi_pow_res4.mat\n",
      "[3] -----------> tvsp_res4.mat\n",
      "[4] -----------> t_vs_p.png\n"
     ]
    }
   ],
   "source": [
    "initial_folder = r'C:\\Users\\Demag\\PycharmProjects\\ColdMeasurements\\DeMag\\DATA\\CoSi\\25nm\\PowerScanHighPow10nm\\Graphs_data'\n",
    "\n",
    "files = os.listdir(initial_folder)\n",
    "for i in range(len(files)):\n",
    "    if \".fig\" in files[i]: pass\n",
    "    else: \n",
    "        print(r\"[%d]\" %(i), '----------->', files[i]) "
   ]
  },
  {
   "cell_type": "code",
   "execution_count": 113,
   "id": "6d20e903",
   "metadata": {},
   "outputs": [
    {
     "name": "stdout",
     "output_type": "stream",
     "text": [
      "Keys total: 3\n",
      "['__header__', '__version__', '__globals__', 'SampleName', 'resonator_number', 'fr_merge', 'power_merge'] \n",
      "\n",
      "--------- CoSi_25nm -----------\n",
      "resonator_number === [3]\n",
      "fr_merge (1, 332) -len--> 332\n"
     ]
    }
   ],
   "source": [
    "def read_mat(mat):\n",
    "    k = list(mat.keys())\n",
    "    print('Keys total:', len(k)-4)\n",
    "    print(k, '\\n')\n",
    "\n",
    "    print('---------', mat['SampleName'][0], '-----------')\n",
    "    for en_ki, ki in enumerate(k[3:-1]):\n",
    "        if ki == 'SampleName' or ki == 'c0' or ki == 'SaveDirFig' or ki == 'Testm' or ki == 'None' or ki == 'SweepEstimate' or ki == 'Year' or ki == 'User': pass\n",
    "        elif len(shape(mat[ki]))>1:\n",
    "            if shape(mat[ki])[0] == 1: \n",
    "                if len(mat[ki][0])<10: print(ki, '===', mat[ki][0])\n",
    "\n",
    "\n",
    "    for en_ki, ki in enumerate(k[3:-1]):\n",
    "        if ki == 'SampleName' or ki == 'c0' or ki == 'SaveDirData' or ki == 'SaveDirFig' or ki == 'Testm' or ki == 'None' or ki == 'SweepEstimate' or ki == 'Year' or ki == 'User': pass\n",
    "        elif len(shape(mat[ki]))>1:\n",
    "            if shape(mat[ki])[0] == 1: \n",
    "                if len(mat[ki][0])<10: pass\n",
    "                else: print(ki, shape(mat[ki]), '-len-->', len(mat[ki][0]))\n",
    "\n",
    "\n",
    "    for en_ki, ki in enumerate(k[3:-1]):\n",
    "        if ki == 'SampleName' or ki == 'c0' or ki == 'SaveDirData' or ki == 'SaveDirFig' or ki == 'Testm' or ki == 'None' or ki == 'SweepEstimate' or ki == 'Year' or ki == 'User': pass\n",
    "        elif len(shape(mat[ki]))>1:\n",
    "            if shape(mat[ki])[0] == 1: pass\n",
    "\n",
    "            elif shape(mat[ki][:,0]) == 1: print(ki, '===', mat[ki][:,0])\n",
    "\n",
    "\n",
    "    for en_ki, ki in enumerate(k[3:-1]):\n",
    "        if ki == 'SampleName' or ki == 'c0' or ki == 'SaveDirData' or ki == 'SaveDirFig' or ki == 'Testm' or ki == 'None' or ki == 'SweepEstimate' or ki == 'Year' or ki == 'User': pass\n",
    "        elif len(shape(mat[ki]))>1:\n",
    "            if shape(mat[ki])[0] == 1: pass\n",
    "\n",
    "            elif shape(mat[ki][:,0]) == 1: print(ki, '===', mat[ki][:,0])\n",
    "            else: \n",
    "                print(ki, '--->', shape(mat[ki]))\n",
    "\n",
    "            \n",
    "mat = scipy.io.loadmat(initial_folder+\"\\\\\"+files[1])\n",
    "read_mat(mat)"
   ]
  },
  {
   "cell_type": "code",
   "execution_count": 114,
   "id": "f17a21bc",
   "metadata": {},
   "outputs": [],
   "source": [
    "fr_merge = mat['fr_merge'][0]\n",
    "power_merge = mat['power_merge'][0]"
   ]
  },
  {
   "cell_type": "code",
   "execution_count": 129,
   "id": "f4563178",
   "metadata": {},
   "outputs": [
    {
     "name": "stdout",
     "output_type": "stream",
     "text": [
      "Keys total: 3\n",
      "['__header__', '__version__', '__globals__', 'SampleName', 'resonator_number', 'total_qi', 'total_qi_pow'] \n",
      "\n",
      "--------- CoSi_25nm -----------\n",
      "resonator_number === [3]\n",
      "total_qi (1, 564) -len--> 564\n"
     ]
    }
   ],
   "source": [
    "mat = scipy.io.loadmat(initial_folder+\"\\\\\"+files[2])\n",
    "read_mat(mat)"
   ]
  },
  {
   "cell_type": "code",
   "execution_count": 130,
   "id": "1b997bbc",
   "metadata": {},
   "outputs": [],
   "source": [
    "total_qi = mat['total_qi'][0]\n",
    "total_qi_pow = mat['total_qi_pow'][0]"
   ]
  },
  {
   "cell_type": "code",
   "execution_count": 131,
   "id": "77650d43",
   "metadata": {},
   "outputs": [
    {
     "name": "stdout",
     "output_type": "stream",
     "text": [
      "Keys total: 3\n",
      "['__header__', '__version__', '__globals__', 'SampleName', 'resonator_number', 'temp_selected', 'pow_m_selected'] \n",
      "\n",
      "--------- CoSi_25nm -----------\n",
      "resonator_number === [3]\n",
      "temp_selected (1, 9980) -len--> 9980\n"
     ]
    }
   ],
   "source": [
    "mat = scipy.io.loadmat(initial_folder+\"\\\\\"+files[3])\n",
    "read_mat(mat)"
   ]
  },
  {
   "cell_type": "code",
   "execution_count": 135,
   "id": "d4448327",
   "metadata": {},
   "outputs": [],
   "source": [
    "temp_plot = mat['temp_selected'][0]\n",
    "pow_plot = mat['pow_m_selected'][0]"
   ]
  },
  {
   "cell_type": "code",
   "execution_count": 226,
   "id": "0344bc85",
   "metadata": {},
   "outputs": [
    {
     "data": {
      "image/png": "[encoded data removed]",
      "text/plain": [
       "<Figure size 792x360 with 3 Axes>"
      ]
     },
     "metadata": {
      "needs_background": "light"
     },
     "output_type": "display_data"
    }
   ],
   "source": [
    "fig, ax = plt.subplots(1, 2, figsize=(11,5))\n",
    "font = {'size'   : 15}\n",
    "matplotlib.rc('font', **font)\n",
    "\n",
    "ax[0].set_xlabel(r'$P_\\mathrm{m}$ (dBm)')\n",
    "ax[0].set_ylabel('$f_\\mathrm{m}$ (GHz)')\n",
    "ax[0].plot(power_merge-80, fr_merge, color='blue')\n",
    "\n",
    "ticks = np.linspace(min(fr_merge), max(fr_merge),5)\n",
    "ax[0].set_yticks(ticks, labels = np.array(np.round(ticks,4), dtype=str))\n",
    "\n",
    "ax2 = ax[0].twinx()\n",
    "\n",
    "\n",
    "ax2.set_ylabel('Quality factor, $Q_{int}\\cdot10^3$')\n",
    "ax2.plot(total_qi_pow-80, total_qi/1000, color='red')\n",
    "\n",
    "plt.savefig(initial_folder+\"\\\\\"+'fr_Qi_pow.png',  dpi=250, bbox_inches='tight')\n",
    "\n",
    "ax[0].text(-192, max(fr_merge), \"(a)\")\n",
    "\n",
    "\n",
    "ax[1].plot(temp_plot[:-7], pow_plot[:-7], marker = 'o', mfc = 'white', markersize = 1)\n",
    "\n",
    "\n",
    "ax[1].set_xscale('log')\n",
    "ax[1].set_ylabel(r'$P_\\mathrm{m}$ (dBm)')\n",
    "ax[1].set_xlabel('$T_\\mathrm{e}$ (mK)')\n",
    "\n",
    "\n",
    "\n",
    "ticks = [20, 40,  60,  100,  140,\n",
    "               200]\n",
    "ax[1].set_xticks(ticks, labels = [20, 40,  60,  100,  140,\n",
    "               200])\n",
    "ax[1].tick_params(direction='in', length=6, width=2,)\n",
    "ax[0].tick_params(direction='in', length=6, width=2,)\n",
    "ax2.tick_params(direction='in', length=6, width=2,)\n",
    "\n",
    "# ax[1].grid(True)\n",
    "\n",
    "# fit \n",
    "from scipy.optimize import curve_fit\n",
    "def linear_func(x, a, b):\n",
    "    return a * x + b\n",
    "\n",
    "def linear_fit(x, y):\n",
    "    popt, pcov = curve_fit(linear_func, x, y)\n",
    "    a = popt[0]\n",
    "    b = popt[1]\n",
    "    return a, b\n",
    "\n",
    "star = 500\n",
    "temp_selected = temp_plot[750:-star]\n",
    "pow_m_selected = pow_plot[750:-star]\n",
    "\n",
    "a, b = linear_fit(10*np.log10(temp_selected), pow_m_selected)\n",
    "ax[1].plot(temp_plot[0:-100], linear_func(10*np.log10(temp_plot[0:-100]), a, b), 'r')\n",
    "\n",
    "\n",
    "ax[1].text(20.5, -87, \"(b)\")\n",
    "# ax[1].legend(loc = 2)\n",
    "\n",
    "plt.subplots_adjust(wspace=0.65)\n",
    "\n",
    "plt.savefig(initial_folder+\"\\\\\"+'fr_Qi_pow.png',  dpi=250, bbox_inches='tight')\n",
    "plt.show()"
   ]
  },
  {
   "cell_type": "code",
   "execution_count": null,
   "id": "9c225032",
   "metadata": {},
   "outputs": [],
   "source": []
  }
 ],
 "metadata": {
  "kernelspec": {
   "display_name": "Python 3 (ipykernel)",
   "language": "python",
   "name": "python3"
  },
  "language_info": {
   "codemirror_mode": {
    "name": "ipython",
    "version": 3
   },
   "file_extension": ".py",
   "mimetype": "text/x-python",
   "name": "python",
   "nbconvert_exporter": "python",
   "pygments_lexer": "ipython3",
   "version": "3.9.12"
  }
 },
 "nbformat": 4,
 "nbformat_minor": 5
}
